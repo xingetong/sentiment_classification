{
 "cells": [
  {
   "cell_type": "markdown",
   "id": "ca3c73ab",
   "metadata": {},
   "source": [
    "# Import"
   ]
  },
  {
   "cell_type": "code",
   "execution_count": 1,
   "id": "23bdad1b",
   "metadata": {},
   "outputs": [
    {
     "data": {
      "application/javascript": [
       "if (!(\"Notification\" in window)) {\n",
       "    alert(\"This browser does not support desktop notifications, so the %%notify magic will not work.\");\n",
       "} else if (Notification.permission !== 'granted' && Notification.permission !== 'denied') {\n",
       "    Notification.requestPermission(function (permission) {\n",
       "        if(!('permission' in Notification)) {\n",
       "            Notification.permission = permission;\n",
       "        }\n",
       "    })\n",
       "}\n"
      ],
      "text/plain": [
       "<IPython.core.display.Javascript object>"
      ]
     },
     "metadata": {},
     "output_type": "display_data"
    }
   ],
   "source": [
    "import jupyternotify\n",
    "ip = get_ipython()\n",
    "ip.register_magics(jupyternotify.JupyterNotifyMagics)"
   ]
  },
  {
   "cell_type": "code",
   "execution_count": 2,
   "id": "66eb9419",
   "metadata": {},
   "outputs": [],
   "source": [
    "import os\n",
    "import torch\n",
    "from transformers import AutoModelForSequenceClassification, AutoTokenizer\n",
    "from sklearn.metrics import accuracy_score, precision_recall_fscore_support\n",
    "from transformers import Trainer, TrainingArguments\n",
    "from transformers import pipeline\n",
    "from datasets import concatenate_datasets, load_dataset\n",
    "from huggingface_hub import hf_hub_download\n",
    "import pandas as pd\n",
    "import matplotlib.pyplot as plt\n",
    "import numpy as np\n",
    "import datasets\n",
    "from datasets import Dataset, Value, ClassLabel, Features\n",
    "from sklearn.metrics import ConfusionMatrixDisplay, confusion_matrix\n",
    "# os.environ[\"CUDA_VISIBLE_DEVICES\"] = \"2\" \n",
    "from transformers import DataCollatorWithPadding\n",
    "import optuna\n",
    "from huggingface_hub import notebook_login"
   ]
  },
  {
   "cell_type": "markdown",
   "id": "6540e4ff",
   "metadata": {},
   "source": [
    "# Datasets"
   ]
  },
  {
   "cell_type": "code",
   "execution_count": 3,
   "id": "79ddbd09",
   "metadata": {},
   "outputs": [],
   "source": [
    "# lables value\n",
    "\n",
    "# 2 = positive\n",
    "# 1 = neutral\n",
    "# 0 = negative"
   ]
  },
  {
   "cell_type": "code",
   "execution_count": 4,
   "id": "25ed2842",
   "metadata": {},
   "outputs": [
    {
     "data": {
      "text/plain": [
       "DatasetDict({\n",
       "    train: Dataset({\n",
       "        features: ['text', 'label'],\n",
       "        num_rows: 1839\n",
       "    })\n",
       "    validation: Dataset({\n",
       "        features: ['text', 'label'],\n",
       "        num_rows: 324\n",
       "    })\n",
       "    test: Dataset({\n",
       "        features: ['text', 'label'],\n",
       "        num_rows: 870\n",
       "    })\n",
       "})"
      ]
     },
     "execution_count": 4,
     "metadata": {},
     "output_type": "execute_result"
    }
   ],
   "source": [
    "dataset_tweet= load_dataset(\"cardiffnlp/tweet_sentiment_multilingual\", \"english\")\n",
    "dataset_tweet"
   ]
  },
  {
   "cell_type": "code",
   "execution_count": 5,
   "id": "669f5dd3",
   "metadata": {},
   "outputs": [
    {
     "data": {
      "text/plain": [
       "Dataset({\n",
       "    features: ['text', 'label'],\n",
       "    num_rows: 3033\n",
       "})"
      ]
     },
     "execution_count": 5,
     "metadata": {},
     "output_type": "execute_result"
    }
   ],
   "source": [
    "dataset_tweet_cc = concatenate_datasets([dataset_tweet['train'], dataset_tweet['validation'],dataset_tweet['test']])\n",
    "dataset_tweet_cc"
   ]
  },
  {
   "cell_type": "code",
   "execution_count": 6,
   "id": "e5b85ee6",
   "metadata": {},
   "outputs": [],
   "source": [
    "dataset_mteb = load_dataset(\"mteb/tweet_sentiment_extraction\")"
   ]
  },
  {
   "cell_type": "code",
   "execution_count": 7,
   "id": "674dab85",
   "metadata": {},
   "outputs": [
    {
     "data": {
      "text/plain": [
       "DatasetDict({\n",
       "    train: Dataset({\n",
       "        features: ['id', 'text', 'label', 'label_text'],\n",
       "        num_rows: 27481\n",
       "    })\n",
       "    test: Dataset({\n",
       "        features: ['id', 'text', 'label', 'label_text'],\n",
       "        num_rows: 3534\n",
       "    })\n",
       "})"
      ]
     },
     "execution_count": 7,
     "metadata": {},
     "output_type": "execute_result"
    }
   ],
   "source": [
    "dataset_mteb"
   ]
  },
  {
   "cell_type": "code",
   "execution_count": 8,
   "id": "d92f57db",
   "metadata": {},
   "outputs": [
    {
     "data": {
      "text/plain": [
       "Dataset({\n",
       "    features: ['id', 'text', 'label', 'label_text'],\n",
       "    num_rows: 31015\n",
       "})"
      ]
     },
     "execution_count": 8,
     "metadata": {},
     "output_type": "execute_result"
    }
   ],
   "source": [
    "dataset_mteb_cc = concatenate_datasets([dataset_mteb['train'], dataset_mteb['test']])\n",
    "dataset_mteb_cc"
   ]
  },
  {
   "cell_type": "code",
   "execution_count": 9,
   "id": "e31d2c61",
   "metadata": {},
   "outputs": [
    {
     "data": {
      "text/plain": [
       "Dataset({\n",
       "    features: ['text', 'label'],\n",
       "    num_rows: 31015\n",
       "})"
      ]
     },
     "execution_count": 9,
     "metadata": {},
     "output_type": "execute_result"
    }
   ],
   "source": [
    "dataset_mteb_cc=dataset_mteb_cc.remove_columns('label_text')\n",
    "dataset_mteb_cc=dataset_mteb_cc.remove_columns('id')\n",
    "\n",
    "dataset_mteb_cc"
   ]
  },
  {
   "cell_type": "code",
   "execution_count": 10,
   "id": "54c9787d",
   "metadata": {},
   "outputs": [
    {
     "data": {
      "text/plain": [
       "{'text': Value(dtype='string', id=None),\n",
       " 'label': ClassLabel(names=['negative', 'neutral', 'positive'], id=None)}"
      ]
     },
     "execution_count": 10,
     "metadata": {},
     "output_type": "execute_result"
    }
   ],
   "source": [
    "dataset_tweet_cc.features"
   ]
  },
  {
   "cell_type": "code",
   "execution_count": 11,
   "id": "0b751c6d",
   "metadata": {},
   "outputs": [
    {
     "data": {
      "text/plain": [
       "{'text': Value(dtype='string', id=None),\n",
       " 'label': Value(dtype='int64', id=None)}"
      ]
     },
     "execution_count": 11,
     "metadata": {},
     "output_type": "execute_result"
    }
   ],
   "source": [
    "dataset_mteb_cc.features"
   ]
  },
  {
   "cell_type": "code",
   "execution_count": 12,
   "id": "74f83c14",
   "metadata": {},
   "outputs": [],
   "source": [
    "features = dataset_mteb_cc.features.copy()\n",
    "features[\"label\"] = ClassLabel(names=['negative', 'neutral', 'positive'])\n",
    "def adjust_labels(batch):\n",
    "    batch[\"label\"] = [dataset_mteb_cc for dataset_mteb_cc in batch[\"label\"]]\n",
    "    return batch\n",
    "label_dataset = dataset_mteb_cc.map(adjust_labels, batched=True, features=features)"
   ]
  },
  {
   "cell_type": "code",
   "execution_count": 13,
   "id": "50b9eecb",
   "metadata": {},
   "outputs": [
    {
     "data": {
      "text/plain": [
       "{'text': Value(dtype='string', id=None),\n",
       " 'label': ClassLabel(names=['negative', 'neutral', 'positive'], id=None)}"
      ]
     },
     "execution_count": 13,
     "metadata": {},
     "output_type": "execute_result"
    }
   ],
   "source": [
    "label_dataset.features"
   ]
  },
  {
   "cell_type": "code",
   "execution_count": 14,
   "id": "fd3ccea7",
   "metadata": {},
   "outputs": [
    {
     "data": {
      "text/plain": [
       "Dataset({\n",
       "    features: ['text', 'label'],\n",
       "    num_rows: 34048\n",
       "})"
      ]
     },
     "execution_count": 14,
     "metadata": {},
     "output_type": "execute_result"
    }
   ],
   "source": [
    "dataset_cc = concatenate_datasets([label_dataset, dataset_tweet_cc])\n",
    "dataset_cc"
   ]
  },
  {
   "cell_type": "markdown",
   "id": "c9419872",
   "metadata": {},
   "source": [
    "## split "
   ]
  },
  {
   "cell_type": "code",
   "execution_count": 15,
   "id": "b701a5be",
   "metadata": {},
   "outputs": [
    {
     "data": {
      "text/plain": [
       "DatasetDict({\n",
       "    train: Dataset({\n",
       "        features: ['text', 'label'],\n",
       "        num_rows: 27238\n",
       "    })\n",
       "    test: Dataset({\n",
       "        features: ['text', 'label'],\n",
       "        num_rows: 6810\n",
       "    })\n",
       "})"
      ]
     },
     "execution_count": 15,
     "metadata": {},
     "output_type": "execute_result"
    }
   ],
   "source": [
    "ds = dataset_cc.train_test_split(test_size=0.2, stratify_by_column=\"label\")\n",
    "ds"
   ]
  },
  {
   "cell_type": "code",
   "execution_count": 16,
   "id": "f7de3cb2",
   "metadata": {},
   "outputs": [
    {
     "name": "stdout",
     "output_type": "stream",
     "text": [
      "Dataset({\n",
      "    features: ['text', 'label'],\n",
      "    num_rows: 27238\n",
      "})\n",
      "Dataset({\n",
      "    features: ['text', 'label'],\n",
      "    num_rows: 6810\n",
      "})\n"
     ]
    }
   ],
   "source": [
    "train_dataset = ds['train']\n",
    "validation_dataset = ds['test']\n",
    "print(train_dataset)\n",
    "print(validation_dataset)"
   ]
  },
  {
   "cell_type": "markdown",
   "id": "2c33e9bf",
   "metadata": {},
   "source": [
    "## test dataset"
   ]
  },
  {
   "cell_type": "code",
   "execution_count": 17,
   "id": "b065ed44",
   "metadata": {},
   "outputs": [
    {
     "data": {
      "application/vnd.jupyter.widget-view+json": {
       "model_id": "e8c02719b1ef46329f802ab16e2478b0",
       "version_major": 2,
       "version_minor": 0
      },
      "text/plain": [
       "VBox(children=(HTML(value='<center> <img\\nsrc=https://huggingface.co/front/assets/huggingface_logo-noborder.sv…"
      ]
     },
     "metadata": {},
     "output_type": "display_data"
    }
   ],
   "source": [
    "notebook_login()"
   ]
  },
  {
   "cell_type": "code",
   "execution_count": 18,
   "id": "f3e59e1a",
   "metadata": {},
   "outputs": [
    {
     "name": "stdout",
     "output_type": "stream",
     "text": [
      "DatasetDict({\n",
      "    test: Dataset({\n",
      "        features: ['sequence', 'labels', 'labels_five', 'labels_three', 'labels_three_2p'],\n",
      "        num_rows: 1700\n",
      "    })\n",
      "})\n"
     ]
    }
   ],
   "source": [
    "raw_dataset=load_dataset(\"HFFErica/sentimentanalysis\")\n",
    "print(raw_dataset)"
   ]
  },
  {
   "cell_type": "code",
   "execution_count": 19,
   "id": "43f02fff",
   "metadata": {},
   "outputs": [],
   "source": [
    "features = raw_dataset[\"test\"].features.copy()\n",
    "features[\"labels_three_2p\"] = ClassLabel(names=['negative', 'neutral', 'positive'])\n",
    "def adjust_labels(batch):\n",
    "    batch[\"labels_three_2p\"] = [test for test in batch[\"labels_three_2p\"]]\n",
    "    return batch\n",
    "label_dataset = raw_dataset.map(adjust_labels, batched=True, features=features)"
   ]
  },
  {
   "cell_type": "code",
   "execution_count": 20,
   "id": "6a9494ad",
   "metadata": {},
   "outputs": [
    {
     "data": {
      "text/plain": [
       "{'sequence': Value(dtype='string', id=None),\n",
       " 'labels': Value(dtype='string', id=None),\n",
       " 'labels_five': Value(dtype='int64', id=None),\n",
       " 'labels_three': Value(dtype='int64', id=None),\n",
       " 'labels_three_2p': ClassLabel(names=['negative', 'neutral', 'positive'], id=None)}"
      ]
     },
     "execution_count": 20,
     "metadata": {},
     "output_type": "execute_result"
    }
   ],
   "source": [
    "label_dataset[\"test\"].features"
   ]
  },
  {
   "cell_type": "code",
   "execution_count": 21,
   "id": "39c5af60",
   "metadata": {},
   "outputs": [
    {
     "data": {
      "text/plain": [
       "DatasetDict({\n",
       "    train: Dataset({\n",
       "        features: ['sequence', 'labels', 'labels_five', 'labels_three', 'labels_three_2p'],\n",
       "        num_rows: 1000\n",
       "    })\n",
       "    test: Dataset({\n",
       "        features: ['sequence', 'labels', 'labels_five', 'labels_three', 'labels_three_2p'],\n",
       "        num_rows: 700\n",
       "    })\n",
       "})"
      ]
     },
     "execution_count": 21,
     "metadata": {},
     "output_type": "execute_result"
    }
   ],
   "source": [
    "label_dataset_split = label_dataset['test'].train_test_split(test_size=0.4112, stratify_by_column=\"labels_three_2p\")\n",
    "label_dataset_split"
   ]
  },
  {
   "cell_type": "markdown",
   "id": "910db8c7",
   "metadata": {},
   "source": [
    "### test dataset groups"
   ]
  },
  {
   "cell_type": "code",
   "execution_count": 22,
   "id": "fba4b98d",
   "metadata": {},
   "outputs": [
    {
     "data": {
      "text/plain": [
       "Dataset({\n",
       "    features: ['sequence', 'labels', 'labels_five', 'labels_three', 'labels_three_2p'],\n",
       "    num_rows: 1000\n",
       "})"
      ]
     },
     "execution_count": 22,
     "metadata": {},
     "output_type": "execute_result"
    }
   ],
   "source": [
    "test_dataset=label_dataset_split['train']\n",
    "test_dataset"
   ]
  },
  {
   "cell_type": "code",
   "execution_count": 23,
   "id": "47260042",
   "metadata": {},
   "outputs": [
    {
     "data": {
      "text/plain": [
       "Dataset({\n",
       "    features: ['sequence', 'labels', 'labels_five', 'labels_three', 'labels_three_2p'],\n",
       "    num_rows: 700\n",
       "})"
      ]
     },
     "execution_count": 23,
     "metadata": {},
     "output_type": "execute_result"
    }
   ],
   "source": [
    "pretrain_test_dataset=label_dataset_split['test']\n",
    "pretrain_test_dataset"
   ]
  },
  {
   "cell_type": "code",
   "execution_count": 24,
   "id": "6f11a6a0",
   "metadata": {},
   "outputs": [
    {
     "data": {
      "text/plain": [
       "{'sequence': Value(dtype='string', id=None),\n",
       " 'labels': Value(dtype='string', id=None),\n",
       " 'labels_five': Value(dtype='int64', id=None),\n",
       " 'labels_three': Value(dtype='int64', id=None),\n",
       " 'labels_three_2p': ClassLabel(names=['negative', 'neutral', 'positive'], id=None)}"
      ]
     },
     "execution_count": 24,
     "metadata": {},
     "output_type": "execute_result"
    }
   ],
   "source": [
    "test_dataset.features"
   ]
  },
  {
   "cell_type": "markdown",
   "id": "e901e900",
   "metadata": {},
   "source": [
    "## label balance"
   ]
  },
  {
   "cell_type": "code",
   "execution_count": 25,
   "id": "bd346083",
   "metadata": {},
   "outputs": [
    {
     "data": {
      "text/plain": [
       "<Axes: ylabel='count'>"
      ]
     },
     "execution_count": 25,
     "metadata": {},
     "output_type": "execute_result"
    },
    {
     "data": {
      "image/png": "[encoded data removed]",
      "text/plain": [
       "<Figure size 640x480 with 1 Axes>"
      ]
     },
     "metadata": {},
     "output_type": "display_data"
    }
   ],
   "source": [
    "df_train = train_dataset.to_pandas()\n",
    "df_train.label.value_counts().plot(kind = 'pie', autopct=\"%.2f\")"
   ]
  },
  {
   "cell_type": "code",
   "execution_count": 26,
   "id": "be32366f",
   "metadata": {},
   "outputs": [
    {
     "data": {
      "text/plain": [
       "<Axes: ylabel='count'>"
      ]
     },
     "execution_count": 26,
     "metadata": {},
     "output_type": "execute_result"
    },
    {
     "data": {
      "image/png": "[encoded data removed]",
      "text/plain": [
       "<Figure size 640x480 with 1 Axes>"
      ]
     },
     "metadata": {},
     "output_type": "display_data"
    }
   ],
   "source": [
    "df_validation = validation_dataset.to_pandas()\n",
    "df_validation.label.value_counts().plot(kind = 'pie', autopct=\"%.2f\")"
   ]
  },
  {
   "cell_type": "code",
   "execution_count": 27,
   "id": "71f7b397",
   "metadata": {},
   "outputs": [
    {
     "data": {
      "text/plain": [
       "<Axes: ylabel='count'>"
      ]
     },
     "execution_count": 27,
     "metadata": {},
     "output_type": "execute_result"
    },
    {
     "data": {
      "image/png": "[encoded data removed]",
      "text/plain": [
       "<Figure size 640x480 with 1 Axes>"
      ]
     },
     "metadata": {},
     "output_type": "display_data"
    }
   ],
   "source": [
    "df_test = test_dataset.to_pandas()\n",
    "df_test.labels_three_2p.value_counts().plot(kind = 'pie', autopct=\"%.2f\")"
   ]
  },
  {
   "cell_type": "code",
   "execution_count": 28,
   "id": "3a1107be",
   "metadata": {},
   "outputs": [
    {
     "data": {
      "text/plain": [
       "<Axes: ylabel='count'>"
      ]
     },
     "execution_count": 28,
     "metadata": {},
     "output_type": "execute_result"
    },
    {
     "data": {
      "image/png": "[encoded data removed]",
      "text/plain": [
       "<Figure size 640x480 with 1 Axes>"
      ]
     },
     "metadata": {},
     "output_type": "display_data"
    }
   ],
   "source": [
    "df_pretest = pretrain_test_dataset.to_pandas()\n",
    "df_pretest.labels_three_2p.value_counts().plot(kind = 'pie', autopct=\"%.2f\")"
   ]
  },
  {
   "cell_type": "markdown",
   "id": "75e04e5f",
   "metadata": {},
   "source": [
    "## Map"
   ]
  },
  {
   "cell_type": "code",
   "execution_count": 29,
   "id": "f15222ae",
   "metadata": {},
   "outputs": [
    {
     "name": "stdout",
     "output_type": "stream",
     "text": [
      "Dataset({\n",
      "    features: ['text', 'label'],\n",
      "    num_rows: 27238\n",
      "})\n",
      "Dataset({\n",
      "    features: ['text', 'label'],\n",
      "    num_rows: 6810\n",
      "})\n",
      "Dataset({\n",
      "    features: ['sequence', 'labels', 'labels_five', 'labels_three', 'labels_three_2p'],\n",
      "    num_rows: 1000\n",
      "})\n",
      "Dataset({\n",
      "    features: ['sequence', 'labels', 'labels_five', 'labels_three', 'labels_three_2p'],\n",
      "    num_rows: 700\n",
      "})\n"
     ]
    }
   ],
   "source": [
    "print(train_dataset)\n",
    "print(validation_dataset)\n",
    "print(test_dataset)\n",
    "print(pretrain_test_dataset)"
   ]
  },
  {
   "cell_type": "code",
   "execution_count": 30,
   "id": "2f3939cd",
   "metadata": {},
   "outputs": [
    {
     "data": {
      "application/vnd.jupyter.widget-view+json": {
       "model_id": "e842d3e6d3b64b85a6e0e4983688f163",
       "version_major": 2,
       "version_minor": 0
      },
      "text/plain": [
       "Map:   0%|          | 0/27238 [00:00<?, ? examples/s]"
      ]
     },
     "metadata": {},
     "output_type": "display_data"
    },
    {
     "data": {
      "application/vnd.jupyter.widget-view+json": {
       "model_id": "b399b8bc8ffe4a06bb3297fcc3f9c691",
       "version_major": 2,
       "version_minor": 0
      },
      "text/plain": [
       "Map:   0%|          | 0/6810 [00:00<?, ? examples/s]"
      ]
     },
     "metadata": {},
     "output_type": "display_data"
    },
    {
     "data": {
      "application/vnd.jupyter.widget-view+json": {
       "model_id": "4582e8f71c3d4b8e8acc3c69e413e568",
       "version_major": 2,
       "version_minor": 0
      },
      "text/plain": [
       "Map:   0%|          | 0/1000 [00:00<?, ? examples/s]"
      ]
     },
     "metadata": {},
     "output_type": "display_data"
    }
   ],
   "source": [
    "train_dataset = train_dataset.map(lambda examples: {'labels': examples['label']}, batched=True)\n",
    "validation_dataset = validation_dataset.map(lambda examples: {'labels': examples['label']}, batched=True)\n",
    "test_dataset = test_dataset.map(lambda examples: {'labels': examples['labels_three_2p']}, batched=True)"
   ]
  },
  {
   "cell_type": "markdown",
   "id": "157301c2",
   "metadata": {},
   "source": [
    "# Model "
   ]
  },
  {
   "cell_type": "code",
   "execution_count": 31,
   "id": "df4c1e73",
   "metadata": {},
   "outputs": [
    {
     "name": "stderr",
     "output_type": "stream",
     "text": [
      "Some weights of the model checkpoint at cardiffnlp/twitter-roberta-base-sentiment-latest were not used when initializing RobertaForSequenceClassification: ['roberta.pooler.dense.weight', 'roberta.pooler.dense.bias']\n",
      "- This IS expected if you are initializing RobertaForSequenceClassification from the checkpoint of a model trained on another task or with another architecture (e.g. initializing a BertForSequenceClassification model from a BertForPreTraining model).\n",
      "- This IS NOT expected if you are initializing RobertaForSequenceClassification from the checkpoint of a model that you expect to be exactly identical (initializing a BertForSequenceClassification model from a BertForSequenceClassification model).\n"
     ]
    },
    {
     "data": {
      "text/plain": [
       "RobertaConfig {\n",
       "  \"_name_or_path\": \"cardiffnlp/twitter-roberta-base-sentiment-latest\",\n",
       "  \"architectures\": [\n",
       "    \"RobertaForSequenceClassification\"\n",
       "  ],\n",
       "  \"attention_probs_dropout_prob\": 0.1,\n",
       "  \"bos_token_id\": 0,\n",
       "  \"classifier_dropout\": null,\n",
       "  \"eos_token_id\": 2,\n",
       "  \"gradient_checkpointing\": false,\n",
       "  \"hidden_act\": \"gelu\",\n",
       "  \"hidden_dropout_prob\": 0.1,\n",
       "  \"hidden_size\": 768,\n",
       "  \"id2label\": {\n",
       "    \"0\": \"negative\",\n",
       "    \"1\": \"neutral\",\n",
       "    \"2\": \"positive\"\n",
       "  },\n",
       "  \"initializer_range\": 0.02,\n",
       "  \"intermediate_size\": 3072,\n",
       "  \"label2id\": {\n",
       "    \"negative\": 0,\n",
       "    \"neutral\": 1,\n",
       "    \"positive\": 2\n",
       "  },\n",
       "  \"layer_norm_eps\": 1e-05,\n",
       "  \"max_position_embeddings\": 514,\n",
       "  \"model_type\": \"roberta\",\n",
       "  \"num_attention_heads\": 12,\n",
       "  \"num_hidden_layers\": 12,\n",
       "  \"pad_token_id\": 1,\n",
       "  \"position_embedding_type\": \"absolute\",\n",
       "  \"torch_dtype\": \"float32\",\n",
       "  \"transformers_version\": \"4.34.0\",\n",
       "  \"type_vocab_size\": 1,\n",
       "  \"use_cache\": true,\n",
       "  \"vocab_size\": 50265\n",
       "}"
      ]
     },
     "execution_count": 31,
     "metadata": {},
     "output_type": "execute_result"
    }
   ],
   "source": [
    "model_id=\"cardiffnlp/twitter-roberta-base-sentiment-latest\"\n",
    "\n",
    "\n",
    "\n",
    "# label2id = {\"positive\": 2, \"neutral\": 1,\"negative\":0}\n",
    "\n",
    "# 2 = positive\n",
    "# 1 = neutral\n",
    "# 0 = negative\n",
    "\n",
    "model = AutoModelForSequenceClassification.from_pretrained(model_id, \n",
    "                                                           num_labels=train_dataset.features[\"label\"].num_classes,\n",
    "#                                                            id2label=label2id,\n",
    "                                                          ignore_mismatched_sizes=True)\n",
    "tokenizer = AutoTokenizer.from_pretrained(model_id)\n",
    "model.config"
   ]
  },
  {
   "cell_type": "code",
   "execution_count": 32,
   "id": "cd75e9b5",
   "metadata": {},
   "outputs": [
    {
     "data": {
      "application/vnd.jupyter.widget-view+json": {
       "model_id": "a174bf2bf1e6404a84e1a65af1ddddce",
       "version_major": 2,
       "version_minor": 0
      },
      "text/plain": [
       "Map:   0%|          | 0/27238 [00:00<?, ? examples/s]"
      ]
     },
     "metadata": {},
     "output_type": "display_data"
    },
    {
     "data": {
      "application/vnd.jupyter.widget-view+json": {
       "model_id": "e5000cafb9634423aad9648e7a8e96ad",
       "version_major": 2,
       "version_minor": 0
      },
      "text/plain": [
       "Map:   0%|          | 0/6810 [00:00<?, ? examples/s]"
      ]
     },
     "metadata": {},
     "output_type": "display_data"
    },
    {
     "data": {
      "application/vnd.jupyter.widget-view+json": {
       "model_id": "22bc1dd22fea4d51a4993afb8f641c74",
       "version_major": 2,
       "version_minor": 0
      },
      "text/plain": [
       "Map:   0%|          | 0/1000 [00:00<?, ? examples/s]"
      ]
     },
     "metadata": {},
     "output_type": "display_data"
    }
   ],
   "source": [
    "MAX_LENGTH = 256\n",
    "train_dataset = train_dataset.map(lambda e: tokenizer(e['text'], truncation=True, padding='max_length', max_length=MAX_LENGTH), batched=True)\n",
    "validation_dataset = validation_dataset.map(lambda e: tokenizer(e['text'], truncation=True, padding='max_length', max_length=MAX_LENGTH), batched=True)\n",
    "test_dataset = test_dataset.map(lambda e: tokenizer(e['sequence'], truncation=True, padding='max_length', max_length=MAX_LENGTH), batched=True)"
   ]
  },
  {
   "cell_type": "code",
   "execution_count": 33,
   "id": "6f5e1b88",
   "metadata": {},
   "outputs": [
    {
     "data": {
      "text/plain": [
       "{'text': Value(dtype='string', id=None),\n",
       " 'label': ClassLabel(names=['negative', 'neutral', 'positive'], id=None),\n",
       " 'labels': Value(dtype='int64', id=None),\n",
       " 'input_ids': Sequence(feature=Value(dtype='int32', id=None), length=-1, id=None),\n",
       " 'attention_mask': Sequence(feature=Value(dtype='int8', id=None), length=-1, id=None)}"
      ]
     },
     "execution_count": 33,
     "metadata": {},
     "output_type": "execute_result"
    }
   ],
   "source": [
    "train_dataset.features"
   ]
  },
  {
   "cell_type": "code",
   "execution_count": 34,
   "id": "e5650184",
   "metadata": {},
   "outputs": [],
   "source": [
    "# train_dataset.set_format(type='torch', columns=['input_ids','token_type_ids', 'attention_mask', 'labels'])\n",
    "# validation_dataset.set_format(type='torch', columns=['input_ids', 'token_type_ids', 'attention_mask', 'labels'])\n",
    "# test_dataset.set_format(type='torch', columns=['input_ids', 'token_type_ids', 'attention_mask', 'labels'])\n",
    "\n",
    "\n",
    "train_dataset.set_format(type='torch', columns=['input_ids', 'attention_mask', 'labels'])\n",
    "validation_dataset.set_format(type='torch', columns=['input_ids',  'attention_mask', 'labels'])\n",
    "test_dataset.set_format(type='torch', columns=['input_ids', 'attention_mask', 'labels'])"
   ]
  },
  {
   "cell_type": "code",
   "execution_count": 35,
   "id": "da740775",
   "metadata": {},
   "outputs": [],
   "source": [
    "def compute_metrics(pred):\n",
    "    labels = pred.label_ids\n",
    "    preds = pred.predictions.argmax(-1)\n",
    "    precision, recall, f1, _ = precision_recall_fscore_support(labels, preds, average='macro')\n",
    "    acc = accuracy_score(labels, preds)\n",
    "    return {\n",
    "        'accuracy': acc,\n",
    "        'f1': f1,\n",
    "        'precision': precision,\n",
    "        'recall': recall\n",
    "    }"
   ]
  },
  {
   "cell_type": "markdown",
   "id": "eaf5772d",
   "metadata": {
    "heading_collapsed": true
   },
   "source": [
    "# hyperparameter search"
   ]
  },
  {
   "cell_type": "code",
   "execution_count": 36,
   "id": "ef9b699a",
   "metadata": {
    "hidden": true
   },
   "outputs": [],
   "source": [
    "def model_init():\n",
    "    return AutoModelForSequenceClassification.from_pretrained(model_id, return_dict=True)"
   ]
  },
  {
   "cell_type": "code",
   "execution_count": 37,
   "id": "05079a6f",
   "metadata": {
    "hidden": true
   },
   "outputs": [
    {
     "name": "stderr",
     "output_type": "stream",
     "text": [
      "Some weights of the model checkpoint at cardiffnlp/twitter-roberta-base-sentiment-latest were not used when initializing RobertaForSequenceClassification: ['roberta.pooler.dense.weight', 'roberta.pooler.dense.bias']\n",
      "- This IS expected if you are initializing RobertaForSequenceClassification from the checkpoint of a model trained on another task or with another architecture (e.g. initializing a BertForSequenceClassification model from a BertForPreTraining model).\n",
      "- This IS NOT expected if you are initializing RobertaForSequenceClassification from the checkpoint of a model that you expect to be exactly identical (initializing a BertForSequenceClassification model from a BertForSequenceClassification model).\n"
     ]
    }
   ],
   "source": [
    "training_args = TrainingArguments(\"test\",  eval_steps=500, disable_tqdm=True, do_eval=True, evaluation_strategy='steps')\n",
    "trainer = Trainer(\n",
    "    args=training_args,\n",
    "    data_collator=DataCollatorWithPadding(tokenizer),\n",
    "    train_dataset=train_dataset, \n",
    "    eval_dataset=validation_dataset, \n",
    "    model_init=model_init,\n",
    "    compute_metrics=compute_metrics,\n",
    ")"
   ]
  },
  {
   "cell_type": "code",
   "execution_count": 39,
   "id": "c9d842eb",
   "metadata": {
    "hidden": true
   },
   "outputs": [],
   "source": [
    "def my_hp_space(trial):\n",
    "    return {\n",
    "        \"learning_rate\": trial.suggest_float(\"learning_rate\", 1e-6, 1e-3, log=True),\n",
    "        \"num_train_epochs\": trial.suggest_int(\"num_train_epochs\", 1, 5),\n",
    "#         \"seed\": trial.suggest_int(\"seed\", 1, 40),\n",
    "        \"per_device_train_batch_size\": trial.suggest_categorical(\"per_device_train_batch_size\", [16, 24, 32, 36, 40, 48,56, 64,72]),\n",
    "    }"
   ]
  },
  {
   "cell_type": "code",
   "execution_count": 40,
   "id": "7d7e6d72",
   "metadata": {
    "hidden": true,
    "scrolled": false
   },
   "outputs": [
    {
     "name": "stderr",
     "output_type": "stream",
     "text": [
      "[I 2023-12-07 16:48:38,256] A new study created in memory with name: no-name-aa0dca1a-e66f-4b6a-9e9f-1bf304e7a846\n",
      "Some weights of the model checkpoint at cardiffnlp/twitter-roberta-base-sentiment-latest were not used when initializing RobertaForSequenceClassification: ['roberta.pooler.dense.weight', 'roberta.pooler.dense.bias']\n",
      "- This IS expected if you are initializing RobertaForSequenceClassification from the checkpoint of a model trained on another task or with another architecture (e.g. initializing a BertForSequenceClassification model from a BertForPreTraining model).\n",
      "- This IS NOT expected if you are initializing RobertaForSequenceClassification from the checkpoint of a model that you expect to be exactly identical (initializing a BertForSequenceClassification model from a BertForSequenceClassification model).\n",
      "\u001b[34m\u001b[1mwandb\u001b[0m: Currently logged in as: \u001b[33mericat\u001b[0m. Use \u001b[1m`wandb login --relogin`\u001b[0m to force relogin\n"
     ]
    },
    {
     "data": {
      "text/html": [
       "wandb version 0.16.1 is available!  To upgrade, please run:\n",
       " $ pip install wandb --upgrade"
      ],
      "text/plain": [
       "<IPython.core.display.HTML object>"
      ]
     },
     "metadata": {},
     "output_type": "display_data"
    },
    {
     "data": {
      "text/html": [
       "Tracking run with wandb version 0.16.0"
      ],
      "text/plain": [
       "<IPython.core.display.HTML object>"
      ]
     },
     "metadata": {},
     "output_type": "display_data"
    },
    {
     "data": {
      "text/html": [
       "Run data is saved locally in <code>D:\\Projects\\Jupyter\\Sentiment analysis\\04DEC\\wandb\\run-20231207_164906-kskqg97y</code>"
      ],
      "text/plain": [
       "<IPython.core.display.HTML object>"
      ]
     },
     "metadata": {},
     "output_type": "display_data"
    },
    {
     "data": {
      "text/html": [
       "Syncing run <strong><a href='https://wandb.ai/ericat/huggingface/runs/kskqg97y' target=\"_blank\">lunar-sponge-549</a></strong> to <a href='https://wandb.ai/ericat/huggingface' target=\"_blank\">Weights & Biases</a> (<a href='https://wandb.me/run' target=\"_blank\">docs</a>)<br/>"
      ],
      "text/plain": [
       "<IPython.core.display.HTML object>"
      ]
     },
     "metadata": {},
     "output_type": "display_data"
    },
    {
     "data": {
      "text/html": [
       " View project at <a href='https://wandb.ai/ericat/huggingface' target=\"_blank\">https://wandb.ai/ericat/huggingface</a>"
      ],
      "text/plain": [
       "<IPython.core.display.HTML object>"
      ]
     },
     "metadata": {},
     "output_type": "display_data"
    },
    {
     "data": {
      "text/html": [
       " View run at <a href='https://wandb.ai/ericat/huggingface/runs/kskqg97y' target=\"_blank\">https://wandb.ai/ericat/huggingface/runs/kskqg97y</a>"
      ],
      "text/plain": [
       "<IPython.core.display.HTML object>"
      ]
     },
     "metadata": {},
     "output_type": "display_data"
    },
    {
     "name": "stderr",
     "output_type": "stream",
     "text": [
      "You're using a RobertaTokenizerFast tokenizer. Please note that with a fast tokenizer, using the `__call__` method is faster than using a method to encode the text followed by a call to the `pad` method to get a padded encoding.\n"
     ]
    },
    {
     "name": "stdout",
     "output_type": "stream",
     "text": [
      "{'loss': 0.6241, 'learning_rate': 7.77514609743673e-05, 'epoch': 0.66}\n",
      "{'eval_loss': 0.5479660034179688, 'eval_accuracy': 0.7709251101321586, 'eval_f1': 0.7742214802071455, 'eval_precision': 0.7710480542679701, 'eval_recall': 0.7800798432726271, 'eval_runtime': 39.482, 'eval_samples_per_second': 172.484, 'eval_steps_per_second': 21.579, 'epoch': 0.66}\n",
      "{'loss': 0.4719, 'learning_rate': 3.9412476273002754e-05, 'epoch': 1.32}\n",
      "{'eval_loss': 0.5646504759788513, 'eval_accuracy': 0.7864904552129222, 'eval_f1': 0.790042716757594, 'eval_precision': 0.7900333570554386, 'eval_recall': 0.7901591490841282, 'eval_runtime': 39.3589, 'eval_samples_per_second': 173.023, 'eval_steps_per_second': 21.647, 'epoch': 1.32}\n",
      "{'loss': 0.3706, 'learning_rate': 1.0734915716382076e-06, 'epoch': 1.98}\n",
      "{'eval_loss': 0.5449013113975525, 'eval_accuracy': 0.7895741556534508, 'eval_f1': 0.7930561994553488, 'eval_precision': 0.7913443737511291, 'eval_recall': 0.7952212476813791, 'eval_runtime': 39.3286, 'eval_samples_per_second': 173.156, 'eval_steps_per_second': 21.664, 'epoch': 1.98}\n",
      "{'train_runtime': 2010.0254, 'train_samples_per_second': 27.102, 'train_steps_per_second': 0.753, 'train_loss': 0.4871368773547315, 'epoch': 2.0}\n"
     ]
    },
    {
     "name": "stderr",
     "output_type": "stream",
     "text": [
      "[I 2023-12-07 17:22:30,269] Trial 0 finished with value: 3.169195976541308 and parameters: {'learning_rate': 0.00011609044567573186, 'num_train_epochs': 2, 'per_device_train_batch_size': 36}. Best is trial 0 with value: 3.169195976541308.\n",
      "Some weights of the model checkpoint at cardiffnlp/twitter-roberta-base-sentiment-latest were not used when initializing RobertaForSequenceClassification: ['roberta.pooler.dense.weight', 'roberta.pooler.dense.bias']\n",
      "- This IS expected if you are initializing RobertaForSequenceClassification from the checkpoint of a model trained on another task or with another architecture (e.g. initializing a BertForSequenceClassification model from a BertForPreTraining model).\n",
      "- This IS NOT expected if you are initializing RobertaForSequenceClassification from the checkpoint of a model that you expect to be exactly identical (initializing a BertForSequenceClassification model from a BertForSequenceClassification model).\n"
     ]
    },
    {
     "data": {
      "application/vnd.jupyter.widget-view+json": {
       "model_id": "",
       "version_major": 2,
       "version_minor": 0
      },
      "text/plain": [
       "VBox(children=(Label(value='0.001 MB of 0.001 MB uploaded\\r'), FloatProgress(value=1.0, max=1.0)))"
      ]
     },
     "metadata": {},
     "output_type": "display_data"
    },
    {
     "data": {
      "text/html": [
       "<style>\n",
       "    table.wandb td:nth-child(1) { padding: 0 10px; text-align: left ; width: auto;} td:nth-child(2) {text-align: left ; width: 100%}\n",
       "    .wandb-row { display: flex; flex-direction: row; flex-wrap: wrap; justify-content: flex-start; width: 100% }\n",
       "    .wandb-col { display: flex; flex-direction: column; flex-basis: 100%; flex: 1; padding: 10px; }\n",
       "    </style>\n",
       "<div class=\"wandb-row\"><div class=\"wandb-col\"><h3>Run history:</h3><br/><table class=\"wandb\"><tr><td>eval/accuracy</td><td>▁▇█</td></tr><tr><td>eval/f1</td><td>▁▇█</td></tr><tr><td>eval/loss</td><td>▂█▁</td></tr><tr><td>eval/precision</td><td>▁██</td></tr><tr><td>eval/recall</td><td>▁▆█</td></tr><tr><td>eval/runtime</td><td>█▂▁</td></tr><tr><td>eval/samples_per_second</td><td>▁▇█</td></tr><tr><td>eval/steps_per_second</td><td>▁▇█</td></tr><tr><td>train/epoch</td><td>▁▁▄▄███</td></tr><tr><td>train/global_step</td><td>▁▁▄▄███</td></tr><tr><td>train/learning_rate</td><td>█▅▁</td></tr><tr><td>train/loss</td><td>█▄▁</td></tr><tr><td>train/total_flos</td><td>▁</td></tr><tr><td>train/train_loss</td><td>▁</td></tr><tr><td>train/train_runtime</td><td>▁</td></tr><tr><td>train/train_samples_per_second</td><td>▁</td></tr><tr><td>train/train_steps_per_second</td><td>▁</td></tr></table><br/></div><div class=\"wandb-col\"><h3>Run summary:</h3><br/><table class=\"wandb\"><tr><td>eval/accuracy</td><td>0.78957</td></tr><tr><td>eval/f1</td><td>0.79306</td></tr><tr><td>eval/loss</td><td>0.5449</td></tr><tr><td>eval/precision</td><td>0.79134</td></tr><tr><td>eval/recall</td><td>0.79522</td></tr><tr><td>eval/runtime</td><td>39.3286</td></tr><tr><td>eval/samples_per_second</td><td>173.156</td></tr><tr><td>eval/steps_per_second</td><td>21.664</td></tr><tr><td>train/epoch</td><td>2.0</td></tr><tr><td>train/global_step</td><td>1514</td></tr><tr><td>train/learning_rate</td><td>0.0</td></tr><tr><td>train/loss</td><td>0.3706</td></tr><tr><td>train/total_flos</td><td>7166683272075264.0</td></tr><tr><td>train/train_loss</td><td>0.48714</td></tr><tr><td>train/train_runtime</td><td>2010.0254</td></tr><tr><td>train/train_samples_per_second</td><td>27.102</td></tr><tr><td>train/train_steps_per_second</td><td>0.753</td></tr></table><br/></div></div>"
      ],
      "text/plain": [
       "<IPython.core.display.HTML object>"
      ]
     },
     "metadata": {},
     "output_type": "display_data"
    },
    {
     "data": {
      "text/html": [
       " View run <strong style=\"color:#cdcd00\">lunar-sponge-549</strong> at: <a href='https://wandb.ai/ericat/huggingface/runs/kskqg97y' target=\"_blank\">https://wandb.ai/ericat/huggingface/runs/kskqg97y</a><br/>Synced 5 W&B file(s), 0 media file(s), 0 artifact file(s) and 0 other file(s)"
      ],
      "text/plain": [
       "<IPython.core.display.HTML object>"
      ]
     },
     "metadata": {},
     "output_type": "display_data"
    },
    {
     "data": {
      "text/html": [
       "Find logs at: <code>.\\wandb\\run-20231207_164906-kskqg97y\\logs</code>"
      ],
      "text/plain": [
       "<IPython.core.display.HTML object>"
      ]
     },
     "metadata": {},
     "output_type": "display_data"
    },
    {
     "data": {
      "application/vnd.jupyter.widget-view+json": {
       "model_id": "755a1895a5584135911ef586e1f76217",
       "version_major": 2,
       "version_minor": 0
      },
      "text/plain": [
       "VBox(children=(Label(value='Waiting for wandb.init()...\\r'), FloatProgress(value=0.011111111111111112, max=1.0…"
      ]
     },
     "metadata": {},
     "output_type": "display_data"
    },
    {
     "data": {
      "text/html": [
       "wandb version 0.16.1 is available!  To upgrade, please run:\n",
       " $ pip install wandb --upgrade"
      ],
      "text/plain": [
       "<IPython.core.display.HTML object>"
      ]
     },
     "metadata": {},
     "output_type": "display_data"
    },
    {
     "data": {
      "text/html": [
       "Tracking run with wandb version 0.16.0"
      ],
      "text/plain": [
       "<IPython.core.display.HTML object>"
      ]
     },
     "metadata": {},
     "output_type": "display_data"
    },
    {
     "data": {
      "text/html": [
       "Run data is saved locally in <code>D:\\Projects\\Jupyter\\Sentiment analysis\\04DEC\\wandb\\run-20231207_172238-ds5tds5u</code>"
      ],
      "text/plain": [
       "<IPython.core.display.HTML object>"
      ]
     },
     "metadata": {},
     "output_type": "display_data"
    },
    {
     "data": {
      "text/html": [
       "Syncing run <strong><a href='https://wandb.ai/ericat/huggingface/runs/ds5tds5u' target=\"_blank\">blooming-meadow-550</a></strong> to <a href='https://wandb.ai/ericat/huggingface' target=\"_blank\">Weights & Biases</a> (<a href='https://wandb.me/run' target=\"_blank\">docs</a>)<br/>"
      ],
      "text/plain": [
       "<IPython.core.display.HTML object>"
      ]
     },
     "metadata": {},
     "output_type": "display_data"
    },
    {
     "data": {
      "text/html": [
       " View project at <a href='https://wandb.ai/ericat/huggingface' target=\"_blank\">https://wandb.ai/ericat/huggingface</a>"
      ],
      "text/plain": [
       "<IPython.core.display.HTML object>"
      ]
     },
     "metadata": {},
     "output_type": "display_data"
    },
    {
     "data": {
      "text/html": [
       " View run at <a href='https://wandb.ai/ericat/huggingface/runs/ds5tds5u' target=\"_blank\">https://wandb.ai/ericat/huggingface/runs/ds5tds5u</a>"
      ],
      "text/plain": [
       "<IPython.core.display.HTML object>"
      ]
     },
     "metadata": {},
     "output_type": "display_data"
    },
    {
     "name": "stdout",
     "output_type": "stream",
     "text": [
      "{'loss': 0.5615, 'learning_rate': 1.3317579513556005e-06, 'epoch': 0.66}\n",
      "{'eval_loss': 0.5279771685600281, 'eval_accuracy': 0.77856093979442, 'eval_f1': 0.7825580810164791, 'eval_precision': 0.7807164074190647, 'eval_recall': 0.784830579672405, 'eval_runtime': 39.2948, 'eval_samples_per_second': 173.305, 'eval_steps_per_second': 21.682, 'epoch': 0.66}\n"
     ]
    },
    {
     "name": "stderr",
     "output_type": "stream",
     "text": [
      "[I 2023-12-07 17:40:39,917] Trial 1 finished with value: 3.1266660079023687 and parameters: {'learning_rate': 3.922726728312022e-06, 'num_train_epochs': 1, 'per_device_train_batch_size': 36}. Best is trial 0 with value: 3.169195976541308.\n"
     ]
    },
    {
     "name": "stdout",
     "output_type": "stream",
     "text": [
      "{'train_runtime': 1087.5199, 'train_samples_per_second': 25.046, 'train_steps_per_second': 0.696, 'train_loss': 0.5483126319068898, 'epoch': 1.0}\n"
     ]
    },
    {
     "name": "stderr",
     "output_type": "stream",
     "text": [
      "Some weights of the model checkpoint at cardiffnlp/twitter-roberta-base-sentiment-latest were not used when initializing RobertaForSequenceClassification: ['roberta.pooler.dense.weight', 'roberta.pooler.dense.bias']\n",
      "- This IS expected if you are initializing RobertaForSequenceClassification from the checkpoint of a model trained on another task or with another architecture (e.g. initializing a BertForSequenceClassification model from a BertForPreTraining model).\n",
      "- This IS NOT expected if you are initializing RobertaForSequenceClassification from the checkpoint of a model that you expect to be exactly identical (initializing a BertForSequenceClassification model from a BertForSequenceClassification model).\n"
     ]
    },
    {
     "data": {
      "application/vnd.jupyter.widget-view+json": {
       "model_id": "",
       "version_major": 2,
       "version_minor": 0
      },
      "text/plain": [
       "VBox(children=(Label(value='0.001 MB of 0.001 MB uploaded\\r'), FloatProgress(value=1.0, max=1.0)))"
      ]
     },
     "metadata": {},
     "output_type": "display_data"
    },
    {
     "data": {
      "text/html": [
       "<style>\n",
       "    table.wandb td:nth-child(1) { padding: 0 10px; text-align: left ; width: auto;} td:nth-child(2) {text-align: left ; width: 100%}\n",
       "    .wandb-row { display: flex; flex-direction: row; flex-wrap: wrap; justify-content: flex-start; width: 100% }\n",
       "    .wandb-col { display: flex; flex-direction: column; flex-basis: 100%; flex: 1; padding: 10px; }\n",
       "    </style>\n",
       "<div class=\"wandb-row\"><div class=\"wandb-col\"><h3>Run history:</h3><br/><table class=\"wandb\"><tr><td>eval/accuracy</td><td>▁</td></tr><tr><td>eval/f1</td><td>▁</td></tr><tr><td>eval/loss</td><td>▁</td></tr><tr><td>eval/precision</td><td>▁</td></tr><tr><td>eval/recall</td><td>▁</td></tr><tr><td>eval/runtime</td><td>▁</td></tr><tr><td>eval/samples_per_second</td><td>▁</td></tr><tr><td>eval/steps_per_second</td><td>▁</td></tr><tr><td>train/epoch</td><td>▁▁█</td></tr><tr><td>train/global_step</td><td>▁▁█</td></tr><tr><td>train/learning_rate</td><td>▁</td></tr><tr><td>train/loss</td><td>▁</td></tr><tr><td>train/total_flos</td><td>▁</td></tr><tr><td>train/train_loss</td><td>▁</td></tr><tr><td>train/train_runtime</td><td>▁</td></tr><tr><td>train/train_samples_per_second</td><td>▁</td></tr><tr><td>train/train_steps_per_second</td><td>▁</td></tr></table><br/></div><div class=\"wandb-col\"><h3>Run summary:</h3><br/><table class=\"wandb\"><tr><td>eval/accuracy</td><td>0.77856</td></tr><tr><td>eval/f1</td><td>0.78256</td></tr><tr><td>eval/loss</td><td>0.52798</td></tr><tr><td>eval/precision</td><td>0.78072</td></tr><tr><td>eval/recall</td><td>0.78483</td></tr><tr><td>eval/runtime</td><td>39.2948</td></tr><tr><td>eval/samples_per_second</td><td>173.305</td></tr><tr><td>eval/steps_per_second</td><td>21.682</td></tr><tr><td>train/epoch</td><td>1.0</td></tr><tr><td>train/global_step</td><td>757</td></tr><tr><td>train/learning_rate</td><td>0.0</td></tr><tr><td>train/loss</td><td>0.5615</td></tr><tr><td>train/total_flos</td><td>3583341636037632.0</td></tr><tr><td>train/train_loss</td><td>0.54831</td></tr><tr><td>train/train_runtime</td><td>1087.5199</td></tr><tr><td>train/train_samples_per_second</td><td>25.046</td></tr><tr><td>train/train_steps_per_second</td><td>0.696</td></tr></table><br/></div></div>"
      ],
      "text/plain": [
       "<IPython.core.display.HTML object>"
      ]
     },
     "metadata": {},
     "output_type": "display_data"
    },
    {
     "data": {
      "text/html": [
       " View run <strong style=\"color:#cdcd00\">blooming-meadow-550</strong> at: <a href='https://wandb.ai/ericat/huggingface/runs/ds5tds5u' target=\"_blank\">https://wandb.ai/ericat/huggingface/runs/ds5tds5u</a><br/>Synced 5 W&B file(s), 0 media file(s), 0 artifact file(s) and 0 other file(s)"
      ],
      "text/plain": [
       "<IPython.core.display.HTML object>"
      ]
     },
     "metadata": {},
     "output_type": "display_data"
    },
    {
     "data": {
      "text/html": [
       "Find logs at: <code>.\\wandb\\run-20231207_172238-ds5tds5u\\logs</code>"
      ],
      "text/plain": [
       "<IPython.core.display.HTML object>"
      ]
     },
     "metadata": {},
     "output_type": "display_data"
    },
    {
     "data": {
      "application/vnd.jupyter.widget-view+json": {
       "model_id": "a4da8c293d224a5bb2287e7a58496b7e",
       "version_major": 2,
       "version_minor": 0
      },
      "text/plain": [
       "VBox(children=(Label(value='Waiting for wandb.init()...\\r'), FloatProgress(value=0.011277777777776363, max=1.0…"
      ]
     },
     "metadata": {},
     "output_type": "display_data"
    },
    {
     "data": {
      "text/html": [
       "wandb version 0.16.1 is available!  To upgrade, please run:\n",
       " $ pip install wandb --upgrade"
      ],
      "text/plain": [
       "<IPython.core.display.HTML object>"
      ]
     },
     "metadata": {},
     "output_type": "display_data"
    },
    {
     "data": {
      "text/html": [
       "Tracking run with wandb version 0.16.0"
      ],
      "text/plain": [
       "<IPython.core.display.HTML object>"
      ]
     },
     "metadata": {},
     "output_type": "display_data"
    },
    {
     "data": {
      "text/html": [
       "Run data is saved locally in <code>D:\\Projects\\Jupyter\\Sentiment analysis\\04DEC\\wandb\\run-20231207_174049-0nuu9s6v</code>"
      ],
      "text/plain": [
       "<IPython.core.display.HTML object>"
      ]
     },
     "metadata": {},
     "output_type": "display_data"
    },
    {
     "data": {
      "text/html": [
       "Syncing run <strong><a href='https://wandb.ai/ericat/huggingface/runs/0nuu9s6v' target=\"_blank\">curious-fire-551</a></strong> to <a href='https://wandb.ai/ericat/huggingface' target=\"_blank\">Weights & Biases</a> (<a href='https://wandb.me/run' target=\"_blank\">docs</a>)<br/>"
      ],
      "text/plain": [
       "<IPython.core.display.HTML object>"
      ]
     },
     "metadata": {},
     "output_type": "display_data"
    },
    {
     "data": {
      "text/html": [
       " View project at <a href='https://wandb.ai/ericat/huggingface' target=\"_blank\">https://wandb.ai/ericat/huggingface</a>"
      ],
      "text/plain": [
       "<IPython.core.display.HTML object>"
      ]
     },
     "metadata": {},
     "output_type": "display_data"
    },
    {
     "data": {
      "text/html": [
       " View run at <a href='https://wandb.ai/ericat/huggingface/runs/0nuu9s6v' target=\"_blank\">https://wandb.ai/ericat/huggingface/runs/0nuu9s6v</a>"
      ],
      "text/plain": [
       "<IPython.core.display.HTML object>"
      ]
     },
     "metadata": {},
     "output_type": "display_data"
    },
    {
     "name": "stdout",
     "output_type": "stream",
     "text": [
      "{'loss': 0.6181, 'learning_rate': 4.081257674600245e-05, 'epoch': 0.29}\n",
      "{'eval_loss': 0.5587738752365112, 'eval_accuracy': 0.7700440528634361, 'eval_f1': 0.7746091700478358, 'eval_precision': 0.7904729872566358, 'eval_recall': 0.768569909406449, 'eval_runtime': 39.6301, 'eval_samples_per_second': 171.839, 'eval_steps_per_second': 21.499, 'epoch': 0.29}\n",
      "{'loss': 0.5716, 'learning_rate': 3.638508957459841e-05, 'epoch': 0.59}\n",
      "{'eval_loss': 0.5565372109413147, 'eval_accuracy': 0.7787077826725404, 'eval_f1': 0.7817869896239004, 'eval_precision': 0.7819003856053311, 'eval_recall': 0.7840771348964259, 'eval_runtime': 39.6463, 'eval_samples_per_second': 171.769, 'eval_steps_per_second': 21.49, 'epoch': 0.59}\n",
      "{'loss': 0.5562, 'learning_rate': 3.195760240319437e-05, 'epoch': 0.88}\n",
      "{'eval_loss': 0.5532259345054626, 'eval_accuracy': 0.7719530102790014, 'eval_f1': 0.7746595683801972, 'eval_precision': 0.7722103007779012, 'eval_recall': 0.7819579223925183, 'eval_runtime': 39.653, 'eval_samples_per_second': 171.74, 'eval_steps_per_second': 21.486, 'epoch': 0.88}\n",
      "{'loss': 0.4435, 'learning_rate': 2.7530115231790326e-05, 'epoch': 1.17}\n",
      "{'eval_loss': 0.5683212876319885, 'eval_accuracy': 0.7866372980910425, 'eval_f1': 0.7900297756981373, 'eval_precision': 0.7881269122871725, 'eval_recall': 0.7925096637459754, 'eval_runtime': 39.639, 'eval_samples_per_second': 171.8, 'eval_steps_per_second': 21.494, 'epoch': 1.17}\n",
      "{'loss': 0.3955, 'learning_rate': 2.3102628060386288e-05, 'epoch': 1.47}\n",
      "{'eval_loss': 0.5698040723800659, 'eval_accuracy': 0.7826725403817915, 'eval_f1': 0.7856658704215961, 'eval_precision': 0.7861364378413401, 'eval_recall': 0.7862547341811018, 'eval_runtime': 39.6563, 'eval_samples_per_second': 171.725, 'eval_steps_per_second': 21.485, 'epoch': 1.47}\n",
      "{'loss': 0.3882, 'learning_rate': 1.8675140888982247e-05, 'epoch': 1.76}\n",
      "{'eval_loss': 0.5867250561714172, 'eval_accuracy': 0.7857562408223201, 'eval_f1': 0.789340345468994, 'eval_precision': 0.7869012432088578, 'eval_recall': 0.7931523932512056, 'eval_runtime': 39.672, 'eval_samples_per_second': 171.658, 'eval_steps_per_second': 21.476, 'epoch': 1.76}\n",
      "{'loss': 0.3598, 'learning_rate': 1.4247653717578204e-05, 'epoch': 2.06}\n",
      "{'eval_loss': 0.7061518430709839, 'eval_accuracy': 0.7765051395007342, 'eval_f1': 0.7792199074416173, 'eval_precision': 0.7769057466494153, 'eval_recall': 0.7859199123091698, 'eval_runtime': 39.6503, 'eval_samples_per_second': 171.752, 'eval_steps_per_second': 21.488, 'epoch': 2.06}\n",
      "{'loss': 0.2497, 'learning_rate': 9.820166546174163e-06, 'epoch': 2.35}\n",
      "{'eval_loss': 0.7165988087654114, 'eval_accuracy': 0.7814977973568282, 'eval_f1': 0.7851490212382267, 'eval_precision': 0.7828470291922617, 'eval_recall': 0.7888435646690074, 'eval_runtime': 39.7069, 'eval_samples_per_second': 171.507, 'eval_steps_per_second': 21.457, 'epoch': 2.35}\n",
      "{'loss': 0.2392, 'learning_rate': 5.3926793747701215e-06, 'epoch': 2.64}\n",
      "{'eval_loss': 0.7766914963722229, 'eval_accuracy': 0.7845814977973569, 'eval_f1': 0.7878965433712054, 'eval_precision': 0.7877164396700146, 'eval_recall': 0.7883479854478024, 'eval_runtime': 39.6935, 'eval_samples_per_second': 171.564, 'eval_steps_per_second': 21.464, 'epoch': 2.64}\n",
      "{'loss': 0.2452, 'learning_rate': 9.65192203366081e-07, 'epoch': 2.94}\n",
      "{'eval_loss': 0.7551268935203552, 'eval_accuracy': 0.7816446402349486, 'eval_f1': 0.7850800806761264, 'eval_precision': 0.7831917477154627, 'eval_recall': 0.7874445495987802, 'eval_runtime': 39.7111, 'eval_samples_per_second': 171.489, 'eval_steps_per_second': 21.455, 'epoch': 2.94}\n"
     ]
    },
    {
     "name": "stderr",
     "output_type": "stream",
     "text": [
      "[I 2023-12-07 18:15:19,563] Trial 2 finished with value: 3.137361018225318 and parameters: {'learning_rate': 4.524006391740649e-05, 'num_train_epochs': 3, 'per_device_train_batch_size': 16}. Best is trial 0 with value: 3.169195976541308.\n"
     ]
    },
    {
     "name": "stdout",
     "output_type": "stream",
     "text": [
      "{'train_runtime': 2077.0063, 'train_samples_per_second': 39.342, 'train_steps_per_second': 2.46, 'train_loss': 0.4030201733287334, 'epoch': 3.0}\n"
     ]
    },
    {
     "name": "stderr",
     "output_type": "stream",
     "text": [
      "Some weights of the model checkpoint at cardiffnlp/twitter-roberta-base-sentiment-latest were not used when initializing RobertaForSequenceClassification: ['roberta.pooler.dense.weight', 'roberta.pooler.dense.bias']\n",
      "- This IS expected if you are initializing RobertaForSequenceClassification from the checkpoint of a model trained on another task or with another architecture (e.g. initializing a BertForSequenceClassification model from a BertForPreTraining model).\n",
      "- This IS NOT expected if you are initializing RobertaForSequenceClassification from the checkpoint of a model that you expect to be exactly identical (initializing a BertForSequenceClassification model from a BertForSequenceClassification model).\n"
     ]
    },
    {
     "data": {
      "application/vnd.jupyter.widget-view+json": {
       "model_id": "",
       "version_major": 2,
       "version_minor": 0
      },
      "text/plain": [
       "VBox(children=(Label(value='0.001 MB of 0.001 MB uploaded\\r'), FloatProgress(value=1.0, max=1.0)))"
      ]
     },
     "metadata": {},
     "output_type": "display_data"
    },
    {
     "data": {
      "text/html": [
       "<style>\n",
       "    table.wandb td:nth-child(1) { padding: 0 10px; text-align: left ; width: auto;} td:nth-child(2) {text-align: left ; width: 100%}\n",
       "    .wandb-row { display: flex; flex-direction: row; flex-wrap: wrap; justify-content: flex-start; width: 100% }\n",
       "    .wandb-col { display: flex; flex-direction: column; flex-basis: 100%; flex: 1; padding: 10px; }\n",
       "    </style>\n",
       "<div class=\"wandb-row\"><div class=\"wandb-col\"><h3>Run history:</h3><br/><table class=\"wandb\"><tr><td>eval/accuracy</td><td>▁▅▂█▆█▄▆▇▆</td></tr><tr><td>eval/f1</td><td>▁▄▁█▆█▃▆▇▆</td></tr><tr><td>eval/loss</td><td>▁▁▁▁▂▂▆▆█▇</td></tr><tr><td>eval/precision</td><td>█▅▁▇▆▇▃▅▇▅</td></tr><tr><td>eval/recall</td><td>▁▅▅█▆█▆▇▇▆</td></tr><tr><td>eval/runtime</td><td>▁▂▃▂▃▅▃█▆█</td></tr><tr><td>eval/samples_per_second</td><td>█▇▆▇▆▄▆▁▂▁</td></tr><tr><td>eval/steps_per_second</td><td>█▇▆▇▆▄▆▁▂▁</td></tr><tr><td>train/epoch</td><td>▁▁▂▂▃▃▃▃▄▄▅▅▆▆▆▆▇▇███</td></tr><tr><td>train/global_step</td><td>▁▁▂▂▃▃▃▃▄▄▅▅▆▆▆▆▇▇███</td></tr><tr><td>train/learning_rate</td><td>█▇▆▆▅▄▃▃▂▁</td></tr><tr><td>train/loss</td><td>█▇▇▅▄▄▃▁▁▁</td></tr><tr><td>train/total_flos</td><td>▁</td></tr><tr><td>train/train_loss</td><td>▁</td></tr><tr><td>train/train_runtime</td><td>▁</td></tr><tr><td>train/train_samples_per_second</td><td>▁</td></tr><tr><td>train/train_steps_per_second</td><td>▁</td></tr></table><br/></div><div class=\"wandb-col\"><h3>Run summary:</h3><br/><table class=\"wandb\"><tr><td>eval/accuracy</td><td>0.78164</td></tr><tr><td>eval/f1</td><td>0.78508</td></tr><tr><td>eval/loss</td><td>0.75513</td></tr><tr><td>eval/precision</td><td>0.78319</td></tr><tr><td>eval/recall</td><td>0.78744</td></tr><tr><td>eval/runtime</td><td>39.7111</td></tr><tr><td>eval/samples_per_second</td><td>171.489</td></tr><tr><td>eval/steps_per_second</td><td>21.455</td></tr><tr><td>train/epoch</td><td>3.0</td></tr><tr><td>train/global_step</td><td>5109</td></tr><tr><td>train/learning_rate</td><td>0.0</td></tr><tr><td>train/loss</td><td>0.2452</td></tr><tr><td>train/total_flos</td><td>1.0750024908112896e+16</td></tr><tr><td>train/train_loss</td><td>0.40302</td></tr><tr><td>train/train_runtime</td><td>2077.0063</td></tr><tr><td>train/train_samples_per_second</td><td>39.342</td></tr><tr><td>train/train_steps_per_second</td><td>2.46</td></tr></table><br/></div></div>"
      ],
      "text/plain": [
       "<IPython.core.display.HTML object>"
      ]
     },
     "metadata": {},
     "output_type": "display_data"
    },
    {
     "data": {
      "text/html": [
       " View run <strong style=\"color:#cdcd00\">curious-fire-551</strong> at: <a href='https://wandb.ai/ericat/huggingface/runs/0nuu9s6v' target=\"_blank\">https://wandb.ai/ericat/huggingface/runs/0nuu9s6v</a><br/>Synced 5 W&B file(s), 0 media file(s), 0 artifact file(s) and 0 other file(s)"
      ],
      "text/plain": [
       "<IPython.core.display.HTML object>"
      ]
     },
     "metadata": {},
     "output_type": "display_data"
    },
    {
     "data": {
      "text/html": [
       "Find logs at: <code>.\\wandb\\run-20231207_174049-0nuu9s6v\\logs</code>"
      ],
      "text/plain": [
       "<IPython.core.display.HTML object>"
      ]
     },
     "metadata": {},
     "output_type": "display_data"
    },
    {
     "data": {
      "application/vnd.jupyter.widget-view+json": {
       "model_id": "77f8efa6c9584c08982d0947fb439c93",
       "version_major": 2,
       "version_minor": 0
      },
      "text/plain": [
       "VBox(children=(Label(value='Waiting for wandb.init()...\\r'), FloatProgress(value=0.011111111111111112, max=1.0…"
      ]
     },
     "metadata": {},
     "output_type": "display_data"
    },
    {
     "data": {
      "text/html": [
       "wandb version 0.16.1 is available!  To upgrade, please run:\n",
       " $ pip install wandb --upgrade"
      ],
      "text/plain": [
       "<IPython.core.display.HTML object>"
      ]
     },
     "metadata": {},
     "output_type": "display_data"
    },
    {
     "data": {
      "text/html": [
       "Tracking run with wandb version 0.16.0"
      ],
      "text/plain": [
       "<IPython.core.display.HTML object>"
      ]
     },
     "metadata": {},
     "output_type": "display_data"
    },
    {
     "data": {
      "text/html": [
       "Run data is saved locally in <code>D:\\Projects\\Jupyter\\Sentiment analysis\\04DEC\\wandb\\run-20231207_181530-zymv1iea</code>"
      ],
      "text/plain": [
       "<IPython.core.display.HTML object>"
      ]
     },
     "metadata": {},
     "output_type": "display_data"
    },
    {
     "data": {
      "text/html": [
       "Syncing run <strong><a href='https://wandb.ai/ericat/huggingface/runs/zymv1iea' target=\"_blank\">vital-lake-552</a></strong> to <a href='https://wandb.ai/ericat/huggingface' target=\"_blank\">Weights & Biases</a> (<a href='https://wandb.me/run' target=\"_blank\">docs</a>)<br/>"
      ],
      "text/plain": [
       "<IPython.core.display.HTML object>"
      ]
     },
     "metadata": {},
     "output_type": "display_data"
    },
    {
     "data": {
      "text/html": [
       " View project at <a href='https://wandb.ai/ericat/huggingface' target=\"_blank\">https://wandb.ai/ericat/huggingface</a>"
      ],
      "text/plain": [
       "<IPython.core.display.HTML object>"
      ]
     },
     "metadata": {},
     "output_type": "display_data"
    },
    {
     "data": {
      "text/html": [
       " View run at <a href='https://wandb.ai/ericat/huggingface/runs/zymv1iea' target=\"_blank\">https://wandb.ai/ericat/huggingface/runs/zymv1iea</a>"
      ],
      "text/plain": [
       "<IPython.core.display.HTML object>"
      ]
     },
     "metadata": {},
     "output_type": "display_data"
    },
    {
     "name": "stdout",
     "output_type": "stream",
     "text": [
      "{'loss': 1.109, 'learning_rate': 0.0005784671692129757, 'epoch': 0.59}\n"
     ]
    },
    {
     "name": "stderr",
     "output_type": "stream",
     "text": [
      "D:\\Software\\Anaconda3\\envs\\validation\\Lib\\site-packages\\sklearn\\metrics\\_classification.py:1469: UndefinedMetricWarning: Precision and F-score are ill-defined and being set to 0.0 in labels with no predicted samples. Use `zero_division` parameter to control this behavior.\n",
      "  _warn_prf(average, modifier, msg_start, len(result))\n"
     ]
    },
    {
     "name": "stdout",
     "output_type": "stream",
     "text": [
      "{'eval_loss': 1.0901824235916138, 'eval_accuracy': 0.39823788546255506, 'eval_f1': 0.1898760764545264, 'eval_precision': 0.1327459618208517, 'eval_recall': 0.3333333333333333, 'eval_runtime': 39.7548, 'eval_samples_per_second': 171.3, 'eval_steps_per_second': 21.431, 'epoch': 0.59}\n",
      "{'loss': 1.0941, 'learning_rate': 0.00047900582650097845, 'epoch': 1.17}\n"
     ]
    },
    {
     "name": "stderr",
     "output_type": "stream",
     "text": [
      "D:\\Software\\Anaconda3\\envs\\validation\\Lib\\site-packages\\sklearn\\metrics\\_classification.py:1469: UndefinedMetricWarning: Precision and F-score are ill-defined and being set to 0.0 in labels with no predicted samples. Use `zero_division` parameter to control this behavior.\n",
      "  _warn_prf(average, modifier, msg_start, len(result))\n"
     ]
    },
    {
     "name": "stdout",
     "output_type": "stream",
     "text": [
      "{'eval_loss': 1.0889087915420532, 'eval_accuracy': 0.39823788546255506, 'eval_f1': 0.1898760764545264, 'eval_precision': 0.1327459618208517, 'eval_recall': 0.3333333333333333, 'eval_runtime': 39.5445, 'eval_samples_per_second': 172.211, 'eval_steps_per_second': 21.545, 'epoch': 1.17}\n",
      "{'loss': 1.0926, 'learning_rate': 0.0003795444837889813, 'epoch': 1.76}\n"
     ]
    },
    {
     "name": "stderr",
     "output_type": "stream",
     "text": [
      "D:\\Software\\Anaconda3\\envs\\validation\\Lib\\site-packages\\sklearn\\metrics\\_classification.py:1469: UndefinedMetricWarning: Precision and F-score are ill-defined and being set to 0.0 in labels with no predicted samples. Use `zero_division` parameter to control this behavior.\n",
      "  _warn_prf(average, modifier, msg_start, len(result))\n"
     ]
    },
    {
     "name": "stdout",
     "output_type": "stream",
     "text": [
      "{'eval_loss': 1.0891520977020264, 'eval_accuracy': 0.39823788546255506, 'eval_f1': 0.1898760764545264, 'eval_precision': 0.1327459618208517, 'eval_recall': 0.3333333333333333, 'eval_runtime': 39.665, 'eval_samples_per_second': 171.688, 'eval_steps_per_second': 21.48, 'epoch': 1.76}\n",
      "{'loss': 1.0906, 'learning_rate': 0.0002800831410769841, 'epoch': 2.35}\n"
     ]
    },
    {
     "name": "stderr",
     "output_type": "stream",
     "text": [
      "D:\\Software\\Anaconda3\\envs\\validation\\Lib\\site-packages\\sklearn\\metrics\\_classification.py:1469: UndefinedMetricWarning: Precision and F-score are ill-defined and being set to 0.0 in labels with no predicted samples. Use `zero_division` parameter to control this behavior.\n",
      "  _warn_prf(average, modifier, msg_start, len(result))\n"
     ]
    },
    {
     "name": "stdout",
     "output_type": "stream",
     "text": [
      "{'eval_loss': 1.0896267890930176, 'eval_accuracy': 0.39823788546255506, 'eval_f1': 0.1898760764545264, 'eval_precision': 0.1327459618208517, 'eval_recall': 0.3333333333333333, 'eval_runtime': 39.6405, 'eval_samples_per_second': 171.794, 'eval_steps_per_second': 21.493, 'epoch': 2.35}\n",
      "{'loss': 1.0899, 'learning_rate': 0.00018062179836498692, 'epoch': 2.93}\n"
     ]
    },
    {
     "name": "stderr",
     "output_type": "stream",
     "text": [
      "D:\\Software\\Anaconda3\\envs\\validation\\Lib\\site-packages\\sklearn\\metrics\\_classification.py:1469: UndefinedMetricWarning: Precision and F-score are ill-defined and being set to 0.0 in labels with no predicted samples. Use `zero_division` parameter to control this behavior.\n",
      "  _warn_prf(average, modifier, msg_start, len(result))\n"
     ]
    },
    {
     "name": "stdout",
     "output_type": "stream",
     "text": [
      "{'eval_loss': 1.0899865627288818, 'eval_accuracy': 0.39823788546255506, 'eval_f1': 0.1898760764545264, 'eval_precision': 0.1327459618208517, 'eval_recall': 0.3333333333333333, 'eval_runtime': 39.6073, 'eval_samples_per_second': 171.938, 'eval_steps_per_second': 21.511, 'epoch': 2.93}\n",
      "{'loss': 1.0909, 'learning_rate': 8.11604556529897e-05, 'epoch': 3.52}\n"
     ]
    },
    {
     "name": "stderr",
     "output_type": "stream",
     "text": [
      "D:\\Software\\Anaconda3\\envs\\validation\\Lib\\site-packages\\sklearn\\metrics\\_classification.py:1469: UndefinedMetricWarning: Precision and F-score are ill-defined and being set to 0.0 in labels with no predicted samples. Use `zero_division` parameter to control this behavior.\n",
      "  _warn_prf(average, modifier, msg_start, len(result))\n"
     ]
    },
    {
     "name": "stdout",
     "output_type": "stream",
     "text": [
      "{'eval_loss': 1.0891457796096802, 'eval_accuracy': 0.39823788546255506, 'eval_f1': 0.1898760764545264, 'eval_precision': 0.1327459618208517, 'eval_recall': 0.3333333333333333, 'eval_runtime': 39.5599, 'eval_samples_per_second': 172.144, 'eval_steps_per_second': 21.537, 'epoch': 3.52}\n"
     ]
    },
    {
     "name": "stderr",
     "output_type": "stream",
     "text": [
      "[I 2023-12-07 18:51:13,847] Trial 3 finished with value: 1.0541932570712664 and parameters: {'learning_rate': 0.0006779285119249728, 'num_train_epochs': 4, 'per_device_train_batch_size': 32}. Best is trial 0 with value: 3.169195976541308.\n"
     ]
    },
    {
     "name": "stdout",
     "output_type": "stream",
     "text": [
      "{'train_runtime': 2152.1804, 'train_samples_per_second': 50.624, 'train_steps_per_second': 1.584, 'train_loss': 1.0938564891546545, 'epoch': 4.0}\n"
     ]
    },
    {
     "name": "stderr",
     "output_type": "stream",
     "text": [
      "Some weights of the model checkpoint at cardiffnlp/twitter-roberta-base-sentiment-latest were not used when initializing RobertaForSequenceClassification: ['roberta.pooler.dense.weight', 'roberta.pooler.dense.bias']\n",
      "- This IS expected if you are initializing RobertaForSequenceClassification from the checkpoint of a model trained on another task or with another architecture (e.g. initializing a BertForSequenceClassification model from a BertForPreTraining model).\n",
      "- This IS NOT expected if you are initializing RobertaForSequenceClassification from the checkpoint of a model that you expect to be exactly identical (initializing a BertForSequenceClassification model from a BertForSequenceClassification model).\n"
     ]
    },
    {
     "data": {
      "application/vnd.jupyter.widget-view+json": {
       "model_id": "",
       "version_major": 2,
       "version_minor": 0
      },
      "text/plain": [
       "VBox(children=(Label(value='0.001 MB of 0.001 MB uploaded\\r'), FloatProgress(value=1.0, max=1.0)))"
      ]
     },
     "metadata": {},
     "output_type": "display_data"
    },
    {
     "data": {
      "text/html": [
       "<style>\n",
       "    table.wandb td:nth-child(1) { padding: 0 10px; text-align: left ; width: auto;} td:nth-child(2) {text-align: left ; width: 100%}\n",
       "    .wandb-row { display: flex; flex-direction: row; flex-wrap: wrap; justify-content: flex-start; width: 100% }\n",
       "    .wandb-col { display: flex; flex-direction: column; flex-basis: 100%; flex: 1; padding: 10px; }\n",
       "    </style>\n",
       "<div class=\"wandb-row\"><div class=\"wandb-col\"><h3>Run history:</h3><br/><table class=\"wandb\"><tr><td>eval/accuracy</td><td>▁▁▁▁▁▁</td></tr><tr><td>eval/f1</td><td>▁▁▁▁▁▁</td></tr><tr><td>eval/loss</td><td>█▁▂▅▇▂</td></tr><tr><td>eval/precision</td><td>▁▁▁▁▁▁</td></tr><tr><td>eval/recall</td><td>▁▁▁▁▁▁</td></tr><tr><td>eval/runtime</td><td>█▁▅▄▃▂</td></tr><tr><td>eval/samples_per_second</td><td>▁█▄▅▆▇</td></tr><tr><td>eval/steps_per_second</td><td>▁█▄▅▆█</td></tr><tr><td>train/epoch</td><td>▁▁▂▂▃▃▅▅▆▆▇▇█</td></tr><tr><td>train/global_step</td><td>▁▁▂▂▃▃▅▅▆▆▇▇█</td></tr><tr><td>train/learning_rate</td><td>█▇▅▄▂▁</td></tr><tr><td>train/loss</td><td>█▃▂▁▁▁</td></tr><tr><td>train/total_flos</td><td>▁</td></tr><tr><td>train/train_loss</td><td>▁</td></tr><tr><td>train/train_runtime</td><td>▁</td></tr><tr><td>train/train_samples_per_second</td><td>▁</td></tr><tr><td>train/train_steps_per_second</td><td>▁</td></tr></table><br/></div><div class=\"wandb-col\"><h3>Run summary:</h3><br/><table class=\"wandb\"><tr><td>eval/accuracy</td><td>0.39824</td></tr><tr><td>eval/f1</td><td>0.18988</td></tr><tr><td>eval/loss</td><td>1.08915</td></tr><tr><td>eval/precision</td><td>0.13275</td></tr><tr><td>eval/recall</td><td>0.33333</td></tr><tr><td>eval/runtime</td><td>39.5599</td></tr><tr><td>eval/samples_per_second</td><td>172.144</td></tr><tr><td>eval/steps_per_second</td><td>21.537</td></tr><tr><td>train/epoch</td><td>4.0</td></tr><tr><td>train/global_step</td><td>3408</td></tr><tr><td>train/learning_rate</td><td>8e-05</td></tr><tr><td>train/loss</td><td>1.0909</td></tr><tr><td>train/total_flos</td><td>1.4333366544150528e+16</td></tr><tr><td>train/train_loss</td><td>1.09386</td></tr><tr><td>train/train_runtime</td><td>2152.1804</td></tr><tr><td>train/train_samples_per_second</td><td>50.624</td></tr><tr><td>train/train_steps_per_second</td><td>1.584</td></tr></table><br/></div></div>"
      ],
      "text/plain": [
       "<IPython.core.display.HTML object>"
      ]
     },
     "metadata": {},
     "output_type": "display_data"
    },
    {
     "data": {
      "text/html": [
       " View run <strong style=\"color:#cdcd00\">vital-lake-552</strong> at: <a href='https://wandb.ai/ericat/huggingface/runs/zymv1iea' target=\"_blank\">https://wandb.ai/ericat/huggingface/runs/zymv1iea</a><br/>Synced 5 W&B file(s), 0 media file(s), 0 artifact file(s) and 0 other file(s)"
      ],
      "text/plain": [
       "<IPython.core.display.HTML object>"
      ]
     },
     "metadata": {},
     "output_type": "display_data"
    },
    {
     "data": {
      "text/html": [
       "Find logs at: <code>.\\wandb\\run-20231207_181530-zymv1iea\\logs</code>"
      ],
      "text/plain": [
       "<IPython.core.display.HTML object>"
      ]
     },
     "metadata": {},
     "output_type": "display_data"
    },
    {
     "data": {
      "application/vnd.jupyter.widget-view+json": {
       "model_id": "6caad2a5928147b5b60a64111be38e02",
       "version_major": 2,
       "version_minor": 0
      },
      "text/plain": [
       "VBox(children=(Label(value='Waiting for wandb.init()...\\r'), FloatProgress(value=0.011288888888884685, max=1.0…"
      ]
     },
     "metadata": {},
     "output_type": "display_data"
    },
    {
     "data": {
      "text/html": [
       "wandb version 0.16.1 is available!  To upgrade, please run:\n",
       " $ pip install wandb --upgrade"
      ],
      "text/plain": [
       "<IPython.core.display.HTML object>"
      ]
     },
     "metadata": {},
     "output_type": "display_data"
    },
    {
     "data": {
      "text/html": [
       "Tracking run with wandb version 0.16.0"
      ],
      "text/plain": [
       "<IPython.core.display.HTML object>"
      ]
     },
     "metadata": {},
     "output_type": "display_data"
    },
    {
     "data": {
      "text/html": [
       "Run data is saved locally in <code>D:\\Projects\\Jupyter\\Sentiment analysis\\04DEC\\wandb\\run-20231207_185122-6ese8stv</code>"
      ],
      "text/plain": [
       "<IPython.core.display.HTML object>"
      ]
     },
     "metadata": {},
     "output_type": "display_data"
    },
    {
     "data": {
      "text/html": [
       "Syncing run <strong><a href='https://wandb.ai/ericat/huggingface/runs/6ese8stv' target=\"_blank\">lunar-haze-553</a></strong> to <a href='https://wandb.ai/ericat/huggingface' target=\"_blank\">Weights & Biases</a> (<a href='https://wandb.me/run' target=\"_blank\">docs</a>)<br/>"
      ],
      "text/plain": [
       "<IPython.core.display.HTML object>"
      ]
     },
     "metadata": {},
     "output_type": "display_data"
    },
    {
     "data": {
      "text/html": [
       " View project at <a href='https://wandb.ai/ericat/huggingface' target=\"_blank\">https://wandb.ai/ericat/huggingface</a>"
      ],
      "text/plain": [
       "<IPython.core.display.HTML object>"
      ]
     },
     "metadata": {},
     "output_type": "display_data"
    },
    {
     "data": {
      "text/html": [
       " View run at <a href='https://wandb.ai/ericat/huggingface/runs/6ese8stv' target=\"_blank\">https://wandb.ai/ericat/huggingface/runs/6ese8stv</a>"
      ],
      "text/plain": [
       "<IPython.core.display.HTML object>"
      ]
     },
     "metadata": {},
     "output_type": "display_data"
    },
    {
     "name": "stdout",
     "output_type": "stream",
     "text": [
      "{'loss': 0.5868, 'learning_rate': 7.008513267876125e-07, 'epoch': 0.44}\n",
      "{'eval_loss': 0.561499834060669, 'eval_accuracy': 0.761086637298091, 'eval_f1': 0.7651669839621648, 'eval_precision': 0.7622690343762478, 'eval_recall': 0.770744053334982, 'eval_runtime': 39.7248, 'eval_samples_per_second': 171.429, 'eval_steps_per_second': 21.448, 'epoch': 0.44}\n",
      "{'loss': 0.5676, 'learning_rate': 1.489998883721696e-07, 'epoch': 0.88}\n",
      "{'eval_loss': 0.5488317012786865, 'eval_accuracy': 0.765345080763583, 'eval_f1': 0.7692224064887668, 'eval_precision': 0.7658223285001818, 'eval_recall': 0.7750585481838356, 'eval_runtime': 39.7593, 'eval_samples_per_second': 171.281, 'eval_steps_per_second': 21.429, 'epoch': 0.88}\n"
     ]
    },
    {
     "name": "stderr",
     "output_type": "stream",
     "text": [
      "[I 2023-12-07 19:01:02,062] Trial 4 finished with value: 3.0754483639363674 and parameters: {'learning_rate': 1.2527027652030555e-06, 'num_train_epochs': 1, 'per_device_train_batch_size': 24}. Best is trial 0 with value: 3.169195976541308.\n"
     ]
    },
    {
     "name": "stdout",
     "output_type": "stream",
     "text": [
      "{'train_runtime': 586.1029, 'train_samples_per_second': 46.473, 'train_steps_per_second': 1.937, 'train_loss': 0.5714610162810607, 'epoch': 1.0}\n"
     ]
    },
    {
     "name": "stderr",
     "output_type": "stream",
     "text": [
      "Some weights of the model checkpoint at cardiffnlp/twitter-roberta-base-sentiment-latest were not used when initializing RobertaForSequenceClassification: ['roberta.pooler.dense.weight', 'roberta.pooler.dense.bias']\n",
      "- This IS expected if you are initializing RobertaForSequenceClassification from the checkpoint of a model trained on another task or with another architecture (e.g. initializing a BertForSequenceClassification model from a BertForPreTraining model).\n",
      "- This IS NOT expected if you are initializing RobertaForSequenceClassification from the checkpoint of a model that you expect to be exactly identical (initializing a BertForSequenceClassification model from a BertForSequenceClassification model).\n"
     ]
    },
    {
     "data": {
      "application/vnd.jupyter.widget-view+json": {
       "model_id": "",
       "version_major": 2,
       "version_minor": 0
      },
      "text/plain": [
       "VBox(children=(Label(value='0.001 MB of 0.001 MB uploaded\\r'), FloatProgress(value=1.0, max=1.0)))"
      ]
     },
     "metadata": {},
     "output_type": "display_data"
    },
    {
     "data": {
      "text/html": [
       "<style>\n",
       "    table.wandb td:nth-child(1) { padding: 0 10px; text-align: left ; width: auto;} td:nth-child(2) {text-align: left ; width: 100%}\n",
       "    .wandb-row { display: flex; flex-direction: row; flex-wrap: wrap; justify-content: flex-start; width: 100% }\n",
       "    .wandb-col { display: flex; flex-direction: column; flex-basis: 100%; flex: 1; padding: 10px; }\n",
       "    </style>\n",
       "<div class=\"wandb-row\"><div class=\"wandb-col\"><h3>Run history:</h3><br/><table class=\"wandb\"><tr><td>eval/accuracy</td><td>▁█</td></tr><tr><td>eval/f1</td><td>▁█</td></tr><tr><td>eval/loss</td><td>█▁</td></tr><tr><td>eval/precision</td><td>▁█</td></tr><tr><td>eval/recall</td><td>▁█</td></tr><tr><td>eval/runtime</td><td>▁█</td></tr><tr><td>eval/samples_per_second</td><td>█▁</td></tr><tr><td>eval/steps_per_second</td><td>█▁</td></tr><tr><td>train/epoch</td><td>▁▁▆▆█</td></tr><tr><td>train/global_step</td><td>▁▁▇▇█</td></tr><tr><td>train/learning_rate</td><td>█▁</td></tr><tr><td>train/loss</td><td>█▁</td></tr><tr><td>train/total_flos</td><td>▁</td></tr><tr><td>train/train_loss</td><td>▁</td></tr><tr><td>train/train_runtime</td><td>▁</td></tr><tr><td>train/train_samples_per_second</td><td>▁</td></tr><tr><td>train/train_steps_per_second</td><td>▁</td></tr></table><br/></div><div class=\"wandb-col\"><h3>Run summary:</h3><br/><table class=\"wandb\"><tr><td>eval/accuracy</td><td>0.76535</td></tr><tr><td>eval/f1</td><td>0.76922</td></tr><tr><td>eval/loss</td><td>0.54883</td></tr><tr><td>eval/precision</td><td>0.76582</td></tr><tr><td>eval/recall</td><td>0.77506</td></tr><tr><td>eval/runtime</td><td>39.7593</td></tr><tr><td>eval/samples_per_second</td><td>171.281</td></tr><tr><td>eval/steps_per_second</td><td>21.429</td></tr><tr><td>train/epoch</td><td>1.0</td></tr><tr><td>train/global_step</td><td>1135</td></tr><tr><td>train/learning_rate</td><td>0.0</td></tr><tr><td>train/loss</td><td>0.5676</td></tr><tr><td>train/total_flos</td><td>3583341636037632.0</td></tr><tr><td>train/train_loss</td><td>0.57146</td></tr><tr><td>train/train_runtime</td><td>586.1029</td></tr><tr><td>train/train_samples_per_second</td><td>46.473</td></tr><tr><td>train/train_steps_per_second</td><td>1.937</td></tr></table><br/></div></div>"
      ],
      "text/plain": [
       "<IPython.core.display.HTML object>"
      ]
     },
     "metadata": {},
     "output_type": "display_data"
    },
    {
     "data": {
      "text/html": [
       " View run <strong style=\"color:#cdcd00\">lunar-haze-553</strong> at: <a href='https://wandb.ai/ericat/huggingface/runs/6ese8stv' target=\"_blank\">https://wandb.ai/ericat/huggingface/runs/6ese8stv</a><br/>Synced 5 W&B file(s), 0 media file(s), 0 artifact file(s) and 0 other file(s)"
      ],
      "text/plain": [
       "<IPython.core.display.HTML object>"
      ]
     },
     "metadata": {},
     "output_type": "display_data"
    },
    {
     "data": {
      "text/html": [
       "Find logs at: <code>.\\wandb\\run-20231207_185122-6ese8stv\\logs</code>"
      ],
      "text/plain": [
       "<IPython.core.display.HTML object>"
      ]
     },
     "metadata": {},
     "output_type": "display_data"
    },
    {
     "data": {
      "application/vnd.jupyter.widget-view+json": {
       "model_id": "a8c1ffe03be74532b80660a5ccbbc7d7",
       "version_major": 2,
       "version_minor": 0
      },
      "text/plain": [
       "VBox(children=(Label(value='Waiting for wandb.init()...\\r'), FloatProgress(value=0.011277777777791521, max=1.0…"
      ]
     },
     "metadata": {},
     "output_type": "display_data"
    },
    {
     "data": {
      "text/html": [
       "wandb version 0.16.1 is available!  To upgrade, please run:\n",
       " $ pip install wandb --upgrade"
      ],
      "text/plain": [
       "<IPython.core.display.HTML object>"
      ]
     },
     "metadata": {},
     "output_type": "display_data"
    },
    {
     "data": {
      "text/html": [
       "Tracking run with wandb version 0.16.0"
      ],
      "text/plain": [
       "<IPython.core.display.HTML object>"
      ]
     },
     "metadata": {},
     "output_type": "display_data"
    },
    {
     "data": {
      "text/html": [
       "Run data is saved locally in <code>D:\\Projects\\Jupyter\\Sentiment analysis\\04DEC\\wandb\\run-20231207_190111-7mibna4h</code>"
      ],
      "text/plain": [
       "<IPython.core.display.HTML object>"
      ]
     },
     "metadata": {},
     "output_type": "display_data"
    },
    {
     "data": {
      "text/html": [
       "Syncing run <strong><a href='https://wandb.ai/ericat/huggingface/runs/7mibna4h' target=\"_blank\">gentle-thunder-554</a></strong> to <a href='https://wandb.ai/ericat/huggingface' target=\"_blank\">Weights & Biases</a> (<a href='https://wandb.me/run' target=\"_blank\">docs</a>)<br/>"
      ],
      "text/plain": [
       "<IPython.core.display.HTML object>"
      ]
     },
     "metadata": {},
     "output_type": "display_data"
    },
    {
     "data": {
      "text/html": [
       " View project at <a href='https://wandb.ai/ericat/huggingface' target=\"_blank\">https://wandb.ai/ericat/huggingface</a>"
      ],
      "text/plain": [
       "<IPython.core.display.HTML object>"
      ]
     },
     "metadata": {},
     "output_type": "display_data"
    },
    {
     "data": {
      "text/html": [
       " View run at <a href='https://wandb.ai/ericat/huggingface/runs/7mibna4h' target=\"_blank\">https://wandb.ai/ericat/huggingface/runs/7mibna4h</a>"
      ],
      "text/plain": [
       "<IPython.core.display.HTML object>"
      ]
     },
     "metadata": {},
     "output_type": "display_data"
    },
    {
     "name": "stdout",
     "output_type": "stream",
     "text": [
      "{'loss': 0.5662, 'learning_rate': 2.414098945721964e-06, 'epoch': 0.66}\n",
      "{'eval_loss': 0.5313547253608704, 'eval_accuracy': 0.7767988252569751, 'eval_f1': 0.780740584138342, 'eval_precision': 0.7779992568210391, 'eval_recall': 0.7848860784100683, 'eval_runtime': 39.1561, 'eval_samples_per_second': 173.919, 'eval_steps_per_second': 21.759, 'epoch': 0.66}\n",
      "{'loss': 0.5138, 'learning_rate': 1.936626844115563e-06, 'epoch': 1.32}\n",
      "{'eval_loss': 0.5210484862327576, 'eval_accuracy': 0.7832599118942731, 'eval_f1': 0.7865849409890497, 'eval_precision': 0.7872733051371794, 'eval_recall': 0.7871944698808709, 'eval_runtime': 39.1334, 'eval_samples_per_second': 174.02, 'eval_steps_per_second': 21.772, 'epoch': 1.32}\n",
      "{'loss': 0.4923, 'learning_rate': 1.4591547425091618e-06, 'epoch': 1.98}\n",
      "{'eval_loss': 0.5212540626525879, 'eval_accuracy': 0.7863436123348018, 'eval_f1': 0.7899854601129985, 'eval_precision': 0.7870059495538403, 'eval_recall': 0.7945759812388328, 'eval_runtime': 39.0882, 'eval_samples_per_second': 174.221, 'eval_steps_per_second': 21.797, 'epoch': 1.98}\n",
      "{'loss': 0.4761, 'learning_rate': 9.816826409027607e-07, 'epoch': 2.64}\n",
      "{'eval_loss': 0.516923189163208, 'eval_accuracy': 0.7897209985315712, 'eval_f1': 0.7933846765257117, 'eval_precision': 0.7921326414215418, 'eval_recall': 0.7947959096811288, 'eval_runtime': 39.0914, 'eval_samples_per_second': 174.207, 'eval_steps_per_second': 21.795, 'epoch': 2.64}\n",
      "{'loss': 0.4647, 'learning_rate': 5.042105392963596e-07, 'epoch': 3.3}\n",
      "{'eval_loss': 0.5170664191246033, 'eval_accuracy': 0.7913362701908957, 'eval_f1': 0.7949788953522295, 'eval_precision': 0.7940803031674696, 'eval_recall': 0.7959546601561748, 'eval_runtime': 39.2127, 'eval_samples_per_second': 173.668, 'eval_steps_per_second': 21.728, 'epoch': 3.3}\n",
      "{'loss': 0.4558, 'learning_rate': 2.6738437689958464e-08, 'epoch': 3.96}\n",
      "{'eval_loss': 0.5200740694999695, 'eval_accuracy': 0.7919236417033774, 'eval_f1': 0.7954684492618799, 'eval_precision': 0.7935235509679806, 'eval_recall': 0.7978564341650047, 'eval_runtime': 39.2393, 'eval_samples_per_second': 173.551, 'eval_steps_per_second': 21.713, 'epoch': 3.96}\n"
     ]
    },
    {
     "name": "stderr",
     "output_type": "stream",
     "text": [
      "[I 2023-12-07 21:19:06,637] Trial 5 finished with value: 3.1787720760982427 and parameters: {'learning_rate': 2.891571047328365e-06, 'num_train_epochs': 4, 'per_device_train_batch_size': 36}. Best is trial 5 with value: 3.1787720760982427.\n"
     ]
    },
    {
     "name": "stdout",
     "output_type": "stream",
     "text": [
      "{'train_runtime': 8282.5498, 'train_samples_per_second': 13.154, 'train_steps_per_second': 0.366, 'train_loss': 0.4944990314297191, 'epoch': 4.0}\n"
     ]
    },
    {
     "name": "stderr",
     "output_type": "stream",
     "text": [
      "Some weights of the model checkpoint at cardiffnlp/twitter-roberta-base-sentiment-latest were not used when initializing RobertaForSequenceClassification: ['roberta.pooler.dense.weight', 'roberta.pooler.dense.bias']\n",
      "- This IS expected if you are initializing RobertaForSequenceClassification from the checkpoint of a model trained on another task or with another architecture (e.g. initializing a BertForSequenceClassification model from a BertForPreTraining model).\n",
      "- This IS NOT expected if you are initializing RobertaForSequenceClassification from the checkpoint of a model that you expect to be exactly identical (initializing a BertForSequenceClassification model from a BertForSequenceClassification model).\n"
     ]
    },
    {
     "data": {
      "application/vnd.jupyter.widget-view+json": {
       "model_id": "",
       "version_major": 2,
       "version_minor": 0
      },
      "text/plain": [
       "VBox(children=(Label(value='0.001 MB of 0.001 MB uploaded\\r'), FloatProgress(value=1.0, max=1.0)))"
      ]
     },
     "metadata": {},
     "output_type": "display_data"
    },
    {
     "data": {
      "text/html": [
       "<style>\n",
       "    table.wandb td:nth-child(1) { padding: 0 10px; text-align: left ; width: auto;} td:nth-child(2) {text-align: left ; width: 100%}\n",
       "    .wandb-row { display: flex; flex-direction: row; flex-wrap: wrap; justify-content: flex-start; width: 100% }\n",
       "    .wandb-col { display: flex; flex-direction: column; flex-basis: 100%; flex: 1; padding: 10px; }\n",
       "    </style>\n",
       "<div class=\"wandb-row\"><div class=\"wandb-col\"><h3>Run history:</h3><br/><table class=\"wandb\"><tr><td>eval/accuracy</td><td>▁▄▅▇██</td></tr><tr><td>eval/f1</td><td>▁▄▅▇██</td></tr><tr><td>eval/loss</td><td>█▃▃▁▁▃</td></tr><tr><td>eval/precision</td><td>▁▅▅▇██</td></tr><tr><td>eval/recall</td><td>▁▂▆▆▇█</td></tr><tr><td>eval/runtime</td><td>▄▃▁▁▇█</td></tr><tr><td>eval/samples_per_second</td><td>▅▆██▂▁</td></tr><tr><td>eval/steps_per_second</td><td>▅▆██▂▁</td></tr><tr><td>train/epoch</td><td>▁▁▂▂▄▄▅▅▇▇███</td></tr><tr><td>train/global_step</td><td>▁▁▂▂▄▄▅▅▇▇███</td></tr><tr><td>train/learning_rate</td><td>█▇▅▄▂▁</td></tr><tr><td>train/loss</td><td>█▅▃▂▂▁</td></tr><tr><td>train/total_flos</td><td>▁</td></tr><tr><td>train/train_loss</td><td>▁</td></tr><tr><td>train/train_runtime</td><td>▁</td></tr><tr><td>train/train_samples_per_second</td><td>▁</td></tr><tr><td>train/train_steps_per_second</td><td>▁</td></tr></table><br/></div><div class=\"wandb-col\"><h3>Run summary:</h3><br/><table class=\"wandb\"><tr><td>eval/accuracy</td><td>0.79192</td></tr><tr><td>eval/f1</td><td>0.79547</td></tr><tr><td>eval/loss</td><td>0.52007</td></tr><tr><td>eval/precision</td><td>0.79352</td></tr><tr><td>eval/recall</td><td>0.79786</td></tr><tr><td>eval/runtime</td><td>39.2393</td></tr><tr><td>eval/samples_per_second</td><td>173.551</td></tr><tr><td>eval/steps_per_second</td><td>21.713</td></tr><tr><td>train/epoch</td><td>4.0</td></tr><tr><td>train/global_step</td><td>3028</td></tr><tr><td>train/learning_rate</td><td>0.0</td></tr><tr><td>train/loss</td><td>0.4558</td></tr><tr><td>train/total_flos</td><td>1.4333366544150528e+16</td></tr><tr><td>train/train_loss</td><td>0.4945</td></tr><tr><td>train/train_runtime</td><td>8282.5498</td></tr><tr><td>train/train_samples_per_second</td><td>13.154</td></tr><tr><td>train/train_steps_per_second</td><td>0.366</td></tr></table><br/></div></div>"
      ],
      "text/plain": [
       "<IPython.core.display.HTML object>"
      ]
     },
     "metadata": {},
     "output_type": "display_data"
    },
    {
     "data": {
      "text/html": [
       " View run <strong style=\"color:#cdcd00\">gentle-thunder-554</strong> at: <a href='https://wandb.ai/ericat/huggingface/runs/7mibna4h' target=\"_blank\">https://wandb.ai/ericat/huggingface/runs/7mibna4h</a><br/>Synced 5 W&B file(s), 0 media file(s), 0 artifact file(s) and 0 other file(s)"
      ],
      "text/plain": [
       "<IPython.core.display.HTML object>"
      ]
     },
     "metadata": {},
     "output_type": "display_data"
    },
    {
     "data": {
      "text/html": [
       "Find logs at: <code>.\\wandb\\run-20231207_190111-7mibna4h\\logs</code>"
      ],
      "text/plain": [
       "<IPython.core.display.HTML object>"
      ]
     },
     "metadata": {},
     "output_type": "display_data"
    },
    {
     "data": {
      "application/vnd.jupyter.widget-view+json": {
       "model_id": "366a396da0854df4a5d41dcb6502af8c",
       "version_major": 2,
       "version_minor": 0
      },
      "text/plain": [
       "VBox(children=(Label(value='Waiting for wandb.init()...\\r'), FloatProgress(value=0.011288888888884685, max=1.0…"
      ]
     },
     "metadata": {},
     "output_type": "display_data"
    },
    {
     "data": {
      "text/html": [
       "wandb version 0.16.1 is available!  To upgrade, please run:\n",
       " $ pip install wandb --upgrade"
      ],
      "text/plain": [
       "<IPython.core.display.HTML object>"
      ]
     },
     "metadata": {},
     "output_type": "display_data"
    },
    {
     "data": {
      "text/html": [
       "Tracking run with wandb version 0.16.0"
      ],
      "text/plain": [
       "<IPython.core.display.HTML object>"
      ]
     },
     "metadata": {},
     "output_type": "display_data"
    },
    {
     "data": {
      "text/html": [
       "Run data is saved locally in <code>D:\\Projects\\Jupyter\\Sentiment analysis\\04DEC\\wandb\\run-20231207_211915-nz73rmgi</code>"
      ],
      "text/plain": [
       "<IPython.core.display.HTML object>"
      ]
     },
     "metadata": {},
     "output_type": "display_data"
    },
    {
     "data": {
      "text/html": [
       "Syncing run <strong><a href='https://wandb.ai/ericat/huggingface/runs/nz73rmgi' target=\"_blank\">neat-music-555</a></strong> to <a href='https://wandb.ai/ericat/huggingface' target=\"_blank\">Weights & Biases</a> (<a href='https://wandb.me/run' target=\"_blank\">docs</a>)<br/>"
      ],
      "text/plain": [
       "<IPython.core.display.HTML object>"
      ]
     },
     "metadata": {},
     "output_type": "display_data"
    },
    {
     "data": {
      "text/html": [
       " View project at <a href='https://wandb.ai/ericat/huggingface' target=\"_blank\">https://wandb.ai/ericat/huggingface</a>"
      ],
      "text/plain": [
       "<IPython.core.display.HTML object>"
      ]
     },
     "metadata": {},
     "output_type": "display_data"
    },
    {
     "data": {
      "text/html": [
       " View run at <a href='https://wandb.ai/ericat/huggingface/runs/nz73rmgi' target=\"_blank\">https://wandb.ai/ericat/huggingface/runs/nz73rmgi</a>"
      ],
      "text/plain": [
       "<IPython.core.display.HTML object>"
      ]
     },
     "metadata": {},
     "output_type": "display_data"
    },
    {
     "name": "stdout",
     "output_type": "stream",
     "text": [
      "{'loss': 0.5256, 'learning_rate': 1.6868393519798245e-05, 'epoch': 1.03}\n",
      "{'eval_loss': 0.5347051024436951, 'eval_accuracy': 0.7922173274596183, 'eval_f1': 0.7954114897131994, 'eval_precision': 0.7924419890469129, 'eval_recall': 0.7999747995272006, 'eval_runtime': 39.098, 'eval_samples_per_second': 174.178, 'eval_steps_per_second': 21.791, 'epoch': 1.03}\n",
      "{'loss': 0.4124, 'learning_rate': 1.2509635504346502e-05, 'epoch': 2.05}\n",
      "{'eval_loss': 0.5804806351661682, 'eval_accuracy': 0.7942731277533039, 'eval_f1': 0.7975021163747339, 'eval_precision': 0.7950459303800482, 'eval_recall': 0.8010985225799976, 'eval_runtime': 39.1412, 'eval_samples_per_second': 173.985, 'eval_steps_per_second': 21.767, 'epoch': 2.05}\n",
      "{'loss': 0.3285, 'learning_rate': 8.150877488894758e-06, 'epoch': 3.08}\n",
      "{'eval_loss': 0.6508191823959351, 'eval_accuracy': 0.7938325991189428, 'eval_f1': 0.7969005643267941, 'eval_precision': 0.793852753156033, 'eval_recall': 0.8019337937480162, 'eval_runtime': 39.2083, 'eval_samples_per_second': 173.688, 'eval_steps_per_second': 21.73, 'epoch': 3.08}\n",
      "{'loss': 0.2551, 'learning_rate': 3.7921194734430163e-06, 'epoch': 4.11}\n",
      "{'eval_loss': 0.6916838884353638, 'eval_accuracy': 0.7894273127753304, 'eval_f1': 0.7926951905284895, 'eval_precision': 0.791175121297003, 'eval_recall': 0.7950396071933609, 'eval_runtime': 39.1626, 'eval_samples_per_second': 173.89, 'eval_steps_per_second': 21.755, 'epoch': 4.11}\n"
     ]
    },
    {
     "name": "stderr",
     "output_type": "stream",
     "text": [
      "[I 2023-12-08 05:22:39,532] Trial 6 finished with value: 3.168337231794184 and parameters: {'learning_rate': 2.1227151535249987e-05, 'num_train_epochs': 5, 'per_device_train_batch_size': 56}. Best is trial 5 with value: 3.1787720760982427.\n"
     ]
    },
    {
     "name": "stdout",
     "output_type": "stream",
     "text": [
      "{'train_runtime': 29010.6546, 'train_samples_per_second': 4.694, 'train_steps_per_second': 0.084, 'train_loss': 0.34892979804005714, 'epoch': 5.0}\n"
     ]
    },
    {
     "name": "stderr",
     "output_type": "stream",
     "text": [
      "Some weights of the model checkpoint at cardiffnlp/twitter-roberta-base-sentiment-latest were not used when initializing RobertaForSequenceClassification: ['roberta.pooler.dense.weight', 'roberta.pooler.dense.bias']\n",
      "- This IS expected if you are initializing RobertaForSequenceClassification from the checkpoint of a model trained on another task or with another architecture (e.g. initializing a BertForSequenceClassification model from a BertForPreTraining model).\n",
      "- This IS NOT expected if you are initializing RobertaForSequenceClassification from the checkpoint of a model that you expect to be exactly identical (initializing a BertForSequenceClassification model from a BertForSequenceClassification model).\n"
     ]
    },
    {
     "data": {
      "application/vnd.jupyter.widget-view+json": {
       "model_id": "",
       "version_major": 2,
       "version_minor": 0
      },
      "text/plain": [
       "VBox(children=(Label(value='0.001 MB of 0.001 MB uploaded\\r'), FloatProgress(value=1.0, max=1.0)))"
      ]
     },
     "metadata": {},
     "output_type": "display_data"
    },
    {
     "data": {
      "text/html": [
       "<style>\n",
       "    table.wandb td:nth-child(1) { padding: 0 10px; text-align: left ; width: auto;} td:nth-child(2) {text-align: left ; width: 100%}\n",
       "    .wandb-row { display: flex; flex-direction: row; flex-wrap: wrap; justify-content: flex-start; width: 100% }\n",
       "    .wandb-col { display: flex; flex-direction: column; flex-basis: 100%; flex: 1; padding: 10px; }\n",
       "    </style>\n",
       "<div class=\"wandb-row\"><div class=\"wandb-col\"><h3>Run history:</h3><br/><table class=\"wandb\"><tr><td>eval/accuracy</td><td>▅█▇▁</td></tr><tr><td>eval/f1</td><td>▅█▇▁</td></tr><tr><td>eval/loss</td><td>▁▃▆█</td></tr><tr><td>eval/precision</td><td>▃█▆▁</td></tr><tr><td>eval/recall</td><td>▆▇█▁</td></tr><tr><td>eval/runtime</td><td>▁▄█▅</td></tr><tr><td>eval/samples_per_second</td><td>█▅▁▄</td></tr><tr><td>eval/steps_per_second</td><td>█▅▁▄</td></tr><tr><td>train/epoch</td><td>▁▁▃▃▅▅▆▆█</td></tr><tr><td>train/global_step</td><td>▁▁▃▃▅▅▆▆█</td></tr><tr><td>train/learning_rate</td><td>█▆▃▁</td></tr><tr><td>train/loss</td><td>█▅▃▁</td></tr><tr><td>train/total_flos</td><td>▁</td></tr><tr><td>train/train_loss</td><td>▁</td></tr><tr><td>train/train_runtime</td><td>▁</td></tr><tr><td>train/train_samples_per_second</td><td>▁</td></tr><tr><td>train/train_steps_per_second</td><td>▁</td></tr></table><br/></div><div class=\"wandb-col\"><h3>Run summary:</h3><br/><table class=\"wandb\"><tr><td>eval/accuracy</td><td>0.78943</td></tr><tr><td>eval/f1</td><td>0.7927</td></tr><tr><td>eval/loss</td><td>0.69168</td></tr><tr><td>eval/precision</td><td>0.79118</td></tr><tr><td>eval/recall</td><td>0.79504</td></tr><tr><td>eval/runtime</td><td>39.1626</td></tr><tr><td>eval/samples_per_second</td><td>173.89</td></tr><tr><td>eval/steps_per_second</td><td>21.755</td></tr><tr><td>train/epoch</td><td>5.0</td></tr><tr><td>train/global_step</td><td>2435</td></tr><tr><td>train/learning_rate</td><td>0.0</td></tr><tr><td>train/loss</td><td>0.2551</td></tr><tr><td>train/total_flos</td><td>1.791670818018816e+16</td></tr><tr><td>train/train_loss</td><td>0.34893</td></tr><tr><td>train/train_runtime</td><td>29010.6546</td></tr><tr><td>train/train_samples_per_second</td><td>4.694</td></tr><tr><td>train/train_steps_per_second</td><td>0.084</td></tr></table><br/></div></div>"
      ],
      "text/plain": [
       "<IPython.core.display.HTML object>"
      ]
     },
     "metadata": {},
     "output_type": "display_data"
    },
    {
     "data": {
      "text/html": [
       " View run <strong style=\"color:#cdcd00\">neat-music-555</strong> at: <a href='https://wandb.ai/ericat/huggingface/runs/nz73rmgi' target=\"_blank\">https://wandb.ai/ericat/huggingface/runs/nz73rmgi</a><br/>Synced 5 W&B file(s), 0 media file(s), 0 artifact file(s) and 0 other file(s)"
      ],
      "text/plain": [
       "<IPython.core.display.HTML object>"
      ]
     },
     "metadata": {},
     "output_type": "display_data"
    },
    {
     "data": {
      "text/html": [
       "Find logs at: <code>.\\wandb\\run-20231207_211915-nz73rmgi\\logs</code>"
      ],
      "text/plain": [
       "<IPython.core.display.HTML object>"
      ]
     },
     "metadata": {},
     "output_type": "display_data"
    },
    {
     "data": {
      "application/vnd.jupyter.widget-view+json": {
       "model_id": "6696d01efa9b40679036e4268e66229b",
       "version_major": 2,
       "version_minor": 0
      },
      "text/plain": [
       "VBox(children=(Label(value='Waiting for wandb.init()...\\r'), FloatProgress(value=0.01127777777777131, max=1.0)…"
      ]
     },
     "metadata": {},
     "output_type": "display_data"
    },
    {
     "data": {
      "text/html": [
       "wandb version 0.16.1 is available!  To upgrade, please run:\n",
       " $ pip install wandb --upgrade"
      ],
      "text/plain": [
       "<IPython.core.display.HTML object>"
      ]
     },
     "metadata": {},
     "output_type": "display_data"
    },
    {
     "data": {
      "text/html": [
       "Tracking run with wandb version 0.16.0"
      ],
      "text/plain": [
       "<IPython.core.display.HTML object>"
      ]
     },
     "metadata": {},
     "output_type": "display_data"
    },
    {
     "data": {
      "text/html": [
       "Run data is saved locally in <code>D:\\Projects\\Jupyter\\Sentiment analysis\\04DEC\\wandb\\run-20231208_052250-lyw6m087</code>"
      ],
      "text/plain": [
       "<IPython.core.display.HTML object>"
      ]
     },
     "metadata": {},
     "output_type": "display_data"
    },
    {
     "data": {
      "text/html": [
       "Syncing run <strong><a href='https://wandb.ai/ericat/huggingface/runs/lyw6m087' target=\"_blank\">bumbling-spaceship-556</a></strong> to <a href='https://wandb.ai/ericat/huggingface' target=\"_blank\">Weights & Biases</a> (<a href='https://wandb.me/run' target=\"_blank\">docs</a>)<br/>"
      ],
      "text/plain": [
       "<IPython.core.display.HTML object>"
      ]
     },
     "metadata": {},
     "output_type": "display_data"
    },
    {
     "data": {
      "text/html": [
       " View project at <a href='https://wandb.ai/ericat/huggingface' target=\"_blank\">https://wandb.ai/ericat/huggingface</a>"
      ],
      "text/plain": [
       "<IPython.core.display.HTML object>"
      ]
     },
     "metadata": {},
     "output_type": "display_data"
    },
    {
     "data": {
      "text/html": [
       " View run at <a href='https://wandb.ai/ericat/huggingface/runs/lyw6m087' target=\"_blank\">https://wandb.ai/ericat/huggingface/runs/lyw6m087</a>"
      ],
      "text/plain": [
       "<IPython.core.display.HTML object>"
      ]
     },
     "metadata": {},
     "output_type": "display_data"
    },
    {
     "name": "stdout",
     "output_type": "stream",
     "text": [
      "{'loss': 0.5357, 'learning_rate': 3.1760577216159113e-06, 'epoch': 1.17}\n",
      "{'eval_loss': 0.5214064121246338, 'eval_accuracy': 0.7904552129221732, 'eval_f1': 0.7939451908870562, 'eval_precision': 0.7928337379284048, 'eval_recall': 0.7952529557019826, 'eval_runtime': 386.6961, 'eval_samples_per_second': 17.611, 'eval_steps_per_second': 2.203, 'epoch': 1.17}\n",
      "{'loss': 0.4796, 'learning_rate': 1.1348895200632692e-06, 'epoch': 2.35}\n",
      "{'eval_loss': 0.5139705538749695, 'eval_accuracy': 0.7898678414096917, 'eval_f1': 0.7935790388187159, 'eval_precision': 0.7931815535630958, 'eval_recall': 0.7940684224465063, 'eval_runtime': 386.2986, 'eval_samples_per_second': 17.629, 'eval_steps_per_second': 2.206, 'epoch': 2.35}\n"
     ]
    },
    {
     "name": "stderr",
     "output_type": "stream",
     "text": [
      "[I 2023-12-08 10:38:53,644] Trial 7 finished with value: 3.17069685623801 and parameters: {'learning_rate': 5.2172259231685535e-06, 'num_train_epochs': 3, 'per_device_train_batch_size': 64}. Best is trial 5 with value: 3.1787720760982427.\n"
     ]
    },
    {
     "name": "stdout",
     "output_type": "stream",
     "text": [
      "{'train_runtime': 18971.0987, 'train_samples_per_second': 4.307, 'train_steps_per_second': 0.067, 'train_loss': 0.49723906658811373, 'epoch': 3.0}\n"
     ]
    },
    {
     "name": "stderr",
     "output_type": "stream",
     "text": [
      "Some weights of the model checkpoint at cardiffnlp/twitter-roberta-base-sentiment-latest were not used when initializing RobertaForSequenceClassification: ['roberta.pooler.dense.weight', 'roberta.pooler.dense.bias']\n",
      "- This IS expected if you are initializing RobertaForSequenceClassification from the checkpoint of a model trained on another task or with another architecture (e.g. initializing a BertForSequenceClassification model from a BertForPreTraining model).\n",
      "- This IS NOT expected if you are initializing RobertaForSequenceClassification from the checkpoint of a model that you expect to be exactly identical (initializing a BertForSequenceClassification model from a BertForSequenceClassification model).\n"
     ]
    },
    {
     "data": {
      "application/vnd.jupyter.widget-view+json": {
       "model_id": "",
       "version_major": 2,
       "version_minor": 0
      },
      "text/plain": [
       "VBox(children=(Label(value='0.001 MB of 0.001 MB uploaded\\r'), FloatProgress(value=1.0, max=1.0)))"
      ]
     },
     "metadata": {},
     "output_type": "display_data"
    },
    {
     "data": {
      "text/html": [
       "<style>\n",
       "    table.wandb td:nth-child(1) { padding: 0 10px; text-align: left ; width: auto;} td:nth-child(2) {text-align: left ; width: 100%}\n",
       "    .wandb-row { display: flex; flex-direction: row; flex-wrap: wrap; justify-content: flex-start; width: 100% }\n",
       "    .wandb-col { display: flex; flex-direction: column; flex-basis: 100%; flex: 1; padding: 10px; }\n",
       "    </style>\n",
       "<div class=\"wandb-row\"><div class=\"wandb-col\"><h3>Run history:</h3><br/><table class=\"wandb\"><tr><td>eval/accuracy</td><td>█▁</td></tr><tr><td>eval/f1</td><td>█▁</td></tr><tr><td>eval/loss</td><td>█▁</td></tr><tr><td>eval/precision</td><td>▁█</td></tr><tr><td>eval/recall</td><td>█▁</td></tr><tr><td>eval/runtime</td><td>█▁</td></tr><tr><td>eval/samples_per_second</td><td>▁█</td></tr><tr><td>eval/steps_per_second</td><td>▁█</td></tr><tr><td>train/epoch</td><td>▁▁▆▆█</td></tr><tr><td>train/global_step</td><td>▁▁▅▅█</td></tr><tr><td>train/learning_rate</td><td>█▁</td></tr><tr><td>train/loss</td><td>█▁</td></tr><tr><td>train/total_flos</td><td>▁</td></tr><tr><td>train/train_loss</td><td>▁</td></tr><tr><td>train/train_runtime</td><td>▁</td></tr><tr><td>train/train_samples_per_second</td><td>▁</td></tr><tr><td>train/train_steps_per_second</td><td>▁</td></tr></table><br/></div><div class=\"wandb-col\"><h3>Run summary:</h3><br/><table class=\"wandb\"><tr><td>eval/accuracy</td><td>0.78987</td></tr><tr><td>eval/f1</td><td>0.79358</td></tr><tr><td>eval/loss</td><td>0.51397</td></tr><tr><td>eval/precision</td><td>0.79318</td></tr><tr><td>eval/recall</td><td>0.79407</td></tr><tr><td>eval/runtime</td><td>386.2986</td></tr><tr><td>eval/samples_per_second</td><td>17.629</td></tr><tr><td>eval/steps_per_second</td><td>2.206</td></tr><tr><td>train/epoch</td><td>3.0</td></tr><tr><td>train/global_step</td><td>1278</td></tr><tr><td>train/learning_rate</td><td>0.0</td></tr><tr><td>train/loss</td><td>0.4796</td></tr><tr><td>train/total_flos</td><td>1.0750024908112896e+16</td></tr><tr><td>train/train_loss</td><td>0.49724</td></tr><tr><td>train/train_runtime</td><td>18971.0987</td></tr><tr><td>train/train_samples_per_second</td><td>4.307</td></tr><tr><td>train/train_steps_per_second</td><td>0.067</td></tr></table><br/></div></div>"
      ],
      "text/plain": [
       "<IPython.core.display.HTML object>"
      ]
     },
     "metadata": {},
     "output_type": "display_data"
    },
    {
     "data": {
      "text/html": [
       " View run <strong style=\"color:#cdcd00\">bumbling-spaceship-556</strong> at: <a href='https://wandb.ai/ericat/huggingface/runs/lyw6m087' target=\"_blank\">https://wandb.ai/ericat/huggingface/runs/lyw6m087</a><br/>Synced 5 W&B file(s), 0 media file(s), 0 artifact file(s) and 0 other file(s)"
      ],
      "text/plain": [
       "<IPython.core.display.HTML object>"
      ]
     },
     "metadata": {},
     "output_type": "display_data"
    },
    {
     "data": {
      "text/html": [
       "Find logs at: <code>.\\wandb\\run-20231208_052250-lyw6m087\\logs</code>"
      ],
      "text/plain": [
       "<IPython.core.display.HTML object>"
      ]
     },
     "metadata": {},
     "output_type": "display_data"
    },
    {
     "data": {
      "application/vnd.jupyter.widget-view+json": {
       "model_id": "52cc8494766e4e4e8006de4812ad1545",
       "version_major": 2,
       "version_minor": 0
      },
      "text/plain": [
       "VBox(children=(Label(value='Waiting for wandb.init()...\\r'), FloatProgress(value=0.011288888888925108, max=1.0…"
      ]
     },
     "metadata": {},
     "output_type": "display_data"
    },
    {
     "data": {
      "text/html": [
       "wandb version 0.16.1 is available!  To upgrade, please run:\n",
       " $ pip install wandb --upgrade"
      ],
      "text/plain": [
       "<IPython.core.display.HTML object>"
      ]
     },
     "metadata": {},
     "output_type": "display_data"
    },
    {
     "data": {
      "text/html": [
       "Tracking run with wandb version 0.16.0"
      ],
      "text/plain": [
       "<IPython.core.display.HTML object>"
      ]
     },
     "metadata": {},
     "output_type": "display_data"
    },
    {
     "data": {
      "text/html": [
       "Run data is saved locally in <code>D:\\Projects\\Jupyter\\Sentiment analysis\\04DEC\\wandb\\run-20231208_103904-bnyb2mzv</code>"
      ],
      "text/plain": [
       "<IPython.core.display.HTML object>"
      ]
     },
     "metadata": {},
     "output_type": "display_data"
    },
    {
     "data": {
      "text/html": [
       "Syncing run <strong><a href='https://wandb.ai/ericat/huggingface/runs/bnyb2mzv' target=\"_blank\">restful-breeze-557</a></strong> to <a href='https://wandb.ai/ericat/huggingface' target=\"_blank\">Weights & Biases</a> (<a href='https://wandb.me/run' target=\"_blank\">docs</a>)<br/>"
      ],
      "text/plain": [
       "<IPython.core.display.HTML object>"
      ]
     },
     "metadata": {},
     "output_type": "display_data"
    },
    {
     "data": {
      "text/html": [
       " View project at <a href='https://wandb.ai/ericat/huggingface' target=\"_blank\">https://wandb.ai/ericat/huggingface</a>"
      ],
      "text/plain": [
       "<IPython.core.display.HTML object>"
      ]
     },
     "metadata": {},
     "output_type": "display_data"
    },
    {
     "data": {
      "text/html": [
       " View run at <a href='https://wandb.ai/ericat/huggingface/runs/bnyb2mzv' target=\"_blank\">https://wandb.ai/ericat/huggingface/runs/bnyb2mzv</a>"
      ],
      "text/plain": [
       "<IPython.core.display.HTML object>"
      ]
     },
     "metadata": {},
     "output_type": "display_data"
    },
    {
     "name": "stdout",
     "output_type": "stream",
     "text": [
      "{'loss': 0.5533, 'learning_rate': 1.2903696756373819e-06, 'epoch': 0.73}\n",
      "{'eval_loss': 0.523880660533905, 'eval_accuracy': 0.7828193832599118, 'eval_f1': 0.7863373076092292, 'eval_precision': 0.7831514748197739, 'eval_recall': 0.791368390683523, 'eval_runtime': 39.181, 'eval_samples_per_second': 173.809, 'eval_steps_per_second': 21.745, 'epoch': 0.73}\n"
     ]
    },
    {
     "name": "stderr",
     "output_type": "stream",
     "text": [
      "[I 2023-12-08 11:22:34,539] Trial 8 finished with value: 3.143676556372438 and parameters: {'learning_rate': 4.8549267906577735e-06, 'num_train_epochs': 1, 'per_device_train_batch_size': 40}. Best is trial 5 with value: 3.1787720760982427.\n"
     ]
    },
    {
     "name": "stdout",
     "output_type": "stream",
     "text": [
      "{'train_runtime': 2618.0636, 'train_samples_per_second': 10.404, 'train_steps_per_second': 0.26, 'train_loss': 0.5427696463295016, 'epoch': 1.0}\n"
     ]
    },
    {
     "name": "stderr",
     "output_type": "stream",
     "text": [
      "Some weights of the model checkpoint at cardiffnlp/twitter-roberta-base-sentiment-latest were not used when initializing RobertaForSequenceClassification: ['roberta.pooler.dense.weight', 'roberta.pooler.dense.bias']\n",
      "- This IS expected if you are initializing RobertaForSequenceClassification from the checkpoint of a model trained on another task or with another architecture (e.g. initializing a BertForSequenceClassification model from a BertForPreTraining model).\n",
      "- This IS NOT expected if you are initializing RobertaForSequenceClassification from the checkpoint of a model that you expect to be exactly identical (initializing a BertForSequenceClassification model from a BertForSequenceClassification model).\n"
     ]
    },
    {
     "data": {
      "application/vnd.jupyter.widget-view+json": {
       "model_id": "",
       "version_major": 2,
       "version_minor": 0
      },
      "text/plain": [
       "VBox(children=(Label(value='0.001 MB of 0.001 MB uploaded\\r'), FloatProgress(value=1.0, max=1.0)))"
      ]
     },
     "metadata": {},
     "output_type": "display_data"
    },
    {
     "data": {
      "text/html": [
       "<style>\n",
       "    table.wandb td:nth-child(1) { padding: 0 10px; text-align: left ; width: auto;} td:nth-child(2) {text-align: left ; width: 100%}\n",
       "    .wandb-row { display: flex; flex-direction: row; flex-wrap: wrap; justify-content: flex-start; width: 100% }\n",
       "    .wandb-col { display: flex; flex-direction: column; flex-basis: 100%; flex: 1; padding: 10px; }\n",
       "    </style>\n",
       "<div class=\"wandb-row\"><div class=\"wandb-col\"><h3>Run history:</h3><br/><table class=\"wandb\"><tr><td>eval/accuracy</td><td>▁</td></tr><tr><td>eval/f1</td><td>▁</td></tr><tr><td>eval/loss</td><td>▁</td></tr><tr><td>eval/precision</td><td>▁</td></tr><tr><td>eval/recall</td><td>▁</td></tr><tr><td>eval/runtime</td><td>▁</td></tr><tr><td>eval/samples_per_second</td><td>▁</td></tr><tr><td>eval/steps_per_second</td><td>▁</td></tr><tr><td>train/epoch</td><td>▁▁█</td></tr><tr><td>train/global_step</td><td>▁▁█</td></tr><tr><td>train/learning_rate</td><td>▁</td></tr><tr><td>train/loss</td><td>▁</td></tr><tr><td>train/total_flos</td><td>▁</td></tr><tr><td>train/train_loss</td><td>▁</td></tr><tr><td>train/train_runtime</td><td>▁</td></tr><tr><td>train/train_samples_per_second</td><td>▁</td></tr><tr><td>train/train_steps_per_second</td><td>▁</td></tr></table><br/></div><div class=\"wandb-col\"><h3>Run summary:</h3><br/><table class=\"wandb\"><tr><td>eval/accuracy</td><td>0.78282</td></tr><tr><td>eval/f1</td><td>0.78634</td></tr><tr><td>eval/loss</td><td>0.52388</td></tr><tr><td>eval/precision</td><td>0.78315</td></tr><tr><td>eval/recall</td><td>0.79137</td></tr><tr><td>eval/runtime</td><td>39.181</td></tr><tr><td>eval/samples_per_second</td><td>173.809</td></tr><tr><td>eval/steps_per_second</td><td>21.745</td></tr><tr><td>train/epoch</td><td>1.0</td></tr><tr><td>train/global_step</td><td>681</td></tr><tr><td>train/learning_rate</td><td>0.0</td></tr><tr><td>train/loss</td><td>0.5533</td></tr><tr><td>train/total_flos</td><td>3583341636037632.0</td></tr><tr><td>train/train_loss</td><td>0.54277</td></tr><tr><td>train/train_runtime</td><td>2618.0636</td></tr><tr><td>train/train_samples_per_second</td><td>10.404</td></tr><tr><td>train/train_steps_per_second</td><td>0.26</td></tr></table><br/></div></div>"
      ],
      "text/plain": [
       "<IPython.core.display.HTML object>"
      ]
     },
     "metadata": {},
     "output_type": "display_data"
    },
    {
     "data": {
      "text/html": [
       " View run <strong style=\"color:#cdcd00\">restful-breeze-557</strong> at: <a href='https://wandb.ai/ericat/huggingface/runs/bnyb2mzv' target=\"_blank\">https://wandb.ai/ericat/huggingface/runs/bnyb2mzv</a><br/>Synced 5 W&B file(s), 0 media file(s), 0 artifact file(s) and 0 other file(s)"
      ],
      "text/plain": [
       "<IPython.core.display.HTML object>"
      ]
     },
     "metadata": {},
     "output_type": "display_data"
    },
    {
     "data": {
      "text/html": [
       "Find logs at: <code>.\\wandb\\run-20231208_103904-bnyb2mzv\\logs</code>"
      ],
      "text/plain": [
       "<IPython.core.display.HTML object>"
      ]
     },
     "metadata": {},
     "output_type": "display_data"
    },
    {
     "data": {
      "application/vnd.jupyter.widget-view+json": {
       "model_id": "9c0bd3e8a6ac48dbbc38c29f26ac6968",
       "version_major": 2,
       "version_minor": 0
      },
      "text/plain": [
       "VBox(children=(Label(value='Waiting for wandb.init()...\\r'), FloatProgress(value=0.011288888888925108, max=1.0…"
      ]
     },
     "metadata": {},
     "output_type": "display_data"
    },
    {
     "data": {
      "text/html": [
       "wandb version 0.16.1 is available!  To upgrade, please run:\n",
       " $ pip install wandb --upgrade"
      ],
      "text/plain": [
       "<IPython.core.display.HTML object>"
      ]
     },
     "metadata": {},
     "output_type": "display_data"
    },
    {
     "data": {
      "text/html": [
       "Tracking run with wandb version 0.16.0"
      ],
      "text/plain": [
       "<IPython.core.display.HTML object>"
      ]
     },
     "metadata": {},
     "output_type": "display_data"
    },
    {
     "data": {
      "text/html": [
       "Run data is saved locally in <code>D:\\Projects\\Jupyter\\Sentiment analysis\\04DEC\\wandb\\run-20231208_112243-ohhbjtlm</code>"
      ],
      "text/plain": [
       "<IPython.core.display.HTML object>"
      ]
     },
     "metadata": {},
     "output_type": "display_data"
    },
    {
     "data": {
      "text/html": [
       "Syncing run <strong><a href='https://wandb.ai/ericat/huggingface/runs/ohhbjtlm' target=\"_blank\">rural-durian-558</a></strong> to <a href='https://wandb.ai/ericat/huggingface' target=\"_blank\">Weights & Biases</a> (<a href='https://wandb.me/run' target=\"_blank\">docs</a>)<br/>"
      ],
      "text/plain": [
       "<IPython.core.display.HTML object>"
      ]
     },
     "metadata": {},
     "output_type": "display_data"
    },
    {
     "data": {
      "text/html": [
       " View project at <a href='https://wandb.ai/ericat/huggingface' target=\"_blank\">https://wandb.ai/ericat/huggingface</a>"
      ],
      "text/plain": [
       "<IPython.core.display.HTML object>"
      ]
     },
     "metadata": {},
     "output_type": "display_data"
    },
    {
     "data": {
      "text/html": [
       " View run at <a href='https://wandb.ai/ericat/huggingface/runs/ohhbjtlm' target=\"_blank\">https://wandb.ai/ericat/huggingface/runs/ohhbjtlm</a>"
      ],
      "text/plain": [
       "<IPython.core.display.HTML object>"
      ]
     },
     "metadata": {},
     "output_type": "display_data"
    },
    {
     "name": "stdout",
     "output_type": "stream",
     "text": [
      "{'loss': 0.603, 'learning_rate': 1.8540162118491966e-05, 'epoch': 0.88}\n",
      "{'eval_loss': 0.5288662910461426, 'eval_accuracy': 0.7784140969162996, 'eval_f1': 0.7809701798486186, 'eval_precision': 0.7795088073288946, 'eval_recall': 0.7849107355400596, 'eval_runtime': 39.0861, 'eval_samples_per_second': 174.231, 'eval_steps_per_second': 21.798, 'epoch': 0.88}\n"
     ]
    },
    {
     "name": "stderr",
     "output_type": "stream",
     "text": [
      "[I 2023-12-08 12:31:38,187] Trial 9 finished with value: 3.1238038196338724 and parameters: {'learning_rate': 0.00015486488357799172, 'num_train_epochs': 1, 'per_device_train_batch_size': 48}. Best is trial 5 with value: 3.1787720760982427.\n"
     ]
    },
    {
     "name": "stdout",
     "output_type": "stream",
     "text": [
      "{'train_runtime': 4141.4447, 'train_samples_per_second': 6.577, 'train_steps_per_second': 0.137, 'train_loss': 0.5889254892376107, 'epoch': 1.0}\n"
     ]
    },
    {
     "name": "stderr",
     "output_type": "stream",
     "text": [
      "Some weights of the model checkpoint at cardiffnlp/twitter-roberta-base-sentiment-latest were not used when initializing RobertaForSequenceClassification: ['roberta.pooler.dense.weight', 'roberta.pooler.dense.bias']\n",
      "- This IS expected if you are initializing RobertaForSequenceClassification from the checkpoint of a model trained on another task or with another architecture (e.g. initializing a BertForSequenceClassification model from a BertForPreTraining model).\n",
      "- This IS NOT expected if you are initializing RobertaForSequenceClassification from the checkpoint of a model that you expect to be exactly identical (initializing a BertForSequenceClassification model from a BertForSequenceClassification model).\n"
     ]
    },
    {
     "data": {
      "application/vnd.jupyter.widget-view+json": {
       "model_id": "",
       "version_major": 2,
       "version_minor": 0
      },
      "text/plain": [
       "VBox(children=(Label(value='0.001 MB of 0.001 MB uploaded\\r'), FloatProgress(value=1.0, max=1.0)))"
      ]
     },
     "metadata": {},
     "output_type": "display_data"
    },
    {
     "data": {
      "text/html": [
       "<style>\n",
       "    table.wandb td:nth-child(1) { padding: 0 10px; text-align: left ; width: auto;} td:nth-child(2) {text-align: left ; width: 100%}\n",
       "    .wandb-row { display: flex; flex-direction: row; flex-wrap: wrap; justify-content: flex-start; width: 100% }\n",
       "    .wandb-col { display: flex; flex-direction: column; flex-basis: 100%; flex: 1; padding: 10px; }\n",
       "    </style>\n",
       "<div class=\"wandb-row\"><div class=\"wandb-col\"><h3>Run history:</h3><br/><table class=\"wandb\"><tr><td>eval/accuracy</td><td>▁</td></tr><tr><td>eval/f1</td><td>▁</td></tr><tr><td>eval/loss</td><td>▁</td></tr><tr><td>eval/precision</td><td>▁</td></tr><tr><td>eval/recall</td><td>▁</td></tr><tr><td>eval/runtime</td><td>▁</td></tr><tr><td>eval/samples_per_second</td><td>▁</td></tr><tr><td>eval/steps_per_second</td><td>▁</td></tr><tr><td>train/epoch</td><td>▁▁█</td></tr><tr><td>train/global_step</td><td>▁▁█</td></tr><tr><td>train/learning_rate</td><td>▁</td></tr><tr><td>train/loss</td><td>▁</td></tr><tr><td>train/total_flos</td><td>▁</td></tr><tr><td>train/train_loss</td><td>▁</td></tr><tr><td>train/train_runtime</td><td>▁</td></tr><tr><td>train/train_samples_per_second</td><td>▁</td></tr><tr><td>train/train_steps_per_second</td><td>▁</td></tr></table><br/></div><div class=\"wandb-col\"><h3>Run summary:</h3><br/><table class=\"wandb\"><tr><td>eval/accuracy</td><td>0.77841</td></tr><tr><td>eval/f1</td><td>0.78097</td></tr><tr><td>eval/loss</td><td>0.52887</td></tr><tr><td>eval/precision</td><td>0.77951</td></tr><tr><td>eval/recall</td><td>0.78491</td></tr><tr><td>eval/runtime</td><td>39.0861</td></tr><tr><td>eval/samples_per_second</td><td>174.231</td></tr><tr><td>eval/steps_per_second</td><td>21.798</td></tr><tr><td>train/epoch</td><td>1.0</td></tr><tr><td>train/global_step</td><td>568</td></tr><tr><td>train/learning_rate</td><td>2e-05</td></tr><tr><td>train/loss</td><td>0.603</td></tr><tr><td>train/total_flos</td><td>3583341636037632.0</td></tr><tr><td>train/train_loss</td><td>0.58893</td></tr><tr><td>train/train_runtime</td><td>4141.4447</td></tr><tr><td>train/train_samples_per_second</td><td>6.577</td></tr><tr><td>train/train_steps_per_second</td><td>0.137</td></tr></table><br/></div></div>"
      ],
      "text/plain": [
       "<IPython.core.display.HTML object>"
      ]
     },
     "metadata": {},
     "output_type": "display_data"
    },
    {
     "data": {
      "text/html": [
       " View run <strong style=\"color:#cdcd00\">rural-durian-558</strong> at: <a href='https://wandb.ai/ericat/huggingface/runs/ohhbjtlm' target=\"_blank\">https://wandb.ai/ericat/huggingface/runs/ohhbjtlm</a><br/>Synced 5 W&B file(s), 0 media file(s), 0 artifact file(s) and 0 other file(s)"
      ],
      "text/plain": [
       "<IPython.core.display.HTML object>"
      ]
     },
     "metadata": {},
     "output_type": "display_data"
    },
    {
     "data": {
      "text/html": [
       "Find logs at: <code>.\\wandb\\run-20231208_112243-ohhbjtlm\\logs</code>"
      ],
      "text/plain": [
       "<IPython.core.display.HTML object>"
      ]
     },
     "metadata": {},
     "output_type": "display_data"
    },
    {
     "data": {
      "application/vnd.jupyter.widget-view+json": {
       "model_id": "a94e9a71759349d29729b82e1efc8abb",
       "version_major": 2,
       "version_minor": 0
      },
      "text/plain": [
       "VBox(children=(Label(value='Waiting for wandb.init()...\\r'), FloatProgress(value=0.011111111111111112, max=1.0…"
      ]
     },
     "metadata": {},
     "output_type": "display_data"
    },
    {
     "data": {
      "text/html": [
       "wandb version 0.16.1 is available!  To upgrade, please run:\n",
       " $ pip install wandb --upgrade"
      ],
      "text/plain": [
       "<IPython.core.display.HTML object>"
      ]
     },
     "metadata": {},
     "output_type": "display_data"
    },
    {
     "data": {
      "text/html": [
       "Tracking run with wandb version 0.16.0"
      ],
      "text/plain": [
       "<IPython.core.display.HTML object>"
      ]
     },
     "metadata": {},
     "output_type": "display_data"
    },
    {
     "data": {
      "text/html": [
       "Run data is saved locally in <code>D:\\Projects\\Jupyter\\Sentiment analysis\\04DEC\\wandb\\run-20231208_123147-vqvaesf4</code>"
      ],
      "text/plain": [
       "<IPython.core.display.HTML object>"
      ]
     },
     "metadata": {},
     "output_type": "display_data"
    },
    {
     "data": {
      "text/html": [
       "Syncing run <strong><a href='https://wandb.ai/ericat/huggingface/runs/vqvaesf4' target=\"_blank\">usual-bird-559</a></strong> to <a href='https://wandb.ai/ericat/huggingface' target=\"_blank\">Weights & Biases</a> (<a href='https://wandb.me/run' target=\"_blank\">docs</a>)<br/>"
      ],
      "text/plain": [
       "<IPython.core.display.HTML object>"
      ]
     },
     "metadata": {},
     "output_type": "display_data"
    },
    {
     "data": {
      "text/html": [
       " View project at <a href='https://wandb.ai/ericat/huggingface' target=\"_blank\">https://wandb.ai/ericat/huggingface</a>"
      ],
      "text/plain": [
       "<IPython.core.display.HTML object>"
      ]
     },
     "metadata": {},
     "output_type": "display_data"
    },
    {
     "data": {
      "text/html": [
       " View run at <a href='https://wandb.ai/ericat/huggingface/runs/vqvaesf4' target=\"_blank\">https://wandb.ai/ericat/huggingface/runs/vqvaesf4</a>"
      ],
      "text/plain": [
       "<IPython.core.display.HTML object>"
      ]
     },
     "metadata": {},
     "output_type": "display_data"
    },
    {
     "name": "stdout",
     "output_type": "stream",
     "text": [
      "{'loss': 0.5724, 'learning_rate': 8.88146725218439e-07, 'epoch': 1.32}\n"
     ]
    },
    {
     "name": "stderr",
     "output_type": "stream",
     "text": [
      "[I 2023-12-08 15:14:41,489] Trial 10 pruned. \n"
     ]
    },
    {
     "name": "stdout",
     "output_type": "stream",
     "text": [
      "{'eval_loss': 0.5402680039405823, 'eval_accuracy': 0.768575624082232, 'eval_f1': 0.7724174214963199, 'eval_precision': 0.7694486717448902, 'eval_recall': 0.7782851768565687, 'eval_runtime': 472.3264, 'eval_samples_per_second': 14.418, 'eval_steps_per_second': 1.804, 'epoch': 1.32}\n"
     ]
    },
    {
     "name": "stderr",
     "output_type": "stream",
     "text": [
      "Some weights of the model checkpoint at cardiffnlp/twitter-roberta-base-sentiment-latest were not used when initializing RobertaForSequenceClassification: ['roberta.pooler.dense.weight', 'roberta.pooler.dense.bias']\n",
      "- This IS expected if you are initializing RobertaForSequenceClassification from the checkpoint of a model trained on another task or with another architecture (e.g. initializing a BertForSequenceClassification model from a BertForPreTraining model).\n",
      "- This IS NOT expected if you are initializing RobertaForSequenceClassification from the checkpoint of a model that you expect to be exactly identical (initializing a BertForSequenceClassification model from a BertForSequenceClassification model).\n"
     ]
    },
    {
     "data": {
      "application/vnd.jupyter.widget-view+json": {
       "model_id": "",
       "version_major": 2,
       "version_minor": 0
      },
      "text/plain": [
       "VBox(children=(Label(value='0.001 MB of 0.001 MB uploaded\\r'), FloatProgress(value=1.0, max=1.0)))"
      ]
     },
     "metadata": {},
     "output_type": "display_data"
    },
    {
     "data": {
      "text/html": [
       "<style>\n",
       "    table.wandb td:nth-child(1) { padding: 0 10px; text-align: left ; width: auto;} td:nth-child(2) {text-align: left ; width: 100%}\n",
       "    .wandb-row { display: flex; flex-direction: row; flex-wrap: wrap; justify-content: flex-start; width: 100% }\n",
       "    .wandb-col { display: flex; flex-direction: column; flex-basis: 100%; flex: 1; padding: 10px; }\n",
       "    </style>\n",
       "<div class=\"wandb-row\"><div class=\"wandb-col\"><h3>Run history:</h3><br/><table class=\"wandb\"><tr><td>eval/accuracy</td><td>▁</td></tr><tr><td>eval/f1</td><td>▁</td></tr><tr><td>eval/loss</td><td>▁</td></tr><tr><td>eval/precision</td><td>▁</td></tr><tr><td>eval/recall</td><td>▁</td></tr><tr><td>eval/runtime</td><td>▁</td></tr><tr><td>eval/samples_per_second</td><td>▁</td></tr><tr><td>eval/steps_per_second</td><td>▁</td></tr><tr><td>train/epoch</td><td>▁▁</td></tr><tr><td>train/global_step</td><td>▁▁</td></tr><tr><td>train/learning_rate</td><td>▁</td></tr><tr><td>train/loss</td><td>▁</td></tr></table><br/></div><div class=\"wandb-col\"><h3>Run summary:</h3><br/><table class=\"wandb\"><tr><td>eval/accuracy</td><td>0.76858</td></tr><tr><td>eval/f1</td><td>0.77242</td></tr><tr><td>eval/loss</td><td>0.54027</td></tr><tr><td>eval/precision</td><td>0.76945</td></tr><tr><td>eval/recall</td><td>0.77829</td></tr><tr><td>eval/runtime</td><td>472.3264</td></tr><tr><td>eval/samples_per_second</td><td>14.418</td></tr><tr><td>eval/steps_per_second</td><td>1.804</td></tr><tr><td>train/epoch</td><td>1.32</td></tr><tr><td>train/global_step</td><td>500</td></tr><tr><td>train/learning_rate</td><td>0.0</td></tr><tr><td>train/loss</td><td>0.5724</td></tr></table><br/></div></div>"
      ],
      "text/plain": [
       "<IPython.core.display.HTML object>"
      ]
     },
     "metadata": {},
     "output_type": "display_data"
    },
    {
     "data": {
      "text/html": [
       " View run <strong style=\"color:#cdcd00\">usual-bird-559</strong> at: <a href='https://wandb.ai/ericat/huggingface/runs/vqvaesf4' target=\"_blank\">https://wandb.ai/ericat/huggingface/runs/vqvaesf4</a><br/>Synced 5 W&B file(s), 0 media file(s), 0 artifact file(s) and 0 other file(s)"
      ],
      "text/plain": [
       "<IPython.core.display.HTML object>"
      ]
     },
     "metadata": {},
     "output_type": "display_data"
    },
    {
     "data": {
      "text/html": [
       "Find logs at: <code>.\\wandb\\run-20231208_123147-vqvaesf4\\logs</code>"
      ],
      "text/plain": [
       "<IPython.core.display.HTML object>"
      ]
     },
     "metadata": {},
     "output_type": "display_data"
    },
    {
     "data": {
      "application/vnd.jupyter.widget-view+json": {
       "model_id": "2e515ae08cc143a1b177a4f66a9bfd29",
       "version_major": 2,
       "version_minor": 0
      },
      "text/plain": [
       "VBox(children=(Label(value='Waiting for wandb.init()...\\r'), FloatProgress(value=0.011288888888925108, max=1.0…"
      ]
     },
     "metadata": {},
     "output_type": "display_data"
    },
    {
     "data": {
      "text/html": [
       "wandb version 0.16.1 is available!  To upgrade, please run:\n",
       " $ pip install wandb --upgrade"
      ],
      "text/plain": [
       "<IPython.core.display.HTML object>"
      ]
     },
     "metadata": {},
     "output_type": "display_data"
    },
    {
     "data": {
      "text/html": [
       "Tracking run with wandb version 0.16.0"
      ],
      "text/plain": [
       "<IPython.core.display.HTML object>"
      ]
     },
     "metadata": {},
     "output_type": "display_data"
    },
    {
     "data": {
      "text/html": [
       "Run data is saved locally in <code>D:\\Projects\\Jupyter\\Sentiment analysis\\04DEC\\wandb\\run-20231208_151449-bzbdbax5</code>"
      ],
      "text/plain": [
       "<IPython.core.display.HTML object>"
      ]
     },
     "metadata": {},
     "output_type": "display_data"
    },
    {
     "data": {
      "text/html": [
       "Syncing run <strong><a href='https://wandb.ai/ericat/huggingface/runs/bzbdbax5' target=\"_blank\">icy-sound-560</a></strong> to <a href='https://wandb.ai/ericat/huggingface' target=\"_blank\">Weights & Biases</a> (<a href='https://wandb.me/run' target=\"_blank\">docs</a>)<br/>"
      ],
      "text/plain": [
       "<IPython.core.display.HTML object>"
      ]
     },
     "metadata": {},
     "output_type": "display_data"
    },
    {
     "data": {
      "text/html": [
       " View project at <a href='https://wandb.ai/ericat/huggingface' target=\"_blank\">https://wandb.ai/ericat/huggingface</a>"
      ],
      "text/plain": [
       "<IPython.core.display.HTML object>"
      ]
     },
     "metadata": {},
     "output_type": "display_data"
    },
    {
     "data": {
      "text/html": [
       " View run at <a href='https://wandb.ai/ericat/huggingface/runs/bzbdbax5' target=\"_blank\">https://wandb.ai/ericat/huggingface/runs/bzbdbax5</a>"
      ],
      "text/plain": [
       "<IPython.core.display.HTML object>"
      ]
     },
     "metadata": {},
     "output_type": "display_data"
    },
    {
     "name": "stdout",
     "output_type": "stream",
     "text": [
      "{'loss': 0.527, 'learning_rate': 4.764536190714087e-06, 'epoch': 1.17}\n",
      "{'eval_loss': 0.5217233300209045, 'eval_accuracy': 0.7911894273127753, 'eval_f1': 0.7948594628280974, 'eval_precision': 0.7935327121352018, 'eval_recall': 0.7963657559328858, 'eval_runtime': 386.0183, 'eval_samples_per_second': 17.642, 'eval_steps_per_second': 2.207, 'epoch': 1.17}\n",
      "{'loss': 0.4607, 'learning_rate': 1.7024949370417945e-06, 'epoch': 2.35}\n",
      "{'eval_loss': 0.5153166651725769, 'eval_accuracy': 0.7894273127753304, 'eval_f1': 0.7931970623319528, 'eval_precision': 0.7932945612616117, 'eval_recall': 0.793315993501411, 'eval_runtime': 386.5243, 'eval_samples_per_second': 17.619, 'eval_steps_per_second': 2.204, 'epoch': 2.35}\n"
     ]
    },
    {
     "name": "stderr",
     "output_type": "stream",
     "text": [
      "[I 2023-12-08 20:48:18,439] Trial 11 finished with value: 3.169234929870306 and parameters: {'learning_rate': 7.826577444386379e-06, 'num_train_epochs': 3, 'per_device_train_batch_size': 64}. Best is trial 5 with value: 3.1787720760982427.\n"
     ]
    },
    {
     "name": "stdout",
     "output_type": "stream",
     "text": [
      "{'train_runtime': 20013.9056, 'train_samples_per_second': 4.083, 'train_steps_per_second': 0.064, 'train_loss': 0.4811446021233739, 'epoch': 3.0}\n"
     ]
    },
    {
     "name": "stderr",
     "output_type": "stream",
     "text": [
      "Some weights of the model checkpoint at cardiffnlp/twitter-roberta-base-sentiment-latest were not used when initializing RobertaForSequenceClassification: ['roberta.pooler.dense.weight', 'roberta.pooler.dense.bias']\n",
      "- This IS expected if you are initializing RobertaForSequenceClassification from the checkpoint of a model trained on another task or with another architecture (e.g. initializing a BertForSequenceClassification model from a BertForPreTraining model).\n",
      "- This IS NOT expected if you are initializing RobertaForSequenceClassification from the checkpoint of a model that you expect to be exactly identical (initializing a BertForSequenceClassification model from a BertForSequenceClassification model).\n"
     ]
    },
    {
     "data": {
      "application/vnd.jupyter.widget-view+json": {
       "model_id": "",
       "version_major": 2,
       "version_minor": 0
      },
      "text/plain": [
       "VBox(children=(Label(value='0.001 MB of 0.001 MB uploaded\\r'), FloatProgress(value=1.0, max=1.0)))"
      ]
     },
     "metadata": {},
     "output_type": "display_data"
    },
    {
     "data": {
      "text/html": [
       "<style>\n",
       "    table.wandb td:nth-child(1) { padding: 0 10px; text-align: left ; width: auto;} td:nth-child(2) {text-align: left ; width: 100%}\n",
       "    .wandb-row { display: flex; flex-direction: row; flex-wrap: wrap; justify-content: flex-start; width: 100% }\n",
       "    .wandb-col { display: flex; flex-direction: column; flex-basis: 100%; flex: 1; padding: 10px; }\n",
       "    </style>\n",
       "<div class=\"wandb-row\"><div class=\"wandb-col\"><h3>Run history:</h3><br/><table class=\"wandb\"><tr><td>eval/accuracy</td><td>█▁</td></tr><tr><td>eval/f1</td><td>█▁</td></tr><tr><td>eval/loss</td><td>█▁</td></tr><tr><td>eval/precision</td><td>█▁</td></tr><tr><td>eval/recall</td><td>█▁</td></tr><tr><td>eval/runtime</td><td>▁█</td></tr><tr><td>eval/samples_per_second</td><td>█▁</td></tr><tr><td>eval/steps_per_second</td><td>█▁</td></tr><tr><td>train/epoch</td><td>▁▁▆▆█</td></tr><tr><td>train/global_step</td><td>▁▁▅▅█</td></tr><tr><td>train/learning_rate</td><td>█▁</td></tr><tr><td>train/loss</td><td>█▁</td></tr><tr><td>train/total_flos</td><td>▁</td></tr><tr><td>train/train_loss</td><td>▁</td></tr><tr><td>train/train_runtime</td><td>▁</td></tr><tr><td>train/train_samples_per_second</td><td>▁</td></tr><tr><td>train/train_steps_per_second</td><td>▁</td></tr></table><br/></div><div class=\"wandb-col\"><h3>Run summary:</h3><br/><table class=\"wandb\"><tr><td>eval/accuracy</td><td>0.78943</td></tr><tr><td>eval/f1</td><td>0.7932</td></tr><tr><td>eval/loss</td><td>0.51532</td></tr><tr><td>eval/precision</td><td>0.79329</td></tr><tr><td>eval/recall</td><td>0.79332</td></tr><tr><td>eval/runtime</td><td>386.5243</td></tr><tr><td>eval/samples_per_second</td><td>17.619</td></tr><tr><td>eval/steps_per_second</td><td>2.204</td></tr><tr><td>train/epoch</td><td>3.0</td></tr><tr><td>train/global_step</td><td>1278</td></tr><tr><td>train/learning_rate</td><td>0.0</td></tr><tr><td>train/loss</td><td>0.4607</td></tr><tr><td>train/total_flos</td><td>1.0750024908112896e+16</td></tr><tr><td>train/train_loss</td><td>0.48114</td></tr><tr><td>train/train_runtime</td><td>20013.9056</td></tr><tr><td>train/train_samples_per_second</td><td>4.083</td></tr><tr><td>train/train_steps_per_second</td><td>0.064</td></tr></table><br/></div></div>"
      ],
      "text/plain": [
       "<IPython.core.display.HTML object>"
      ]
     },
     "metadata": {},
     "output_type": "display_data"
    },
    {
     "data": {
      "text/html": [
       " View run <strong style=\"color:#cdcd00\">icy-sound-560</strong> at: <a href='https://wandb.ai/ericat/huggingface/runs/bzbdbax5' target=\"_blank\">https://wandb.ai/ericat/huggingface/runs/bzbdbax5</a><br/>Synced 5 W&B file(s), 0 media file(s), 0 artifact file(s) and 0 other file(s)"
      ],
      "text/plain": [
       "<IPython.core.display.HTML object>"
      ]
     },
     "metadata": {},
     "output_type": "display_data"
    },
    {
     "data": {
      "text/html": [
       "Find logs at: <code>.\\wandb\\run-20231208_151449-bzbdbax5\\logs</code>"
      ],
      "text/plain": [
       "<IPython.core.display.HTML object>"
      ]
     },
     "metadata": {},
     "output_type": "display_data"
    },
    {
     "data": {
      "application/vnd.jupyter.widget-view+json": {
       "model_id": "5f49145117544e709c405849035c077c",
       "version_major": 2,
       "version_minor": 0
      },
      "text/plain": [
       "VBox(children=(Label(value='Waiting for wandb.init()...\\r'), FloatProgress(value=0.01127777777777131, max=1.0)…"
      ]
     },
     "metadata": {},
     "output_type": "display_data"
    },
    {
     "data": {
      "text/html": [
       "wandb version 0.16.1 is available!  To upgrade, please run:\n",
       " $ pip install wandb --upgrade"
      ],
      "text/plain": [
       "<IPython.core.display.HTML object>"
      ]
     },
     "metadata": {},
     "output_type": "display_data"
    },
    {
     "data": {
      "text/html": [
       "Tracking run with wandb version 0.16.0"
      ],
      "text/plain": [
       "<IPython.core.display.HTML object>"
      ]
     },
     "metadata": {},
     "output_type": "display_data"
    },
    {
     "data": {
      "text/html": [
       "Run data is saved locally in <code>D:\\Projects\\Jupyter\\Sentiment analysis\\04DEC\\wandb\\run-20231208_204827-lquz25r6</code>"
      ],
      "text/plain": [
       "<IPython.core.display.HTML object>"
      ]
     },
     "metadata": {},
     "output_type": "display_data"
    },
    {
     "data": {
      "text/html": [
       "Syncing run <strong><a href='https://wandb.ai/ericat/huggingface/runs/lquz25r6' target=\"_blank\">deft-totem-561</a></strong> to <a href='https://wandb.ai/ericat/huggingface' target=\"_blank\">Weights & Biases</a> (<a href='https://wandb.me/run' target=\"_blank\">docs</a>)<br/>"
      ],
      "text/plain": [
       "<IPython.core.display.HTML object>"
      ]
     },
     "metadata": {},
     "output_type": "display_data"
    },
    {
     "data": {
      "text/html": [
       " View project at <a href='https://wandb.ai/ericat/huggingface' target=\"_blank\">https://wandb.ai/ericat/huggingface</a>"
      ],
      "text/plain": [
       "<IPython.core.display.HTML object>"
      ]
     },
     "metadata": {},
     "output_type": "display_data"
    },
    {
     "data": {
      "text/html": [
       " View run at <a href='https://wandb.ai/ericat/huggingface/runs/lquz25r6' target=\"_blank\">https://wandb.ai/ericat/huggingface/runs/lquz25r6</a>"
      ],
      "text/plain": [
       "<IPython.core.display.HTML object>"
      ]
     },
     "metadata": {},
     "output_type": "display_data"
    },
    {
     "name": "stdout",
     "output_type": "stream",
     "text": [
      "{'loss': 0.5203, 'learning_rate': 7.877081009248425e-06, 'epoch': 1.17}\n",
      "{'eval_loss': 0.5349186062812805, 'eval_accuracy': 0.7910425844346549, 'eval_f1': 0.7944774059956327, 'eval_precision': 0.7914520694604302, 'eval_recall': 0.7991919782842474, 'eval_runtime': 385.4051, 'eval_samples_per_second': 17.67, 'eval_steps_per_second': 2.211, 'epoch': 1.17}\n",
      "{'loss': 0.4396, 'learning_rate': 4.605867965540608e-06, 'epoch': 2.35}\n",
      "{'eval_loss': 0.5247179269790649, 'eval_accuracy': 0.7911894273127753, 'eval_f1': 0.7948373474653357, 'eval_precision': 0.7955520838586847, 'eval_recall': 0.7944358599343063, 'eval_runtime': 386.4752, 'eval_samples_per_second': 17.621, 'eval_steps_per_second': 2.205, 'epoch': 2.35}\n",
      "{'loss': 0.39, 'learning_rate': 1.3346549218327896e-06, 'epoch': 3.52}\n",
      "{'eval_loss': 0.5352835059165955, 'eval_accuracy': 0.7933920704845815, 'eval_f1': 0.7968384458197818, 'eval_precision': 0.7955780069284057, 'eval_recall': 0.7983296302601769, 'eval_runtime': 387.096, 'eval_samples_per_second': 17.593, 'eval_steps_per_second': 2.201, 'epoch': 3.52}\n"
     ]
    },
    {
     "name": "stderr",
     "output_type": "stream",
     "text": [
      "[I 2023-12-09 04:22:13,554] Trial 12 finished with value: 3.184138153492946 and parameters: {'learning_rate': 1.1148294052956244e-05, 'num_train_epochs': 4, 'per_device_train_batch_size': 64}. Best is trial 12 with value: 3.184138153492946.\n"
     ]
    },
    {
     "name": "stdout",
     "output_type": "stream",
     "text": [
      "{'train_runtime': 27232.2932, 'train_samples_per_second': 4.001, 'train_steps_per_second': 0.063, 'train_loss': 0.44024220766595834, 'epoch': 4.0}\n"
     ]
    },
    {
     "name": "stderr",
     "output_type": "stream",
     "text": [
      "Some weights of the model checkpoint at cardiffnlp/twitter-roberta-base-sentiment-latest were not used when initializing RobertaForSequenceClassification: ['roberta.pooler.dense.weight', 'roberta.pooler.dense.bias']\n",
      "- This IS expected if you are initializing RobertaForSequenceClassification from the checkpoint of a model trained on another task or with another architecture (e.g. initializing a BertForSequenceClassification model from a BertForPreTraining model).\n",
      "- This IS NOT expected if you are initializing RobertaForSequenceClassification from the checkpoint of a model that you expect to be exactly identical (initializing a BertForSequenceClassification model from a BertForSequenceClassification model).\n"
     ]
    },
    {
     "data": {
      "application/vnd.jupyter.widget-view+json": {
       "model_id": "",
       "version_major": 2,
       "version_minor": 0
      },
      "text/plain": [
       "VBox(children=(Label(value='0.001 MB of 0.001 MB uploaded\\r'), FloatProgress(value=1.0, max=1.0)))"
      ]
     },
     "metadata": {},
     "output_type": "display_data"
    },
    {
     "data": {
      "text/html": [
       "<style>\n",
       "    table.wandb td:nth-child(1) { padding: 0 10px; text-align: left ; width: auto;} td:nth-child(2) {text-align: left ; width: 100%}\n",
       "    .wandb-row { display: flex; flex-direction: row; flex-wrap: wrap; justify-content: flex-start; width: 100% }\n",
       "    .wandb-col { display: flex; flex-direction: column; flex-basis: 100%; flex: 1; padding: 10px; }\n",
       "    </style>\n",
       "<div class=\"wandb-row\"><div class=\"wandb-col\"><h3>Run history:</h3><br/><table class=\"wandb\"><tr><td>eval/accuracy</td><td>▁▁█</td></tr><tr><td>eval/f1</td><td>▁▂█</td></tr><tr><td>eval/loss</td><td>█▁█</td></tr><tr><td>eval/precision</td><td>▁██</td></tr><tr><td>eval/recall</td><td>█▁▇</td></tr><tr><td>eval/runtime</td><td>▁▅█</td></tr><tr><td>eval/samples_per_second</td><td>█▄▁</td></tr><tr><td>eval/steps_per_second</td><td>█▄▁</td></tr><tr><td>train/epoch</td><td>▁▁▄▄▇▇█</td></tr><tr><td>train/global_step</td><td>▁▁▄▄▇▇█</td></tr><tr><td>train/learning_rate</td><td>█▅▁</td></tr><tr><td>train/loss</td><td>█▄▁</td></tr><tr><td>train/total_flos</td><td>▁</td></tr><tr><td>train/train_loss</td><td>▁</td></tr><tr><td>train/train_runtime</td><td>▁</td></tr><tr><td>train/train_samples_per_second</td><td>▁</td></tr><tr><td>train/train_steps_per_second</td><td>▁</td></tr></table><br/></div><div class=\"wandb-col\"><h3>Run summary:</h3><br/><table class=\"wandb\"><tr><td>eval/accuracy</td><td>0.79339</td></tr><tr><td>eval/f1</td><td>0.79684</td></tr><tr><td>eval/loss</td><td>0.53528</td></tr><tr><td>eval/precision</td><td>0.79558</td></tr><tr><td>eval/recall</td><td>0.79833</td></tr><tr><td>eval/runtime</td><td>387.096</td></tr><tr><td>eval/samples_per_second</td><td>17.593</td></tr><tr><td>eval/steps_per_second</td><td>2.201</td></tr><tr><td>train/epoch</td><td>4.0</td></tr><tr><td>train/global_step</td><td>1704</td></tr><tr><td>train/learning_rate</td><td>0.0</td></tr><tr><td>train/loss</td><td>0.39</td></tr><tr><td>train/total_flos</td><td>1.4333366544150528e+16</td></tr><tr><td>train/train_loss</td><td>0.44024</td></tr><tr><td>train/train_runtime</td><td>27232.2932</td></tr><tr><td>train/train_samples_per_second</td><td>4.001</td></tr><tr><td>train/train_steps_per_second</td><td>0.063</td></tr></table><br/></div></div>"
      ],
      "text/plain": [
       "<IPython.core.display.HTML object>"
      ]
     },
     "metadata": {},
     "output_type": "display_data"
    },
    {
     "data": {
      "text/html": [
       " View run <strong style=\"color:#cdcd00\">deft-totem-561</strong> at: <a href='https://wandb.ai/ericat/huggingface/runs/lquz25r6' target=\"_blank\">https://wandb.ai/ericat/huggingface/runs/lquz25r6</a><br/>Synced 5 W&B file(s), 0 media file(s), 0 artifact file(s) and 0 other file(s)"
      ],
      "text/plain": [
       "<IPython.core.display.HTML object>"
      ]
     },
     "metadata": {},
     "output_type": "display_data"
    },
    {
     "data": {
      "text/html": [
       "Find logs at: <code>.\\wandb\\run-20231208_204827-lquz25r6\\logs</code>"
      ],
      "text/plain": [
       "<IPython.core.display.HTML object>"
      ]
     },
     "metadata": {},
     "output_type": "display_data"
    },
    {
     "data": {
      "application/vnd.jupyter.widget-view+json": {
       "model_id": "b8fdd2bb884f439380141f88b0cfc56d",
       "version_major": 2,
       "version_minor": 0
      },
      "text/plain": [
       "VBox(children=(Label(value='Waiting for wandb.init()...\\r'), FloatProgress(value=0.01127777777777131, max=1.0)…"
      ]
     },
     "metadata": {},
     "output_type": "display_data"
    },
    {
     "data": {
      "text/html": [
       "wandb version 0.16.1 is available!  To upgrade, please run:\n",
       " $ pip install wandb --upgrade"
      ],
      "text/plain": [
       "<IPython.core.display.HTML object>"
      ]
     },
     "metadata": {},
     "output_type": "display_data"
    },
    {
     "data": {
      "text/html": [
       "Tracking run with wandb version 0.16.0"
      ],
      "text/plain": [
       "<IPython.core.display.HTML object>"
      ]
     },
     "metadata": {},
     "output_type": "display_data"
    },
    {
     "data": {
      "text/html": [
       "Run data is saved locally in <code>D:\\Projects\\Jupyter\\Sentiment analysis\\04DEC\\wandb\\run-20231209_042224-uguouqyy</code>"
      ],
      "text/plain": [
       "<IPython.core.display.HTML object>"
      ]
     },
     "metadata": {},
     "output_type": "display_data"
    },
    {
     "data": {
      "text/html": [
       "Syncing run <strong><a href='https://wandb.ai/ericat/huggingface/runs/uguouqyy' target=\"_blank\">prime-sky-562</a></strong> to <a href='https://wandb.ai/ericat/huggingface' target=\"_blank\">Weights & Biases</a> (<a href='https://wandb.me/run' target=\"_blank\">docs</a>)<br/>"
      ],
      "text/plain": [
       "<IPython.core.display.HTML object>"
      ]
     },
     "metadata": {},
     "output_type": "display_data"
    },
    {
     "data": {
      "text/html": [
       " View project at <a href='https://wandb.ai/ericat/huggingface' target=\"_blank\">https://wandb.ai/ericat/huggingface</a>"
      ],
      "text/plain": [
       "<IPython.core.display.HTML object>"
      ]
     },
     "metadata": {},
     "output_type": "display_data"
    },
    {
     "data": {
      "text/html": [
       " View run at <a href='https://wandb.ai/ericat/huggingface/runs/uguouqyy' target=\"_blank\">https://wandb.ai/ericat/huggingface/runs/uguouqyy</a>"
      ],
      "text/plain": [
       "<IPython.core.display.HTML object>"
      ]
     },
     "metadata": {},
     "output_type": "display_data"
    },
    {
     "name": "stdout",
     "output_type": "stream",
     "text": [
      "{'loss': 0.5161, 'learning_rate': 1.0283601312252623e-05, 'epoch': 1.17}\n",
      "{'eval_loss': 0.5519813895225525, 'eval_accuracy': 0.7878120411160059, 'eval_f1': 0.7907877207737414, 'eval_precision': 0.7873932749835726, 'eval_recall': 0.7986954893558632, 'eval_runtime': 416.9603, 'eval_samples_per_second': 16.332, 'eval_steps_per_second': 2.043, 'epoch': 1.17}\n",
      "{'loss': 0.4222, 'learning_rate': 6.013002760652697e-06, 'epoch': 2.35}\n",
      "{'eval_loss': 0.5403670072555542, 'eval_accuracy': 0.7916299559471366, 'eval_f1': 0.7952049231641266, 'eval_precision': 0.7944442789346867, 'eval_recall': 0.7961975715082271, 'eval_runtime': 414.9828, 'eval_samples_per_second': 16.41, 'eval_steps_per_second': 2.053, 'epoch': 2.35}\n",
      "{'loss': 0.3615, 'learning_rate': 1.7424042090527701e-06, 'epoch': 3.52}\n",
      "{'eval_loss': 0.5551408529281616, 'eval_accuracy': 0.7922173274596183, 'eval_f1': 0.7957329357614324, 'eval_precision': 0.7941938099422159, 'eval_recall': 0.7975639609309922, 'eval_runtime': 415.3179, 'eval_samples_per_second': 16.397, 'eval_steps_per_second': 2.051, 'epoch': 3.52}\n"
     ]
    },
    {
     "name": "stderr",
     "output_type": "stream",
     "text": [
      "[I 2023-12-09 11:50:31,825] Trial 13 finished with value: 3.179708034094259 and parameters: {'learning_rate': 1.4554199863852551e-05, 'num_train_epochs': 4, 'per_device_train_batch_size': 64}. Best is trial 12 with value: 3.184138153492946.\n"
     ]
    },
    {
     "name": "stdout",
     "output_type": "stream",
     "text": [
      "{'train_runtime': 26895.5617, 'train_samples_per_second': 4.051, 'train_steps_per_second': 0.063, 'train_loss': 0.4214002179427886, 'epoch': 4.0}\n"
     ]
    },
    {
     "name": "stderr",
     "output_type": "stream",
     "text": [
      "Some weights of the model checkpoint at cardiffnlp/twitter-roberta-base-sentiment-latest were not used when initializing RobertaForSequenceClassification: ['roberta.pooler.dense.weight', 'roberta.pooler.dense.bias']\n",
      "- This IS expected if you are initializing RobertaForSequenceClassification from the checkpoint of a model trained on another task or with another architecture (e.g. initializing a BertForSequenceClassification model from a BertForPreTraining model).\n",
      "- This IS NOT expected if you are initializing RobertaForSequenceClassification from the checkpoint of a model that you expect to be exactly identical (initializing a BertForSequenceClassification model from a BertForSequenceClassification model).\n"
     ]
    },
    {
     "data": {
      "application/vnd.jupyter.widget-view+json": {
       "model_id": "",
       "version_major": 2,
       "version_minor": 0
      },
      "text/plain": [
       "VBox(children=(Label(value='0.001 MB of 0.001 MB uploaded\\r'), FloatProgress(value=1.0, max=1.0)))"
      ]
     },
     "metadata": {},
     "output_type": "display_data"
    },
    {
     "data": {
      "text/html": [
       "<style>\n",
       "    table.wandb td:nth-child(1) { padding: 0 10px; text-align: left ; width: auto;} td:nth-child(2) {text-align: left ; width: 100%}\n",
       "    .wandb-row { display: flex; flex-direction: row; flex-wrap: wrap; justify-content: flex-start; width: 100% }\n",
       "    .wandb-col { display: flex; flex-direction: column; flex-basis: 100%; flex: 1; padding: 10px; }\n",
       "    </style>\n",
       "<div class=\"wandb-row\"><div class=\"wandb-col\"><h3>Run history:</h3><br/><table class=\"wandb\"><tr><td>eval/accuracy</td><td>▁▇█</td></tr><tr><td>eval/f1</td><td>▁▇█</td></tr><tr><td>eval/loss</td><td>▇▁█</td></tr><tr><td>eval/precision</td><td>▁██</td></tr><tr><td>eval/recall</td><td>█▁▅</td></tr><tr><td>eval/runtime</td><td>█▁▂</td></tr><tr><td>eval/samples_per_second</td><td>▁█▇</td></tr><tr><td>eval/steps_per_second</td><td>▁█▇</td></tr><tr><td>train/epoch</td><td>▁▁▄▄▇▇█</td></tr><tr><td>train/global_step</td><td>▁▁▄▄▇▇█</td></tr><tr><td>train/learning_rate</td><td>█▅▁</td></tr><tr><td>train/loss</td><td>█▄▁</td></tr><tr><td>train/total_flos</td><td>▁</td></tr><tr><td>train/train_loss</td><td>▁</td></tr><tr><td>train/train_runtime</td><td>▁</td></tr><tr><td>train/train_samples_per_second</td><td>▁</td></tr><tr><td>train/train_steps_per_second</td><td>▁</td></tr></table><br/></div><div class=\"wandb-col\"><h3>Run summary:</h3><br/><table class=\"wandb\"><tr><td>eval/accuracy</td><td>0.79222</td></tr><tr><td>eval/f1</td><td>0.79573</td></tr><tr><td>eval/loss</td><td>0.55514</td></tr><tr><td>eval/precision</td><td>0.79419</td></tr><tr><td>eval/recall</td><td>0.79756</td></tr><tr><td>eval/runtime</td><td>415.3179</td></tr><tr><td>eval/samples_per_second</td><td>16.397</td></tr><tr><td>eval/steps_per_second</td><td>2.051</td></tr><tr><td>train/epoch</td><td>4.0</td></tr><tr><td>train/global_step</td><td>1704</td></tr><tr><td>train/learning_rate</td><td>0.0</td></tr><tr><td>train/loss</td><td>0.3615</td></tr><tr><td>train/total_flos</td><td>1.4333366544150528e+16</td></tr><tr><td>train/train_loss</td><td>0.4214</td></tr><tr><td>train/train_runtime</td><td>26895.5617</td></tr><tr><td>train/train_samples_per_second</td><td>4.051</td></tr><tr><td>train/train_steps_per_second</td><td>0.063</td></tr></table><br/></div></div>"
      ],
      "text/plain": [
       "<IPython.core.display.HTML object>"
      ]
     },
     "metadata": {},
     "output_type": "display_data"
    },
    {
     "data": {
      "text/html": [
       " View run <strong style=\"color:#cdcd00\">prime-sky-562</strong> at: <a href='https://wandb.ai/ericat/huggingface/runs/uguouqyy' target=\"_blank\">https://wandb.ai/ericat/huggingface/runs/uguouqyy</a><br/>Synced 5 W&B file(s), 0 media file(s), 0 artifact file(s) and 0 other file(s)"
      ],
      "text/plain": [
       "<IPython.core.display.HTML object>"
      ]
     },
     "metadata": {},
     "output_type": "display_data"
    },
    {
     "data": {
      "text/html": [
       "Find logs at: <code>.\\wandb\\run-20231209_042224-uguouqyy\\logs</code>"
      ],
      "text/plain": [
       "<IPython.core.display.HTML object>"
      ]
     },
     "metadata": {},
     "output_type": "display_data"
    },
    {
     "data": {
      "application/vnd.jupyter.widget-view+json": {
       "model_id": "8870003e487b48078fecf606d5eda257",
       "version_major": 2,
       "version_minor": 0
      },
      "text/plain": [
       "VBox(children=(Label(value='Waiting for wandb.init()...\\r'), FloatProgress(value=0.011111111111111112, max=1.0…"
      ]
     },
     "metadata": {},
     "output_type": "display_data"
    },
    {
     "data": {
      "text/html": [
       "wandb version 0.16.1 is available!  To upgrade, please run:\n",
       " $ pip install wandb --upgrade"
      ],
      "text/plain": [
       "<IPython.core.display.HTML object>"
      ]
     },
     "metadata": {},
     "output_type": "display_data"
    },
    {
     "data": {
      "text/html": [
       "Tracking run with wandb version 0.16.0"
      ],
      "text/plain": [
       "<IPython.core.display.HTML object>"
      ]
     },
     "metadata": {},
     "output_type": "display_data"
    },
    {
     "data": {
      "text/html": [
       "Run data is saved locally in <code>D:\\Projects\\Jupyter\\Sentiment analysis\\04DEC\\wandb\\run-20231209_115042-m9kjw24i</code>"
      ],
      "text/plain": [
       "<IPython.core.display.HTML object>"
      ]
     },
     "metadata": {},
     "output_type": "display_data"
    },
    {
     "data": {
      "text/html": [
       "Syncing run <strong><a href='https://wandb.ai/ericat/huggingface/runs/m9kjw24i' target=\"_blank\">sandy-spaceship-563</a></strong> to <a href='https://wandb.ai/ericat/huggingface' target=\"_blank\">Weights & Biases</a> (<a href='https://wandb.me/run' target=\"_blank\">docs</a>)<br/>"
      ],
      "text/plain": [
       "<IPython.core.display.HTML object>"
      ]
     },
     "metadata": {},
     "output_type": "display_data"
    },
    {
     "data": {
      "text/html": [
       " View project at <a href='https://wandb.ai/ericat/huggingface' target=\"_blank\">https://wandb.ai/ericat/huggingface</a>"
      ],
      "text/plain": [
       "<IPython.core.display.HTML object>"
      ]
     },
     "metadata": {},
     "output_type": "display_data"
    },
    {
     "data": {
      "text/html": [
       " View run at <a href='https://wandb.ai/ericat/huggingface/runs/m9kjw24i' target=\"_blank\">https://wandb.ai/ericat/huggingface/runs/m9kjw24i</a>"
      ],
      "text/plain": [
       "<IPython.core.display.HTML object>"
      ]
     },
     "metadata": {},
     "output_type": "display_data"
    },
    {
     "name": "stdout",
     "output_type": "stream",
     "text": [
      "{'loss': 0.512, 'learning_rate': 1.81896332697879e-05, 'epoch': 1.17}\n",
      "{'eval_loss': 0.5837584733963013, 'eval_accuracy': 0.7814977973568282, 'eval_f1': 0.7836965771353652, 'eval_precision': 0.7821435682994823, 'eval_recall': 0.7963523487075493, 'eval_runtime': 386.0764, 'eval_samples_per_second': 17.639, 'eval_steps_per_second': 2.207, 'epoch': 1.17}\n",
      "{'loss': 0.3864, 'learning_rate': 1.0635798855424156e-05, 'epoch': 2.35}\n",
      "{'eval_loss': 0.5903171300888062, 'eval_accuracy': 0.7900146842878121, 'eval_f1': 0.7932818462193004, 'eval_precision': 0.7907000394750926, 'eval_recall': 0.7969600645179749, 'eval_runtime': 384.9172, 'eval_samples_per_second': 17.692, 'eval_steps_per_second': 2.213, 'epoch': 2.35}\n",
      "{'loss': 0.2923, 'learning_rate': 3.0819644410604082e-06, 'epoch': 3.52}\n",
      "{'eval_loss': 0.6372821927070618, 'eval_accuracy': 0.7872246696035242, 'eval_f1': 0.7907614962118176, 'eval_precision': 0.7890689303731908, 'eval_recall': 0.792795176637711, 'eval_runtime': 385.8231, 'eval_samples_per_second': 17.651, 'eval_steps_per_second': 2.208, 'epoch': 3.52}\n"
     ]
    },
    {
     "name": "stderr",
     "output_type": "stream",
     "text": [
      "[I 2023-12-09 19:15:19,059] Trial 14 finished with value: 3.1598502728262434 and parameters: {'learning_rate': 2.5743467684151647e-05, 'num_train_epochs': 4, 'per_device_train_batch_size': 64}. Best is trial 12 with value: 3.184138153492946.\n"
     ]
    },
    {
     "name": "stdout",
     "output_type": "stream",
     "text": [
      "{'train_runtime': 26684.3228, 'train_samples_per_second': 4.083, 'train_steps_per_second': 0.064, 'train_loss': 0.3790536598420479, 'epoch': 4.0}\n"
     ]
    },
    {
     "name": "stderr",
     "output_type": "stream",
     "text": [
      "Some weights of the model checkpoint at cardiffnlp/twitter-roberta-base-sentiment-latest were not used when initializing RobertaForSequenceClassification: ['roberta.pooler.dense.weight', 'roberta.pooler.dense.bias']\n",
      "- This IS expected if you are initializing RobertaForSequenceClassification from the checkpoint of a model trained on another task or with another architecture (e.g. initializing a BertForSequenceClassification model from a BertForPreTraining model).\n",
      "- This IS NOT expected if you are initializing RobertaForSequenceClassification from the checkpoint of a model that you expect to be exactly identical (initializing a BertForSequenceClassification model from a BertForSequenceClassification model).\n"
     ]
    },
    {
     "data": {
      "application/vnd.jupyter.widget-view+json": {
       "model_id": "",
       "version_major": 2,
       "version_minor": 0
      },
      "text/plain": [
       "VBox(children=(Label(value='0.001 MB of 0.001 MB uploaded\\r'), FloatProgress(value=1.0, max=1.0)))"
      ]
     },
     "metadata": {},
     "output_type": "display_data"
    },
    {
     "data": {
      "text/html": [
       "<style>\n",
       "    table.wandb td:nth-child(1) { padding: 0 10px; text-align: left ; width: auto;} td:nth-child(2) {text-align: left ; width: 100%}\n",
       "    .wandb-row { display: flex; flex-direction: row; flex-wrap: wrap; justify-content: flex-start; width: 100% }\n",
       "    .wandb-col { display: flex; flex-direction: column; flex-basis: 100%; flex: 1; padding: 10px; }\n",
       "    </style>\n",
       "<div class=\"wandb-row\"><div class=\"wandb-col\"><h3>Run history:</h3><br/><table class=\"wandb\"><tr><td>eval/accuracy</td><td>▁█▆</td></tr><tr><td>eval/f1</td><td>▁█▆</td></tr><tr><td>eval/loss</td><td>▁▂█</td></tr><tr><td>eval/precision</td><td>▁█▇</td></tr><tr><td>eval/recall</td><td>▇█▁</td></tr><tr><td>eval/runtime</td><td>█▁▆</td></tr><tr><td>eval/samples_per_second</td><td>▁█▃</td></tr><tr><td>eval/steps_per_second</td><td>▁█▂</td></tr><tr><td>train/epoch</td><td>▁▁▄▄▇▇█</td></tr><tr><td>train/global_step</td><td>▁▁▄▄▇▇█</td></tr><tr><td>train/learning_rate</td><td>█▅▁</td></tr><tr><td>train/loss</td><td>█▄▁</td></tr><tr><td>train/total_flos</td><td>▁</td></tr><tr><td>train/train_loss</td><td>▁</td></tr><tr><td>train/train_runtime</td><td>▁</td></tr><tr><td>train/train_samples_per_second</td><td>▁</td></tr><tr><td>train/train_steps_per_second</td><td>▁</td></tr></table><br/></div><div class=\"wandb-col\"><h3>Run summary:</h3><br/><table class=\"wandb\"><tr><td>eval/accuracy</td><td>0.78722</td></tr><tr><td>eval/f1</td><td>0.79076</td></tr><tr><td>eval/loss</td><td>0.63728</td></tr><tr><td>eval/precision</td><td>0.78907</td></tr><tr><td>eval/recall</td><td>0.7928</td></tr><tr><td>eval/runtime</td><td>385.8231</td></tr><tr><td>eval/samples_per_second</td><td>17.651</td></tr><tr><td>eval/steps_per_second</td><td>2.208</td></tr><tr><td>train/epoch</td><td>4.0</td></tr><tr><td>train/global_step</td><td>1704</td></tr><tr><td>train/learning_rate</td><td>0.0</td></tr><tr><td>train/loss</td><td>0.2923</td></tr><tr><td>train/total_flos</td><td>1.4333366544150528e+16</td></tr><tr><td>train/train_loss</td><td>0.37905</td></tr><tr><td>train/train_runtime</td><td>26684.3228</td></tr><tr><td>train/train_samples_per_second</td><td>4.083</td></tr><tr><td>train/train_steps_per_second</td><td>0.064</td></tr></table><br/></div></div>"
      ],
      "text/plain": [
       "<IPython.core.display.HTML object>"
      ]
     },
     "metadata": {},
     "output_type": "display_data"
    },
    {
     "data": {
      "text/html": [
       " View run <strong style=\"color:#cdcd00\">sandy-spaceship-563</strong> at: <a href='https://wandb.ai/ericat/huggingface/runs/m9kjw24i' target=\"_blank\">https://wandb.ai/ericat/huggingface/runs/m9kjw24i</a><br/>Synced 5 W&B file(s), 0 media file(s), 0 artifact file(s) and 0 other file(s)"
      ],
      "text/plain": [
       "<IPython.core.display.HTML object>"
      ]
     },
     "metadata": {},
     "output_type": "display_data"
    },
    {
     "data": {
      "text/html": [
       "Find logs at: <code>.\\wandb\\run-20231209_115042-m9kjw24i\\logs</code>"
      ],
      "text/plain": [
       "<IPython.core.display.HTML object>"
      ]
     },
     "metadata": {},
     "output_type": "display_data"
    },
    {
     "data": {
      "application/vnd.jupyter.widget-view+json": {
       "model_id": "87b7d413e3364d7699959855e19897b4",
       "version_major": 2,
       "version_minor": 0
      },
      "text/plain": [
       "VBox(children=(Label(value='Waiting for wandb.init()...\\r'), FloatProgress(value=0.011111111111111112, max=1.0…"
      ]
     },
     "metadata": {},
     "output_type": "display_data"
    },
    {
     "data": {
      "text/html": [
       "wandb version 0.16.1 is available!  To upgrade, please run:\n",
       " $ pip install wandb --upgrade"
      ],
      "text/plain": [
       "<IPython.core.display.HTML object>"
      ]
     },
     "metadata": {},
     "output_type": "display_data"
    },
    {
     "data": {
      "text/html": [
       "Tracking run with wandb version 0.16.0"
      ],
      "text/plain": [
       "<IPython.core.display.HTML object>"
      ]
     },
     "metadata": {},
     "output_type": "display_data"
    },
    {
     "data": {
      "text/html": [
       "Run data is saved locally in <code>D:\\Projects\\Jupyter\\Sentiment analysis\\04DEC\\wandb\\run-20231209_191528-ibikjwso</code>"
      ],
      "text/plain": [
       "<IPython.core.display.HTML object>"
      ]
     },
     "metadata": {},
     "output_type": "display_data"
    },
    {
     "data": {
      "text/html": [
       "Syncing run <strong><a href='https://wandb.ai/ericat/huggingface/runs/ibikjwso' target=\"_blank\">pretty-dew-564</a></strong> to <a href='https://wandb.ai/ericat/huggingface' target=\"_blank\">Weights & Biases</a> (<a href='https://wandb.me/run' target=\"_blank\">docs</a>)<br/>"
      ],
      "text/plain": [
       "<IPython.core.display.HTML object>"
      ]
     },
     "metadata": {},
     "output_type": "display_data"
    },
    {
     "data": {
      "text/html": [
       " View project at <a href='https://wandb.ai/ericat/huggingface' target=\"_blank\">https://wandb.ai/ericat/huggingface</a>"
      ],
      "text/plain": [
       "<IPython.core.display.HTML object>"
      ]
     },
     "metadata": {},
     "output_type": "display_data"
    },
    {
     "data": {
      "text/html": [
       " View run at <a href='https://wandb.ai/ericat/huggingface/runs/ibikjwso' target=\"_blank\">https://wandb.ai/ericat/huggingface/runs/ibikjwso</a>"
      ],
      "text/plain": [
       "<IPython.core.display.HTML object>"
      ]
     },
     "metadata": {},
     "output_type": "display_data"
    },
    {
     "name": "stdout",
     "output_type": "stream",
     "text": [
      "{'loss': 0.5188, 'learning_rate': 8.574983965841334e-06, 'epoch': 1.17}\n",
      "{'eval_loss': 0.5399026274681091, 'eval_accuracy': 0.7895741556534508, 'eval_f1': 0.7928953139364711, 'eval_precision': 0.7896824117964312, 'eval_recall': 0.7982262773874317, 'eval_runtime': 174.3834, 'eval_samples_per_second': 39.052, 'eval_steps_per_second': 4.886, 'epoch': 1.17}\n",
      "{'loss': 0.4337, 'learning_rate': 5.013944112917193e-06, 'epoch': 2.35}\n",
      "{'eval_loss': 0.5287003517150879, 'eval_accuracy': 0.7929515418502202, 'eval_f1': 0.7965318368568162, 'eval_precision': 0.7969682155585711, 'eval_recall': 0.7964433376407308, 'eval_runtime': 174.703, 'eval_samples_per_second': 38.98, 'eval_steps_per_second': 4.877, 'epoch': 2.35}\n",
      "{'loss': 0.3811, 'learning_rate': 1.45290425999305e-06, 'epoch': 3.52}\n",
      "{'eval_loss': 0.5410488843917847, 'eval_accuracy': 0.7930983847283407, 'eval_f1': 0.7965473012422496, 'eval_precision': 0.7949975434858395, 'eval_recall': 0.7983858818953662, 'eval_runtime': 174.0963, 'eval_samples_per_second': 39.116, 'eval_steps_per_second': 4.894, 'epoch': 3.52}\n"
     ]
    },
    {
     "name": "stderr",
     "output_type": "stream",
     "text": [
      "[I 2023-12-10 02:17:31,682] Trial 15 finished with value: 3.183029111351796 and parameters: {'learning_rate': 1.2136023818765477e-05, 'num_train_epochs': 4, 'per_device_train_batch_size': 64}. Best is trial 12 with value: 3.184138153492946.\n"
     ]
    },
    {
     "name": "stdout",
     "output_type": "stream",
     "text": [
      "{'train_runtime': 25329.911, 'train_samples_per_second': 4.301, 'train_steps_per_second': 0.067, 'train_loss': 0.43417930603027344, 'epoch': 4.0}\n"
     ]
    },
    {
     "name": "stderr",
     "output_type": "stream",
     "text": [
      "Some weights of the model checkpoint at cardiffnlp/twitter-roberta-base-sentiment-latest were not used when initializing RobertaForSequenceClassification: ['roberta.pooler.dense.weight', 'roberta.pooler.dense.bias']\n",
      "- This IS expected if you are initializing RobertaForSequenceClassification from the checkpoint of a model trained on another task or with another architecture (e.g. initializing a BertForSequenceClassification model from a BertForPreTraining model).\n",
      "- This IS NOT expected if you are initializing RobertaForSequenceClassification from the checkpoint of a model that you expect to be exactly identical (initializing a BertForSequenceClassification model from a BertForSequenceClassification model).\n"
     ]
    },
    {
     "data": {
      "application/vnd.jupyter.widget-view+json": {
       "model_id": "",
       "version_major": 2,
       "version_minor": 0
      },
      "text/plain": [
       "VBox(children=(Label(value='0.001 MB of 0.001 MB uploaded\\r'), FloatProgress(value=1.0, max=1.0)))"
      ]
     },
     "metadata": {},
     "output_type": "display_data"
    },
    {
     "data": {
      "text/html": [
       "<style>\n",
       "    table.wandb td:nth-child(1) { padding: 0 10px; text-align: left ; width: auto;} td:nth-child(2) {text-align: left ; width: 100%}\n",
       "    .wandb-row { display: flex; flex-direction: row; flex-wrap: wrap; justify-content: flex-start; width: 100% }\n",
       "    .wandb-col { display: flex; flex-direction: column; flex-basis: 100%; flex: 1; padding: 10px; }\n",
       "    </style>\n",
       "<div class=\"wandb-row\"><div class=\"wandb-col\"><h3>Run history:</h3><br/><table class=\"wandb\"><tr><td>eval/accuracy</td><td>▁██</td></tr><tr><td>eval/f1</td><td>▁██</td></tr><tr><td>eval/loss</td><td>▇▁█</td></tr><tr><td>eval/precision</td><td>▁█▆</td></tr><tr><td>eval/recall</td><td>▇▁█</td></tr><tr><td>eval/runtime</td><td>▄█▁</td></tr><tr><td>eval/samples_per_second</td><td>▅▁█</td></tr><tr><td>eval/steps_per_second</td><td>▅▁█</td></tr><tr><td>train/epoch</td><td>▁▁▄▄▇▇█</td></tr><tr><td>train/global_step</td><td>▁▁▄▄▇▇█</td></tr><tr><td>train/learning_rate</td><td>█▄▁</td></tr><tr><td>train/loss</td><td>█▄▁</td></tr><tr><td>train/total_flos</td><td>▁</td></tr><tr><td>train/train_loss</td><td>▁</td></tr><tr><td>train/train_runtime</td><td>▁</td></tr><tr><td>train/train_samples_per_second</td><td>▁</td></tr><tr><td>train/train_steps_per_second</td><td>▁</td></tr></table><br/></div><div class=\"wandb-col\"><h3>Run summary:</h3><br/><table class=\"wandb\"><tr><td>eval/accuracy</td><td>0.7931</td></tr><tr><td>eval/f1</td><td>0.79655</td></tr><tr><td>eval/loss</td><td>0.54105</td></tr><tr><td>eval/precision</td><td>0.795</td></tr><tr><td>eval/recall</td><td>0.79839</td></tr><tr><td>eval/runtime</td><td>174.0963</td></tr><tr><td>eval/samples_per_second</td><td>39.116</td></tr><tr><td>eval/steps_per_second</td><td>4.894</td></tr><tr><td>train/epoch</td><td>4.0</td></tr><tr><td>train/global_step</td><td>1704</td></tr><tr><td>train/learning_rate</td><td>0.0</td></tr><tr><td>train/loss</td><td>0.3811</td></tr><tr><td>train/total_flos</td><td>1.4333366544150528e+16</td></tr><tr><td>train/train_loss</td><td>0.43418</td></tr><tr><td>train/train_runtime</td><td>25329.911</td></tr><tr><td>train/train_samples_per_second</td><td>4.301</td></tr><tr><td>train/train_steps_per_second</td><td>0.067</td></tr></table><br/></div></div>"
      ],
      "text/plain": [
       "<IPython.core.display.HTML object>"
      ]
     },
     "metadata": {},
     "output_type": "display_data"
    },
    {
     "data": {
      "text/html": [
       " View run <strong style=\"color:#cdcd00\">pretty-dew-564</strong> at: <a href='https://wandb.ai/ericat/huggingface/runs/ibikjwso' target=\"_blank\">https://wandb.ai/ericat/huggingface/runs/ibikjwso</a><br/>Synced 5 W&B file(s), 0 media file(s), 0 artifact file(s) and 0 other file(s)"
      ],
      "text/plain": [
       "<IPython.core.display.HTML object>"
      ]
     },
     "metadata": {},
     "output_type": "display_data"
    },
    {
     "data": {
      "text/html": [
       "Find logs at: <code>.\\wandb\\run-20231209_191528-ibikjwso\\logs</code>"
      ],
      "text/plain": [
       "<IPython.core.display.HTML object>"
      ]
     },
     "metadata": {},
     "output_type": "display_data"
    },
    {
     "data": {
      "application/vnd.jupyter.widget-view+json": {
       "model_id": "af976f45f18b4e3fbcd00606a59f6dc5",
       "version_major": 2,
       "version_minor": 0
      },
      "text/plain": [
       "VBox(children=(Label(value='Waiting for wandb.init()...\\r'), FloatProgress(value=0.011111111111111112, max=1.0…"
      ]
     },
     "metadata": {},
     "output_type": "display_data"
    },
    {
     "data": {
      "text/html": [
       "wandb version 0.16.1 is available!  To upgrade, please run:\n",
       " $ pip install wandb --upgrade"
      ],
      "text/plain": [
       "<IPython.core.display.HTML object>"
      ]
     },
     "metadata": {},
     "output_type": "display_data"
    },
    {
     "data": {
      "text/html": [
       "Tracking run with wandb version 0.16.0"
      ],
      "text/plain": [
       "<IPython.core.display.HTML object>"
      ]
     },
     "metadata": {},
     "output_type": "display_data"
    },
    {
     "data": {
      "text/html": [
       "Run data is saved locally in <code>D:\\Projects\\Jupyter\\Sentiment analysis\\04DEC\\wandb\\run-20231210_021742-3avd66u4</code>"
      ],
      "text/plain": [
       "<IPython.core.display.HTML object>"
      ]
     },
     "metadata": {},
     "output_type": "display_data"
    },
    {
     "data": {
      "text/html": [
       "Syncing run <strong><a href='https://wandb.ai/ericat/huggingface/runs/3avd66u4' target=\"_blank\">usual-spaceship-565</a></strong> to <a href='https://wandb.ai/ericat/huggingface' target=\"_blank\">Weights & Biases</a> (<a href='https://wandb.me/run' target=\"_blank\">docs</a>)<br/>"
      ],
      "text/plain": [
       "<IPython.core.display.HTML object>"
      ]
     },
     "metadata": {},
     "output_type": "display_data"
    },
    {
     "data": {
      "text/html": [
       " View project at <a href='https://wandb.ai/ericat/huggingface' target=\"_blank\">https://wandb.ai/ericat/huggingface</a>"
      ],
      "text/plain": [
       "<IPython.core.display.HTML object>"
      ]
     },
     "metadata": {},
     "output_type": "display_data"
    },
    {
     "data": {
      "text/html": [
       " View run at <a href='https://wandb.ai/ericat/huggingface/runs/3avd66u4' target=\"_blank\">https://wandb.ai/ericat/huggingface/runs/3avd66u4</a>"
      ],
      "text/plain": [
       "<IPython.core.display.HTML object>"
      ]
     },
     "metadata": {},
     "output_type": "display_data"
    },
    {
     "name": "stdout",
     "output_type": "stream",
     "text": [
      "{'loss': 0.5237, 'learning_rate': 7.372822971202131e-06, 'epoch': 1.17}\n",
      "{'eval_loss': 0.5354116559028625, 'eval_accuracy': 0.7906020558002936, 'eval_f1': 0.7941458229715361, 'eval_precision': 0.7912333624308806, 'eval_recall': 0.7986171175279986, 'eval_runtime': 39.362, 'eval_samples_per_second': 173.01, 'eval_steps_per_second': 21.645, 'epoch': 1.17}\n",
      "{'loss': 0.4478, 'learning_rate': 5.111220832796569e-06, 'epoch': 2.35}\n",
      "{'eval_loss': 0.5208039283752441, 'eval_accuracy': 0.7891336270190896, 'eval_f1': 0.7929423631134354, 'eval_precision': 0.7936413503526124, 'eval_recall': 0.792550484941719, 'eval_runtime': 39.3032, 'eval_samples_per_second': 173.269, 'eval_steps_per_second': 21.678, 'epoch': 2.35}\n",
      "{'loss': 0.4013, 'learning_rate': 2.8496186943910074e-06, 'epoch': 3.52}\n",
      "{'eval_loss': 0.5324080586433411, 'eval_accuracy': 0.7948604992657856, 'eval_f1': 0.7984691655180397, 'eval_precision': 0.7975353146665359, 'eval_recall': 0.7994857632811657, 'eval_runtime': 39.4118, 'eval_samples_per_second': 172.791, 'eval_steps_per_second': 21.618, 'epoch': 3.52}\n",
      "{'loss': 0.3726, 'learning_rate': 5.88016555985446e-07, 'epoch': 4.69}\n",
      "{'eval_loss': 0.5504744052886963, 'eval_accuracy': 0.7879588839941263, 'eval_f1': 0.7916315330599013, 'eval_precision': 0.7890643983708826, 'eval_recall': 0.7951205555569388, 'eval_runtime': 39.3897, 'eval_samples_per_second': 172.888, 'eval_steps_per_second': 21.63, 'epoch': 4.69}\n"
     ]
    },
    {
     "name": "stderr",
     "output_type": "stream",
     "text": [
      "[I 2023-12-10 11:14:19,276] Trial 16 finished with value: 3.163775370981849 and parameters: {'learning_rate': 9.634425109607692e-06, 'num_train_epochs': 5, 'per_device_train_batch_size': 64}. Best is trial 12 with value: 3.184138153492946.\n"
     ]
    },
    {
     "name": "stdout",
     "output_type": "stream",
     "text": [
      "{'train_runtime': 32204.9409, 'train_samples_per_second': 4.229, 'train_steps_per_second': 0.066, 'train_loss': 0.43115229897655794, 'epoch': 5.0}\n"
     ]
    },
    {
     "name": "stderr",
     "output_type": "stream",
     "text": [
      "Some weights of the model checkpoint at cardiffnlp/twitter-roberta-base-sentiment-latest were not used when initializing RobertaForSequenceClassification: ['roberta.pooler.dense.weight', 'roberta.pooler.dense.bias']\n",
      "- This IS expected if you are initializing RobertaForSequenceClassification from the checkpoint of a model trained on another task or with another architecture (e.g. initializing a BertForSequenceClassification model from a BertForPreTraining model).\n",
      "- This IS NOT expected if you are initializing RobertaForSequenceClassification from the checkpoint of a model that you expect to be exactly identical (initializing a BertForSequenceClassification model from a BertForSequenceClassification model).\n"
     ]
    },
    {
     "data": {
      "application/vnd.jupyter.widget-view+json": {
       "model_id": "",
       "version_major": 2,
       "version_minor": 0
      },
      "text/plain": [
       "VBox(children=(Label(value='0.001 MB of 0.001 MB uploaded\\r'), FloatProgress(value=1.0, max=1.0)))"
      ]
     },
     "metadata": {},
     "output_type": "display_data"
    },
    {
     "data": {
      "text/html": [
       "<style>\n",
       "    table.wandb td:nth-child(1) { padding: 0 10px; text-align: left ; width: auto;} td:nth-child(2) {text-align: left ; width: 100%}\n",
       "    .wandb-row { display: flex; flex-direction: row; flex-wrap: wrap; justify-content: flex-start; width: 100% }\n",
       "    .wandb-col { display: flex; flex-direction: column; flex-basis: 100%; flex: 1; padding: 10px; }\n",
       "    </style>\n",
       "<div class=\"wandb-row\"><div class=\"wandb-col\"><h3>Run history:</h3><br/><table class=\"wandb\"><tr><td>eval/accuracy</td><td>▄▂█▁</td></tr><tr><td>eval/f1</td><td>▄▂█▁</td></tr><tr><td>eval/loss</td><td>▄▁▄█</td></tr><tr><td>eval/precision</td><td>▃▅█▁</td></tr><tr><td>eval/recall</td><td>▇▁█▄</td></tr><tr><td>eval/runtime</td><td>▅▁█▇</td></tr><tr><td>eval/samples_per_second</td><td>▄█▁▂</td></tr><tr><td>eval/steps_per_second</td><td>▄█▁▂</td></tr><tr><td>train/epoch</td><td>▁▁▃▃▅▅▇▇█</td></tr><tr><td>train/global_step</td><td>▁▁▃▃▅▅▇▇█</td></tr><tr><td>train/learning_rate</td><td>█▆▃▁</td></tr><tr><td>train/loss</td><td>█▄▂▁</td></tr><tr><td>train/total_flos</td><td>▁</td></tr><tr><td>train/train_loss</td><td>▁</td></tr><tr><td>train/train_runtime</td><td>▁</td></tr><tr><td>train/train_samples_per_second</td><td>▁</td></tr><tr><td>train/train_steps_per_second</td><td>▁</td></tr></table><br/></div><div class=\"wandb-col\"><h3>Run summary:</h3><br/><table class=\"wandb\"><tr><td>eval/accuracy</td><td>0.78796</td></tr><tr><td>eval/f1</td><td>0.79163</td></tr><tr><td>eval/loss</td><td>0.55047</td></tr><tr><td>eval/precision</td><td>0.78906</td></tr><tr><td>eval/recall</td><td>0.79512</td></tr><tr><td>eval/runtime</td><td>39.3897</td></tr><tr><td>eval/samples_per_second</td><td>172.888</td></tr><tr><td>eval/steps_per_second</td><td>21.63</td></tr><tr><td>train/epoch</td><td>5.0</td></tr><tr><td>train/global_step</td><td>2130</td></tr><tr><td>train/learning_rate</td><td>0.0</td></tr><tr><td>train/loss</td><td>0.3726</td></tr><tr><td>train/total_flos</td><td>1.791670818018816e+16</td></tr><tr><td>train/train_loss</td><td>0.43115</td></tr><tr><td>train/train_runtime</td><td>32204.9409</td></tr><tr><td>train/train_samples_per_second</td><td>4.229</td></tr><tr><td>train/train_steps_per_second</td><td>0.066</td></tr></table><br/></div></div>"
      ],
      "text/plain": [
       "<IPython.core.display.HTML object>"
      ]
     },
     "metadata": {},
     "output_type": "display_data"
    },
    {
     "data": {
      "text/html": [
       " View run <strong style=\"color:#cdcd00\">usual-spaceship-565</strong> at: <a href='https://wandb.ai/ericat/huggingface/runs/3avd66u4' target=\"_blank\">https://wandb.ai/ericat/huggingface/runs/3avd66u4</a><br/>Synced 5 W&B file(s), 0 media file(s), 0 artifact file(s) and 0 other file(s)"
      ],
      "text/plain": [
       "<IPython.core.display.HTML object>"
      ]
     },
     "metadata": {},
     "output_type": "display_data"
    },
    {
     "data": {
      "text/html": [
       "Find logs at: <code>.\\wandb\\run-20231210_021742-3avd66u4\\logs</code>"
      ],
      "text/plain": [
       "<IPython.core.display.HTML object>"
      ]
     },
     "metadata": {},
     "output_type": "display_data"
    },
    {
     "data": {
      "application/vnd.jupyter.widget-view+json": {
       "model_id": "5288674d893b4f5b939234ed5d83f94b",
       "version_major": 2,
       "version_minor": 0
      },
      "text/plain": [
       "VBox(children=(Label(value='Waiting for wandb.init()...\\r'), FloatProgress(value=0.011288888888925108, max=1.0…"
      ]
     },
     "metadata": {},
     "output_type": "display_data"
    },
    {
     "data": {
      "text/html": [
       "wandb version 0.16.1 is available!  To upgrade, please run:\n",
       " $ pip install wandb --upgrade"
      ],
      "text/plain": [
       "<IPython.core.display.HTML object>"
      ]
     },
     "metadata": {},
     "output_type": "display_data"
    },
    {
     "data": {
      "text/html": [
       "Tracking run with wandb version 0.16.0"
      ],
      "text/plain": [
       "<IPython.core.display.HTML object>"
      ]
     },
     "metadata": {},
     "output_type": "display_data"
    },
    {
     "data": {
      "text/html": [
       "Run data is saved locally in <code>D:\\Projects\\Jupyter\\Sentiment analysis\\04DEC\\wandb\\run-20231210_111429-2sdgs139</code>"
      ],
      "text/plain": [
       "<IPython.core.display.HTML object>"
      ]
     },
     "metadata": {},
     "output_type": "display_data"
    },
    {
     "data": {
      "text/html": [
       "Syncing run <strong><a href='https://wandb.ai/ericat/huggingface/runs/2sdgs139' target=\"_blank\">elated-river-566</a></strong> to <a href='https://wandb.ai/ericat/huggingface' target=\"_blank\">Weights & Biases</a> (<a href='https://wandb.me/run' target=\"_blank\">docs</a>)<br/>"
      ],
      "text/plain": [
       "<IPython.core.display.HTML object>"
      ]
     },
     "metadata": {},
     "output_type": "display_data"
    },
    {
     "data": {
      "text/html": [
       " View project at <a href='https://wandb.ai/ericat/huggingface' target=\"_blank\">https://wandb.ai/ericat/huggingface</a>"
      ],
      "text/plain": [
       "<IPython.core.display.HTML object>"
      ]
     },
     "metadata": {},
     "output_type": "display_data"
    },
    {
     "data": {
      "text/html": [
       " View run at <a href='https://wandb.ai/ericat/huggingface/runs/2sdgs139' target=\"_blank\">https://wandb.ai/ericat/huggingface/runs/2sdgs139</a>"
      ],
      "text/plain": [
       "<IPython.core.display.HTML object>"
      ]
     },
     "metadata": {},
     "output_type": "display_data"
    },
    {
     "name": "stdout",
     "output_type": "stream",
     "text": [
      "{'loss': 0.5499, 'learning_rate': 1.0002708753512927e-05, 'epoch': 0.44}\n",
      "{'eval_loss': 0.519241988658905, 'eval_accuracy': 0.7854625550660793, 'eval_f1': 0.788911887125332, 'eval_precision': 0.793484400317903, 'eval_recall': 0.7859974158761776, 'eval_runtime': 40.2534, 'eval_samples_per_second': 169.178, 'eval_steps_per_second': 21.166, 'epoch': 0.44}\n",
      "{'loss': 0.5274, 'learning_rate': 7.177084811842609e-06, 'epoch': 0.88}\n",
      "{'eval_loss': 0.5147302746772766, 'eval_accuracy': 0.7933920704845815, 'eval_f1': 0.7965853086974456, 'eval_precision': 0.7941754566059362, 'eval_recall': 0.8002279024507444, 'eval_runtime': 40.2646, 'eval_samples_per_second': 169.131, 'eval_steps_per_second': 21.16, 'epoch': 0.88}\n",
      "{'loss': 0.4374, 'learning_rate': 4.351460870172291e-06, 'epoch': 1.32}\n",
      "{'eval_loss': 0.5246540904045105, 'eval_accuracy': 0.7944199706314243, 'eval_f1': 0.797671724868453, 'eval_precision': 0.7968034310246352, 'eval_recall': 0.799157001811936, 'eval_runtime': 40.2953, 'eval_samples_per_second': 169.002, 'eval_steps_per_second': 21.144, 'epoch': 1.32}\n",
      "{'loss': 0.4234, 'learning_rate': 1.525836928501972e-06, 'epoch': 1.76}\n",
      "{'eval_loss': 0.5156365036964417, 'eval_accuracy': 0.7964757709251101, 'eval_f1': 0.8002379873318848, 'eval_precision': 0.8004082548118516, 'eval_recall': 0.8000732939405943, 'eval_runtime': 40.3045, 'eval_samples_per_second': 168.964, 'eval_steps_per_second': 21.139, 'epoch': 1.76}\n"
     ]
    },
    {
     "name": "stderr",
     "output_type": "stream",
     "text": [
      "[I 2023-12-10 11:34:01,010] Trial 17 finished with value: 3.1971953070094408 and parameters: {'learning_rate': 1.2828332695183246e-05, 'num_train_epochs': 2, 'per_device_train_batch_size': 24}. Best is trial 17 with value: 3.1971953070094408.\n"
     ]
    },
    {
     "name": "stdout",
     "output_type": "stream",
     "text": [
      "{'train_runtime': 1179.0597, 'train_samples_per_second': 46.203, 'train_steps_per_second': 1.925, 'train_loss': 0.4768730600499897, 'epoch': 2.0}\n"
     ]
    },
    {
     "name": "stderr",
     "output_type": "stream",
     "text": [
      "Some weights of the model checkpoint at cardiffnlp/twitter-roberta-base-sentiment-latest were not used when initializing RobertaForSequenceClassification: ['roberta.pooler.dense.weight', 'roberta.pooler.dense.bias']\n",
      "- This IS expected if you are initializing RobertaForSequenceClassification from the checkpoint of a model trained on another task or with another architecture (e.g. initializing a BertForSequenceClassification model from a BertForPreTraining model).\n",
      "- This IS NOT expected if you are initializing RobertaForSequenceClassification from the checkpoint of a model that you expect to be exactly identical (initializing a BertForSequenceClassification model from a BertForSequenceClassification model).\n"
     ]
    },
    {
     "data": {
      "application/vnd.jupyter.widget-view+json": {
       "model_id": "",
       "version_major": 2,
       "version_minor": 0
      },
      "text/plain": [
       "VBox(children=(Label(value='0.001 MB of 0.001 MB uploaded\\r'), FloatProgress(value=1.0, max=1.0)))"
      ]
     },
     "metadata": {},
     "output_type": "display_data"
    },
    {
     "data": {
      "text/html": [
       "<style>\n",
       "    table.wandb td:nth-child(1) { padding: 0 10px; text-align: left ; width: auto;} td:nth-child(2) {text-align: left ; width: 100%}\n",
       "    .wandb-row { display: flex; flex-direction: row; flex-wrap: wrap; justify-content: flex-start; width: 100% }\n",
       "    .wandb-col { display: flex; flex-direction: column; flex-basis: 100%; flex: 1; padding: 10px; }\n",
       "    </style>\n",
       "<div class=\"wandb-row\"><div class=\"wandb-col\"><h3>Run history:</h3><br/><table class=\"wandb\"><tr><td>eval/accuracy</td><td>▁▆▇█</td></tr><tr><td>eval/f1</td><td>▁▆▆█</td></tr><tr><td>eval/loss</td><td>▄▁█▂</td></tr><tr><td>eval/precision</td><td>▁▂▄█</td></tr><tr><td>eval/recall</td><td>▁█▇█</td></tr><tr><td>eval/runtime</td><td>▁▃▇█</td></tr><tr><td>eval/samples_per_second</td><td>█▆▂▁</td></tr><tr><td>eval/steps_per_second</td><td>█▆▂▁</td></tr><tr><td>train/epoch</td><td>▁▁▃▃▅▅▇▇█</td></tr><tr><td>train/global_step</td><td>▁▁▃▃▅▅▇▇█</td></tr><tr><td>train/learning_rate</td><td>█▆▃▁</td></tr><tr><td>train/loss</td><td>█▇▂▁</td></tr><tr><td>train/total_flos</td><td>▁</td></tr><tr><td>train/train_loss</td><td>▁</td></tr><tr><td>train/train_runtime</td><td>▁</td></tr><tr><td>train/train_samples_per_second</td><td>▁</td></tr><tr><td>train/train_steps_per_second</td><td>▁</td></tr></table><br/></div><div class=\"wandb-col\"><h3>Run summary:</h3><br/><table class=\"wandb\"><tr><td>eval/accuracy</td><td>0.79648</td></tr><tr><td>eval/f1</td><td>0.80024</td></tr><tr><td>eval/loss</td><td>0.51564</td></tr><tr><td>eval/precision</td><td>0.80041</td></tr><tr><td>eval/recall</td><td>0.80007</td></tr><tr><td>eval/runtime</td><td>40.3045</td></tr><tr><td>eval/samples_per_second</td><td>168.964</td></tr><tr><td>eval/steps_per_second</td><td>21.139</td></tr><tr><td>train/epoch</td><td>2.0</td></tr><tr><td>train/global_step</td><td>2270</td></tr><tr><td>train/learning_rate</td><td>0.0</td></tr><tr><td>train/loss</td><td>0.4234</td></tr><tr><td>train/total_flos</td><td>7166683272075264.0</td></tr><tr><td>train/train_loss</td><td>0.47687</td></tr><tr><td>train/train_runtime</td><td>1179.0597</td></tr><tr><td>train/train_samples_per_second</td><td>46.203</td></tr><tr><td>train/train_steps_per_second</td><td>1.925</td></tr></table><br/></div></div>"
      ],
      "text/plain": [
       "<IPython.core.display.HTML object>"
      ]
     },
     "metadata": {},
     "output_type": "display_data"
    },
    {
     "data": {
      "text/html": [
       " View run <strong style=\"color:#cdcd00\">elated-river-566</strong> at: <a href='https://wandb.ai/ericat/huggingface/runs/2sdgs139' target=\"_blank\">https://wandb.ai/ericat/huggingface/runs/2sdgs139</a><br/>Synced 5 W&B file(s), 0 media file(s), 0 artifact file(s) and 0 other file(s)"
      ],
      "text/plain": [
       "<IPython.core.display.HTML object>"
      ]
     },
     "metadata": {},
     "output_type": "display_data"
    },
    {
     "data": {
      "text/html": [
       "Find logs at: <code>.\\wandb\\run-20231210_111429-2sdgs139\\logs</code>"
      ],
      "text/plain": [
       "<IPython.core.display.HTML object>"
      ]
     },
     "metadata": {},
     "output_type": "display_data"
    },
    {
     "data": {
      "application/vnd.jupyter.widget-view+json": {
       "model_id": "4bae2d72dd614edeaa6e11c3e21417b2",
       "version_major": 2,
       "version_minor": 0
      },
      "text/plain": [
       "VBox(children=(Label(value='Waiting for wandb.init()...\\r'), FloatProgress(value=0.011111111111111112, max=1.0…"
      ]
     },
     "metadata": {},
     "output_type": "display_data"
    },
    {
     "data": {
      "text/html": [
       "wandb version 0.16.1 is available!  To upgrade, please run:\n",
       " $ pip install wandb --upgrade"
      ],
      "text/plain": [
       "<IPython.core.display.HTML object>"
      ]
     },
     "metadata": {},
     "output_type": "display_data"
    },
    {
     "data": {
      "text/html": [
       "Tracking run with wandb version 0.16.0"
      ],
      "text/plain": [
       "<IPython.core.display.HTML object>"
      ]
     },
     "metadata": {},
     "output_type": "display_data"
    },
    {
     "data": {
      "text/html": [
       "Run data is saved locally in <code>D:\\Projects\\Jupyter\\Sentiment analysis\\04DEC\\wandb\\run-20231210_113410-67y6capj</code>"
      ],
      "text/plain": [
       "<IPython.core.display.HTML object>"
      ]
     },
     "metadata": {},
     "output_type": "display_data"
    },
    {
     "data": {
      "text/html": [
       "Syncing run <strong><a href='https://wandb.ai/ericat/huggingface/runs/67y6capj' target=\"_blank\">eternal-terrain-567</a></strong> to <a href='https://wandb.ai/ericat/huggingface' target=\"_blank\">Weights & Biases</a> (<a href='https://wandb.me/run' target=\"_blank\">docs</a>)<br/>"
      ],
      "text/plain": [
       "<IPython.core.display.HTML object>"
      ]
     },
     "metadata": {},
     "output_type": "display_data"
    },
    {
     "data": {
      "text/html": [
       " View project at <a href='https://wandb.ai/ericat/huggingface' target=\"_blank\">https://wandb.ai/ericat/huggingface</a>"
      ],
      "text/plain": [
       "<IPython.core.display.HTML object>"
      ]
     },
     "metadata": {},
     "output_type": "display_data"
    },
    {
     "data": {
      "text/html": [
       " View run at <a href='https://wandb.ai/ericat/huggingface/runs/67y6capj' target=\"_blank\">https://wandb.ai/ericat/huggingface/runs/67y6capj</a>"
      ],
      "text/plain": [
       "<IPython.core.display.HTML object>"
      ]
     },
     "metadata": {},
     "output_type": "display_data"
    },
    {
     "name": "stdout",
     "output_type": "stream",
     "text": [
      "{'loss': 0.5936, 'learning_rate': 4.788292214906285e-05, 'epoch': 0.44}\n"
     ]
    },
    {
     "name": "stderr",
     "output_type": "stream",
     "text": [
      "[I 2023-12-10 11:38:10,583] Trial 18 pruned. \n"
     ]
    },
    {
     "name": "stdout",
     "output_type": "stream",
     "text": [
      "{'eval_loss': 0.5454087853431702, 'eval_accuracy': 0.7775330396475771, 'eval_f1': 0.7810148812607401, 'eval_precision': 0.7861386567879931, 'eval_recall': 0.7772615891747469, 'eval_runtime': 40.4061, 'eval_samples_per_second': 168.539, 'eval_steps_per_second': 21.086, 'epoch': 0.44}\n"
     ]
    },
    {
     "name": "stderr",
     "output_type": "stream",
     "text": [
      "Some weights of the model checkpoint at cardiffnlp/twitter-roberta-base-sentiment-latest were not used when initializing RobertaForSequenceClassification: ['roberta.pooler.dense.weight', 'roberta.pooler.dense.bias']\n",
      "- This IS expected if you are initializing RobertaForSequenceClassification from the checkpoint of a model trained on another task or with another architecture (e.g. initializing a BertForSequenceClassification model from a BertForPreTraining model).\n",
      "- This IS NOT expected if you are initializing RobertaForSequenceClassification from the checkpoint of a model that you expect to be exactly identical (initializing a BertForSequenceClassification model from a BertForSequenceClassification model).\n"
     ]
    },
    {
     "data": {
      "application/vnd.jupyter.widget-view+json": {
       "model_id": "",
       "version_major": 2,
       "version_minor": 0
      },
      "text/plain": [
       "VBox(children=(Label(value='0.001 MB of 0.001 MB uploaded\\r'), FloatProgress(value=1.0, max=1.0)))"
      ]
     },
     "metadata": {},
     "output_type": "display_data"
    },
    {
     "data": {
      "text/html": [
       "<style>\n",
       "    table.wandb td:nth-child(1) { padding: 0 10px; text-align: left ; width: auto;} td:nth-child(2) {text-align: left ; width: 100%}\n",
       "    .wandb-row { display: flex; flex-direction: row; flex-wrap: wrap; justify-content: flex-start; width: 100% }\n",
       "    .wandb-col { display: flex; flex-direction: column; flex-basis: 100%; flex: 1; padding: 10px; }\n",
       "    </style>\n",
       "<div class=\"wandb-row\"><div class=\"wandb-col\"><h3>Run history:</h3><br/><table class=\"wandb\"><tr><td>eval/accuracy</td><td>▁</td></tr><tr><td>eval/f1</td><td>▁</td></tr><tr><td>eval/loss</td><td>▁</td></tr><tr><td>eval/precision</td><td>▁</td></tr><tr><td>eval/recall</td><td>▁</td></tr><tr><td>eval/runtime</td><td>▁</td></tr><tr><td>eval/samples_per_second</td><td>▁</td></tr><tr><td>eval/steps_per_second</td><td>▁</td></tr><tr><td>train/epoch</td><td>▁▁</td></tr><tr><td>train/global_step</td><td>▁▁</td></tr><tr><td>train/learning_rate</td><td>▁</td></tr><tr><td>train/loss</td><td>▁</td></tr></table><br/></div><div class=\"wandb-col\"><h3>Run summary:</h3><br/><table class=\"wandb\"><tr><td>eval/accuracy</td><td>0.77753</td></tr><tr><td>eval/f1</td><td>0.78101</td></tr><tr><td>eval/loss</td><td>0.54541</td></tr><tr><td>eval/precision</td><td>0.78614</td></tr><tr><td>eval/recall</td><td>0.77726</td></tr><tr><td>eval/runtime</td><td>40.4061</td></tr><tr><td>eval/samples_per_second</td><td>168.539</td></tr><tr><td>eval/steps_per_second</td><td>21.086</td></tr><tr><td>train/epoch</td><td>0.44</td></tr><tr><td>train/global_step</td><td>500</td></tr><tr><td>train/learning_rate</td><td>5e-05</td></tr><tr><td>train/loss</td><td>0.5936</td></tr></table><br/></div></div>"
      ],
      "text/plain": [
       "<IPython.core.display.HTML object>"
      ]
     },
     "metadata": {},
     "output_type": "display_data"
    },
    {
     "data": {
      "text/html": [
       " View run <strong style=\"color:#cdcd00\">eternal-terrain-567</strong> at: <a href='https://wandb.ai/ericat/huggingface/runs/67y6capj' target=\"_blank\">https://wandb.ai/ericat/huggingface/runs/67y6capj</a><br/>Synced 5 W&B file(s), 0 media file(s), 0 artifact file(s) and 0 other file(s)"
      ],
      "text/plain": [
       "<IPython.core.display.HTML object>"
      ]
     },
     "metadata": {},
     "output_type": "display_data"
    },
    {
     "data": {
      "text/html": [
       "Find logs at: <code>.\\wandb\\run-20231210_113410-67y6capj\\logs</code>"
      ],
      "text/plain": [
       "<IPython.core.display.HTML object>"
      ]
     },
     "metadata": {},
     "output_type": "display_data"
    },
    {
     "data": {
      "application/vnd.jupyter.widget-view+json": {
       "model_id": "1383c780bdeb4c499d0ef346713e5281",
       "version_major": 2,
       "version_minor": 0
      },
      "text/plain": [
       "VBox(children=(Label(value='Waiting for wandb.init()...\\r'), FloatProgress(value=0.011288888888925108, max=1.0…"
      ]
     },
     "metadata": {},
     "output_type": "display_data"
    },
    {
     "data": {
      "text/html": [
       "wandb version 0.16.1 is available!  To upgrade, please run:\n",
       " $ pip install wandb --upgrade"
      ],
      "text/plain": [
       "<IPython.core.display.HTML object>"
      ]
     },
     "metadata": {},
     "output_type": "display_data"
    },
    {
     "data": {
      "text/html": [
       "Tracking run with wandb version 0.16.0"
      ],
      "text/plain": [
       "<IPython.core.display.HTML object>"
      ]
     },
     "metadata": {},
     "output_type": "display_data"
    },
    {
     "data": {
      "text/html": [
       "Run data is saved locally in <code>D:\\Projects\\Jupyter\\Sentiment analysis\\04DEC\\wandb\\run-20231210_113819-pmu8qarb</code>"
      ],
      "text/plain": [
       "<IPython.core.display.HTML object>"
      ]
     },
     "metadata": {},
     "output_type": "display_data"
    },
    {
     "data": {
      "text/html": [
       "Syncing run <strong><a href='https://wandb.ai/ericat/huggingface/runs/pmu8qarb' target=\"_blank\">comic-sun-568</a></strong> to <a href='https://wandb.ai/ericat/huggingface' target=\"_blank\">Weights & Biases</a> (<a href='https://wandb.me/run' target=\"_blank\">docs</a>)<br/>"
      ],
      "text/plain": [
       "<IPython.core.display.HTML object>"
      ]
     },
     "metadata": {},
     "output_type": "display_data"
    },
    {
     "data": {
      "text/html": [
       " View project at <a href='https://wandb.ai/ericat/huggingface' target=\"_blank\">https://wandb.ai/ericat/huggingface</a>"
      ],
      "text/plain": [
       "<IPython.core.display.HTML object>"
      ]
     },
     "metadata": {},
     "output_type": "display_data"
    },
    {
     "data": {
      "text/html": [
       " View run at <a href='https://wandb.ai/ericat/huggingface/runs/pmu8qarb' target=\"_blank\">https://wandb.ai/ericat/huggingface/runs/pmu8qarb</a>"
      ],
      "text/plain": [
       "<IPython.core.display.HTML object>"
      ]
     },
     "metadata": {},
     "output_type": "display_data"
    },
    {
     "name": "stdout",
     "output_type": "stream",
     "text": [
      "{'loss': 0.5628, 'learning_rate': 1.918474017519597e-05, 'epoch': 0.44}\n"
     ]
    },
    {
     "name": "stderr",
     "output_type": "stream",
     "text": [
      "[I 2023-12-10 11:42:20,411] Trial 19 pruned. \n"
     ]
    },
    {
     "name": "stdout",
     "output_type": "stream",
     "text": [
      "{'eval_loss': 0.5294262766838074, 'eval_accuracy': 0.7814977973568282, 'eval_f1': 0.7843574163108924, 'eval_precision': 0.7994513538503757, 'eval_recall': 0.7765128737673445, 'eval_runtime': 40.417, 'eval_samples_per_second': 168.494, 'eval_steps_per_second': 21.08, 'epoch': 0.44}\n"
     ]
    },
    {
     "data": {
      "text/plain": [
       "BestRun(run_id='17', objective=3.1971953070094408, hyperparameters={'learning_rate': 1.2828332695183246e-05, 'num_train_epochs': 2, 'per_device_train_batch_size': 24}, run_summary=None)"
      ]
     },
     "execution_count": 40,
     "metadata": {},
     "output_type": "execute_result"
    }
   ],
   "source": [
    "trainer.hyperparameter_search(direction=\"maximize\", hp_space=my_hp_space)"
   ]
  },
  {
   "cell_type": "markdown",
   "id": "37f9b448",
   "metadata": {},
   "source": [
    "# Trainer"
   ]
  },
  {
   "cell_type": "code",
   "execution_count": 36,
   "id": "642f5b47",
   "metadata": {},
   "outputs": [
    {
     "name": "stderr",
     "output_type": "stream",
     "text": [
      "\u001b[34m\u001b[1mwandb\u001b[0m: Currently logged in as: \u001b[33mericat\u001b[0m. Use \u001b[1m`wandb login --relogin`\u001b[0m to force relogin\n"
     ]
    },
    {
     "data": {
      "application/vnd.jupyter.widget-view+json": {
       "model_id": "d7ede32e489b4854a5e1e1ef571efe43",
       "version_major": 2,
       "version_minor": 0
      },
      "text/plain": [
       "VBox(children=(Label(value='Waiting for wandb.init()...\\r'), FloatProgress(value=0.011111111111111112, max=1.0…"
      ]
     },
     "metadata": {},
     "output_type": "display_data"
    },
    {
     "data": {
      "text/html": [
       "wandb version 0.16.1 is available!  To upgrade, please run:\n",
       " $ pip install wandb --upgrade"
      ],
      "text/plain": [
       "<IPython.core.display.HTML object>"
      ]
     },
     "metadata": {},
     "output_type": "display_data"
    },
    {
     "data": {
      "text/html": [
       "Tracking run with wandb version 0.16.0"
      ],
      "text/plain": [
       "<IPython.core.display.HTML object>"
      ]
     },
     "metadata": {},
     "output_type": "display_data"
    },
    {
     "data": {
      "text/html": [
       "Run data is saved locally in <code>D:\\Projects\\Jupyter\\Sentiment analysis\\04DEC\\wandb\\run-20231211_095215-23wbcmfk</code>"
      ],
      "text/plain": [
       "<IPython.core.display.HTML object>"
      ]
     },
     "metadata": {},
     "output_type": "display_data"
    },
    {
     "data": {
      "text/html": [
       "Syncing run <strong><a href='https://wandb.ai/ericat/huggingface/runs/23wbcmfk' target=\"_blank\">hopeful-galaxy-569</a></strong> to <a href='https://wandb.ai/ericat/huggingface' target=\"_blank\">Weights & Biases</a> (<a href='https://wandb.me/run' target=\"_blank\">docs</a>)<br/>"
      ],
      "text/plain": [
       "<IPython.core.display.HTML object>"
      ]
     },
     "metadata": {},
     "output_type": "display_data"
    },
    {
     "data": {
      "text/html": [
       " View project at <a href='https://wandb.ai/ericat/huggingface' target=\"_blank\">https://wandb.ai/ericat/huggingface</a>"
      ],
      "text/plain": [
       "<IPython.core.display.HTML object>"
      ]
     },
     "metadata": {},
     "output_type": "display_data"
    },
    {
     "data": {
      "text/html": [
       " View run at <a href='https://wandb.ai/ericat/huggingface/runs/23wbcmfk' target=\"_blank\">https://wandb.ai/ericat/huggingface/runs/23wbcmfk</a>"
      ],
      "text/plain": [
       "<IPython.core.display.HTML object>"
      ]
     },
     "metadata": {},
     "output_type": "display_data"
    },
    {
     "data": {
      "text/html": [
       "\n",
       "    <div>\n",
       "      \n",
       "      <progress value='2270' max='2270' style='width:300px; height:20px; vertical-align: middle;'></progress>\n",
       "      [2270/2270 30:39, Epoch 2/2]\n",
       "    </div>\n",
       "    <table border=\"1\" class=\"dataframe\">\n",
       "  <thead>\n",
       " <tr style=\"text-align: left;\">\n",
       "      <th>Step</th>\n",
       "      <th>Training Loss</th>\n",
       "      <th>Validation Loss</th>\n",
       "      <th>Accuracy</th>\n",
       "      <th>F1</th>\n",
       "      <th>Precision</th>\n",
       "      <th>Recall</th>\n",
       "    </tr>\n",
       "  </thead>\n",
       "  <tbody>\n",
       "    <tr>\n",
       "      <td>100</td>\n",
       "      <td>0.609000</td>\n",
       "      <td>0.556349</td>\n",
       "      <td>0.760352</td>\n",
       "      <td>0.764860</td>\n",
       "      <td>0.764855</td>\n",
       "      <td>0.768492</td>\n",
       "    </tr>\n",
       "    <tr>\n",
       "      <td>200</td>\n",
       "      <td>0.535600</td>\n",
       "      <td>0.545923</td>\n",
       "      <td>0.765051</td>\n",
       "      <td>0.768311</td>\n",
       "      <td>0.764784</td>\n",
       "      <td>0.776594</td>\n",
       "    </tr>\n",
       "    <tr>\n",
       "      <td>300</td>\n",
       "      <td>0.532800</td>\n",
       "      <td>0.554027</td>\n",
       "      <td>0.771219</td>\n",
       "      <td>0.775734</td>\n",
       "      <td>0.777859</td>\n",
       "      <td>0.782060</td>\n",
       "    </tr>\n",
       "    <tr>\n",
       "      <td>400</td>\n",
       "      <td>0.527000</td>\n",
       "      <td>0.530795</td>\n",
       "      <td>0.779295</td>\n",
       "      <td>0.782684</td>\n",
       "      <td>0.783454</td>\n",
       "      <td>0.782446</td>\n",
       "    </tr>\n",
       "    <tr>\n",
       "      <td>500</td>\n",
       "      <td>0.535400</td>\n",
       "      <td>0.547750</td>\n",
       "      <td>0.773715</td>\n",
       "      <td>0.777294</td>\n",
       "      <td>0.774852</td>\n",
       "      <td>0.786064</td>\n",
       "    </tr>\n",
       "    <tr>\n",
       "      <td>600</td>\n",
       "      <td>0.526500</td>\n",
       "      <td>0.513252</td>\n",
       "      <td>0.784728</td>\n",
       "      <td>0.788686</td>\n",
       "      <td>0.788834</td>\n",
       "      <td>0.788620</td>\n",
       "    </tr>\n",
       "    <tr>\n",
       "      <td>700</td>\n",
       "      <td>0.511200</td>\n",
       "      <td>0.502806</td>\n",
       "      <td>0.788840</td>\n",
       "      <td>0.792567</td>\n",
       "      <td>0.795901</td>\n",
       "      <td>0.790001</td>\n",
       "    </tr>\n",
       "    <tr>\n",
       "      <td>800</td>\n",
       "      <td>0.505900</td>\n",
       "      <td>0.531270</td>\n",
       "      <td>0.788399</td>\n",
       "      <td>0.791513</td>\n",
       "      <td>0.788347</td>\n",
       "      <td>0.798142</td>\n",
       "    </tr>\n",
       "    <tr>\n",
       "      <td>900</td>\n",
       "      <td>0.506800</td>\n",
       "      <td>0.505044</td>\n",
       "      <td>0.790602</td>\n",
       "      <td>0.794323</td>\n",
       "      <td>0.795207</td>\n",
       "      <td>0.793712</td>\n",
       "    </tr>\n",
       "    <tr>\n",
       "      <td>1000</td>\n",
       "      <td>0.515800</td>\n",
       "      <td>0.504686</td>\n",
       "      <td>0.787959</td>\n",
       "      <td>0.791113</td>\n",
       "      <td>0.788934</td>\n",
       "      <td>0.794274</td>\n",
       "    </tr>\n",
       "    <tr>\n",
       "      <td>1100</td>\n",
       "      <td>0.510700</td>\n",
       "      <td>0.496426</td>\n",
       "      <td>0.794714</td>\n",
       "      <td>0.797786</td>\n",
       "      <td>0.801657</td>\n",
       "      <td>0.795021</td>\n",
       "    </tr>\n",
       "    <tr>\n",
       "      <td>1200</td>\n",
       "      <td>0.464200</td>\n",
       "      <td>0.516859</td>\n",
       "      <td>0.793979</td>\n",
       "      <td>0.797282</td>\n",
       "      <td>0.794671</td>\n",
       "      <td>0.801155</td>\n",
       "    </tr>\n",
       "    <tr>\n",
       "      <td>1300</td>\n",
       "      <td>0.414700</td>\n",
       "      <td>0.510937</td>\n",
       "      <td>0.793686</td>\n",
       "      <td>0.796930</td>\n",
       "      <td>0.799638</td>\n",
       "      <td>0.794780</td>\n",
       "    </tr>\n",
       "    <tr>\n",
       "      <td>1400</td>\n",
       "      <td>0.423800</td>\n",
       "      <td>0.525510</td>\n",
       "      <td>0.791924</td>\n",
       "      <td>0.795987</td>\n",
       "      <td>0.797001</td>\n",
       "      <td>0.797172</td>\n",
       "    </tr>\n",
       "    <tr>\n",
       "      <td>1500</td>\n",
       "      <td>0.396100</td>\n",
       "      <td>0.506391</td>\n",
       "      <td>0.793686</td>\n",
       "      <td>0.797239</td>\n",
       "      <td>0.799514</td>\n",
       "      <td>0.795294</td>\n",
       "    </tr>\n",
       "    <tr>\n",
       "      <td>1600</td>\n",
       "      <td>0.440400</td>\n",
       "      <td>0.509828</td>\n",
       "      <td>0.792511</td>\n",
       "      <td>0.796028</td>\n",
       "      <td>0.794775</td>\n",
       "      <td>0.797539</td>\n",
       "    </tr>\n",
       "    <tr>\n",
       "      <td>1700</td>\n",
       "      <td>0.424800</td>\n",
       "      <td>0.512588</td>\n",
       "      <td>0.795301</td>\n",
       "      <td>0.798932</td>\n",
       "      <td>0.797943</td>\n",
       "      <td>0.800340</td>\n",
       "    </tr>\n",
       "    <tr>\n",
       "      <td>1800</td>\n",
       "      <td>0.425700</td>\n",
       "      <td>0.513534</td>\n",
       "      <td>0.795888</td>\n",
       "      <td>0.799233</td>\n",
       "      <td>0.796898</td>\n",
       "      <td>0.802375</td>\n",
       "    </tr>\n",
       "    <tr>\n",
       "      <td>1900</td>\n",
       "      <td>0.410400</td>\n",
       "      <td>0.523613</td>\n",
       "      <td>0.798091</td>\n",
       "      <td>0.801656</td>\n",
       "      <td>0.799734</td>\n",
       "      <td>0.804903</td>\n",
       "    </tr>\n",
       "    <tr>\n",
       "      <td>2000</td>\n",
       "      <td>0.439700</td>\n",
       "      <td>0.510842</td>\n",
       "      <td>0.796916</td>\n",
       "      <td>0.800583</td>\n",
       "      <td>0.800141</td>\n",
       "      <td>0.801214</td>\n",
       "    </tr>\n",
       "    <tr>\n",
       "      <td>2100</td>\n",
       "      <td>0.415700</td>\n",
       "      <td>0.517794</td>\n",
       "      <td>0.796329</td>\n",
       "      <td>0.799643</td>\n",
       "      <td>0.797877</td>\n",
       "      <td>0.801774</td>\n",
       "    </tr>\n",
       "    <tr>\n",
       "      <td>2200</td>\n",
       "      <td>0.434400</td>\n",
       "      <td>0.514506</td>\n",
       "      <td>0.797504</td>\n",
       "      <td>0.800966</td>\n",
       "      <td>0.799113</td>\n",
       "      <td>0.803303</td>\n",
       "    </tr>\n",
       "  </tbody>\n",
       "</table><p>"
      ],
      "text/plain": [
       "<IPython.core.display.HTML object>"
      ]
     },
     "metadata": {},
     "output_type": "display_data"
    }
   ],
   "source": [
    "training_args = TrainingArguments(\n",
    "    output_dir='./7aresults',          # output directory\n",
    "    learning_rate=1.2828332695183246e-05,\n",
    "    num_train_epochs=2,              # total number of training epochs\n",
    "    per_device_train_batch_size=24,  # batch size per device during training\n",
    "    per_device_eval_batch_size=24,   # batch size for evaluation\n",
    "    logging_dir='./logs',            # directory for storing logs\n",
    "    logging_steps=100,\n",
    "    seed=42,\n",
    "    do_train=True,\n",
    "    do_eval=True,\n",
    "    no_cuda=False,\n",
    "    load_best_model_at_end=True,\n",
    "    eval_steps=100,\n",
    "    evaluation_strategy=\"steps\"\n",
    ")\n",
    "\n",
    "trainer = Trainer(\n",
    "    model=model,                         # the instantiated 🤗 Transformers model to be trained\n",
    "    args=training_args,                  # training arguments, defined above\n",
    "    train_dataset=train_dataset,         # training dataset\n",
    "    eval_dataset=validation_dataset,            # evaluation dataset\n",
    "    compute_metrics=compute_metrics\n",
    ")\n",
    "\n",
    "train_out = trainer.train()"
   ]
  },
  {
   "cell_type": "code",
   "execution_count": 37,
   "id": "4606352a",
   "metadata": {},
   "outputs": [
    {
     "data": {
      "text/plain": [
       "TrainOutput(global_step=2270, training_loss=0.4753799135989555, metrics={'train_runtime': 1879.7518, 'train_samples_per_second': 28.98, 'train_steps_per_second': 1.208, 'total_flos': 7166683272075264.0, 'train_loss': 0.4753799135989555, 'epoch': 2.0})"
      ]
     },
     "execution_count": 37,
     "metadata": {},
     "output_type": "execute_result"
    }
   ],
   "source": [
    "train_out"
   ]
  },
  {
   "cell_type": "markdown",
   "id": "50ea1fb2",
   "metadata": {},
   "source": [
    "# Confusion matrix"
   ]
  },
  {
   "cell_type": "code",
   "execution_count": 48,
   "id": "bca2b3b9",
   "metadata": {},
   "outputs": [],
   "source": [
    "def plot_confusion_matrix(y_preds, y_true, labels):\n",
    "    cm = confusion_matrix(y_true, y_preds)\n",
    "    cm = confusion_matrix(y_true, y_preds, normalize=\"true\")\n",
    "    fig, ax = plt.subplots(figsize=(10, 10))\n",
    "    disp = ConfusionMatrixDisplay(confusion_matrix=cm, display_labels=labels)\n",
    "    disp.plot(cmap=\"Blues\", values_format=\".2f\", ax=ax, colorbar=False)\n",
    "    plt.title(\"confusion matrix\")\n",
    "    plt.show()"
   ]
  },
  {
   "cell_type": "code",
   "execution_count": 49,
   "id": "d36f434c",
   "metadata": {},
   "outputs": [
    {
     "data": {
      "text/html": [],
      "text/plain": [
       "<IPython.core.display.HTML object>"
      ]
     },
     "metadata": {},
     "output_type": "display_data"
    }
   ],
   "source": [
    "y_valid = np.array(test_dataset[\"labels\"])\n",
    "preds_output = trainer.predict(test_dataset)"
   ]
  },
  {
   "cell_type": "code",
   "execution_count": 50,
   "id": "f135f10a",
   "metadata": {},
   "outputs": [
    {
     "data": {
      "text/plain": [
       "{'test_loss': 0.8933888077735901,\n",
       " 'test_accuracy': 0.653,\n",
       " 'test_f1': 0.6358323949188175,\n",
       " 'test_precision': 0.6883988223855418,\n",
       " 'test_recall': 0.6319033095726017,\n",
       " 'test_runtime': 5.4628,\n",
       " 'test_samples_per_second': 183.056,\n",
       " 'test_steps_per_second': 7.688}"
      ]
     },
     "execution_count": 50,
     "metadata": {},
     "output_type": "execute_result"
    }
   ],
   "source": [
    "preds_output.metrics"
   ]
  },
  {
   "cell_type": "code",
   "execution_count": 51,
   "id": "49d15707",
   "metadata": {},
   "outputs": [],
   "source": [
    "y_preds = np.argmax(preds_output.predictions, axis=1)"
   ]
  },
  {
   "cell_type": "code",
   "execution_count": 52,
   "id": "610ce01e",
   "metadata": {},
   "outputs": [
    {
     "data": {
      "image/png": "[encoded data removed]",
      "text/plain": [
       "<Figure size 1000x1000 with 1 Axes>"
      ]
     },
     "metadata": {},
     "output_type": "display_data"
    }
   ],
   "source": [
    "labels = train_dataset.features[\"label\"].names\n",
    "plot_confusion_matrix(y_preds, y_valid, labels)"
   ]
  },
  {
   "cell_type": "markdown",
   "id": "a58f651a",
   "metadata": {},
   "source": [
    "## Validation dataset"
   ]
  },
  {
   "cell_type": "code",
   "execution_count": 53,
   "id": "f01ac2ab",
   "metadata": {},
   "outputs": [
    {
     "data": {
      "text/html": [],
      "text/plain": [
       "<IPython.core.display.HTML object>"
      ]
     },
     "metadata": {},
     "output_type": "display_data"
    }
   ],
   "source": [
    "y_valid = np.array(validation_dataset[\"labels\"])\n",
    "preds_output = trainer.predict(validation_dataset)"
   ]
  },
  {
   "cell_type": "code",
   "execution_count": 54,
   "id": "5415b080",
   "metadata": {},
   "outputs": [
    {
     "data": {
      "text/plain": [
       "{'test_loss': 0.5046862959861755,\n",
       " 'test_accuracy': 0.7879588839941263,\n",
       " 'test_f1': 0.7911134706844005,\n",
       " 'test_precision': 0.7889336047597354,\n",
       " 'test_recall': 0.7942743692227167,\n",
       " 'test_runtime': 36.9391,\n",
       " 'test_samples_per_second': 184.357,\n",
       " 'test_steps_per_second': 7.688}"
      ]
     },
     "execution_count": 54,
     "metadata": {},
     "output_type": "execute_result"
    }
   ],
   "source": [
    "preds_output.metrics"
   ]
  },
  {
   "cell_type": "code",
   "execution_count": 55,
   "id": "ac7fda88",
   "metadata": {},
   "outputs": [],
   "source": [
    "y_preds = np.argmax(preds_output.predictions, axis=1)"
   ]
  },
  {
   "cell_type": "code",
   "execution_count": 56,
   "id": "08c56a7d",
   "metadata": {},
   "outputs": [
    {
     "data": {
      "image/png": "[encoded data removed]",
      "text/plain": [
       "<Figure size 1000x1000 with 1 Axes>"
      ]
     },
     "metadata": {},
     "output_type": "display_data"
    }
   ],
   "source": [
    "labels = train_dataset.features[\"label\"].names\n",
    "plot_confusion_matrix(y_preds, y_valid, labels)"
   ]
  },
  {
   "cell_type": "code",
   "execution_count": null,
   "id": "53d776a9",
   "metadata": {},
   "outputs": [],
   "source": []
  },
  {
   "cell_type": "code",
   "execution_count": null,
   "id": "1069a468",
   "metadata": {},
   "outputs": [],
   "source": []
  },
  {
   "cell_type": "code",
   "execution_count": 57,
   "id": "e0533362",
   "metadata": {},
   "outputs": [
    {
     "data": {
      "application/javascript": [
       "$(document).ready(\n",
       "    function() {\n",
       "        function appendUniqueDiv(){\n",
       "            // append a div with our uuid so we can check that it's already\n",
       "            // been sent and avoid duplicates on page reload\n",
       "            var notifiedDiv = document.createElement(\"div\")\n",
       "            notifiedDiv.id = \"b1cd4631-dba2-4517-ab47-3e3ca1198572\"\n",
       "            element.append(notifiedDiv)\n",
       "        }\n",
       "\n",
       "        // only send notifications if the pageload is complete; this will\n",
       "        // help stop extra notifications when a saved notebook is loaded,\n",
       "        // which during testing gives us state \"interactive\", not \"complete\"\n",
       "        if (document.readyState === 'complete') {\n",
       "            // check for the div that signifies that the notification\n",
       "            // was already sent\n",
       "            if (document.getElementById(\"b1cd4631-dba2-4517-ab47-3e3ca1198572\") === null) {\n",
       "                var notificationPayload = {\"requireInteraction\": false, \"icon\": \"/static/base/images/favicon.ico\", \"body\": \"Cell execution has finished!\"};\n",
       "                if (Notification.permission !== 'denied') {\n",
       "                    if (Notification.permission !== 'granted') { \n",
       "                        Notification.requestPermission(function (permission) {\n",
       "                            if(!('permission' in Notification)) {\n",
       "                                Notification.permission = permission\n",
       "                            }\n",
       "                        })\n",
       "                    }\n",
       "                    if (Notification.permission === 'granted') {\n",
       "                    var notification = new Notification(\"Jupyter Notebook\", notificationPayload)\n",
       "                    appendUniqueDiv()\n",
       "                    notification.onclick = function () {\n",
       "                        window.focus();\n",
       "                        this.close();\n",
       "                        };\n",
       "                    } \n",
       "                }     \n",
       "            }\n",
       "        }\n",
       "    }\n",
       ")\n"
      ],
      "text/plain": [
       "<IPython.core.display.Javascript object>"
      ]
     },
     "metadata": {},
     "output_type": "display_data"
    }
   ],
   "source": [
    "%%notify\n",
    "import time\n",
    "time.sleep(1)"
   ]
  },
  {
   "cell_type": "code",
   "execution_count": null,
   "id": "3d423a17",
   "metadata": {},
   "outputs": [],
   "source": []
  }
 ],
 "metadata": {
  "kernelspec": {
   "display_name": "Python 3 (ipykernel)",
   "language": "python",
   "name": "python3"
  },
  "language_info": {
   "codemirror_mode": {
    "name": "ipython",
    "version": 3
   },
   "file_extension": ".py",
   "mimetype": "text/x-python",
   "name": "python",
   "nbconvert_exporter": "python",
   "pygments_lexer": "ipython3",
   "version": "3.10.4"
  },
  "toc": {
   "base_numbering": 1,
   "nav_menu": {},
   "number_sections": true,
   "sideBar": true,
   "skip_h1_title": false,
   "title_cell": "Table of Contents",
   "title_sidebar": "Contents",
   "toc_cell": false,
   "toc_position": {
    "height": "calc(100% - 180px)",
    "left": "10px",
    "top": "150px",
    "width": "336.797px"
   },
   "toc_section_display": true,
   "toc_window_display": true
  }
 },
 "nbformat": 4,
 "nbformat_minor": 5
}

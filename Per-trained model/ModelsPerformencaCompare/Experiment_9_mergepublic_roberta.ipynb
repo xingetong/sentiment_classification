{
 "cells": [
  {
   "cell_type": "markdown",
   "id": "d25e6bd4",
   "metadata": {},
   "source": [
    "# Import"
   ]
  },
  {
   "cell_type": "code",
   "execution_count": 1,
   "id": "1fe33446",
   "metadata": {},
   "outputs": [
    {
     "data": {
      "application/javascript": [
       "if (!(\"Notification\" in window)) {\n",
       "    alert(\"This browser does not support desktop notifications, so the %%notify magic will not work.\");\n",
       "} else if (Notification.permission !== 'granted' && Notification.permission !== 'denied') {\n",
       "    Notification.requestPermission(function (permission) {\n",
       "        if(!('permission' in Notification)) {\n",
       "            Notification.permission = permission;\n",
       "        }\n",
       "    })\n",
       "}\n"
      ],
      "text/plain": [
       "<IPython.core.display.Javascript object>"
      ]
     },
     "metadata": {},
     "output_type": "display_data"
    }
   ],
   "source": [
    "import jupyternotify\n",
    "ip = get_ipython()\n",
    "ip.register_magics(jupyternotify.JupyterNotifyMagics)"
   ]
  },
  {
   "cell_type": "code",
   "execution_count": 2,
   "id": "990dfc95",
   "metadata": {},
   "outputs": [],
   "source": [
    "import os\n",
    "import torch\n",
    "from transformers import AutoModelForSequenceClassification, AutoTokenizer\n",
    "from sklearn.metrics import accuracy_score, precision_recall_fscore_support\n",
    "from transformers import Trainer, TrainingArguments\n",
    "from transformers import pipeline\n",
    "from datasets import concatenate_datasets, load_dataset\n",
    "from huggingface_hub import hf_hub_download\n",
    "import pandas as pd\n",
    "import matplotlib.pyplot as plt\n",
    "import numpy as np\n",
    "import datasets\n",
    "from datasets import Dataset, Value, ClassLabel, Features\n",
    "from sklearn.metrics import ConfusionMatrixDisplay, confusion_matrix\n",
    "os.environ[\"CUDA_VISIBLE_DEVICES\"] = \"2\" \n",
    "from transformers import DataCollatorWithPadding\n",
    "import optuna\n",
    "from huggingface_hub import notebook_login"
   ]
  },
  {
   "cell_type": "markdown",
   "id": "177fcb0c",
   "metadata": {},
   "source": [
    "# Datasets"
   ]
  },
  {
   "cell_type": "code",
   "execution_count": 3,
   "id": "4097a6c4",
   "metadata": {},
   "outputs": [],
   "source": [
    "# lables value\n",
    "\n",
    "# 2 = positive\n",
    "# 1 = neutral\n",
    "# 0 = negative"
   ]
  },
  {
   "cell_type": "code",
   "execution_count": 4,
   "id": "74660cf4",
   "metadata": {},
   "outputs": [
    {
     "data": {
      "text/plain": [
       "DatasetDict({\n",
       "    train: Dataset({\n",
       "        features: ['text', 'label'],\n",
       "        num_rows: 1839\n",
       "    })\n",
       "    validation: Dataset({\n",
       "        features: ['text', 'label'],\n",
       "        num_rows: 324\n",
       "    })\n",
       "    test: Dataset({\n",
       "        features: ['text', 'label'],\n",
       "        num_rows: 870\n",
       "    })\n",
       "})"
      ]
     },
     "execution_count": 4,
     "metadata": {},
     "output_type": "execute_result"
    }
   ],
   "source": [
    "dataset_tweet= load_dataset(\"cardiffnlp/tweet_sentiment_multilingual\", \"english\")\n",
    "dataset_tweet"
   ]
  },
  {
   "cell_type": "code",
   "execution_count": 5,
   "id": "dd403218",
   "metadata": {},
   "outputs": [
    {
     "data": {
      "text/plain": [
       "Dataset({\n",
       "    features: ['text', 'label'],\n",
       "    num_rows: 3033\n",
       "})"
      ]
     },
     "execution_count": 5,
     "metadata": {},
     "output_type": "execute_result"
    }
   ],
   "source": [
    "dataset_tweet_cc = concatenate_datasets([dataset_tweet['train'], dataset_tweet['validation'],dataset_tweet['test']])\n",
    "dataset_tweet_cc"
   ]
  },
  {
   "cell_type": "code",
   "execution_count": 6,
   "id": "7b668e66",
   "metadata": {},
   "outputs": [],
   "source": [
    "dataset_mteb = load_dataset(\"mteb/tweet_sentiment_extraction\")"
   ]
  },
  {
   "cell_type": "code",
   "execution_count": 7,
   "id": "1d72c10b",
   "metadata": {},
   "outputs": [
    {
     "data": {
      "text/plain": [
       "DatasetDict({\n",
       "    train: Dataset({\n",
       "        features: ['id', 'text', 'label', 'label_text'],\n",
       "        num_rows: 27481\n",
       "    })\n",
       "    test: Dataset({\n",
       "        features: ['id', 'text', 'label', 'label_text'],\n",
       "        num_rows: 3534\n",
       "    })\n",
       "})"
      ]
     },
     "execution_count": 7,
     "metadata": {},
     "output_type": "execute_result"
    }
   ],
   "source": [
    "dataset_mteb"
   ]
  },
  {
   "cell_type": "code",
   "execution_count": 8,
   "id": "d8943f44",
   "metadata": {},
   "outputs": [
    {
     "data": {
      "text/plain": [
       "Dataset({\n",
       "    features: ['id', 'text', 'label', 'label_text'],\n",
       "    num_rows: 31015\n",
       "})"
      ]
     },
     "execution_count": 8,
     "metadata": {},
     "output_type": "execute_result"
    }
   ],
   "source": [
    "dataset_mteb_cc = concatenate_datasets([dataset_mteb['train'], dataset_mteb['test']])\n",
    "dataset_mteb_cc"
   ]
  },
  {
   "cell_type": "code",
   "execution_count": 9,
   "id": "61a13ccd",
   "metadata": {},
   "outputs": [
    {
     "data": {
      "text/plain": [
       "Dataset({\n",
       "    features: ['text', 'label'],\n",
       "    num_rows: 31015\n",
       "})"
      ]
     },
     "execution_count": 9,
     "metadata": {},
     "output_type": "execute_result"
    }
   ],
   "source": [
    "dataset_mteb_cc=dataset_mteb_cc.remove_columns('label_text')\n",
    "dataset_mteb_cc=dataset_mteb_cc.remove_columns('id')\n",
    "\n",
    "dataset_mteb_cc"
   ]
  },
  {
   "cell_type": "code",
   "execution_count": 10,
   "id": "5b1687d1",
   "metadata": {},
   "outputs": [
    {
     "data": {
      "text/plain": [
       "{'text': Value(dtype='string', id=None),\n",
       " 'label': ClassLabel(names=['negative', 'neutral', 'positive'], id=None)}"
      ]
     },
     "execution_count": 10,
     "metadata": {},
     "output_type": "execute_result"
    }
   ],
   "source": [
    "dataset_tweet_cc.features"
   ]
  },
  {
   "cell_type": "code",
   "execution_count": 11,
   "id": "9da33cf9",
   "metadata": {},
   "outputs": [
    {
     "data": {
      "text/plain": [
       "{'text': Value(dtype='string', id=None),\n",
       " 'label': Value(dtype='int64', id=None)}"
      ]
     },
     "execution_count": 11,
     "metadata": {},
     "output_type": "execute_result"
    }
   ],
   "source": [
    "dataset_mteb_cc.features"
   ]
  },
  {
   "cell_type": "code",
   "execution_count": 12,
   "id": "5bec3aee",
   "metadata": {},
   "outputs": [],
   "source": [
    "features = dataset_mteb_cc.features.copy()\n",
    "features[\"label\"] = ClassLabel(names=['negative', 'neutral', 'positive'])\n",
    "def adjust_labels(batch):\n",
    "    batch[\"label\"] = [dataset_mteb_cc for dataset_mteb_cc in batch[\"label\"]]\n",
    "    return batch\n",
    "label_dataset = dataset_mteb_cc.map(adjust_labels, batched=True, features=features)"
   ]
  },
  {
   "cell_type": "code",
   "execution_count": 13,
   "id": "ef1abd7f",
   "metadata": {},
   "outputs": [
    {
     "data": {
      "text/plain": [
       "{'text': Value(dtype='string', id=None),\n",
       " 'label': ClassLabel(names=['negative', 'neutral', 'positive'], id=None)}"
      ]
     },
     "execution_count": 13,
     "metadata": {},
     "output_type": "execute_result"
    }
   ],
   "source": [
    "label_dataset.features"
   ]
  },
  {
   "cell_type": "code",
   "execution_count": 14,
   "id": "32894eef",
   "metadata": {},
   "outputs": [
    {
     "data": {
      "text/plain": [
       "Dataset({\n",
       "    features: ['text', 'label'],\n",
       "    num_rows: 34048\n",
       "})"
      ]
     },
     "execution_count": 14,
     "metadata": {},
     "output_type": "execute_result"
    }
   ],
   "source": [
    "dataset_cc = concatenate_datasets([label_dataset, dataset_tweet_cc])\n",
    "dataset_cc"
   ]
  },
  {
   "cell_type": "markdown",
   "id": "41534065",
   "metadata": {},
   "source": [
    "## test dataset"
   ]
  },
  {
   "cell_type": "code",
   "execution_count": 15,
   "id": "2e8e1c89",
   "metadata": {},
   "outputs": [
    {
     "data": {
      "application/vnd.jupyter.widget-view+json": {
       "model_id": "daefd77714a6441a8af599c0e5379c5a",
       "version_major": 2,
       "version_minor": 0
      },
      "text/plain": [
       "VBox(children=(HTML(value='<center> <img\\nsrc=https://huggingface.co/front/assets/huggingface_logo-noborder.sv…"
      ]
     },
     "metadata": {},
     "output_type": "display_data"
    }
   ],
   "source": [
    "notebook_login()"
   ]
  },
  {
   "cell_type": "code",
   "execution_count": 16,
   "id": "bc13c06c",
   "metadata": {},
   "outputs": [
    {
     "name": "stdout",
     "output_type": "stream",
     "text": [
      "DatasetDict({\n",
      "    test: Dataset({\n",
      "        features: ['sequence', 'labels', 'labels_five', 'labels_three', 'labels_three_2p'],\n",
      "        num_rows: 1700\n",
      "    })\n",
      "})\n"
     ]
    }
   ],
   "source": [
    "raw_dataset=load_dataset(\"HFFErica/sentimentanalysis\")\n",
    "print(raw_dataset)"
   ]
  },
  {
   "cell_type": "code",
   "execution_count": 17,
   "id": "b25fa66d",
   "metadata": {},
   "outputs": [],
   "source": [
    "features = raw_dataset[\"test\"].features.copy()\n",
    "features[\"labels_three_2p\"] = ClassLabel(names=['negative', 'neutral', 'positive'])\n",
    "def adjust_labels(batch):\n",
    "    batch[\"labels_three_2p\"] = [test for test in batch[\"labels_three_2p\"]]\n",
    "    return batch\n",
    "label_dataset = raw_dataset.map(adjust_labels, batched=True, features=features)"
   ]
  },
  {
   "cell_type": "code",
   "execution_count": 18,
   "id": "79561e67",
   "metadata": {},
   "outputs": [
    {
     "data": {
      "text/plain": [
       "{'sequence': Value(dtype='string', id=None),\n",
       " 'labels': Value(dtype='string', id=None),\n",
       " 'labels_five': Value(dtype='int64', id=None),\n",
       " 'labels_three': Value(dtype='int64', id=None),\n",
       " 'labels_three_2p': ClassLabel(names=['negative', 'neutral', 'positive'], id=None)}"
      ]
     },
     "execution_count": 18,
     "metadata": {},
     "output_type": "execute_result"
    }
   ],
   "source": [
    "label_dataset[\"test\"].features"
   ]
  },
  {
   "cell_type": "code",
   "execution_count": 19,
   "id": "8c3bca4b",
   "metadata": {},
   "outputs": [
    {
     "data": {
      "text/plain": [
       "DatasetDict({\n",
       "    train: Dataset({\n",
       "        features: ['sequence', 'labels', 'labels_five', 'labels_three', 'labels_three_2p'],\n",
       "        num_rows: 1000\n",
       "    })\n",
       "    test: Dataset({\n",
       "        features: ['sequence', 'labels', 'labels_five', 'labels_three', 'labels_three_2p'],\n",
       "        num_rows: 700\n",
       "    })\n",
       "})"
      ]
     },
     "execution_count": 19,
     "metadata": {},
     "output_type": "execute_result"
    }
   ],
   "source": [
    "label_dataset_split = label_dataset['test'].train_test_split(test_size=0.4112, stratify_by_column=\"labels_three_2p\")\n",
    "label_dataset_split"
   ]
  },
  {
   "cell_type": "markdown",
   "id": "b6d08aba",
   "metadata": {},
   "source": [
    "### test dataset groups"
   ]
  },
  {
   "cell_type": "code",
   "execution_count": 20,
   "id": "ca7e800b",
   "metadata": {},
   "outputs": [
    {
     "data": {
      "text/plain": [
       "Dataset({\n",
       "    features: ['sequence', 'labels', 'labels_five', 'labels_three', 'labels_three_2p'],\n",
       "    num_rows: 1000\n",
       "})"
      ]
     },
     "execution_count": 20,
     "metadata": {},
     "output_type": "execute_result"
    }
   ],
   "source": [
    "test_dataset=label_dataset_split['train']\n",
    "test_dataset"
   ]
  },
  {
   "cell_type": "code",
   "execution_count": 21,
   "id": "fcdf8e04",
   "metadata": {},
   "outputs": [
    {
     "data": {
      "text/plain": [
       "Dataset({\n",
       "    features: ['sequence', 'labels', 'labels_five', 'labels_three', 'labels_three_2p'],\n",
       "    num_rows: 700\n",
       "})"
      ]
     },
     "execution_count": 21,
     "metadata": {},
     "output_type": "execute_result"
    }
   ],
   "source": [
    "pretrain_test_dataset=label_dataset_split['test']\n",
    "pretrain_test_dataset"
   ]
  },
  {
   "cell_type": "code",
   "execution_count": 22,
   "id": "803760a1",
   "metadata": {},
   "outputs": [
    {
     "data": {
      "text/plain": [
       "{'sequence': Value(dtype='string', id=None),\n",
       " 'labels': Value(dtype='string', id=None),\n",
       " 'labels_five': Value(dtype='int64', id=None),\n",
       " 'labels_three': Value(dtype='int64', id=None),\n",
       " 'labels_three_2p': ClassLabel(names=['negative', 'neutral', 'positive'], id=None)}"
      ]
     },
     "execution_count": 22,
     "metadata": {},
     "output_type": "execute_result"
    }
   ],
   "source": [
    "test_dataset.features"
   ]
  },
  {
   "cell_type": "markdown",
   "id": "93230995",
   "metadata": {},
   "source": [
    "### Pretrain merge"
   ]
  },
  {
   "cell_type": "code",
   "execution_count": 23,
   "id": "af52cc4c",
   "metadata": {},
   "outputs": [
    {
     "data": {
      "text/plain": [
       "Dataset({\n",
       "    features: ['sequence', 'labels_three_2p'],\n",
       "    num_rows: 700\n",
       "})"
      ]
     },
     "execution_count": 23,
     "metadata": {},
     "output_type": "execute_result"
    }
   ],
   "source": [
    "pretrain_test_dataset=pretrain_test_dataset.remove_columns('labels')\n",
    "pretrain_test_dataset=pretrain_test_dataset.remove_columns('labels_five')\n",
    "pretrain_test_dataset=pretrain_test_dataset.remove_columns('labels_three')\n",
    "\n",
    "pretrain_test_dataset"
   ]
  },
  {
   "cell_type": "code",
   "execution_count": 24,
   "id": "98df6d13",
   "metadata": {},
   "outputs": [
    {
     "data": {
      "text/plain": [
       "Dataset({\n",
       "    features: ['text', 'label'],\n",
       "    num_rows: 700\n",
       "})"
      ]
     },
     "execution_count": 24,
     "metadata": {},
     "output_type": "execute_result"
    }
   ],
   "source": [
    "pretrain_test_dataset=pretrain_test_dataset.rename_column(\"sequence\", \"text\")\n",
    "pretrain_test_dataset=pretrain_test_dataset.rename_column(\"labels_three_2p\", \"label\")\n",
    "\n",
    "pretrain_test_dataset"
   ]
  },
  {
   "cell_type": "code",
   "execution_count": 25,
   "id": "010e259b",
   "metadata": {},
   "outputs": [
    {
     "data": {
      "text/plain": [
       "Dataset({\n",
       "    features: ['text', 'label'],\n",
       "    num_rows: 34748\n",
       "})"
      ]
     },
     "execution_count": 25,
     "metadata": {},
     "output_type": "execute_result"
    }
   ],
   "source": [
    "dataset_ccc = concatenate_datasets([dataset_cc,pretrain_test_dataset])\n",
    "dataset_ccc"
   ]
  },
  {
   "cell_type": "markdown",
   "id": "bd490827",
   "metadata": {},
   "source": [
    "## split "
   ]
  },
  {
   "cell_type": "code",
   "execution_count": 26,
   "id": "0cc3e974",
   "metadata": {},
   "outputs": [
    {
     "data": {
      "text/plain": [
       "DatasetDict({\n",
       "    train: Dataset({\n",
       "        features: ['text', 'label'],\n",
       "        num_rows: 560\n",
       "    })\n",
       "    test: Dataset({\n",
       "        features: ['text', 'label'],\n",
       "        num_rows: 140\n",
       "    })\n",
       "})"
      ]
     },
     "execution_count": 26,
     "metadata": {},
     "output_type": "execute_result"
    }
   ],
   "source": [
    "ds = pretrain_test_dataset.train_test_split(test_size=0.2, stratify_by_column=\"label\")\n",
    "ds"
   ]
  },
  {
   "cell_type": "code",
   "execution_count": 27,
   "id": "59160508",
   "metadata": {
    "scrolled": true
   },
   "outputs": [
    {
     "name": "stdout",
     "output_type": "stream",
     "text": [
      "Dataset({\n",
      "    features: ['text', 'label'],\n",
      "    num_rows: 560\n",
      "})\n",
      "Dataset({\n",
      "    features: ['text', 'label'],\n",
      "    num_rows: 140\n",
      "})\n"
     ]
    }
   ],
   "source": [
    "train_dataset = ds['train']\n",
    "validation_dataset = ds['test']\n",
    "print(train_dataset)\n",
    "print(validation_dataset)"
   ]
  },
  {
   "cell_type": "markdown",
   "id": "484f5084",
   "metadata": {},
   "source": [
    "## label balance"
   ]
  },
  {
   "cell_type": "code",
   "execution_count": 28,
   "id": "594fd590",
   "metadata": {},
   "outputs": [
    {
     "data": {
      "text/plain": [
       "<Axes: ylabel='count'>"
      ]
     },
     "execution_count": 28,
     "metadata": {},
     "output_type": "execute_result"
    },
    {
     "data": {
      "image/png": "[encoded data removed]",
      "text/plain": [
       "<Figure size 640x480 with 1 Axes>"
      ]
     },
     "metadata": {},
     "output_type": "display_data"
    }
   ],
   "source": [
    "df_train = train_dataset.to_pandas()\n",
    "df_train.label.value_counts().plot(kind = 'pie', autopct=\"%.2f\")"
   ]
  },
  {
   "cell_type": "code",
   "execution_count": 29,
   "id": "930bd8d3",
   "metadata": {},
   "outputs": [
    {
     "data": {
      "text/plain": [
       "<Axes: ylabel='count'>"
      ]
     },
     "execution_count": 29,
     "metadata": {},
     "output_type": "execute_result"
    },
    {
     "data": {
      "image/png": "[encoded data removed]",
      "text/plain": [
       "<Figure size 640x480 with 1 Axes>"
      ]
     },
     "metadata": {},
     "output_type": "display_data"
    }
   ],
   "source": [
    "df_validation = validation_dataset.to_pandas()\n",
    "df_validation.label.value_counts().plot(kind = 'pie', autopct=\"%.2f\")"
   ]
  },
  {
   "cell_type": "code",
   "execution_count": 30,
   "id": "861ebe32",
   "metadata": {},
   "outputs": [
    {
     "data": {
      "text/plain": [
       "<Axes: ylabel='count'>"
      ]
     },
     "execution_count": 30,
     "metadata": {},
     "output_type": "execute_result"
    },
    {
     "data": {
      "image/png": "[encoded data removed]",
      "text/plain": [
       "<Figure size 640x480 with 1 Axes>"
      ]
     },
     "metadata": {},
     "output_type": "display_data"
    }
   ],
   "source": [
    "df_test = test_dataset.to_pandas()\n",
    "df_test.labels_three_2p.value_counts().plot(kind = 'pie', autopct=\"%.2f\")"
   ]
  },
  {
   "cell_type": "code",
   "execution_count": 31,
   "id": "0f97a1ff",
   "metadata": {},
   "outputs": [
    {
     "data": {
      "text/plain": [
       "<Axes: ylabel='count'>"
      ]
     },
     "execution_count": 31,
     "metadata": {},
     "output_type": "execute_result"
    },
    {
     "data": {
      "image/png": "[encoded data removed]",
      "text/plain": [
       "<Figure size 640x480 with 1 Axes>"
      ]
     },
     "metadata": {},
     "output_type": "display_data"
    }
   ],
   "source": [
    "df_pretest = pretrain_test_dataset.to_pandas()\n",
    "df_pretest.label.value_counts().plot(kind = 'pie', autopct=\"%.2f\")"
   ]
  },
  {
   "cell_type": "markdown",
   "id": "50f979eb",
   "metadata": {},
   "source": [
    "## Map"
   ]
  },
  {
   "cell_type": "code",
   "execution_count": 32,
   "id": "3dbe3305",
   "metadata": {},
   "outputs": [
    {
     "name": "stdout",
     "output_type": "stream",
     "text": [
      "Dataset({\n",
      "    features: ['text', 'label'],\n",
      "    num_rows: 560\n",
      "})\n",
      "Dataset({\n",
      "    features: ['text', 'label'],\n",
      "    num_rows: 140\n",
      "})\n",
      "Dataset({\n",
      "    features: ['sequence', 'labels', 'labels_five', 'labels_three', 'labels_three_2p'],\n",
      "    num_rows: 1000\n",
      "})\n",
      "Dataset({\n",
      "    features: ['text', 'label'],\n",
      "    num_rows: 700\n",
      "})\n"
     ]
    }
   ],
   "source": [
    "print(train_dataset)\n",
    "print(validation_dataset)\n",
    "print(test_dataset)\n",
    "print(pretrain_test_dataset)"
   ]
  },
  {
   "cell_type": "code",
   "execution_count": 33,
   "id": "889877bb",
   "metadata": {},
   "outputs": [
    {
     "data": {
      "application/vnd.jupyter.widget-view+json": {
       "model_id": "dab58b3970cb45c085b9294e2d0d8252",
       "version_major": 2,
       "version_minor": 0
      },
      "text/plain": [
       "Map:   0%|          | 0/560 [00:00<?, ? examples/s]"
      ]
     },
     "metadata": {},
     "output_type": "display_data"
    },
    {
     "data": {
      "application/vnd.jupyter.widget-view+json": {
       "model_id": "195b0b055270477d8ae26189c92cfb23",
       "version_major": 2,
       "version_minor": 0
      },
      "text/plain": [
       "Map:   0%|          | 0/140 [00:00<?, ? examples/s]"
      ]
     },
     "metadata": {},
     "output_type": "display_data"
    },
    {
     "data": {
      "application/vnd.jupyter.widget-view+json": {
       "model_id": "1db714eaf9de4e69ad6de30a57b12c13",
       "version_major": 2,
       "version_minor": 0
      },
      "text/plain": [
       "Map:   0%|          | 0/1000 [00:00<?, ? examples/s]"
      ]
     },
     "metadata": {},
     "output_type": "display_data"
    }
   ],
   "source": [
    "train_dataset = train_dataset.map(lambda examples: {'labels': examples['label']}, batched=True)\n",
    "validation_dataset = validation_dataset.map(lambda examples: {'labels': examples['label']}, batched=True)\n",
    "test_dataset = test_dataset.map(lambda examples: {'labels': examples['labels_three_2p']}, batched=True)"
   ]
  },
  {
   "cell_type": "markdown",
   "id": "1cec0980",
   "metadata": {},
   "source": [
    "# Model "
   ]
  },
  {
   "cell_type": "code",
   "execution_count": 34,
   "id": "3edd6892",
   "metadata": {},
   "outputs": [
    {
     "name": "stderr",
     "output_type": "stream",
     "text": [
      "Some weights of the model checkpoint at cardiffnlp/twitter-roberta-base-sentiment-latest were not used when initializing RobertaForSequenceClassification: ['roberta.pooler.dense.bias', 'roberta.pooler.dense.weight']\n",
      "- This IS expected if you are initializing RobertaForSequenceClassification from the checkpoint of a model trained on another task or with another architecture (e.g. initializing a BertForSequenceClassification model from a BertForPreTraining model).\n",
      "- This IS NOT expected if you are initializing RobertaForSequenceClassification from the checkpoint of a model that you expect to be exactly identical (initializing a BertForSequenceClassification model from a BertForSequenceClassification model).\n"
     ]
    },
    {
     "data": {
      "text/plain": [
       "RobertaConfig {\n",
       "  \"_name_or_path\": \"cardiffnlp/twitter-roberta-base-sentiment-latest\",\n",
       "  \"architectures\": [\n",
       "    \"RobertaForSequenceClassification\"\n",
       "  ],\n",
       "  \"attention_probs_dropout_prob\": 0.1,\n",
       "  \"bos_token_id\": 0,\n",
       "  \"classifier_dropout\": null,\n",
       "  \"eos_token_id\": 2,\n",
       "  \"gradient_checkpointing\": false,\n",
       "  \"hidden_act\": \"gelu\",\n",
       "  \"hidden_dropout_prob\": 0.1,\n",
       "  \"hidden_size\": 768,\n",
       "  \"id2label\": {\n",
       "    \"0\": \"negative\",\n",
       "    \"1\": \"neutral\",\n",
       "    \"2\": \"positive\"\n",
       "  },\n",
       "  \"initializer_range\": 0.02,\n",
       "  \"intermediate_size\": 3072,\n",
       "  \"label2id\": {\n",
       "    \"negative\": 0,\n",
       "    \"neutral\": 1,\n",
       "    \"positive\": 2\n",
       "  },\n",
       "  \"layer_norm_eps\": 1e-05,\n",
       "  \"max_position_embeddings\": 514,\n",
       "  \"model_type\": \"roberta\",\n",
       "  \"num_attention_heads\": 12,\n",
       "  \"num_hidden_layers\": 12,\n",
       "  \"pad_token_id\": 1,\n",
       "  \"position_embedding_type\": \"absolute\",\n",
       "  \"torch_dtype\": \"float32\",\n",
       "  \"transformers_version\": \"4.34.0\",\n",
       "  \"type_vocab_size\": 1,\n",
       "  \"use_cache\": true,\n",
       "  \"vocab_size\": 50265\n",
       "}"
      ]
     },
     "execution_count": 34,
     "metadata": {},
     "output_type": "execute_result"
    }
   ],
   "source": [
    "model_id=\"cardiffnlp/twitter-roberta-base-sentiment-latest\"\n",
    "\n",
    "\n",
    "\n",
    "# label2id = {\"positive\": 2, \"neutral\": 1,\"negative\":0}\n",
    "\n",
    "# 2 = positive\n",
    "# 1 = neutral\n",
    "# 0 = negative\n",
    "\n",
    "model = AutoModelForSequenceClassification.from_pretrained(model_id, \n",
    "                                                           num_labels=train_dataset.features[\"label\"].num_classes,\n",
    "#                                                            id2label=label2id,\n",
    "                                                          ignore_mismatched_sizes=True)\n",
    "tokenizer = AutoTokenizer.from_pretrained(model_id)\n",
    "model.config"
   ]
  },
  {
   "cell_type": "code",
   "execution_count": 35,
   "id": "b906be19",
   "metadata": {},
   "outputs": [
    {
     "data": {
      "application/vnd.jupyter.widget-view+json": {
       "model_id": "b40ba8aeec4b46a3ba5a6777e0f9478a",
       "version_major": 2,
       "version_minor": 0
      },
      "text/plain": [
       "Map:   0%|          | 0/560 [00:00<?, ? examples/s]"
      ]
     },
     "metadata": {},
     "output_type": "display_data"
    },
    {
     "data": {
      "application/vnd.jupyter.widget-view+json": {
       "model_id": "e98caa916bd145c391ac04f21415c0d5",
       "version_major": 2,
       "version_minor": 0
      },
      "text/plain": [
       "Map:   0%|          | 0/140 [00:00<?, ? examples/s]"
      ]
     },
     "metadata": {},
     "output_type": "display_data"
    },
    {
     "data": {
      "application/vnd.jupyter.widget-view+json": {
       "model_id": "0a4c162292ee4d329625ad9ce4c2baca",
       "version_major": 2,
       "version_minor": 0
      },
      "text/plain": [
       "Map:   0%|          | 0/1000 [00:00<?, ? examples/s]"
      ]
     },
     "metadata": {},
     "output_type": "display_data"
    }
   ],
   "source": [
    "MAX_LENGTH = 256\n",
    "train_dataset = train_dataset.map(lambda e: tokenizer(e['text'], truncation=True, padding='max_length', max_length=MAX_LENGTH), batched=True)\n",
    "validation_dataset = validation_dataset.map(lambda e: tokenizer(e['text'], truncation=True, padding='max_length', max_length=MAX_LENGTH), batched=True)\n",
    "test_dataset = test_dataset.map(lambda e: tokenizer(e['sequence'], truncation=True, padding='max_length', max_length=MAX_LENGTH), batched=True)"
   ]
  },
  {
   "cell_type": "code",
   "execution_count": 36,
   "id": "6933de5f",
   "metadata": {},
   "outputs": [
    {
     "data": {
      "text/plain": [
       "{'text': Value(dtype='string', id=None),\n",
       " 'label': ClassLabel(names=['negative', 'neutral', 'positive'], id=None),\n",
       " 'labels': Value(dtype='int64', id=None),\n",
       " 'input_ids': Sequence(feature=Value(dtype='int32', id=None), length=-1, id=None),\n",
       " 'attention_mask': Sequence(feature=Value(dtype='int8', id=None), length=-1, id=None)}"
      ]
     },
     "execution_count": 36,
     "metadata": {},
     "output_type": "execute_result"
    }
   ],
   "source": [
    "train_dataset.features"
   ]
  },
  {
   "cell_type": "code",
   "execution_count": 37,
   "id": "b751df44",
   "metadata": {},
   "outputs": [],
   "source": [
    "# train_dataset.set_format(type='torch', columns=['input_ids','token_type_ids', 'attention_mask', 'labels'])\n",
    "# validation_dataset.set_format(type='torch', columns=['input_ids', 'token_type_ids', 'attention_mask', 'labels'])\n",
    "# test_dataset.set_format(type='torch', columns=['input_ids', 'token_type_ids', 'attention_mask', 'labels'])\n",
    "\n",
    "\n",
    "train_dataset.set_format(type='torch', columns=['input_ids', 'attention_mask', 'labels'])\n",
    "validation_dataset.set_format(type='torch', columns=['input_ids',  'attention_mask', 'labels'])\n",
    "test_dataset.set_format(type='torch', columns=['input_ids', 'attention_mask', 'labels'])"
   ]
  },
  {
   "cell_type": "code",
   "execution_count": 38,
   "id": "08cacb6e",
   "metadata": {},
   "outputs": [],
   "source": [
    "def compute_metrics(pred):\n",
    "    labels = pred.label_ids\n",
    "    preds = pred.predictions.argmax(-1)\n",
    "    precision, recall, f1, _ = precision_recall_fscore_support(labels, preds, average='macro')\n",
    "    acc = accuracy_score(labels, preds)\n",
    "    return {\n",
    "        'accuracy': acc,\n",
    "        'f1': f1,\n",
    "        'precision': precision,\n",
    "        'recall': recall\n",
    "    }"
   ]
  },
  {
   "cell_type": "markdown",
   "id": "c354adc8",
   "metadata": {
    "heading_collapsed": true
   },
   "source": [
    "# hyperparameter search"
   ]
  },
  {
   "cell_type": "code",
   "execution_count": 39,
   "id": "6ec42d47",
   "metadata": {
    "hidden": true
   },
   "outputs": [],
   "source": [
    "def model_init():\n",
    "    return AutoModelForSequenceClassification.from_pretrained(model_id, return_dict=True)"
   ]
  },
  {
   "cell_type": "code",
   "execution_count": 40,
   "id": "13c4e603",
   "metadata": {
    "hidden": true
   },
   "outputs": [
    {
     "name": "stderr",
     "output_type": "stream",
     "text": [
      "Some weights of the model checkpoint at cardiffnlp/twitter-roberta-base-sentiment-latest were not used when initializing RobertaForSequenceClassification: ['roberta.pooler.dense.weight', 'roberta.pooler.dense.bias']\n",
      "- This IS expected if you are initializing RobertaForSequenceClassification from the checkpoint of a model trained on another task or with another architecture (e.g. initializing a BertForSequenceClassification model from a BertForPreTraining model).\n",
      "- This IS NOT expected if you are initializing RobertaForSequenceClassification from the checkpoint of a model that you expect to be exactly identical (initializing a BertForSequenceClassification model from a BertForSequenceClassification model).\n"
     ]
    }
   ],
   "source": [
    "training_args = TrainingArguments(\"test\",  eval_steps=500, disable_tqdm=True, do_eval=True, evaluation_strategy='steps')\n",
    "trainer = Trainer(\n",
    "    args=training_args,\n",
    "    data_collator=DataCollatorWithPadding(tokenizer),\n",
    "    train_dataset=train_dataset, \n",
    "    eval_dataset=validation_dataset, \n",
    "    model_init=model_init,\n",
    "    compute_metrics=compute_metrics,\n",
    ")"
   ]
  },
  {
   "cell_type": "code",
   "execution_count": 41,
   "id": "54f9d267",
   "metadata": {
    "hidden": true
   },
   "outputs": [],
   "source": [
    "def my_hp_space(trial):\n",
    "    return {\n",
    "        \"learning_rate\": trial.suggest_float(\"learning_rate\", 1e-6, 1e-3, log=True),\n",
    "        \"num_train_epochs\": trial.suggest_int(\"num_train_epochs\", 1, 5),\n",
    "#         \"seed\": trial.suggest_int(\"seed\", 1, 40),\n",
    "        \"per_device_train_batch_size\": trial.suggest_categorical(\"per_device_train_batch_size\", [16, 24, 32, 36, 40, 48,56, 64,72]),\n",
    "    }"
   ]
  },
  {
   "cell_type": "code",
   "execution_count": 42,
   "id": "90d8f4d2",
   "metadata": {
    "hidden": true,
    "scrolled": false
   },
   "outputs": [
    {
     "name": "stderr",
     "output_type": "stream",
     "text": [
      "[I 2023-12-05 17:08:18,871] A new study created in memory with name: no-name-d99e8857-9441-4c77-a03b-c853215261ee\n",
      "Some weights of the model checkpoint at cardiffnlp/twitter-roberta-base-sentiment-latest were not used when initializing RobertaForSequenceClassification: ['roberta.pooler.dense.weight', 'roberta.pooler.dense.bias']\n",
      "- This IS expected if you are initializing RobertaForSequenceClassification from the checkpoint of a model trained on another task or with another architecture (e.g. initializing a BertForSequenceClassification model from a BertForPreTraining model).\n",
      "- This IS NOT expected if you are initializing RobertaForSequenceClassification from the checkpoint of a model that you expect to be exactly identical (initializing a BertForSequenceClassification model from a BertForSequenceClassification model).\n",
      "\u001b[34m\u001b[1mwandb\u001b[0m: Currently logged in as: \u001b[33mericat\u001b[0m. Use \u001b[1m`wandb login --relogin`\u001b[0m to force relogin\n"
     ]
    },
    {
     "data": {
      "text/html": [
       "Tracking run with wandb version 0.16.0"
      ],
      "text/plain": [
       "<IPython.core.display.HTML object>"
      ]
     },
     "metadata": {},
     "output_type": "display_data"
    },
    {
     "data": {
      "text/html": [
       "Run data is saved locally in <code>D:\\Projects\\Jupyter\\Sentiment analysis\\04DEC\\wandb\\run-20231205_170824-37m4phsj</code>"
      ],
      "text/plain": [
       "<IPython.core.display.HTML object>"
      ]
     },
     "metadata": {},
     "output_type": "display_data"
    },
    {
     "data": {
      "text/html": [
       "Syncing run <strong><a href='https://wandb.ai/ericat/huggingface/runs/37m4phsj' target=\"_blank\">young-energy-417</a></strong> to <a href='https://wandb.ai/ericat/huggingface' target=\"_blank\">Weights & Biases</a> (<a href='https://wandb.me/run' target=\"_blank\">docs</a>)<br/>"
      ],
      "text/plain": [
       "<IPython.core.display.HTML object>"
      ]
     },
     "metadata": {},
     "output_type": "display_data"
    },
    {
     "data": {
      "text/html": [
       " View project at <a href='https://wandb.ai/ericat/huggingface' target=\"_blank\">https://wandb.ai/ericat/huggingface</a>"
      ],
      "text/plain": [
       "<IPython.core.display.HTML object>"
      ]
     },
     "metadata": {},
     "output_type": "display_data"
    },
    {
     "data": {
      "text/html": [
       " View run at <a href='https://wandb.ai/ericat/huggingface/runs/37m4phsj' target=\"_blank\">https://wandb.ai/ericat/huggingface/runs/37m4phsj</a>"
      ],
      "text/plain": [
       "<IPython.core.display.HTML object>"
      ]
     },
     "metadata": {},
     "output_type": "display_data"
    },
    {
     "name": "stderr",
     "output_type": "stream",
     "text": [
      "You're using a RobertaTokenizerFast tokenizer. Please note that with a fast tokenizer, using the `__call__` method is faster than using a method to encode the text followed by a call to the `pad` method to get a padded encoding.\n"
     ]
    },
    {
     "name": "stdout",
     "output_type": "stream",
     "text": [
      "{'train_runtime': 341.9191, 'train_samples_per_second': 4.913, 'train_steps_per_second': 0.088, 'train_loss': 0.5545209248860677, 'epoch': 3.0}\n"
     ]
    },
    {
     "name": "stderr",
     "output_type": "stream",
     "text": [
      "[I 2023-12-05 17:14:10,414] Trial 0 finished with value: 2.8319967728455846 and parameters: {'learning_rate': 1.4213415347517023e-05, 'num_train_epochs': 3, 'per_device_train_batch_size': 56}. Best is trial 0 with value: 2.8319967728455846.\n"
     ]
    },
    {
     "name": "stdout",
     "output_type": "stream",
     "text": [
      "{'eval_loss': 0.5857775211334229, 'eval_accuracy': 0.7285714285714285, 'eval_f1': 0.6996727615922662, 'eval_precision': 0.7030427819720888, 'eval_recall': 0.7007098007098008, 'eval_runtime': 7.0663, 'eval_samples_per_second': 19.812, 'eval_steps_per_second': 2.547, 'epoch': 3.0}\n"
     ]
    },
    {
     "name": "stderr",
     "output_type": "stream",
     "text": [
      "Some weights of the model checkpoint at cardiffnlp/twitter-roberta-base-sentiment-latest were not used when initializing RobertaForSequenceClassification: ['roberta.pooler.dense.weight', 'roberta.pooler.dense.bias']\n",
      "- This IS expected if you are initializing RobertaForSequenceClassification from the checkpoint of a model trained on another task or with another architecture (e.g. initializing a BertForSequenceClassification model from a BertForPreTraining model).\n",
      "- This IS NOT expected if you are initializing RobertaForSequenceClassification from the checkpoint of a model that you expect to be exactly identical (initializing a BertForSequenceClassification model from a BertForSequenceClassification model).\n"
     ]
    },
    {
     "data": {
      "application/vnd.jupyter.widget-view+json": {
       "model_id": "",
       "version_major": 2,
       "version_minor": 0
      },
      "text/plain": [
       "VBox(children=(Label(value='0.001 MB of 0.001 MB uploaded\\r'), FloatProgress(value=1.0, max=1.0)))"
      ]
     },
     "metadata": {},
     "output_type": "display_data"
    },
    {
     "data": {
      "text/html": [
       "<style>\n",
       "    table.wandb td:nth-child(1) { padding: 0 10px; text-align: left ; width: auto;} td:nth-child(2) {text-align: left ; width: 100%}\n",
       "    .wandb-row { display: flex; flex-direction: row; flex-wrap: wrap; justify-content: flex-start; width: 100% }\n",
       "    .wandb-col { display: flex; flex-direction: column; flex-basis: 100%; flex: 1; padding: 10px; }\n",
       "    </style>\n",
       "<div class=\"wandb-row\"><div class=\"wandb-col\"><h3>Run history:</h3><br/><table class=\"wandb\"><tr><td>eval/accuracy</td><td>▁</td></tr><tr><td>eval/f1</td><td>▁</td></tr><tr><td>eval/loss</td><td>▁</td></tr><tr><td>eval/precision</td><td>▁</td></tr><tr><td>eval/recall</td><td>▁</td></tr><tr><td>eval/runtime</td><td>▁</td></tr><tr><td>eval/samples_per_second</td><td>▁</td></tr><tr><td>eval/steps_per_second</td><td>▁</td></tr><tr><td>train/epoch</td><td>▁▁</td></tr><tr><td>train/global_step</td><td>▁▁</td></tr><tr><td>train/total_flos</td><td>▁</td></tr><tr><td>train/train_loss</td><td>▁</td></tr><tr><td>train/train_runtime</td><td>▁</td></tr><tr><td>train/train_samples_per_second</td><td>▁</td></tr><tr><td>train/train_steps_per_second</td><td>▁</td></tr></table><br/></div><div class=\"wandb-col\"><h3>Run summary:</h3><br/><table class=\"wandb\"><tr><td>eval/accuracy</td><td>0.72857</td></tr><tr><td>eval/f1</td><td>0.69967</td></tr><tr><td>eval/loss</td><td>0.58578</td></tr><tr><td>eval/precision</td><td>0.70304</td></tr><tr><td>eval/recall</td><td>0.70071</td></tr><tr><td>eval/runtime</td><td>7.0663</td></tr><tr><td>eval/samples_per_second</td><td>19.812</td></tr><tr><td>eval/steps_per_second</td><td>2.547</td></tr><tr><td>train/epoch</td><td>3.0</td></tr><tr><td>train/global_step</td><td>30</td></tr><tr><td>train/total_flos</td><td>221015270891520.0</td></tr><tr><td>train/train_loss</td><td>0.55452</td></tr><tr><td>train/train_runtime</td><td>341.9191</td></tr><tr><td>train/train_samples_per_second</td><td>4.913</td></tr><tr><td>train/train_steps_per_second</td><td>0.088</td></tr></table><br/></div></div>"
      ],
      "text/plain": [
       "<IPython.core.display.HTML object>"
      ]
     },
     "metadata": {},
     "output_type": "display_data"
    },
    {
     "data": {
      "text/html": [
       " View run <strong style=\"color:#cdcd00\">young-energy-417</strong> at: <a href='https://wandb.ai/ericat/huggingface/runs/37m4phsj' target=\"_blank\">https://wandb.ai/ericat/huggingface/runs/37m4phsj</a><br/>Synced 5 W&B file(s), 0 media file(s), 0 artifact file(s) and 0 other file(s)"
      ],
      "text/plain": [
       "<IPython.core.display.HTML object>"
      ]
     },
     "metadata": {},
     "output_type": "display_data"
    },
    {
     "data": {
      "text/html": [
       "Find logs at: <code>.\\wandb\\run-20231205_170824-37m4phsj\\logs</code>"
      ],
      "text/plain": [
       "<IPython.core.display.HTML object>"
      ]
     },
     "metadata": {},
     "output_type": "display_data"
    },
    {
     "data": {
      "application/vnd.jupyter.widget-view+json": {
       "model_id": "6bd836a11f9f4e4098d6f729d69b6d37",
       "version_major": 2,
       "version_minor": 0
      },
      "text/plain": [
       "VBox(children=(Label(value='Waiting for wandb.init()...\\r'), FloatProgress(value=0.011288888888884685, max=1.0…"
      ]
     },
     "metadata": {},
     "output_type": "display_data"
    },
    {
     "data": {
      "text/html": [
       "Tracking run with wandb version 0.16.0"
      ],
      "text/plain": [
       "<IPython.core.display.HTML object>"
      ]
     },
     "metadata": {},
     "output_type": "display_data"
    },
    {
     "data": {
      "text/html": [
       "Run data is saved locally in <code>D:\\Projects\\Jupyter\\Sentiment analysis\\04DEC\\wandb\\run-20231205_171420-99hrs4k4</code>"
      ],
      "text/plain": [
       "<IPython.core.display.HTML object>"
      ]
     },
     "metadata": {},
     "output_type": "display_data"
    },
    {
     "data": {
      "text/html": [
       "Syncing run <strong><a href='https://wandb.ai/ericat/huggingface/runs/99hrs4k4' target=\"_blank\">crisp-pyramid-418</a></strong> to <a href='https://wandb.ai/ericat/huggingface' target=\"_blank\">Weights & Biases</a> (<a href='https://wandb.me/run' target=\"_blank\">docs</a>)<br/>"
      ],
      "text/plain": [
       "<IPython.core.display.HTML object>"
      ]
     },
     "metadata": {},
     "output_type": "display_data"
    },
    {
     "data": {
      "text/html": [
       " View project at <a href='https://wandb.ai/ericat/huggingface' target=\"_blank\">https://wandb.ai/ericat/huggingface</a>"
      ],
      "text/plain": [
       "<IPython.core.display.HTML object>"
      ]
     },
     "metadata": {},
     "output_type": "display_data"
    },
    {
     "data": {
      "text/html": [
       " View run at <a href='https://wandb.ai/ericat/huggingface/runs/99hrs4k4' target=\"_blank\">https://wandb.ai/ericat/huggingface/runs/99hrs4k4</a>"
      ],
      "text/plain": [
       "<IPython.core.display.HTML object>"
      ]
     },
     "metadata": {},
     "output_type": "display_data"
    },
    {
     "name": "stdout",
     "output_type": "stream",
     "text": [
      "{'train_runtime': 143.4561, 'train_samples_per_second': 3.904, 'train_steps_per_second': 0.063, 'train_loss': 1.2345969941880968, 'epoch': 1.0}\n"
     ]
    },
    {
     "name": "stderr",
     "output_type": "stream",
     "text": [
      "D:\\Software\\Anaconda3\\envs\\validation\\Lib\\site-packages\\sklearn\\metrics\\_classification.py:1469: UndefinedMetricWarning: Precision and F-score are ill-defined and being set to 0.0 in labels with no predicted samples. Use `zero_division` parameter to control this behavior.\n",
      "  _warn_prf(average, modifier, msg_start, len(result))\n",
      "[I 2023-12-05 17:16:44,050] Trial 1 finished with value: 0.9606889564336374 and parameters: {'learning_rate': 0.0005449972873643016, 'num_train_epochs': 1, 'per_device_train_batch_size': 64}. Best is trial 0 with value: 2.8319967728455846.\n"
     ]
    },
    {
     "name": "stdout",
     "output_type": "stream",
     "text": [
      "{'eval_loss': 1.0910000801086426, 'eval_accuracy': 0.34285714285714286, 'eval_f1': 0.1702127659574468, 'eval_precision': 0.11428571428571428, 'eval_recall': 0.3333333333333333, 'eval_runtime': 7.7388, 'eval_samples_per_second': 18.091, 'eval_steps_per_second': 2.326, 'epoch': 1.0}\n"
     ]
    },
    {
     "name": "stderr",
     "output_type": "stream",
     "text": [
      "Some weights of the model checkpoint at cardiffnlp/twitter-roberta-base-sentiment-latest were not used when initializing RobertaForSequenceClassification: ['roberta.pooler.dense.weight', 'roberta.pooler.dense.bias']\n",
      "- This IS expected if you are initializing RobertaForSequenceClassification from the checkpoint of a model trained on another task or with another architecture (e.g. initializing a BertForSequenceClassification model from a BertForPreTraining model).\n",
      "- This IS NOT expected if you are initializing RobertaForSequenceClassification from the checkpoint of a model that you expect to be exactly identical (initializing a BertForSequenceClassification model from a BertForSequenceClassification model).\n"
     ]
    },
    {
     "data": {
      "application/vnd.jupyter.widget-view+json": {
       "model_id": "",
       "version_major": 2,
       "version_minor": 0
      },
      "text/plain": [
       "VBox(children=(Label(value='0.001 MB of 0.001 MB uploaded\\r'), FloatProgress(value=1.0, max=1.0)))"
      ]
     },
     "metadata": {},
     "output_type": "display_data"
    },
    {
     "data": {
      "text/html": [
       "<style>\n",
       "    table.wandb td:nth-child(1) { padding: 0 10px; text-align: left ; width: auto;} td:nth-child(2) {text-align: left ; width: 100%}\n",
       "    .wandb-row { display: flex; flex-direction: row; flex-wrap: wrap; justify-content: flex-start; width: 100% }\n",
       "    .wandb-col { display: flex; flex-direction: column; flex-basis: 100%; flex: 1; padding: 10px; }\n",
       "    </style>\n",
       "<div class=\"wandb-row\"><div class=\"wandb-col\"><h3>Run history:</h3><br/><table class=\"wandb\"><tr><td>eval/accuracy</td><td>▁</td></tr><tr><td>eval/f1</td><td>▁</td></tr><tr><td>eval/loss</td><td>▁</td></tr><tr><td>eval/precision</td><td>▁</td></tr><tr><td>eval/recall</td><td>▁</td></tr><tr><td>eval/runtime</td><td>▁</td></tr><tr><td>eval/samples_per_second</td><td>▁</td></tr><tr><td>eval/steps_per_second</td><td>▁</td></tr><tr><td>train/epoch</td><td>▁▁</td></tr><tr><td>train/global_step</td><td>▁▁</td></tr><tr><td>train/total_flos</td><td>▁</td></tr><tr><td>train/train_loss</td><td>▁</td></tr><tr><td>train/train_runtime</td><td>▁</td></tr><tr><td>train/train_samples_per_second</td><td>▁</td></tr><tr><td>train/train_steps_per_second</td><td>▁</td></tr></table><br/></div><div class=\"wandb-col\"><h3>Run summary:</h3><br/><table class=\"wandb\"><tr><td>eval/accuracy</td><td>0.34286</td></tr><tr><td>eval/f1</td><td>0.17021</td></tr><tr><td>eval/loss</td><td>1.091</td></tr><tr><td>eval/precision</td><td>0.11429</td></tr><tr><td>eval/recall</td><td>0.33333</td></tr><tr><td>eval/runtime</td><td>7.7388</td></tr><tr><td>eval/samples_per_second</td><td>18.091</td></tr><tr><td>eval/steps_per_second</td><td>2.326</td></tr><tr><td>train/epoch</td><td>1.0</td></tr><tr><td>train/global_step</td><td>9</td></tr><tr><td>train/total_flos</td><td>73671756963840.0</td></tr><tr><td>train/train_loss</td><td>1.2346</td></tr><tr><td>train/train_runtime</td><td>143.4561</td></tr><tr><td>train/train_samples_per_second</td><td>3.904</td></tr><tr><td>train/train_steps_per_second</td><td>0.063</td></tr></table><br/></div></div>"
      ],
      "text/plain": [
       "<IPython.core.display.HTML object>"
      ]
     },
     "metadata": {},
     "output_type": "display_data"
    },
    {
     "data": {
      "text/html": [
       " View run <strong style=\"color:#cdcd00\">crisp-pyramid-418</strong> at: <a href='https://wandb.ai/ericat/huggingface/runs/99hrs4k4' target=\"_blank\">https://wandb.ai/ericat/huggingface/runs/99hrs4k4</a><br/>Synced 5 W&B file(s), 0 media file(s), 0 artifact file(s) and 0 other file(s)"
      ],
      "text/plain": [
       "<IPython.core.display.HTML object>"
      ]
     },
     "metadata": {},
     "output_type": "display_data"
    },
    {
     "data": {
      "text/html": [
       "Find logs at: <code>.\\wandb\\run-20231205_171420-99hrs4k4\\logs</code>"
      ],
      "text/plain": [
       "<IPython.core.display.HTML object>"
      ]
     },
     "metadata": {},
     "output_type": "display_data"
    },
    {
     "data": {
      "application/vnd.jupyter.widget-view+json": {
       "model_id": "08847ed1492e4e02ac68a252a3209f6f",
       "version_major": 2,
       "version_minor": 0
      },
      "text/plain": [
       "VBox(children=(Label(value='Waiting for wandb.init()...\\r'), FloatProgress(value=0.01128888888889479, max=1.0)…"
      ]
     },
     "metadata": {},
     "output_type": "display_data"
    },
    {
     "data": {
      "text/html": [
       "Tracking run with wandb version 0.16.0"
      ],
      "text/plain": [
       "<IPython.core.display.HTML object>"
      ]
     },
     "metadata": {},
     "output_type": "display_data"
    },
    {
     "data": {
      "text/html": [
       "Run data is saved locally in <code>D:\\Projects\\Jupyter\\Sentiment analysis\\04DEC\\wandb\\run-20231205_171651-krm7e0xu</code>"
      ],
      "text/plain": [
       "<IPython.core.display.HTML object>"
      ]
     },
     "metadata": {},
     "output_type": "display_data"
    },
    {
     "data": {
      "text/html": [
       "Syncing run <strong><a href='https://wandb.ai/ericat/huggingface/runs/krm7e0xu' target=\"_blank\">hardy-cloud-419</a></strong> to <a href='https://wandb.ai/ericat/huggingface' target=\"_blank\">Weights & Biases</a> (<a href='https://wandb.me/run' target=\"_blank\">docs</a>)<br/>"
      ],
      "text/plain": [
       "<IPython.core.display.HTML object>"
      ]
     },
     "metadata": {},
     "output_type": "display_data"
    },
    {
     "data": {
      "text/html": [
       " View project at <a href='https://wandb.ai/ericat/huggingface' target=\"_blank\">https://wandb.ai/ericat/huggingface</a>"
      ],
      "text/plain": [
       "<IPython.core.display.HTML object>"
      ]
     },
     "metadata": {},
     "output_type": "display_data"
    },
    {
     "data": {
      "text/html": [
       " View run at <a href='https://wandb.ai/ericat/huggingface/runs/krm7e0xu' target=\"_blank\">https://wandb.ai/ericat/huggingface/runs/krm7e0xu</a>"
      ],
      "text/plain": [
       "<IPython.core.display.HTML object>"
      ]
     },
     "metadata": {},
     "output_type": "display_data"
    },
    {
     "name": "stdout",
     "output_type": "stream",
     "text": [
      "{'train_runtime': 139.3781, 'train_samples_per_second': 12.054, 'train_steps_per_second': 0.301, 'train_loss': 1.136267071678525, 'epoch': 3.0}\n"
     ]
    },
    {
     "name": "stderr",
     "output_type": "stream",
     "text": [
      "D:\\Software\\Anaconda3\\envs\\validation\\Lib\\site-packages\\sklearn\\metrics\\_classification.py:1469: UndefinedMetricWarning: Precision and F-score are ill-defined and being set to 0.0 in labels with no predicted samples. Use `zero_division` parameter to control this behavior.\n",
      "  _warn_prf(average, modifier, msg_start, len(result))\n",
      "[I 2023-12-05 17:19:06,209] Trial 2 finished with value: 1.045177045177045 and parameters: {'learning_rate': 0.00035241643844587757, 'num_train_epochs': 3, 'per_device_train_batch_size': 40}. Best is trial 0 with value: 2.8319967728455846.\n"
     ]
    },
    {
     "name": "stdout",
     "output_type": "stream",
     "text": [
      "{'eval_loss': 1.0882561206817627, 'eval_accuracy': 0.39285714285714285, 'eval_f1': 0.18803418803418803, 'eval_precision': 0.13095238095238096, 'eval_recall': 0.3333333333333333, 'eval_runtime': 0.8118, 'eval_samples_per_second': 172.457, 'eval_steps_per_second': 22.173, 'epoch': 3.0}\n"
     ]
    },
    {
     "name": "stderr",
     "output_type": "stream",
     "text": [
      "Some weights of the model checkpoint at cardiffnlp/twitter-roberta-base-sentiment-latest were not used when initializing RobertaForSequenceClassification: ['roberta.pooler.dense.weight', 'roberta.pooler.dense.bias']\n",
      "- This IS expected if you are initializing RobertaForSequenceClassification from the checkpoint of a model trained on another task or with another architecture (e.g. initializing a BertForSequenceClassification model from a BertForPreTraining model).\n",
      "- This IS NOT expected if you are initializing RobertaForSequenceClassification from the checkpoint of a model that you expect to be exactly identical (initializing a BertForSequenceClassification model from a BertForSequenceClassification model).\n"
     ]
    },
    {
     "data": {
      "application/vnd.jupyter.widget-view+json": {
       "model_id": "",
       "version_major": 2,
       "version_minor": 0
      },
      "text/plain": [
       "VBox(children=(Label(value='0.001 MB of 0.001 MB uploaded\\r'), FloatProgress(value=1.0, max=1.0)))"
      ]
     },
     "metadata": {},
     "output_type": "display_data"
    },
    {
     "data": {
      "text/html": [
       "<style>\n",
       "    table.wandb td:nth-child(1) { padding: 0 10px; text-align: left ; width: auto;} td:nth-child(2) {text-align: left ; width: 100%}\n",
       "    .wandb-row { display: flex; flex-direction: row; flex-wrap: wrap; justify-content: flex-start; width: 100% }\n",
       "    .wandb-col { display: flex; flex-direction: column; flex-basis: 100%; flex: 1; padding: 10px; }\n",
       "    </style>\n",
       "<div class=\"wandb-row\"><div class=\"wandb-col\"><h3>Run history:</h3><br/><table class=\"wandb\"><tr><td>eval/accuracy</td><td>▁</td></tr><tr><td>eval/f1</td><td>▁</td></tr><tr><td>eval/loss</td><td>▁</td></tr><tr><td>eval/precision</td><td>▁</td></tr><tr><td>eval/recall</td><td>▁</td></tr><tr><td>eval/runtime</td><td>▁</td></tr><tr><td>eval/samples_per_second</td><td>▁</td></tr><tr><td>eval/steps_per_second</td><td>▁</td></tr><tr><td>train/epoch</td><td>▁▁</td></tr><tr><td>train/global_step</td><td>▁▁</td></tr><tr><td>train/total_flos</td><td>▁</td></tr><tr><td>train/train_loss</td><td>▁</td></tr><tr><td>train/train_runtime</td><td>▁</td></tr><tr><td>train/train_samples_per_second</td><td>▁</td></tr><tr><td>train/train_steps_per_second</td><td>▁</td></tr></table><br/></div><div class=\"wandb-col\"><h3>Run summary:</h3><br/><table class=\"wandb\"><tr><td>eval/accuracy</td><td>0.39286</td></tr><tr><td>eval/f1</td><td>0.18803</td></tr><tr><td>eval/loss</td><td>1.08826</td></tr><tr><td>eval/precision</td><td>0.13095</td></tr><tr><td>eval/recall</td><td>0.33333</td></tr><tr><td>eval/runtime</td><td>0.8118</td></tr><tr><td>eval/samples_per_second</td><td>172.457</td></tr><tr><td>eval/steps_per_second</td><td>22.173</td></tr><tr><td>train/epoch</td><td>3.0</td></tr><tr><td>train/global_step</td><td>42</td></tr><tr><td>train/total_flos</td><td>221015270891520.0</td></tr><tr><td>train/train_loss</td><td>1.13627</td></tr><tr><td>train/train_runtime</td><td>139.3781</td></tr><tr><td>train/train_samples_per_second</td><td>12.054</td></tr><tr><td>train/train_steps_per_second</td><td>0.301</td></tr></table><br/></div></div>"
      ],
      "text/plain": [
       "<IPython.core.display.HTML object>"
      ]
     },
     "metadata": {},
     "output_type": "display_data"
    },
    {
     "data": {
      "text/html": [
       " View run <strong style=\"color:#cdcd00\">hardy-cloud-419</strong> at: <a href='https://wandb.ai/ericat/huggingface/runs/krm7e0xu' target=\"_blank\">https://wandb.ai/ericat/huggingface/runs/krm7e0xu</a><br/>Synced 5 W&B file(s), 0 media file(s), 0 artifact file(s) and 0 other file(s)"
      ],
      "text/plain": [
       "<IPython.core.display.HTML object>"
      ]
     },
     "metadata": {},
     "output_type": "display_data"
    },
    {
     "data": {
      "text/html": [
       "Find logs at: <code>.\\wandb\\run-20231205_171651-krm7e0xu\\logs</code>"
      ],
      "text/plain": [
       "<IPython.core.display.HTML object>"
      ]
     },
     "metadata": {},
     "output_type": "display_data"
    },
    {
     "data": {
      "application/vnd.jupyter.widget-view+json": {
       "model_id": "9befb45b0e6345b8bd4cef4cfa6ea659",
       "version_major": 2,
       "version_minor": 0
      },
      "text/plain": [
       "VBox(children=(Label(value='Waiting for wandb.init()...\\r'), FloatProgress(value=0.01128888888889479, max=1.0)…"
      ]
     },
     "metadata": {},
     "output_type": "display_data"
    },
    {
     "data": {
      "text/html": [
       "Tracking run with wandb version 0.16.0"
      ],
      "text/plain": [
       "<IPython.core.display.HTML object>"
      ]
     },
     "metadata": {},
     "output_type": "display_data"
    },
    {
     "data": {
      "text/html": [
       "Run data is saved locally in <code>D:\\Projects\\Jupyter\\Sentiment analysis\\04DEC\\wandb\\run-20231205_171914-3paj800h</code>"
      ],
      "text/plain": [
       "<IPython.core.display.HTML object>"
      ]
     },
     "metadata": {},
     "output_type": "display_data"
    },
    {
     "data": {
      "text/html": [
       "Syncing run <strong><a href='https://wandb.ai/ericat/huggingface/runs/3paj800h' target=\"_blank\">stilted-sea-420</a></strong> to <a href='https://wandb.ai/ericat/huggingface' target=\"_blank\">Weights & Biases</a> (<a href='https://wandb.me/run' target=\"_blank\">docs</a>)<br/>"
      ],
      "text/plain": [
       "<IPython.core.display.HTML object>"
      ]
     },
     "metadata": {},
     "output_type": "display_data"
    },
    {
     "data": {
      "text/html": [
       " View project at <a href='https://wandb.ai/ericat/huggingface' target=\"_blank\">https://wandb.ai/ericat/huggingface</a>"
      ],
      "text/plain": [
       "<IPython.core.display.HTML object>"
      ]
     },
     "metadata": {},
     "output_type": "display_data"
    },
    {
     "data": {
      "text/html": [
       " View run at <a href='https://wandb.ai/ericat/huggingface/runs/3paj800h' target=\"_blank\">https://wandb.ai/ericat/huggingface/runs/3paj800h</a>"
      ],
      "text/plain": [
       "<IPython.core.display.HTML object>"
      ]
     },
     "metadata": {},
     "output_type": "display_data"
    },
    {
     "name": "stdout",
     "output_type": "stream",
     "text": [
      "{'train_runtime': 342.6856, 'train_samples_per_second': 6.537, 'train_steps_per_second': 0.14, 'train_loss': 0.4547070264816284, 'epoch': 4.0}\n"
     ]
    },
    {
     "name": "stderr",
     "output_type": "stream",
     "text": [
      "[I 2023-12-05 17:24:51,313] Trial 3 finished with value: 2.9389308481413745 and parameters: {'learning_rate': 2.551134805637251e-05, 'num_train_epochs': 4, 'per_device_train_batch_size': 48}. Best is trial 3 with value: 2.9389308481413745.\n"
     ]
    },
    {
     "name": "stdout",
     "output_type": "stream",
     "text": [
      "{'eval_loss': 0.6874452233314514, 'eval_accuracy': 0.75, 'eval_f1': 0.7294973544973544, 'eval_precision': 0.7299289891395153, 'eval_recall': 0.7295045045045047, 'eval_runtime': 0.8099, 'eval_samples_per_second': 172.871, 'eval_steps_per_second': 22.226, 'epoch': 4.0}\n"
     ]
    },
    {
     "name": "stderr",
     "output_type": "stream",
     "text": [
      "Some weights of the model checkpoint at cardiffnlp/twitter-roberta-base-sentiment-latest were not used when initializing RobertaForSequenceClassification: ['roberta.pooler.dense.weight', 'roberta.pooler.dense.bias']\n",
      "- This IS expected if you are initializing RobertaForSequenceClassification from the checkpoint of a model trained on another task or with another architecture (e.g. initializing a BertForSequenceClassification model from a BertForPreTraining model).\n",
      "- This IS NOT expected if you are initializing RobertaForSequenceClassification from the checkpoint of a model that you expect to be exactly identical (initializing a BertForSequenceClassification model from a BertForSequenceClassification model).\n"
     ]
    },
    {
     "data": {
      "application/vnd.jupyter.widget-view+json": {
       "model_id": "",
       "version_major": 2,
       "version_minor": 0
      },
      "text/plain": [
       "VBox(children=(Label(value='0.001 MB of 0.001 MB uploaded\\r'), FloatProgress(value=1.0, max=1.0)))"
      ]
     },
     "metadata": {},
     "output_type": "display_data"
    },
    {
     "data": {
      "text/html": [
       "<style>\n",
       "    table.wandb td:nth-child(1) { padding: 0 10px; text-align: left ; width: auto;} td:nth-child(2) {text-align: left ; width: 100%}\n",
       "    .wandb-row { display: flex; flex-direction: row; flex-wrap: wrap; justify-content: flex-start; width: 100% }\n",
       "    .wandb-col { display: flex; flex-direction: column; flex-basis: 100%; flex: 1; padding: 10px; }\n",
       "    </style>\n",
       "<div class=\"wandb-row\"><div class=\"wandb-col\"><h3>Run history:</h3><br/><table class=\"wandb\"><tr><td>eval/accuracy</td><td>▁</td></tr><tr><td>eval/f1</td><td>▁</td></tr><tr><td>eval/loss</td><td>▁</td></tr><tr><td>eval/precision</td><td>▁</td></tr><tr><td>eval/recall</td><td>▁</td></tr><tr><td>eval/runtime</td><td>▁</td></tr><tr><td>eval/samples_per_second</td><td>▁</td></tr><tr><td>eval/steps_per_second</td><td>▁</td></tr><tr><td>train/epoch</td><td>▁▁</td></tr><tr><td>train/global_step</td><td>▁▁</td></tr><tr><td>train/total_flos</td><td>▁</td></tr><tr><td>train/train_loss</td><td>▁</td></tr><tr><td>train/train_runtime</td><td>▁</td></tr><tr><td>train/train_samples_per_second</td><td>▁</td></tr><tr><td>train/train_steps_per_second</td><td>▁</td></tr></table><br/></div><div class=\"wandb-col\"><h3>Run summary:</h3><br/><table class=\"wandb\"><tr><td>eval/accuracy</td><td>0.75</td></tr><tr><td>eval/f1</td><td>0.7295</td></tr><tr><td>eval/loss</td><td>0.68745</td></tr><tr><td>eval/precision</td><td>0.72993</td></tr><tr><td>eval/recall</td><td>0.7295</td></tr><tr><td>eval/runtime</td><td>0.8099</td></tr><tr><td>eval/samples_per_second</td><td>172.871</td></tr><tr><td>eval/steps_per_second</td><td>22.226</td></tr><tr><td>train/epoch</td><td>4.0</td></tr><tr><td>train/global_step</td><td>48</td></tr><tr><td>train/total_flos</td><td>294687027855360.0</td></tr><tr><td>train/train_loss</td><td>0.45471</td></tr><tr><td>train/train_runtime</td><td>342.6856</td></tr><tr><td>train/train_samples_per_second</td><td>6.537</td></tr><tr><td>train/train_steps_per_second</td><td>0.14</td></tr></table><br/></div></div>"
      ],
      "text/plain": [
       "<IPython.core.display.HTML object>"
      ]
     },
     "metadata": {},
     "output_type": "display_data"
    },
    {
     "data": {
      "text/html": [
       " View run <strong style=\"color:#cdcd00\">stilted-sea-420</strong> at: <a href='https://wandb.ai/ericat/huggingface/runs/3paj800h' target=\"_blank\">https://wandb.ai/ericat/huggingface/runs/3paj800h</a><br/>Synced 5 W&B file(s), 0 media file(s), 0 artifact file(s) and 0 other file(s)"
      ],
      "text/plain": [
       "<IPython.core.display.HTML object>"
      ]
     },
     "metadata": {},
     "output_type": "display_data"
    },
    {
     "data": {
      "text/html": [
       "Find logs at: <code>.\\wandb\\run-20231205_171914-3paj800h\\logs</code>"
      ],
      "text/plain": [
       "<IPython.core.display.HTML object>"
      ]
     },
     "metadata": {},
     "output_type": "display_data"
    },
    {
     "data": {
      "application/vnd.jupyter.widget-view+json": {
       "model_id": "527013451a104fa8a757834703e97379",
       "version_major": 2,
       "version_minor": 0
      },
      "text/plain": [
       "VBox(children=(Label(value='Waiting for wandb.init()...\\r'), FloatProgress(value=0.011111111111111112, max=1.0…"
      ]
     },
     "metadata": {},
     "output_type": "display_data"
    },
    {
     "data": {
      "text/html": [
       "Tracking run with wandb version 0.16.0"
      ],
      "text/plain": [
       "<IPython.core.display.HTML object>"
      ]
     },
     "metadata": {},
     "output_type": "display_data"
    },
    {
     "data": {
      "text/html": [
       "Run data is saved locally in <code>D:\\Projects\\Jupyter\\Sentiment analysis\\04DEC\\wandb\\run-20231205_172459-rgx3p14l</code>"
      ],
      "text/plain": [
       "<IPython.core.display.HTML object>"
      ]
     },
     "metadata": {},
     "output_type": "display_data"
    },
    {
     "data": {
      "text/html": [
       "Syncing run <strong><a href='https://wandb.ai/ericat/huggingface/runs/rgx3p14l' target=\"_blank\">stilted-leaf-421</a></strong> to <a href='https://wandb.ai/ericat/huggingface' target=\"_blank\">Weights & Biases</a> (<a href='https://wandb.me/run' target=\"_blank\">docs</a>)<br/>"
      ],
      "text/plain": [
       "<IPython.core.display.HTML object>"
      ]
     },
     "metadata": {},
     "output_type": "display_data"
    },
    {
     "data": {
      "text/html": [
       " View project at <a href='https://wandb.ai/ericat/huggingface' target=\"_blank\">https://wandb.ai/ericat/huggingface</a>"
      ],
      "text/plain": [
       "<IPython.core.display.HTML object>"
      ]
     },
     "metadata": {},
     "output_type": "display_data"
    },
    {
     "data": {
      "text/html": [
       " View run at <a href='https://wandb.ai/ericat/huggingface/runs/rgx3p14l' target=\"_blank\">https://wandb.ai/ericat/huggingface/runs/rgx3p14l</a>"
      ],
      "text/plain": [
       "<IPython.core.display.HTML object>"
      ]
     },
     "metadata": {},
     "output_type": "display_data"
    },
    {
     "name": "stdout",
     "output_type": "stream",
     "text": [
      "{'train_runtime': 54.4083, 'train_samples_per_second': 51.463, 'train_steps_per_second': 2.206, 'train_loss': 0.40368213653564455, 'epoch': 5.0}\n"
     ]
    },
    {
     "name": "stderr",
     "output_type": "stream",
     "text": [
      "[I 2023-12-05 17:25:48,822] Trial 4 finished with value: 2.9384487716679497 and parameters: {'learning_rate': 1.2341729264593482e-05, 'num_train_epochs': 5, 'per_device_train_batch_size': 24}. Best is trial 3 with value: 2.9389308481413745.\n"
     ]
    },
    {
     "name": "stdout",
     "output_type": "stream",
     "text": [
      "{'eval_loss': 0.6509072184562683, 'eval_accuracy': 0.75, 'eval_f1': 0.7294469126660906, 'eval_precision': 0.7294973544973544, 'eval_recall': 0.7295045045045047, 'eval_runtime': 0.8218, 'eval_samples_per_second': 170.358, 'eval_steps_per_second': 21.903, 'epoch': 5.0}\n"
     ]
    },
    {
     "name": "stderr",
     "output_type": "stream",
     "text": [
      "Some weights of the model checkpoint at cardiffnlp/twitter-roberta-base-sentiment-latest were not used when initializing RobertaForSequenceClassification: ['roberta.pooler.dense.weight', 'roberta.pooler.dense.bias']\n",
      "- This IS expected if you are initializing RobertaForSequenceClassification from the checkpoint of a model trained on another task or with another architecture (e.g. initializing a BertForSequenceClassification model from a BertForPreTraining model).\n",
      "- This IS NOT expected if you are initializing RobertaForSequenceClassification from the checkpoint of a model that you expect to be exactly identical (initializing a BertForSequenceClassification model from a BertForSequenceClassification model).\n"
     ]
    },
    {
     "data": {
      "application/vnd.jupyter.widget-view+json": {
       "model_id": "",
       "version_major": 2,
       "version_minor": 0
      },
      "text/plain": [
       "VBox(children=(Label(value='0.001 MB of 0.001 MB uploaded\\r'), FloatProgress(value=1.0, max=1.0)))"
      ]
     },
     "metadata": {},
     "output_type": "display_data"
    },
    {
     "data": {
      "text/html": [
       "<style>\n",
       "    table.wandb td:nth-child(1) { padding: 0 10px; text-align: left ; width: auto;} td:nth-child(2) {text-align: left ; width: 100%}\n",
       "    .wandb-row { display: flex; flex-direction: row; flex-wrap: wrap; justify-content: flex-start; width: 100% }\n",
       "    .wandb-col { display: flex; flex-direction: column; flex-basis: 100%; flex: 1; padding: 10px; }\n",
       "    </style>\n",
       "<div class=\"wandb-row\"><div class=\"wandb-col\"><h3>Run history:</h3><br/><table class=\"wandb\"><tr><td>eval/accuracy</td><td>▁</td></tr><tr><td>eval/f1</td><td>▁</td></tr><tr><td>eval/loss</td><td>▁</td></tr><tr><td>eval/precision</td><td>▁</td></tr><tr><td>eval/recall</td><td>▁</td></tr><tr><td>eval/runtime</td><td>▁</td></tr><tr><td>eval/samples_per_second</td><td>▁</td></tr><tr><td>eval/steps_per_second</td><td>▁</td></tr><tr><td>train/epoch</td><td>▁▁</td></tr><tr><td>train/global_step</td><td>▁▁</td></tr><tr><td>train/total_flos</td><td>▁</td></tr><tr><td>train/train_loss</td><td>▁</td></tr><tr><td>train/train_runtime</td><td>▁</td></tr><tr><td>train/train_samples_per_second</td><td>▁</td></tr><tr><td>train/train_steps_per_second</td><td>▁</td></tr></table><br/></div><div class=\"wandb-col\"><h3>Run summary:</h3><br/><table class=\"wandb\"><tr><td>eval/accuracy</td><td>0.75</td></tr><tr><td>eval/f1</td><td>0.72945</td></tr><tr><td>eval/loss</td><td>0.65091</td></tr><tr><td>eval/precision</td><td>0.7295</td></tr><tr><td>eval/recall</td><td>0.7295</td></tr><tr><td>eval/runtime</td><td>0.8218</td></tr><tr><td>eval/samples_per_second</td><td>170.358</td></tr><tr><td>eval/steps_per_second</td><td>21.903</td></tr><tr><td>train/epoch</td><td>5.0</td></tr><tr><td>train/global_step</td><td>120</td></tr><tr><td>train/total_flos</td><td>368358784819200.0</td></tr><tr><td>train/train_loss</td><td>0.40368</td></tr><tr><td>train/train_runtime</td><td>54.4083</td></tr><tr><td>train/train_samples_per_second</td><td>51.463</td></tr><tr><td>train/train_steps_per_second</td><td>2.206</td></tr></table><br/></div></div>"
      ],
      "text/plain": [
       "<IPython.core.display.HTML object>"
      ]
     },
     "metadata": {},
     "output_type": "display_data"
    },
    {
     "data": {
      "text/html": [
       " View run <strong style=\"color:#cdcd00\">stilted-leaf-421</strong> at: <a href='https://wandb.ai/ericat/huggingface/runs/rgx3p14l' target=\"_blank\">https://wandb.ai/ericat/huggingface/runs/rgx3p14l</a><br/>Synced 5 W&B file(s), 0 media file(s), 0 artifact file(s) and 0 other file(s)"
      ],
      "text/plain": [
       "<IPython.core.display.HTML object>"
      ]
     },
     "metadata": {},
     "output_type": "display_data"
    },
    {
     "data": {
      "text/html": [
       "Find logs at: <code>.\\wandb\\run-20231205_172459-rgx3p14l\\logs</code>"
      ],
      "text/plain": [
       "<IPython.core.display.HTML object>"
      ]
     },
     "metadata": {},
     "output_type": "display_data"
    },
    {
     "data": {
      "application/vnd.jupyter.widget-view+json": {
       "model_id": "8bdb3219c29d4aa3bcfd1559773cdbb9",
       "version_major": 2,
       "version_minor": 0
      },
      "text/plain": [
       "VBox(children=(Label(value='Waiting for wandb.init()...\\r'), FloatProgress(value=0.011111111111111112, max=1.0…"
      ]
     },
     "metadata": {},
     "output_type": "display_data"
    },
    {
     "data": {
      "text/html": [
       "Tracking run with wandb version 0.16.0"
      ],
      "text/plain": [
       "<IPython.core.display.HTML object>"
      ]
     },
     "metadata": {},
     "output_type": "display_data"
    },
    {
     "data": {
      "text/html": [
       "Run data is saved locally in <code>D:\\Projects\\Jupyter\\Sentiment analysis\\04DEC\\wandb\\run-20231205_172556-4zax8bqa</code>"
      ],
      "text/plain": [
       "<IPython.core.display.HTML object>"
      ]
     },
     "metadata": {},
     "output_type": "display_data"
    },
    {
     "data": {
      "text/html": [
       "Syncing run <strong><a href='https://wandb.ai/ericat/huggingface/runs/4zax8bqa' target=\"_blank\">vital-microwave-422</a></strong> to <a href='https://wandb.ai/ericat/huggingface' target=\"_blank\">Weights & Biases</a> (<a href='https://wandb.me/run' target=\"_blank\">docs</a>)<br/>"
      ],
      "text/plain": [
       "<IPython.core.display.HTML object>"
      ]
     },
     "metadata": {},
     "output_type": "display_data"
    },
    {
     "data": {
      "text/html": [
       " View project at <a href='https://wandb.ai/ericat/huggingface' target=\"_blank\">https://wandb.ai/ericat/huggingface</a>"
      ],
      "text/plain": [
       "<IPython.core.display.HTML object>"
      ]
     },
     "metadata": {},
     "output_type": "display_data"
    },
    {
     "data": {
      "text/html": [
       " View run at <a href='https://wandb.ai/ericat/huggingface/runs/4zax8bqa' target=\"_blank\">https://wandb.ai/ericat/huggingface/runs/4zax8bqa</a>"
      ],
      "text/plain": [
       "<IPython.core.display.HTML object>"
      ]
     },
     "metadata": {},
     "output_type": "display_data"
    },
    {
     "name": "stdout",
     "output_type": "stream",
     "text": [
      "{'train_runtime': 95.6608, 'train_samples_per_second': 5.854, 'train_steps_per_second': 0.125, 'train_loss': 1.1175565719604492, 'epoch': 1.0}\n"
     ]
    },
    {
     "name": "stderr",
     "output_type": "stream",
     "text": [
      "[I 2023-12-05 17:27:26,806] Trial 5 finished with value: 2.21712411473096 and parameters: {'learning_rate': 0.0001200009825416913, 'num_train_epochs': 1, 'per_device_train_batch_size': 48}. Best is trial 3 with value: 2.9389308481413745.\n"
     ]
    },
    {
     "name": "stdout",
     "output_type": "stream",
     "text": [
      "{'eval_loss': 0.8599371910095215, 'eval_accuracy': 0.6285714285714286, 'eval_f1': 0.501622258133213, 'eval_precision': 0.5117598028556932, 'eval_recall': 0.5751706251706251, 'eval_runtime': 0.8118, 'eval_samples_per_second': 172.446, 'eval_steps_per_second': 22.172, 'epoch': 1.0}\n"
     ]
    },
    {
     "name": "stderr",
     "output_type": "stream",
     "text": [
      "Some weights of the model checkpoint at cardiffnlp/twitter-roberta-base-sentiment-latest were not used when initializing RobertaForSequenceClassification: ['roberta.pooler.dense.weight', 'roberta.pooler.dense.bias']\n",
      "- This IS expected if you are initializing RobertaForSequenceClassification from the checkpoint of a model trained on another task or with another architecture (e.g. initializing a BertForSequenceClassification model from a BertForPreTraining model).\n",
      "- This IS NOT expected if you are initializing RobertaForSequenceClassification from the checkpoint of a model that you expect to be exactly identical (initializing a BertForSequenceClassification model from a BertForSequenceClassification model).\n"
     ]
    },
    {
     "data": {
      "application/vnd.jupyter.widget-view+json": {
       "model_id": "",
       "version_major": 2,
       "version_minor": 0
      },
      "text/plain": [
       "VBox(children=(Label(value='0.001 MB of 0.001 MB uploaded\\r'), FloatProgress(value=1.0, max=1.0)))"
      ]
     },
     "metadata": {},
     "output_type": "display_data"
    },
    {
     "data": {
      "text/html": [
       "<style>\n",
       "    table.wandb td:nth-child(1) { padding: 0 10px; text-align: left ; width: auto;} td:nth-child(2) {text-align: left ; width: 100%}\n",
       "    .wandb-row { display: flex; flex-direction: row; flex-wrap: wrap; justify-content: flex-start; width: 100% }\n",
       "    .wandb-col { display: flex; flex-direction: column; flex-basis: 100%; flex: 1; padding: 10px; }\n",
       "    </style>\n",
       "<div class=\"wandb-row\"><div class=\"wandb-col\"><h3>Run history:</h3><br/><table class=\"wandb\"><tr><td>eval/accuracy</td><td>▁</td></tr><tr><td>eval/f1</td><td>▁</td></tr><tr><td>eval/loss</td><td>▁</td></tr><tr><td>eval/precision</td><td>▁</td></tr><tr><td>eval/recall</td><td>▁</td></tr><tr><td>eval/runtime</td><td>▁</td></tr><tr><td>eval/samples_per_second</td><td>▁</td></tr><tr><td>eval/steps_per_second</td><td>▁</td></tr><tr><td>train/epoch</td><td>▁▁</td></tr><tr><td>train/global_step</td><td>▁▁</td></tr><tr><td>train/total_flos</td><td>▁</td></tr><tr><td>train/train_loss</td><td>▁</td></tr><tr><td>train/train_runtime</td><td>▁</td></tr><tr><td>train/train_samples_per_second</td><td>▁</td></tr><tr><td>train/train_steps_per_second</td><td>▁</td></tr></table><br/></div><div class=\"wandb-col\"><h3>Run summary:</h3><br/><table class=\"wandb\"><tr><td>eval/accuracy</td><td>0.62857</td></tr><tr><td>eval/f1</td><td>0.50162</td></tr><tr><td>eval/loss</td><td>0.85994</td></tr><tr><td>eval/precision</td><td>0.51176</td></tr><tr><td>eval/recall</td><td>0.57517</td></tr><tr><td>eval/runtime</td><td>0.8118</td></tr><tr><td>eval/samples_per_second</td><td>172.446</td></tr><tr><td>eval/steps_per_second</td><td>22.172</td></tr><tr><td>train/epoch</td><td>1.0</td></tr><tr><td>train/global_step</td><td>12</td></tr><tr><td>train/total_flos</td><td>73671756963840.0</td></tr><tr><td>train/train_loss</td><td>1.11756</td></tr><tr><td>train/train_runtime</td><td>95.6608</td></tr><tr><td>train/train_samples_per_second</td><td>5.854</td></tr><tr><td>train/train_steps_per_second</td><td>0.125</td></tr></table><br/></div></div>"
      ],
      "text/plain": [
       "<IPython.core.display.HTML object>"
      ]
     },
     "metadata": {},
     "output_type": "display_data"
    },
    {
     "data": {
      "text/html": [
       " View run <strong style=\"color:#cdcd00\">vital-microwave-422</strong> at: <a href='https://wandb.ai/ericat/huggingface/runs/4zax8bqa' target=\"_blank\">https://wandb.ai/ericat/huggingface/runs/4zax8bqa</a><br/>Synced 5 W&B file(s), 0 media file(s), 0 artifact file(s) and 0 other file(s)"
      ],
      "text/plain": [
       "<IPython.core.display.HTML object>"
      ]
     },
     "metadata": {},
     "output_type": "display_data"
    },
    {
     "data": {
      "text/html": [
       "Find logs at: <code>.\\wandb\\run-20231205_172556-4zax8bqa\\logs</code>"
      ],
      "text/plain": [
       "<IPython.core.display.HTML object>"
      ]
     },
     "metadata": {},
     "output_type": "display_data"
    },
    {
     "data": {
      "application/vnd.jupyter.widget-view+json": {
       "model_id": "4904d75ea6df4dcfb4759b782e349278",
       "version_major": 2,
       "version_minor": 0
      },
      "text/plain": [
       "VBox(children=(Label(value='Waiting for wandb.init()...\\r'), FloatProgress(value=0.011277777777781415, max=1.0…"
      ]
     },
     "metadata": {},
     "output_type": "display_data"
    },
    {
     "data": {
      "text/html": [
       "Tracking run with wandb version 0.16.0"
      ],
      "text/plain": [
       "<IPython.core.display.HTML object>"
      ]
     },
     "metadata": {},
     "output_type": "display_data"
    },
    {
     "data": {
      "text/html": [
       "Run data is saved locally in <code>D:\\Projects\\Jupyter\\Sentiment analysis\\04DEC\\wandb\\run-20231205_172734-s0h2339j</code>"
      ],
      "text/plain": [
       "<IPython.core.display.HTML object>"
      ]
     },
     "metadata": {},
     "output_type": "display_data"
    },
    {
     "data": {
      "text/html": [
       "Syncing run <strong><a href='https://wandb.ai/ericat/huggingface/runs/s0h2339j' target=\"_blank\">peach-fog-423</a></strong> to <a href='https://wandb.ai/ericat/huggingface' target=\"_blank\">Weights & Biases</a> (<a href='https://wandb.me/run' target=\"_blank\">docs</a>)<br/>"
      ],
      "text/plain": [
       "<IPython.core.display.HTML object>"
      ]
     },
     "metadata": {},
     "output_type": "display_data"
    },
    {
     "data": {
      "text/html": [
       " View project at <a href='https://wandb.ai/ericat/huggingface' target=\"_blank\">https://wandb.ai/ericat/huggingface</a>"
      ],
      "text/plain": [
       "<IPython.core.display.HTML object>"
      ]
     },
     "metadata": {},
     "output_type": "display_data"
    },
    {
     "data": {
      "text/html": [
       " View run at <a href='https://wandb.ai/ericat/huggingface/runs/s0h2339j' target=\"_blank\">https://wandb.ai/ericat/huggingface/runs/s0h2339j</a>"
      ],
      "text/plain": [
       "<IPython.core.display.HTML object>"
      ]
     },
     "metadata": {},
     "output_type": "display_data"
    },
    {
     "name": "stdout",
     "output_type": "stream",
     "text": [
      "{'train_runtime': 283.8378, 'train_samples_per_second': 5.919, 'train_steps_per_second': 0.127, 'train_loss': 0.5880525906880697, 'epoch': 3.0}\n"
     ]
    },
    {
     "name": "stderr",
     "output_type": "stream",
     "text": [
      "[I 2023-12-05 17:32:13,249] Trial 6 finished with value: 2.8048136614574903 and parameters: {'learning_rate': 5.740257269011537e-06, 'num_train_epochs': 3, 'per_device_train_batch_size': 48}. Best is trial 3 with value: 2.9389308481413745.\n"
     ]
    },
    {
     "name": "stdout",
     "output_type": "stream",
     "text": [
      "{'eval_loss': 0.6069442629814148, 'eval_accuracy': 0.7214285714285714, 'eval_f1': 0.6936862550819001, 'eval_precision': 0.6941658019139859, 'eval_recall': 0.695533033033033, 'eval_runtime': 0.8128, 'eval_samples_per_second': 172.239, 'eval_steps_per_second': 22.145, 'epoch': 3.0}\n"
     ]
    },
    {
     "name": "stderr",
     "output_type": "stream",
     "text": [
      "Some weights of the model checkpoint at cardiffnlp/twitter-roberta-base-sentiment-latest were not used when initializing RobertaForSequenceClassification: ['roberta.pooler.dense.weight', 'roberta.pooler.dense.bias']\n",
      "- This IS expected if you are initializing RobertaForSequenceClassification from the checkpoint of a model trained on another task or with another architecture (e.g. initializing a BertForSequenceClassification model from a BertForPreTraining model).\n",
      "- This IS NOT expected if you are initializing RobertaForSequenceClassification from the checkpoint of a model that you expect to be exactly identical (initializing a BertForSequenceClassification model from a BertForSequenceClassification model).\n"
     ]
    },
    {
     "data": {
      "application/vnd.jupyter.widget-view+json": {
       "model_id": "",
       "version_major": 2,
       "version_minor": 0
      },
      "text/plain": [
       "VBox(children=(Label(value='0.001 MB of 0.001 MB uploaded\\r'), FloatProgress(value=1.0, max=1.0)))"
      ]
     },
     "metadata": {},
     "output_type": "display_data"
    },
    {
     "data": {
      "text/html": [
       "<style>\n",
       "    table.wandb td:nth-child(1) { padding: 0 10px; text-align: left ; width: auto;} td:nth-child(2) {text-align: left ; width: 100%}\n",
       "    .wandb-row { display: flex; flex-direction: row; flex-wrap: wrap; justify-content: flex-start; width: 100% }\n",
       "    .wandb-col { display: flex; flex-direction: column; flex-basis: 100%; flex: 1; padding: 10px; }\n",
       "    </style>\n",
       "<div class=\"wandb-row\"><div class=\"wandb-col\"><h3>Run history:</h3><br/><table class=\"wandb\"><tr><td>eval/accuracy</td><td>▁</td></tr><tr><td>eval/f1</td><td>▁</td></tr><tr><td>eval/loss</td><td>▁</td></tr><tr><td>eval/precision</td><td>▁</td></tr><tr><td>eval/recall</td><td>▁</td></tr><tr><td>eval/runtime</td><td>▁</td></tr><tr><td>eval/samples_per_second</td><td>▁</td></tr><tr><td>eval/steps_per_second</td><td>▁</td></tr><tr><td>train/epoch</td><td>▁▁</td></tr><tr><td>train/global_step</td><td>▁▁</td></tr><tr><td>train/total_flos</td><td>▁</td></tr><tr><td>train/train_loss</td><td>▁</td></tr><tr><td>train/train_runtime</td><td>▁</td></tr><tr><td>train/train_samples_per_second</td><td>▁</td></tr><tr><td>train/train_steps_per_second</td><td>▁</td></tr></table><br/></div><div class=\"wandb-col\"><h3>Run summary:</h3><br/><table class=\"wandb\"><tr><td>eval/accuracy</td><td>0.72143</td></tr><tr><td>eval/f1</td><td>0.69369</td></tr><tr><td>eval/loss</td><td>0.60694</td></tr><tr><td>eval/precision</td><td>0.69417</td></tr><tr><td>eval/recall</td><td>0.69553</td></tr><tr><td>eval/runtime</td><td>0.8128</td></tr><tr><td>eval/samples_per_second</td><td>172.239</td></tr><tr><td>eval/steps_per_second</td><td>22.145</td></tr><tr><td>train/epoch</td><td>3.0</td></tr><tr><td>train/global_step</td><td>36</td></tr><tr><td>train/total_flos</td><td>221015270891520.0</td></tr><tr><td>train/train_loss</td><td>0.58805</td></tr><tr><td>train/train_runtime</td><td>283.8378</td></tr><tr><td>train/train_samples_per_second</td><td>5.919</td></tr><tr><td>train/train_steps_per_second</td><td>0.127</td></tr></table><br/></div></div>"
      ],
      "text/plain": [
       "<IPython.core.display.HTML object>"
      ]
     },
     "metadata": {},
     "output_type": "display_data"
    },
    {
     "data": {
      "text/html": [
       " View run <strong style=\"color:#cdcd00\">peach-fog-423</strong> at: <a href='https://wandb.ai/ericat/huggingface/runs/s0h2339j' target=\"_blank\">https://wandb.ai/ericat/huggingface/runs/s0h2339j</a><br/>Synced 5 W&B file(s), 0 media file(s), 0 artifact file(s) and 0 other file(s)"
      ],
      "text/plain": [
       "<IPython.core.display.HTML object>"
      ]
     },
     "metadata": {},
     "output_type": "display_data"
    },
    {
     "data": {
      "text/html": [
       "Find logs at: <code>.\\wandb\\run-20231205_172734-s0h2339j\\logs</code>"
      ],
      "text/plain": [
       "<IPython.core.display.HTML object>"
      ]
     },
     "metadata": {},
     "output_type": "display_data"
    },
    {
     "data": {
      "application/vnd.jupyter.widget-view+json": {
       "model_id": "1a3de23a64f94e679b300ce1f9486631",
       "version_major": 2,
       "version_minor": 0
      },
      "text/plain": [
       "VBox(children=(Label(value='Waiting for wandb.init()...\\r'), FloatProgress(value=0.011277777777781415, max=1.0…"
      ]
     },
     "metadata": {},
     "output_type": "display_data"
    },
    {
     "data": {
      "text/html": [
       "Tracking run with wandb version 0.16.0"
      ],
      "text/plain": [
       "<IPython.core.display.HTML object>"
      ]
     },
     "metadata": {},
     "output_type": "display_data"
    },
    {
     "data": {
      "text/html": [
       "Run data is saved locally in <code>D:\\Projects\\Jupyter\\Sentiment analysis\\04DEC\\wandb\\run-20231205_173221-zsv30nf9</code>"
      ],
      "text/plain": [
       "<IPython.core.display.HTML object>"
      ]
     },
     "metadata": {},
     "output_type": "display_data"
    },
    {
     "data": {
      "text/html": [
       "Syncing run <strong><a href='https://wandb.ai/ericat/huggingface/runs/zsv30nf9' target=\"_blank\">chocolate-pond-424</a></strong> to <a href='https://wandb.ai/ericat/huggingface' target=\"_blank\">Weights & Biases</a> (<a href='https://wandb.me/run' target=\"_blank\">docs</a>)<br/>"
      ],
      "text/plain": [
       "<IPython.core.display.HTML object>"
      ]
     },
     "metadata": {},
     "output_type": "display_data"
    },
    {
     "data": {
      "text/html": [
       " View project at <a href='https://wandb.ai/ericat/huggingface' target=\"_blank\">https://wandb.ai/ericat/huggingface</a>"
      ],
      "text/plain": [
       "<IPython.core.display.HTML object>"
      ]
     },
     "metadata": {},
     "output_type": "display_data"
    },
    {
     "data": {
      "text/html": [
       " View run at <a href='https://wandb.ai/ericat/huggingface/runs/zsv30nf9' target=\"_blank\">https://wandb.ai/ericat/huggingface/runs/zsv30nf9</a>"
      ],
      "text/plain": [
       "<IPython.core.display.HTML object>"
      ]
     },
     "metadata": {},
     "output_type": "display_data"
    },
    {
     "name": "stdout",
     "output_type": "stream",
     "text": [
      "{'train_runtime': 348.1114, 'train_samples_per_second': 4.826, 'train_steps_per_second': 0.086, 'train_loss': 0.6300544738769531, 'epoch': 3.0}\n"
     ]
    },
    {
     "name": "stderr",
     "output_type": "stream",
     "text": [
      "[I 2023-12-05 17:38:04,495] Trial 7 finished with value: 2.8919956282527424 and parameters: {'learning_rate': 5.325964241686084e-05, 'num_train_epochs': 3, 'per_device_train_batch_size': 56}. Best is trial 3 with value: 2.9389308481413745.\n"
     ]
    },
    {
     "name": "stdout",
     "output_type": "stream",
     "text": [
      "{'eval_loss': 0.6479860544204712, 'eval_accuracy': 0.7214285714285714, 'eval_f1': 0.7190070552641695, 'eval_precision': 0.7321428571428571, 'eval_recall': 0.7194171444171444, 'eval_runtime': 0.8128, 'eval_samples_per_second': 172.239, 'eval_steps_per_second': 22.145, 'epoch': 3.0}\n"
     ]
    },
    {
     "name": "stderr",
     "output_type": "stream",
     "text": [
      "Some weights of the model checkpoint at cardiffnlp/twitter-roberta-base-sentiment-latest were not used when initializing RobertaForSequenceClassification: ['roberta.pooler.dense.weight', 'roberta.pooler.dense.bias']\n",
      "- This IS expected if you are initializing RobertaForSequenceClassification from the checkpoint of a model trained on another task or with another architecture (e.g. initializing a BertForSequenceClassification model from a BertForPreTraining model).\n",
      "- This IS NOT expected if you are initializing RobertaForSequenceClassification from the checkpoint of a model that you expect to be exactly identical (initializing a BertForSequenceClassification model from a BertForSequenceClassification model).\n"
     ]
    },
    {
     "data": {
      "application/vnd.jupyter.widget-view+json": {
       "model_id": "",
       "version_major": 2,
       "version_minor": 0
      },
      "text/plain": [
       "VBox(children=(Label(value='0.001 MB of 0.001 MB uploaded\\r'), FloatProgress(value=1.0, max=1.0)))"
      ]
     },
     "metadata": {},
     "output_type": "display_data"
    },
    {
     "data": {
      "text/html": [
       "<style>\n",
       "    table.wandb td:nth-child(1) { padding: 0 10px; text-align: left ; width: auto;} td:nth-child(2) {text-align: left ; width: 100%}\n",
       "    .wandb-row { display: flex; flex-direction: row; flex-wrap: wrap; justify-content: flex-start; width: 100% }\n",
       "    .wandb-col { display: flex; flex-direction: column; flex-basis: 100%; flex: 1; padding: 10px; }\n",
       "    </style>\n",
       "<div class=\"wandb-row\"><div class=\"wandb-col\"><h3>Run history:</h3><br/><table class=\"wandb\"><tr><td>eval/accuracy</td><td>▁</td></tr><tr><td>eval/f1</td><td>▁</td></tr><tr><td>eval/loss</td><td>▁</td></tr><tr><td>eval/precision</td><td>▁</td></tr><tr><td>eval/recall</td><td>▁</td></tr><tr><td>eval/runtime</td><td>▁</td></tr><tr><td>eval/samples_per_second</td><td>▁</td></tr><tr><td>eval/steps_per_second</td><td>▁</td></tr><tr><td>train/epoch</td><td>▁▁</td></tr><tr><td>train/global_step</td><td>▁▁</td></tr><tr><td>train/total_flos</td><td>▁</td></tr><tr><td>train/train_loss</td><td>▁</td></tr><tr><td>train/train_runtime</td><td>▁</td></tr><tr><td>train/train_samples_per_second</td><td>▁</td></tr><tr><td>train/train_steps_per_second</td><td>▁</td></tr></table><br/></div><div class=\"wandb-col\"><h3>Run summary:</h3><br/><table class=\"wandb\"><tr><td>eval/accuracy</td><td>0.72143</td></tr><tr><td>eval/f1</td><td>0.71901</td></tr><tr><td>eval/loss</td><td>0.64799</td></tr><tr><td>eval/precision</td><td>0.73214</td></tr><tr><td>eval/recall</td><td>0.71942</td></tr><tr><td>eval/runtime</td><td>0.8128</td></tr><tr><td>eval/samples_per_second</td><td>172.239</td></tr><tr><td>eval/steps_per_second</td><td>22.145</td></tr><tr><td>train/epoch</td><td>3.0</td></tr><tr><td>train/global_step</td><td>30</td></tr><tr><td>train/total_flos</td><td>221015270891520.0</td></tr><tr><td>train/train_loss</td><td>0.63005</td></tr><tr><td>train/train_runtime</td><td>348.1114</td></tr><tr><td>train/train_samples_per_second</td><td>4.826</td></tr><tr><td>train/train_steps_per_second</td><td>0.086</td></tr></table><br/></div></div>"
      ],
      "text/plain": [
       "<IPython.core.display.HTML object>"
      ]
     },
     "metadata": {},
     "output_type": "display_data"
    },
    {
     "data": {
      "text/html": [
       " View run <strong style=\"color:#cdcd00\">chocolate-pond-424</strong> at: <a href='https://wandb.ai/ericat/huggingface/runs/zsv30nf9' target=\"_blank\">https://wandb.ai/ericat/huggingface/runs/zsv30nf9</a><br/>Synced 5 W&B file(s), 0 media file(s), 0 artifact file(s) and 0 other file(s)"
      ],
      "text/plain": [
       "<IPython.core.display.HTML object>"
      ]
     },
     "metadata": {},
     "output_type": "display_data"
    },
    {
     "data": {
      "text/html": [
       "Find logs at: <code>.\\wandb\\run-20231205_173221-zsv30nf9\\logs</code>"
      ],
      "text/plain": [
       "<IPython.core.display.HTML object>"
      ]
     },
     "metadata": {},
     "output_type": "display_data"
    },
    {
     "data": {
      "application/vnd.jupyter.widget-view+json": {
       "model_id": "980b69b7eea64eadb5515ec1d214cc89",
       "version_major": 2,
       "version_minor": 0
      },
      "text/plain": [
       "VBox(children=(Label(value='Waiting for wandb.init()...\\r'), FloatProgress(value=0.011111111111111112, max=1.0…"
      ]
     },
     "metadata": {},
     "output_type": "display_data"
    },
    {
     "data": {
      "text/html": [
       "Tracking run with wandb version 0.16.0"
      ],
      "text/plain": [
       "<IPython.core.display.HTML object>"
      ]
     },
     "metadata": {},
     "output_type": "display_data"
    },
    {
     "data": {
      "text/html": [
       "Run data is saved locally in <code>D:\\Projects\\Jupyter\\Sentiment analysis\\04DEC\\wandb\\run-20231205_173812-eaxrrk5w</code>"
      ],
      "text/plain": [
       "<IPython.core.display.HTML object>"
      ]
     },
     "metadata": {},
     "output_type": "display_data"
    },
    {
     "data": {
      "text/html": [
       "Syncing run <strong><a href='https://wandb.ai/ericat/huggingface/runs/eaxrrk5w' target=\"_blank\">deep-bird-425</a></strong> to <a href='https://wandb.ai/ericat/huggingface' target=\"_blank\">Weights & Biases</a> (<a href='https://wandb.me/run' target=\"_blank\">docs</a>)<br/>"
      ],
      "text/plain": [
       "<IPython.core.display.HTML object>"
      ]
     },
     "metadata": {},
     "output_type": "display_data"
    },
    {
     "data": {
      "text/html": [
       " View project at <a href='https://wandb.ai/ericat/huggingface' target=\"_blank\">https://wandb.ai/ericat/huggingface</a>"
      ],
      "text/plain": [
       "<IPython.core.display.HTML object>"
      ]
     },
     "metadata": {},
     "output_type": "display_data"
    },
    {
     "data": {
      "text/html": [
       " View run at <a href='https://wandb.ai/ericat/huggingface/runs/eaxrrk5w' target=\"_blank\">https://wandb.ai/ericat/huggingface/runs/eaxrrk5w</a>"
      ],
      "text/plain": [
       "<IPython.core.display.HTML object>"
      ]
     },
     "metadata": {},
     "output_type": "display_data"
    },
    {
     "name": "stdout",
     "output_type": "stream",
     "text": [
      "{'train_runtime': 273.5754, 'train_samples_per_second': 10.235, 'train_steps_per_second': 0.256, 'train_loss': 0.5731082916259765, 'epoch': 5.0}\n"
     ]
    },
    {
     "name": "stderr",
     "output_type": "stream",
     "text": [
      "[I 2023-12-05 17:42:41,325] Trial 8 finished with value: 2.7719140505525757 and parameters: {'learning_rate': 3.2464864421172348e-06, 'num_train_epochs': 5, 'per_device_train_batch_size': 40}. Best is trial 3 with value: 2.9389308481413745.\n"
     ]
    },
    {
     "name": "stdout",
     "output_type": "stream",
     "text": [
      "{'eval_loss': 0.6162310838699341, 'eval_accuracy': 0.7142857142857143, 'eval_f1': 0.6846546089700247, 'eval_precision': 0.6864497032728126, 'eval_recall': 0.686524024024024, 'eval_runtime': 0.8168, 'eval_samples_per_second': 171.404, 'eval_steps_per_second': 22.038, 'epoch': 5.0}\n"
     ]
    },
    {
     "name": "stderr",
     "output_type": "stream",
     "text": [
      "Some weights of the model checkpoint at cardiffnlp/twitter-roberta-base-sentiment-latest were not used when initializing RobertaForSequenceClassification: ['roberta.pooler.dense.weight', 'roberta.pooler.dense.bias']\n",
      "- This IS expected if you are initializing RobertaForSequenceClassification from the checkpoint of a model trained on another task or with another architecture (e.g. initializing a BertForSequenceClassification model from a BertForPreTraining model).\n",
      "- This IS NOT expected if you are initializing RobertaForSequenceClassification from the checkpoint of a model that you expect to be exactly identical (initializing a BertForSequenceClassification model from a BertForSequenceClassification model).\n"
     ]
    },
    {
     "data": {
      "application/vnd.jupyter.widget-view+json": {
       "model_id": "",
       "version_major": 2,
       "version_minor": 0
      },
      "text/plain": [
       "VBox(children=(Label(value='0.001 MB of 0.001 MB uploaded\\r'), FloatProgress(value=1.0, max=1.0)))"
      ]
     },
     "metadata": {},
     "output_type": "display_data"
    },
    {
     "data": {
      "text/html": [
       "<style>\n",
       "    table.wandb td:nth-child(1) { padding: 0 10px; text-align: left ; width: auto;} td:nth-child(2) {text-align: left ; width: 100%}\n",
       "    .wandb-row { display: flex; flex-direction: row; flex-wrap: wrap; justify-content: flex-start; width: 100% }\n",
       "    .wandb-col { display: flex; flex-direction: column; flex-basis: 100%; flex: 1; padding: 10px; }\n",
       "    </style>\n",
       "<div class=\"wandb-row\"><div class=\"wandb-col\"><h3>Run history:</h3><br/><table class=\"wandb\"><tr><td>eval/accuracy</td><td>▁</td></tr><tr><td>eval/f1</td><td>▁</td></tr><tr><td>eval/loss</td><td>▁</td></tr><tr><td>eval/precision</td><td>▁</td></tr><tr><td>eval/recall</td><td>▁</td></tr><tr><td>eval/runtime</td><td>▁</td></tr><tr><td>eval/samples_per_second</td><td>▁</td></tr><tr><td>eval/steps_per_second</td><td>▁</td></tr><tr><td>train/epoch</td><td>▁▁</td></tr><tr><td>train/global_step</td><td>▁▁</td></tr><tr><td>train/total_flos</td><td>▁</td></tr><tr><td>train/train_loss</td><td>▁</td></tr><tr><td>train/train_runtime</td><td>▁</td></tr><tr><td>train/train_samples_per_second</td><td>▁</td></tr><tr><td>train/train_steps_per_second</td><td>▁</td></tr></table><br/></div><div class=\"wandb-col\"><h3>Run summary:</h3><br/><table class=\"wandb\"><tr><td>eval/accuracy</td><td>0.71429</td></tr><tr><td>eval/f1</td><td>0.68465</td></tr><tr><td>eval/loss</td><td>0.61623</td></tr><tr><td>eval/precision</td><td>0.68645</td></tr><tr><td>eval/recall</td><td>0.68652</td></tr><tr><td>eval/runtime</td><td>0.8168</td></tr><tr><td>eval/samples_per_second</td><td>171.404</td></tr><tr><td>eval/steps_per_second</td><td>22.038</td></tr><tr><td>train/epoch</td><td>5.0</td></tr><tr><td>train/global_step</td><td>70</td></tr><tr><td>train/total_flos</td><td>368358784819200.0</td></tr><tr><td>train/train_loss</td><td>0.57311</td></tr><tr><td>train/train_runtime</td><td>273.5754</td></tr><tr><td>train/train_samples_per_second</td><td>10.235</td></tr><tr><td>train/train_steps_per_second</td><td>0.256</td></tr></table><br/></div></div>"
      ],
      "text/plain": [
       "<IPython.core.display.HTML object>"
      ]
     },
     "metadata": {},
     "output_type": "display_data"
    },
    {
     "data": {
      "text/html": [
       " View run <strong style=\"color:#cdcd00\">deep-bird-425</strong> at: <a href='https://wandb.ai/ericat/huggingface/runs/eaxrrk5w' target=\"_blank\">https://wandb.ai/ericat/huggingface/runs/eaxrrk5w</a><br/>Synced 5 W&B file(s), 0 media file(s), 0 artifact file(s) and 0 other file(s)"
      ],
      "text/plain": [
       "<IPython.core.display.HTML object>"
      ]
     },
     "metadata": {},
     "output_type": "display_data"
    },
    {
     "data": {
      "text/html": [
       "Find logs at: <code>.\\wandb\\run-20231205_173812-eaxrrk5w\\logs</code>"
      ],
      "text/plain": [
       "<IPython.core.display.HTML object>"
      ]
     },
     "metadata": {},
     "output_type": "display_data"
    },
    {
     "data": {
      "application/vnd.jupyter.widget-view+json": {
       "model_id": "18ce15d1ea6f4d7a9f6e19d2fb8314b0",
       "version_major": 2,
       "version_minor": 0
      },
      "text/plain": [
       "VBox(children=(Label(value='Waiting for wandb.init()...\\r'), FloatProgress(value=0.011111111111111112, max=1.0…"
      ]
     },
     "metadata": {},
     "output_type": "display_data"
    },
    {
     "data": {
      "text/html": [
       "Tracking run with wandb version 0.16.0"
      ],
      "text/plain": [
       "<IPython.core.display.HTML object>"
      ]
     },
     "metadata": {},
     "output_type": "display_data"
    },
    {
     "data": {
      "text/html": [
       "Run data is saved locally in <code>D:\\Projects\\Jupyter\\Sentiment analysis\\04DEC\\wandb\\run-20231205_174249-dhacg5xq</code>"
      ],
      "text/plain": [
       "<IPython.core.display.HTML object>"
      ]
     },
     "metadata": {},
     "output_type": "display_data"
    },
    {
     "data": {
      "text/html": [
       "Syncing run <strong><a href='https://wandb.ai/ericat/huggingface/runs/dhacg5xq' target=\"_blank\">gentle-dragon-426</a></strong> to <a href='https://wandb.ai/ericat/huggingface' target=\"_blank\">Weights & Biases</a> (<a href='https://wandb.me/run' target=\"_blank\">docs</a>)<br/>"
      ],
      "text/plain": [
       "<IPython.core.display.HTML object>"
      ]
     },
     "metadata": {},
     "output_type": "display_data"
    },
    {
     "data": {
      "text/html": [
       " View project at <a href='https://wandb.ai/ericat/huggingface' target=\"_blank\">https://wandb.ai/ericat/huggingface</a>"
      ],
      "text/plain": [
       "<IPython.core.display.HTML object>"
      ]
     },
     "metadata": {},
     "output_type": "display_data"
    },
    {
     "data": {
      "text/html": [
       " View run at <a href='https://wandb.ai/ericat/huggingface/runs/dhacg5xq' target=\"_blank\">https://wandb.ai/ericat/huggingface/runs/dhacg5xq</a>"
      ],
      "text/plain": [
       "<IPython.core.display.HTML object>"
      ]
     },
     "metadata": {},
     "output_type": "display_data"
    },
    {
     "name": "stdout",
     "output_type": "stream",
     "text": [
      "{'train_runtime': 53.9748, 'train_samples_per_second': 51.876, 'train_steps_per_second': 2.223, 'train_loss': 0.3958038647969564, 'epoch': 5.0}\n"
     ]
    },
    {
     "name": "stderr",
     "output_type": "stream",
     "text": [
      "[I 2023-12-05 17:43:38,426] Trial 9 finished with value: 2.9282773123206907 and parameters: {'learning_rate': 1.3230881518644918e-05, 'num_train_epochs': 5, 'per_device_train_batch_size': 24}. Best is trial 3 with value: 2.9389308481413745.\n"
     ]
    },
    {
     "name": "stdout",
     "output_type": "stream",
     "text": [
      "{'eval_loss': 0.6563019156455994, 'eval_accuracy': 0.75, 'eval_f1': 0.7257953555740276, 'eval_precision': 0.7250420168067228, 'eval_recall': 0.7274399399399399, 'eval_runtime': 0.8248, 'eval_samples_per_second': 169.741, 'eval_steps_per_second': 21.824, 'epoch': 5.0}\n"
     ]
    },
    {
     "name": "stderr",
     "output_type": "stream",
     "text": [
      "Some weights of the model checkpoint at cardiffnlp/twitter-roberta-base-sentiment-latest were not used when initializing RobertaForSequenceClassification: ['roberta.pooler.dense.weight', 'roberta.pooler.dense.bias']\n",
      "- This IS expected if you are initializing RobertaForSequenceClassification from the checkpoint of a model trained on another task or with another architecture (e.g. initializing a BertForSequenceClassification model from a BertForPreTraining model).\n",
      "- This IS NOT expected if you are initializing RobertaForSequenceClassification from the checkpoint of a model that you expect to be exactly identical (initializing a BertForSequenceClassification model from a BertForSequenceClassification model).\n"
     ]
    },
    {
     "data": {
      "application/vnd.jupyter.widget-view+json": {
       "model_id": "",
       "version_major": 2,
       "version_minor": 0
      },
      "text/plain": [
       "VBox(children=(Label(value='0.001 MB of 0.001 MB uploaded\\r'), FloatProgress(value=1.0, max=1.0)))"
      ]
     },
     "metadata": {},
     "output_type": "display_data"
    },
    {
     "data": {
      "text/html": [
       "<style>\n",
       "    table.wandb td:nth-child(1) { padding: 0 10px; text-align: left ; width: auto;} td:nth-child(2) {text-align: left ; width: 100%}\n",
       "    .wandb-row { display: flex; flex-direction: row; flex-wrap: wrap; justify-content: flex-start; width: 100% }\n",
       "    .wandb-col { display: flex; flex-direction: column; flex-basis: 100%; flex: 1; padding: 10px; }\n",
       "    </style>\n",
       "<div class=\"wandb-row\"><div class=\"wandb-col\"><h3>Run history:</h3><br/><table class=\"wandb\"><tr><td>eval/accuracy</td><td>▁</td></tr><tr><td>eval/f1</td><td>▁</td></tr><tr><td>eval/loss</td><td>▁</td></tr><tr><td>eval/precision</td><td>▁</td></tr><tr><td>eval/recall</td><td>▁</td></tr><tr><td>eval/runtime</td><td>▁</td></tr><tr><td>eval/samples_per_second</td><td>▁</td></tr><tr><td>eval/steps_per_second</td><td>▁</td></tr><tr><td>train/epoch</td><td>▁▁</td></tr><tr><td>train/global_step</td><td>▁▁</td></tr><tr><td>train/total_flos</td><td>▁</td></tr><tr><td>train/train_loss</td><td>▁</td></tr><tr><td>train/train_runtime</td><td>▁</td></tr><tr><td>train/train_samples_per_second</td><td>▁</td></tr><tr><td>train/train_steps_per_second</td><td>▁</td></tr></table><br/></div><div class=\"wandb-col\"><h3>Run summary:</h3><br/><table class=\"wandb\"><tr><td>eval/accuracy</td><td>0.75</td></tr><tr><td>eval/f1</td><td>0.7258</td></tr><tr><td>eval/loss</td><td>0.6563</td></tr><tr><td>eval/precision</td><td>0.72504</td></tr><tr><td>eval/recall</td><td>0.72744</td></tr><tr><td>eval/runtime</td><td>0.8248</td></tr><tr><td>eval/samples_per_second</td><td>169.741</td></tr><tr><td>eval/steps_per_second</td><td>21.824</td></tr><tr><td>train/epoch</td><td>5.0</td></tr><tr><td>train/global_step</td><td>120</td></tr><tr><td>train/total_flos</td><td>368358784819200.0</td></tr><tr><td>train/train_loss</td><td>0.3958</td></tr><tr><td>train/train_runtime</td><td>53.9748</td></tr><tr><td>train/train_samples_per_second</td><td>51.876</td></tr><tr><td>train/train_steps_per_second</td><td>2.223</td></tr></table><br/></div></div>"
      ],
      "text/plain": [
       "<IPython.core.display.HTML object>"
      ]
     },
     "metadata": {},
     "output_type": "display_data"
    },
    {
     "data": {
      "text/html": [
       " View run <strong style=\"color:#cdcd00\">gentle-dragon-426</strong> at: <a href='https://wandb.ai/ericat/huggingface/runs/dhacg5xq' target=\"_blank\">https://wandb.ai/ericat/huggingface/runs/dhacg5xq</a><br/>Synced 5 W&B file(s), 0 media file(s), 0 artifact file(s) and 0 other file(s)"
      ],
      "text/plain": [
       "<IPython.core.display.HTML object>"
      ]
     },
     "metadata": {},
     "output_type": "display_data"
    },
    {
     "data": {
      "text/html": [
       "Find logs at: <code>.\\wandb\\run-20231205_174249-dhacg5xq\\logs</code>"
      ],
      "text/plain": [
       "<IPython.core.display.HTML object>"
      ]
     },
     "metadata": {},
     "output_type": "display_data"
    },
    {
     "data": {
      "application/vnd.jupyter.widget-view+json": {
       "model_id": "6f4ab49e99704b7d86644e233dba9582",
       "version_major": 2,
       "version_minor": 0
      },
      "text/plain": [
       "VBox(children=(Label(value='Waiting for wandb.init()...\\r'), FloatProgress(value=0.011111111111111112, max=1.0…"
      ]
     },
     "metadata": {},
     "output_type": "display_data"
    },
    {
     "data": {
      "text/html": [
       "Tracking run with wandb version 0.16.0"
      ],
      "text/plain": [
       "<IPython.core.display.HTML object>"
      ]
     },
     "metadata": {},
     "output_type": "display_data"
    },
    {
     "data": {
      "text/html": [
       "Run data is saved locally in <code>D:\\Projects\\Jupyter\\Sentiment analysis\\04DEC\\wandb\\run-20231205_174346-vzsy6469</code>"
      ],
      "text/plain": [
       "<IPython.core.display.HTML object>"
      ]
     },
     "metadata": {},
     "output_type": "display_data"
    },
    {
     "data": {
      "text/html": [
       "Syncing run <strong><a href='https://wandb.ai/ericat/huggingface/runs/vzsy6469' target=\"_blank\">daily-lion-427</a></strong> to <a href='https://wandb.ai/ericat/huggingface' target=\"_blank\">Weights & Biases</a> (<a href='https://wandb.me/run' target=\"_blank\">docs</a>)<br/>"
      ],
      "text/plain": [
       "<IPython.core.display.HTML object>"
      ]
     },
     "metadata": {},
     "output_type": "display_data"
    },
    {
     "data": {
      "text/html": [
       " View project at <a href='https://wandb.ai/ericat/huggingface' target=\"_blank\">https://wandb.ai/ericat/huggingface</a>"
      ],
      "text/plain": [
       "<IPython.core.display.HTML object>"
      ]
     },
     "metadata": {},
     "output_type": "display_data"
    },
    {
     "data": {
      "text/html": [
       " View run at <a href='https://wandb.ai/ericat/huggingface/runs/vzsy6469' target=\"_blank\">https://wandb.ai/ericat/huggingface/runs/vzsy6469</a>"
      ],
      "text/plain": [
       "<IPython.core.display.HTML object>"
      ]
     },
     "metadata": {},
     "output_type": "display_data"
    },
    {
     "name": "stdout",
     "output_type": "stream",
     "text": [
      "{'train_runtime': 603.3057, 'train_samples_per_second': 3.713, 'train_steps_per_second': 0.053, 'train_loss': 0.6331796050071716, 'epoch': 4.0}\n"
     ]
    },
    {
     "name": "stderr",
     "output_type": "stream",
     "text": [
      "[I 2023-12-05 17:53:52,428] Trial 10 finished with value: 2.821986945678573 and parameters: {'learning_rate': 1.302525321705361e-06, 'num_train_epochs': 4, 'per_device_train_batch_size': 72}. Best is trial 3 with value: 2.9389308481413745.\n"
     ]
    },
    {
     "name": "stdout",
     "output_type": "stream",
     "text": [
      "{'eval_loss': 0.6617886424064636, 'eval_accuracy': 0.7285714285714285, 'eval_f1': 0.6962743803108351, 'eval_precision': 0.6958443854995581, 'eval_recall': 0.7012967512967513, 'eval_runtime': 9.1834, 'eval_samples_per_second': 15.245, 'eval_steps_per_second': 1.96, 'epoch': 4.0}\n"
     ]
    },
    {
     "name": "stderr",
     "output_type": "stream",
     "text": [
      "Some weights of the model checkpoint at cardiffnlp/twitter-roberta-base-sentiment-latest were not used when initializing RobertaForSequenceClassification: ['roberta.pooler.dense.weight', 'roberta.pooler.dense.bias']\n",
      "- This IS expected if you are initializing RobertaForSequenceClassification from the checkpoint of a model trained on another task or with another architecture (e.g. initializing a BertForSequenceClassification model from a BertForPreTraining model).\n",
      "- This IS NOT expected if you are initializing RobertaForSequenceClassification from the checkpoint of a model that you expect to be exactly identical (initializing a BertForSequenceClassification model from a BertForSequenceClassification model).\n"
     ]
    },
    {
     "data": {
      "application/vnd.jupyter.widget-view+json": {
       "model_id": "",
       "version_major": 2,
       "version_minor": 0
      },
      "text/plain": [
       "VBox(children=(Label(value='0.001 MB of 0.001 MB uploaded\\r'), FloatProgress(value=1.0, max=1.0)))"
      ]
     },
     "metadata": {},
     "output_type": "display_data"
    },
    {
     "data": {
      "text/html": [
       "<style>\n",
       "    table.wandb td:nth-child(1) { padding: 0 10px; text-align: left ; width: auto;} td:nth-child(2) {text-align: left ; width: 100%}\n",
       "    .wandb-row { display: flex; flex-direction: row; flex-wrap: wrap; justify-content: flex-start; width: 100% }\n",
       "    .wandb-col { display: flex; flex-direction: column; flex-basis: 100%; flex: 1; padding: 10px; }\n",
       "    </style>\n",
       "<div class=\"wandb-row\"><div class=\"wandb-col\"><h3>Run history:</h3><br/><table class=\"wandb\"><tr><td>eval/accuracy</td><td>▁</td></tr><tr><td>eval/f1</td><td>▁</td></tr><tr><td>eval/loss</td><td>▁</td></tr><tr><td>eval/precision</td><td>▁</td></tr><tr><td>eval/recall</td><td>▁</td></tr><tr><td>eval/runtime</td><td>▁</td></tr><tr><td>eval/samples_per_second</td><td>▁</td></tr><tr><td>eval/steps_per_second</td><td>▁</td></tr><tr><td>train/epoch</td><td>▁▁</td></tr><tr><td>train/global_step</td><td>▁▁</td></tr><tr><td>train/total_flos</td><td>▁</td></tr><tr><td>train/train_loss</td><td>▁</td></tr><tr><td>train/train_runtime</td><td>▁</td></tr><tr><td>train/train_samples_per_second</td><td>▁</td></tr><tr><td>train/train_steps_per_second</td><td>▁</td></tr></table><br/></div><div class=\"wandb-col\"><h3>Run summary:</h3><br/><table class=\"wandb\"><tr><td>eval/accuracy</td><td>0.72857</td></tr><tr><td>eval/f1</td><td>0.69627</td></tr><tr><td>eval/loss</td><td>0.66179</td></tr><tr><td>eval/precision</td><td>0.69584</td></tr><tr><td>eval/recall</td><td>0.7013</td></tr><tr><td>eval/runtime</td><td>9.1834</td></tr><tr><td>eval/samples_per_second</td><td>15.245</td></tr><tr><td>eval/steps_per_second</td><td>1.96</td></tr><tr><td>train/epoch</td><td>4.0</td></tr><tr><td>train/global_step</td><td>32</td></tr><tr><td>train/total_flos</td><td>294687027855360.0</td></tr><tr><td>train/train_loss</td><td>0.63318</td></tr><tr><td>train/train_runtime</td><td>603.3057</td></tr><tr><td>train/train_samples_per_second</td><td>3.713</td></tr><tr><td>train/train_steps_per_second</td><td>0.053</td></tr></table><br/></div></div>"
      ],
      "text/plain": [
       "<IPython.core.display.HTML object>"
      ]
     },
     "metadata": {},
     "output_type": "display_data"
    },
    {
     "data": {
      "text/html": [
       " View run <strong style=\"color:#cdcd00\">daily-lion-427</strong> at: <a href='https://wandb.ai/ericat/huggingface/runs/vzsy6469' target=\"_blank\">https://wandb.ai/ericat/huggingface/runs/vzsy6469</a><br/>Synced 5 W&B file(s), 0 media file(s), 0 artifact file(s) and 0 other file(s)"
      ],
      "text/plain": [
       "<IPython.core.display.HTML object>"
      ]
     },
     "metadata": {},
     "output_type": "display_data"
    },
    {
     "data": {
      "text/html": [
       "Find logs at: <code>.\\wandb\\run-20231205_174346-vzsy6469\\logs</code>"
      ],
      "text/plain": [
       "<IPython.core.display.HTML object>"
      ]
     },
     "metadata": {},
     "output_type": "display_data"
    },
    {
     "data": {
      "application/vnd.jupyter.widget-view+json": {
       "model_id": "c7d6815082ed4f85bc64176341ccbaec",
       "version_major": 2,
       "version_minor": 0
      },
      "text/plain": [
       "VBox(children=(Label(value='Waiting for wandb.init()...\\r'), FloatProgress(value=0.011288888888884685, max=1.0…"
      ]
     },
     "metadata": {},
     "output_type": "display_data"
    },
    {
     "data": {
      "text/html": [
       "Tracking run with wandb version 0.16.0"
      ],
      "text/plain": [
       "<IPython.core.display.HTML object>"
      ]
     },
     "metadata": {},
     "output_type": "display_data"
    },
    {
     "data": {
      "text/html": [
       "Run data is saved locally in <code>D:\\Projects\\Jupyter\\Sentiment analysis\\04DEC\\wandb\\run-20231205_175403-o9hmsef7</code>"
      ],
      "text/plain": [
       "<IPython.core.display.HTML object>"
      ]
     },
     "metadata": {},
     "output_type": "display_data"
    },
    {
     "data": {
      "text/html": [
       "Syncing run <strong><a href='https://wandb.ai/ericat/huggingface/runs/o9hmsef7' target=\"_blank\">efficient-oath-428</a></strong> to <a href='https://wandb.ai/ericat/huggingface' target=\"_blank\">Weights & Biases</a> (<a href='https://wandb.me/run' target=\"_blank\">docs</a>)<br/>"
      ],
      "text/plain": [
       "<IPython.core.display.HTML object>"
      ]
     },
     "metadata": {},
     "output_type": "display_data"
    },
    {
     "data": {
      "text/html": [
       " View project at <a href='https://wandb.ai/ericat/huggingface' target=\"_blank\">https://wandb.ai/ericat/huggingface</a>"
      ],
      "text/plain": [
       "<IPython.core.display.HTML object>"
      ]
     },
     "metadata": {},
     "output_type": "display_data"
    },
    {
     "data": {
      "text/html": [
       " View run at <a href='https://wandb.ai/ericat/huggingface/runs/o9hmsef7' target=\"_blank\">https://wandb.ai/ericat/huggingface/runs/o9hmsef7</a>"
      ],
      "text/plain": [
       "<IPython.core.display.HTML object>"
      ]
     },
     "metadata": {},
     "output_type": "display_data"
    },
    {
     "name": "stdout",
     "output_type": "stream",
     "text": [
      "{'train_runtime': 46.9924, 'train_samples_per_second': 47.667, 'train_steps_per_second': 2.043, 'train_loss': 0.37686049938201904, 'epoch': 4.0}\n"
     ]
    },
    {
     "name": "stderr",
     "output_type": "stream",
     "text": [
      "[I 2023-12-05 17:54:42,972] Trial 11 finished with value: 2.9241659101401547 and parameters: {'learning_rate': 4.157292446867344e-05, 'num_train_epochs': 4, 'per_device_train_batch_size': 24}. Best is trial 3 with value: 2.9389308481413745.\n"
     ]
    },
    {
     "name": "stdout",
     "output_type": "stream",
     "text": [
      "{'eval_loss': 0.7541744709014893, 'eval_accuracy': 0.7428571428571429, 'eval_f1': 0.7270600744284955, 'eval_precision': 0.7278563914622146, 'eval_recall': 0.7263923013923014, 'eval_runtime': 0.8298, 'eval_samples_per_second': 168.72, 'eval_steps_per_second': 21.693, 'epoch': 4.0}\n"
     ]
    },
    {
     "name": "stderr",
     "output_type": "stream",
     "text": [
      "Some weights of the model checkpoint at cardiffnlp/twitter-roberta-base-sentiment-latest were not used when initializing RobertaForSequenceClassification: ['roberta.pooler.dense.weight', 'roberta.pooler.dense.bias']\n",
      "- This IS expected if you are initializing RobertaForSequenceClassification from the checkpoint of a model trained on another task or with another architecture (e.g. initializing a BertForSequenceClassification model from a BertForPreTraining model).\n",
      "- This IS NOT expected if you are initializing RobertaForSequenceClassification from the checkpoint of a model that you expect to be exactly identical (initializing a BertForSequenceClassification model from a BertForSequenceClassification model).\n"
     ]
    },
    {
     "data": {
      "application/vnd.jupyter.widget-view+json": {
       "model_id": "",
       "version_major": 2,
       "version_minor": 0
      },
      "text/plain": [
       "VBox(children=(Label(value='0.001 MB of 0.001 MB uploaded\\r'), FloatProgress(value=1.0, max=1.0)))"
      ]
     },
     "metadata": {},
     "output_type": "display_data"
    },
    {
     "data": {
      "text/html": [
       "<style>\n",
       "    table.wandb td:nth-child(1) { padding: 0 10px; text-align: left ; width: auto;} td:nth-child(2) {text-align: left ; width: 100%}\n",
       "    .wandb-row { display: flex; flex-direction: row; flex-wrap: wrap; justify-content: flex-start; width: 100% }\n",
       "    .wandb-col { display: flex; flex-direction: column; flex-basis: 100%; flex: 1; padding: 10px; }\n",
       "    </style>\n",
       "<div class=\"wandb-row\"><div class=\"wandb-col\"><h3>Run history:</h3><br/><table class=\"wandb\"><tr><td>eval/accuracy</td><td>▁</td></tr><tr><td>eval/f1</td><td>▁</td></tr><tr><td>eval/loss</td><td>▁</td></tr><tr><td>eval/precision</td><td>▁</td></tr><tr><td>eval/recall</td><td>▁</td></tr><tr><td>eval/runtime</td><td>▁</td></tr><tr><td>eval/samples_per_second</td><td>▁</td></tr><tr><td>eval/steps_per_second</td><td>▁</td></tr><tr><td>train/epoch</td><td>▁▁</td></tr><tr><td>train/global_step</td><td>▁▁</td></tr><tr><td>train/total_flos</td><td>▁</td></tr><tr><td>train/train_loss</td><td>▁</td></tr><tr><td>train/train_runtime</td><td>▁</td></tr><tr><td>train/train_samples_per_second</td><td>▁</td></tr><tr><td>train/train_steps_per_second</td><td>▁</td></tr></table><br/></div><div class=\"wandb-col\"><h3>Run summary:</h3><br/><table class=\"wandb\"><tr><td>eval/accuracy</td><td>0.74286</td></tr><tr><td>eval/f1</td><td>0.72706</td></tr><tr><td>eval/loss</td><td>0.75417</td></tr><tr><td>eval/precision</td><td>0.72786</td></tr><tr><td>eval/recall</td><td>0.72639</td></tr><tr><td>eval/runtime</td><td>0.8298</td></tr><tr><td>eval/samples_per_second</td><td>168.72</td></tr><tr><td>eval/steps_per_second</td><td>21.693</td></tr><tr><td>train/epoch</td><td>4.0</td></tr><tr><td>train/global_step</td><td>96</td></tr><tr><td>train/total_flos</td><td>294687027855360.0</td></tr><tr><td>train/train_loss</td><td>0.37686</td></tr><tr><td>train/train_runtime</td><td>46.9924</td></tr><tr><td>train/train_samples_per_second</td><td>47.667</td></tr><tr><td>train/train_steps_per_second</td><td>2.043</td></tr></table><br/></div></div>"
      ],
      "text/plain": [
       "<IPython.core.display.HTML object>"
      ]
     },
     "metadata": {},
     "output_type": "display_data"
    },
    {
     "data": {
      "text/html": [
       " View run <strong style=\"color:#cdcd00\">efficient-oath-428</strong> at: <a href='https://wandb.ai/ericat/huggingface/runs/o9hmsef7' target=\"_blank\">https://wandb.ai/ericat/huggingface/runs/o9hmsef7</a><br/>Synced 5 W&B file(s), 0 media file(s), 0 artifact file(s) and 0 other file(s)"
      ],
      "text/plain": [
       "<IPython.core.display.HTML object>"
      ]
     },
     "metadata": {},
     "output_type": "display_data"
    },
    {
     "data": {
      "text/html": [
       "Find logs at: <code>.\\wandb\\run-20231205_175403-o9hmsef7\\logs</code>"
      ],
      "text/plain": [
       "<IPython.core.display.HTML object>"
      ]
     },
     "metadata": {},
     "output_type": "display_data"
    },
    {
     "data": {
      "application/vnd.jupyter.widget-view+json": {
       "model_id": "842a09008bb34e09817eebe5604c068a",
       "version_major": 2,
       "version_minor": 0
      },
      "text/plain": [
       "VBox(children=(Label(value='Waiting for wandb.init()...\\r'), FloatProgress(value=0.011111111111111112, max=1.0…"
      ]
     },
     "metadata": {},
     "output_type": "display_data"
    },
    {
     "data": {
      "text/html": [
       "Tracking run with wandb version 0.16.0"
      ],
      "text/plain": [
       "<IPython.core.display.HTML object>"
      ]
     },
     "metadata": {},
     "output_type": "display_data"
    },
    {
     "data": {
      "text/html": [
       "Run data is saved locally in <code>D:\\Projects\\Jupyter\\Sentiment analysis\\04DEC\\wandb\\run-20231205_175451-d5jk57gv</code>"
      ],
      "text/plain": [
       "<IPython.core.display.HTML object>"
      ]
     },
     "metadata": {},
     "output_type": "display_data"
    },
    {
     "data": {
      "text/html": [
       "Syncing run <strong><a href='https://wandb.ai/ericat/huggingface/runs/d5jk57gv' target=\"_blank\">wise-night-429</a></strong> to <a href='https://wandb.ai/ericat/huggingface' target=\"_blank\">Weights & Biases</a> (<a href='https://wandb.me/run' target=\"_blank\">docs</a>)<br/>"
      ],
      "text/plain": [
       "<IPython.core.display.HTML object>"
      ]
     },
     "metadata": {},
     "output_type": "display_data"
    },
    {
     "data": {
      "text/html": [
       " View project at <a href='https://wandb.ai/ericat/huggingface' target=\"_blank\">https://wandb.ai/ericat/huggingface</a>"
      ],
      "text/plain": [
       "<IPython.core.display.HTML object>"
      ]
     },
     "metadata": {},
     "output_type": "display_data"
    },
    {
     "data": {
      "text/html": [
       " View run at <a href='https://wandb.ai/ericat/huggingface/runs/d5jk57gv' target=\"_blank\">https://wandb.ai/ericat/huggingface/runs/d5jk57gv</a>"
      ],
      "text/plain": [
       "<IPython.core.display.HTML object>"
      ]
     },
     "metadata": {},
     "output_type": "display_data"
    },
    {
     "name": "stdout",
     "output_type": "stream",
     "text": [
      "{'train_runtime': 139.4927, 'train_samples_per_second': 16.058, 'train_steps_per_second': 0.459, 'train_loss': 0.46445101499557495, 'epoch': 4.0}\n"
     ]
    },
    {
     "name": "stderr",
     "output_type": "stream",
     "text": [
      "[I 2023-12-05 17:57:04,804] Trial 12 finished with value: 2.910443068775553 and parameters: {'learning_rate': 1.7207828702111863e-05, 'num_train_epochs': 4, 'per_device_train_batch_size': 36}. Best is trial 3 with value: 2.9389308481413745.\n"
     ]
    },
    {
     "name": "stdout",
     "output_type": "stream",
     "text": [
      "{'eval_loss': 0.6726621389389038, 'eval_accuracy': 0.7428571428571429, 'eval_f1': 0.7220917221614945, 'eval_precision': 0.7247018204645324, 'eval_recall': 0.7207923832923834, 'eval_runtime': 0.8148, 'eval_samples_per_second': 171.817, 'eval_steps_per_second': 22.091, 'epoch': 4.0}\n"
     ]
    },
    {
     "name": "stderr",
     "output_type": "stream",
     "text": [
      "Some weights of the model checkpoint at cardiffnlp/twitter-roberta-base-sentiment-latest were not used when initializing RobertaForSequenceClassification: ['roberta.pooler.dense.weight', 'roberta.pooler.dense.bias']\n",
      "- This IS expected if you are initializing RobertaForSequenceClassification from the checkpoint of a model trained on another task or with another architecture (e.g. initializing a BertForSequenceClassification model from a BertForPreTraining model).\n",
      "- This IS NOT expected if you are initializing RobertaForSequenceClassification from the checkpoint of a model that you expect to be exactly identical (initializing a BertForSequenceClassification model from a BertForSequenceClassification model).\n"
     ]
    },
    {
     "data": {
      "application/vnd.jupyter.widget-view+json": {
       "model_id": "",
       "version_major": 2,
       "version_minor": 0
      },
      "text/plain": [
       "VBox(children=(Label(value='0.001 MB of 0.001 MB uploaded\\r'), FloatProgress(value=1.0, max=1.0)))"
      ]
     },
     "metadata": {},
     "output_type": "display_data"
    },
    {
     "data": {
      "text/html": [
       "<style>\n",
       "    table.wandb td:nth-child(1) { padding: 0 10px; text-align: left ; width: auto;} td:nth-child(2) {text-align: left ; width: 100%}\n",
       "    .wandb-row { display: flex; flex-direction: row; flex-wrap: wrap; justify-content: flex-start; width: 100% }\n",
       "    .wandb-col { display: flex; flex-direction: column; flex-basis: 100%; flex: 1; padding: 10px; }\n",
       "    </style>\n",
       "<div class=\"wandb-row\"><div class=\"wandb-col\"><h3>Run history:</h3><br/><table class=\"wandb\"><tr><td>eval/accuracy</td><td>▁</td></tr><tr><td>eval/f1</td><td>▁</td></tr><tr><td>eval/loss</td><td>▁</td></tr><tr><td>eval/precision</td><td>▁</td></tr><tr><td>eval/recall</td><td>▁</td></tr><tr><td>eval/runtime</td><td>▁</td></tr><tr><td>eval/samples_per_second</td><td>▁</td></tr><tr><td>eval/steps_per_second</td><td>▁</td></tr><tr><td>train/epoch</td><td>▁▁</td></tr><tr><td>train/global_step</td><td>▁▁</td></tr><tr><td>train/total_flos</td><td>▁</td></tr><tr><td>train/train_loss</td><td>▁</td></tr><tr><td>train/train_runtime</td><td>▁</td></tr><tr><td>train/train_samples_per_second</td><td>▁</td></tr><tr><td>train/train_steps_per_second</td><td>▁</td></tr></table><br/></div><div class=\"wandb-col\"><h3>Run summary:</h3><br/><table class=\"wandb\"><tr><td>eval/accuracy</td><td>0.74286</td></tr><tr><td>eval/f1</td><td>0.72209</td></tr><tr><td>eval/loss</td><td>0.67266</td></tr><tr><td>eval/precision</td><td>0.7247</td></tr><tr><td>eval/recall</td><td>0.72079</td></tr><tr><td>eval/runtime</td><td>0.8148</td></tr><tr><td>eval/samples_per_second</td><td>171.817</td></tr><tr><td>eval/steps_per_second</td><td>22.091</td></tr><tr><td>train/epoch</td><td>4.0</td></tr><tr><td>train/global_step</td><td>64</td></tr><tr><td>train/total_flos</td><td>294687027855360.0</td></tr><tr><td>train/train_loss</td><td>0.46445</td></tr><tr><td>train/train_runtime</td><td>139.4927</td></tr><tr><td>train/train_samples_per_second</td><td>16.058</td></tr><tr><td>train/train_steps_per_second</td><td>0.459</td></tr></table><br/></div></div>"
      ],
      "text/plain": [
       "<IPython.core.display.HTML object>"
      ]
     },
     "metadata": {},
     "output_type": "display_data"
    },
    {
     "data": {
      "text/html": [
       " View run <strong style=\"color:#cdcd00\">wise-night-429</strong> at: <a href='https://wandb.ai/ericat/huggingface/runs/d5jk57gv' target=\"_blank\">https://wandb.ai/ericat/huggingface/runs/d5jk57gv</a><br/>Synced 5 W&B file(s), 0 media file(s), 0 artifact file(s) and 0 other file(s)"
      ],
      "text/plain": [
       "<IPython.core.display.HTML object>"
      ]
     },
     "metadata": {},
     "output_type": "display_data"
    },
    {
     "data": {
      "text/html": [
       "Find logs at: <code>.\\wandb\\run-20231205_175451-d5jk57gv\\logs</code>"
      ],
      "text/plain": [
       "<IPython.core.display.HTML object>"
      ]
     },
     "metadata": {},
     "output_type": "display_data"
    },
    {
     "data": {
      "application/vnd.jupyter.widget-view+json": {
       "model_id": "42b9b008634248a492d9e742a3253496",
       "version_major": 2,
       "version_minor": 0
      },
      "text/plain": [
       "VBox(children=(Label(value='Waiting for wandb.init()...\\r'), FloatProgress(value=0.011111111111111112, max=1.0…"
      ]
     },
     "metadata": {},
     "output_type": "display_data"
    },
    {
     "data": {
      "text/html": [
       "Tracking run with wandb version 0.16.0"
      ],
      "text/plain": [
       "<IPython.core.display.HTML object>"
      ]
     },
     "metadata": {},
     "output_type": "display_data"
    },
    {
     "data": {
      "text/html": [
       "Run data is saved locally in <code>D:\\Projects\\Jupyter\\Sentiment analysis\\04DEC\\wandb\\run-20231205_175712-94htycdw</code>"
      ],
      "text/plain": [
       "<IPython.core.display.HTML object>"
      ]
     },
     "metadata": {},
     "output_type": "display_data"
    },
    {
     "data": {
      "text/html": [
       "Syncing run <strong><a href='https://wandb.ai/ericat/huggingface/runs/94htycdw' target=\"_blank\">gentle-elevator-430</a></strong> to <a href='https://wandb.ai/ericat/huggingface' target=\"_blank\">Weights & Biases</a> (<a href='https://wandb.me/run' target=\"_blank\">docs</a>)<br/>"
      ],
      "text/plain": [
       "<IPython.core.display.HTML object>"
      ]
     },
     "metadata": {},
     "output_type": "display_data"
    },
    {
     "data": {
      "text/html": [
       " View project at <a href='https://wandb.ai/ericat/huggingface' target=\"_blank\">https://wandb.ai/ericat/huggingface</a>"
      ],
      "text/plain": [
       "<IPython.core.display.HTML object>"
      ]
     },
     "metadata": {},
     "output_type": "display_data"
    },
    {
     "data": {
      "text/html": [
       " View run at <a href='https://wandb.ai/ericat/huggingface/runs/94htycdw' target=\"_blank\">https://wandb.ai/ericat/huggingface/runs/94htycdw</a>"
      ],
      "text/plain": [
       "<IPython.core.display.HTML object>"
      ]
     },
     "metadata": {},
     "output_type": "display_data"
    },
    {
     "name": "stdout",
     "output_type": "stream",
     "text": [
      "{'train_runtime': 56.5323, 'train_samples_per_second': 49.529, 'train_steps_per_second': 3.096, 'train_loss': 0.3559847586495536, 'epoch': 5.0}\n"
     ]
    },
    {
     "name": "stderr",
     "output_type": "stream",
     "text": [
      "[I 2023-12-05 17:58:03,721] Trial 13 finished with value: 2.9754488039006897 and parameters: {'learning_rate': 8.07765950175059e-05, 'num_train_epochs': 5, 'per_device_train_batch_size': 16}. Best is trial 13 with value: 2.9754488039006897.\n"
     ]
    },
    {
     "name": "stdout",
     "output_type": "stream",
     "text": [
      "{'eval_loss': 1.241179347038269, 'eval_accuracy': 0.75, 'eval_f1': 0.7412525326109227, 'eval_precision': 0.7437819933754893, 'eval_recall': 0.7404142779142778, 'eval_runtime': 0.8218, 'eval_samples_per_second': 170.357, 'eval_steps_per_second': 21.903, 'epoch': 5.0}\n"
     ]
    },
    {
     "name": "stderr",
     "output_type": "stream",
     "text": [
      "Some weights of the model checkpoint at cardiffnlp/twitter-roberta-base-sentiment-latest were not used when initializing RobertaForSequenceClassification: ['roberta.pooler.dense.weight', 'roberta.pooler.dense.bias']\n",
      "- This IS expected if you are initializing RobertaForSequenceClassification from the checkpoint of a model trained on another task or with another architecture (e.g. initializing a BertForSequenceClassification model from a BertForPreTraining model).\n",
      "- This IS NOT expected if you are initializing RobertaForSequenceClassification from the checkpoint of a model that you expect to be exactly identical (initializing a BertForSequenceClassification model from a BertForSequenceClassification model).\n"
     ]
    },
    {
     "data": {
      "application/vnd.jupyter.widget-view+json": {
       "model_id": "",
       "version_major": 2,
       "version_minor": 0
      },
      "text/plain": [
       "VBox(children=(Label(value='0.001 MB of 0.001 MB uploaded\\r'), FloatProgress(value=1.0, max=1.0)))"
      ]
     },
     "metadata": {},
     "output_type": "display_data"
    },
    {
     "data": {
      "text/html": [
       "<style>\n",
       "    table.wandb td:nth-child(1) { padding: 0 10px; text-align: left ; width: auto;} td:nth-child(2) {text-align: left ; width: 100%}\n",
       "    .wandb-row { display: flex; flex-direction: row; flex-wrap: wrap; justify-content: flex-start; width: 100% }\n",
       "    .wandb-col { display: flex; flex-direction: column; flex-basis: 100%; flex: 1; padding: 10px; }\n",
       "    </style>\n",
       "<div class=\"wandb-row\"><div class=\"wandb-col\"><h3>Run history:</h3><br/><table class=\"wandb\"><tr><td>eval/accuracy</td><td>▁</td></tr><tr><td>eval/f1</td><td>▁</td></tr><tr><td>eval/loss</td><td>▁</td></tr><tr><td>eval/precision</td><td>▁</td></tr><tr><td>eval/recall</td><td>▁</td></tr><tr><td>eval/runtime</td><td>▁</td></tr><tr><td>eval/samples_per_second</td><td>▁</td></tr><tr><td>eval/steps_per_second</td><td>▁</td></tr><tr><td>train/epoch</td><td>▁▁</td></tr><tr><td>train/global_step</td><td>▁▁</td></tr><tr><td>train/total_flos</td><td>▁</td></tr><tr><td>train/train_loss</td><td>▁</td></tr><tr><td>train/train_runtime</td><td>▁</td></tr><tr><td>train/train_samples_per_second</td><td>▁</td></tr><tr><td>train/train_steps_per_second</td><td>▁</td></tr></table><br/></div><div class=\"wandb-col\"><h3>Run summary:</h3><br/><table class=\"wandb\"><tr><td>eval/accuracy</td><td>0.75</td></tr><tr><td>eval/f1</td><td>0.74125</td></tr><tr><td>eval/loss</td><td>1.24118</td></tr><tr><td>eval/precision</td><td>0.74378</td></tr><tr><td>eval/recall</td><td>0.74041</td></tr><tr><td>eval/runtime</td><td>0.8218</td></tr><tr><td>eval/samples_per_second</td><td>170.357</td></tr><tr><td>eval/steps_per_second</td><td>21.903</td></tr><tr><td>train/epoch</td><td>5.0</td></tr><tr><td>train/global_step</td><td>175</td></tr><tr><td>train/total_flos</td><td>368358784819200.0</td></tr><tr><td>train/train_loss</td><td>0.35598</td></tr><tr><td>train/train_runtime</td><td>56.5323</td></tr><tr><td>train/train_samples_per_second</td><td>49.529</td></tr><tr><td>train/train_steps_per_second</td><td>3.096</td></tr></table><br/></div></div>"
      ],
      "text/plain": [
       "<IPython.core.display.HTML object>"
      ]
     },
     "metadata": {},
     "output_type": "display_data"
    },
    {
     "data": {
      "text/html": [
       " View run <strong style=\"color:#cdcd00\">gentle-elevator-430</strong> at: <a href='https://wandb.ai/ericat/huggingface/runs/94htycdw' target=\"_blank\">https://wandb.ai/ericat/huggingface/runs/94htycdw</a><br/>Synced 5 W&B file(s), 0 media file(s), 0 artifact file(s) and 0 other file(s)"
      ],
      "text/plain": [
       "<IPython.core.display.HTML object>"
      ]
     },
     "metadata": {},
     "output_type": "display_data"
    },
    {
     "data": {
      "text/html": [
       "Find logs at: <code>.\\wandb\\run-20231205_175712-94htycdw\\logs</code>"
      ],
      "text/plain": [
       "<IPython.core.display.HTML object>"
      ]
     },
     "metadata": {},
     "output_type": "display_data"
    },
    {
     "data": {
      "application/vnd.jupyter.widget-view+json": {
       "model_id": "7b47c62b0bd44ee7a6f7948c568c3569",
       "version_major": 2,
       "version_minor": 0
      },
      "text/plain": [
       "VBox(children=(Label(value='Waiting for wandb.init()...\\r'), FloatProgress(value=0.011111111111111112, max=1.0…"
      ]
     },
     "metadata": {},
     "output_type": "display_data"
    },
    {
     "data": {
      "text/html": [
       "Tracking run with wandb version 0.16.0"
      ],
      "text/plain": [
       "<IPython.core.display.HTML object>"
      ]
     },
     "metadata": {},
     "output_type": "display_data"
    },
    {
     "data": {
      "text/html": [
       "Run data is saved locally in <code>D:\\Projects\\Jupyter\\Sentiment analysis\\04DEC\\wandb\\run-20231205_175811-3cuxszzm</code>"
      ],
      "text/plain": [
       "<IPython.core.display.HTML object>"
      ]
     },
     "metadata": {},
     "output_type": "display_data"
    },
    {
     "data": {
      "text/html": [
       "Syncing run <strong><a href='https://wandb.ai/ericat/huggingface/runs/3cuxszzm' target=\"_blank\">major-yogurt-431</a></strong> to <a href='https://wandb.ai/ericat/huggingface' target=\"_blank\">Weights & Biases</a> (<a href='https://wandb.me/run' target=\"_blank\">docs</a>)<br/>"
      ],
      "text/plain": [
       "<IPython.core.display.HTML object>"
      ]
     },
     "metadata": {},
     "output_type": "display_data"
    },
    {
     "data": {
      "text/html": [
       " View project at <a href='https://wandb.ai/ericat/huggingface' target=\"_blank\">https://wandb.ai/ericat/huggingface</a>"
      ],
      "text/plain": [
       "<IPython.core.display.HTML object>"
      ]
     },
     "metadata": {},
     "output_type": "display_data"
    },
    {
     "data": {
      "text/html": [
       " View run at <a href='https://wandb.ai/ericat/huggingface/runs/3cuxszzm' target=\"_blank\">https://wandb.ai/ericat/huggingface/runs/3cuxszzm</a>"
      ],
      "text/plain": [
       "<IPython.core.display.HTML object>"
      ]
     },
     "metadata": {},
     "output_type": "display_data"
    },
    {
     "name": "stdout",
     "output_type": "stream",
     "text": [
      "{'train_runtime': 47.2544, 'train_samples_per_second': 47.403, 'train_steps_per_second': 2.963, 'train_loss': 1.1186636788504465, 'epoch': 4.0}\n"
     ]
    },
    {
     "name": "stderr",
     "output_type": "stream",
     "text": [
      "D:\\Software\\Anaconda3\\envs\\validation\\Lib\\site-packages\\sklearn\\metrics\\_classification.py:1469: UndefinedMetricWarning: Precision and F-score are ill-defined and being set to 0.0 in labels with no predicted samples. Use `zero_division` parameter to control this behavior.\n",
      "  _warn_prf(average, modifier, msg_start, len(result))\n",
      "[I 2023-12-05 17:58:53,304] Trial 14 finished with value: 1.045177045177045 and parameters: {'learning_rate': 0.00012437987746934554, 'num_train_epochs': 4, 'per_device_train_batch_size': 16}. Best is trial 13 with value: 2.9754488039006897.\n"
     ]
    },
    {
     "name": "stdout",
     "output_type": "stream",
     "text": [
      "{'eval_loss': 1.0870273113250732, 'eval_accuracy': 0.39285714285714285, 'eval_f1': 0.18803418803418803, 'eval_precision': 0.13095238095238096, 'eval_recall': 0.3333333333333333, 'eval_runtime': 0.8218, 'eval_samples_per_second': 170.355, 'eval_steps_per_second': 21.903, 'epoch': 4.0}\n"
     ]
    },
    {
     "name": "stderr",
     "output_type": "stream",
     "text": [
      "Some weights of the model checkpoint at cardiffnlp/twitter-roberta-base-sentiment-latest were not used when initializing RobertaForSequenceClassification: ['roberta.pooler.dense.weight', 'roberta.pooler.dense.bias']\n",
      "- This IS expected if you are initializing RobertaForSequenceClassification from the checkpoint of a model trained on another task or with another architecture (e.g. initializing a BertForSequenceClassification model from a BertForPreTraining model).\n",
      "- This IS NOT expected if you are initializing RobertaForSequenceClassification from the checkpoint of a model that you expect to be exactly identical (initializing a BertForSequenceClassification model from a BertForSequenceClassification model).\n"
     ]
    },
    {
     "data": {
      "application/vnd.jupyter.widget-view+json": {
       "model_id": "",
       "version_major": 2,
       "version_minor": 0
      },
      "text/plain": [
       "VBox(children=(Label(value='0.001 MB of 0.001 MB uploaded\\r'), FloatProgress(value=1.0, max=1.0)))"
      ]
     },
     "metadata": {},
     "output_type": "display_data"
    },
    {
     "data": {
      "text/html": [
       "<style>\n",
       "    table.wandb td:nth-child(1) { padding: 0 10px; text-align: left ; width: auto;} td:nth-child(2) {text-align: left ; width: 100%}\n",
       "    .wandb-row { display: flex; flex-direction: row; flex-wrap: wrap; justify-content: flex-start; width: 100% }\n",
       "    .wandb-col { display: flex; flex-direction: column; flex-basis: 100%; flex: 1; padding: 10px; }\n",
       "    </style>\n",
       "<div class=\"wandb-row\"><div class=\"wandb-col\"><h3>Run history:</h3><br/><table class=\"wandb\"><tr><td>eval/accuracy</td><td>▁</td></tr><tr><td>eval/f1</td><td>▁</td></tr><tr><td>eval/loss</td><td>▁</td></tr><tr><td>eval/precision</td><td>▁</td></tr><tr><td>eval/recall</td><td>▁</td></tr><tr><td>eval/runtime</td><td>▁</td></tr><tr><td>eval/samples_per_second</td><td>▁</td></tr><tr><td>eval/steps_per_second</td><td>▁</td></tr><tr><td>train/epoch</td><td>▁▁</td></tr><tr><td>train/global_step</td><td>▁▁</td></tr><tr><td>train/total_flos</td><td>▁</td></tr><tr><td>train/train_loss</td><td>▁</td></tr><tr><td>train/train_runtime</td><td>▁</td></tr><tr><td>train/train_samples_per_second</td><td>▁</td></tr><tr><td>train/train_steps_per_second</td><td>▁</td></tr></table><br/></div><div class=\"wandb-col\"><h3>Run summary:</h3><br/><table class=\"wandb\"><tr><td>eval/accuracy</td><td>0.39286</td></tr><tr><td>eval/f1</td><td>0.18803</td></tr><tr><td>eval/loss</td><td>1.08703</td></tr><tr><td>eval/precision</td><td>0.13095</td></tr><tr><td>eval/recall</td><td>0.33333</td></tr><tr><td>eval/runtime</td><td>0.8218</td></tr><tr><td>eval/samples_per_second</td><td>170.355</td></tr><tr><td>eval/steps_per_second</td><td>21.903</td></tr><tr><td>train/epoch</td><td>4.0</td></tr><tr><td>train/global_step</td><td>140</td></tr><tr><td>train/total_flos</td><td>294687027855360.0</td></tr><tr><td>train/train_loss</td><td>1.11866</td></tr><tr><td>train/train_runtime</td><td>47.2544</td></tr><tr><td>train/train_samples_per_second</td><td>47.403</td></tr><tr><td>train/train_steps_per_second</td><td>2.963</td></tr></table><br/></div></div>"
      ],
      "text/plain": [
       "<IPython.core.display.HTML object>"
      ]
     },
     "metadata": {},
     "output_type": "display_data"
    },
    {
     "data": {
      "text/html": [
       " View run <strong style=\"color:#cdcd00\">major-yogurt-431</strong> at: <a href='https://wandb.ai/ericat/huggingface/runs/3cuxszzm' target=\"_blank\">https://wandb.ai/ericat/huggingface/runs/3cuxszzm</a><br/>Synced 5 W&B file(s), 0 media file(s), 0 artifact file(s) and 0 other file(s)"
      ],
      "text/plain": [
       "<IPython.core.display.HTML object>"
      ]
     },
     "metadata": {},
     "output_type": "display_data"
    },
    {
     "data": {
      "text/html": [
       "Find logs at: <code>.\\wandb\\run-20231205_175811-3cuxszzm\\logs</code>"
      ],
      "text/plain": [
       "<IPython.core.display.HTML object>"
      ]
     },
     "metadata": {},
     "output_type": "display_data"
    },
    {
     "data": {
      "application/vnd.jupyter.widget-view+json": {
       "model_id": "ef9ada1ba95b4738bf2c36dc07720b0c",
       "version_major": 2,
       "version_minor": 0
      },
      "text/plain": [
       "VBox(children=(Label(value='Waiting for wandb.init()...\\r'), FloatProgress(value=0.011288888888884685, max=1.0…"
      ]
     },
     "metadata": {},
     "output_type": "display_data"
    },
    {
     "data": {
      "text/html": [
       "Tracking run with wandb version 0.16.0"
      ],
      "text/plain": [
       "<IPython.core.display.HTML object>"
      ]
     },
     "metadata": {},
     "output_type": "display_data"
    },
    {
     "data": {
      "text/html": [
       "Run data is saved locally in <code>D:\\Projects\\Jupyter\\Sentiment analysis\\04DEC\\wandb\\run-20231205_175901-qcxc7h7h</code>"
      ],
      "text/plain": [
       "<IPython.core.display.HTML object>"
      ]
     },
     "metadata": {},
     "output_type": "display_data"
    },
    {
     "data": {
      "text/html": [
       "Syncing run <strong><a href='https://wandb.ai/ericat/huggingface/runs/qcxc7h7h' target=\"_blank\">treasured-silence-432</a></strong> to <a href='https://wandb.ai/ericat/huggingface' target=\"_blank\">Weights & Biases</a> (<a href='https://wandb.me/run' target=\"_blank\">docs</a>)<br/>"
      ],
      "text/plain": [
       "<IPython.core.display.HTML object>"
      ]
     },
     "metadata": {},
     "output_type": "display_data"
    },
    {
     "data": {
      "text/html": [
       " View project at <a href='https://wandb.ai/ericat/huggingface' target=\"_blank\">https://wandb.ai/ericat/huggingface</a>"
      ],
      "text/plain": [
       "<IPython.core.display.HTML object>"
      ]
     },
     "metadata": {},
     "output_type": "display_data"
    },
    {
     "data": {
      "text/html": [
       " View run at <a href='https://wandb.ai/ericat/huggingface/runs/qcxc7h7h' target=\"_blank\">https://wandb.ai/ericat/huggingface/runs/qcxc7h7h</a>"
      ],
      "text/plain": [
       "<IPython.core.display.HTML object>"
      ]
     },
     "metadata": {},
     "output_type": "display_data"
    },
    {
     "name": "stdout",
     "output_type": "stream",
     "text": [
      "{'train_runtime': 28.0435, 'train_samples_per_second': 39.938, 'train_steps_per_second': 2.496, 'train_loss': 0.7942094530378069, 'epoch': 2.0}\n"
     ]
    },
    {
     "name": "stderr",
     "output_type": "stream",
     "text": [
      "[I 2023-12-05 17:59:23,681] Trial 15 finished with value: 2.984771526558006 and parameters: {'learning_rate': 9.359061927977144e-05, 'num_train_epochs': 2, 'per_device_train_batch_size': 16}. Best is trial 15 with value: 2.984771526558006.\n"
     ]
    },
    {
     "name": "stdout",
     "output_type": "stream",
     "text": [
      "{'eval_loss': 0.665378987789154, 'eval_accuracy': 0.7571428571428571, 'eval_f1': 0.7424215705066769, 'eval_precision': 0.7434482946496677, 'eval_recall': 0.7417588042588044, 'eval_runtime': 0.8418, 'eval_samples_per_second': 166.317, 'eval_steps_per_second': 21.384, 'epoch': 2.0}\n"
     ]
    },
    {
     "name": "stderr",
     "output_type": "stream",
     "text": [
      "Some weights of the model checkpoint at cardiffnlp/twitter-roberta-base-sentiment-latest were not used when initializing RobertaForSequenceClassification: ['roberta.pooler.dense.weight', 'roberta.pooler.dense.bias']\n",
      "- This IS expected if you are initializing RobertaForSequenceClassification from the checkpoint of a model trained on another task or with another architecture (e.g. initializing a BertForSequenceClassification model from a BertForPreTraining model).\n",
      "- This IS NOT expected if you are initializing RobertaForSequenceClassification from the checkpoint of a model that you expect to be exactly identical (initializing a BertForSequenceClassification model from a BertForSequenceClassification model).\n"
     ]
    },
    {
     "data": {
      "application/vnd.jupyter.widget-view+json": {
       "model_id": "",
       "version_major": 2,
       "version_minor": 0
      },
      "text/plain": [
       "VBox(children=(Label(value='0.001 MB of 0.001 MB uploaded\\r'), FloatProgress(value=1.0, max=1.0)))"
      ]
     },
     "metadata": {},
     "output_type": "display_data"
    },
    {
     "data": {
      "text/html": [
       "<style>\n",
       "    table.wandb td:nth-child(1) { padding: 0 10px; text-align: left ; width: auto;} td:nth-child(2) {text-align: left ; width: 100%}\n",
       "    .wandb-row { display: flex; flex-direction: row; flex-wrap: wrap; justify-content: flex-start; width: 100% }\n",
       "    .wandb-col { display: flex; flex-direction: column; flex-basis: 100%; flex: 1; padding: 10px; }\n",
       "    </style>\n",
       "<div class=\"wandb-row\"><div class=\"wandb-col\"><h3>Run history:</h3><br/><table class=\"wandb\"><tr><td>eval/accuracy</td><td>▁</td></tr><tr><td>eval/f1</td><td>▁</td></tr><tr><td>eval/loss</td><td>▁</td></tr><tr><td>eval/precision</td><td>▁</td></tr><tr><td>eval/recall</td><td>▁</td></tr><tr><td>eval/runtime</td><td>▁</td></tr><tr><td>eval/samples_per_second</td><td>▁</td></tr><tr><td>eval/steps_per_second</td><td>▁</td></tr><tr><td>train/epoch</td><td>▁▁</td></tr><tr><td>train/global_step</td><td>▁▁</td></tr><tr><td>train/total_flos</td><td>▁</td></tr><tr><td>train/train_loss</td><td>▁</td></tr><tr><td>train/train_runtime</td><td>▁</td></tr><tr><td>train/train_samples_per_second</td><td>▁</td></tr><tr><td>train/train_steps_per_second</td><td>▁</td></tr></table><br/></div><div class=\"wandb-col\"><h3>Run summary:</h3><br/><table class=\"wandb\"><tr><td>eval/accuracy</td><td>0.75714</td></tr><tr><td>eval/f1</td><td>0.74242</td></tr><tr><td>eval/loss</td><td>0.66538</td></tr><tr><td>eval/precision</td><td>0.74345</td></tr><tr><td>eval/recall</td><td>0.74176</td></tr><tr><td>eval/runtime</td><td>0.8418</td></tr><tr><td>eval/samples_per_second</td><td>166.317</td></tr><tr><td>eval/steps_per_second</td><td>21.384</td></tr><tr><td>train/epoch</td><td>2.0</td></tr><tr><td>train/global_step</td><td>70</td></tr><tr><td>train/total_flos</td><td>147343513927680.0</td></tr><tr><td>train/train_loss</td><td>0.79421</td></tr><tr><td>train/train_runtime</td><td>28.0435</td></tr><tr><td>train/train_samples_per_second</td><td>39.938</td></tr><tr><td>train/train_steps_per_second</td><td>2.496</td></tr></table><br/></div></div>"
      ],
      "text/plain": [
       "<IPython.core.display.HTML object>"
      ]
     },
     "metadata": {},
     "output_type": "display_data"
    },
    {
     "data": {
      "text/html": [
       " View run <strong style=\"color:#cdcd00\">treasured-silence-432</strong> at: <a href='https://wandb.ai/ericat/huggingface/runs/qcxc7h7h' target=\"_blank\">https://wandb.ai/ericat/huggingface/runs/qcxc7h7h</a><br/>Synced 5 W&B file(s), 0 media file(s), 0 artifact file(s) and 0 other file(s)"
      ],
      "text/plain": [
       "<IPython.core.display.HTML object>"
      ]
     },
     "metadata": {},
     "output_type": "display_data"
    },
    {
     "data": {
      "text/html": [
       "Find logs at: <code>.\\wandb\\run-20231205_175901-qcxc7h7h\\logs</code>"
      ],
      "text/plain": [
       "<IPython.core.display.HTML object>"
      ]
     },
     "metadata": {},
     "output_type": "display_data"
    },
    {
     "data": {
      "application/vnd.jupyter.widget-view+json": {
       "model_id": "b5104ebce8734835a95bd0a125cd51aa",
       "version_major": 2,
       "version_minor": 0
      },
      "text/plain": [
       "VBox(children=(Label(value='Waiting for wandb.init()...\\r'), FloatProgress(value=0.011111111111111112, max=1.0…"
      ]
     },
     "metadata": {},
     "output_type": "display_data"
    },
    {
     "data": {
      "text/html": [
       "Tracking run with wandb version 0.16.0"
      ],
      "text/plain": [
       "<IPython.core.display.HTML object>"
      ]
     },
     "metadata": {},
     "output_type": "display_data"
    },
    {
     "data": {
      "text/html": [
       "Run data is saved locally in <code>D:\\Projects\\Jupyter\\Sentiment analysis\\04DEC\\wandb\\run-20231205_175931-qedhbv0r</code>"
      ],
      "text/plain": [
       "<IPython.core.display.HTML object>"
      ]
     },
     "metadata": {},
     "output_type": "display_data"
    },
    {
     "data": {
      "text/html": [
       "Syncing run <strong><a href='https://wandb.ai/ericat/huggingface/runs/qedhbv0r' target=\"_blank\">vague-paper-433</a></strong> to <a href='https://wandb.ai/ericat/huggingface' target=\"_blank\">Weights & Biases</a> (<a href='https://wandb.me/run' target=\"_blank\">docs</a>)<br/>"
      ],
      "text/plain": [
       "<IPython.core.display.HTML object>"
      ]
     },
     "metadata": {},
     "output_type": "display_data"
    },
    {
     "data": {
      "text/html": [
       " View project at <a href='https://wandb.ai/ericat/huggingface' target=\"_blank\">https://wandb.ai/ericat/huggingface</a>"
      ],
      "text/plain": [
       "<IPython.core.display.HTML object>"
      ]
     },
     "metadata": {},
     "output_type": "display_data"
    },
    {
     "data": {
      "text/html": [
       " View run at <a href='https://wandb.ai/ericat/huggingface/runs/qedhbv0r' target=\"_blank\">https://wandb.ai/ericat/huggingface/runs/qedhbv0r</a>"
      ],
      "text/plain": [
       "<IPython.core.display.HTML object>"
      ]
     },
     "metadata": {},
     "output_type": "display_data"
    },
    {
     "name": "stdout",
     "output_type": "stream",
     "text": [
      "{'train_runtime': 27.9481, 'train_samples_per_second': 40.074, 'train_steps_per_second': 2.505, 'train_loss': 1.1767604282924107, 'epoch': 2.0}\n"
     ]
    },
    {
     "name": "stderr",
     "output_type": "stream",
     "text": [
      "D:\\Software\\Anaconda3\\envs\\validation\\Lib\\site-packages\\sklearn\\metrics\\_classification.py:1469: UndefinedMetricWarning: Precision and F-score are ill-defined and being set to 0.0 in labels with no predicted samples. Use `zero_division` parameter to control this behavior.\n",
      "  _warn_prf(average, modifier, msg_start, len(result))\n",
      "[I 2023-12-05 17:59:53,963] Trial 16 finished with value: 1.045177045177045 and parameters: {'learning_rate': 0.0008517294606487425, 'num_train_epochs': 2, 'per_device_train_batch_size': 16}. Best is trial 15 with value: 2.984771526558006.\n"
     ]
    },
    {
     "name": "stdout",
     "output_type": "stream",
     "text": [
      "{'eval_loss': 1.1048073768615723, 'eval_accuracy': 0.39285714285714285, 'eval_f1': 0.18803418803418803, 'eval_precision': 0.13095238095238096, 'eval_recall': 0.3333333333333333, 'eval_runtime': 0.8408, 'eval_samples_per_second': 166.517, 'eval_steps_per_second': 21.409, 'epoch': 2.0}\n"
     ]
    },
    {
     "name": "stderr",
     "output_type": "stream",
     "text": [
      "Some weights of the model checkpoint at cardiffnlp/twitter-roberta-base-sentiment-latest were not used when initializing RobertaForSequenceClassification: ['roberta.pooler.dense.weight', 'roberta.pooler.dense.bias']\n",
      "- This IS expected if you are initializing RobertaForSequenceClassification from the checkpoint of a model trained on another task or with another architecture (e.g. initializing a BertForSequenceClassification model from a BertForPreTraining model).\n",
      "- This IS NOT expected if you are initializing RobertaForSequenceClassification from the checkpoint of a model that you expect to be exactly identical (initializing a BertForSequenceClassification model from a BertForSequenceClassification model).\n"
     ]
    },
    {
     "data": {
      "application/vnd.jupyter.widget-view+json": {
       "model_id": "",
       "version_major": 2,
       "version_minor": 0
      },
      "text/plain": [
       "VBox(children=(Label(value='0.001 MB of 0.001 MB uploaded\\r'), FloatProgress(value=1.0, max=1.0)))"
      ]
     },
     "metadata": {},
     "output_type": "display_data"
    },
    {
     "data": {
      "text/html": [
       "<style>\n",
       "    table.wandb td:nth-child(1) { padding: 0 10px; text-align: left ; width: auto;} td:nth-child(2) {text-align: left ; width: 100%}\n",
       "    .wandb-row { display: flex; flex-direction: row; flex-wrap: wrap; justify-content: flex-start; width: 100% }\n",
       "    .wandb-col { display: flex; flex-direction: column; flex-basis: 100%; flex: 1; padding: 10px; }\n",
       "    </style>\n",
       "<div class=\"wandb-row\"><div class=\"wandb-col\"><h3>Run history:</h3><br/><table class=\"wandb\"><tr><td>eval/accuracy</td><td>▁</td></tr><tr><td>eval/f1</td><td>▁</td></tr><tr><td>eval/loss</td><td>▁</td></tr><tr><td>eval/precision</td><td>▁</td></tr><tr><td>eval/recall</td><td>▁</td></tr><tr><td>eval/runtime</td><td>▁</td></tr><tr><td>eval/samples_per_second</td><td>▁</td></tr><tr><td>eval/steps_per_second</td><td>▁</td></tr><tr><td>train/epoch</td><td>▁▁</td></tr><tr><td>train/global_step</td><td>▁▁</td></tr><tr><td>train/total_flos</td><td>▁</td></tr><tr><td>train/train_loss</td><td>▁</td></tr><tr><td>train/train_runtime</td><td>▁</td></tr><tr><td>train/train_samples_per_second</td><td>▁</td></tr><tr><td>train/train_steps_per_second</td><td>▁</td></tr></table><br/></div><div class=\"wandb-col\"><h3>Run summary:</h3><br/><table class=\"wandb\"><tr><td>eval/accuracy</td><td>0.39286</td></tr><tr><td>eval/f1</td><td>0.18803</td></tr><tr><td>eval/loss</td><td>1.10481</td></tr><tr><td>eval/precision</td><td>0.13095</td></tr><tr><td>eval/recall</td><td>0.33333</td></tr><tr><td>eval/runtime</td><td>0.8408</td></tr><tr><td>eval/samples_per_second</td><td>166.517</td></tr><tr><td>eval/steps_per_second</td><td>21.409</td></tr><tr><td>train/epoch</td><td>2.0</td></tr><tr><td>train/global_step</td><td>70</td></tr><tr><td>train/total_flos</td><td>147343513927680.0</td></tr><tr><td>train/train_loss</td><td>1.17676</td></tr><tr><td>train/train_runtime</td><td>27.9481</td></tr><tr><td>train/train_samples_per_second</td><td>40.074</td></tr><tr><td>train/train_steps_per_second</td><td>2.505</td></tr></table><br/></div></div>"
      ],
      "text/plain": [
       "<IPython.core.display.HTML object>"
      ]
     },
     "metadata": {},
     "output_type": "display_data"
    },
    {
     "data": {
      "text/html": [
       " View run <strong style=\"color:#cdcd00\">vague-paper-433</strong> at: <a href='https://wandb.ai/ericat/huggingface/runs/qedhbv0r' target=\"_blank\">https://wandb.ai/ericat/huggingface/runs/qedhbv0r</a><br/>Synced 5 W&B file(s), 0 media file(s), 0 artifact file(s) and 0 other file(s)"
      ],
      "text/plain": [
       "<IPython.core.display.HTML object>"
      ]
     },
     "metadata": {},
     "output_type": "display_data"
    },
    {
     "data": {
      "text/html": [
       "Find logs at: <code>.\\wandb\\run-20231205_175931-qedhbv0r\\logs</code>"
      ],
      "text/plain": [
       "<IPython.core.display.HTML object>"
      ]
     },
     "metadata": {},
     "output_type": "display_data"
    },
    {
     "data": {
      "application/vnd.jupyter.widget-view+json": {
       "model_id": "6c5c28d9c1804dbd9ad6429fbe81b02d",
       "version_major": 2,
       "version_minor": 0
      },
      "text/plain": [
       "VBox(children=(Label(value='Waiting for wandb.init()...\\r'), FloatProgress(value=0.011111111111111112, max=1.0…"
      ]
     },
     "metadata": {},
     "output_type": "display_data"
    },
    {
     "data": {
      "text/html": [
       "Tracking run with wandb version 0.16.0"
      ],
      "text/plain": [
       "<IPython.core.display.HTML object>"
      ]
     },
     "metadata": {},
     "output_type": "display_data"
    },
    {
     "data": {
      "text/html": [
       "Run data is saved locally in <code>D:\\Projects\\Jupyter\\Sentiment analysis\\04DEC\\wandb\\run-20231205_180001-2vib29u5</code>"
      ],
      "text/plain": [
       "<IPython.core.display.HTML object>"
      ]
     },
     "metadata": {},
     "output_type": "display_data"
    },
    {
     "data": {
      "text/html": [
       "Syncing run <strong><a href='https://wandb.ai/ericat/huggingface/runs/2vib29u5' target=\"_blank\">spring-violet-434</a></strong> to <a href='https://wandb.ai/ericat/huggingface' target=\"_blank\">Weights & Biases</a> (<a href='https://wandb.me/run' target=\"_blank\">docs</a>)<br/>"
      ],
      "text/plain": [
       "<IPython.core.display.HTML object>"
      ]
     },
     "metadata": {},
     "output_type": "display_data"
    },
    {
     "data": {
      "text/html": [
       " View project at <a href='https://wandb.ai/ericat/huggingface' target=\"_blank\">https://wandb.ai/ericat/huggingface</a>"
      ],
      "text/plain": [
       "<IPython.core.display.HTML object>"
      ]
     },
     "metadata": {},
     "output_type": "display_data"
    },
    {
     "data": {
      "text/html": [
       " View run at <a href='https://wandb.ai/ericat/huggingface/runs/2vib29u5' target=\"_blank\">https://wandb.ai/ericat/huggingface/runs/2vib29u5</a>"
      ],
      "text/plain": [
       "<IPython.core.display.HTML object>"
      ]
     },
     "metadata": {},
     "output_type": "display_data"
    },
    {
     "name": "stdout",
     "output_type": "stream",
     "text": [
      "{'train_runtime': 39.5948, 'train_samples_per_second': 28.287, 'train_steps_per_second': 0.909, 'train_loss': 1.0009956359863281, 'epoch': 2.0}\n"
     ]
    },
    {
     "name": "stderr",
     "output_type": "stream",
     "text": [
      "[I 2023-12-05 18:00:35,864] Trial 17 finished with value: 2.287974288714006 and parameters: {'learning_rate': 0.00011100595391795239, 'num_train_epochs': 2, 'per_device_train_batch_size': 32}. Best is trial 15 with value: 2.984771526558006.\n"
     ]
    },
    {
     "name": "stdout",
     "output_type": "stream",
     "text": [
      "{'eval_loss': 0.9110845923423767, 'eval_accuracy': 0.6214285714285714, 'eval_f1': 0.5430170656830128, 'eval_precision': 0.5479280510018215, 'eval_recall': 0.5756006006006006, 'eval_runtime': 0.8198, 'eval_samples_per_second': 170.768, 'eval_steps_per_second': 21.956, 'epoch': 2.0}\n"
     ]
    },
    {
     "name": "stderr",
     "output_type": "stream",
     "text": [
      "Some weights of the model checkpoint at cardiffnlp/twitter-roberta-base-sentiment-latest were not used when initializing RobertaForSequenceClassification: ['roberta.pooler.dense.weight', 'roberta.pooler.dense.bias']\n",
      "- This IS expected if you are initializing RobertaForSequenceClassification from the checkpoint of a model trained on another task or with another architecture (e.g. initializing a BertForSequenceClassification model from a BertForPreTraining model).\n",
      "- This IS NOT expected if you are initializing RobertaForSequenceClassification from the checkpoint of a model that you expect to be exactly identical (initializing a BertForSequenceClassification model from a BertForSequenceClassification model).\n"
     ]
    },
    {
     "data": {
      "application/vnd.jupyter.widget-view+json": {
       "model_id": "",
       "version_major": 2,
       "version_minor": 0
      },
      "text/plain": [
       "VBox(children=(Label(value='0.001 MB of 0.001 MB uploaded\\r'), FloatProgress(value=1.0, max=1.0)))"
      ]
     },
     "metadata": {},
     "output_type": "display_data"
    },
    {
     "data": {
      "text/html": [
       "<style>\n",
       "    table.wandb td:nth-child(1) { padding: 0 10px; text-align: left ; width: auto;} td:nth-child(2) {text-align: left ; width: 100%}\n",
       "    .wandb-row { display: flex; flex-direction: row; flex-wrap: wrap; justify-content: flex-start; width: 100% }\n",
       "    .wandb-col { display: flex; flex-direction: column; flex-basis: 100%; flex: 1; padding: 10px; }\n",
       "    </style>\n",
       "<div class=\"wandb-row\"><div class=\"wandb-col\"><h3>Run history:</h3><br/><table class=\"wandb\"><tr><td>eval/accuracy</td><td>▁</td></tr><tr><td>eval/f1</td><td>▁</td></tr><tr><td>eval/loss</td><td>▁</td></tr><tr><td>eval/precision</td><td>▁</td></tr><tr><td>eval/recall</td><td>▁</td></tr><tr><td>eval/runtime</td><td>▁</td></tr><tr><td>eval/samples_per_second</td><td>▁</td></tr><tr><td>eval/steps_per_second</td><td>▁</td></tr><tr><td>train/epoch</td><td>▁▁</td></tr><tr><td>train/global_step</td><td>▁▁</td></tr><tr><td>train/total_flos</td><td>▁</td></tr><tr><td>train/train_loss</td><td>▁</td></tr><tr><td>train/train_runtime</td><td>▁</td></tr><tr><td>train/train_samples_per_second</td><td>▁</td></tr><tr><td>train/train_steps_per_second</td><td>▁</td></tr></table><br/></div><div class=\"wandb-col\"><h3>Run summary:</h3><br/><table class=\"wandb\"><tr><td>eval/accuracy</td><td>0.62143</td></tr><tr><td>eval/f1</td><td>0.54302</td></tr><tr><td>eval/loss</td><td>0.91108</td></tr><tr><td>eval/precision</td><td>0.54793</td></tr><tr><td>eval/recall</td><td>0.5756</td></tr><tr><td>eval/runtime</td><td>0.8198</td></tr><tr><td>eval/samples_per_second</td><td>170.768</td></tr><tr><td>eval/steps_per_second</td><td>21.956</td></tr><tr><td>train/epoch</td><td>2.0</td></tr><tr><td>train/global_step</td><td>36</td></tr><tr><td>train/total_flos</td><td>147343513927680.0</td></tr><tr><td>train/train_loss</td><td>1.001</td></tr><tr><td>train/train_runtime</td><td>39.5948</td></tr><tr><td>train/train_samples_per_second</td><td>28.287</td></tr><tr><td>train/train_steps_per_second</td><td>0.909</td></tr></table><br/></div></div>"
      ],
      "text/plain": [
       "<IPython.core.display.HTML object>"
      ]
     },
     "metadata": {},
     "output_type": "display_data"
    },
    {
     "data": {
      "text/html": [
       " View run <strong style=\"color:#cdcd00\">spring-violet-434</strong> at: <a href='https://wandb.ai/ericat/huggingface/runs/2vib29u5' target=\"_blank\">https://wandb.ai/ericat/huggingface/runs/2vib29u5</a><br/>Synced 5 W&B file(s), 0 media file(s), 0 artifact file(s) and 0 other file(s)"
      ],
      "text/plain": [
       "<IPython.core.display.HTML object>"
      ]
     },
     "metadata": {},
     "output_type": "display_data"
    },
    {
     "data": {
      "text/html": [
       "Find logs at: <code>.\\wandb\\run-20231205_180001-2vib29u5\\logs</code>"
      ],
      "text/plain": [
       "<IPython.core.display.HTML object>"
      ]
     },
     "metadata": {},
     "output_type": "display_data"
    },
    {
     "data": {
      "application/vnd.jupyter.widget-view+json": {
       "model_id": "ca956d8e2bbd4f2e93579eea3c341ace",
       "version_major": 2,
       "version_minor": 0
      },
      "text/plain": [
       "VBox(children=(Label(value='Waiting for wandb.init()...\\r'), FloatProgress(value=0.01128888888889479, max=1.0)…"
      ]
     },
     "metadata": {},
     "output_type": "display_data"
    },
    {
     "data": {
      "text/html": [
       "Tracking run with wandb version 0.16.0"
      ],
      "text/plain": [
       "<IPython.core.display.HTML object>"
      ]
     },
     "metadata": {},
     "output_type": "display_data"
    },
    {
     "data": {
      "text/html": [
       "Run data is saved locally in <code>D:\\Projects\\Jupyter\\Sentiment analysis\\04DEC\\wandb\\run-20231205_180043-411pcjoq</code>"
      ],
      "text/plain": [
       "<IPython.core.display.HTML object>"
      ]
     },
     "metadata": {},
     "output_type": "display_data"
    },
    {
     "data": {
      "text/html": [
       "Syncing run <strong><a href='https://wandb.ai/ericat/huggingface/runs/411pcjoq' target=\"_blank\">northern-dream-435</a></strong> to <a href='https://wandb.ai/ericat/huggingface' target=\"_blank\">Weights & Biases</a> (<a href='https://wandb.me/run' target=\"_blank\">docs</a>)<br/>"
      ],
      "text/plain": [
       "<IPython.core.display.HTML object>"
      ]
     },
     "metadata": {},
     "output_type": "display_data"
    },
    {
     "data": {
      "text/html": [
       " View project at <a href='https://wandb.ai/ericat/huggingface' target=\"_blank\">https://wandb.ai/ericat/huggingface</a>"
      ],
      "text/plain": [
       "<IPython.core.display.HTML object>"
      ]
     },
     "metadata": {},
     "output_type": "display_data"
    },
    {
     "data": {
      "text/html": [
       " View run at <a href='https://wandb.ai/ericat/huggingface/runs/411pcjoq' target=\"_blank\">https://wandb.ai/ericat/huggingface/runs/411pcjoq</a>"
      ],
      "text/plain": [
       "<IPython.core.display.HTML object>"
      ]
     },
     "metadata": {},
     "output_type": "display_data"
    },
    {
     "name": "stdout",
     "output_type": "stream",
     "text": [
      "{'train_runtime': 28.2108, 'train_samples_per_second': 39.701, 'train_steps_per_second': 2.481, 'train_loss': 1.1343024117606026, 'epoch': 2.0}\n"
     ]
    },
    {
     "name": "stderr",
     "output_type": "stream",
     "text": [
      "D:\\Software\\Anaconda3\\envs\\validation\\Lib\\site-packages\\sklearn\\metrics\\_classification.py:1469: UndefinedMetricWarning: Precision and F-score are ill-defined and being set to 0.0 in labels with no predicted samples. Use `zero_division` parameter to control this behavior.\n",
      "  _warn_prf(average, modifier, msg_start, len(result))\n",
      "[I 2023-12-05 18:01:06,976] Trial 18 finished with value: 1.045177045177045 and parameters: {'learning_rate': 0.0002488295833636875, 'num_train_epochs': 2, 'per_device_train_batch_size': 16}. Best is trial 15 with value: 2.984771526558006.\n"
     ]
    },
    {
     "name": "stdout",
     "output_type": "stream",
     "text": [
      "{'eval_loss': 1.0859521627426147, 'eval_accuracy': 0.39285714285714285, 'eval_f1': 0.18803418803418803, 'eval_precision': 0.13095238095238096, 'eval_recall': 0.3333333333333333, 'eval_runtime': 0.8158, 'eval_samples_per_second': 171.608, 'eval_steps_per_second': 22.064, 'epoch': 2.0}\n"
     ]
    },
    {
     "name": "stderr",
     "output_type": "stream",
     "text": [
      "Some weights of the model checkpoint at cardiffnlp/twitter-roberta-base-sentiment-latest were not used when initializing RobertaForSequenceClassification: ['roberta.pooler.dense.weight', 'roberta.pooler.dense.bias']\n",
      "- This IS expected if you are initializing RobertaForSequenceClassification from the checkpoint of a model trained on another task or with another architecture (e.g. initializing a BertForSequenceClassification model from a BertForPreTraining model).\n",
      "- This IS NOT expected if you are initializing RobertaForSequenceClassification from the checkpoint of a model that you expect to be exactly identical (initializing a BertForSequenceClassification model from a BertForSequenceClassification model).\n"
     ]
    },
    {
     "data": {
      "application/vnd.jupyter.widget-view+json": {
       "model_id": "",
       "version_major": 2,
       "version_minor": 0
      },
      "text/plain": [
       "VBox(children=(Label(value='0.001 MB of 0.001 MB uploaded\\r'), FloatProgress(value=1.0, max=1.0)))"
      ]
     },
     "metadata": {},
     "output_type": "display_data"
    },
    {
     "data": {
      "text/html": [
       "<style>\n",
       "    table.wandb td:nth-child(1) { padding: 0 10px; text-align: left ; width: auto;} td:nth-child(2) {text-align: left ; width: 100%}\n",
       "    .wandb-row { display: flex; flex-direction: row; flex-wrap: wrap; justify-content: flex-start; width: 100% }\n",
       "    .wandb-col { display: flex; flex-direction: column; flex-basis: 100%; flex: 1; padding: 10px; }\n",
       "    </style>\n",
       "<div class=\"wandb-row\"><div class=\"wandb-col\"><h3>Run history:</h3><br/><table class=\"wandb\"><tr><td>eval/accuracy</td><td>▁</td></tr><tr><td>eval/f1</td><td>▁</td></tr><tr><td>eval/loss</td><td>▁</td></tr><tr><td>eval/precision</td><td>▁</td></tr><tr><td>eval/recall</td><td>▁</td></tr><tr><td>eval/runtime</td><td>▁</td></tr><tr><td>eval/samples_per_second</td><td>▁</td></tr><tr><td>eval/steps_per_second</td><td>▁</td></tr><tr><td>train/epoch</td><td>▁▁</td></tr><tr><td>train/global_step</td><td>▁▁</td></tr><tr><td>train/total_flos</td><td>▁</td></tr><tr><td>train/train_loss</td><td>▁</td></tr><tr><td>train/train_runtime</td><td>▁</td></tr><tr><td>train/train_samples_per_second</td><td>▁</td></tr><tr><td>train/train_steps_per_second</td><td>▁</td></tr></table><br/></div><div class=\"wandb-col\"><h3>Run summary:</h3><br/><table class=\"wandb\"><tr><td>eval/accuracy</td><td>0.39286</td></tr><tr><td>eval/f1</td><td>0.18803</td></tr><tr><td>eval/loss</td><td>1.08595</td></tr><tr><td>eval/precision</td><td>0.13095</td></tr><tr><td>eval/recall</td><td>0.33333</td></tr><tr><td>eval/runtime</td><td>0.8158</td></tr><tr><td>eval/samples_per_second</td><td>171.608</td></tr><tr><td>eval/steps_per_second</td><td>22.064</td></tr><tr><td>train/epoch</td><td>2.0</td></tr><tr><td>train/global_step</td><td>70</td></tr><tr><td>train/total_flos</td><td>147343513927680.0</td></tr><tr><td>train/train_loss</td><td>1.1343</td></tr><tr><td>train/train_runtime</td><td>28.2108</td></tr><tr><td>train/train_samples_per_second</td><td>39.701</td></tr><tr><td>train/train_steps_per_second</td><td>2.481</td></tr></table><br/></div></div>"
      ],
      "text/plain": [
       "<IPython.core.display.HTML object>"
      ]
     },
     "metadata": {},
     "output_type": "display_data"
    },
    {
     "data": {
      "text/html": [
       " View run <strong style=\"color:#cdcd00\">northern-dream-435</strong> at: <a href='https://wandb.ai/ericat/huggingface/runs/411pcjoq' target=\"_blank\">https://wandb.ai/ericat/huggingface/runs/411pcjoq</a><br/>Synced 5 W&B file(s), 0 media file(s), 0 artifact file(s) and 0 other file(s)"
      ],
      "text/plain": [
       "<IPython.core.display.HTML object>"
      ]
     },
     "metadata": {},
     "output_type": "display_data"
    },
    {
     "data": {
      "text/html": [
       "Find logs at: <code>.\\wandb\\run-20231205_180043-411pcjoq\\logs</code>"
      ],
      "text/plain": [
       "<IPython.core.display.HTML object>"
      ]
     },
     "metadata": {},
     "output_type": "display_data"
    },
    {
     "data": {
      "application/vnd.jupyter.widget-view+json": {
       "model_id": "b26764fcbb1340fb99d24a1b470ade8c",
       "version_major": 2,
       "version_minor": 0
      },
      "text/plain": [
       "VBox(children=(Label(value='Waiting for wandb.init()...\\r'), FloatProgress(value=0.01128888888889479, max=1.0)…"
      ]
     },
     "metadata": {},
     "output_type": "display_data"
    },
    {
     "data": {
      "text/html": [
       "Tracking run with wandb version 0.16.0"
      ],
      "text/plain": [
       "<IPython.core.display.HTML object>"
      ]
     },
     "metadata": {},
     "output_type": "display_data"
    },
    {
     "data": {
      "text/html": [
       "Run data is saved locally in <code>D:\\Projects\\Jupyter\\Sentiment analysis\\04DEC\\wandb\\run-20231205_180114-ch8yqdcj</code>"
      ],
      "text/plain": [
       "<IPython.core.display.HTML object>"
      ]
     },
     "metadata": {},
     "output_type": "display_data"
    },
    {
     "data": {
      "text/html": [
       "Syncing run <strong><a href='https://wandb.ai/ericat/huggingface/runs/ch8yqdcj' target=\"_blank\">pretty-donkey-436</a></strong> to <a href='https://wandb.ai/ericat/huggingface' target=\"_blank\">Weights & Biases</a> (<a href='https://wandb.me/run' target=\"_blank\">docs</a>)<br/>"
      ],
      "text/plain": [
       "<IPython.core.display.HTML object>"
      ]
     },
     "metadata": {},
     "output_type": "display_data"
    },
    {
     "data": {
      "text/html": [
       " View project at <a href='https://wandb.ai/ericat/huggingface' target=\"_blank\">https://wandb.ai/ericat/huggingface</a>"
      ],
      "text/plain": [
       "<IPython.core.display.HTML object>"
      ]
     },
     "metadata": {},
     "output_type": "display_data"
    },
    {
     "data": {
      "text/html": [
       " View run at <a href='https://wandb.ai/ericat/huggingface/runs/ch8yqdcj' target=\"_blank\">https://wandb.ai/ericat/huggingface/runs/ch8yqdcj</a>"
      ],
      "text/plain": [
       "<IPython.core.display.HTML object>"
      ]
     },
     "metadata": {},
     "output_type": "display_data"
    },
    {
     "name": "stdout",
     "output_type": "stream",
     "text": [
      "{'train_runtime': 27.2995, 'train_samples_per_second': 41.026, 'train_steps_per_second': 2.564, 'train_loss': 0.6015335083007812, 'epoch': 2.0}\n"
     ]
    },
    {
     "name": "stderr",
     "output_type": "stream",
     "text": [
      "[I 2023-12-05 18:01:36,887] Trial 19 finished with value: 2.956760177592096 and parameters: {'learning_rate': 5.402311988216852e-05, 'num_train_epochs': 2, 'per_device_train_batch_size': 16}. Best is trial 15 with value: 2.984771526558006.\n"
     ]
    },
    {
     "name": "stdout",
     "output_type": "stream",
     "text": [
      "{'eval_loss': 0.6225627064704895, 'eval_accuracy': 0.75, 'eval_f1': 0.7353097798259087, 'eval_precision': 0.7378167641325536, 'eval_recall': 0.7336336336336338, 'eval_runtime': 0.8198, 'eval_samples_per_second': 170.768, 'eval_steps_per_second': 21.956, 'epoch': 2.0}\n"
     ]
    },
    {
     "data": {
      "text/plain": [
       "BestRun(run_id='15', objective=2.984771526558006, hyperparameters={'learning_rate': 9.359061927977144e-05, 'num_train_epochs': 2, 'per_device_train_batch_size': 16}, run_summary=None)"
      ]
     },
     "execution_count": 42,
     "metadata": {},
     "output_type": "execute_result"
    }
   ],
   "source": [
    "trainer.hyperparameter_search(direction=\"maximize\", hp_space=my_hp_space)"
   ]
  },
  {
   "cell_type": "markdown",
   "id": "e558c6c4",
   "metadata": {},
   "source": [
    "# Trainer"
   ]
  },
  {
   "cell_type": "code",
   "execution_count": 39,
   "id": "f84293bb",
   "metadata": {},
   "outputs": [
    {
     "name": "stderr",
     "output_type": "stream",
     "text": [
      "\u001b[34m\u001b[1mwandb\u001b[0m: Currently logged in as: \u001b[33mericat\u001b[0m. Use \u001b[1m`wandb login --relogin`\u001b[0m to force relogin\n"
     ]
    },
    {
     "data": {
      "application/vnd.jupyter.widget-view+json": {
       "model_id": "1896bd74f3f44c7288f3af6e99bae188",
       "version_major": 2,
       "version_minor": 0
      },
      "text/plain": [
       "VBox(children=(Label(value='Waiting for wandb.init()...\\r'), FloatProgress(value=0.011111111111111112, max=1.0…"
      ]
     },
     "metadata": {},
     "output_type": "display_data"
    },
    {
     "data": {
      "text/html": [
       "wandb version 0.16.1 is available!  To upgrade, please run:\n",
       " $ pip install wandb --upgrade"
      ],
      "text/plain": [
       "<IPython.core.display.HTML object>"
      ]
     },
     "metadata": {},
     "output_type": "display_data"
    },
    {
     "data": {
      "text/html": [
       "Tracking run with wandb version 0.16.0"
      ],
      "text/plain": [
       "<IPython.core.display.HTML object>"
      ]
     },
     "metadata": {},
     "output_type": "display_data"
    },
    {
     "data": {
      "text/html": [
       "Run data is saved locally in <code>D:\\Projects\\Jupyter\\Sentiment analysis\\04DEC\\wandb\\run-20231219_095937-5711wudc</code>"
      ],
      "text/plain": [
       "<IPython.core.display.HTML object>"
      ]
     },
     "metadata": {},
     "output_type": "display_data"
    },
    {
     "data": {
      "text/html": [
       "Syncing run <strong><a href='https://wandb.ai/ericat/huggingface/runs/5711wudc' target=\"_blank\">sage-vortex-625</a></strong> to <a href='https://wandb.ai/ericat/huggingface' target=\"_blank\">Weights & Biases</a> (<a href='https://wandb.me/run' target=\"_blank\">docs</a>)<br/>"
      ],
      "text/plain": [
       "<IPython.core.display.HTML object>"
      ]
     },
     "metadata": {},
     "output_type": "display_data"
    },
    {
     "data": {
      "text/html": [
       " View project at <a href='https://wandb.ai/ericat/huggingface' target=\"_blank\">https://wandb.ai/ericat/huggingface</a>"
      ],
      "text/plain": [
       "<IPython.core.display.HTML object>"
      ]
     },
     "metadata": {},
     "output_type": "display_data"
    },
    {
     "data": {
      "text/html": [
       " View run at <a href='https://wandb.ai/ericat/huggingface/runs/5711wudc' target=\"_blank\">https://wandb.ai/ericat/huggingface/runs/5711wudc</a>"
      ],
      "text/plain": [
       "<IPython.core.display.HTML object>"
      ]
     },
     "metadata": {},
     "output_type": "display_data"
    },
    {
     "data": {
      "text/html": [
       "\n",
       "    <div>\n",
       "      \n",
       "      <progress value='70' max='70' style='width:300px; height:20px; vertical-align: middle;'></progress>\n",
       "      [70/70 00:18, Epoch 2/2]\n",
       "    </div>\n",
       "    <table border=\"1\" class=\"dataframe\">\n",
       "  <thead>\n",
       " <tr style=\"text-align: left;\">\n",
       "      <th>Step</th>\n",
       "      <th>Training Loss</th>\n",
       "      <th>Validation Loss</th>\n",
       "    </tr>\n",
       "  </thead>\n",
       "  <tbody>\n",
       "  </tbody>\n",
       "</table><p>"
      ],
      "text/plain": [
       "<IPython.core.display.HTML object>"
      ]
     },
     "metadata": {},
     "output_type": "display_data"
    }
   ],
   "source": [
    "training_args = TrainingArguments(\n",
    "    output_dir='./9-testresults',          # output directory\n",
    "    learning_rate=9.359061927977144e-05,\n",
    "    num_train_epochs=2,              # total number of training epochs\n",
    "    per_device_train_batch_size=16,  # batch size per device during training\n",
    "    per_device_eval_batch_size=16,   # batch size for evaluation\n",
    "    logging_dir='./logs',            # directory for storing logs\n",
    "    logging_steps=100,\n",
    "    seed=42,\n",
    "    do_train=True,\n",
    "    do_eval=True,\n",
    "    no_cuda=False,\n",
    "    load_best_model_at_end=True,\n",
    "    eval_steps=100,\n",
    "    evaluation_strategy=\"steps\"\n",
    ")\n",
    "\n",
    "trainer = Trainer(\n",
    "    model=model,                         # the instantiated 🤗 Transformers model to be trained\n",
    "    args=training_args,                  # training arguments, defined above\n",
    "    train_dataset=train_dataset,         # training dataset\n",
    "    eval_dataset=validation_dataset,            # evaluation dataset\n",
    "    compute_metrics=compute_metrics\n",
    ")\n",
    "\n",
    "train_out = trainer.train()"
   ]
  },
  {
   "cell_type": "code",
   "execution_count": 40,
   "id": "3df7f807",
   "metadata": {},
   "outputs": [
    {
     "data": {
      "text/plain": [
       "TrainOutput(global_step=70, training_loss=0.6915673392159598, metrics={'train_runtime': 58.3724, 'train_samples_per_second': 19.187, 'train_steps_per_second': 1.199, 'total_flos': 147343513927680.0, 'train_loss': 0.6915673392159598, 'epoch': 2.0})"
      ]
     },
     "execution_count": 40,
     "metadata": {},
     "output_type": "execute_result"
    }
   ],
   "source": [
    "train_out"
   ]
  },
  {
   "cell_type": "markdown",
   "id": "99b4ed3e",
   "metadata": {},
   "source": [
    "## Save"
   ]
  },
  {
   "cell_type": "code",
   "execution_count": 50,
   "id": "b209e318",
   "metadata": {},
   "outputs": [],
   "source": [
    "trainer.save_model(\"./my_model\")"
   ]
  },
  {
   "cell_type": "code",
   "execution_count": 51,
   "id": "2b66377f",
   "metadata": {},
   "outputs": [
    {
     "data": {
      "text/plain": [
       "RobertaConfig {\n",
       "  \"_name_or_path\": \"./my_model\",\n",
       "  \"architectures\": [\n",
       "    \"RobertaForSequenceClassification\"\n",
       "  ],\n",
       "  \"attention_probs_dropout_prob\": 0.1,\n",
       "  \"bos_token_id\": 0,\n",
       "  \"classifier_dropout\": null,\n",
       "  \"eos_token_id\": 2,\n",
       "  \"gradient_checkpointing\": false,\n",
       "  \"hidden_act\": \"gelu\",\n",
       "  \"hidden_dropout_prob\": 0.1,\n",
       "  \"hidden_size\": 768,\n",
       "  \"id2label\": {\n",
       "    \"0\": \"negative\",\n",
       "    \"1\": \"neutral\",\n",
       "    \"2\": \"positive\"\n",
       "  },\n",
       "  \"initializer_range\": 0.02,\n",
       "  \"intermediate_size\": 3072,\n",
       "  \"label2id\": {\n",
       "    \"negative\": 0,\n",
       "    \"neutral\": 1,\n",
       "    \"positive\": 2\n",
       "  },\n",
       "  \"layer_norm_eps\": 1e-05,\n",
       "  \"max_position_embeddings\": 514,\n",
       "  \"model_type\": \"roberta\",\n",
       "  \"num_attention_heads\": 12,\n",
       "  \"num_hidden_layers\": 12,\n",
       "  \"pad_token_id\": 1,\n",
       "  \"position_embedding_type\": \"absolute\",\n",
       "  \"problem_type\": \"single_label_classification\",\n",
       "  \"torch_dtype\": \"float32\",\n",
       "  \"transformers_version\": \"4.34.0\",\n",
       "  \"type_vocab_size\": 1,\n",
       "  \"use_cache\": true,\n",
       "  \"vocab_size\": 50265\n",
       "}"
      ]
     },
     "execution_count": 51,
     "metadata": {},
     "output_type": "execute_result"
    }
   ],
   "source": [
    "model = AutoModelForSequenceClassification.from_pretrained(\n",
    "    \"./my_model\",\n",
    "    num_labels=train_dataset.features[\"label\"].num_classes,\n",
    "    ignore_mismatched_sizes=True\n",
    ")\n",
    "\n",
    "model.config"
   ]
  },
  {
   "cell_type": "code",
   "execution_count": 55,
   "id": "dc129cec",
   "metadata": {},
   "outputs": [
    {
     "data": {
      "application/vnd.jupyter.widget-view+json": {
       "model_id": "b4982edec5f942db9fd554ac6827bacd",
       "version_major": 2,
       "version_minor": 0
      },
      "text/plain": [
       "pytorch_model.bin:   0%|          | 0.00/499M [00:00<?, ?B/s]"
      ]
     },
     "metadata": {},
     "output_type": "display_data"
    },
    {
     "data": {
      "text/plain": [
       "CommitInfo(commit_url='https://huggingface.co/HFFErica/my_model_SA/commit/3859329ca3a5af5ae606efcc11d531c5b2b685d8', commit_message='Upload tokenizer', commit_description='', oid='3859329ca3a5af5ae606efcc11d531c5b2b685d8', pr_url=None, pr_revision=None, pr_num=None)"
      ]
     },
     "execution_count": 55,
     "metadata": {},
     "output_type": "execute_result"
    }
   ],
   "source": [
    "model.push_to_hub(\"my_model_SA\")\n",
    "tokenizer.push_to_hub(\"my_model_SA\")"
   ]
  },
  {
   "cell_type": "code",
   "execution_count": 57,
   "id": "94c53a74",
   "metadata": {},
   "outputs": [],
   "source": [
    "# trainer.push_to_hub()"
   ]
  },
  {
   "cell_type": "markdown",
   "id": "63116b56",
   "metadata": {
    "heading_collapsed": true
   },
   "source": [
    "# Confusion matrix"
   ]
  },
  {
   "cell_type": "code",
   "execution_count": 41,
   "id": "e6146332",
   "metadata": {
    "hidden": true
   },
   "outputs": [],
   "source": [
    "def plot_confusion_matrix(y_preds, y_true, labels):\n",
    "#     cm = confusion_matrix(y_true, y_preds)\n",
    "    cm = confusion_matrix(y_true, y_preds, normalize=\"true\")\n",
    "    fig, ax = plt.subplots(figsize=(10, 10))\n",
    "    disp = ConfusionMatrixDisplay(confusion_matrix=cm, display_labels=labels)\n",
    "    disp.plot(cmap=\"Blues\", values_format=\".2f\", ax=ax, colorbar=False)\n",
    "    plt.title(\"confusion matrix\")\n",
    "    plt.show()"
   ]
  },
  {
   "cell_type": "code",
   "execution_count": 42,
   "id": "a7efd914",
   "metadata": {
    "hidden": true
   },
   "outputs": [
    {
     "data": {
      "text/html": [],
      "text/plain": [
       "<IPython.core.display.HTML object>"
      ]
     },
     "metadata": {},
     "output_type": "display_data"
    }
   ],
   "source": [
    "y_valid = np.array(test_dataset[\"labels\"])\n",
    "preds_output = trainer.predict(test_dataset)"
   ]
  },
  {
   "cell_type": "code",
   "execution_count": 43,
   "id": "0301a327",
   "metadata": {
    "hidden": true
   },
   "outputs": [
    {
     "data": {
      "text/plain": [
       "{'test_loss': 0.6468154191970825,\n",
       " 'test_accuracy': 0.725,\n",
       " 'test_f1': 0.7068607998877549,\n",
       " 'test_precision': 0.7063109943501383,\n",
       " 'test_recall': 0.7088070248436237,\n",
       " 'test_runtime': 5.3384,\n",
       " 'test_samples_per_second': 187.324,\n",
       " 'test_steps_per_second': 11.801}"
      ]
     },
     "execution_count": 43,
     "metadata": {},
     "output_type": "execute_result"
    }
   ],
   "source": [
    "preds_output.metrics"
   ]
  },
  {
   "cell_type": "code",
   "execution_count": 44,
   "id": "208b740d",
   "metadata": {
    "hidden": true
   },
   "outputs": [],
   "source": [
    "y_preds = np.argmax(preds_output.predictions, axis=1)"
   ]
  },
  {
   "cell_type": "code",
   "execution_count": 45,
   "id": "06b287f4",
   "metadata": {
    "hidden": true
   },
   "outputs": [
    {
     "data": {
      "image/png": "[encoded data removed]",
      "text/plain": [
       "<Figure size 1000x1000 with 1 Axes>"
      ]
     },
     "metadata": {},
     "output_type": "display_data"
    }
   ],
   "source": [
    "labels = train_dataset.features[\"label\"].names\n",
    "plot_confusion_matrix(y_preds, y_valid, labels)"
   ]
  },
  {
   "cell_type": "markdown",
   "id": "8c9d63c4",
   "metadata": {
    "hidden": true
   },
   "source": [
    "## Validation"
   ]
  },
  {
   "cell_type": "code",
   "execution_count": 46,
   "id": "4a8e0139",
   "metadata": {
    "hidden": true
   },
   "outputs": [
    {
     "data": {
      "text/html": [],
      "text/plain": [
       "<IPython.core.display.HTML object>"
      ]
     },
     "metadata": {},
     "output_type": "display_data"
    }
   ],
   "source": [
    "y_valid = np.array(validation_dataset[\"labels\"])\n",
    "preds_output = trainer.predict(validation_dataset)"
   ]
  },
  {
   "cell_type": "code",
   "execution_count": 47,
   "id": "f3114d01",
   "metadata": {
    "hidden": true
   },
   "outputs": [
    {
     "data": {
      "text/plain": [
       "{'test_loss': 0.5602618455886841,\n",
       " 'test_accuracy': 0.7571428571428571,\n",
       " 'test_f1': 0.7313131313131315,\n",
       " 'test_precision': 0.7369619112012621,\n",
       " 'test_recall': 0.7326167076167076,\n",
       " 'test_runtime': 0.7366,\n",
       " 'test_samples_per_second': 190.064,\n",
       " 'test_steps_per_second': 12.218}"
      ]
     },
     "execution_count": 47,
     "metadata": {},
     "output_type": "execute_result"
    }
   ],
   "source": [
    "preds_output.metrics"
   ]
  },
  {
   "cell_type": "code",
   "execution_count": 48,
   "id": "a78f9043",
   "metadata": {
    "hidden": true
   },
   "outputs": [],
   "source": [
    "y_preds = np.argmax(preds_output.predictions, axis=1)"
   ]
  },
  {
   "cell_type": "code",
   "execution_count": 49,
   "id": "e635b839",
   "metadata": {
    "hidden": true
   },
   "outputs": [
    {
     "data": {
      "image/png": "[encoded data removed]",
      "text/plain": [
       "<Figure size 1000x1000 with 1 Axes>"
      ]
     },
     "metadata": {},
     "output_type": "display_data"
    }
   ],
   "source": [
    "labels = train_dataset.features[\"label\"].names\n",
    "plot_confusion_matrix(y_preds, y_valid, labels)"
   ]
  },
  {
   "cell_type": "markdown",
   "id": "5d31724e",
   "metadata": {},
   "source": [
    "# pipeline"
   ]
  },
  {
   "cell_type": "code",
   "execution_count": 58,
   "id": "9fc76da1",
   "metadata": {},
   "outputs": [
    {
     "data": {
      "application/vnd.jupyter.widget-view+json": {
       "model_id": "374fd35f0843408a9296957a5a313b13",
       "version_major": 2,
       "version_minor": 0
      },
      "text/plain": [
       "Downloading config.json:   0%|          | 0.00/926 [00:00<?, ?B/s]"
      ]
     },
     "metadata": {},
     "output_type": "display_data"
    },
    {
     "name": "stderr",
     "output_type": "stream",
     "text": [
      "D:\\Software\\Anaconda3\\envs\\validation\\Lib\\site-packages\\huggingface_hub\\file_download.py:137: UserWarning: `huggingface_hub` cache-system uses symlinks by default to efficiently store duplicated files but your machine does not support them in C:\\Users\\researcher\\.cache\\huggingface\\hub. Caching files will still work but in a degraded version that might require more space on your disk. This warning can be disabled by setting the `HF_HUB_DISABLE_SYMLINKS_WARNING` environment variable. For more details, see https://huggingface.co/docs/huggingface_hub/how-to-cache#limitations.\n",
      "To support symlinks on Windows, you either need to activate Developer Mode or to run Python as an administrator. In order to see activate developer mode, see this article: https://docs.microsoft.com/en-us/windows/apps/get-started/enable-your-device-for-development\n",
      "  warnings.warn(message)\n"
     ]
    },
    {
     "data": {
      "application/vnd.jupyter.widget-view+json": {
       "model_id": "c9a417d94dd94c959e17e22419359262",
       "version_major": 2,
       "version_minor": 0
      },
      "text/plain": [
       "Downloading pytorch_model.bin:   0%|          | 0.00/499M [00:00<?, ?B/s]"
      ]
     },
     "metadata": {},
     "output_type": "display_data"
    },
    {
     "data": {
      "application/vnd.jupyter.widget-view+json": {
       "model_id": "66177fae93224c95970ce9b7f5f30087",
       "version_major": 2,
       "version_minor": 0
      },
      "text/plain": [
       "Downloading tokenizer_config.json:   0%|          | 0.00/1.28k [00:00<?, ?B/s]"
      ]
     },
     "metadata": {},
     "output_type": "display_data"
    },
    {
     "data": {
      "application/vnd.jupyter.widget-view+json": {
       "model_id": "303c1569708142048bad7eb639c308db",
       "version_major": 2,
       "version_minor": 0
      },
      "text/plain": [
       "Downloading vocab.json:   0%|          | 0.00/798k [00:00<?, ?B/s]"
      ]
     },
     "metadata": {},
     "output_type": "display_data"
    },
    {
     "data": {
      "application/vnd.jupyter.widget-view+json": {
       "model_id": "854d312e264a4e958cc1885650a91b67",
       "version_major": 2,
       "version_minor": 0
      },
      "text/plain": [
       "Downloading merges.txt:   0%|          | 0.00/456k [00:00<?, ?B/s]"
      ]
     },
     "metadata": {},
     "output_type": "display_data"
    },
    {
     "data": {
      "application/vnd.jupyter.widget-view+json": {
       "model_id": "6fba6fbd48e046b6959c2bfd8c496fd2",
       "version_major": 2,
       "version_minor": 0
      },
      "text/plain": [
       "Downloading tokenizer.json:   0%|          | 0.00/2.11M [00:00<?, ?B/s]"
      ]
     },
     "metadata": {},
     "output_type": "display_data"
    },
    {
     "data": {
      "application/vnd.jupyter.widget-view+json": {
       "model_id": "62eb3955f7d243758122ff08654cd14a",
       "version_major": 2,
       "version_minor": 0
      },
      "text/plain": [
       "Downloading added_tokens.json:   0%|          | 0.00/75.0 [00:00<?, ?B/s]"
      ]
     },
     "metadata": {},
     "output_type": "display_data"
    },
    {
     "data": {
      "application/vnd.jupyter.widget-view+json": {
       "model_id": "9736d0cc233b4defb7be290e608e6699",
       "version_major": 2,
       "version_minor": 0
      },
      "text/plain": [
       "Downloading (…)cial_tokens_map.json:   0%|          | 0.00/167 [00:00<?, ?B/s]"
      ]
     },
     "metadata": {},
     "output_type": "display_data"
    },
    {
     "name": "stderr",
     "output_type": "stream",
     "text": [
      "Special tokens have been added in the vocabulary, make sure the associated word embeddings are fine-tuned or trained.\n"
     ]
    }
   ],
   "source": [
    "pipe = pipeline(\"text-classification\", model=\"HFFErica/my_model_SA\")"
   ]
  },
  {
   "cell_type": "code",
   "execution_count": 75,
   "id": "31f64704",
   "metadata": {},
   "outputs": [
    {
     "data": {
      "text/plain": [
       "Dataset({\n",
       "    features: ['sequence', 'labels', 'labels_five', 'labels_three', 'labels_three_2p', 'input_ids', 'attention_mask'],\n",
       "    num_rows: 1000\n",
       "})"
      ]
     },
     "execution_count": 75,
     "metadata": {},
     "output_type": "execute_result"
    }
   ],
   "source": [
    "test_dataset"
   ]
  },
  {
   "cell_type": "code",
   "execution_count": 68,
   "id": "e4dbd30b",
   "metadata": {},
   "outputs": [
    {
     "data": {
      "text/plain": [
       "\"\\t\\t\\t\\t\\t\\t\\t\\tThere are plenty of reasons to recommend this game, but I'll just mention these: - free exploration- lots of new stuff still being added- freedom to customize your bases and shipsBut most of all I enjoy doing the expeditions.\""
      ]
     },
     "execution_count": 68,
     "metadata": {},
     "output_type": "execute_result"
    }
   ],
   "source": [
    "test_examples = test_dataset[\"sequence\"][:1000]\n",
    "test_examples[2]"
   ]
  },
  {
   "cell_type": "code",
   "execution_count": 69,
   "id": "19bcb7a4",
   "metadata": {},
   "outputs": [
    {
     "data": {
      "text/plain": [
       "[{'label': 'neutral', 'score': 0.49137595295906067}]"
      ]
     },
     "execution_count": 69,
     "metadata": {},
     "output_type": "execute_result"
    }
   ],
   "source": [
    "result = pipe(test_examples[2])\n",
    "result"
   ]
  },
  {
   "cell_type": "code",
   "execution_count": 94,
   "id": "93ce0594",
   "metadata": {},
   "outputs": [
    {
     "data": {
      "text/plain": [
       "Dataset({\n",
       "    features: ['sequence', 'labels', 'labels_five', 'labels_three', 'labels_three_2p', 'input_ids', 'attention_mask'],\n",
       "    num_rows: 1000\n",
       "})"
      ]
     },
     "execution_count": 94,
     "metadata": {},
     "output_type": "execute_result"
    }
   ],
   "source": [
    "test_dataset"
   ]
  },
  {
   "cell_type": "code",
   "execution_count": 102,
   "id": "f137a412",
   "metadata": {},
   "outputs": [],
   "source": [
    "# df = pd.DataFrame(data=test_dataset.data, columns=test_dataset.feature_names)\n",
    "# df.head()\n",
    "\n",
    "df1=test_dataset['sequence']\n",
    "df2=test_dataset['labels_three_2p']\n"
   ]
  },
  {
   "cell_type": "code",
   "execution_count": 124,
   "id": "458a9522",
   "metadata": {},
   "outputs": [
    {
     "data": {
      "text/html": [
       "<div>\n",
       "<style scoped>\n",
       "    .dataframe tbody tr th:only-of-type {\n",
       "        vertical-align: middle;\n",
       "    }\n",
       "\n",
       "    .dataframe tbody tr th {\n",
       "        vertical-align: top;\n",
       "    }\n",
       "\n",
       "    .dataframe thead th {\n",
       "        text-align: right;\n",
       "    }\n",
       "</style>\n",
       "<table border=\"1\" class=\"dataframe\">\n",
       "  <thead>\n",
       "    <tr style=\"text-align: right;\">\n",
       "      <th></th>\n",
       "      <th>labels</th>\n",
       "      <th>input_ids</th>\n",
       "      <th>attention_mask</th>\n",
       "      <th>content</th>\n",
       "      <th>label</th>\n",
       "      <th>label_org</th>\n",
       "    </tr>\n",
       "  </thead>\n",
       "  <tbody>\n",
       "    <tr>\n",
       "      <th>0</th>\n",
       "      <td>tensor(1)</td>\n",
       "      <td>[tensor(0), tensor(7199), tensor(190), tensor(...</td>\n",
       "      <td>[tensor(1), tensor(1), tensor(1), tensor(1), t...</td>\n",
       "      <td>Not even the Hotel's bombers compete with her ...</td>\n",
       "      <td>1</td>\n",
       "      <td>1</td>\n",
       "    </tr>\n",
       "    <tr>\n",
       "      <th>1</th>\n",
       "      <td>tensor(0)</td>\n",
       "      <td>[tensor(0), tensor(1594), tensor(939), tensor(...</td>\n",
       "      <td>[tensor(1), tensor(1), tensor(1), tensor(1), t...</td>\n",
       "      <td>if i encountered all of this within the first ...</td>\n",
       "      <td>0</td>\n",
       "      <td>0</td>\n",
       "    </tr>\n",
       "    <tr>\n",
       "      <th>2</th>\n",
       "      <td>tensor(2)</td>\n",
       "      <td>[tensor(0), tensor(50117), tensor(50117), tens...</td>\n",
       "      <td>[tensor(1), tensor(1), tensor(1), tensor(1), t...</td>\n",
       "      <td>\\t\\t\\t\\t\\t\\t\\t\\tThere are plenty of reasons to...</td>\n",
       "      <td>2</td>\n",
       "      <td>2</td>\n",
       "    </tr>\n",
       "    <tr>\n",
       "      <th>3</th>\n",
       "      <td>tensor(1)</td>\n",
       "      <td>[tensor(0), tensor(100), tensor(64), tensor(42...</td>\n",
       "      <td>[tensor(1), tensor(1), tensor(1), tensor(1), t...</td>\n",
       "      <td>I can run it at 90 frames on ultra, but then i...</td>\n",
       "      <td>1</td>\n",
       "      <td>1</td>\n",
       "    </tr>\n",
       "    <tr>\n",
       "      <th>4</th>\n",
       "      <td>tensor(2)</td>\n",
       "      <td>[tensor(0), tensor(1594), tensor(47), tensor(3...</td>\n",
       "      <td>[tensor(1), tensor(1), tensor(1), tensor(1), t...</td>\n",
       "      <td>if you start you experience with theme hospita...</td>\n",
       "      <td>2</td>\n",
       "      <td>2</td>\n",
       "    </tr>\n",
       "    <tr>\n",
       "      <th>...</th>\n",
       "      <td>...</td>\n",
       "      <td>...</td>\n",
       "      <td>...</td>\n",
       "      <td>...</td>\n",
       "      <td>...</td>\n",
       "      <td>...</td>\n",
       "    </tr>\n",
       "    <tr>\n",
       "      <th>995</th>\n",
       "      <td>tensor(2)</td>\n",
       "      <td>[tensor(0), tensor(118), tensor(657), tensor(4...</td>\n",
       "      <td>[tensor(1), tensor(1), tensor(1), tensor(1), t...</td>\n",
       "      <td>i love this game it is so good if you like r6 ...</td>\n",
       "      <td>2</td>\n",
       "      <td>2</td>\n",
       "    </tr>\n",
       "    <tr>\n",
       "      <th>996</th>\n",
       "      <td>tensor(2)</td>\n",
       "      <td>[tensor(0), tensor(50117), tensor(50117), tens...</td>\n",
       "      <td>[tensor(1), tensor(1), tensor(1), tensor(1), t...</td>\n",
       "      <td>\\t\\t\\t\\t\\t\\t\\t\\tAmazing space exploration expe...</td>\n",
       "      <td>2</td>\n",
       "      <td>2</td>\n",
       "    </tr>\n",
       "    <tr>\n",
       "      <th>997</th>\n",
       "      <td>tensor(2)</td>\n",
       "      <td>[tensor(0), tensor(24989), tensor(87), tensor(...</td>\n",
       "      <td>[tensor(1), tensor(1), tensor(1), tensor(1), t...</td>\n",
       "      <td>Other than that so much fun love the realism</td>\n",
       "      <td>2</td>\n",
       "      <td>2</td>\n",
       "    </tr>\n",
       "    <tr>\n",
       "      <th>998</th>\n",
       "      <td>tensor(2)</td>\n",
       "      <td>[tensor(0), tensor(100), tensor(657), tensor(1...</td>\n",
       "      <td>[tensor(1), tensor(1), tensor(1), tensor(1), t...</td>\n",
       "      <td>I love in single player being able to command ...</td>\n",
       "      <td>2</td>\n",
       "      <td>2</td>\n",
       "    </tr>\n",
       "    <tr>\n",
       "      <th>999</th>\n",
       "      <td>tensor(2)</td>\n",
       "      <td>[tensor(0), tensor(133), tensor(527), tensor(1...</td>\n",
       "      <td>[tensor(1), tensor(1), tensor(1), tensor(1), t...</td>\n",
       "      <td>The story missions remind me of Destiny in ter...</td>\n",
       "      <td>2</td>\n",
       "      <td>2</td>\n",
       "    </tr>\n",
       "  </tbody>\n",
       "</table>\n",
       "<p>1000 rows × 6 columns</p>\n",
       "</div>"
      ],
      "text/plain": [
       "        labels                                          input_ids  \\\n",
       "0    tensor(1)  [tensor(0), tensor(7199), tensor(190), tensor(...   \n",
       "1    tensor(0)  [tensor(0), tensor(1594), tensor(939), tensor(...   \n",
       "2    tensor(2)  [tensor(0), tensor(50117), tensor(50117), tens...   \n",
       "3    tensor(1)  [tensor(0), tensor(100), tensor(64), tensor(42...   \n",
       "4    tensor(2)  [tensor(0), tensor(1594), tensor(47), tensor(3...   \n",
       "..         ...                                                ...   \n",
       "995  tensor(2)  [tensor(0), tensor(118), tensor(657), tensor(4...   \n",
       "996  tensor(2)  [tensor(0), tensor(50117), tensor(50117), tens...   \n",
       "997  tensor(2)  [tensor(0), tensor(24989), tensor(87), tensor(...   \n",
       "998  tensor(2)  [tensor(0), tensor(100), tensor(657), tensor(1...   \n",
       "999  tensor(2)  [tensor(0), tensor(133), tensor(527), tensor(1...   \n",
       "\n",
       "                                        attention_mask  \\\n",
       "0    [tensor(1), tensor(1), tensor(1), tensor(1), t...   \n",
       "1    [tensor(1), tensor(1), tensor(1), tensor(1), t...   \n",
       "2    [tensor(1), tensor(1), tensor(1), tensor(1), t...   \n",
       "3    [tensor(1), tensor(1), tensor(1), tensor(1), t...   \n",
       "4    [tensor(1), tensor(1), tensor(1), tensor(1), t...   \n",
       "..                                                 ...   \n",
       "995  [tensor(1), tensor(1), tensor(1), tensor(1), t...   \n",
       "996  [tensor(1), tensor(1), tensor(1), tensor(1), t...   \n",
       "997  [tensor(1), tensor(1), tensor(1), tensor(1), t...   \n",
       "998  [tensor(1), tensor(1), tensor(1), tensor(1), t...   \n",
       "999  [tensor(1), tensor(1), tensor(1), tensor(1), t...   \n",
       "\n",
       "                                               content  label  label_org  \n",
       "0    Not even the Hotel's bombers compete with her ...      1          1  \n",
       "1    if i encountered all of this within the first ...      0          0  \n",
       "2    \\t\\t\\t\\t\\t\\t\\t\\tThere are plenty of reasons to...      2          2  \n",
       "3    I can run it at 90 frames on ultra, but then i...      1          1  \n",
       "4    if you start you experience with theme hospita...      2          2  \n",
       "..                                                 ...    ...        ...  \n",
       "995  i love this game it is so good if you like r6 ...      2          2  \n",
       "996  \\t\\t\\t\\t\\t\\t\\t\\tAmazing space exploration expe...      2          2  \n",
       "997       Other than that so much fun love the realism      2          2  \n",
       "998  I love in single player being able to command ...      2          2  \n",
       "999  The story missions remind me of Destiny in ter...      2          2  \n",
       "\n",
       "[1000 rows x 6 columns]"
      ]
     },
     "execution_count": 124,
     "metadata": {},
     "output_type": "execute_result"
    }
   ],
   "source": [
    "dataset['content'] = pd.DataFrame(df1)\n",
    "dataset['label_org'] = pd.DataFrame(df2)\n",
    "\n",
    "dataset"
   ]
  },
  {
   "cell_type": "code",
   "execution_count": 126,
   "id": "5f3650cd",
   "metadata": {},
   "outputs": [
    {
     "data": {
      "text/html": [
       "<div>\n",
       "<style scoped>\n",
       "    .dataframe tbody tr th:only-of-type {\n",
       "        vertical-align: middle;\n",
       "    }\n",
       "\n",
       "    .dataframe tbody tr th {\n",
       "        vertical-align: top;\n",
       "    }\n",
       "\n",
       "    .dataframe thead th {\n",
       "        text-align: right;\n",
       "    }\n",
       "</style>\n",
       "<table border=\"1\" class=\"dataframe\">\n",
       "  <thead>\n",
       "    <tr style=\"text-align: right;\">\n",
       "      <th></th>\n",
       "      <th>labels</th>\n",
       "      <th>content</th>\n",
       "      <th>label_org</th>\n",
       "    </tr>\n",
       "  </thead>\n",
       "  <tbody>\n",
       "    <tr>\n",
       "      <th>0</th>\n",
       "      <td>tensor(1)</td>\n",
       "      <td>Not even the Hotel's bombers compete with her ...</td>\n",
       "      <td>1</td>\n",
       "    </tr>\n",
       "    <tr>\n",
       "      <th>1</th>\n",
       "      <td>tensor(0)</td>\n",
       "      <td>if i encountered all of this within the first ...</td>\n",
       "      <td>0</td>\n",
       "    </tr>\n",
       "    <tr>\n",
       "      <th>2</th>\n",
       "      <td>tensor(2)</td>\n",
       "      <td>\\t\\t\\t\\t\\t\\t\\t\\tThere are plenty of reasons to...</td>\n",
       "      <td>2</td>\n",
       "    </tr>\n",
       "    <tr>\n",
       "      <th>3</th>\n",
       "      <td>tensor(1)</td>\n",
       "      <td>I can run it at 90 frames on ultra, but then i...</td>\n",
       "      <td>1</td>\n",
       "    </tr>\n",
       "    <tr>\n",
       "      <th>4</th>\n",
       "      <td>tensor(2)</td>\n",
       "      <td>if you start you experience with theme hospita...</td>\n",
       "      <td>2</td>\n",
       "    </tr>\n",
       "    <tr>\n",
       "      <th>...</th>\n",
       "      <td>...</td>\n",
       "      <td>...</td>\n",
       "      <td>...</td>\n",
       "    </tr>\n",
       "    <tr>\n",
       "      <th>995</th>\n",
       "      <td>tensor(2)</td>\n",
       "      <td>i love this game it is so good if you like r6 ...</td>\n",
       "      <td>2</td>\n",
       "    </tr>\n",
       "    <tr>\n",
       "      <th>996</th>\n",
       "      <td>tensor(2)</td>\n",
       "      <td>\\t\\t\\t\\t\\t\\t\\t\\tAmazing space exploration expe...</td>\n",
       "      <td>2</td>\n",
       "    </tr>\n",
       "    <tr>\n",
       "      <th>997</th>\n",
       "      <td>tensor(2)</td>\n",
       "      <td>Other than that so much fun love the realism</td>\n",
       "      <td>2</td>\n",
       "    </tr>\n",
       "    <tr>\n",
       "      <th>998</th>\n",
       "      <td>tensor(2)</td>\n",
       "      <td>I love in single player being able to command ...</td>\n",
       "      <td>2</td>\n",
       "    </tr>\n",
       "    <tr>\n",
       "      <th>999</th>\n",
       "      <td>tensor(2)</td>\n",
       "      <td>The story missions remind me of Destiny in ter...</td>\n",
       "      <td>2</td>\n",
       "    </tr>\n",
       "  </tbody>\n",
       "</table>\n",
       "<p>1000 rows × 3 columns</p>\n",
       "</div>"
      ],
      "text/plain": [
       "        labels                                            content  label_org\n",
       "0    tensor(1)  Not even the Hotel's bombers compete with her ...          1\n",
       "1    tensor(0)  if i encountered all of this within the first ...          0\n",
       "2    tensor(2)  \\t\\t\\t\\t\\t\\t\\t\\tThere are plenty of reasons to...          2\n",
       "3    tensor(1)  I can run it at 90 frames on ultra, but then i...          1\n",
       "4    tensor(2)  if you start you experience with theme hospita...          2\n",
       "..         ...                                                ...        ...\n",
       "995  tensor(2)  i love this game it is so good if you like r6 ...          2\n",
       "996  tensor(2)  \\t\\t\\t\\t\\t\\t\\t\\tAmazing space exploration expe...          2\n",
       "997  tensor(2)       Other than that so much fun love the realism          2\n",
       "998  tensor(2)  I love in single player being able to command ...          2\n",
       "999  tensor(2)  The story missions remind me of Destiny in ter...          2\n",
       "\n",
       "[1000 rows x 3 columns]"
      ]
     },
     "execution_count": 126,
     "metadata": {},
     "output_type": "execute_result"
    }
   ],
   "source": [
    "df = dataset.drop(columns=['input_ids','label', 'attention_mask'])\n",
    "df"
   ]
  },
  {
   "cell_type": "code",
   "execution_count": 115,
   "id": "066943f8",
   "metadata": {},
   "outputs": [],
   "source": [
    "results = pipe(df['content'].values.tolist())"
   ]
  },
  {
   "cell_type": "code",
   "execution_count": 116,
   "id": "9681ebf8",
   "metadata": {},
   "outputs": [
    {
     "data": {
      "text/plain": [
       "[{'label': 'negative', 'score': 0.8929450511932373},\n",
       " {'label': 'negative', 'score': 0.9528577327728271},\n",
       " {'label': 'neutral', 'score': 0.49137595295906067},\n",
       " {'label': 'neutral', 'score': 0.7027553915977478},\n",
       " {'label': 'positive', 'score': 0.9588460922241211},\n",
       " {'label': 'negative', 'score': 0.9326385259628296},\n",
       " {'label': 'positive', 'score': 0.9670273065567017},\n",
       " {'label': 'negative', 'score': 0.4927286207675934},\n",
       " {'label': 'positive', 'score': 0.5692440271377563},\n",
       " {'label': 'neutral', 'score': 0.5410042405128479},\n",
       " {'label': 'neutral', 'score': 0.7824918031692505},\n",
       " {'label': 'positive', 'score': 0.9285621047019958},\n",
       " {'label': 'positive', 'score': 0.8964844942092896},\n",
       " {'label': 'neutral', 'score': 0.7212165594100952},\n",
       " {'label': 'neutral', 'score': 0.5082650184631348},\n",
       " {'label': 'negative', 'score': 0.9288308024406433},\n",
       " {'label': 'negative', 'score': 0.716899037361145},\n",
       " {'label': 'negative', 'score': 0.8899824619293213},\n",
       " {'label': 'negative', 'score': 0.8864833116531372},\n",
       " {'label': 'negative', 'score': 0.8280228972434998},\n",
       " {'label': 'positive', 'score': 0.8062015175819397},\n",
       " {'label': 'positive', 'score': 0.7203949093818665},\n",
       " {'label': 'positive', 'score': 0.9492831230163574},\n",
       " {'label': 'negative', 'score': 0.8459047079086304},\n",
       " {'label': 'positive', 'score': 0.9682660698890686},\n",
       " {'label': 'negative', 'score': 0.893307089805603},\n",
       " {'label': 'negative', 'score': 0.6821851134300232},\n",
       " {'label': 'negative', 'score': 0.8488667607307434},\n",
       " {'label': 'negative', 'score': 0.8506013751029968},\n",
       " {'label': 'negative', 'score': 0.9526059627532959},\n",
       " {'label': 'negative', 'score': 0.9070667624473572},\n",
       " {'label': 'negative', 'score': 0.6226500868797302},\n",
       " {'label': 'positive', 'score': 0.9581431150436401},\n",
       " {'label': 'neutral', 'score': 0.6882519125938416},\n",
       " {'label': 'negative', 'score': 0.8408482074737549},\n",
       " {'label': 'positive', 'score': 0.9764845967292786},\n",
       " {'label': 'neutral', 'score': 0.7217380404472351},\n",
       " {'label': 'positive', 'score': 0.9593774080276489},\n",
       " {'label': 'positive', 'score': 0.8998517394065857},\n",
       " {'label': 'negative', 'score': 0.8882430195808411},\n",
       " {'label': 'negative', 'score': 0.9560717344284058},\n",
       " {'label': 'negative', 'score': 0.8922301530838013},\n",
       " {'label': 'neutral', 'score': 0.6698796153068542},\n",
       " {'label': 'positive', 'score': 0.9573168754577637},\n",
       " {'label': 'neutral', 'score': 0.5594919919967651},\n",
       " {'label': 'neutral', 'score': 0.7036721706390381},\n",
       " {'label': 'negative', 'score': 0.6193826794624329},\n",
       " {'label': 'positive', 'score': 0.9444323778152466},\n",
       " {'label': 'negative', 'score': 0.9432687759399414},\n",
       " {'label': 'positive', 'score': 0.8750979900360107},\n",
       " {'label': 'positive', 'score': 0.9628742933273315},\n",
       " {'label': 'negative', 'score': 0.49953457713127136},\n",
       " {'label': 'negative', 'score': 0.9569935202598572},\n",
       " {'label': 'negative', 'score': 0.7770591378211975},\n",
       " {'label': 'positive', 'score': 0.8935073614120483},\n",
       " {'label': 'neutral', 'score': 0.7547876238822937},\n",
       " {'label': 'negative', 'score': 0.6568232178688049},\n",
       " {'label': 'negative', 'score': 0.9265033006668091},\n",
       " {'label': 'neutral', 'score': 0.737775444984436},\n",
       " {'label': 'positive', 'score': 0.8474834561347961},\n",
       " {'label': 'positive', 'score': 0.6195870637893677},\n",
       " {'label': 'negative', 'score': 0.9240112900733948},\n",
       " {'label': 'negative', 'score': 0.9464316368103027},\n",
       " {'label': 'neutral', 'score': 0.7292363047599792},\n",
       " {'label': 'negative', 'score': 0.9296847581863403},\n",
       " {'label': 'neutral', 'score': 0.7717597484588623},\n",
       " {'label': 'positive', 'score': 0.7202918529510498},\n",
       " {'label': 'positive', 'score': 0.964703381061554},\n",
       " {'label': 'negative', 'score': 0.8273674249649048},\n",
       " {'label': 'positive', 'score': 0.9642143845558167},\n",
       " {'label': 'negative', 'score': 0.5406226515769958},\n",
       " {'label': 'positive', 'score': 0.9550291299819946},\n",
       " {'label': 'positive', 'score': 0.645420253276825},\n",
       " {'label': 'positive', 'score': 0.9482183456420898},\n",
       " {'label': 'positive', 'score': 0.9741177558898926},\n",
       " {'label': 'positive', 'score': 0.951601505279541},\n",
       " {'label': 'negative', 'score': 0.9108688235282898},\n",
       " {'label': 'neutral', 'score': 0.7961897253990173},\n",
       " {'label': 'positive', 'score': 0.9670193791389465},\n",
       " {'label': 'positive', 'score': 0.9680470824241638},\n",
       " {'label': 'negative', 'score': 0.9564516544342041},\n",
       " {'label': 'positive', 'score': 0.96277916431427},\n",
       " {'label': 'negative', 'score': 0.9481761455535889},\n",
       " {'label': 'positive', 'score': 0.9664667844772339},\n",
       " {'label': 'neutral', 'score': 0.4810873866081238},\n",
       " {'label': 'positive', 'score': 0.9498469829559326},\n",
       " {'label': 'negative', 'score': 0.9497091174125671},\n",
       " {'label': 'positive', 'score': 0.9625899791717529},\n",
       " {'label': 'positive', 'score': 0.9752413630485535},\n",
       " {'label': 'negative', 'score': 0.9192543029785156},\n",
       " {'label': 'negative', 'score': 0.48999229073524475},\n",
       " {'label': 'negative', 'score': 0.9451764225959778},\n",
       " {'label': 'negative', 'score': 0.9021896123886108},\n",
       " {'label': 'positive', 'score': 0.8939957618713379},\n",
       " {'label': 'positive', 'score': 0.965860903263092},\n",
       " {'label': 'negative', 'score': 0.9454805850982666},\n",
       " {'label': 'positive', 'score': 0.9275004267692566},\n",
       " {'label': 'neutral', 'score': 0.6155816912651062},\n",
       " {'label': 'negative', 'score': 0.9418292045593262},\n",
       " {'label': 'positive', 'score': 0.9333289265632629},\n",
       " {'label': 'positive', 'score': 0.9482556581497192},\n",
       " {'label': 'positive', 'score': 0.9285187721252441},\n",
       " {'label': 'negative', 'score': 0.5443586707115173},\n",
       " {'label': 'positive', 'score': 0.9422473907470703},\n",
       " {'label': 'negative', 'score': 0.4935494363307953},\n",
       " {'label': 'negative', 'score': 0.9528123140335083},\n",
       " {'label': 'positive', 'score': 0.9383412003517151},\n",
       " {'label': 'negative', 'score': 0.9354771375656128},\n",
       " {'label': 'positive', 'score': 0.9745510220527649},\n",
       " {'label': 'positive', 'score': 0.9469937682151794},\n",
       " {'label': 'neutral', 'score': 0.6614131331443787},\n",
       " {'label': 'positive', 'score': 0.974877119064331},\n",
       " {'label': 'negative', 'score': 0.716935932636261},\n",
       " {'label': 'neutral', 'score': 0.5121516585350037},\n",
       " {'label': 'negative', 'score': 0.6869428157806396},\n",
       " {'label': 'positive', 'score': 0.965752899646759},\n",
       " {'label': 'negative', 'score': 0.9174037575721741},\n",
       " {'label': 'positive', 'score': 0.9242851734161377},\n",
       " {'label': 'neutral', 'score': 0.7150449156761169},\n",
       " {'label': 'positive', 'score': 0.5584291815757751},\n",
       " {'label': 'negative', 'score': 0.8944832682609558},\n",
       " {'label': 'negative', 'score': 0.8841461539268494},\n",
       " {'label': 'negative', 'score': 0.8098284006118774},\n",
       " {'label': 'neutral', 'score': 0.72981858253479},\n",
       " {'label': 'positive', 'score': 0.8837472200393677},\n",
       " {'label': 'negative', 'score': 0.9348711371421814},\n",
       " {'label': 'positive', 'score': 0.5903630256652832},\n",
       " {'label': 'positive', 'score': 0.9695315361022949},\n",
       " {'label': 'negative', 'score': 0.9449760317802429},\n",
       " {'label': 'positive', 'score': 0.9408954381942749},\n",
       " {'label': 'positive', 'score': 0.956060528755188},\n",
       " {'label': 'positive', 'score': 0.9667527079582214},\n",
       " {'label': 'neutral', 'score': 0.7738680839538574},\n",
       " {'label': 'neutral', 'score': 0.782971978187561},\n",
       " {'label': 'positive', 'score': 0.9044676423072815},\n",
       " {'label': 'neutral', 'score': 0.771541178226471},\n",
       " {'label': 'negative', 'score': 0.9052470922470093},\n",
       " {'label': 'neutral', 'score': 0.8315898776054382},\n",
       " {'label': 'negative', 'score': 0.952235996723175},\n",
       " {'label': 'neutral', 'score': 0.5596586465835571},\n",
       " {'label': 'positive', 'score': 0.945809543132782},\n",
       " {'label': 'positive', 'score': 0.9706277847290039},\n",
       " {'label': 'neutral', 'score': 0.566450834274292},\n",
       " {'label': 'negative', 'score': 0.945147693157196},\n",
       " {'label': 'negative', 'score': 0.959881603717804},\n",
       " {'label': 'negative', 'score': 0.9238203763961792},\n",
       " {'label': 'positive', 'score': 0.8773447275161743},\n",
       " {'label': 'positive', 'score': 0.9605897068977356},\n",
       " {'label': 'negative', 'score': 0.9115651249885559},\n",
       " {'label': 'neutral', 'score': 0.7713297009468079},\n",
       " {'label': 'positive', 'score': 0.8045423030853271},\n",
       " {'label': 'neutral', 'score': 0.7013705968856812},\n",
       " {'label': 'positive', 'score': 0.9582707285881042},\n",
       " {'label': 'positive', 'score': 0.8814979791641235},\n",
       " {'label': 'neutral', 'score': 0.763301432132721},\n",
       " {'label': 'neutral', 'score': 0.6246768236160278},\n",
       " {'label': 'negative', 'score': 0.9595581293106079},\n",
       " {'label': 'neutral', 'score': 0.5639780759811401},\n",
       " {'label': 'positive', 'score': 0.8985481262207031},\n",
       " {'label': 'negative', 'score': 0.8990525603294373},\n",
       " {'label': 'negative', 'score': 0.9333716034889221},\n",
       " {'label': 'negative', 'score': 0.9542611241340637},\n",
       " {'label': 'negative', 'score': 0.9197951555252075},\n",
       " {'label': 'positive', 'score': 0.962444007396698},\n",
       " {'label': 'negative', 'score': 0.956074059009552},\n",
       " {'label': 'positive', 'score': 0.9196937680244446},\n",
       " {'label': 'negative', 'score': 0.6860516667366028},\n",
       " {'label': 'negative', 'score': 0.9451821446418762},\n",
       " {'label': 'negative', 'score': 0.5805385112762451},\n",
       " {'label': 'neutral', 'score': 0.828015148639679},\n",
       " {'label': 'positive', 'score': 0.9609271883964539},\n",
       " {'label': 'positive', 'score': 0.9492374658584595},\n",
       " {'label': 'positive', 'score': 0.9609618782997131},\n",
       " {'label': 'negative', 'score': 0.8080260157585144},\n",
       " {'label': 'negative', 'score': 0.9077053666114807},\n",
       " {'label': 'neutral', 'score': 0.5438252091407776},\n",
       " {'label': 'positive', 'score': 0.9599564075469971},\n",
       " {'label': 'positive', 'score': 0.9127479195594788},\n",
       " {'label': 'negative', 'score': 0.9607097506523132},\n",
       " {'label': 'negative', 'score': 0.9182327389717102},\n",
       " {'label': 'positive', 'score': 0.9407726526260376},\n",
       " {'label': 'negative', 'score': 0.9491486549377441},\n",
       " {'label': 'positive', 'score': 0.9752802848815918},\n",
       " {'label': 'positive', 'score': 0.965674877166748},\n",
       " {'label': 'neutral', 'score': 0.7858723402023315},\n",
       " {'label': 'positive', 'score': 0.9158234000205994},\n",
       " {'label': 'positive', 'score': 0.8651778697967529},\n",
       " {'label': 'neutral', 'score': 0.7031580209732056},\n",
       " {'label': 'positive', 'score': 0.9153525233268738},\n",
       " {'label': 'positive', 'score': 0.8106365203857422},\n",
       " {'label': 'negative', 'score': 0.9544223546981812},\n",
       " {'label': 'positive', 'score': 0.8237026929855347},\n",
       " {'label': 'neutral', 'score': 0.7015610337257385},\n",
       " {'label': 'positive', 'score': 0.9665802717208862},\n",
       " {'label': 'neutral', 'score': 0.5678623914718628},\n",
       " {'label': 'negative', 'score': 0.9483383893966675},\n",
       " {'label': 'neutral', 'score': 0.7543174028396606},\n",
       " {'label': 'positive', 'score': 0.9760661125183105},\n",
       " {'label': 'negative', 'score': 0.9447858333587646},\n",
       " {'label': 'negative', 'score': 0.9446293711662292},\n",
       " {'label': 'neutral', 'score': 0.5344535708427429},\n",
       " {'label': 'neutral', 'score': 0.6882031559944153},\n",
       " {'label': 'neutral', 'score': 0.75821453332901},\n",
       " {'label': 'negative', 'score': 0.8192583322525024},\n",
       " {'label': 'negative', 'score': 0.8730209469795227},\n",
       " {'label': 'neutral', 'score': 0.542733371257782},\n",
       " {'label': 'positive', 'score': 0.8163443207740784},\n",
       " {'label': 'negative', 'score': 0.9491245746612549},\n",
       " {'label': 'neutral', 'score': 0.6874343752861023},\n",
       " {'label': 'negative', 'score': 0.9345809817314148},\n",
       " {'label': 'negative', 'score': 0.9332587122917175},\n",
       " {'label': 'negative', 'score': 0.8845310211181641},\n",
       " {'label': 'positive', 'score': 0.5918744206428528},\n",
       " {'label': 'neutral', 'score': 0.7820216417312622},\n",
       " {'label': 'positive', 'score': 0.9683384895324707},\n",
       " {'label': 'negative', 'score': 0.9457032084465027},\n",
       " {'label': 'negative', 'score': 0.8453779816627502},\n",
       " {'label': 'positive', 'score': 0.9673464894294739},\n",
       " {'label': 'negative', 'score': 0.9021966457366943},\n",
       " {'label': 'neutral', 'score': 0.7533609867095947},\n",
       " {'label': 'positive', 'score': 0.6125015020370483},\n",
       " {'label': 'positive', 'score': 0.9675530791282654},\n",
       " {'label': 'negative', 'score': 0.8735506534576416},\n",
       " {'label': 'neutral', 'score': 0.7039086818695068},\n",
       " {'label': 'negative', 'score': 0.6826428174972534},\n",
       " {'label': 'negative', 'score': 0.8571196794509888},\n",
       " {'label': 'positive', 'score': 0.9703876376152039},\n",
       " {'label': 'positive', 'score': 0.8250308632850647},\n",
       " {'label': 'neutral', 'score': 0.6073195338249207},\n",
       " {'label': 'positive', 'score': 0.8765265345573425},\n",
       " {'label': 'positive', 'score': 0.9600613713264465},\n",
       " {'label': 'positive', 'score': 0.663211464881897},\n",
       " {'label': 'negative', 'score': 0.8502141237258911},\n",
       " {'label': 'negative', 'score': 0.8565396666526794},\n",
       " {'label': 'neutral', 'score': 0.5469999313354492},\n",
       " {'label': 'positive', 'score': 0.8287093043327332},\n",
       " {'label': 'positive', 'score': 0.796857476234436},\n",
       " {'label': 'neutral', 'score': 0.6987587213516235},\n",
       " {'label': 'neutral', 'score': 0.6167533993721008},\n",
       " {'label': 'positive', 'score': 0.8846982717514038},\n",
       " {'label': 'negative', 'score': 0.9575046300888062},\n",
       " {'label': 'neutral', 'score': 0.7608810067176819},\n",
       " {'label': 'positive', 'score': 0.97467041015625},\n",
       " {'label': 'positive', 'score': 0.4866558611392975},\n",
       " {'label': 'positive', 'score': 0.5634899139404297},\n",
       " {'label': 'negative', 'score': 0.9619236588478088},\n",
       " {'label': 'positive', 'score': 0.9518619775772095},\n",
       " {'label': 'negative', 'score': 0.9271801710128784},\n",
       " {'label': 'neutral', 'score': 0.7968579530715942},\n",
       " {'label': 'neutral', 'score': 0.8170663714408875},\n",
       " {'label': 'positive', 'score': 0.8988529443740845},\n",
       " {'label': 'negative', 'score': 0.8944292068481445},\n",
       " {'label': 'negative', 'score': 0.949238121509552},\n",
       " {'label': 'neutral', 'score': 0.7544993162155151},\n",
       " {'label': 'positive', 'score': 0.9676715135574341},\n",
       " {'label': 'negative', 'score': 0.6449640989303589},\n",
       " {'label': 'neutral', 'score': 0.626215934753418},\n",
       " {'label': 'neutral', 'score': 0.7512143850326538},\n",
       " {'label': 'neutral', 'score': 0.5421062707901001},\n",
       " {'label': 'negative', 'score': 0.8351686000823975},\n",
       " {'label': 'negative', 'score': 0.7521746158599854},\n",
       " {'label': 'negative', 'score': 0.9260473251342773},\n",
       " {'label': 'negative', 'score': 0.7868342399597168},\n",
       " {'label': 'neutral', 'score': 0.7256118059158325},\n",
       " {'label': 'positive', 'score': 0.5352587699890137},\n",
       " {'label': 'negative', 'score': 0.7079017162322998},\n",
       " {'label': 'neutral', 'score': 0.8251894116401672},\n",
       " {'label': 'positive', 'score': 0.5705229043960571},\n",
       " {'label': 'negative', 'score': 0.8832388520240784},\n",
       " {'label': 'positive', 'score': 0.9447420835494995},\n",
       " {'label': 'negative', 'score': 0.8058422803878784},\n",
       " {'label': 'positive', 'score': 0.7031868100166321},\n",
       " {'label': 'neutral', 'score': 0.6105641722679138},\n",
       " {'label': 'negative', 'score': 0.901016116142273},\n",
       " {'label': 'positive', 'score': 0.7932801246643066},\n",
       " {'label': 'neutral', 'score': 0.8023502826690674},\n",
       " {'label': 'neutral', 'score': 0.6700356006622314},\n",
       " {'label': 'neutral', 'score': 0.761777937412262},\n",
       " {'label': 'neutral', 'score': 0.654278576374054},\n",
       " {'label': 'positive', 'score': 0.9559927582740784},\n",
       " {'label': 'positive', 'score': 0.9735186696052551},\n",
       " {'label': 'negative', 'score': 0.5761328935623169},\n",
       " {'label': 'neutral', 'score': 0.6858434677124023},\n",
       " {'label': 'neutral', 'score': 0.5282815098762512},\n",
       " {'label': 'neutral', 'score': 0.6957558989524841},\n",
       " {'label': 'negative', 'score': 0.8581863641738892},\n",
       " {'label': 'positive', 'score': 0.9579763412475586},\n",
       " {'label': 'positive', 'score': 0.9672556519508362},\n",
       " {'label': 'negative', 'score': 0.9574438333511353},\n",
       " {'label': 'positive', 'score': 0.8748839497566223},\n",
       " {'label': 'neutral', 'score': 0.7602567076683044},\n",
       " {'label': 'positive', 'score': 0.7084673643112183},\n",
       " {'label': 'negative', 'score': 0.5257521271705627},\n",
       " {'label': 'neutral', 'score': 0.49285373091697693},\n",
       " {'label': 'negative', 'score': 0.964961588382721},\n",
       " {'label': 'neutral', 'score': 0.7579947113990784},\n",
       " {'label': 'neutral', 'score': 0.6164056658744812},\n",
       " {'label': 'positive', 'score': 0.924363911151886},\n",
       " {'label': 'negative', 'score': 0.7104131579399109},\n",
       " {'label': 'neutral', 'score': 0.7715025544166565},\n",
       " {'label': 'negative', 'score': 0.8644803762435913},\n",
       " {'label': 'neutral', 'score': 0.7753182053565979},\n",
       " {'label': 'neutral', 'score': 0.5260401964187622},\n",
       " {'label': 'negative', 'score': 0.9524020552635193},\n",
       " {'label': 'neutral', 'score': 0.7414483428001404},\n",
       " {'label': 'positive', 'score': 0.9676244258880615},\n",
       " {'label': 'positive', 'score': 0.9519229531288147},\n",
       " {'label': 'negative', 'score': 0.7847949266433716},\n",
       " {'label': 'negative', 'score': 0.9588639736175537},\n",
       " {'label': 'positive', 'score': 0.5363426208496094},\n",
       " {'label': 'neutral', 'score': 0.6517334580421448},\n",
       " {'label': 'positive', 'score': 0.9462425708770752},\n",
       " {'label': 'neutral', 'score': 0.5299780964851379},\n",
       " {'label': 'neutral', 'score': 0.5457853674888611},\n",
       " {'label': 'neutral', 'score': 0.7332939505577087},\n",
       " {'label': 'neutral', 'score': 0.652496874332428},\n",
       " {'label': 'negative', 'score': 0.88141268491745},\n",
       " {'label': 'neutral', 'score': 0.7420506477355957},\n",
       " {'label': 'positive', 'score': 0.8119155764579773},\n",
       " {'label': 'negative', 'score': 0.7553620338439941},\n",
       " {'label': 'negative', 'score': 0.9102067351341248},\n",
       " {'label': 'negative', 'score': 0.8974392414093018},\n",
       " {'label': 'negative', 'score': 0.9312132000923157},\n",
       " {'label': 'positive', 'score': 0.8223037719726562},\n",
       " {'label': 'negative', 'score': 0.9385694265365601},\n",
       " {'label': 'negative', 'score': 0.5929014086723328},\n",
       " {'label': 'positive', 'score': 0.9436678290367126},\n",
       " {'label': 'negative', 'score': 0.8453059792518616},\n",
       " {'label': 'neutral', 'score': 0.6031732559204102},\n",
       " {'label': 'positive', 'score': 0.9623374342918396},\n",
       " {'label': 'negative', 'score': 0.9376649856567383},\n",
       " {'label': 'neutral', 'score': 0.6650282144546509},\n",
       " {'label': 'neutral', 'score': 0.6929895877838135},\n",
       " {'label': 'negative', 'score': 0.8681710362434387},\n",
       " {'label': 'negative', 'score': 0.9500131011009216},\n",
       " {'label': 'neutral', 'score': 0.7826799750328064},\n",
       " {'label': 'neutral', 'score': 0.7643445730209351},\n",
       " {'label': 'positive', 'score': 0.9643812775611877},\n",
       " {'label': 'negative', 'score': 0.9611335396766663},\n",
       " {'label': 'negative', 'score': 0.957482635974884},\n",
       " {'label': 'neutral', 'score': 0.7583908438682556},\n",
       " {'label': 'negative', 'score': 0.8606313467025757},\n",
       " {'label': 'negative', 'score': 0.960820198059082},\n",
       " {'label': 'neutral', 'score': 0.8096814155578613},\n",
       " {'label': 'neutral', 'score': 0.7702895998954773},\n",
       " {'label': 'neutral', 'score': 0.7138149738311768},\n",
       " {'label': 'positive', 'score': 0.6961855292320251},\n",
       " {'label': 'positive', 'score': 0.7847478985786438},\n",
       " {'label': 'positive', 'score': 0.571299135684967},\n",
       " {'label': 'negative', 'score': 0.953071117401123},\n",
       " {'label': 'negative', 'score': 0.9554049372673035},\n",
       " {'label': 'neutral', 'score': 0.49241507053375244},\n",
       " {'label': 'positive', 'score': 0.841674268245697},\n",
       " {'label': 'negative', 'score': 0.6006767153739929},\n",
       " {'label': 'negative', 'score': 0.7984611392021179},\n",
       " {'label': 'neutral', 'score': 0.7389829158782959},\n",
       " {'label': 'neutral', 'score': 0.6240285634994507},\n",
       " {'label': 'positive', 'score': 0.9112656116485596},\n",
       " {'label': 'neutral', 'score': 0.6658311486244202},\n",
       " {'label': 'neutral', 'score': 0.7224020957946777},\n",
       " {'label': 'negative', 'score': 0.6371894478797913},\n",
       " {'label': 'neutral', 'score': 0.7949478030204773},\n",
       " {'label': 'negative', 'score': 0.9422213435173035},\n",
       " {'label': 'negative', 'score': 0.9625054001808167},\n",
       " {'label': 'positive', 'score': 0.9728800058364868},\n",
       " {'label': 'negative', 'score': 0.8998231887817383},\n",
       " {'label': 'positive', 'score': 0.9420335292816162},\n",
       " {'label': 'neutral', 'score': 0.7145613431930542},\n",
       " {'label': 'neutral', 'score': 0.5933691263198853},\n",
       " {'label': 'positive', 'score': 0.9368902444839478},\n",
       " {'label': 'positive', 'score': 0.5536925792694092},\n",
       " {'label': 'negative', 'score': 0.9343831539154053},\n",
       " {'label': 'negative', 'score': 0.8924925327301025},\n",
       " {'label': 'neutral', 'score': 0.5194984674453735},\n",
       " {'label': 'negative', 'score': 0.754544198513031},\n",
       " {'label': 'neutral', 'score': 0.6203537583351135},\n",
       " {'label': 'negative', 'score': 0.9386633634567261},\n",
       " {'label': 'positive', 'score': 0.706045925617218},\n",
       " {'label': 'neutral', 'score': 0.5334504842758179},\n",
       " {'label': 'negative', 'score': 0.9491026997566223},\n",
       " {'label': 'negative', 'score': 0.9562587738037109},\n",
       " {'label': 'positive', 'score': 0.6929436326026917},\n",
       " {'label': 'positive', 'score': 0.9502707123756409},\n",
       " {'label': 'positive', 'score': 0.9700928330421448},\n",
       " {'label': 'positive', 'score': 0.8362953662872314},\n",
       " {'label': 'positive', 'score': 0.8720181584358215},\n",
       " {'label': 'neutral', 'score': 0.7576192021369934},\n",
       " {'label': 'negative', 'score': 0.7353370189666748},\n",
       " {'label': 'neutral', 'score': 0.6289466619491577},\n",
       " {'label': 'neutral', 'score': 0.7825837731361389},\n",
       " {'label': 'negative', 'score': 0.8115862011909485},\n",
       " {'label': 'positive', 'score': 0.9745722413063049},\n",
       " {'label': 'negative', 'score': 0.6066799163818359},\n",
       " {'label': 'positive', 'score': 0.9286378026008606},\n",
       " {'label': 'positive', 'score': 0.9533900022506714},\n",
       " {'label': 'negative', 'score': 0.9430922269821167},\n",
       " {'label': 'negative', 'score': 0.9023028612136841},\n",
       " {'label': 'neutral', 'score': 0.6896222233772278},\n",
       " {'label': 'neutral', 'score': 0.7685990929603577},\n",
       " {'label': 'neutral', 'score': 0.5234231352806091},\n",
       " {'label': 'positive', 'score': 0.9609217047691345},\n",
       " {'label': 'neutral', 'score': 0.7588107585906982},\n",
       " {'label': 'negative', 'score': 0.8988721370697021},\n",
       " {'label': 'positive', 'score': 0.7469572424888611},\n",
       " {'label': 'positive', 'score': 0.6274027228355408},\n",
       " {'label': 'positive', 'score': 0.8621760010719299},\n",
       " {'label': 'negative', 'score': 0.8513808846473694},\n",
       " {'label': 'negative', 'score': 0.7350513935089111},\n",
       " {'label': 'neutral', 'score': 0.5466949343681335},\n",
       " {'label': 'neutral', 'score': 0.5942185521125793},\n",
       " {'label': 'neutral', 'score': 0.817169189453125},\n",
       " {'label': 'neutral', 'score': 0.5654877424240112},\n",
       " {'label': 'neutral', 'score': 0.8205065727233887},\n",
       " {'label': 'positive', 'score': 0.947965681552887},\n",
       " {'label': 'negative', 'score': 0.8565390110015869},\n",
       " {'label': 'negative', 'score': 0.9546100497245789},\n",
       " {'label': 'neutral', 'score': 0.6787974238395691},\n",
       " {'label': 'positive', 'score': 0.9355767965316772},\n",
       " {'label': 'positive', 'score': 0.9721066951751709},\n",
       " {'label': 'negative', 'score': 0.9478150010108948},\n",
       " {'label': 'negative', 'score': 0.9517111778259277},\n",
       " {'label': 'neutral', 'score': 0.799172580242157},\n",
       " {'label': 'negative', 'score': 0.6454475522041321},\n",
       " {'label': 'positive', 'score': 0.9574587345123291},\n",
       " {'label': 'negative', 'score': 0.9261991381645203},\n",
       " {'label': 'negative', 'score': 0.8397095799446106},\n",
       " {'label': 'positive', 'score': 0.8514199256896973},\n",
       " {'label': 'neutral', 'score': 0.6211459040641785},\n",
       " {'label': 'neutral', 'score': 0.5098403096199036},\n",
       " {'label': 'neutral', 'score': 0.7326378226280212},\n",
       " {'label': 'neutral', 'score': 0.5831137895584106},\n",
       " {'label': 'neutral', 'score': 0.5074433088302612},\n",
       " {'label': 'negative', 'score': 0.7668724656105042},\n",
       " {'label': 'neutral', 'score': 0.5086025595664978},\n",
       " {'label': 'negative', 'score': 0.6806352138519287},\n",
       " {'label': 'positive', 'score': 0.9677881598472595},\n",
       " {'label': 'neutral', 'score': 0.6504262685775757},\n",
       " {'label': 'negative', 'score': 0.9631685018539429},\n",
       " {'label': 'neutral', 'score': 0.7862094044685364},\n",
       " {'label': 'positive', 'score': 0.8987032771110535},\n",
       " {'label': 'positive', 'score': 0.49931031465530396},\n",
       " {'label': 'negative', 'score': 0.962785005569458},\n",
       " {'label': 'neutral', 'score': 0.7738545536994934},\n",
       " {'label': 'neutral', 'score': 0.7150909900665283},\n",
       " {'label': 'negative', 'score': 0.9564659595489502},\n",
       " {'label': 'negative', 'score': 0.9585472345352173},\n",
       " {'label': 'positive', 'score': 0.9747070670127869},\n",
       " {'label': 'negative', 'score': 0.9380348324775696},\n",
       " {'label': 'neutral', 'score': 0.7349169850349426},\n",
       " {'label': 'neutral', 'score': 0.6463303565979004},\n",
       " {'label': 'neutral', 'score': 0.494454950094223},\n",
       " {'label': 'negative', 'score': 0.9324023723602295},\n",
       " {'label': 'neutral', 'score': 0.6313002705574036},\n",
       " {'label': 'negative', 'score': 0.636199951171875},\n",
       " {'label': 'neutral', 'score': 0.5041494965553284},\n",
       " {'label': 'negative', 'score': 0.9425411820411682},\n",
       " {'label': 'negative', 'score': 0.9605923295021057},\n",
       " {'label': 'neutral', 'score': 0.5723158717155457},\n",
       " {'label': 'neutral', 'score': 0.5887510180473328},\n",
       " {'label': 'neutral', 'score': 0.7434419393539429},\n",
       " {'label': 'negative', 'score': 0.8932578563690186},\n",
       " {'label': 'neutral', 'score': 0.5584070682525635},\n",
       " {'label': 'neutral', 'score': 0.5768678188323975},\n",
       " {'label': 'negative', 'score': 0.6877381801605225},\n",
       " {'label': 'positive', 'score': 0.9608194231987},\n",
       " {'label': 'negative', 'score': 0.8874167203903198},\n",
       " {'label': 'positive', 'score': 0.9613206386566162},\n",
       " {'label': 'negative', 'score': 0.9283033609390259},\n",
       " {'label': 'negative', 'score': 0.8906561136245728},\n",
       " {'label': 'positive', 'score': 0.9643586874008179},\n",
       " {'label': 'negative', 'score': 0.7964365482330322},\n",
       " {'label': 'positive', 'score': 0.746090292930603},\n",
       " {'label': 'negative', 'score': 0.9537729620933533},\n",
       " {'label': 'positive', 'score': 0.6765807271003723},\n",
       " {'label': 'negative', 'score': 0.9208891987800598},\n",
       " {'label': 'positive', 'score': 0.9651206731796265},\n",
       " {'label': 'positive', 'score': 0.6820487976074219},\n",
       " {'label': 'positive', 'score': 0.91147780418396},\n",
       " {'label': 'positive', 'score': 0.9518239498138428},\n",
       " {'label': 'negative', 'score': 0.9486702084541321},\n",
       " {'label': 'positive', 'score': 0.8199165463447571},\n",
       " {'label': 'negative', 'score': 0.8940206170082092},\n",
       " {'label': 'negative', 'score': 0.9182111620903015},\n",
       " {'label': 'positive', 'score': 0.8562538027763367},\n",
       " {'label': 'neutral', 'score': 0.790903627872467},\n",
       " {'label': 'negative', 'score': 0.9562339186668396},\n",
       " {'label': 'negative', 'score': 0.9395647644996643},\n",
       " {'label': 'negative', 'score': 0.9610742926597595},\n",
       " {'label': 'negative', 'score': 0.8699116110801697},\n",
       " {'label': 'positive', 'score': 0.6334720253944397},\n",
       " {'label': 'neutral', 'score': 0.5914710760116577},\n",
       " {'label': 'neutral', 'score': 0.744085431098938},\n",
       " {'label': 'neutral', 'score': 0.622717559337616},\n",
       " {'label': 'neutral', 'score': 0.5184789896011353},\n",
       " {'label': 'positive', 'score': 0.8795841336250305},\n",
       " {'label': 'negative', 'score': 0.9582998156547546},\n",
       " {'label': 'negative', 'score': 0.8950213193893433},\n",
       " {'label': 'positive', 'score': 0.8083789348602295},\n",
       " {'label': 'positive', 'score': 0.9547397494316101},\n",
       " {'label': 'neutral', 'score': 0.5499394536018372},\n",
       " {'label': 'negative', 'score': 0.8935185074806213},\n",
       " {'label': 'negative', 'score': 0.9524869918823242},\n",
       " {'label': 'negative', 'score': 0.9185376167297363},\n",
       " {'label': 'negative', 'score': 0.8948776125907898},\n",
       " {'label': 'positive', 'score': 0.8092876672744751},\n",
       " {'label': 'positive', 'score': 0.7502050399780273},\n",
       " {'label': 'negative', 'score': 0.9165605902671814},\n",
       " {'label': 'negative', 'score': 0.742476761341095},\n",
       " {'label': 'positive', 'score': 0.598010778427124},\n",
       " {'label': 'neutral', 'score': 0.7813698649406433},\n",
       " {'label': 'positive', 'score': 0.7913481593132019},\n",
       " {'label': 'neutral', 'score': 0.8404242992401123},\n",
       " {'label': 'negative', 'score': 0.9562037587165833},\n",
       " {'label': 'neutral', 'score': 0.7508375644683838},\n",
       " {'label': 'negative', 'score': 0.9509764313697815},\n",
       " {'label': 'neutral', 'score': 0.5231413245201111},\n",
       " {'label': 'positive', 'score': 0.967751681804657},\n",
       " {'label': 'neutral', 'score': 0.6732073426246643},\n",
       " {'label': 'negative', 'score': 0.7780811190605164},\n",
       " {'label': 'positive', 'score': 0.862045168876648},\n",
       " {'label': 'negative', 'score': 0.7077445983886719},\n",
       " {'label': 'neutral', 'score': 0.5619985461235046},\n",
       " {'label': 'positive', 'score': 0.9602953195571899},\n",
       " {'label': 'positive', 'score': 0.9496701955795288},\n",
       " {'label': 'neutral', 'score': 0.8489388823509216},\n",
       " {'label': 'positive', 'score': 0.9223083853721619},\n",
       " {'label': 'neutral', 'score': 0.6348021030426025},\n",
       " {'label': 'neutral', 'score': 0.7165465950965881},\n",
       " {'label': 'negative', 'score': 0.6561015248298645},\n",
       " {'label': 'neutral', 'score': 0.5868810415267944},\n",
       " {'label': 'negative', 'score': 0.9324015378952026},\n",
       " {'label': 'negative', 'score': 0.9568914175033569},\n",
       " {'label': 'positive', 'score': 0.6599360108375549},\n",
       " {'label': 'neutral', 'score': 0.4908909797668457},\n",
       " {'label': 'neutral', 'score': 0.7447115778923035},\n",
       " {'label': 'negative', 'score': 0.9088373780250549},\n",
       " {'label': 'negative', 'score': 0.9181129336357117},\n",
       " {'label': 'positive', 'score': 0.9684153199195862},\n",
       " {'label': 'positive', 'score': 0.8046788573265076},\n",
       " {'label': 'positive', 'score': 0.8277013897895813},\n",
       " {'label': 'negative', 'score': 0.8093201518058777},\n",
       " {'label': 'positive', 'score': 0.9456895589828491},\n",
       " {'label': 'positive', 'score': 0.6354022026062012},\n",
       " {'label': 'positive', 'score': 0.9708037972450256},\n",
       " {'label': 'negative', 'score': 0.8141729831695557},\n",
       " {'label': 'positive', 'score': 0.9054951667785645},\n",
       " {'label': 'negative', 'score': 0.9527024626731873},\n",
       " {'label': 'neutral', 'score': 0.7325555086135864},\n",
       " {'label': 'negative', 'score': 0.9255529046058655},\n",
       " {'label': 'negative', 'score': 0.9614608287811279},\n",
       " {'label': 'positive', 'score': 0.969328761100769},\n",
       " {'label': 'positive', 'score': 0.6492499709129333},\n",
       " {'label': 'positive', 'score': 0.9069184064865112},\n",
       " {'label': 'positive', 'score': 0.7274988293647766},\n",
       " {'label': 'neutral', 'score': 0.7025570273399353},\n",
       " {'label': 'negative', 'score': 0.9282597303390503},\n",
       " {'label': 'neutral', 'score': 0.6385789513587952},\n",
       " {'label': 'positive', 'score': 0.9593517184257507},\n",
       " {'label': 'negative', 'score': 0.8580138087272644},\n",
       " {'label': 'neutral', 'score': 0.5507827997207642},\n",
       " {'label': 'negative', 'score': 0.8724526762962341},\n",
       " {'label': 'neutral', 'score': 0.5150139331817627},\n",
       " {'label': 'negative', 'score': 0.8926356434822083},\n",
       " {'label': 'positive', 'score': 0.9654648900032043},\n",
       " {'label': 'positive', 'score': 0.950114905834198},\n",
       " {'label': 'negative', 'score': 0.9452937841415405},\n",
       " {'label': 'negative', 'score': 0.9437940716743469},\n",
       " {'label': 'negative', 'score': 0.9455533623695374},\n",
       " {'label': 'positive', 'score': 0.9441677927970886},\n",
       " {'label': 'positive', 'score': 0.9734302163124084},\n",
       " {'label': 'positive', 'score': 0.5385975241661072},\n",
       " {'label': 'negative', 'score': 0.8514260649681091},\n",
       " {'label': 'positive', 'score': 0.9345818758010864},\n",
       " {'label': 'negative', 'score': 0.6231769919395447},\n",
       " {'label': 'positive', 'score': 0.9742460250854492},\n",
       " {'label': 'positive', 'score': 0.7183817028999329},\n",
       " {'label': 'positive', 'score': 0.93465656042099},\n",
       " {'label': 'positive', 'score': 0.9643719792366028},\n",
       " {'label': 'neutral', 'score': 0.7880344390869141},\n",
       " {'label': 'negative', 'score': 0.9490397572517395},\n",
       " {'label': 'negative', 'score': 0.7715797424316406},\n",
       " {'label': 'negative', 'score': 0.950373649597168},\n",
       " {'label': 'positive', 'score': 0.9461095929145813},\n",
       " {'label': 'neutral', 'score': 0.7217397093772888},\n",
       " {'label': 'positive', 'score': 0.9404142498970032},\n",
       " {'label': 'negative', 'score': 0.9565026760101318},\n",
       " {'label': 'positive', 'score': 0.9127377867698669},\n",
       " {'label': 'positive', 'score': 0.8243688941001892},\n",
       " {'label': 'negative', 'score': 0.9639562964439392},\n",
       " {'label': 'neutral', 'score': 0.6049960851669312},\n",
       " {'label': 'negative', 'score': 0.9503505825996399},\n",
       " {'label': 'neutral', 'score': 0.7202602624893188},\n",
       " {'label': 'negative', 'score': 0.9537460803985596},\n",
       " {'label': 'positive', 'score': 0.9384166598320007},\n",
       " {'label': 'neutral', 'score': 0.6675437092781067},\n",
       " {'label': 'positive', 'score': 0.8179413080215454},\n",
       " {'label': 'negative', 'score': 0.7525915503501892},\n",
       " {'label': 'negative', 'score': 0.6358612179756165},\n",
       " {'label': 'neutral', 'score': 0.7626835703849792},\n",
       " {'label': 'positive', 'score': 0.7048545479774475},\n",
       " {'label': 'positive', 'score': 0.7524757981300354},\n",
       " {'label': 'positive', 'score': 0.9395686388015747},\n",
       " {'label': 'negative', 'score': 0.9056816101074219},\n",
       " {'label': 'negative', 'score': 0.8568214178085327},\n",
       " {'label': 'neutral', 'score': 0.49666979908943176},\n",
       " {'label': 'negative', 'score': 0.8103993535041809},\n",
       " {'label': 'negative', 'score': 0.8760632872581482},\n",
       " {'label': 'negative', 'score': 0.6289058327674866},\n",
       " {'label': 'positive', 'score': 0.9409521222114563},\n",
       " {'label': 'neutral', 'score': 0.7379181981086731},\n",
       " {'label': 'positive', 'score': 0.8993142247200012},\n",
       " {'label': 'negative', 'score': 0.9356093406677246},\n",
       " {'label': 'positive', 'score': 0.7629265785217285},\n",
       " {'label': 'positive', 'score': 0.9440004825592041},\n",
       " {'label': 'positive', 'score': 0.9030869007110596},\n",
       " {'label': 'neutral', 'score': 0.7144020795822144},\n",
       " {'label': 'positive', 'score': 0.9721383452415466},\n",
       " {'label': 'positive', 'score': 0.8892107605934143},\n",
       " {'label': 'negative', 'score': 0.9574911594390869},\n",
       " {'label': 'negative', 'score': 0.7062070965766907},\n",
       " {'label': 'positive', 'score': 0.905747652053833},\n",
       " {'label': 'negative', 'score': 0.9320035576820374},\n",
       " {'label': 'positive', 'score': 0.9613941311836243},\n",
       " {'label': 'negative', 'score': 0.7769909501075745},\n",
       " {'label': 'negative', 'score': 0.6256529688835144},\n",
       " {'label': 'neutral', 'score': 0.44161707162857056},\n",
       " {'label': 'negative', 'score': 0.7687227129936218},\n",
       " {'label': 'neutral', 'score': 0.8260380625724792},\n",
       " {'label': 'negative', 'score': 0.9573488831520081},\n",
       " {'label': 'negative', 'score': 0.5504957437515259},\n",
       " {'label': 'positive', 'score': 0.9398714303970337},\n",
       " {'label': 'positive', 'score': 0.8342125415802002},\n",
       " {'label': 'positive', 'score': 0.7330552935600281},\n",
       " {'label': 'negative', 'score': 0.8756380081176758},\n",
       " {'label': 'positive', 'score': 0.9045489430427551},\n",
       " {'label': 'neutral', 'score': 0.803109884262085},\n",
       " {'label': 'neutral', 'score': 0.7431514859199524},\n",
       " {'label': 'neutral', 'score': 0.6181212067604065},\n",
       " {'label': 'negative', 'score': 0.955616295337677},\n",
       " {'label': 'positive', 'score': 0.9160152077674866},\n",
       " {'label': 'negative', 'score': 0.9476473927497864},\n",
       " {'label': 'negative', 'score': 0.9591239094734192},\n",
       " {'label': 'neutral', 'score': 0.7665649652481079},\n",
       " {'label': 'positive', 'score': 0.9530379772186279},\n",
       " {'label': 'positive', 'score': 0.9691260457038879},\n",
       " {'label': 'negative', 'score': 0.6705797910690308},\n",
       " {'label': 'neutral', 'score': 0.5678631067276001},\n",
       " {'label': 'negative', 'score': 0.92315673828125},\n",
       " {'label': 'positive', 'score': 0.9460802674293518},\n",
       " {'label': 'neutral', 'score': 0.7203536033630371},\n",
       " {'label': 'negative', 'score': 0.9502183198928833},\n",
       " {'label': 'neutral', 'score': 0.7431769371032715},\n",
       " {'label': 'positive', 'score': 0.9634860754013062},\n",
       " {'label': 'negative', 'score': 0.8985341787338257},\n",
       " {'label': 'neutral', 'score': 0.6436969041824341},\n",
       " {'label': 'positive', 'score': 0.8530071377754211},\n",
       " {'label': 'negative', 'score': 0.8332819938659668},\n",
       " {'label': 'positive', 'score': 0.9547874927520752},\n",
       " {'label': 'negative', 'score': 0.9339183568954468},\n",
       " {'label': 'neutral', 'score': 0.6144989132881165},\n",
       " {'label': 'neutral', 'score': 0.5555112957954407},\n",
       " {'label': 'positive', 'score': 0.6502270698547363},\n",
       " {'label': 'positive', 'score': 0.7877002358436584},\n",
       " {'label': 'positive', 'score': 0.8764186501502991},\n",
       " {'label': 'positive', 'score': 0.8056797385215759},\n",
       " {'label': 'negative', 'score': 0.9545764923095703},\n",
       " {'label': 'negative', 'score': 0.7083267569541931},\n",
       " {'label': 'negative', 'score': 0.9458983540534973},\n",
       " {'label': 'negative', 'score': 0.827111542224884},\n",
       " {'label': 'positive', 'score': 0.9420575499534607},\n",
       " {'label': 'negative', 'score': 0.95020991563797},\n",
       " {'label': 'positive', 'score': 0.9681473970413208},\n",
       " {'label': 'neutral', 'score': 0.7043976783752441},\n",
       " {'label': 'negative', 'score': 0.8460280299186707},\n",
       " {'label': 'negative', 'score': 0.9590206146240234},\n",
       " {'label': 'positive', 'score': 0.9650013446807861},\n",
       " {'label': 'neutral', 'score': 0.5925832390785217},\n",
       " {'label': 'negative', 'score': 0.9139631390571594},\n",
       " {'label': 'neutral', 'score': 0.749846875667572},\n",
       " {'label': 'positive', 'score': 0.9487658143043518},\n",
       " {'label': 'neutral', 'score': 0.6600363850593567},\n",
       " {'label': 'negative', 'score': 0.9291709065437317},\n",
       " {'label': 'negative', 'score': 0.9623862504959106},\n",
       " {'label': 'negative', 'score': 0.7066071629524231},\n",
       " {'label': 'neutral', 'score': 0.6371440291404724},\n",
       " {'label': 'neutral', 'score': 0.5881806015968323},\n",
       " {'label': 'negative', 'score': 0.8915196657180786},\n",
       " {'label': 'positive', 'score': 0.9453995823860168},\n",
       " {'label': 'positive', 'score': 0.8979546427726746},\n",
       " {'label': 'negative', 'score': 0.7297390699386597},\n",
       " {'label': 'negative', 'score': 0.8333950638771057},\n",
       " {'label': 'positive', 'score': 0.9637407064437866},\n",
       " {'label': 'negative', 'score': 0.9492849707603455},\n",
       " {'label': 'neutral', 'score': 0.8126251697540283},\n",
       " {'label': 'negative', 'score': 0.9405778050422668},\n",
       " {'label': 'negative', 'score': 0.9426517486572266},\n",
       " {'label': 'neutral', 'score': 0.7368651628494263},\n",
       " {'label': 'positive', 'score': 0.9724751710891724},\n",
       " {'label': 'negative', 'score': 0.9628614783287048},\n",
       " {'label': 'negative', 'score': 0.9375706911087036},\n",
       " {'label': 'positive', 'score': 0.635126531124115},\n",
       " {'label': 'negative', 'score': 0.9115327596664429},\n",
       " {'label': 'positive', 'score': 0.9518705010414124},\n",
       " {'label': 'neutral', 'score': 0.8169649243354797},\n",
       " {'label': 'neutral', 'score': 0.5135083198547363},\n",
       " {'label': 'negative', 'score': 0.9423534274101257},\n",
       " {'label': 'negative', 'score': 0.8135198354721069},\n",
       " {'label': 'neutral', 'score': 0.5991384983062744},\n",
       " {'label': 'positive', 'score': 0.8950279355049133},\n",
       " {'label': 'negative', 'score': 0.9613416790962219},\n",
       " {'label': 'positive', 'score': 0.9021487236022949},\n",
       " {'label': 'positive', 'score': 0.5070900321006775},\n",
       " {'label': 'negative', 'score': 0.9363623261451721},\n",
       " {'label': 'positive', 'score': 0.9092863202095032},\n",
       " {'label': 'neutral', 'score': 0.843926727771759},\n",
       " {'label': 'positive', 'score': 0.8390743732452393},\n",
       " {'label': 'neutral', 'score': 0.7626509666442871},\n",
       " {'label': 'positive', 'score': 0.9602237939834595},\n",
       " {'label': 'neutral', 'score': 0.6840454339981079},\n",
       " {'label': 'negative', 'score': 0.7587361335754395},\n",
       " {'label': 'positive', 'score': 0.9084086418151855},\n",
       " {'label': 'positive', 'score': 0.8956822752952576},\n",
       " {'label': 'negative', 'score': 0.8599004149436951},\n",
       " {'label': 'negative', 'score': 0.804675281047821},\n",
       " {'label': 'positive', 'score': 0.6400405764579773},\n",
       " {'label': 'negative', 'score': 0.901742160320282},\n",
       " {'label': 'neutral', 'score': 0.7935820817947388},\n",
       " {'label': 'positive', 'score': 0.9525426626205444},\n",
       " {'label': 'positive', 'score': 0.5702123045921326},\n",
       " {'label': 'positive', 'score': 0.9559011459350586},\n",
       " {'label': 'positive', 'score': 0.9496939778327942},\n",
       " {'label': 'negative', 'score': 0.487475723028183},\n",
       " {'label': 'positive', 'score': 0.9194527864456177},\n",
       " {'label': 'negative', 'score': 0.8548427820205688},\n",
       " {'label': 'neutral', 'score': 0.7114918231964111},\n",
       " {'label': 'positive', 'score': 0.9742652773857117},\n",
       " {'label': 'neutral', 'score': 0.6782129406929016},\n",
       " {'label': 'negative', 'score': 0.9540135860443115},\n",
       " {'label': 'neutral', 'score': 0.8131382465362549},\n",
       " {'label': 'positive', 'score': 0.9027794599533081},\n",
       " {'label': 'negative', 'score': 0.9335938692092896},\n",
       " {'label': 'negative', 'score': 0.9472873210906982},\n",
       " {'label': 'positive', 'score': 0.9582383036613464},\n",
       " {'label': 'neutral', 'score': 0.47880128026008606},\n",
       " {'label': 'positive', 'score': 0.9464366436004639},\n",
       " {'label': 'negative', 'score': 0.530103325843811},\n",
       " {'label': 'positive', 'score': 0.7392551898956299},\n",
       " {'label': 'positive', 'score': 0.8912160992622375},\n",
       " {'label': 'positive', 'score': 0.7605737447738647},\n",
       " {'label': 'positive', 'score': 0.9478394985198975},\n",
       " {'label': 'neutral', 'score': 0.7180179953575134},\n",
       " {'label': 'positive', 'score': 0.9362257719039917},\n",
       " {'label': 'negative', 'score': 0.9015288949012756},\n",
       " {'label': 'negative', 'score': 0.959909200668335},\n",
       " {'label': 'neutral', 'score': 0.723100483417511},\n",
       " {'label': 'negative', 'score': 0.6291444301605225},\n",
       " {'label': 'negative', 'score': 0.7348082065582275},\n",
       " {'label': 'negative', 'score': 0.9431781768798828},\n",
       " {'label': 'neutral', 'score': 0.6923193335533142},\n",
       " {'label': 'negative', 'score': 0.8833098411560059},\n",
       " {'label': 'positive', 'score': 0.9633288383483887},\n",
       " {'label': 'neutral', 'score': 0.7091118693351746},\n",
       " {'label': 'negative', 'score': 0.904106080532074},\n",
       " {'label': 'neutral', 'score': 0.8004059195518494},\n",
       " {'label': 'positive', 'score': 0.9700567126274109},\n",
       " {'label': 'negative', 'score': 0.7064127922058105},\n",
       " {'label': 'positive', 'score': 0.9641552567481995},\n",
       " {'label': 'positive', 'score': 0.9182626008987427},\n",
       " {'label': 'neutral', 'score': 0.49573713541030884},\n",
       " {'label': 'negative', 'score': 0.9549887776374817},\n",
       " {'label': 'neutral', 'score': 0.6463702917098999},\n",
       " {'label': 'negative', 'score': 0.859338641166687},\n",
       " {'label': 'positive', 'score': 0.7418174743652344},\n",
       " {'label': 'negative', 'score': 0.644435465335846},\n",
       " {'label': 'positive', 'score': 0.9415684938430786},\n",
       " {'label': 'positive', 'score': 0.9751313924789429},\n",
       " {'label': 'positive', 'score': 0.9490330219268799},\n",
       " {'label': 'positive', 'score': 0.910811722278595},\n",
       " {'label': 'neutral', 'score': 0.7218093872070312},\n",
       " {'label': 'negative', 'score': 0.9441093802452087},\n",
       " {'label': 'neutral', 'score': 0.650486409664154},\n",
       " {'label': 'neutral', 'score': 0.6896429061889648},\n",
       " {'label': 'positive', 'score': 0.7743011116981506},\n",
       " {'label': 'negative', 'score': 0.9597524404525757},\n",
       " {'label': 'negative', 'score': 0.9061039686203003},\n",
       " {'label': 'positive', 'score': 0.9498914480209351},\n",
       " {'label': 'positive', 'score': 0.5615213513374329},\n",
       " {'label': 'neutral', 'score': 0.854081392288208},\n",
       " {'label': 'negative', 'score': 0.9549641013145447},\n",
       " {'label': 'negative', 'score': 0.9375945925712585},\n",
       " {'label': 'positive', 'score': 0.9640017151832581},\n",
       " {'label': 'positive', 'score': 0.8889007568359375},\n",
       " {'label': 'neutral', 'score': 0.7593030333518982},\n",
       " {'label': 'negative', 'score': 0.9383994340896606},\n",
       " {'label': 'positive', 'score': 0.9442832469940186},\n",
       " {'label': 'positive', 'score': 0.970879852771759},\n",
       " {'label': 'neutral', 'score': 0.7608097195625305},\n",
       " {'label': 'negative', 'score': 0.9498817324638367},\n",
       " {'label': 'negative', 'score': 0.9597102999687195},\n",
       " {'label': 'neutral', 'score': 0.7669993042945862},\n",
       " {'label': 'negative', 'score': 0.6956160068511963},\n",
       " {'label': 'positive', 'score': 0.9537972807884216},\n",
       " {'label': 'neutral', 'score': 0.7628277540206909},\n",
       " {'label': 'positive', 'score': 0.9507530331611633},\n",
       " {'label': 'positive', 'score': 0.9639802575111389},\n",
       " {'label': 'neutral', 'score': 0.5364019274711609},\n",
       " {'label': 'positive', 'score': 0.8404415249824524},\n",
       " {'label': 'negative', 'score': 0.8834477663040161},\n",
       " {'label': 'neutral', 'score': 0.6682866215705872},\n",
       " {'label': 'neutral', 'score': 0.4896523058414459},\n",
       " {'label': 'positive', 'score': 0.9060049057006836},\n",
       " {'label': 'negative', 'score': 0.9372191429138184},\n",
       " {'label': 'positive', 'score': 0.9706939458847046},\n",
       " {'label': 'neutral', 'score': 0.617002546787262},\n",
       " {'label': 'positive', 'score': 0.9547439813613892},\n",
       " {'label': 'negative', 'score': 0.8517730236053467},\n",
       " {'label': 'positive', 'score': 0.9697622060775757},\n",
       " {'label': 'positive', 'score': 0.9673580527305603},\n",
       " {'label': 'negative', 'score': 0.9129215478897095},\n",
       " {'label': 'negative', 'score': 0.957468569278717},\n",
       " {'label': 'positive', 'score': 0.9690658450126648},\n",
       " {'label': 'neutral', 'score': 0.7641720175743103},\n",
       " {'label': 'negative', 'score': 0.6299866437911987},\n",
       " {'label': 'negative', 'score': 0.9519643783569336},\n",
       " {'label': 'neutral', 'score': 0.7428174614906311},\n",
       " {'label': 'positive', 'score': 0.8002120852470398},\n",
       " {'label': 'negative', 'score': 0.7642917633056641},\n",
       " {'label': 'positive', 'score': 0.7531579732894897},\n",
       " {'label': 'neutral', 'score': 0.7152724266052246},\n",
       " {'label': 'positive', 'score': 0.9643370509147644},\n",
       " {'label': 'positive', 'score': 0.9588276743888855},\n",
       " {'label': 'positive', 'score': 0.8430668711662292},\n",
       " {'label': 'negative', 'score': 0.9590095281600952},\n",
       " {'label': 'neutral', 'score': 0.7572380304336548},\n",
       " {'label': 'positive', 'score': 0.8605777621269226},\n",
       " {'label': 'negative', 'score': 0.5072759389877319},\n",
       " {'label': 'negative', 'score': 0.9351160526275635},\n",
       " {'label': 'neutral', 'score': 0.6872859597206116},\n",
       " {'label': 'positive', 'score': 0.874823272228241},\n",
       " {'label': 'positive', 'score': 0.6937286257743835},\n",
       " {'label': 'neutral', 'score': 0.7384108304977417},\n",
       " {'label': 'neutral', 'score': 0.7726414799690247},\n",
       " {'label': 'negative', 'score': 0.9096919894218445},\n",
       " {'label': 'positive', 'score': 0.7083784937858582},\n",
       " {'label': 'neutral', 'score': 0.7908238768577576},\n",
       " {'label': 'negative', 'score': 0.9552986025810242},\n",
       " {'label': 'positive', 'score': 0.898183286190033},\n",
       " {'label': 'negative', 'score': 0.8434383273124695},\n",
       " {'label': 'positive', 'score': 0.9701229929924011},\n",
       " {'label': 'negative', 'score': 0.9556881189346313},\n",
       " {'label': 'negative', 'score': 0.947326123714447},\n",
       " {'label': 'negative', 'score': 0.9003094434738159},\n",
       " {'label': 'positive', 'score': 0.559097170829773},\n",
       " {'label': 'neutral', 'score': 0.7314454913139343},\n",
       " {'label': 'positive', 'score': 0.6865418553352356},\n",
       " {'label': 'negative', 'score': 0.6555644869804382},\n",
       " {'label': 'positive', 'score': 0.8139864206314087},\n",
       " {'label': 'positive', 'score': 0.9333716034889221},\n",
       " {'label': 'neutral', 'score': 0.6498404145240784},\n",
       " {'label': 'negative', 'score': 0.9514726400375366},\n",
       " {'label': 'negative', 'score': 0.6916502118110657},\n",
       " {'label': 'neutral', 'score': 0.5750300288200378},\n",
       " {'label': 'neutral', 'score': 0.7139658331871033},\n",
       " {'label': 'neutral', 'score': 0.6972207427024841},\n",
       " {'label': 'neutral', 'score': 0.5475378036499023},\n",
       " {'label': 'negative', 'score': 0.9583284258842468},\n",
       " {'label': 'negative', 'score': 0.9544594883918762},\n",
       " {'label': 'neutral', 'score': 0.8602586388587952},\n",
       " {'label': 'positive', 'score': 0.9697298407554626},\n",
       " {'label': 'negative', 'score': 0.9019458889961243},\n",
       " {'label': 'negative', 'score': 0.6607099175453186},\n",
       " {'label': 'neutral', 'score': 0.49406254291534424},\n",
       " {'label': 'positive', 'score': 0.49430015683174133},\n",
       " {'label': 'positive', 'score': 0.9619052410125732},\n",
       " {'label': 'negative', 'score': 0.9579166173934937},\n",
       " {'label': 'positive', 'score': 0.9638677835464478},\n",
       " {'label': 'positive', 'score': 0.9714727401733398},\n",
       " {'label': 'positive', 'score': 0.9512977004051208},\n",
       " {'label': 'positive', 'score': 0.9719557762145996},\n",
       " {'label': 'negative', 'score': 0.8902165293693542},\n",
       " {'label': 'neutral', 'score': 0.7753249406814575},\n",
       " {'label': 'negative', 'score': 0.8759626150131226},\n",
       " {'label': 'positive', 'score': 0.9694265723228455},\n",
       " {'label': 'positive', 'score': 0.9710580110549927},\n",
       " {'label': 'negative', 'score': 0.941425621509552},\n",
       " {'label': 'negative', 'score': 0.9441853165626526},\n",
       " {'label': 'neutral', 'score': 0.6530985236167908},\n",
       " {'label': 'negative', 'score': 0.9538729786872864},\n",
       " {'label': 'negative', 'score': 0.9520789980888367},\n",
       " {'label': 'positive', 'score': 0.6070899367332458},\n",
       " {'label': 'positive', 'score': 0.7725213170051575},\n",
       " {'label': 'neutral', 'score': 0.6678952574729919},\n",
       " {'label': 'positive', 'score': 0.9545799493789673},\n",
       " {'label': 'negative', 'score': 0.9175111651420593},\n",
       " {'label': 'negative', 'score': 0.8524820804595947},\n",
       " {'label': 'positive', 'score': 0.864067018032074},\n",
       " {'label': 'negative', 'score': 0.7398049235343933},\n",
       " {'label': 'neutral', 'score': 0.7616215348243713},\n",
       " {'label': 'neutral', 'score': 0.586159884929657},\n",
       " {'label': 'positive', 'score': 0.937661349773407},\n",
       " {'label': 'negative', 'score': 0.839427649974823},\n",
       " {'label': 'positive', 'score': 0.9680891633033752},\n",
       " {'label': 'negative', 'score': 0.6848141551017761},\n",
       " {'label': 'neutral', 'score': 0.5634560585021973},\n",
       " {'label': 'positive', 'score': 0.9407919645309448},\n",
       " {'label': 'positive', 'score': 0.8613113760948181},\n",
       " {'label': 'negative', 'score': 0.9606724381446838},\n",
       " {'label': 'positive', 'score': 0.6109890341758728},\n",
       " {'label': 'negative', 'score': 0.9524441361427307},\n",
       " {'label': 'negative', 'score': 0.5661868453025818},\n",
       " {'label': 'positive', 'score': 0.936324417591095},\n",
       " {'label': 'negative', 'score': 0.6146162152290344},\n",
       " {'label': 'negative', 'score': 0.9193690419197083},\n",
       " {'label': 'negative', 'score': 0.9049409627914429},\n",
       " {'label': 'positive', 'score': 0.9291335344314575},\n",
       " {'label': 'neutral', 'score': 0.5579077005386353},\n",
       " {'label': 'positive', 'score': 0.8319173455238342},\n",
       " {'label': 'neutral', 'score': 0.6444365978240967},\n",
       " {'label': 'positive', 'score': 0.9262822866439819},\n",
       " {'label': 'neutral', 'score': 0.5499091148376465},\n",
       " {'label': 'negative', 'score': 0.8115794062614441},\n",
       " {'label': 'positive', 'score': 0.9713079929351807},\n",
       " {'label': 'negative', 'score': 0.8965335488319397},\n",
       " {'label': 'positive', 'score': 0.9247465133666992},\n",
       " {'label': 'neutral', 'score': 0.6374857425689697},\n",
       " {'label': 'positive', 'score': 0.7091078758239746},\n",
       " {'label': 'negative', 'score': 0.8702396154403687},\n",
       " {'label': 'negative', 'score': 0.5540066361427307},\n",
       " {'label': 'positive', 'score': 0.9540170431137085},\n",
       " {'label': 'negative', 'score': 0.881220281124115},\n",
       " {'label': 'negative', 'score': 0.8647267818450928},\n",
       " {'label': 'neutral', 'score': 0.7867586612701416},\n",
       " {'label': 'positive', 'score': 0.8806467652320862},\n",
       " {'label': 'positive', 'score': 0.6367670297622681},\n",
       " {'label': 'negative', 'score': 0.9059984683990479},\n",
       " {'label': 'positive', 'score': 0.9552847146987915},\n",
       " {'label': 'neutral', 'score': 0.5620754361152649},\n",
       " {'label': 'positive', 'score': 0.9663481116294861},\n",
       " {'label': 'positive', 'score': 0.7075274586677551},\n",
       " {'label': 'neutral', 'score': 0.7361882328987122},\n",
       " {'label': 'negative', 'score': 0.9462827444076538},\n",
       " {'label': 'positive', 'score': 0.7344462275505066},\n",
       " {'label': 'neutral', 'score': 0.6451060771942139},\n",
       " {'label': 'positive', 'score': 0.9366719126701355},\n",
       " {'label': 'neutral', 'score': 0.6770077347755432},\n",
       " {'label': 'neutral', 'score': 0.5316483974456787},\n",
       " {'label': 'positive', 'score': 0.9628640413284302},\n",
       " {'label': 'negative', 'score': 0.9511972069740295},\n",
       " {'label': 'positive', 'score': 0.716033935546875},\n",
       " {'label': 'positive', 'score': 0.9469447731971741},\n",
       " {'label': 'negative', 'score': 0.9446474313735962},\n",
       " {'label': 'positive', 'score': 0.7538201212882996},\n",
       " {'label': 'neutral', 'score': 0.7125881314277649},\n",
       " {'label': 'negative', 'score': 0.8934895396232605},\n",
       " {'label': 'positive', 'score': 0.6545114517211914},\n",
       " {'label': 'neutral', 'score': 0.7255483865737915},\n",
       " {'label': 'negative', 'score': 0.7162507772445679},\n",
       " {'label': 'negative', 'score': 0.7554675936698914},\n",
       " {'label': 'neutral', 'score': 0.7535631060600281},\n",
       " {'label': 'negative', 'score': 0.8988993763923645},\n",
       " {'label': 'negative', 'score': 0.5378973484039307},\n",
       " {'label': 'neutral', 'score': 0.5184491872787476},\n",
       " {'label': 'positive', 'score': 0.783147394657135},\n",
       " {'label': 'negative', 'score': 0.9510118961334229},\n",
       " {'label': 'negative', 'score': 0.7070189118385315},\n",
       " {'label': 'neutral', 'score': 0.7990808486938477},\n",
       " {'label': 'positive', 'score': 0.9695954322814941},\n",
       " {'label': 'positive', 'score': 0.9166274666786194},\n",
       " {'label': 'positive', 'score': 0.8827519416809082},\n",
       " {'label': 'neutral', 'score': 0.5147234201431274},\n",
       " {'label': 'positive', 'score': 0.9210174083709717},\n",
       " {'label': 'neutral', 'score': 0.7478757500648499},\n",
       " {'label': 'positive', 'score': 0.9533114433288574},\n",
       " {'label': 'positive', 'score': 0.9517273902893066},\n",
       " {'label': 'neutral', 'score': 0.7515887022018433},\n",
       " {'label': 'positive', 'score': 0.9531214833259583},\n",
       " {'label': 'negative', 'score': 0.9549970626831055},\n",
       " {'label': 'negative', 'score': 0.9051429629325867},\n",
       " {'label': 'negative', 'score': 0.9417610168457031},\n",
       " {'label': 'neutral', 'score': 0.4977656900882721},\n",
       " {'label': 'positive', 'score': 0.9583518505096436},\n",
       " {'label': 'negative', 'score': 0.8477851152420044},\n",
       " {'label': 'neutral', 'score': 0.7079043984413147},\n",
       " {'label': 'neutral', 'score': 0.7081896066665649},\n",
       " {'label': 'positive', 'score': 0.9591692090034485},\n",
       " {'label': 'positive', 'score': 0.8046253323554993},\n",
       " {'label': 'negative', 'score': 0.8930028676986694},\n",
       " {'label': 'neutral', 'score': 0.5072376728057861},\n",
       " {'label': 'positive', 'score': 0.8754625916481018},\n",
       " {'label': 'positive', 'score': 0.8975727558135986},\n",
       " {'label': 'positive', 'score': 0.9554124474525452},\n",
       " {'label': 'positive', 'score': 0.9744282364845276},\n",
       " {'label': 'positive', 'score': 0.9079245328903198},\n",
       " {'label': 'neutral', 'score': 0.8213034868240356},\n",
       " {'label': 'positive', 'score': 0.9725953936576843},\n",
       " {'label': 'positive', 'score': 0.9757664799690247},\n",
       " {'label': 'positive', 'score': 0.9461278319358826},\n",
       " {'label': 'positive', 'score': 0.9593112468719482},\n",
       " {'label': 'positive', 'score': 0.9524931311607361},\n",
       " {'label': 'positive', 'score': 0.5137829780578613}]"
      ]
     },
     "execution_count": 116,
     "metadata": {},
     "output_type": "execute_result"
    }
   ],
   "source": [
    "results"
   ]
  },
  {
   "cell_type": "code",
   "execution_count": 123,
   "id": "948732d3",
   "metadata": {},
   "outputs": [
    {
     "name": "stdout",
     "output_type": "stream",
     "text": [
      "        label     score\n",
      "0    negative  0.892945\n",
      "1    negative  0.952858\n",
      "2     neutral  0.491376\n",
      "3     neutral  0.702755\n",
      "4    positive  0.958846\n",
      "..        ...       ...\n",
      "995  positive  0.975766\n",
      "996  positive  0.946128\n",
      "997  positive  0.959311\n",
      "998  positive  0.952493\n",
      "999  positive  0.513783\n",
      "\n",
      "[1000 rows x 2 columns]\n"
     ]
    }
   ],
   "source": [
    "name=['label','score']\n",
    "label_results=pd.DataFrame(columns=name,data=results)\n",
    "print(label_results)\n",
    "# label_results.to_csv('./datasets/test_labelled.csv',encoding='utf-8', index=False)"
   ]
  },
  {
   "cell_type": "code",
   "execution_count": 118,
   "id": "335c5d1f",
   "metadata": {},
   "outputs": [
    {
     "data": {
      "text/html": [
       "<div>\n",
       "<style scoped>\n",
       "    .dataframe tbody tr th:only-of-type {\n",
       "        vertical-align: middle;\n",
       "    }\n",
       "\n",
       "    .dataframe tbody tr th {\n",
       "        vertical-align: top;\n",
       "    }\n",
       "\n",
       "    .dataframe thead th {\n",
       "        text-align: right;\n",
       "    }\n",
       "</style>\n",
       "<table border=\"1\" class=\"dataframe\">\n",
       "  <thead>\n",
       "    <tr style=\"text-align: right;\">\n",
       "      <th></th>\n",
       "      <th>label</th>\n",
       "      <th>score</th>\n",
       "    </tr>\n",
       "  </thead>\n",
       "  <tbody>\n",
       "    <tr>\n",
       "      <th>0</th>\n",
       "      <td>negative</td>\n",
       "      <td>0.892945</td>\n",
       "    </tr>\n",
       "    <tr>\n",
       "      <th>1</th>\n",
       "      <td>negative</td>\n",
       "      <td>0.952858</td>\n",
       "    </tr>\n",
       "    <tr>\n",
       "      <th>2</th>\n",
       "      <td>neutral</td>\n",
       "      <td>0.491376</td>\n",
       "    </tr>\n",
       "    <tr>\n",
       "      <th>3</th>\n",
       "      <td>neutral</td>\n",
       "      <td>0.702755</td>\n",
       "    </tr>\n",
       "    <tr>\n",
       "      <th>4</th>\n",
       "      <td>positive</td>\n",
       "      <td>0.958846</td>\n",
       "    </tr>\n",
       "    <tr>\n",
       "      <th>...</th>\n",
       "      <td>...</td>\n",
       "      <td>...</td>\n",
       "    </tr>\n",
       "    <tr>\n",
       "      <th>995</th>\n",
       "      <td>positive</td>\n",
       "      <td>0.975766</td>\n",
       "    </tr>\n",
       "    <tr>\n",
       "      <th>996</th>\n",
       "      <td>positive</td>\n",
       "      <td>0.946128</td>\n",
       "    </tr>\n",
       "    <tr>\n",
       "      <th>997</th>\n",
       "      <td>positive</td>\n",
       "      <td>0.959311</td>\n",
       "    </tr>\n",
       "    <tr>\n",
       "      <th>998</th>\n",
       "      <td>positive</td>\n",
       "      <td>0.952493</td>\n",
       "    </tr>\n",
       "    <tr>\n",
       "      <th>999</th>\n",
       "      <td>positive</td>\n",
       "      <td>0.513783</td>\n",
       "    </tr>\n",
       "  </tbody>\n",
       "</table>\n",
       "<p>1000 rows × 2 columns</p>\n",
       "</div>"
      ],
      "text/plain": [
       "        label     score\n",
       "0    negative  0.892945\n",
       "1    negative  0.952858\n",
       "2     neutral  0.491376\n",
       "3     neutral  0.702755\n",
       "4    positive  0.958846\n",
       "..        ...       ...\n",
       "995  positive  0.975766\n",
       "996  positive  0.946128\n",
       "997  positive  0.959311\n",
       "998  positive  0.952493\n",
       "999  positive  0.513783\n",
       "\n",
       "[1000 rows x 2 columns]"
      ]
     },
     "execution_count": 118,
     "metadata": {},
     "output_type": "execute_result"
    }
   ],
   "source": [
    "label_results"
   ]
  },
  {
   "cell_type": "code",
   "execution_count": 132,
   "id": "cf7b3d55",
   "metadata": {},
   "outputs": [
    {
     "data": {
      "text/html": [
       "<div>\n",
       "<style scoped>\n",
       "    .dataframe tbody tr th:only-of-type {\n",
       "        vertical-align: middle;\n",
       "    }\n",
       "\n",
       "    .dataframe tbody tr th {\n",
       "        vertical-align: top;\n",
       "    }\n",
       "\n",
       "    .dataframe thead th {\n",
       "        text-align: right;\n",
       "    }\n",
       "</style>\n",
       "<table border=\"1\" class=\"dataframe\">\n",
       "  <thead>\n",
       "    <tr style=\"text-align: right;\">\n",
       "      <th></th>\n",
       "      <th>labels</th>\n",
       "      <th>content</th>\n",
       "      <th>label_org</th>\n",
       "      <th>label</th>\n",
       "      <th>score</th>\n",
       "    </tr>\n",
       "  </thead>\n",
       "  <tbody>\n",
       "    <tr>\n",
       "      <th>0</th>\n",
       "      <td>tensor(1)</td>\n",
       "      <td>Not even the Hotel's bombers compete with her ...</td>\n",
       "      <td>1</td>\n",
       "      <td>negative</td>\n",
       "      <td>0.892945</td>\n",
       "    </tr>\n",
       "    <tr>\n",
       "      <th>1</th>\n",
       "      <td>tensor(0)</td>\n",
       "      <td>if i encountered all of this within the first ...</td>\n",
       "      <td>0</td>\n",
       "      <td>negative</td>\n",
       "      <td>0.952858</td>\n",
       "    </tr>\n",
       "    <tr>\n",
       "      <th>2</th>\n",
       "      <td>tensor(2)</td>\n",
       "      <td>\\t\\t\\t\\t\\t\\t\\t\\tThere are plenty of reasons to...</td>\n",
       "      <td>2</td>\n",
       "      <td>neutral</td>\n",
       "      <td>0.491376</td>\n",
       "    </tr>\n",
       "    <tr>\n",
       "      <th>3</th>\n",
       "      <td>tensor(1)</td>\n",
       "      <td>I can run it at 90 frames on ultra, but then i...</td>\n",
       "      <td>1</td>\n",
       "      <td>neutral</td>\n",
       "      <td>0.702755</td>\n",
       "    </tr>\n",
       "    <tr>\n",
       "      <th>4</th>\n",
       "      <td>tensor(2)</td>\n",
       "      <td>if you start you experience with theme hospita...</td>\n",
       "      <td>2</td>\n",
       "      <td>positive</td>\n",
       "      <td>0.958846</td>\n",
       "    </tr>\n",
       "    <tr>\n",
       "      <th>...</th>\n",
       "      <td>...</td>\n",
       "      <td>...</td>\n",
       "      <td>...</td>\n",
       "      <td>...</td>\n",
       "      <td>...</td>\n",
       "    </tr>\n",
       "    <tr>\n",
       "      <th>995</th>\n",
       "      <td>tensor(2)</td>\n",
       "      <td>i love this game it is so good if you like r6 ...</td>\n",
       "      <td>2</td>\n",
       "      <td>positive</td>\n",
       "      <td>0.975766</td>\n",
       "    </tr>\n",
       "    <tr>\n",
       "      <th>996</th>\n",
       "      <td>tensor(2)</td>\n",
       "      <td>\\t\\t\\t\\t\\t\\t\\t\\tAmazing space exploration expe...</td>\n",
       "      <td>2</td>\n",
       "      <td>positive</td>\n",
       "      <td>0.946128</td>\n",
       "    </tr>\n",
       "    <tr>\n",
       "      <th>997</th>\n",
       "      <td>tensor(2)</td>\n",
       "      <td>Other than that so much fun love the realism</td>\n",
       "      <td>2</td>\n",
       "      <td>positive</td>\n",
       "      <td>0.959311</td>\n",
       "    </tr>\n",
       "    <tr>\n",
       "      <th>998</th>\n",
       "      <td>tensor(2)</td>\n",
       "      <td>I love in single player being able to command ...</td>\n",
       "      <td>2</td>\n",
       "      <td>positive</td>\n",
       "      <td>0.952493</td>\n",
       "    </tr>\n",
       "    <tr>\n",
       "      <th>999</th>\n",
       "      <td>tensor(2)</td>\n",
       "      <td>The story missions remind me of Destiny in ter...</td>\n",
       "      <td>2</td>\n",
       "      <td>positive</td>\n",
       "      <td>0.513783</td>\n",
       "    </tr>\n",
       "  </tbody>\n",
       "</table>\n",
       "<p>1000 rows × 5 columns</p>\n",
       "</div>"
      ],
      "text/plain": [
       "        labels                                            content  label_org  \\\n",
       "0    tensor(1)  Not even the Hotel's bombers compete with her ...          1   \n",
       "1    tensor(0)  if i encountered all of this within the first ...          0   \n",
       "2    tensor(2)  \\t\\t\\t\\t\\t\\t\\t\\tThere are plenty of reasons to...          2   \n",
       "3    tensor(1)  I can run it at 90 frames on ultra, but then i...          1   \n",
       "4    tensor(2)  if you start you experience with theme hospita...          2   \n",
       "..         ...                                                ...        ...   \n",
       "995  tensor(2)  i love this game it is so good if you like r6 ...          2   \n",
       "996  tensor(2)  \\t\\t\\t\\t\\t\\t\\t\\tAmazing space exploration expe...          2   \n",
       "997  tensor(2)       Other than that so much fun love the realism          2   \n",
       "998  tensor(2)  I love in single player being able to command ...          2   \n",
       "999  tensor(2)  The story missions remind me of Destiny in ter...          2   \n",
       "\n",
       "        label     score  \n",
       "0    negative  0.892945  \n",
       "1    negative  0.952858  \n",
       "2     neutral  0.491376  \n",
       "3     neutral  0.702755  \n",
       "4    positive  0.958846  \n",
       "..        ...       ...  \n",
       "995  positive  0.975766  \n",
       "996  positive  0.946128  \n",
       "997  positive  0.959311  \n",
       "998  positive  0.952493  \n",
       "999  positive  0.513783  \n",
       "\n",
       "[1000 rows x 5 columns]"
      ]
     },
     "execution_count": 132,
     "metadata": {},
     "output_type": "execute_result"
    }
   ],
   "source": [
    "mergedf = pd.concat([df, label_results], axis=1)\n",
    "mergedf"
   ]
  },
  {
   "cell_type": "code",
   "execution_count": 134,
   "id": "dfc19a53",
   "metadata": {},
   "outputs": [],
   "source": [
    "mergedf.to_csv('./datasets/labelled_compare.csv',encoding='utf-8', index=False)"
   ]
  },
  {
   "cell_type": "code",
   "execution_count": 87,
   "id": "310e9f92",
   "metadata": {},
   "outputs": [
    {
     "data": {
      "application/javascript": [
       "$(document).ready(\n",
       "    function() {\n",
       "        function appendUniqueDiv(){\n",
       "            // append a div with our uuid so we can check that it's already\n",
       "            // been sent and avoid duplicates on page reload\n",
       "            var notifiedDiv = document.createElement(\"div\")\n",
       "            notifiedDiv.id = \"140ead82-b83b-4238-a1b0-b004979772e9\"\n",
       "            element.append(notifiedDiv)\n",
       "        }\n",
       "\n",
       "        // only send notifications if the pageload is complete; this will\n",
       "        // help stop extra notifications when a saved notebook is loaded,\n",
       "        // which during testing gives us state \"interactive\", not \"complete\"\n",
       "        if (document.readyState === 'complete') {\n",
       "            // check for the div that signifies that the notification\n",
       "            // was already sent\n",
       "            if (document.getElementById(\"140ead82-b83b-4238-a1b0-b004979772e9\") === null) {\n",
       "                var notificationPayload = {\"requireInteraction\": false, \"icon\": \"/static/base/images/favicon.ico\", \"body\": \"Cell execution has finished!\"};\n",
       "                if (Notification.permission !== 'denied') {\n",
       "                    if (Notification.permission !== 'granted') { \n",
       "                        Notification.requestPermission(function (permission) {\n",
       "                            if(!('permission' in Notification)) {\n",
       "                                Notification.permission = permission\n",
       "                            }\n",
       "                        })\n",
       "                    }\n",
       "                    if (Notification.permission === 'granted') {\n",
       "                    var notification = new Notification(\"Jupyter Notebook\", notificationPayload)\n",
       "                    appendUniqueDiv()\n",
       "                    notification.onclick = function () {\n",
       "                        window.focus();\n",
       "                        this.close();\n",
       "                        };\n",
       "                    } \n",
       "                }     \n",
       "            }\n",
       "        }\n",
       "    }\n",
       ")\n"
      ],
      "text/plain": [
       "<IPython.core.display.Javascript object>"
      ]
     },
     "metadata": {},
     "output_type": "display_data"
    }
   ],
   "source": [
    "%%notify\n",
    "import time\n",
    "time.sleep(1)"
   ]
  },
  {
   "cell_type": "code",
   "execution_count": null,
   "id": "713a0e13",
   "metadata": {},
   "outputs": [],
   "source": []
  }
 ],
 "metadata": {
  "kernelspec": {
   "display_name": "Python 3 (ipykernel)",
   "language": "python",
   "name": "python3"
  },
  "language_info": {
   "codemirror_mode": {
    "name": "ipython",
    "version": 3
   },
   "file_extension": ".py",
   "mimetype": "text/x-python",
   "name": "python",
   "nbconvert_exporter": "python",
   "pygments_lexer": "ipython3",
   "version": "3.10.4"
  },
  "toc": {
   "base_numbering": 1,
   "nav_menu": {},
   "number_sections": true,
   "sideBar": true,
   "skip_h1_title": false,
   "title_cell": "Table of Contents",
   "title_sidebar": "Contents",
   "toc_cell": false,
   "toc_position": {
    "height": "calc(100% - 180px)",
    "left": "10px",
    "top": "150px",
    "width": "336.797px"
   },
   "toc_section_display": true,
   "toc_window_display": true
  }
 },
 "nbformat": 4,
 "nbformat_minor": 5
}

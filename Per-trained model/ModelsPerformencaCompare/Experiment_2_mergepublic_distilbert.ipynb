{
 "cells": [
  {
   "cell_type": "markdown",
   "id": "d25e6bd4",
   "metadata": {},
   "source": [
    "# Import"
   ]
  },
  {
   "cell_type": "code",
   "execution_count": 1,
   "id": "1fe33446",
   "metadata": {},
   "outputs": [
    {
     "data": {
      "application/javascript": [
       "if (!(\"Notification\" in window)) {\n",
       "    alert(\"This browser does not support desktop notifications, so the %%notify magic will not work.\");\n",
       "} else if (Notification.permission !== 'granted' && Notification.permission !== 'denied') {\n",
       "    Notification.requestPermission(function (permission) {\n",
       "        if(!('permission' in Notification)) {\n",
       "            Notification.permission = permission;\n",
       "        }\n",
       "    })\n",
       "}\n"
      ],
      "text/plain": [
       "<IPython.core.display.Javascript object>"
      ]
     },
     "metadata": {},
     "output_type": "display_data"
    }
   ],
   "source": [
    "import jupyternotify\n",
    "ip = get_ipython()\n",
    "ip.register_magics(jupyternotify.JupyterNotifyMagics)"
   ]
  },
  {
   "cell_type": "code",
   "execution_count": 2,
   "id": "990dfc95",
   "metadata": {},
   "outputs": [],
   "source": [
    "import os\n",
    "import torch\n",
    "from transformers import AutoModelForSequenceClassification, AutoTokenizer\n",
    "from sklearn.metrics import accuracy_score, precision_recall_fscore_support\n",
    "from transformers import Trainer, TrainingArguments\n",
    "from transformers import pipeline\n",
    "from datasets import concatenate_datasets, load_dataset\n",
    "from huggingface_hub import hf_hub_download\n",
    "import pandas as pd\n",
    "import matplotlib.pyplot as plt\n",
    "import numpy as np\n",
    "import datasets\n",
    "from datasets import Dataset, Value, ClassLabel, Features\n",
    "from sklearn.metrics import ConfusionMatrixDisplay, confusion_matrix\n",
    "os.environ[\"CUDA_VISIBLE_DEVICES\"] = \"2\" \n",
    "from transformers import DataCollatorWithPadding\n",
    "import optuna\n",
    "from huggingface_hub import notebook_login"
   ]
  },
  {
   "cell_type": "markdown",
   "id": "177fcb0c",
   "metadata": {},
   "source": [
    "# Datasets"
   ]
  },
  {
   "cell_type": "code",
   "execution_count": 3,
   "id": "4097a6c4",
   "metadata": {},
   "outputs": [],
   "source": [
    "# lables value\n",
    "\n",
    "# 2 = positive\n",
    "# 1 = neutral\n",
    "# 0 = negative"
   ]
  },
  {
   "cell_type": "code",
   "execution_count": 4,
   "id": "74660cf4",
   "metadata": {},
   "outputs": [
    {
     "data": {
      "text/plain": [
       "DatasetDict({\n",
       "    train: Dataset({\n",
       "        features: ['text', 'label'],\n",
       "        num_rows: 1839\n",
       "    })\n",
       "    validation: Dataset({\n",
       "        features: ['text', 'label'],\n",
       "        num_rows: 324\n",
       "    })\n",
       "    test: Dataset({\n",
       "        features: ['text', 'label'],\n",
       "        num_rows: 870\n",
       "    })\n",
       "})"
      ]
     },
     "execution_count": 4,
     "metadata": {},
     "output_type": "execute_result"
    }
   ],
   "source": [
    "dataset_tweet= load_dataset(\"cardiffnlp/tweet_sentiment_multilingual\", \"english\")\n",
    "dataset_tweet"
   ]
  },
  {
   "cell_type": "code",
   "execution_count": 5,
   "id": "dd403218",
   "metadata": {},
   "outputs": [
    {
     "data": {
      "text/plain": [
       "Dataset({\n",
       "    features: ['text', 'label'],\n",
       "    num_rows: 3033\n",
       "})"
      ]
     },
     "execution_count": 5,
     "metadata": {},
     "output_type": "execute_result"
    }
   ],
   "source": [
    "dataset_tweet_cc = concatenate_datasets([dataset_tweet['train'], dataset_tweet['validation'],dataset_tweet['test']])\n",
    "dataset_tweet_cc"
   ]
  },
  {
   "cell_type": "code",
   "execution_count": 6,
   "id": "7b668e66",
   "metadata": {},
   "outputs": [],
   "source": [
    "dataset_mteb = load_dataset(\"mteb/tweet_sentiment_extraction\")"
   ]
  },
  {
   "cell_type": "code",
   "execution_count": 7,
   "id": "1d72c10b",
   "metadata": {},
   "outputs": [
    {
     "data": {
      "text/plain": [
       "DatasetDict({\n",
       "    train: Dataset({\n",
       "        features: ['id', 'text', 'label', 'label_text'],\n",
       "        num_rows: 27481\n",
       "    })\n",
       "    test: Dataset({\n",
       "        features: ['id', 'text', 'label', 'label_text'],\n",
       "        num_rows: 3534\n",
       "    })\n",
       "})"
      ]
     },
     "execution_count": 7,
     "metadata": {},
     "output_type": "execute_result"
    }
   ],
   "source": [
    "dataset_mteb"
   ]
  },
  {
   "cell_type": "code",
   "execution_count": 8,
   "id": "d8943f44",
   "metadata": {},
   "outputs": [
    {
     "data": {
      "text/plain": [
       "Dataset({\n",
       "    features: ['id', 'text', 'label', 'label_text'],\n",
       "    num_rows: 31015\n",
       "})"
      ]
     },
     "execution_count": 8,
     "metadata": {},
     "output_type": "execute_result"
    }
   ],
   "source": [
    "dataset_mteb_cc = concatenate_datasets([dataset_mteb['train'], dataset_mteb['test']])\n",
    "dataset_mteb_cc"
   ]
  },
  {
   "cell_type": "code",
   "execution_count": 9,
   "id": "61a13ccd",
   "metadata": {},
   "outputs": [
    {
     "data": {
      "text/plain": [
       "Dataset({\n",
       "    features: ['text', 'label'],\n",
       "    num_rows: 31015\n",
       "})"
      ]
     },
     "execution_count": 9,
     "metadata": {},
     "output_type": "execute_result"
    }
   ],
   "source": [
    "dataset_mteb_cc=dataset_mteb_cc.remove_columns('label_text')\n",
    "dataset_mteb_cc=dataset_mteb_cc.remove_columns('id')\n",
    "\n",
    "dataset_mteb_cc"
   ]
  },
  {
   "cell_type": "code",
   "execution_count": 10,
   "id": "5b1687d1",
   "metadata": {},
   "outputs": [
    {
     "data": {
      "text/plain": [
       "{'text': Value(dtype='string', id=None),\n",
       " 'label': ClassLabel(names=['negative', 'neutral', 'positive'], id=None)}"
      ]
     },
     "execution_count": 10,
     "metadata": {},
     "output_type": "execute_result"
    }
   ],
   "source": [
    "dataset_tweet_cc.features"
   ]
  },
  {
   "cell_type": "code",
   "execution_count": 11,
   "id": "9da33cf9",
   "metadata": {},
   "outputs": [
    {
     "data": {
      "text/plain": [
       "{'text': Value(dtype='string', id=None),\n",
       " 'label': Value(dtype='int64', id=None)}"
      ]
     },
     "execution_count": 11,
     "metadata": {},
     "output_type": "execute_result"
    }
   ],
   "source": [
    "dataset_mteb_cc.features"
   ]
  },
  {
   "cell_type": "code",
   "execution_count": 12,
   "id": "5bec3aee",
   "metadata": {},
   "outputs": [],
   "source": [
    "features = dataset_mteb_cc.features.copy()\n",
    "features[\"label\"] = ClassLabel(names=['negative', 'neutral', 'positive'])\n",
    "def adjust_labels(batch):\n",
    "    batch[\"label\"] = [dataset_mteb_cc for dataset_mteb_cc in batch[\"label\"]]\n",
    "    return batch\n",
    "label_dataset = dataset_mteb_cc.map(adjust_labels, batched=True, features=features)"
   ]
  },
  {
   "cell_type": "code",
   "execution_count": 13,
   "id": "ef1abd7f",
   "metadata": {},
   "outputs": [
    {
     "data": {
      "text/plain": [
       "{'text': Value(dtype='string', id=None),\n",
       " 'label': ClassLabel(names=['negative', 'neutral', 'positive'], id=None)}"
      ]
     },
     "execution_count": 13,
     "metadata": {},
     "output_type": "execute_result"
    }
   ],
   "source": [
    "label_dataset.features"
   ]
  },
  {
   "cell_type": "code",
   "execution_count": 14,
   "id": "32894eef",
   "metadata": {},
   "outputs": [
    {
     "data": {
      "text/plain": [
       "Dataset({\n",
       "    features: ['text', 'label'],\n",
       "    num_rows: 34048\n",
       "})"
      ]
     },
     "execution_count": 14,
     "metadata": {},
     "output_type": "execute_result"
    }
   ],
   "source": [
    "dataset_cc = concatenate_datasets([label_dataset, dataset_tweet_cc])\n",
    "dataset_cc"
   ]
  },
  {
   "cell_type": "markdown",
   "id": "41534065",
   "metadata": {},
   "source": [
    "## test dataset"
   ]
  },
  {
   "cell_type": "code",
   "execution_count": 15,
   "id": "2e8e1c89",
   "metadata": {},
   "outputs": [
    {
     "data": {
      "application/vnd.jupyter.widget-view+json": {
       "model_id": "ab91cc402c2b43d88995473dbb61529a",
       "version_major": 2,
       "version_minor": 0
      },
      "text/plain": [
       "VBox(children=(HTML(value='<center> <img\\nsrc=https://huggingface.co/front/assets/huggingface_logo-noborder.sv…"
      ]
     },
     "metadata": {},
     "output_type": "display_data"
    }
   ],
   "source": [
    "notebook_login()"
   ]
  },
  {
   "cell_type": "code",
   "execution_count": 16,
   "id": "bc13c06c",
   "metadata": {},
   "outputs": [
    {
     "name": "stdout",
     "output_type": "stream",
     "text": [
      "DatasetDict({\n",
      "    test: Dataset({\n",
      "        features: ['sequence', 'labels', 'labels_five', 'labels_three', 'labels_three_2p'],\n",
      "        num_rows: 1700\n",
      "    })\n",
      "})\n"
     ]
    }
   ],
   "source": [
    "raw_dataset=load_dataset(\"HFFErica/sentimentanalysis\")\n",
    "print(raw_dataset)"
   ]
  },
  {
   "cell_type": "code",
   "execution_count": 17,
   "id": "b25fa66d",
   "metadata": {},
   "outputs": [],
   "source": [
    "features = raw_dataset[\"test\"].features.copy()\n",
    "features[\"labels_three_2p\"] = ClassLabel(names=['negative', 'neutral', 'positive'])\n",
    "def adjust_labels(batch):\n",
    "    batch[\"labels_three_2p\"] = [test for test in batch[\"labels_three_2p\"]]\n",
    "    return batch\n",
    "label_dataset = raw_dataset.map(adjust_labels, batched=True, features=features)"
   ]
  },
  {
   "cell_type": "code",
   "execution_count": 18,
   "id": "79561e67",
   "metadata": {},
   "outputs": [
    {
     "data": {
      "text/plain": [
       "{'sequence': Value(dtype='string', id=None),\n",
       " 'labels': Value(dtype='string', id=None),\n",
       " 'labels_five': Value(dtype='int64', id=None),\n",
       " 'labels_three': Value(dtype='int64', id=None),\n",
       " 'labels_three_2p': ClassLabel(names=['negative', 'neutral', 'positive'], id=None)}"
      ]
     },
     "execution_count": 18,
     "metadata": {},
     "output_type": "execute_result"
    }
   ],
   "source": [
    "label_dataset[\"test\"].features"
   ]
  },
  {
   "cell_type": "code",
   "execution_count": 19,
   "id": "8c3bca4b",
   "metadata": {},
   "outputs": [
    {
     "data": {
      "text/plain": [
       "DatasetDict({\n",
       "    train: Dataset({\n",
       "        features: ['sequence', 'labels', 'labels_five', 'labels_three', 'labels_three_2p'],\n",
       "        num_rows: 1000\n",
       "    })\n",
       "    test: Dataset({\n",
       "        features: ['sequence', 'labels', 'labels_five', 'labels_three', 'labels_three_2p'],\n",
       "        num_rows: 700\n",
       "    })\n",
       "})"
      ]
     },
     "execution_count": 19,
     "metadata": {},
     "output_type": "execute_result"
    }
   ],
   "source": [
    "label_dataset_split = label_dataset['test'].train_test_split(test_size=0.4112, stratify_by_column=\"labels_three_2p\")\n",
    "label_dataset_split"
   ]
  },
  {
   "cell_type": "markdown",
   "id": "b6d08aba",
   "metadata": {},
   "source": [
    "### test dataset groups"
   ]
  },
  {
   "cell_type": "code",
   "execution_count": 20,
   "id": "ca7e800b",
   "metadata": {},
   "outputs": [
    {
     "data": {
      "text/plain": [
       "Dataset({\n",
       "    features: ['sequence', 'labels', 'labels_five', 'labels_three', 'labels_three_2p'],\n",
       "    num_rows: 1000\n",
       "})"
      ]
     },
     "execution_count": 20,
     "metadata": {},
     "output_type": "execute_result"
    }
   ],
   "source": [
    "test_dataset=label_dataset_split['train']\n",
    "test_dataset"
   ]
  },
  {
   "cell_type": "code",
   "execution_count": 21,
   "id": "fcdf8e04",
   "metadata": {},
   "outputs": [
    {
     "data": {
      "text/plain": [
       "Dataset({\n",
       "    features: ['sequence', 'labels', 'labels_five', 'labels_three', 'labels_three_2p'],\n",
       "    num_rows: 700\n",
       "})"
      ]
     },
     "execution_count": 21,
     "metadata": {},
     "output_type": "execute_result"
    }
   ],
   "source": [
    "pretrain_test_dataset=label_dataset_split['test']\n",
    "pretrain_test_dataset"
   ]
  },
  {
   "cell_type": "code",
   "execution_count": 22,
   "id": "803760a1",
   "metadata": {},
   "outputs": [
    {
     "data": {
      "text/plain": [
       "{'sequence': Value(dtype='string', id=None),\n",
       " 'labels': Value(dtype='string', id=None),\n",
       " 'labels_five': Value(dtype='int64', id=None),\n",
       " 'labels_three': Value(dtype='int64', id=None),\n",
       " 'labels_three_2p': ClassLabel(names=['negative', 'neutral', 'positive'], id=None)}"
      ]
     },
     "execution_count": 22,
     "metadata": {},
     "output_type": "execute_result"
    }
   ],
   "source": [
    "test_dataset.features"
   ]
  },
  {
   "cell_type": "markdown",
   "id": "93230995",
   "metadata": {},
   "source": [
    "### Pretrain merge"
   ]
  },
  {
   "cell_type": "code",
   "execution_count": 23,
   "id": "af52cc4c",
   "metadata": {},
   "outputs": [
    {
     "data": {
      "text/plain": [
       "Dataset({\n",
       "    features: ['sequence', 'labels_three_2p'],\n",
       "    num_rows: 700\n",
       "})"
      ]
     },
     "execution_count": 23,
     "metadata": {},
     "output_type": "execute_result"
    }
   ],
   "source": [
    "pretrain_test_dataset=pretrain_test_dataset.remove_columns('labels')\n",
    "pretrain_test_dataset=pretrain_test_dataset.remove_columns('labels_five')\n",
    "pretrain_test_dataset=pretrain_test_dataset.remove_columns('labels_three')\n",
    "\n",
    "pretrain_test_dataset"
   ]
  },
  {
   "cell_type": "code",
   "execution_count": 24,
   "id": "98df6d13",
   "metadata": {},
   "outputs": [
    {
     "data": {
      "text/plain": [
       "Dataset({\n",
       "    features: ['text', 'label'],\n",
       "    num_rows: 700\n",
       "})"
      ]
     },
     "execution_count": 24,
     "metadata": {},
     "output_type": "execute_result"
    }
   ],
   "source": [
    "pretrain_test_dataset=pretrain_test_dataset.rename_column(\"sequence\", \"text\")\n",
    "pretrain_test_dataset=pretrain_test_dataset.rename_column(\"labels_three_2p\", \"label\")\n",
    "\n",
    "pretrain_test_dataset"
   ]
  },
  {
   "cell_type": "code",
   "execution_count": 25,
   "id": "010e259b",
   "metadata": {},
   "outputs": [
    {
     "data": {
      "text/plain": [
       "Dataset({\n",
       "    features: ['text', 'label'],\n",
       "    num_rows: 34748\n",
       "})"
      ]
     },
     "execution_count": 25,
     "metadata": {},
     "output_type": "execute_result"
    }
   ],
   "source": [
    "dataset_ccc = concatenate_datasets([dataset_cc,pretrain_test_dataset])\n",
    "dataset_ccc"
   ]
  },
  {
   "cell_type": "markdown",
   "id": "bd490827",
   "metadata": {},
   "source": [
    "## split "
   ]
  },
  {
   "cell_type": "code",
   "execution_count": 26,
   "id": "0cc3e974",
   "metadata": {},
   "outputs": [
    {
     "data": {
      "text/plain": [
       "DatasetDict({\n",
       "    train: Dataset({\n",
       "        features: ['text', 'label'],\n",
       "        num_rows: 27798\n",
       "    })\n",
       "    test: Dataset({\n",
       "        features: ['text', 'label'],\n",
       "        num_rows: 6950\n",
       "    })\n",
       "})"
      ]
     },
     "execution_count": 26,
     "metadata": {},
     "output_type": "execute_result"
    }
   ],
   "source": [
    "ds = dataset_ccc.train_test_split(test_size=0.2, stratify_by_column=\"label\")\n",
    "ds"
   ]
  },
  {
   "cell_type": "code",
   "execution_count": 27,
   "id": "59160508",
   "metadata": {
    "scrolled": true
   },
   "outputs": [
    {
     "name": "stdout",
     "output_type": "stream",
     "text": [
      "Dataset({\n",
      "    features: ['text', 'label'],\n",
      "    num_rows: 27798\n",
      "})\n",
      "Dataset({\n",
      "    features: ['text', 'label'],\n",
      "    num_rows: 6950\n",
      "})\n"
     ]
    }
   ],
   "source": [
    "train_dataset = ds['train']\n",
    "validation_dataset = ds['test']\n",
    "print(train_dataset)\n",
    "print(validation_dataset)"
   ]
  },
  {
   "cell_type": "markdown",
   "id": "484f5084",
   "metadata": {},
   "source": [
    "## label balance"
   ]
  },
  {
   "cell_type": "code",
   "execution_count": 28,
   "id": "594fd590",
   "metadata": {},
   "outputs": [
    {
     "data": {
      "text/plain": [
       "<Axes: ylabel='count'>"
      ]
     },
     "execution_count": 28,
     "metadata": {},
     "output_type": "execute_result"
    },
    {
     "data": {
      "image/png": "[encoded data removed]",
      "text/plain": [
       "<Figure size 640x480 with 1 Axes>"
      ]
     },
     "metadata": {},
     "output_type": "display_data"
    }
   ],
   "source": [
    "df_train = train_dataset.to_pandas()\n",
    "df_train.label.value_counts().plot(kind = 'pie', autopct=\"%.2f\")"
   ]
  },
  {
   "cell_type": "code",
   "execution_count": 29,
   "id": "930bd8d3",
   "metadata": {},
   "outputs": [
    {
     "data": {
      "text/plain": [
       "<Axes: ylabel='count'>"
      ]
     },
     "execution_count": 29,
     "metadata": {},
     "output_type": "execute_result"
    },
    {
     "data": {
      "image/png": "[encoded data removed]",
      "text/plain": [
       "<Figure size 640x480 with 1 Axes>"
      ]
     },
     "metadata": {},
     "output_type": "display_data"
    }
   ],
   "source": [
    "df_validation = validation_dataset.to_pandas()\n",
    "df_validation.label.value_counts().plot(kind = 'pie', autopct=\"%.2f\")"
   ]
  },
  {
   "cell_type": "code",
   "execution_count": 30,
   "id": "861ebe32",
   "metadata": {},
   "outputs": [
    {
     "data": {
      "text/plain": [
       "<Axes: ylabel='count'>"
      ]
     },
     "execution_count": 30,
     "metadata": {},
     "output_type": "execute_result"
    },
    {
     "data": {
      "image/png": "[encoded data removed]",
      "text/plain": [
       "<Figure size 640x480 with 1 Axes>"
      ]
     },
     "metadata": {},
     "output_type": "display_data"
    }
   ],
   "source": [
    "df_test = test_dataset.to_pandas()\n",
    "df_test.labels_three_2p.value_counts().plot(kind = 'pie', autopct=\"%.2f\")"
   ]
  },
  {
   "cell_type": "code",
   "execution_count": 31,
   "id": "0f97a1ff",
   "metadata": {},
   "outputs": [
    {
     "data": {
      "text/plain": [
       "<Axes: ylabel='count'>"
      ]
     },
     "execution_count": 31,
     "metadata": {},
     "output_type": "execute_result"
    },
    {
     "data": {
      "image/png": "[encoded data removed]",
      "text/plain": [
       "<Figure size 640x480 with 1 Axes>"
      ]
     },
     "metadata": {},
     "output_type": "display_data"
    }
   ],
   "source": [
    "df_pretest = pretrain_test_dataset.to_pandas()\n",
    "df_pretest.label.value_counts().plot(kind = 'pie', autopct=\"%.2f\")"
   ]
  },
  {
   "cell_type": "markdown",
   "id": "50f979eb",
   "metadata": {},
   "source": [
    "## Map"
   ]
  },
  {
   "cell_type": "code",
   "execution_count": 32,
   "id": "3dbe3305",
   "metadata": {},
   "outputs": [
    {
     "name": "stdout",
     "output_type": "stream",
     "text": [
      "Dataset({\n",
      "    features: ['text', 'label'],\n",
      "    num_rows: 27798\n",
      "})\n",
      "Dataset({\n",
      "    features: ['text', 'label'],\n",
      "    num_rows: 6950\n",
      "})\n",
      "Dataset({\n",
      "    features: ['sequence', 'labels', 'labels_five', 'labels_three', 'labels_three_2p'],\n",
      "    num_rows: 1000\n",
      "})\n",
      "Dataset({\n",
      "    features: ['text', 'label'],\n",
      "    num_rows: 700\n",
      "})\n"
     ]
    }
   ],
   "source": [
    "print(train_dataset)\n",
    "print(validation_dataset)\n",
    "print(test_dataset)\n",
    "print(pretrain_test_dataset)"
   ]
  },
  {
   "cell_type": "code",
   "execution_count": 33,
   "id": "889877bb",
   "metadata": {},
   "outputs": [
    {
     "data": {
      "application/vnd.jupyter.widget-view+json": {
       "model_id": "34b5d161a8864f118ce80613b8cd4c64",
       "version_major": 2,
       "version_minor": 0
      },
      "text/plain": [
       "Map:   0%|          | 0/27798 [00:00<?, ? examples/s]"
      ]
     },
     "metadata": {},
     "output_type": "display_data"
    },
    {
     "data": {
      "application/vnd.jupyter.widget-view+json": {
       "model_id": "9167cce8a49b4c36b217bfe186f99405",
       "version_major": 2,
       "version_minor": 0
      },
      "text/plain": [
       "Map:   0%|          | 0/6950 [00:00<?, ? examples/s]"
      ]
     },
     "metadata": {},
     "output_type": "display_data"
    },
    {
     "data": {
      "application/vnd.jupyter.widget-view+json": {
       "model_id": "5c1fe04965a84f5a958c45737e39ed91",
       "version_major": 2,
       "version_minor": 0
      },
      "text/plain": [
       "Map:   0%|          | 0/1000 [00:00<?, ? examples/s]"
      ]
     },
     "metadata": {},
     "output_type": "display_data"
    }
   ],
   "source": [
    "train_dataset = train_dataset.map(lambda examples: {'labels': examples['label']}, batched=True)\n",
    "validation_dataset = validation_dataset.map(lambda examples: {'labels': examples['label']}, batched=True)\n",
    "test_dataset = test_dataset.map(lambda examples: {'labels': examples['labels_three_2p']}, batched=True)"
   ]
  },
  {
   "cell_type": "markdown",
   "id": "1cec0980",
   "metadata": {},
   "source": [
    "# Model "
   ]
  },
  {
   "cell_type": "code",
   "execution_count": 34,
   "id": "3edd6892",
   "metadata": {},
   "outputs": [
    {
     "data": {
      "text/plain": [
       "DistilBertConfig {\n",
       "  \"_name_or_path\": \"lxyuan/distilbert-base-multilingual-cased-sentiments-student\",\n",
       "  \"activation\": \"gelu\",\n",
       "  \"architectures\": [\n",
       "    \"DistilBertForSequenceClassification\"\n",
       "  ],\n",
       "  \"attention_dropout\": 0.1,\n",
       "  \"dim\": 768,\n",
       "  \"dropout\": 0.1,\n",
       "  \"hidden_dim\": 3072,\n",
       "  \"id2label\": {\n",
       "    \"negative\": 0,\n",
       "    \"neutral\": 1,\n",
       "    \"positive\": 2\n",
       "  },\n",
       "  \"initializer_range\": 0.02,\n",
       "  \"label2id\": {\n",
       "    \"negative\": 2,\n",
       "    \"neutral\": 1,\n",
       "    \"positive\": 0\n",
       "  },\n",
       "  \"max_position_embeddings\": 512,\n",
       "  \"model_type\": \"distilbert\",\n",
       "  \"n_heads\": 12,\n",
       "  \"n_layers\": 6,\n",
       "  \"output_past\": true,\n",
       "  \"pad_token_id\": 0,\n",
       "  \"qa_dropout\": 0.1,\n",
       "  \"seq_classif_dropout\": 0.2,\n",
       "  \"sinusoidal_pos_embds\": false,\n",
       "  \"tie_weights_\": true,\n",
       "  \"torch_dtype\": \"float32\",\n",
       "  \"transformers_version\": \"4.34.0\",\n",
       "  \"vocab_size\": 119547\n",
       "}"
      ]
     },
     "execution_count": 34,
     "metadata": {},
     "output_type": "execute_result"
    }
   ],
   "source": [
    "model_id=\"lxyuan/distilbert-base-multilingual-cased-sentiments-student\"\n",
    "\n",
    "\n",
    "\n",
    "label2id = {\"positive\": 2, \"neutral\": 1,\"negative\":0}\n",
    "\n",
    "# 2 = positive\n",
    "# 1 = neutral\n",
    "# 0 = negative\n",
    "\n",
    "model = AutoModelForSequenceClassification.from_pretrained(model_id, \n",
    "                                                           num_labels=train_dataset.features[\"label\"].num_classes,id2label=label2id,\n",
    "                                                          ignore_mismatched_sizes=True)\n",
    "tokenizer = AutoTokenizer.from_pretrained(model_id)\n",
    "model.config"
   ]
  },
  {
   "cell_type": "code",
   "execution_count": 35,
   "id": "b906be19",
   "metadata": {},
   "outputs": [
    {
     "data": {
      "application/vnd.jupyter.widget-view+json": {
       "model_id": "8345f4eab39a4a93b2455313a8f02fb3",
       "version_major": 2,
       "version_minor": 0
      },
      "text/plain": [
       "Map:   0%|          | 0/27798 [00:00<?, ? examples/s]"
      ]
     },
     "metadata": {},
     "output_type": "display_data"
    },
    {
     "data": {
      "application/vnd.jupyter.widget-view+json": {
       "model_id": "ae91074b00304a0cbbfb62acc254a639",
       "version_major": 2,
       "version_minor": 0
      },
      "text/plain": [
       "Map:   0%|          | 0/6950 [00:00<?, ? examples/s]"
      ]
     },
     "metadata": {},
     "output_type": "display_data"
    },
    {
     "data": {
      "application/vnd.jupyter.widget-view+json": {
       "model_id": "84c46a3b250b412e91913d67475d2c3d",
       "version_major": 2,
       "version_minor": 0
      },
      "text/plain": [
       "Map:   0%|          | 0/1000 [00:00<?, ? examples/s]"
      ]
     },
     "metadata": {},
     "output_type": "display_data"
    }
   ],
   "source": [
    "MAX_LENGTH = 256\n",
    "train_dataset = train_dataset.map(lambda e: tokenizer(e['text'], truncation=True, padding='max_length', max_length=MAX_LENGTH), batched=True)\n",
    "validation_dataset = validation_dataset.map(lambda e: tokenizer(e['text'], truncation=True, padding='max_length', max_length=MAX_LENGTH), batched=True)\n",
    "test_dataset = test_dataset.map(lambda e: tokenizer(e['sequence'], truncation=True, padding='max_length', max_length=MAX_LENGTH), batched=True)"
   ]
  },
  {
   "cell_type": "code",
   "execution_count": 36,
   "id": "6933de5f",
   "metadata": {},
   "outputs": [
    {
     "data": {
      "text/plain": [
       "{'text': Value(dtype='string', id=None),\n",
       " 'label': ClassLabel(names=['negative', 'neutral', 'positive'], id=None),\n",
       " 'labels': Value(dtype='int64', id=None),\n",
       " 'input_ids': Sequence(feature=Value(dtype='int32', id=None), length=-1, id=None),\n",
       " 'attention_mask': Sequence(feature=Value(dtype='int8', id=None), length=-1, id=None)}"
      ]
     },
     "execution_count": 36,
     "metadata": {},
     "output_type": "execute_result"
    }
   ],
   "source": [
    "train_dataset.features"
   ]
  },
  {
   "cell_type": "code",
   "execution_count": 37,
   "id": "b751df44",
   "metadata": {},
   "outputs": [],
   "source": [
    "# train_dataset.set_format(type='torch', columns=['input_ids','token_type_ids', 'attention_mask', 'labels'])\n",
    "# validation_dataset.set_format(type='torch', columns=['input_ids', 'token_type_ids', 'attention_mask', 'labels'])\n",
    "# test_dataset.set_format(type='torch', columns=['input_ids', 'token_type_ids', 'attention_mask', 'labels'])\n",
    "\n",
    "\n",
    "train_dataset.set_format(type='torch', columns=['input_ids', 'attention_mask', 'labels'])\n",
    "validation_dataset.set_format(type='torch', columns=['input_ids',  'attention_mask', 'labels'])\n",
    "test_dataset.set_format(type='torch', columns=['input_ids', 'attention_mask', 'labels'])"
   ]
  },
  {
   "cell_type": "code",
   "execution_count": 38,
   "id": "08cacb6e",
   "metadata": {},
   "outputs": [],
   "source": [
    "def compute_metrics(pred):\n",
    "    labels = pred.label_ids\n",
    "    preds = pred.predictions.argmax(-1)\n",
    "    precision, recall, f1, _ = precision_recall_fscore_support(labels, preds, average='macro')\n",
    "    acc = accuracy_score(labels, preds)\n",
    "    return {\n",
    "        'accuracy': acc,\n",
    "        'f1': f1,\n",
    "        'precision': precision,\n",
    "        'recall': recall\n",
    "    }"
   ]
  },
  {
   "cell_type": "markdown",
   "id": "c354adc8",
   "metadata": {
    "heading_collapsed": true
   },
   "source": [
    "# hyperparameter search"
   ]
  },
  {
   "cell_type": "code",
   "execution_count": 39,
   "id": "6ec42d47",
   "metadata": {
    "hidden": true
   },
   "outputs": [],
   "source": [
    "def model_init():\n",
    "    return AutoModelForSequenceClassification.from_pretrained(model_id, return_dict=True)"
   ]
  },
  {
   "cell_type": "code",
   "execution_count": 40,
   "id": "13c4e603",
   "metadata": {
    "hidden": true
   },
   "outputs": [],
   "source": [
    "training_args = TrainingArguments(\"test\",  eval_steps=500, disable_tqdm=True, do_eval=True, evaluation_strategy='steps')\n",
    "trainer = Trainer(\n",
    "    args=training_args,\n",
    "    data_collator=DataCollatorWithPadding(tokenizer),\n",
    "    train_dataset=train_dataset, \n",
    "    eval_dataset=validation_dataset, \n",
    "    model_init=model_init,\n",
    "    compute_metrics=compute_metrics,\n",
    ")"
   ]
  },
  {
   "cell_type": "code",
   "execution_count": 41,
   "id": "54f9d267",
   "metadata": {
    "hidden": true
   },
   "outputs": [],
   "source": [
    "def my_hp_space(trial):\n",
    "    return {\n",
    "        \"learning_rate\": trial.suggest_float(\"learning_rate\", 1e-6, 1e-3, log=True),\n",
    "        \"num_train_epochs\": trial.suggest_int(\"num_train_epochs\", 1, 5),\n",
    "#         \"seed\": trial.suggest_int(\"seed\", 1, 40),\n",
    "        \"per_device_train_batch_size\": trial.suggest_categorical(\"per_device_train_batch_size\", [16, 24, 32, 36, 40, 48,56, 64,72]),\n",
    "    }"
   ]
  },
  {
   "cell_type": "code",
   "execution_count": 42,
   "id": "90d8f4d2",
   "metadata": {
    "hidden": true,
    "scrolled": false
   },
   "outputs": [
    {
     "name": "stderr",
     "output_type": "stream",
     "text": [
      "[I 2023-12-06 12:00:09,051] A new study created in memory with name: no-name-237bf878-ee2d-42f9-b3ac-87ac0f422128\n",
      "\u001b[34m\u001b[1mwandb\u001b[0m: Currently logged in as: \u001b[33mericat\u001b[0m. Use \u001b[1m`wandb login --relogin`\u001b[0m to force relogin\n"
     ]
    },
    {
     "data": {
      "text/html": [
       "wandb version 0.16.1 is available!  To upgrade, please run:\n",
       " $ pip install wandb --upgrade"
      ],
      "text/plain": [
       "<IPython.core.display.HTML object>"
      ]
     },
     "metadata": {},
     "output_type": "display_data"
    },
    {
     "data": {
      "text/html": [
       "Tracking run with wandb version 0.16.0"
      ],
      "text/plain": [
       "<IPython.core.display.HTML object>"
      ]
     },
     "metadata": {},
     "output_type": "display_data"
    },
    {
     "data": {
      "text/html": [
       "Run data is saved locally in <code>D:\\Projects\\Jupyter\\Sentiment analysis\\04DEC\\wandb\\run-20231206_120034-q1copwj1</code>"
      ],
      "text/plain": [
       "<IPython.core.display.HTML object>"
      ]
     },
     "metadata": {},
     "output_type": "display_data"
    },
    {
     "data": {
      "text/html": [
       "Syncing run <strong><a href='https://wandb.ai/ericat/huggingface/runs/q1copwj1' target=\"_blank\">ethereal-sun-477</a></strong> to <a href='https://wandb.ai/ericat/huggingface' target=\"_blank\">Weights & Biases</a> (<a href='https://wandb.me/run' target=\"_blank\">docs</a>)<br/>"
      ],
      "text/plain": [
       "<IPython.core.display.HTML object>"
      ]
     },
     "metadata": {},
     "output_type": "display_data"
    },
    {
     "data": {
      "text/html": [
       " View project at <a href='https://wandb.ai/ericat/huggingface' target=\"_blank\">https://wandb.ai/ericat/huggingface</a>"
      ],
      "text/plain": [
       "<IPython.core.display.HTML object>"
      ]
     },
     "metadata": {},
     "output_type": "display_data"
    },
    {
     "data": {
      "text/html": [
       " View run at <a href='https://wandb.ai/ericat/huggingface/runs/q1copwj1' target=\"_blank\">https://wandb.ai/ericat/huggingface/runs/q1copwj1</a>"
      ],
      "text/plain": [
       "<IPython.core.display.HTML object>"
      ]
     },
     "metadata": {},
     "output_type": "display_data"
    },
    {
     "name": "stderr",
     "output_type": "stream",
     "text": [
      "You're using a DistilBertTokenizerFast tokenizer. Please note that with a fast tokenizer, using the `__call__` method is faster than using a method to encode the text followed by a call to the `pad` method to get a padded encoding.\n"
     ]
    },
    {
     "name": "stdout",
     "output_type": "stream",
     "text": [
      "{'loss': 1.0468, 'learning_rate': 1.358013731805802e-06, 'epoch': 1.15}\n",
      "{'eval_loss': 0.8359916806221008, 'eval_accuracy': 0.640431654676259, 'eval_f1': 0.6408897466033693, 'eval_precision': 0.6493220461344641, 'eval_recall': 0.6360691406055028, 'eval_runtime': 22.9081, 'eval_samples_per_second': 303.386, 'eval_steps_per_second': 37.934, 'epoch': 1.15}\n",
      "{'loss': 0.792, 'learning_rate': 9.526364984309358e-07, 'epoch': 2.3}\n",
      "{'eval_loss': 0.7361564636230469, 'eval_accuracy': 0.6867625899280575, 'eval_f1': 0.6891978304061089, 'eval_precision': 0.6905435162499148, 'eval_recall': 0.6881189274447901, 'eval_runtime': 21.8281, 'eval_samples_per_second': 318.397, 'eval_steps_per_second': 39.811, 'epoch': 2.3}\n",
      "{'loss': 0.7309, 'learning_rate': 5.472592650560695e-07, 'epoch': 3.45}\n",
      "{'eval_loss': 0.7079921960830688, 'eval_accuracy': 0.6981294964028777, 'eval_f1': 0.7006584929279107, 'eval_precision': 0.7004978063816636, 'eval_recall': 0.7009023058759382, 'eval_runtime': 21.6966, 'eval_samples_per_second': 320.327, 'eval_steps_per_second': 40.052, 'epoch': 3.45}\n",
      "{'loss': 0.7106, 'learning_rate': 1.418820316812032e-07, 'epoch': 4.6}\n",
      "{'eval_loss': 0.6982829570770264, 'eval_accuracy': 0.7018705035971223, 'eval_f1': 0.704353645214646, 'eval_precision': 0.7041149658667191, 'eval_recall': 0.7046495542652705, 'eval_runtime': 21.7927, 'eval_samples_per_second': 318.914, 'eval_steps_per_second': 39.876, 'epoch': 4.6}\n"
     ]
    },
    {
     "name": "stderr",
     "output_type": "stream",
     "text": [
      "[I 2023-12-06 12:28:18,336] Trial 0 finished with value: 2.8149886689437578 and parameters: {'learning_rate': 1.7633909651806684e-06, 'num_train_epochs': 5, 'per_device_train_batch_size': 64}. Best is trial 0 with value: 2.8149886689437578.\n"
     ]
    },
    {
     "name": "stdout",
     "output_type": "stream",
     "text": [
      "{'train_runtime': 1669.2393, 'train_samples_per_second': 83.265, 'train_steps_per_second': 1.303, 'train_loss': 0.8104965420426994, 'epoch': 5.0}\n"
     ]
    },
    {
     "data": {
      "application/vnd.jupyter.widget-view+json": {
       "model_id": "",
       "version_major": 2,
       "version_minor": 0
      },
      "text/plain": [
       "VBox(children=(Label(value='0.001 MB of 0.001 MB uploaded\\r'), FloatProgress(value=1.0, max=1.0)))"
      ]
     },
     "metadata": {},
     "output_type": "display_data"
    },
    {
     "data": {
      "text/html": [
       "<style>\n",
       "    table.wandb td:nth-child(1) { padding: 0 10px; text-align: left ; width: auto;} td:nth-child(2) {text-align: left ; width: 100%}\n",
       "    .wandb-row { display: flex; flex-direction: row; flex-wrap: wrap; justify-content: flex-start; width: 100% }\n",
       "    .wandb-col { display: flex; flex-direction: column; flex-basis: 100%; flex: 1; padding: 10px; }\n",
       "    </style>\n",
       "<div class=\"wandb-row\"><div class=\"wandb-col\"><h3>Run history:</h3><br/><table class=\"wandb\"><tr><td>eval/accuracy</td><td>▁▆██</td></tr><tr><td>eval/f1</td><td>▁▆██</td></tr><tr><td>eval/loss</td><td>█▃▁▁</td></tr><tr><td>eval/precision</td><td>▁▆██</td></tr><tr><td>eval/recall</td><td>▁▆██</td></tr><tr><td>eval/runtime</td><td>█▂▁▂</td></tr><tr><td>eval/samples_per_second</td><td>▁▇█▇</td></tr><tr><td>eval/steps_per_second</td><td>▁▇█▇</td></tr><tr><td>train/epoch</td><td>▁▁▃▃▅▅▇▇█</td></tr><tr><td>train/global_step</td><td>▁▁▃▃▅▅▇▇█</td></tr><tr><td>train/learning_rate</td><td>█▆▃▁</td></tr><tr><td>train/loss</td><td>█▃▁▁</td></tr><tr><td>train/total_flos</td><td>▁</td></tr><tr><td>train/train_loss</td><td>▁</td></tr><tr><td>train/train_runtime</td><td>▁</td></tr><tr><td>train/train_samples_per_second</td><td>▁</td></tr><tr><td>train/train_steps_per_second</td><td>▁</td></tr></table><br/></div><div class=\"wandb-col\"><h3>Run summary:</h3><br/><table class=\"wandb\"><tr><td>eval/accuracy</td><td>0.70187</td></tr><tr><td>eval/f1</td><td>0.70435</td></tr><tr><td>eval/loss</td><td>0.69828</td></tr><tr><td>eval/precision</td><td>0.70411</td></tr><tr><td>eval/recall</td><td>0.70465</td></tr><tr><td>eval/runtime</td><td>21.7927</td></tr><tr><td>eval/samples_per_second</td><td>318.914</td></tr><tr><td>eval/steps_per_second</td><td>39.876</td></tr><tr><td>train/epoch</td><td>5.0</td></tr><tr><td>train/global_step</td><td>2175</td></tr><tr><td>train/learning_rate</td><td>0.0</td></tr><tr><td>train/loss</td><td>0.7106</td></tr><tr><td>train/total_flos</td><td>9205986042362880.0</td></tr><tr><td>train/train_loss</td><td>0.8105</td></tr><tr><td>train/train_runtime</td><td>1669.2393</td></tr><tr><td>train/train_samples_per_second</td><td>83.265</td></tr><tr><td>train/train_steps_per_second</td><td>1.303</td></tr></table><br/></div></div>"
      ],
      "text/plain": [
       "<IPython.core.display.HTML object>"
      ]
     },
     "metadata": {},
     "output_type": "display_data"
    },
    {
     "data": {
      "text/html": [
       " View run <strong style=\"color:#cdcd00\">ethereal-sun-477</strong> at: <a href='https://wandb.ai/ericat/huggingface/runs/q1copwj1' target=\"_blank\">https://wandb.ai/ericat/huggingface/runs/q1copwj1</a><br/>Synced 5 W&B file(s), 0 media file(s), 0 artifact file(s) and 0 other file(s)"
      ],
      "text/plain": [
       "<IPython.core.display.HTML object>"
      ]
     },
     "metadata": {},
     "output_type": "display_data"
    },
    {
     "data": {
      "text/html": [
       "Find logs at: <code>.\\wandb\\run-20231206_120034-q1copwj1\\logs</code>"
      ],
      "text/plain": [
       "<IPython.core.display.HTML object>"
      ]
     },
     "metadata": {},
     "output_type": "display_data"
    },
    {
     "data": {
      "application/vnd.jupyter.widget-view+json": {
       "model_id": "0d128779754443baa9c6367214aec812",
       "version_major": 2,
       "version_minor": 0
      },
      "text/plain": [
       "VBox(children=(Label(value='Waiting for wandb.init()...\\r'), FloatProgress(value=0.011288888888889738, max=1.0…"
      ]
     },
     "metadata": {},
     "output_type": "display_data"
    },
    {
     "data": {
      "text/html": [
       "wandb version 0.16.1 is available!  To upgrade, please run:\n",
       " $ pip install wandb --upgrade"
      ],
      "text/plain": [
       "<IPython.core.display.HTML object>"
      ]
     },
     "metadata": {},
     "output_type": "display_data"
    },
    {
     "data": {
      "text/html": [
       "Tracking run with wandb version 0.16.0"
      ],
      "text/plain": [
       "<IPython.core.display.HTML object>"
      ]
     },
     "metadata": {},
     "output_type": "display_data"
    },
    {
     "data": {
      "text/html": [
       "Run data is saved locally in <code>D:\\Projects\\Jupyter\\Sentiment analysis\\04DEC\\wandb\\run-20231206_122828-sem2r2uf</code>"
      ],
      "text/plain": [
       "<IPython.core.display.HTML object>"
      ]
     },
     "metadata": {},
     "output_type": "display_data"
    },
    {
     "data": {
      "text/html": [
       "Syncing run <strong><a href='https://wandb.ai/ericat/huggingface/runs/sem2r2uf' target=\"_blank\">volcanic-monkey-478</a></strong> to <a href='https://wandb.ai/ericat/huggingface' target=\"_blank\">Weights & Biases</a> (<a href='https://wandb.me/run' target=\"_blank\">docs</a>)<br/>"
      ],
      "text/plain": [
       "<IPython.core.display.HTML object>"
      ]
     },
     "metadata": {},
     "output_type": "display_data"
    },
    {
     "data": {
      "text/html": [
       " View project at <a href='https://wandb.ai/ericat/huggingface' target=\"_blank\">https://wandb.ai/ericat/huggingface</a>"
      ],
      "text/plain": [
       "<IPython.core.display.HTML object>"
      ]
     },
     "metadata": {},
     "output_type": "display_data"
    },
    {
     "data": {
      "text/html": [
       " View run at <a href='https://wandb.ai/ericat/huggingface/runs/sem2r2uf' target=\"_blank\">https://wandb.ai/ericat/huggingface/runs/sem2r2uf</a>"
      ],
      "text/plain": [
       "<IPython.core.display.HTML object>"
      ]
     },
     "metadata": {},
     "output_type": "display_data"
    },
    {
     "name": "stdout",
     "output_type": "stream",
     "text": [
      "{'loss': 0.8304, 'learning_rate': 0.0002212634377203919, 'epoch': 1.29}\n",
      "{'eval_loss': 0.7517143487930298, 'eval_accuracy': 0.6923741007194245, 'eval_f1': 0.6939808354161029, 'eval_precision': 0.694376802582354, 'eval_recall': 0.6942801857990043, 'eval_runtime': 21.5225, 'eval_samples_per_second': 322.919, 'eval_steps_per_second': 40.376, 'epoch': 1.29}\n",
      "{'loss': 0.6338, 'learning_rate': 5.389321251585944e-05, 'epoch': 2.58}\n",
      "{'eval_loss': 0.7542621493339539, 'eval_accuracy': 0.7014388489208633, 'eval_f1': 0.7042304549920351, 'eval_precision': 0.7034787352498629, 'eval_recall': 0.7050597025723192, 'eval_runtime': 21.4995, 'eval_samples_per_second': 323.263, 'eval_steps_per_second': 40.42, 'epoch': 2.58}\n"
     ]
    },
    {
     "name": "stderr",
     "output_type": "stream",
     "text": [
      "[I 2023-12-06 12:50:47,145] Trial 1 finished with value: 2.8142077417350806 and parameters: {'learning_rate': 0.0003886336629249243, 'num_train_epochs': 3, 'per_device_train_batch_size': 72}. Best is trial 0 with value: 2.8149886689437578.\n"
     ]
    },
    {
     "name": "stdout",
     "output_type": "stream",
     "text": [
      "{'train_runtime': 1346.6572, 'train_samples_per_second': 61.927, 'train_steps_per_second': 0.862, 'train_loss': 0.7078184182021661, 'epoch': 3.0}\n"
     ]
    },
    {
     "data": {
      "application/vnd.jupyter.widget-view+json": {
       "model_id": "",
       "version_major": 2,
       "version_minor": 0
      },
      "text/plain": [
       "VBox(children=(Label(value='0.001 MB of 0.001 MB uploaded\\r'), FloatProgress(value=1.0, max=1.0)))"
      ]
     },
     "metadata": {},
     "output_type": "display_data"
    },
    {
     "data": {
      "text/html": [
       "<style>\n",
       "    table.wandb td:nth-child(1) { padding: 0 10px; text-align: left ; width: auto;} td:nth-child(2) {text-align: left ; width: 100%}\n",
       "    .wandb-row { display: flex; flex-direction: row; flex-wrap: wrap; justify-content: flex-start; width: 100% }\n",
       "    .wandb-col { display: flex; flex-direction: column; flex-basis: 100%; flex: 1; padding: 10px; }\n",
       "    </style>\n",
       "<div class=\"wandb-row\"><div class=\"wandb-col\"><h3>Run history:</h3><br/><table class=\"wandb\"><tr><td>eval/accuracy</td><td>▁█</td></tr><tr><td>eval/f1</td><td>▁█</td></tr><tr><td>eval/loss</td><td>▁█</td></tr><tr><td>eval/precision</td><td>▁█</td></tr><tr><td>eval/recall</td><td>▁█</td></tr><tr><td>eval/runtime</td><td>█▁</td></tr><tr><td>eval/samples_per_second</td><td>▁█</td></tr><tr><td>eval/steps_per_second</td><td>▁█</td></tr><tr><td>train/epoch</td><td>▁▁▆▆█</td></tr><tr><td>train/global_step</td><td>▁▁▆▆█</td></tr><tr><td>train/learning_rate</td><td>█▁</td></tr><tr><td>train/loss</td><td>█▁</td></tr><tr><td>train/total_flos</td><td>▁</td></tr><tr><td>train/train_loss</td><td>▁</td></tr><tr><td>train/train_runtime</td><td>▁</td></tr><tr><td>train/train_samples_per_second</td><td>▁</td></tr><tr><td>train/train_steps_per_second</td><td>▁</td></tr></table><br/></div><div class=\"wandb-col\"><h3>Run summary:</h3><br/><table class=\"wandb\"><tr><td>eval/accuracy</td><td>0.70144</td></tr><tr><td>eval/f1</td><td>0.70423</td></tr><tr><td>eval/loss</td><td>0.75426</td></tr><tr><td>eval/precision</td><td>0.70348</td></tr><tr><td>eval/recall</td><td>0.70506</td></tr><tr><td>eval/runtime</td><td>21.4995</td></tr><tr><td>eval/samples_per_second</td><td>323.263</td></tr><tr><td>eval/steps_per_second</td><td>40.42</td></tr><tr><td>train/epoch</td><td>3.0</td></tr><tr><td>train/global_step</td><td>1161</td></tr><tr><td>train/learning_rate</td><td>5e-05</td></tr><tr><td>train/loss</td><td>0.6338</td></tr><tr><td>train/total_flos</td><td>5523591625417728.0</td></tr><tr><td>train/train_loss</td><td>0.70782</td></tr><tr><td>train/train_runtime</td><td>1346.6572</td></tr><tr><td>train/train_samples_per_second</td><td>61.927</td></tr><tr><td>train/train_steps_per_second</td><td>0.862</td></tr></table><br/></div></div>"
      ],
      "text/plain": [
       "<IPython.core.display.HTML object>"
      ]
     },
     "metadata": {},
     "output_type": "display_data"
    },
    {
     "data": {
      "text/html": [
       " View run <strong style=\"color:#cdcd00\">volcanic-monkey-478</strong> at: <a href='https://wandb.ai/ericat/huggingface/runs/sem2r2uf' target=\"_blank\">https://wandb.ai/ericat/huggingface/runs/sem2r2uf</a><br/>Synced 5 W&B file(s), 0 media file(s), 0 artifact file(s) and 0 other file(s)"
      ],
      "text/plain": [
       "<IPython.core.display.HTML object>"
      ]
     },
     "metadata": {},
     "output_type": "display_data"
    },
    {
     "data": {
      "text/html": [
       "Find logs at: <code>.\\wandb\\run-20231206_122828-sem2r2uf\\logs</code>"
      ],
      "text/plain": [
       "<IPython.core.display.HTML object>"
      ]
     },
     "metadata": {},
     "output_type": "display_data"
    },
    {
     "data": {
      "application/vnd.jupyter.widget-view+json": {
       "model_id": "7e194e7ae2ad4b2babcc165cbb5b827e",
       "version_major": 2,
       "version_minor": 0
      },
      "text/plain": [
       "VBox(children=(Label(value='Waiting for wandb.init()...\\r'), FloatProgress(value=0.011288888888889738, max=1.0…"
      ]
     },
     "metadata": {},
     "output_type": "display_data"
    },
    {
     "data": {
      "text/html": [
       "wandb version 0.16.1 is available!  To upgrade, please run:\n",
       " $ pip install wandb --upgrade"
      ],
      "text/plain": [
       "<IPython.core.display.HTML object>"
      ]
     },
     "metadata": {},
     "output_type": "display_data"
    },
    {
     "data": {
      "text/html": [
       "Tracking run with wandb version 0.16.0"
      ],
      "text/plain": [
       "<IPython.core.display.HTML object>"
      ]
     },
     "metadata": {},
     "output_type": "display_data"
    },
    {
     "data": {
      "text/html": [
       "Run data is saved locally in <code>D:\\Projects\\Jupyter\\Sentiment analysis\\04DEC\\wandb\\run-20231206_125055-a4bpaafu</code>"
      ],
      "text/plain": [
       "<IPython.core.display.HTML object>"
      ]
     },
     "metadata": {},
     "output_type": "display_data"
    },
    {
     "data": {
      "text/html": [
       "Syncing run <strong><a href='https://wandb.ai/ericat/huggingface/runs/a4bpaafu' target=\"_blank\">earnest-surf-479</a></strong> to <a href='https://wandb.ai/ericat/huggingface' target=\"_blank\">Weights & Biases</a> (<a href='https://wandb.me/run' target=\"_blank\">docs</a>)<br/>"
      ],
      "text/plain": [
       "<IPython.core.display.HTML object>"
      ]
     },
     "metadata": {},
     "output_type": "display_data"
    },
    {
     "data": {
      "text/html": [
       " View project at <a href='https://wandb.ai/ericat/huggingface' target=\"_blank\">https://wandb.ai/ericat/huggingface</a>"
      ],
      "text/plain": [
       "<IPython.core.display.HTML object>"
      ]
     },
     "metadata": {},
     "output_type": "display_data"
    },
    {
     "data": {
      "text/html": [
       " View run at <a href='https://wandb.ai/ericat/huggingface/runs/a4bpaafu' target=\"_blank\">https://wandb.ai/ericat/huggingface/runs/a4bpaafu</a>"
      ],
      "text/plain": [
       "<IPython.core.display.HTML object>"
      ]
     },
     "metadata": {},
     "output_type": "display_data"
    },
    {
     "name": "stdout",
     "output_type": "stream",
     "text": [
      "{'loss': 1.1021, 'learning_rate': 0.00048295809791992756, 'epoch': 1.15}\n"
     ]
    },
    {
     "name": "stderr",
     "output_type": "stream",
     "text": [
      "D:\\Software\\Anaconda3\\envs\\validation\\Lib\\site-packages\\sklearn\\metrics\\_classification.py:1469: UndefinedMetricWarning: Precision and F-score are ill-defined and being set to 0.0 in labels with no predicted samples. Use `zero_division` parameter to control this behavior.\n",
      "  _warn_prf(average, modifier, msg_start, len(result))\n"
     ]
    },
    {
     "name": "stdout",
     "output_type": "stream",
     "text": [
      "{'eval_loss': 1.0896153450012207, 'eval_accuracy': 0.3955395683453237, 'eval_f1': 0.18895418771694675, 'eval_precision': 0.13184652278177458, 'eval_recall': 0.3333333333333333, 'eval_runtime': 21.6372, 'eval_samples_per_second': 321.207, 'eval_steps_per_second': 40.162, 'epoch': 1.15}\n",
      "{'loss': 1.0911, 'learning_rate': 0.0003387915015259194, 'epoch': 2.3}\n"
     ]
    },
    {
     "name": "stderr",
     "output_type": "stream",
     "text": [
      "D:\\Software\\Anaconda3\\envs\\validation\\Lib\\site-packages\\sklearn\\metrics\\_classification.py:1469: UndefinedMetricWarning: Precision and F-score are ill-defined and being set to 0.0 in labels with no predicted samples. Use `zero_division` parameter to control this behavior.\n",
      "  _warn_prf(average, modifier, msg_start, len(result))\n"
     ]
    },
    {
     "name": "stdout",
     "output_type": "stream",
     "text": [
      "{'eval_loss': 1.0897563695907593, 'eval_accuracy': 0.3955395683453237, 'eval_f1': 0.18895418771694675, 'eval_precision': 0.13184652278177458, 'eval_recall': 0.3333333333333333, 'eval_runtime': 21.5453, 'eval_samples_per_second': 322.575, 'eval_steps_per_second': 40.334, 'epoch': 2.3}\n",
      "{'loss': 1.0899, 'learning_rate': 0.00019462490513191114, 'epoch': 3.45}\n"
     ]
    },
    {
     "name": "stderr",
     "output_type": "stream",
     "text": [
      "D:\\Software\\Anaconda3\\envs\\validation\\Lib\\site-packages\\sklearn\\metrics\\_classification.py:1469: UndefinedMetricWarning: Precision and F-score are ill-defined and being set to 0.0 in labels with no predicted samples. Use `zero_division` parameter to control this behavior.\n",
      "  _warn_prf(average, modifier, msg_start, len(result))\n"
     ]
    },
    {
     "name": "stdout",
     "output_type": "stream",
     "text": [
      "{'eval_loss': 1.0897728204727173, 'eval_accuracy': 0.3955395683453237, 'eval_f1': 0.18895418771694675, 'eval_precision': 0.13184652278177458, 'eval_recall': 0.3333333333333333, 'eval_runtime': 22.1615, 'eval_samples_per_second': 313.607, 'eval_steps_per_second': 39.212, 'epoch': 3.45}\n",
      "{'loss': 1.0894, 'learning_rate': 5.045830873790288e-05, 'epoch': 4.6}\n"
     ]
    },
    {
     "name": "stderr",
     "output_type": "stream",
     "text": [
      "D:\\Software\\Anaconda3\\envs\\validation\\Lib\\site-packages\\sklearn\\metrics\\_classification.py:1469: UndefinedMetricWarning: Precision and F-score are ill-defined and being set to 0.0 in labels with no predicted samples. Use `zero_division` parameter to control this behavior.\n",
      "  _warn_prf(average, modifier, msg_start, len(result))\n"
     ]
    },
    {
     "name": "stdout",
     "output_type": "stream",
     "text": [
      "{'eval_loss': 1.0898739099502563, 'eval_accuracy': 0.3955395683453237, 'eval_f1': 0.18895418771694675, 'eval_precision': 0.13184652278177458, 'eval_recall': 0.3333333333333333, 'eval_runtime': 22.2884, 'eval_samples_per_second': 311.822, 'eval_steps_per_second': 38.989, 'epoch': 4.6}\n"
     ]
    },
    {
     "name": "stderr",
     "output_type": "stream",
     "text": [
      "[I 2023-12-06 13:14:16,764] Trial 2 finished with value: 1.0496736121773784 and parameters: {'learning_rate': 0.0006271246943139358, 'num_train_epochs': 5, 'per_device_train_batch_size': 64}. Best is trial 0 with value: 2.8149886689437578.\n"
     ]
    },
    {
     "name": "stdout",
     "output_type": "stream",
     "text": [
      "{'train_runtime': 1407.5941, 'train_samples_per_second': 98.743, 'train_steps_per_second': 1.545, 'train_loss': 1.0929673047997486, 'epoch': 5.0}\n"
     ]
    },
    {
     "data": {
      "application/vnd.jupyter.widget-view+json": {
       "model_id": "",
       "version_major": 2,
       "version_minor": 0
      },
      "text/plain": [
       "VBox(children=(Label(value='0.001 MB of 0.001 MB uploaded\\r'), FloatProgress(value=1.0, max=1.0)))"
      ]
     },
     "metadata": {},
     "output_type": "display_data"
    },
    {
     "data": {
      "text/html": [
       "<style>\n",
       "    table.wandb td:nth-child(1) { padding: 0 10px; text-align: left ; width: auto;} td:nth-child(2) {text-align: left ; width: 100%}\n",
       "    .wandb-row { display: flex; flex-direction: row; flex-wrap: wrap; justify-content: flex-start; width: 100% }\n",
       "    .wandb-col { display: flex; flex-direction: column; flex-basis: 100%; flex: 1; padding: 10px; }\n",
       "    </style>\n",
       "<div class=\"wandb-row\"><div class=\"wandb-col\"><h3>Run history:</h3><br/><table class=\"wandb\"><tr><td>eval/accuracy</td><td>▁▁▁▁</td></tr><tr><td>eval/f1</td><td>▁▁▁▁</td></tr><tr><td>eval/loss</td><td>▁▅▅█</td></tr><tr><td>eval/precision</td><td>▁▁▁▁</td></tr><tr><td>eval/recall</td><td>▁▁▁▁</td></tr><tr><td>eval/runtime</td><td>▂▁▇█</td></tr><tr><td>eval/samples_per_second</td><td>▇█▂▁</td></tr><tr><td>eval/steps_per_second</td><td>▇█▂▁</td></tr><tr><td>train/epoch</td><td>▁▁▃▃▅▅▇▇█</td></tr><tr><td>train/global_step</td><td>▁▁▃▃▅▅▇▇█</td></tr><tr><td>train/learning_rate</td><td>█▆▃▁</td></tr><tr><td>train/loss</td><td>█▂▁▁</td></tr><tr><td>train/total_flos</td><td>▁</td></tr><tr><td>train/train_loss</td><td>▁</td></tr><tr><td>train/train_runtime</td><td>▁</td></tr><tr><td>train/train_samples_per_second</td><td>▁</td></tr><tr><td>train/train_steps_per_second</td><td>▁</td></tr></table><br/></div><div class=\"wandb-col\"><h3>Run summary:</h3><br/><table class=\"wandb\"><tr><td>eval/accuracy</td><td>0.39554</td></tr><tr><td>eval/f1</td><td>0.18895</td></tr><tr><td>eval/loss</td><td>1.08987</td></tr><tr><td>eval/precision</td><td>0.13185</td></tr><tr><td>eval/recall</td><td>0.33333</td></tr><tr><td>eval/runtime</td><td>22.2884</td></tr><tr><td>eval/samples_per_second</td><td>311.822</td></tr><tr><td>eval/steps_per_second</td><td>38.989</td></tr><tr><td>train/epoch</td><td>5.0</td></tr><tr><td>train/global_step</td><td>2175</td></tr><tr><td>train/learning_rate</td><td>5e-05</td></tr><tr><td>train/loss</td><td>1.0894</td></tr><tr><td>train/total_flos</td><td>9205986042362880.0</td></tr><tr><td>train/train_loss</td><td>1.09297</td></tr><tr><td>train/train_runtime</td><td>1407.5941</td></tr><tr><td>train/train_samples_per_second</td><td>98.743</td></tr><tr><td>train/train_steps_per_second</td><td>1.545</td></tr></table><br/></div></div>"
      ],
      "text/plain": [
       "<IPython.core.display.HTML object>"
      ]
     },
     "metadata": {},
     "output_type": "display_data"
    },
    {
     "data": {
      "text/html": [
       " View run <strong style=\"color:#cdcd00\">earnest-surf-479</strong> at: <a href='https://wandb.ai/ericat/huggingface/runs/a4bpaafu' target=\"_blank\">https://wandb.ai/ericat/huggingface/runs/a4bpaafu</a><br/>Synced 5 W&B file(s), 0 media file(s), 0 artifact file(s) and 0 other file(s)"
      ],
      "text/plain": [
       "<IPython.core.display.HTML object>"
      ]
     },
     "metadata": {},
     "output_type": "display_data"
    },
    {
     "data": {
      "text/html": [
       "Find logs at: <code>.\\wandb\\run-20231206_125055-a4bpaafu\\logs</code>"
      ],
      "text/plain": [
       "<IPython.core.display.HTML object>"
      ]
     },
     "metadata": {},
     "output_type": "display_data"
    },
    {
     "data": {
      "application/vnd.jupyter.widget-view+json": {
       "model_id": "963bbeb2097e4fb883a014fb61ef1964",
       "version_major": 2,
       "version_minor": 0
      },
      "text/plain": [
       "VBox(children=(Label(value='Waiting for wandb.init()...\\r'), FloatProgress(value=0.011111111111111112, max=1.0…"
      ]
     },
     "metadata": {},
     "output_type": "display_data"
    },
    {
     "data": {
      "text/html": [
       "wandb version 0.16.1 is available!  To upgrade, please run:\n",
       " $ pip install wandb --upgrade"
      ],
      "text/plain": [
       "<IPython.core.display.HTML object>"
      ]
     },
     "metadata": {},
     "output_type": "display_data"
    },
    {
     "data": {
      "text/html": [
       "Tracking run with wandb version 0.16.0"
      ],
      "text/plain": [
       "<IPython.core.display.HTML object>"
      ]
     },
     "metadata": {},
     "output_type": "display_data"
    },
    {
     "data": {
      "text/html": [
       "Run data is saved locally in <code>D:\\Projects\\Jupyter\\Sentiment analysis\\04DEC\\wandb\\run-20231206_131427-iorviafo</code>"
      ],
      "text/plain": [
       "<IPython.core.display.HTML object>"
      ]
     },
     "metadata": {},
     "output_type": "display_data"
    },
    {
     "data": {
      "text/html": [
       "Syncing run <strong><a href='https://wandb.ai/ericat/huggingface/runs/iorviafo' target=\"_blank\">misunderstood-sky-480</a></strong> to <a href='https://wandb.ai/ericat/huggingface' target=\"_blank\">Weights & Biases</a> (<a href='https://wandb.me/run' target=\"_blank\">docs</a>)<br/>"
      ],
      "text/plain": [
       "<IPython.core.display.HTML object>"
      ]
     },
     "metadata": {},
     "output_type": "display_data"
    },
    {
     "data": {
      "text/html": [
       " View project at <a href='https://wandb.ai/ericat/huggingface' target=\"_blank\">https://wandb.ai/ericat/huggingface</a>"
      ],
      "text/plain": [
       "<IPython.core.display.HTML object>"
      ]
     },
     "metadata": {},
     "output_type": "display_data"
    },
    {
     "data": {
      "text/html": [
       " View run at <a href='https://wandb.ai/ericat/huggingface/runs/iorviafo' target=\"_blank\">https://wandb.ai/ericat/huggingface/runs/iorviafo</a>"
      ],
      "text/plain": [
       "<IPython.core.display.HTML object>"
      ]
     },
     "metadata": {},
     "output_type": "display_data"
    },
    {
     "name": "stdout",
     "output_type": "stream",
     "text": [
      "{'loss': 0.7741, 'learning_rate': 0.0001202197361793932, 'epoch': 0.72}\n",
      "{'eval_loss': 0.6746583580970764, 'eval_accuracy': 0.7194244604316546, 'eval_f1': 0.7219625635070502, 'eval_precision': 0.7196220280300812, 'eval_recall': 0.7283780374329046, 'eval_runtime': 22.7678, 'eval_samples_per_second': 305.256, 'eval_steps_per_second': 38.168, 'epoch': 0.72}\n",
      "{'loss': 0.589, 'learning_rate': 8.229552918273918e-05, 'epoch': 1.44}\n",
      "{'eval_loss': 0.6409605145454407, 'eval_accuracy': 0.7420143884892086, 'eval_f1': 0.7456232149994663, 'eval_precision': 0.7482524154480555, 'eval_recall': 0.7449873500267618, 'eval_runtime': 22.6933, 'eval_samples_per_second': 306.258, 'eval_steps_per_second': 38.293, 'epoch': 1.44}\n",
      "{'loss': 0.4747, 'learning_rate': 4.4371322186085176e-05, 'epoch': 2.16}\n",
      "{'eval_loss': 0.7287597060203552, 'eval_accuracy': 0.739568345323741, 'eval_f1': 0.7422314556350483, 'eval_precision': 0.7478774699460233, 'eval_recall': 0.7384077366972548, 'eval_runtime': 22.6365, 'eval_samples_per_second': 307.026, 'eval_steps_per_second': 38.389, 'epoch': 2.16}\n",
      "{'loss': 0.3324, 'learning_rate': 6.447115189431181e-06, 'epoch': 2.88}\n",
      "{'eval_loss': 0.7138406038284302, 'eval_accuracy': 0.7458992805755396, 'eval_f1': 0.7491048170740878, 'eval_precision': 0.7515471674868205, 'eval_recall': 0.747095750386415, 'eval_runtime': 22.3217, 'eval_samples_per_second': 311.356, 'eval_steps_per_second': 38.931, 'epoch': 2.88}\n"
     ]
    },
    {
     "name": "stderr",
     "output_type": "stream",
     "text": [
      "[I 2023-12-06 13:29:49,911] Trial 3 finished with value: 2.9936470155228627 and parameters: {'learning_rate': 0.00015814394317604719, 'num_train_epochs': 3, 'per_device_train_batch_size': 40}. Best is trial 3 with value: 2.9936470155228627.\n"
     ]
    },
    {
     "name": "stdout",
     "output_type": "stream",
     "text": [
      "{'train_runtime': 931.0186, 'train_samples_per_second': 89.573, 'train_steps_per_second': 2.239, 'train_loss': 0.5337298294908994, 'epoch': 3.0}\n"
     ]
    },
    {
     "data": {
      "application/vnd.jupyter.widget-view+json": {
       "model_id": "",
       "version_major": 2,
       "version_minor": 0
      },
      "text/plain": [
       "VBox(children=(Label(value='0.001 MB of 0.001 MB uploaded\\r'), FloatProgress(value=1.0, max=1.0)))"
      ]
     },
     "metadata": {},
     "output_type": "display_data"
    },
    {
     "data": {
      "text/html": [
       "<style>\n",
       "    table.wandb td:nth-child(1) { padding: 0 10px; text-align: left ; width: auto;} td:nth-child(2) {text-align: left ; width: 100%}\n",
       "    .wandb-row { display: flex; flex-direction: row; flex-wrap: wrap; justify-content: flex-start; width: 100% }\n",
       "    .wandb-col { display: flex; flex-direction: column; flex-basis: 100%; flex: 1; padding: 10px; }\n",
       "    </style>\n",
       "<div class=\"wandb-row\"><div class=\"wandb-col\"><h3>Run history:</h3><br/><table class=\"wandb\"><tr><td>eval/accuracy</td><td>▁▇▆█</td></tr><tr><td>eval/f1</td><td>▁▇▆█</td></tr><tr><td>eval/loss</td><td>▄▁█▇</td></tr><tr><td>eval/precision</td><td>▁▇▇█</td></tr><tr><td>eval/recall</td><td>▁▇▅█</td></tr><tr><td>eval/runtime</td><td>█▇▆▁</td></tr><tr><td>eval/samples_per_second</td><td>▁▂▃█</td></tr><tr><td>eval/steps_per_second</td><td>▁▂▃█</td></tr><tr><td>train/epoch</td><td>▁▁▃▃▅▅███</td></tr><tr><td>train/global_step</td><td>▁▁▃▃▅▅███</td></tr><tr><td>train/learning_rate</td><td>█▆▃▁</td></tr><tr><td>train/loss</td><td>█▅▃▁</td></tr><tr><td>train/total_flos</td><td>▁</td></tr><tr><td>train/train_loss</td><td>▁</td></tr><tr><td>train/train_runtime</td><td>▁</td></tr><tr><td>train/train_samples_per_second</td><td>▁</td></tr><tr><td>train/train_steps_per_second</td><td>▁</td></tr></table><br/></div><div class=\"wandb-col\"><h3>Run summary:</h3><br/><table class=\"wandb\"><tr><td>eval/accuracy</td><td>0.7459</td></tr><tr><td>eval/f1</td><td>0.7491</td></tr><tr><td>eval/loss</td><td>0.71384</td></tr><tr><td>eval/precision</td><td>0.75155</td></tr><tr><td>eval/recall</td><td>0.7471</td></tr><tr><td>eval/runtime</td><td>22.3217</td></tr><tr><td>eval/samples_per_second</td><td>311.356</td></tr><tr><td>eval/steps_per_second</td><td>38.931</td></tr><tr><td>train/epoch</td><td>3.0</td></tr><tr><td>train/global_step</td><td>2085</td></tr><tr><td>train/learning_rate</td><td>1e-05</td></tr><tr><td>train/loss</td><td>0.3324</td></tr><tr><td>train/total_flos</td><td>5523591625417728.0</td></tr><tr><td>train/train_loss</td><td>0.53373</td></tr><tr><td>train/train_runtime</td><td>931.0186</td></tr><tr><td>train/train_samples_per_second</td><td>89.573</td></tr><tr><td>train/train_steps_per_second</td><td>2.239</td></tr></table><br/></div></div>"
      ],
      "text/plain": [
       "<IPython.core.display.HTML object>"
      ]
     },
     "metadata": {},
     "output_type": "display_data"
    },
    {
     "data": {
      "text/html": [
       " View run <strong style=\"color:#cdcd00\">misunderstood-sky-480</strong> at: <a href='https://wandb.ai/ericat/huggingface/runs/iorviafo' target=\"_blank\">https://wandb.ai/ericat/huggingface/runs/iorviafo</a><br/>Synced 5 W&B file(s), 0 media file(s), 0 artifact file(s) and 0 other file(s)"
      ],
      "text/plain": [
       "<IPython.core.display.HTML object>"
      ]
     },
     "metadata": {},
     "output_type": "display_data"
    },
    {
     "data": {
      "text/html": [
       "Find logs at: <code>.\\wandb\\run-20231206_131427-iorviafo\\logs</code>"
      ],
      "text/plain": [
       "<IPython.core.display.HTML object>"
      ]
     },
     "metadata": {},
     "output_type": "display_data"
    },
    {
     "data": {
      "application/vnd.jupyter.widget-view+json": {
       "model_id": "88d4b27c09e641f1a377f476fa929974",
       "version_major": 2,
       "version_minor": 0
      },
      "text/plain": [
       "VBox(children=(Label(value='Waiting for wandb.init()...\\r'), FloatProgress(value=0.011111111111111112, max=1.0…"
      ]
     },
     "metadata": {},
     "output_type": "display_data"
    },
    {
     "data": {
      "text/html": [
       "wandb version 0.16.1 is available!  To upgrade, please run:\n",
       " $ pip install wandb --upgrade"
      ],
      "text/plain": [
       "<IPython.core.display.HTML object>"
      ]
     },
     "metadata": {},
     "output_type": "display_data"
    },
    {
     "data": {
      "text/html": [
       "Tracking run with wandb version 0.16.0"
      ],
      "text/plain": [
       "<IPython.core.display.HTML object>"
      ]
     },
     "metadata": {},
     "output_type": "display_data"
    },
    {
     "data": {
      "text/html": [
       "Run data is saved locally in <code>D:\\Projects\\Jupyter\\Sentiment analysis\\04DEC\\wandb\\run-20231206_132958-su4t4s7g</code>"
      ],
      "text/plain": [
       "<IPython.core.display.HTML object>"
      ]
     },
     "metadata": {},
     "output_type": "display_data"
    },
    {
     "data": {
      "text/html": [
       "Syncing run <strong><a href='https://wandb.ai/ericat/huggingface/runs/su4t4s7g' target=\"_blank\">whole-fire-481</a></strong> to <a href='https://wandb.ai/ericat/huggingface' target=\"_blank\">Weights & Biases</a> (<a href='https://wandb.me/run' target=\"_blank\">docs</a>)<br/>"
      ],
      "text/plain": [
       "<IPython.core.display.HTML object>"
      ]
     },
     "metadata": {},
     "output_type": "display_data"
    },
    {
     "data": {
      "text/html": [
       " View project at <a href='https://wandb.ai/ericat/huggingface' target=\"_blank\">https://wandb.ai/ericat/huggingface</a>"
      ],
      "text/plain": [
       "<IPython.core.display.HTML object>"
      ]
     },
     "metadata": {},
     "output_type": "display_data"
    },
    {
     "data": {
      "text/html": [
       " View run at <a href='https://wandb.ai/ericat/huggingface/runs/su4t4s7g' target=\"_blank\">https://wandb.ai/ericat/huggingface/runs/su4t4s7g</a>"
      ],
      "text/plain": [
       "<IPython.core.display.HTML object>"
      ]
     },
     "metadata": {},
     "output_type": "display_data"
    },
    {
     "name": "stdout",
     "output_type": "stream",
     "text": [
      "{'loss': 1.1502, 'learning_rate': 6.711176521468669e-07, 'epoch': 0.86}\n",
      "{'eval_loss': 0.9758309721946716, 'eval_accuracy': 0.5646043165467626, 'eval_f1': 0.5546757330561926, 'eval_precision': 0.5903500888259771, 'eval_recall': 0.5493770772447619, 'eval_runtime': 22.2083, 'eval_samples_per_second': 312.947, 'eval_steps_per_second': 39.13, 'epoch': 0.86}\n",
      "{'loss': 0.9368, 'learning_rate': 1.6269518839924047e-07, 'epoch': 1.72}\n",
      "{'eval_loss': 0.8946164846420288, 'eval_accuracy': 0.6110791366906475, 'eval_f1': 0.6109824048442932, 'eval_precision': 0.618832813947013, 'eval_recall': 0.6067036081584359, 'eval_runtime': 21.8117, 'eval_samples_per_second': 318.637, 'eval_steps_per_second': 39.841, 'epoch': 1.72}\n"
     ]
    },
    {
     "name": "stderr",
     "output_type": "stream",
     "text": [
      "[I 2023-12-06 13:39:15,720] Trial 4 finished with value: 2.4475979636403897 and parameters: {'learning_rate': 1.1795401158944933e-06, 'num_train_epochs': 2, 'per_device_train_batch_size': 48}. Best is trial 3 with value: 2.9936470155228627.\n"
     ]
    },
    {
     "name": "stdout",
     "output_type": "stream",
     "text": [
      "{'train_runtime': 563.6302, 'train_samples_per_second': 98.639, 'train_steps_per_second': 2.058, 'train_loss': 1.0245977467504042, 'epoch': 2.0}\n"
     ]
    },
    {
     "data": {
      "application/vnd.jupyter.widget-view+json": {
       "model_id": "",
       "version_major": 2,
       "version_minor": 0
      },
      "text/plain": [
       "VBox(children=(Label(value='0.001 MB of 0.001 MB uploaded\\r'), FloatProgress(value=1.0, max=1.0)))"
      ]
     },
     "metadata": {},
     "output_type": "display_data"
    },
    {
     "data": {
      "text/html": [
       "<style>\n",
       "    table.wandb td:nth-child(1) { padding: 0 10px; text-align: left ; width: auto;} td:nth-child(2) {text-align: left ; width: 100%}\n",
       "    .wandb-row { display: flex; flex-direction: row; flex-wrap: wrap; justify-content: flex-start; width: 100% }\n",
       "    .wandb-col { display: flex; flex-direction: column; flex-basis: 100%; flex: 1; padding: 10px; }\n",
       "    </style>\n",
       "<div class=\"wandb-row\"><div class=\"wandb-col\"><h3>Run history:</h3><br/><table class=\"wandb\"><tr><td>eval/accuracy</td><td>▁█</td></tr><tr><td>eval/f1</td><td>▁█</td></tr><tr><td>eval/loss</td><td>█▁</td></tr><tr><td>eval/precision</td><td>▁█</td></tr><tr><td>eval/recall</td><td>▁█</td></tr><tr><td>eval/runtime</td><td>█▁</td></tr><tr><td>eval/samples_per_second</td><td>▁█</td></tr><tr><td>eval/steps_per_second</td><td>▁█</td></tr><tr><td>train/epoch</td><td>▁▁▆▆█</td></tr><tr><td>train/global_step</td><td>▁▁▆▆█</td></tr><tr><td>train/learning_rate</td><td>█▁</td></tr><tr><td>train/loss</td><td>█▁</td></tr><tr><td>train/total_flos</td><td>▁</td></tr><tr><td>train/train_loss</td><td>▁</td></tr><tr><td>train/train_runtime</td><td>▁</td></tr><tr><td>train/train_samples_per_second</td><td>▁</td></tr><tr><td>train/train_steps_per_second</td><td>▁</td></tr></table><br/></div><div class=\"wandb-col\"><h3>Run summary:</h3><br/><table class=\"wandb\"><tr><td>eval/accuracy</td><td>0.61108</td></tr><tr><td>eval/f1</td><td>0.61098</td></tr><tr><td>eval/loss</td><td>0.89462</td></tr><tr><td>eval/precision</td><td>0.61883</td></tr><tr><td>eval/recall</td><td>0.6067</td></tr><tr><td>eval/runtime</td><td>21.8117</td></tr><tr><td>eval/samples_per_second</td><td>318.637</td></tr><tr><td>eval/steps_per_second</td><td>39.841</td></tr><tr><td>train/epoch</td><td>2.0</td></tr><tr><td>train/global_step</td><td>1160</td></tr><tr><td>train/learning_rate</td><td>0.0</td></tr><tr><td>train/loss</td><td>0.9368</td></tr><tr><td>train/total_flos</td><td>3682394416945152.0</td></tr><tr><td>train/train_loss</td><td>1.0246</td></tr><tr><td>train/train_runtime</td><td>563.6302</td></tr><tr><td>train/train_samples_per_second</td><td>98.639</td></tr><tr><td>train/train_steps_per_second</td><td>2.058</td></tr></table><br/></div></div>"
      ],
      "text/plain": [
       "<IPython.core.display.HTML object>"
      ]
     },
     "metadata": {},
     "output_type": "display_data"
    },
    {
     "data": {
      "text/html": [
       " View run <strong style=\"color:#cdcd00\">whole-fire-481</strong> at: <a href='https://wandb.ai/ericat/huggingface/runs/su4t4s7g' target=\"_blank\">https://wandb.ai/ericat/huggingface/runs/su4t4s7g</a><br/>Synced 5 W&B file(s), 0 media file(s), 0 artifact file(s) and 0 other file(s)"
      ],
      "text/plain": [
       "<IPython.core.display.HTML object>"
      ]
     },
     "metadata": {},
     "output_type": "display_data"
    },
    {
     "data": {
      "text/html": [
       "Find logs at: <code>.\\wandb\\run-20231206_132958-su4t4s7g\\logs</code>"
      ],
      "text/plain": [
       "<IPython.core.display.HTML object>"
      ]
     },
     "metadata": {},
     "output_type": "display_data"
    },
    {
     "data": {
      "application/vnd.jupyter.widget-view+json": {
       "model_id": "cae89dfcb39f438aaaa3eec83069d807",
       "version_major": 2,
       "version_minor": 0
      },
      "text/plain": [
       "VBox(children=(Label(value='Waiting for wandb.init()...\\r'), FloatProgress(value=0.011288888888884685, max=1.0…"
      ]
     },
     "metadata": {},
     "output_type": "display_data"
    },
    {
     "data": {
      "text/html": [
       "wandb version 0.16.1 is available!  To upgrade, please run:\n",
       " $ pip install wandb --upgrade"
      ],
      "text/plain": [
       "<IPython.core.display.HTML object>"
      ]
     },
     "metadata": {},
     "output_type": "display_data"
    },
    {
     "data": {
      "text/html": [
       "Tracking run with wandb version 0.16.0"
      ],
      "text/plain": [
       "<IPython.core.display.HTML object>"
      ]
     },
     "metadata": {},
     "output_type": "display_data"
    },
    {
     "data": {
      "text/html": [
       "Run data is saved locally in <code>D:\\Projects\\Jupyter\\Sentiment analysis\\04DEC\\wandb\\run-20231206_133926-3ix9nvm9</code>"
      ],
      "text/plain": [
       "<IPython.core.display.HTML object>"
      ]
     },
     "metadata": {},
     "output_type": "display_data"
    },
    {
     "data": {
      "text/html": [
       "Syncing run <strong><a href='https://wandb.ai/ericat/huggingface/runs/3ix9nvm9' target=\"_blank\">vivid-wildflower-482</a></strong> to <a href='https://wandb.ai/ericat/huggingface' target=\"_blank\">Weights & Biases</a> (<a href='https://wandb.me/run' target=\"_blank\">docs</a>)<br/>"
      ],
      "text/plain": [
       "<IPython.core.display.HTML object>"
      ]
     },
     "metadata": {},
     "output_type": "display_data"
    },
    {
     "data": {
      "text/html": [
       " View project at <a href='https://wandb.ai/ericat/huggingface' target=\"_blank\">https://wandb.ai/ericat/huggingface</a>"
      ],
      "text/plain": [
       "<IPython.core.display.HTML object>"
      ]
     },
     "metadata": {},
     "output_type": "display_data"
    },
    {
     "data": {
      "text/html": [
       " View run at <a href='https://wandb.ai/ericat/huggingface/runs/3ix9nvm9' target=\"_blank\">https://wandb.ai/ericat/huggingface/runs/3ix9nvm9</a>"
      ],
      "text/plain": [
       "<IPython.core.display.HTML object>"
      ]
     },
     "metadata": {},
     "output_type": "display_data"
    },
    {
     "name": "stdout",
     "output_type": "stream",
     "text": [
      "{'loss': 0.8027, 'learning_rate': 2.4459760468840254e-05, 'epoch': 0.29}\n",
      "{'eval_loss': 0.6635556817054749, 'eval_accuracy': 0.7070503597122302, 'eval_f1': 0.7102087412010064, 'eval_precision': 0.709478858764804, 'eval_recall': 0.7179499624338227, 'eval_runtime': 21.7029, 'eval_samples_per_second': 320.233, 'eval_steps_per_second': 40.041, 'epoch': 0.29}\n",
      "{'loss': 0.6677, 'learning_rate': 2.0350257701898005e-05, 'epoch': 0.58}\n",
      "{'eval_loss': 0.622546374797821, 'eval_accuracy': 0.7358273381294964, 'eval_f1': 0.7378863553204487, 'eval_precision': 0.7471672121058205, 'eval_recall': 0.7332424998646875, 'eval_runtime': 21.6511, 'eval_samples_per_second': 321.0, 'eval_steps_per_second': 40.137, 'epoch': 0.58}\n",
      "{'loss': 0.6333, 'learning_rate': 1.624075493495576e-05, 'epoch': 0.86}\n",
      "{'eval_loss': 0.6305841207504272, 'eval_accuracy': 0.7420143884892086, 'eval_f1': 0.7454855015207206, 'eval_precision': 0.7463020830474267, 'eval_recall': 0.7453625277234509, 'eval_runtime': 21.6508, 'eval_samples_per_second': 321.004, 'eval_steps_per_second': 40.137, 'epoch': 0.86}\n",
      "{'loss': 0.5686, 'learning_rate': 1.2131252168013512e-05, 'epoch': 1.15}\n",
      "{'eval_loss': 0.6371132135391235, 'eval_accuracy': 0.7430215827338129, 'eval_f1': 0.7469403555793468, 'eval_precision': 0.7479596417658486, 'eval_recall': 0.7464708634099176, 'eval_runtime': 21.6262, 'eval_samples_per_second': 321.37, 'eval_steps_per_second': 40.183, 'epoch': 1.15}\n",
      "{'loss': 0.4969, 'learning_rate': 8.021749401071265e-06, 'epoch': 1.44}\n",
      "{'eval_loss': 0.64771968126297, 'eval_accuracy': 0.7435971223021582, 'eval_f1': 0.745057369394304, 'eval_precision': 0.7597157263043478, 'eval_recall': 0.7385280479721154, 'eval_runtime': 21.6052, 'eval_samples_per_second': 321.681, 'eval_steps_per_second': 40.222, 'epoch': 1.44}\n",
      "{'loss': 0.491, 'learning_rate': 3.912246634129018e-06, 'epoch': 1.73}\n",
      "{'eval_loss': 0.6234467625617981, 'eval_accuracy': 0.7480575539568345, 'eval_f1': 0.7516863941415944, 'eval_precision': 0.7553248077093437, 'eval_recall': 0.7492944403437098, 'eval_runtime': 21.6471, 'eval_samples_per_second': 321.059, 'eval_steps_per_second': 40.144, 'epoch': 1.73}\n"
     ]
    },
    {
     "name": "stderr",
     "output_type": "stream",
     "text": [
      "[I 2023-12-06 13:53:16,690] Trial 5 finished with value: 3.0043631961514823 and parameters: {'learning_rate': 2.85692632357825e-05, 'num_train_epochs': 2, 'per_device_train_batch_size': 16}. Best is trial 5 with value: 3.0043631961514823.\n"
     ]
    },
    {
     "name": "stdout",
     "output_type": "stream",
     "text": [
      "{'train_runtime': 838.7809, 'train_samples_per_second': 66.282, 'train_steps_per_second': 4.144, 'train_loss': 0.5926444621025762, 'epoch': 2.0}\n"
     ]
    },
    {
     "data": {
      "application/vnd.jupyter.widget-view+json": {
       "model_id": "",
       "version_major": 2,
       "version_minor": 0
      },
      "text/plain": [
       "VBox(children=(Label(value='0.001 MB of 0.001 MB uploaded\\r'), FloatProgress(value=1.0, max=1.0)))"
      ]
     },
     "metadata": {},
     "output_type": "display_data"
    },
    {
     "data": {
      "text/html": [
       "<style>\n",
       "    table.wandb td:nth-child(1) { padding: 0 10px; text-align: left ; width: auto;} td:nth-child(2) {text-align: left ; width: 100%}\n",
       "    .wandb-row { display: flex; flex-direction: row; flex-wrap: wrap; justify-content: flex-start; width: 100% }\n",
       "    .wandb-col { display: flex; flex-direction: column; flex-basis: 100%; flex: 1; padding: 10px; }\n",
       "    </style>\n",
       "<div class=\"wandb-row\"><div class=\"wandb-col\"><h3>Run history:</h3><br/><table class=\"wandb\"><tr><td>eval/accuracy</td><td>▁▆▇▇▇█</td></tr><tr><td>eval/f1</td><td>▁▆▇▇▇█</td></tr><tr><td>eval/loss</td><td>█▁▂▃▅▁</td></tr><tr><td>eval/precision</td><td>▁▆▆▆█▇</td></tr><tr><td>eval/recall</td><td>▁▄▇▇▆█</td></tr><tr><td>eval/runtime</td><td>█▄▄▃▁▄</td></tr><tr><td>eval/samples_per_second</td><td>▁▅▅▆█▅</td></tr><tr><td>eval/steps_per_second</td><td>▁▅▅▆█▅</td></tr><tr><td>train/epoch</td><td>▁▁▂▂▃▃▅▅▆▆▇▇█</td></tr><tr><td>train/global_step</td><td>▁▁▂▂▃▃▅▅▆▆▇▇█</td></tr><tr><td>train/learning_rate</td><td>█▇▅▄▂▁</td></tr><tr><td>train/loss</td><td>█▅▄▃▁▁</td></tr><tr><td>train/total_flos</td><td>▁</td></tr><tr><td>train/train_loss</td><td>▁</td></tr><tr><td>train/train_runtime</td><td>▁</td></tr><tr><td>train/train_samples_per_second</td><td>▁</td></tr><tr><td>train/train_steps_per_second</td><td>▁</td></tr></table><br/></div><div class=\"wandb-col\"><h3>Run summary:</h3><br/><table class=\"wandb\"><tr><td>eval/accuracy</td><td>0.74806</td></tr><tr><td>eval/f1</td><td>0.75169</td></tr><tr><td>eval/loss</td><td>0.62345</td></tr><tr><td>eval/precision</td><td>0.75532</td></tr><tr><td>eval/recall</td><td>0.74929</td></tr><tr><td>eval/runtime</td><td>21.6471</td></tr><tr><td>eval/samples_per_second</td><td>321.059</td></tr><tr><td>eval/steps_per_second</td><td>40.144</td></tr><tr><td>train/epoch</td><td>2.0</td></tr><tr><td>train/global_step</td><td>3476</td></tr><tr><td>train/learning_rate</td><td>0.0</td></tr><tr><td>train/loss</td><td>0.491</td></tr><tr><td>train/total_flos</td><td>3682394416945152.0</td></tr><tr><td>train/train_loss</td><td>0.59264</td></tr><tr><td>train/train_runtime</td><td>838.7809</td></tr><tr><td>train/train_samples_per_second</td><td>66.282</td></tr><tr><td>train/train_steps_per_second</td><td>4.144</td></tr></table><br/></div></div>"
      ],
      "text/plain": [
       "<IPython.core.display.HTML object>"
      ]
     },
     "metadata": {},
     "output_type": "display_data"
    },
    {
     "data": {
      "text/html": [
       " View run <strong style=\"color:#cdcd00\">vivid-wildflower-482</strong> at: <a href='https://wandb.ai/ericat/huggingface/runs/3ix9nvm9' target=\"_blank\">https://wandb.ai/ericat/huggingface/runs/3ix9nvm9</a><br/>Synced 5 W&B file(s), 0 media file(s), 0 artifact file(s) and 0 other file(s)"
      ],
      "text/plain": [
       "<IPython.core.display.HTML object>"
      ]
     },
     "metadata": {},
     "output_type": "display_data"
    },
    {
     "data": {
      "text/html": [
       "Find logs at: <code>.\\wandb\\run-20231206_133926-3ix9nvm9\\logs</code>"
      ],
      "text/plain": [
       "<IPython.core.display.HTML object>"
      ]
     },
     "metadata": {},
     "output_type": "display_data"
    },
    {
     "data": {
      "application/vnd.jupyter.widget-view+json": {
       "model_id": "215d10fe6a694cdeb73d88ded7d4c6c6",
       "version_major": 2,
       "version_minor": 0
      },
      "text/plain": [
       "VBox(children=(Label(value='Waiting for wandb.init()...\\r'), FloatProgress(value=0.011277777777781415, max=1.0…"
      ]
     },
     "metadata": {},
     "output_type": "display_data"
    },
    {
     "data": {
      "text/html": [
       "wandb version 0.16.1 is available!  To upgrade, please run:\n",
       " $ pip install wandb --upgrade"
      ],
      "text/plain": [
       "<IPython.core.display.HTML object>"
      ]
     },
     "metadata": {},
     "output_type": "display_data"
    },
    {
     "data": {
      "text/html": [
       "Tracking run with wandb version 0.16.0"
      ],
      "text/plain": [
       "<IPython.core.display.HTML object>"
      ]
     },
     "metadata": {},
     "output_type": "display_data"
    },
    {
     "data": {
      "text/html": [
       "Run data is saved locally in <code>D:\\Projects\\Jupyter\\Sentiment analysis\\04DEC\\wandb\\run-20231206_135327-wbwbl80d</code>"
      ],
      "text/plain": [
       "<IPython.core.display.HTML object>"
      ]
     },
     "metadata": {},
     "output_type": "display_data"
    },
    {
     "data": {
      "text/html": [
       "Syncing run <strong><a href='https://wandb.ai/ericat/huggingface/runs/wbwbl80d' target=\"_blank\">different-waterfall-483</a></strong> to <a href='https://wandb.ai/ericat/huggingface' target=\"_blank\">Weights & Biases</a> (<a href='https://wandb.me/run' target=\"_blank\">docs</a>)<br/>"
      ],
      "text/plain": [
       "<IPython.core.display.HTML object>"
      ]
     },
     "metadata": {},
     "output_type": "display_data"
    },
    {
     "data": {
      "text/html": [
       " View project at <a href='https://wandb.ai/ericat/huggingface' target=\"_blank\">https://wandb.ai/ericat/huggingface</a>"
      ],
      "text/plain": [
       "<IPython.core.display.HTML object>"
      ]
     },
     "metadata": {},
     "output_type": "display_data"
    },
    {
     "data": {
      "text/html": [
       " View run at <a href='https://wandb.ai/ericat/huggingface/runs/wbwbl80d' target=\"_blank\">https://wandb.ai/ericat/huggingface/runs/wbwbl80d</a>"
      ],
      "text/plain": [
       "<IPython.core.display.HTML object>"
      ]
     },
     "metadata": {},
     "output_type": "display_data"
    },
    {
     "name": "stdout",
     "output_type": "stream",
     "text": [
      "{'loss': 1.0862, 'learning_rate': 0.0001778119363923757, 'epoch': 0.58}\n"
     ]
    },
    {
     "name": "stderr",
     "output_type": "stream",
     "text": [
      "D:\\Software\\Anaconda3\\envs\\validation\\Lib\\site-packages\\sklearn\\metrics\\_classification.py:1469: UndefinedMetricWarning: Precision and F-score are ill-defined and being set to 0.0 in labels with no predicted samples. Use `zero_division` parameter to control this behavior.\n",
      "  _warn_prf(average, modifier, msg_start, len(result))\n",
      "[I 2023-12-06 13:56:06,996] Trial 6 pruned. \n"
     ]
    },
    {
     "name": "stdout",
     "output_type": "stream",
     "text": [
      "{'eval_loss': 1.080824851989746, 'eval_accuracy': 0.3955395683453237, 'eval_f1': 0.18895418771694675, 'eval_precision': 0.13184652278177458, 'eval_recall': 0.3333333333333333, 'eval_runtime': 21.6932, 'eval_samples_per_second': 320.376, 'eval_steps_per_second': 40.059, 'epoch': 0.58}\n"
     ]
    },
    {
     "data": {
      "application/vnd.jupyter.widget-view+json": {
       "model_id": "",
       "version_major": 2,
       "version_minor": 0
      },
      "text/plain": [
       "VBox(children=(Label(value='0.001 MB of 0.001 MB uploaded\\r'), FloatProgress(value=1.0, max=1.0)))"
      ]
     },
     "metadata": {},
     "output_type": "display_data"
    },
    {
     "data": {
      "text/html": [
       "<style>\n",
       "    table.wandb td:nth-child(1) { padding: 0 10px; text-align: left ; width: auto;} td:nth-child(2) {text-align: left ; width: 100%}\n",
       "    .wandb-row { display: flex; flex-direction: row; flex-wrap: wrap; justify-content: flex-start; width: 100% }\n",
       "    .wandb-col { display: flex; flex-direction: column; flex-basis: 100%; flex: 1; padding: 10px; }\n",
       "    </style>\n",
       "<div class=\"wandb-row\"><div class=\"wandb-col\"><h3>Run history:</h3><br/><table class=\"wandb\"><tr><td>eval/accuracy</td><td>▁</td></tr><tr><td>eval/f1</td><td>▁</td></tr><tr><td>eval/loss</td><td>▁</td></tr><tr><td>eval/precision</td><td>▁</td></tr><tr><td>eval/recall</td><td>▁</td></tr><tr><td>eval/runtime</td><td>▁</td></tr><tr><td>eval/samples_per_second</td><td>▁</td></tr><tr><td>eval/steps_per_second</td><td>▁</td></tr><tr><td>train/epoch</td><td>▁▁</td></tr><tr><td>train/global_step</td><td>▁▁</td></tr><tr><td>train/learning_rate</td><td>▁</td></tr><tr><td>train/loss</td><td>▁</td></tr></table><br/></div><div class=\"wandb-col\"><h3>Run summary:</h3><br/><table class=\"wandb\"><tr><td>eval/accuracy</td><td>0.39554</td></tr><tr><td>eval/f1</td><td>0.18895</td></tr><tr><td>eval/loss</td><td>1.08082</td></tr><tr><td>eval/precision</td><td>0.13185</td></tr><tr><td>eval/recall</td><td>0.33333</td></tr><tr><td>eval/runtime</td><td>21.6932</td></tr><tr><td>eval/samples_per_second</td><td>320.376</td></tr><tr><td>eval/steps_per_second</td><td>40.059</td></tr><tr><td>train/epoch</td><td>0.58</td></tr><tr><td>train/global_step</td><td>500</td></tr><tr><td>train/learning_rate</td><td>0.00018</td></tr><tr><td>train/loss</td><td>1.0862</td></tr></table><br/></div></div>"
      ],
      "text/plain": [
       "<IPython.core.display.HTML object>"
      ]
     },
     "metadata": {},
     "output_type": "display_data"
    },
    {
     "data": {
      "text/html": [
       " View run <strong style=\"color:#cdcd00\">different-waterfall-483</strong> at: <a href='https://wandb.ai/ericat/huggingface/runs/wbwbl80d' target=\"_blank\">https://wandb.ai/ericat/huggingface/runs/wbwbl80d</a><br/>Synced 5 W&B file(s), 0 media file(s), 0 artifact file(s) and 0 other file(s)"
      ],
      "text/plain": [
       "<IPython.core.display.HTML object>"
      ]
     },
     "metadata": {},
     "output_type": "display_data"
    },
    {
     "data": {
      "text/html": [
       "Find logs at: <code>.\\wandb\\run-20231206_135327-wbwbl80d\\logs</code>"
      ],
      "text/plain": [
       "<IPython.core.display.HTML object>"
      ]
     },
     "metadata": {},
     "output_type": "display_data"
    },
    {
     "data": {
      "application/vnd.jupyter.widget-view+json": {
       "model_id": "8c628c931fdf4494a381ebf1b4d2cfe6",
       "version_major": 2,
       "version_minor": 0
      },
      "text/plain": [
       "VBox(children=(Label(value='Waiting for wandb.init()...\\r'), FloatProgress(value=0.011277777777781415, max=1.0…"
      ]
     },
     "metadata": {},
     "output_type": "display_data"
    },
    {
     "data": {
      "text/html": [
       "wandb version 0.16.1 is available!  To upgrade, please run:\n",
       " $ pip install wandb --upgrade"
      ],
      "text/plain": [
       "<IPython.core.display.HTML object>"
      ]
     },
     "metadata": {},
     "output_type": "display_data"
    },
    {
     "data": {
      "text/html": [
       "Tracking run with wandb version 0.16.0"
      ],
      "text/plain": [
       "<IPython.core.display.HTML object>"
      ]
     },
     "metadata": {},
     "output_type": "display_data"
    },
    {
     "data": {
      "text/html": [
       "Run data is saved locally in <code>D:\\Projects\\Jupyter\\Sentiment analysis\\04DEC\\wandb\\run-20231206_135614-bth43oyq</code>"
      ],
      "text/plain": [
       "<IPython.core.display.HTML object>"
      ]
     },
     "metadata": {},
     "output_type": "display_data"
    },
    {
     "data": {
      "text/html": [
       "Syncing run <strong><a href='https://wandb.ai/ericat/huggingface/runs/bth43oyq' target=\"_blank\">rich-silence-484</a></strong> to <a href='https://wandb.ai/ericat/huggingface' target=\"_blank\">Weights & Biases</a> (<a href='https://wandb.me/run' target=\"_blank\">docs</a>)<br/>"
      ],
      "text/plain": [
       "<IPython.core.display.HTML object>"
      ]
     },
     "metadata": {},
     "output_type": "display_data"
    },
    {
     "data": {
      "text/html": [
       " View project at <a href='https://wandb.ai/ericat/huggingface' target=\"_blank\">https://wandb.ai/ericat/huggingface</a>"
      ],
      "text/plain": [
       "<IPython.core.display.HTML object>"
      ]
     },
     "metadata": {},
     "output_type": "display_data"
    },
    {
     "data": {
      "text/html": [
       " View run at <a href='https://wandb.ai/ericat/huggingface/runs/bth43oyq' target=\"_blank\">https://wandb.ai/ericat/huggingface/runs/bth43oyq</a>"
      ],
      "text/plain": [
       "<IPython.core.display.HTML object>"
      ]
     },
     "metadata": {},
     "output_type": "display_data"
    },
    {
     "name": "stdout",
     "output_type": "stream",
     "text": [
      "{'loss': 1.0048, 'learning_rate': 0.00018690378163909474, 'epoch': 1.01}\n"
     ]
    },
    {
     "name": "stderr",
     "output_type": "stream",
     "text": [
      "D:\\Software\\Anaconda3\\envs\\validation\\Lib\\site-packages\\sklearn\\metrics\\_classification.py:1469: UndefinedMetricWarning: Precision and F-score are ill-defined and being set to 0.0 in labels with no predicted samples. Use `zero_division` parameter to control this behavior.\n",
      "  _warn_prf(average, modifier, msg_start, len(result))\n",
      "[I 2023-12-06 14:00:31,615] Trial 7 pruned. \n"
     ]
    },
    {
     "name": "stdout",
     "output_type": "stream",
     "text": [
      "{'eval_loss': 0.9599189162254333, 'eval_accuracy': 0.5267625899280576, 'eval_f1': 0.41058236323580505, 'eval_precision': 0.42932364002573803, 'eval_recall': 0.4768927879522831, 'eval_runtime': 22.7292, 'eval_samples_per_second': 305.773, 'eval_steps_per_second': 38.233, 'epoch': 1.01}\n"
     ]
    },
    {
     "data": {
      "application/vnd.jupyter.widget-view+json": {
       "model_id": "",
       "version_major": 2,
       "version_minor": 0
      },
      "text/plain": [
       "VBox(children=(Label(value='0.001 MB of 0.001 MB uploaded\\r'), FloatProgress(value=1.0, max=1.0)))"
      ]
     },
     "metadata": {},
     "output_type": "display_data"
    },
    {
     "data": {
      "text/html": [
       "<style>\n",
       "    table.wandb td:nth-child(1) { padding: 0 10px; text-align: left ; width: auto;} td:nth-child(2) {text-align: left ; width: 100%}\n",
       "    .wandb-row { display: flex; flex-direction: row; flex-wrap: wrap; justify-content: flex-start; width: 100% }\n",
       "    .wandb-col { display: flex; flex-direction: column; flex-basis: 100%; flex: 1; padding: 10px; }\n",
       "    </style>\n",
       "<div class=\"wandb-row\"><div class=\"wandb-col\"><h3>Run history:</h3><br/><table class=\"wandb\"><tr><td>eval/accuracy</td><td>▁</td></tr><tr><td>eval/f1</td><td>▁</td></tr><tr><td>eval/loss</td><td>▁</td></tr><tr><td>eval/precision</td><td>▁</td></tr><tr><td>eval/recall</td><td>▁</td></tr><tr><td>eval/runtime</td><td>▁</td></tr><tr><td>eval/samples_per_second</td><td>▁</td></tr><tr><td>eval/steps_per_second</td><td>▁</td></tr><tr><td>train/epoch</td><td>▁▁</td></tr><tr><td>train/global_step</td><td>▁▁</td></tr><tr><td>train/learning_rate</td><td>▁</td></tr><tr><td>train/loss</td><td>▁</td></tr></table><br/></div><div class=\"wandb-col\"><h3>Run summary:</h3><br/><table class=\"wandb\"><tr><td>eval/accuracy</td><td>0.52676</td></tr><tr><td>eval/f1</td><td>0.41058</td></tr><tr><td>eval/loss</td><td>0.95992</td></tr><tr><td>eval/precision</td><td>0.42932</td></tr><tr><td>eval/recall</td><td>0.47689</td></tr><tr><td>eval/runtime</td><td>22.7292</td></tr><tr><td>eval/samples_per_second</td><td>305.773</td></tr><tr><td>eval/steps_per_second</td><td>38.233</td></tr><tr><td>train/epoch</td><td>1.01</td></tr><tr><td>train/global_step</td><td>500</td></tr><tr><td>train/learning_rate</td><td>0.00019</td></tr><tr><td>train/loss</td><td>1.0048</td></tr></table><br/></div></div>"
      ],
      "text/plain": [
       "<IPython.core.display.HTML object>"
      ]
     },
     "metadata": {},
     "output_type": "display_data"
    },
    {
     "data": {
      "text/html": [
       " View run <strong style=\"color:#cdcd00\">rich-silence-484</strong> at: <a href='https://wandb.ai/ericat/huggingface/runs/bth43oyq' target=\"_blank\">https://wandb.ai/ericat/huggingface/runs/bth43oyq</a><br/>Synced 5 W&B file(s), 0 media file(s), 0 artifact file(s) and 0 other file(s)"
      ],
      "text/plain": [
       "<IPython.core.display.HTML object>"
      ]
     },
     "metadata": {},
     "output_type": "display_data"
    },
    {
     "data": {
      "text/html": [
       "Find logs at: <code>.\\wandb\\run-20231206_135614-bth43oyq\\logs</code>"
      ],
      "text/plain": [
       "<IPython.core.display.HTML object>"
      ]
     },
     "metadata": {},
     "output_type": "display_data"
    },
    {
     "data": {
      "application/vnd.jupyter.widget-view+json": {
       "model_id": "15647c19e84d4cb886ca4078f8e177fc",
       "version_major": 2,
       "version_minor": 0
      },
      "text/plain": [
       "VBox(children=(Label(value='Waiting for wandb.init()...\\r'), FloatProgress(value=0.011111111111111112, max=1.0…"
      ]
     },
     "metadata": {},
     "output_type": "display_data"
    },
    {
     "data": {
      "text/html": [
       "wandb version 0.16.1 is available!  To upgrade, please run:\n",
       " $ pip install wandb --upgrade"
      ],
      "text/plain": [
       "<IPython.core.display.HTML object>"
      ]
     },
     "metadata": {},
     "output_type": "display_data"
    },
    {
     "data": {
      "text/html": [
       "Tracking run with wandb version 0.16.0"
      ],
      "text/plain": [
       "<IPython.core.display.HTML object>"
      ]
     },
     "metadata": {},
     "output_type": "display_data"
    },
    {
     "data": {
      "text/html": [
       "Run data is saved locally in <code>D:\\Projects\\Jupyter\\Sentiment analysis\\04DEC\\wandb\\run-20231206_140039-pi22h4va</code>"
      ],
      "text/plain": [
       "<IPython.core.display.HTML object>"
      ]
     },
     "metadata": {},
     "output_type": "display_data"
    },
    {
     "data": {
      "text/html": [
       "Syncing run <strong><a href='https://wandb.ai/ericat/huggingface/runs/pi22h4va' target=\"_blank\">whole-firebrand-485</a></strong> to <a href='https://wandb.ai/ericat/huggingface' target=\"_blank\">Weights & Biases</a> (<a href='https://wandb.me/run' target=\"_blank\">docs</a>)<br/>"
      ],
      "text/plain": [
       "<IPython.core.display.HTML object>"
      ]
     },
     "metadata": {},
     "output_type": "display_data"
    },
    {
     "data": {
      "text/html": [
       " View project at <a href='https://wandb.ai/ericat/huggingface' target=\"_blank\">https://wandb.ai/ericat/huggingface</a>"
      ],
      "text/plain": [
       "<IPython.core.display.HTML object>"
      ]
     },
     "metadata": {},
     "output_type": "display_data"
    },
    {
     "data": {
      "text/html": [
       " View run at <a href='https://wandb.ai/ericat/huggingface/runs/pi22h4va' target=\"_blank\">https://wandb.ai/ericat/huggingface/runs/pi22h4va</a>"
      ],
      "text/plain": [
       "<IPython.core.display.HTML object>"
      ]
     },
     "metadata": {},
     "output_type": "display_data"
    },
    {
     "name": "stdout",
     "output_type": "stream",
     "text": [
      "{'loss': 1.1092, 'learning_rate': 2.3595916118697088e-07, 'epoch': 0.86}\n"
     ]
    },
    {
     "name": "stderr",
     "output_type": "stream",
     "text": [
      "[I 2023-12-06 14:04:25,520] Trial 8 pruned. \n"
     ]
    },
    {
     "name": "stdout",
     "output_type": "stream",
     "text": [
      "{'eval_loss': 0.9708230495452881, 'eval_accuracy': 0.5686330935251799, 'eval_f1': 0.5621428407414285, 'eval_precision': 0.5901170804993484, 'eval_recall': 0.5565780467291049, 'eval_runtime': 21.828, 'eval_samples_per_second': 318.398, 'eval_steps_per_second': 39.811, 'epoch': 0.86}\n"
     ]
    },
    {
     "data": {
      "application/vnd.jupyter.widget-view+json": {
       "model_id": "",
       "version_major": 2,
       "version_minor": 0
      },
      "text/plain": [
       "VBox(children=(Label(value='0.001 MB of 0.001 MB uploaded\\r'), FloatProgress(value=1.0, max=1.0)))"
      ]
     },
     "metadata": {},
     "output_type": "display_data"
    },
    {
     "data": {
      "text/html": [
       "<style>\n",
       "    table.wandb td:nth-child(1) { padding: 0 10px; text-align: left ; width: auto;} td:nth-child(2) {text-align: left ; width: 100%}\n",
       "    .wandb-row { display: flex; flex-direction: row; flex-wrap: wrap; justify-content: flex-start; width: 100% }\n",
       "    .wandb-col { display: flex; flex-direction: column; flex-basis: 100%; flex: 1; padding: 10px; }\n",
       "    </style>\n",
       "<div class=\"wandb-row\"><div class=\"wandb-col\"><h3>Run history:</h3><br/><table class=\"wandb\"><tr><td>eval/accuracy</td><td>▁</td></tr><tr><td>eval/f1</td><td>▁</td></tr><tr><td>eval/loss</td><td>▁</td></tr><tr><td>eval/precision</td><td>▁</td></tr><tr><td>eval/recall</td><td>▁</td></tr><tr><td>eval/runtime</td><td>▁</td></tr><tr><td>eval/samples_per_second</td><td>▁</td></tr><tr><td>eval/steps_per_second</td><td>▁</td></tr><tr><td>train/epoch</td><td>▁▁</td></tr><tr><td>train/global_step</td><td>▁▁</td></tr><tr><td>train/learning_rate</td><td>▁</td></tr><tr><td>train/loss</td><td>▁</td></tr></table><br/></div><div class=\"wandb-col\"><h3>Run summary:</h3><br/><table class=\"wandb\"><tr><td>eval/accuracy</td><td>0.56863</td></tr><tr><td>eval/f1</td><td>0.56214</td></tr><tr><td>eval/loss</td><td>0.97082</td></tr><tr><td>eval/precision</td><td>0.59012</td></tr><tr><td>eval/recall</td><td>0.55658</td></tr><tr><td>eval/runtime</td><td>21.828</td></tr><tr><td>eval/samples_per_second</td><td>318.398</td></tr><tr><td>eval/steps_per_second</td><td>39.811</td></tr><tr><td>train/epoch</td><td>0.86</td></tr><tr><td>train/global_step</td><td>500</td></tr><tr><td>train/learning_rate</td><td>0.0</td></tr><tr><td>train/loss</td><td>1.1092</td></tr></table><br/></div></div>"
      ],
      "text/plain": [
       "<IPython.core.display.HTML object>"
      ]
     },
     "metadata": {},
     "output_type": "display_data"
    },
    {
     "data": {
      "text/html": [
       " View run <strong style=\"color:#cdcd00\">whole-firebrand-485</strong> at: <a href='https://wandb.ai/ericat/huggingface/runs/pi22h4va' target=\"_blank\">https://wandb.ai/ericat/huggingface/runs/pi22h4va</a><br/>Synced 5 W&B file(s), 0 media file(s), 0 artifact file(s) and 0 other file(s)"
      ],
      "text/plain": [
       "<IPython.core.display.HTML object>"
      ]
     },
     "metadata": {},
     "output_type": "display_data"
    },
    {
     "data": {
      "text/html": [
       "Find logs at: <code>.\\wandb\\run-20231206_140039-pi22h4va\\logs</code>"
      ],
      "text/plain": [
       "<IPython.core.display.HTML object>"
      ]
     },
     "metadata": {},
     "output_type": "display_data"
    },
    {
     "data": {
      "application/vnd.jupyter.widget-view+json": {
       "model_id": "f52ee6eac2b34faab03225f91d73999c",
       "version_major": 2,
       "version_minor": 0
      },
      "text/plain": [
       "VBox(children=(Label(value='Waiting for wandb.init()...\\r'), FloatProgress(value=0.011288888888884685, max=1.0…"
      ]
     },
     "metadata": {},
     "output_type": "display_data"
    },
    {
     "data": {
      "text/html": [
       "wandb version 0.16.1 is available!  To upgrade, please run:\n",
       " $ pip install wandb --upgrade"
      ],
      "text/plain": [
       "<IPython.core.display.HTML object>"
      ]
     },
     "metadata": {},
     "output_type": "display_data"
    },
    {
     "data": {
      "text/html": [
       "Tracking run with wandb version 0.16.0"
      ],
      "text/plain": [
       "<IPython.core.display.HTML object>"
      ]
     },
     "metadata": {},
     "output_type": "display_data"
    },
    {
     "data": {
      "text/html": [
       "Run data is saved locally in <code>D:\\Projects\\Jupyter\\Sentiment analysis\\04DEC\\wandb\\run-20231206_140434-tr2pveg3</code>"
      ],
      "text/plain": [
       "<IPython.core.display.HTML object>"
      ]
     },
     "metadata": {},
     "output_type": "display_data"
    },
    {
     "data": {
      "text/html": [
       "Syncing run <strong><a href='https://wandb.ai/ericat/huggingface/runs/tr2pveg3' target=\"_blank\">fearless-butterfly-486</a></strong> to <a href='https://wandb.ai/ericat/huggingface' target=\"_blank\">Weights & Biases</a> (<a href='https://wandb.me/run' target=\"_blank\">docs</a>)<br/>"
      ],
      "text/plain": [
       "<IPython.core.display.HTML object>"
      ]
     },
     "metadata": {},
     "output_type": "display_data"
    },
    {
     "data": {
      "text/html": [
       " View project at <a href='https://wandb.ai/ericat/huggingface' target=\"_blank\">https://wandb.ai/ericat/huggingface</a>"
      ],
      "text/plain": [
       "<IPython.core.display.HTML object>"
      ]
     },
     "metadata": {},
     "output_type": "display_data"
    },
    {
     "data": {
      "text/html": [
       " View run at <a href='https://wandb.ai/ericat/huggingface/runs/tr2pveg3' target=\"_blank\">https://wandb.ai/ericat/huggingface/runs/tr2pveg3</a>"
      ],
      "text/plain": [
       "<IPython.core.display.HTML object>"
      ]
     },
     "metadata": {},
     "output_type": "display_data"
    },
    {
     "name": "stdout",
     "output_type": "stream",
     "text": [
      "{'loss': 1.0941, 'learning_rate': 0.0002691061315529558, 'epoch': 0.58}\n"
     ]
    },
    {
     "name": "stderr",
     "output_type": "stream",
     "text": [
      "D:\\Software\\Anaconda3\\envs\\validation\\Lib\\site-packages\\sklearn\\metrics\\_classification.py:1469: UndefinedMetricWarning: Precision and F-score are ill-defined and being set to 0.0 in labels with no predicted samples. Use `zero_division` parameter to control this behavior.\n",
      "  _warn_prf(average, modifier, msg_start, len(result))\n",
      "[I 2023-12-06 14:07:14,574] Trial 9 pruned. \n"
     ]
    },
    {
     "name": "stdout",
     "output_type": "stream",
     "text": [
      "{'eval_loss': 1.089245080947876, 'eval_accuracy': 0.3955395683453237, 'eval_f1': 0.18895418771694675, 'eval_precision': 0.13184652278177458, 'eval_recall': 0.3333333333333333, 'eval_runtime': 21.7075, 'eval_samples_per_second': 320.166, 'eval_steps_per_second': 40.032, 'epoch': 0.58}\n"
     ]
    },
    {
     "data": {
      "application/vnd.jupyter.widget-view+json": {
       "model_id": "",
       "version_major": 2,
       "version_minor": 0
      },
      "text/plain": [
       "VBox(children=(Label(value='0.001 MB of 0.001 MB uploaded\\r'), FloatProgress(value=1.0, max=1.0)))"
      ]
     },
     "metadata": {},
     "output_type": "display_data"
    },
    {
     "data": {
      "text/html": [
       "<style>\n",
       "    table.wandb td:nth-child(1) { padding: 0 10px; text-align: left ; width: auto;} td:nth-child(2) {text-align: left ; width: 100%}\n",
       "    .wandb-row { display: flex; flex-direction: row; flex-wrap: wrap; justify-content: flex-start; width: 100% }\n",
       "    .wandb-col { display: flex; flex-direction: column; flex-basis: 100%; flex: 1; padding: 10px; }\n",
       "    </style>\n",
       "<div class=\"wandb-row\"><div class=\"wandb-col\"><h3>Run history:</h3><br/><table class=\"wandb\"><tr><td>eval/accuracy</td><td>▁</td></tr><tr><td>eval/f1</td><td>▁</td></tr><tr><td>eval/loss</td><td>▁</td></tr><tr><td>eval/precision</td><td>▁</td></tr><tr><td>eval/recall</td><td>▁</td></tr><tr><td>eval/runtime</td><td>▁</td></tr><tr><td>eval/samples_per_second</td><td>▁</td></tr><tr><td>eval/steps_per_second</td><td>▁</td></tr><tr><td>train/epoch</td><td>▁▁</td></tr><tr><td>train/global_step</td><td>▁▁</td></tr><tr><td>train/learning_rate</td><td>▁</td></tr><tr><td>train/loss</td><td>▁</td></tr></table><br/></div><div class=\"wandb-col\"><h3>Run summary:</h3><br/><table class=\"wandb\"><tr><td>eval/accuracy</td><td>0.39554</td></tr><tr><td>eval/f1</td><td>0.18895</td></tr><tr><td>eval/loss</td><td>1.08925</td></tr><tr><td>eval/precision</td><td>0.13185</td></tr><tr><td>eval/recall</td><td>0.33333</td></tr><tr><td>eval/runtime</td><td>21.7075</td></tr><tr><td>eval/samples_per_second</td><td>320.166</td></tr><tr><td>eval/steps_per_second</td><td>40.032</td></tr><tr><td>train/epoch</td><td>0.58</td></tr><tr><td>train/global_step</td><td>500</td></tr><tr><td>train/learning_rate</td><td>0.00027</td></tr><tr><td>train/loss</td><td>1.0941</td></tr></table><br/></div></div>"
      ],
      "text/plain": [
       "<IPython.core.display.HTML object>"
      ]
     },
     "metadata": {},
     "output_type": "display_data"
    },
    {
     "data": {
      "text/html": [
       " View run <strong style=\"color:#cdcd00\">fearless-butterfly-486</strong> at: <a href='https://wandb.ai/ericat/huggingface/runs/tr2pveg3' target=\"_blank\">https://wandb.ai/ericat/huggingface/runs/tr2pveg3</a><br/>Synced 5 W&B file(s), 0 media file(s), 0 artifact file(s) and 0 other file(s)"
      ],
      "text/plain": [
       "<IPython.core.display.HTML object>"
      ]
     },
     "metadata": {},
     "output_type": "display_data"
    },
    {
     "data": {
      "text/html": [
       "Find logs at: <code>.\\wandb\\run-20231206_140434-tr2pveg3\\logs</code>"
      ],
      "text/plain": [
       "<IPython.core.display.HTML object>"
      ]
     },
     "metadata": {},
     "output_type": "display_data"
    },
    {
     "data": {
      "application/vnd.jupyter.widget-view+json": {
       "model_id": "9e098bbd3cba417fbaa3d1f4b7151e1f",
       "version_major": 2,
       "version_minor": 0
      },
      "text/plain": [
       "VBox(children=(Label(value='Waiting for wandb.init()...\\r'), FloatProgress(value=0.01127777777777131, max=1.0)…"
      ]
     },
     "metadata": {},
     "output_type": "display_data"
    },
    {
     "data": {
      "text/html": [
       "wandb version 0.16.1 is available!  To upgrade, please run:\n",
       " $ pip install wandb --upgrade"
      ],
      "text/plain": [
       "<IPython.core.display.HTML object>"
      ]
     },
     "metadata": {},
     "output_type": "display_data"
    },
    {
     "data": {
      "text/html": [
       "Tracking run with wandb version 0.16.0"
      ],
      "text/plain": [
       "<IPython.core.display.HTML object>"
      ]
     },
     "metadata": {},
     "output_type": "display_data"
    },
    {
     "data": {
      "text/html": [
       "Run data is saved locally in <code>D:\\Projects\\Jupyter\\Sentiment analysis\\04DEC\\wandb\\run-20231206_140722-i067l0ow</code>"
      ],
      "text/plain": [
       "<IPython.core.display.HTML object>"
      ]
     },
     "metadata": {},
     "output_type": "display_data"
    },
    {
     "data": {
      "text/html": [
       "Syncing run <strong><a href='https://wandb.ai/ericat/huggingface/runs/i067l0ow' target=\"_blank\">likely-plant-487</a></strong> to <a href='https://wandb.ai/ericat/huggingface' target=\"_blank\">Weights & Biases</a> (<a href='https://wandb.me/run' target=\"_blank\">docs</a>)<br/>"
      ],
      "text/plain": [
       "<IPython.core.display.HTML object>"
      ]
     },
     "metadata": {},
     "output_type": "display_data"
    },
    {
     "data": {
      "text/html": [
       " View project at <a href='https://wandb.ai/ericat/huggingface' target=\"_blank\">https://wandb.ai/ericat/huggingface</a>"
      ],
      "text/plain": [
       "<IPython.core.display.HTML object>"
      ]
     },
     "metadata": {},
     "output_type": "display_data"
    },
    {
     "data": {
      "text/html": [
       " View run at <a href='https://wandb.ai/ericat/huggingface/runs/i067l0ow' target=\"_blank\">https://wandb.ai/ericat/huggingface/runs/i067l0ow</a>"
      ],
      "text/plain": [
       "<IPython.core.display.HTML object>"
      ]
     },
     "metadata": {},
     "output_type": "display_data"
    },
    {
     "name": "stdout",
     "output_type": "stream",
     "text": [
      "{'loss': 0.8216, 'learning_rate': 1.4140184259191494e-05, 'epoch': 0.29}\n",
      "{'eval_loss': 0.6667323708534241, 'eval_accuracy': 0.7070503597122302, 'eval_f1': 0.7106820542339499, 'eval_precision': 0.7110076854474614, 'eval_recall': 0.7151068197307476, 'eval_runtime': 21.7443, 'eval_samples_per_second': 319.623, 'eval_steps_per_second': 39.964, 'epoch': 0.29}\n",
      "{'loss': 0.6721, 'learning_rate': 8.429285931569729e-06, 'epoch': 0.58}\n",
      "{'eval_loss': 0.6362132430076599, 'eval_accuracy': 0.7335251798561151, 'eval_f1': 0.7345036827015393, 'eval_precision': 0.7485642871724977, 'eval_recall': 0.7285182697897289, 'eval_runtime': 21.6511, 'eval_samples_per_second': 321.0, 'eval_steps_per_second': 40.137, 'epoch': 0.58}\n",
      "{'loss': 0.6395, 'learning_rate': 2.718387603947961e-06, 'epoch': 0.86}\n",
      "{'eval_loss': 0.6145224571228027, 'eval_accuracy': 0.7410071942446043, 'eval_f1': 0.7439406433292896, 'eval_precision': 0.7494041135594851, 'eval_recall': 0.7400379035649446, 'eval_runtime': 21.6361, 'eval_samples_per_second': 321.222, 'eval_steps_per_second': 40.164, 'epoch': 0.86}\n"
     ]
    },
    {
     "name": "stderr",
     "output_type": "stream",
     "text": [
      "[I 2023-12-06 14:14:12,360] Trial 10 finished with value: 2.9743898546983236 and parameters: {'learning_rate': 1.9851082586813263e-05, 'num_train_epochs': 1, 'per_device_train_batch_size': 16}. Best is trial 5 with value: 3.0043631961514823.\n"
     ]
    },
    {
     "name": "stdout",
     "output_type": "stream",
     "text": [
      "{'train_runtime': 416.0839, 'train_samples_per_second': 66.809, 'train_steps_per_second': 4.177, 'train_loss': 0.7002706582581901, 'epoch': 1.0}\n"
     ]
    },
    {
     "data": {
      "application/vnd.jupyter.widget-view+json": {
       "model_id": "",
       "version_major": 2,
       "version_minor": 0
      },
      "text/plain": [
       "VBox(children=(Label(value='0.001 MB of 0.001 MB uploaded\\r'), FloatProgress(value=1.0, max=1.0)))"
      ]
     },
     "metadata": {},
     "output_type": "display_data"
    },
    {
     "data": {
      "text/html": [
       "<style>\n",
       "    table.wandb td:nth-child(1) { padding: 0 10px; text-align: left ; width: auto;} td:nth-child(2) {text-align: left ; width: 100%}\n",
       "    .wandb-row { display: flex; flex-direction: row; flex-wrap: wrap; justify-content: flex-start; width: 100% }\n",
       "    .wandb-col { display: flex; flex-direction: column; flex-basis: 100%; flex: 1; padding: 10px; }\n",
       "    </style>\n",
       "<div class=\"wandb-row\"><div class=\"wandb-col\"><h3>Run history:</h3><br/><table class=\"wandb\"><tr><td>eval/accuracy</td><td>▁▆█</td></tr><tr><td>eval/f1</td><td>▁▆█</td></tr><tr><td>eval/loss</td><td>█▄▁</td></tr><tr><td>eval/precision</td><td>▁██</td></tr><tr><td>eval/recall</td><td>▁▅█</td></tr><tr><td>eval/runtime</td><td>█▂▁</td></tr><tr><td>eval/samples_per_second</td><td>▁▇█</td></tr><tr><td>eval/steps_per_second</td><td>▁▇█</td></tr><tr><td>train/epoch</td><td>▁▁▄▄▇▇█</td></tr><tr><td>train/global_step</td><td>▁▁▄▄▇▇█</td></tr><tr><td>train/learning_rate</td><td>█▅▁</td></tr><tr><td>train/loss</td><td>█▂▁</td></tr><tr><td>train/total_flos</td><td>▁</td></tr><tr><td>train/train_loss</td><td>▁</td></tr><tr><td>train/train_runtime</td><td>▁</td></tr><tr><td>train/train_samples_per_second</td><td>▁</td></tr><tr><td>train/train_steps_per_second</td><td>▁</td></tr></table><br/></div><div class=\"wandb-col\"><h3>Run summary:</h3><br/><table class=\"wandb\"><tr><td>eval/accuracy</td><td>0.74101</td></tr><tr><td>eval/f1</td><td>0.74394</td></tr><tr><td>eval/loss</td><td>0.61452</td></tr><tr><td>eval/precision</td><td>0.7494</td></tr><tr><td>eval/recall</td><td>0.74004</td></tr><tr><td>eval/runtime</td><td>21.6361</td></tr><tr><td>eval/samples_per_second</td><td>321.222</td></tr><tr><td>eval/steps_per_second</td><td>40.164</td></tr><tr><td>train/epoch</td><td>1.0</td></tr><tr><td>train/global_step</td><td>1738</td></tr><tr><td>train/learning_rate</td><td>0.0</td></tr><tr><td>train/loss</td><td>0.6395</td></tr><tr><td>train/total_flos</td><td>1841197208472576.0</td></tr><tr><td>train/train_loss</td><td>0.70027</td></tr><tr><td>train/train_runtime</td><td>416.0839</td></tr><tr><td>train/train_samples_per_second</td><td>66.809</td></tr><tr><td>train/train_steps_per_second</td><td>4.177</td></tr></table><br/></div></div>"
      ],
      "text/plain": [
       "<IPython.core.display.HTML object>"
      ]
     },
     "metadata": {},
     "output_type": "display_data"
    },
    {
     "data": {
      "text/html": [
       " View run <strong style=\"color:#cdcd00\">likely-plant-487</strong> at: <a href='https://wandb.ai/ericat/huggingface/runs/i067l0ow' target=\"_blank\">https://wandb.ai/ericat/huggingface/runs/i067l0ow</a><br/>Synced 5 W&B file(s), 0 media file(s), 0 artifact file(s) and 0 other file(s)"
      ],
      "text/plain": [
       "<IPython.core.display.HTML object>"
      ]
     },
     "metadata": {},
     "output_type": "display_data"
    },
    {
     "data": {
      "text/html": [
       "Find logs at: <code>.\\wandb\\run-20231206_140722-i067l0ow\\logs</code>"
      ],
      "text/plain": [
       "<IPython.core.display.HTML object>"
      ]
     },
     "metadata": {},
     "output_type": "display_data"
    },
    {
     "data": {
      "application/vnd.jupyter.widget-view+json": {
       "model_id": "262678ce3cca4810a8013abf6b63c3d2",
       "version_major": 2,
       "version_minor": 0
      },
      "text/plain": [
       "VBox(children=(Label(value='Waiting for wandb.init()...\\r'), FloatProgress(value=0.011111111111111112, max=1.0…"
      ]
     },
     "metadata": {},
     "output_type": "display_data"
    },
    {
     "data": {
      "text/html": [
       "wandb version 0.16.1 is available!  To upgrade, please run:\n",
       " $ pip install wandb --upgrade"
      ],
      "text/plain": [
       "<IPython.core.display.HTML object>"
      ]
     },
     "metadata": {},
     "output_type": "display_data"
    },
    {
     "data": {
      "text/html": [
       "Tracking run with wandb version 0.16.0"
      ],
      "text/plain": [
       "<IPython.core.display.HTML object>"
      ]
     },
     "metadata": {},
     "output_type": "display_data"
    },
    {
     "data": {
      "text/html": [
       "Run data is saved locally in <code>D:\\Projects\\Jupyter\\Sentiment analysis\\04DEC\\wandb\\run-20231206_141420-llnkl14f</code>"
      ],
      "text/plain": [
       "<IPython.core.display.HTML object>"
      ]
     },
     "metadata": {},
     "output_type": "display_data"
    },
    {
     "data": {
      "text/html": [
       "Syncing run <strong><a href='https://wandb.ai/ericat/huggingface/runs/llnkl14f' target=\"_blank\">earnest-dawn-488</a></strong> to <a href='https://wandb.ai/ericat/huggingface' target=\"_blank\">Weights & Biases</a> (<a href='https://wandb.me/run' target=\"_blank\">docs</a>)<br/>"
      ],
      "text/plain": [
       "<IPython.core.display.HTML object>"
      ]
     },
     "metadata": {},
     "output_type": "display_data"
    },
    {
     "data": {
      "text/html": [
       " View project at <a href='https://wandb.ai/ericat/huggingface' target=\"_blank\">https://wandb.ai/ericat/huggingface</a>"
      ],
      "text/plain": [
       "<IPython.core.display.HTML object>"
      ]
     },
     "metadata": {},
     "output_type": "display_data"
    },
    {
     "data": {
      "text/html": [
       " View run at <a href='https://wandb.ai/ericat/huggingface/runs/llnkl14f' target=\"_blank\">https://wandb.ai/ericat/huggingface/runs/llnkl14f</a>"
      ],
      "text/plain": [
       "<IPython.core.display.HTML object>"
      ]
     },
     "metadata": {},
     "output_type": "display_data"
    },
    {
     "name": "stdout",
     "output_type": "stream",
     "text": [
      "{'loss': 0.728, 'learning_rate': 5.1615086094030566e-05, 'epoch': 0.72}\n",
      "{'eval_loss': 0.642192006111145, 'eval_accuracy': 0.7293525179856115, 'eval_f1': 0.7317381151300676, 'eval_precision': 0.728818763262912, 'eval_recall': 0.7389673354712653, 'eval_runtime': 21.8313, 'eval_samples_per_second': 318.351, 'eval_steps_per_second': 39.805, 'epoch': 0.72}\n",
      "{'loss': 0.5567, 'learning_rate': 4.0295988266392284e-05, 'epoch': 1.44}\n",
      "{'eval_loss': 0.6137428283691406, 'eval_accuracy': 0.7496402877697842, 'eval_f1': 0.7532720693609548, 'eval_precision': 0.7529678417903808, 'eval_recall': 0.754150923399418, 'eval_runtime': 21.7758, 'eval_samples_per_second': 319.162, 'eval_steps_per_second': 39.907, 'epoch': 1.44}\n",
      "{'loss': 0.4511, 'learning_rate': 2.8976890438754003e-05, 'epoch': 2.16}\n",
      "{'eval_loss': 0.713091254234314, 'eval_accuracy': 0.7497841726618705, 'eval_f1': 0.7524939354533181, 'eval_precision': 0.7526315259962547, 'eval_recall': 0.7534346491643665, 'eval_runtime': 21.8012, 'eval_samples_per_second': 318.79, 'eval_steps_per_second': 39.86, 'epoch': 2.16}\n",
      "{'loss': 0.3274, 'learning_rate': 1.765779261111572e-05, 'epoch': 2.88}\n",
      "{'eval_loss': 0.7065749168395996, 'eval_accuracy': 0.7532374100719424, 'eval_f1': 0.7560135355979121, 'eval_precision': 0.7555807339089072, 'eval_recall': 0.7565406053091173, 'eval_runtime': 21.8109, 'eval_samples_per_second': 318.648, 'eval_steps_per_second': 39.842, 'epoch': 2.88}\n",
      "{'loss': 0.2235, 'learning_rate': 6.338694783477438e-06, 'epoch': 3.6}\n",
      "{'eval_loss': 0.8542128205299377, 'eval_accuracy': 0.754820143884892, 'eval_f1': 0.7580092012725049, 'eval_precision': 0.7580717290331224, 'eval_recall': 0.7581763928802987, 'eval_runtime': 21.779, 'eval_samples_per_second': 319.115, 'eval_steps_per_second': 39.901, 'epoch': 3.6}\n"
     ]
    },
    {
     "name": "stderr",
     "output_type": "stream",
     "text": [
      "[I 2023-12-06 14:33:47,278] Trial 11 finished with value: 3.029077467070818 and parameters: {'learning_rate': 6.293418392166885e-05, 'num_train_epochs': 4, 'per_device_train_batch_size': 40}. Best is trial 11 with value: 3.029077467070818.\n"
     ]
    },
    {
     "name": "stdout",
     "output_type": "stream",
     "text": [
      "{'train_runtime': 1172.923, 'train_samples_per_second': 94.799, 'train_steps_per_second': 2.37, 'train_loss': 0.4301474852527646, 'epoch': 4.0}\n"
     ]
    },
    {
     "data": {
      "application/vnd.jupyter.widget-view+json": {
       "model_id": "",
       "version_major": 2,
       "version_minor": 0
      },
      "text/plain": [
       "VBox(children=(Label(value='0.001 MB of 0.001 MB uploaded\\r'), FloatProgress(value=1.0, max=1.0)))"
      ]
     },
     "metadata": {},
     "output_type": "display_data"
    },
    {
     "data": {
      "text/html": [
       "<style>\n",
       "    table.wandb td:nth-child(1) { padding: 0 10px; text-align: left ; width: auto;} td:nth-child(2) {text-align: left ; width: 100%}\n",
       "    .wandb-row { display: flex; flex-direction: row; flex-wrap: wrap; justify-content: flex-start; width: 100% }\n",
       "    .wandb-col { display: flex; flex-direction: column; flex-basis: 100%; flex: 1; padding: 10px; }\n",
       "    </style>\n",
       "<div class=\"wandb-row\"><div class=\"wandb-col\"><h3>Run history:</h3><br/><table class=\"wandb\"><tr><td>eval/accuracy</td><td>▁▇▇██</td></tr><tr><td>eval/f1</td><td>▁▇▇▇█</td></tr><tr><td>eval/loss</td><td>▂▁▄▄█</td></tr><tr><td>eval/precision</td><td>▁▇▇▇█</td></tr><tr><td>eval/recall</td><td>▁▇▆▇█</td></tr><tr><td>eval/runtime</td><td>█▁▄▅▁</td></tr><tr><td>eval/samples_per_second</td><td>▁█▅▄█</td></tr><tr><td>eval/steps_per_second</td><td>▁█▅▄█</td></tr><tr><td>train/epoch</td><td>▁▁▃▃▄▄▆▆▇▇█</td></tr><tr><td>train/global_step</td><td>▁▁▃▃▄▄▆▆▇▇█</td></tr><tr><td>train/learning_rate</td><td>█▆▄▃▁</td></tr><tr><td>train/loss</td><td>█▆▄▂▁</td></tr><tr><td>train/total_flos</td><td>▁</td></tr><tr><td>train/train_loss</td><td>▁</td></tr><tr><td>train/train_runtime</td><td>▁</td></tr><tr><td>train/train_samples_per_second</td><td>▁</td></tr><tr><td>train/train_steps_per_second</td><td>▁</td></tr></table><br/></div><div class=\"wandb-col\"><h3>Run summary:</h3><br/><table class=\"wandb\"><tr><td>eval/accuracy</td><td>0.75482</td></tr><tr><td>eval/f1</td><td>0.75801</td></tr><tr><td>eval/loss</td><td>0.85421</td></tr><tr><td>eval/precision</td><td>0.75807</td></tr><tr><td>eval/recall</td><td>0.75818</td></tr><tr><td>eval/runtime</td><td>21.779</td></tr><tr><td>eval/samples_per_second</td><td>319.115</td></tr><tr><td>eval/steps_per_second</td><td>39.901</td></tr><tr><td>train/epoch</td><td>4.0</td></tr><tr><td>train/global_step</td><td>2780</td></tr><tr><td>train/learning_rate</td><td>1e-05</td></tr><tr><td>train/loss</td><td>0.2235</td></tr><tr><td>train/total_flos</td><td>7364788833890304.0</td></tr><tr><td>train/train_loss</td><td>0.43015</td></tr><tr><td>train/train_runtime</td><td>1172.923</td></tr><tr><td>train/train_samples_per_second</td><td>94.799</td></tr><tr><td>train/train_steps_per_second</td><td>2.37</td></tr></table><br/></div></div>"
      ],
      "text/plain": [
       "<IPython.core.display.HTML object>"
      ]
     },
     "metadata": {},
     "output_type": "display_data"
    },
    {
     "data": {
      "text/html": [
       " View run <strong style=\"color:#cdcd00\">earnest-dawn-488</strong> at: <a href='https://wandb.ai/ericat/huggingface/runs/llnkl14f' target=\"_blank\">https://wandb.ai/ericat/huggingface/runs/llnkl14f</a><br/>Synced 5 W&B file(s), 0 media file(s), 0 artifact file(s) and 0 other file(s)"
      ],
      "text/plain": [
       "<IPython.core.display.HTML object>"
      ]
     },
     "metadata": {},
     "output_type": "display_data"
    },
    {
     "data": {
      "text/html": [
       "Find logs at: <code>.\\wandb\\run-20231206_141420-llnkl14f\\logs</code>"
      ],
      "text/plain": [
       "<IPython.core.display.HTML object>"
      ]
     },
     "metadata": {},
     "output_type": "display_data"
    },
    {
     "data": {
      "application/vnd.jupyter.widget-view+json": {
       "model_id": "869b5516585d489ca8a3bb74cc469944",
       "version_major": 2,
       "version_minor": 0
      },
      "text/plain": [
       "VBox(children=(Label(value='Waiting for wandb.init()...\\r'), FloatProgress(value=0.011288888888884685, max=1.0…"
      ]
     },
     "metadata": {},
     "output_type": "display_data"
    },
    {
     "data": {
      "text/html": [
       "wandb version 0.16.1 is available!  To upgrade, please run:\n",
       " $ pip install wandb --upgrade"
      ],
      "text/plain": [
       "<IPython.core.display.HTML object>"
      ]
     },
     "metadata": {},
     "output_type": "display_data"
    },
    {
     "data": {
      "text/html": [
       "Tracking run with wandb version 0.16.0"
      ],
      "text/plain": [
       "<IPython.core.display.HTML object>"
      ]
     },
     "metadata": {},
     "output_type": "display_data"
    },
    {
     "data": {
      "text/html": [
       "Run data is saved locally in <code>D:\\Projects\\Jupyter\\Sentiment analysis\\04DEC\\wandb\\run-20231206_143355-4kkohb8i</code>"
      ],
      "text/plain": [
       "<IPython.core.display.HTML object>"
      ]
     },
     "metadata": {},
     "output_type": "display_data"
    },
    {
     "data": {
      "text/html": [
       "Syncing run <strong><a href='https://wandb.ai/ericat/huggingface/runs/4kkohb8i' target=\"_blank\">silvery-cosmos-489</a></strong> to <a href='https://wandb.ai/ericat/huggingface' target=\"_blank\">Weights & Biases</a> (<a href='https://wandb.me/run' target=\"_blank\">docs</a>)<br/>"
      ],
      "text/plain": [
       "<IPython.core.display.HTML object>"
      ]
     },
     "metadata": {},
     "output_type": "display_data"
    },
    {
     "data": {
      "text/html": [
       " View project at <a href='https://wandb.ai/ericat/huggingface' target=\"_blank\">https://wandb.ai/ericat/huggingface</a>"
      ],
      "text/plain": [
       "<IPython.core.display.HTML object>"
      ]
     },
     "metadata": {},
     "output_type": "display_data"
    },
    {
     "data": {
      "text/html": [
       " View run at <a href='https://wandb.ai/ericat/huggingface/runs/4kkohb8i' target=\"_blank\">https://wandb.ai/ericat/huggingface/runs/4kkohb8i</a>"
      ],
      "text/plain": [
       "<IPython.core.display.HTML object>"
      ]
     },
     "metadata": {},
     "output_type": "display_data"
    },
    {
     "name": "stdout",
     "output_type": "stream",
     "text": [
      "{'loss': 0.7991, 'learning_rate': 3.44827420157287e-05, 'epoch': 0.29}\n",
      "{'eval_loss': 0.6702519655227661, 'eval_accuracy': 0.7040287769784173, 'eval_f1': 0.7073527288973208, 'eval_precision': 0.70724137359925, 'eval_recall': 0.7147004578182492, 'eval_runtime': 22.5284, 'eval_samples_per_second': 308.5, 'eval_steps_per_second': 38.574, 'epoch': 0.29}\n",
      "{'loss': 0.6726, 'learning_rate': 3.181048984463999e-05, 'epoch': 0.58}\n",
      "{'eval_loss': 0.6261724233627319, 'eval_accuracy': 0.73568345323741, 'eval_f1': 0.7375054580894638, 'eval_precision': 0.7460533668694618, 'eval_recall': 0.7329065306180048, 'eval_runtime': 23.0223, 'eval_samples_per_second': 301.882, 'eval_steps_per_second': 37.746, 'epoch': 0.58}\n",
      "{'loss': 0.6379, 'learning_rate': 2.9138237673551282e-05, 'epoch': 0.86}\n",
      "{'eval_loss': 0.6366569995880127, 'eval_accuracy': 0.7423021582733813, 'eval_f1': 0.7454649213351551, 'eval_precision': 0.7489431001354729, 'eval_recall': 0.7428350653705192, 'eval_runtime': 23.0078, 'eval_samples_per_second': 302.071, 'eval_steps_per_second': 37.77, 'epoch': 0.86}\n",
      "{'loss': 0.5685, 'learning_rate': 2.6465985502462573e-05, 'epoch': 1.15}\n",
      "{'eval_loss': 0.6562276482582092, 'eval_accuracy': 0.7441726618705036, 'eval_f1': 0.7479568427366696, 'eval_precision': 0.7481381140334761, 'eval_recall': 0.748252561015912, 'eval_runtime': 22.69, 'eval_samples_per_second': 306.303, 'eval_steps_per_second': 38.299, 'epoch': 1.15}\n",
      "{'loss': 0.4886, 'learning_rate': 2.3793733331373864e-05, 'epoch': 1.44}\n"
     ]
    },
    {
     "name": "stderr",
     "output_type": "stream",
     "text": [
      "[I 2023-12-06 14:44:19,990] Trial 12 pruned. \n"
     ]
    },
    {
     "name": "stdout",
     "output_type": "stream",
     "text": [
      "{'eval_loss': 0.6597767472267151, 'eval_accuracy': 0.7453237410071942, 'eval_f1': 0.746812173627123, 'eval_precision': 0.7661350530683037, 'eval_recall': 0.7381970005344168, 'eval_runtime': 22.7392, 'eval_samples_per_second': 305.64, 'eval_steps_per_second': 38.216, 'epoch': 1.44}\n"
     ]
    },
    {
     "data": {
      "application/vnd.jupyter.widget-view+json": {
       "model_id": "",
       "version_major": 2,
       "version_minor": 0
      },
      "text/plain": [
       "VBox(children=(Label(value='0.001 MB of 0.001 MB uploaded\\r'), FloatProgress(value=1.0, max=1.0)))"
      ]
     },
     "metadata": {},
     "output_type": "display_data"
    },
    {
     "data": {
      "text/html": [
       "<style>\n",
       "    table.wandb td:nth-child(1) { padding: 0 10px; text-align: left ; width: auto;} td:nth-child(2) {text-align: left ; width: 100%}\n",
       "    .wandb-row { display: flex; flex-direction: row; flex-wrap: wrap; justify-content: flex-start; width: 100% }\n",
       "    .wandb-col { display: flex; flex-direction: column; flex-basis: 100%; flex: 1; padding: 10px; }\n",
       "    </style>\n",
       "<div class=\"wandb-row\"><div class=\"wandb-col\"><h3>Run history:</h3><br/><table class=\"wandb\"><tr><td>eval/accuracy</td><td>▁▆▇██</td></tr><tr><td>eval/f1</td><td>▁▆███</td></tr><tr><td>eval/loss</td><td>█▁▃▆▆</td></tr><tr><td>eval/precision</td><td>▁▆▆▆█</td></tr><tr><td>eval/recall</td><td>▁▅▇█▆</td></tr><tr><td>eval/runtime</td><td>▁██▃▄</td></tr><tr><td>eval/samples_per_second</td><td>█▁▁▆▅</td></tr><tr><td>eval/steps_per_second</td><td>█▁▁▆▅</td></tr><tr><td>train/epoch</td><td>▁▁▃▃▄▄▆▆██</td></tr><tr><td>train/global_step</td><td>▁▁▃▃▅▅▆▆██</td></tr><tr><td>train/learning_rate</td><td>█▆▅▃▁</td></tr><tr><td>train/loss</td><td>█▅▄▃▁</td></tr></table><br/></div><div class=\"wandb-col\"><h3>Run summary:</h3><br/><table class=\"wandb\"><tr><td>eval/accuracy</td><td>0.74532</td></tr><tr><td>eval/f1</td><td>0.74681</td></tr><tr><td>eval/loss</td><td>0.65978</td></tr><tr><td>eval/precision</td><td>0.76614</td></tr><tr><td>eval/recall</td><td>0.7382</td></tr><tr><td>eval/runtime</td><td>22.7392</td></tr><tr><td>eval/samples_per_second</td><td>305.64</td></tr><tr><td>eval/steps_per_second</td><td>38.216</td></tr><tr><td>train/epoch</td><td>1.44</td></tr><tr><td>train/global_step</td><td>2500</td></tr><tr><td>train/learning_rate</td><td>2e-05</td></tr><tr><td>train/loss</td><td>0.4886</td></tr></table><br/></div></div>"
      ],
      "text/plain": [
       "<IPython.core.display.HTML object>"
      ]
     },
     "metadata": {},
     "output_type": "display_data"
    },
    {
     "data": {
      "text/html": [
       " View run <strong style=\"color:#cdcd00\">silvery-cosmos-489</strong> at: <a href='https://wandb.ai/ericat/huggingface/runs/4kkohb8i' target=\"_blank\">https://wandb.ai/ericat/huggingface/runs/4kkohb8i</a><br/>Synced 5 W&B file(s), 0 media file(s), 0 artifact file(s) and 0 other file(s)"
      ],
      "text/plain": [
       "<IPython.core.display.HTML object>"
      ]
     },
     "metadata": {},
     "output_type": "display_data"
    },
    {
     "data": {
      "text/html": [
       "Find logs at: <code>.\\wandb\\run-20231206_143355-4kkohb8i\\logs</code>"
      ],
      "text/plain": [
       "<IPython.core.display.HTML object>"
      ]
     },
     "metadata": {},
     "output_type": "display_data"
    },
    {
     "data": {
      "application/vnd.jupyter.widget-view+json": {
       "model_id": "18d180c693634594aab46bcec43114f9",
       "version_major": 2,
       "version_minor": 0
      },
      "text/plain": [
       "VBox(children=(Label(value='Waiting for wandb.init()...\\r'), FloatProgress(value=0.011111111111111112, max=1.0…"
      ]
     },
     "metadata": {},
     "output_type": "display_data"
    },
    {
     "data": {
      "text/html": [
       "wandb version 0.16.1 is available!  To upgrade, please run:\n",
       " $ pip install wandb --upgrade"
      ],
      "text/plain": [
       "<IPython.core.display.HTML object>"
      ]
     },
     "metadata": {},
     "output_type": "display_data"
    },
    {
     "data": {
      "text/html": [
       "Tracking run with wandb version 0.16.0"
      ],
      "text/plain": [
       "<IPython.core.display.HTML object>"
      ]
     },
     "metadata": {},
     "output_type": "display_data"
    },
    {
     "data": {
      "text/html": [
       "Run data is saved locally in <code>D:\\Projects\\Jupyter\\Sentiment analysis\\04DEC\\wandb\\run-20231206_144429-cd98g80q</code>"
      ],
      "text/plain": [
       "<IPython.core.display.HTML object>"
      ]
     },
     "metadata": {},
     "output_type": "display_data"
    },
    {
     "data": {
      "text/html": [
       "Syncing run <strong><a href='https://wandb.ai/ericat/huggingface/runs/cd98g80q' target=\"_blank\">unique-vortex-490</a></strong> to <a href='https://wandb.ai/ericat/huggingface' target=\"_blank\">Weights & Biases</a> (<a href='https://wandb.me/run' target=\"_blank\">docs</a>)<br/>"
      ],
      "text/plain": [
       "<IPython.core.display.HTML object>"
      ]
     },
     "metadata": {},
     "output_type": "display_data"
    },
    {
     "data": {
      "text/html": [
       " View project at <a href='https://wandb.ai/ericat/huggingface' target=\"_blank\">https://wandb.ai/ericat/huggingface</a>"
      ],
      "text/plain": [
       "<IPython.core.display.HTML object>"
      ]
     },
     "metadata": {},
     "output_type": "display_data"
    },
    {
     "data": {
      "text/html": [
       " View run at <a href='https://wandb.ai/ericat/huggingface/runs/cd98g80q' target=\"_blank\">https://wandb.ai/ericat/huggingface/runs/cd98g80q</a>"
      ],
      "text/plain": [
       "<IPython.core.display.HTML object>"
      ]
     },
     "metadata": {},
     "output_type": "display_data"
    },
    {
     "name": "stdout",
     "output_type": "stream",
     "text": [
      "{'loss': 0.7305, 'learning_rate': 4.232102599702001e-05, 'epoch': 0.72}\n",
      "{'eval_loss': 0.63150954246521, 'eval_accuracy': 0.7372661870503597, 'eval_f1': 0.7402459810173502, 'eval_precision': 0.737680892408579, 'eval_recall': 0.7444283881609888, 'eval_runtime': 23.0184, 'eval_samples_per_second': 301.932, 'eval_steps_per_second': 37.752, 'epoch': 0.72}\n",
      "{'loss': 0.5607, 'learning_rate': 3.3040099243287554e-05, 'epoch': 1.44}\n",
      "{'eval_loss': 0.5982124209403992, 'eval_accuracy': 0.7512230215827338, 'eval_f1': 0.7546814955498529, 'eval_precision': 0.755991210812128, 'eval_recall': 0.7535193436956633, 'eval_runtime': 22.9108, 'eval_samples_per_second': 303.35, 'eval_steps_per_second': 37.93, 'epoch': 1.44}\n",
      "{'loss': 0.4626, 'learning_rate': 2.3759172489555094e-05, 'epoch': 2.16}\n",
      "{'eval_loss': 0.7152206301689148, 'eval_accuracy': 0.7470503597122302, 'eval_f1': 0.7496264696019961, 'eval_precision': 0.7520825477020286, 'eval_recall': 0.7488468423059423, 'eval_runtime': 22.7407, 'eval_samples_per_second': 305.619, 'eval_steps_per_second': 38.213, 'epoch': 2.16}\n",
      "{'loss': 0.3499, 'learning_rate': 1.4478245735822633e-05, 'epoch': 2.88}\n",
      "{'eval_loss': 0.6775660514831543, 'eval_accuracy': 0.7513669064748202, 'eval_f1': 0.7551210127539761, 'eval_precision': 0.7545538486789166, 'eval_recall': 0.7564105611709656, 'eval_runtime': 23.1535, 'eval_samples_per_second': 300.17, 'eval_steps_per_second': 37.532, 'epoch': 2.88}\n",
      "{'loss': 0.2558, 'learning_rate': 5.197318982090177e-06, 'epoch': 3.6}\n",
      "{'eval_loss': 0.8038971424102783, 'eval_accuracy': 0.7470503597122302, 'eval_f1': 0.7508346082480166, 'eval_precision': 0.7512224834078941, 'eval_recall': 0.7508475691823354, 'eval_runtime': 22.972, 'eval_samples_per_second': 302.542, 'eval_steps_per_second': 37.829, 'epoch': 3.6}\n"
     ]
    },
    {
     "name": "stderr",
     "output_type": "stream",
     "text": [
      "[I 2023-12-06 15:04:58,497] Trial 13 finished with value: 2.9999550205504764 and parameters: {'learning_rate': 5.160195275075247e-05, 'num_train_epochs': 4, 'per_device_train_batch_size': 40}. Best is trial 11 with value: 3.029077467070818.\n"
     ]
    },
    {
     "name": "stdout",
     "output_type": "stream",
     "text": [
      "{'train_runtime': 1236.4362, 'train_samples_per_second': 89.929, 'train_steps_per_second': 2.248, 'train_loss': 0.44650184027582623, 'epoch': 4.0}\n"
     ]
    },
    {
     "data": {
      "application/vnd.jupyter.widget-view+json": {
       "model_id": "",
       "version_major": 2,
       "version_minor": 0
      },
      "text/plain": [
       "VBox(children=(Label(value='0.001 MB of 0.001 MB uploaded\\r'), FloatProgress(value=1.0, max=1.0)))"
      ]
     },
     "metadata": {},
     "output_type": "display_data"
    },
    {
     "data": {
      "text/html": [
       "<style>\n",
       "    table.wandb td:nth-child(1) { padding: 0 10px; text-align: left ; width: auto;} td:nth-child(2) {text-align: left ; width: 100%}\n",
       "    .wandb-row { display: flex; flex-direction: row; flex-wrap: wrap; justify-content: flex-start; width: 100% }\n",
       "    .wandb-col { display: flex; flex-direction: column; flex-basis: 100%; flex: 1; padding: 10px; }\n",
       "    </style>\n",
       "<div class=\"wandb-row\"><div class=\"wandb-col\"><h3>Run history:</h3><br/><table class=\"wandb\"><tr><td>eval/accuracy</td><td>▁█▆█▆</td></tr><tr><td>eval/f1</td><td>▁█▅█▆</td></tr><tr><td>eval/loss</td><td>▂▁▅▄█</td></tr><tr><td>eval/precision</td><td>▁█▇▇▆</td></tr><tr><td>eval/recall</td><td>▁▆▄█▅</td></tr><tr><td>eval/runtime</td><td>▆▄▁█▅</td></tr><tr><td>eval/samples_per_second</td><td>▃▅█▁▄</td></tr><tr><td>eval/steps_per_second</td><td>▃▅█▁▄</td></tr><tr><td>train/epoch</td><td>▁▁▃▃▄▄▆▆▇▇█</td></tr><tr><td>train/global_step</td><td>▁▁▃▃▄▄▆▆▇▇█</td></tr><tr><td>train/learning_rate</td><td>█▆▄▃▁</td></tr><tr><td>train/loss</td><td>█▅▄▂▁</td></tr><tr><td>train/total_flos</td><td>▁</td></tr><tr><td>train/train_loss</td><td>▁</td></tr><tr><td>train/train_runtime</td><td>▁</td></tr><tr><td>train/train_samples_per_second</td><td>▁</td></tr><tr><td>train/train_steps_per_second</td><td>▁</td></tr></table><br/></div><div class=\"wandb-col\"><h3>Run summary:</h3><br/><table class=\"wandb\"><tr><td>eval/accuracy</td><td>0.74705</td></tr><tr><td>eval/f1</td><td>0.75083</td></tr><tr><td>eval/loss</td><td>0.8039</td></tr><tr><td>eval/precision</td><td>0.75122</td></tr><tr><td>eval/recall</td><td>0.75085</td></tr><tr><td>eval/runtime</td><td>22.972</td></tr><tr><td>eval/samples_per_second</td><td>302.542</td></tr><tr><td>eval/steps_per_second</td><td>37.829</td></tr><tr><td>train/epoch</td><td>4.0</td></tr><tr><td>train/global_step</td><td>2780</td></tr><tr><td>train/learning_rate</td><td>1e-05</td></tr><tr><td>train/loss</td><td>0.2558</td></tr><tr><td>train/total_flos</td><td>7364788833890304.0</td></tr><tr><td>train/train_loss</td><td>0.4465</td></tr><tr><td>train/train_runtime</td><td>1236.4362</td></tr><tr><td>train/train_samples_per_second</td><td>89.929</td></tr><tr><td>train/train_steps_per_second</td><td>2.248</td></tr></table><br/></div></div>"
      ],
      "text/plain": [
       "<IPython.core.display.HTML object>"
      ]
     },
     "metadata": {},
     "output_type": "display_data"
    },
    {
     "data": {
      "text/html": [
       " View run <strong style=\"color:#cdcd00\">unique-vortex-490</strong> at: <a href='https://wandb.ai/ericat/huggingface/runs/cd98g80q' target=\"_blank\">https://wandb.ai/ericat/huggingface/runs/cd98g80q</a><br/>Synced 5 W&B file(s), 0 media file(s), 0 artifact file(s) and 0 other file(s)"
      ],
      "text/plain": [
       "<IPython.core.display.HTML object>"
      ]
     },
     "metadata": {},
     "output_type": "display_data"
    },
    {
     "data": {
      "text/html": [
       "Find logs at: <code>.\\wandb\\run-20231206_144429-cd98g80q\\logs</code>"
      ],
      "text/plain": [
       "<IPython.core.display.HTML object>"
      ]
     },
     "metadata": {},
     "output_type": "display_data"
    },
    {
     "data": {
      "application/vnd.jupyter.widget-view+json": {
       "model_id": "969bef886477477b9925eeb40a99039a",
       "version_major": 2,
       "version_minor": 0
      },
      "text/plain": [
       "VBox(children=(Label(value='Waiting for wandb.init()...\\r'), FloatProgress(value=0.011288888888884685, max=1.0…"
      ]
     },
     "metadata": {},
     "output_type": "display_data"
    },
    {
     "data": {
      "text/html": [
       "wandb version 0.16.1 is available!  To upgrade, please run:\n",
       " $ pip install wandb --upgrade"
      ],
      "text/plain": [
       "<IPython.core.display.HTML object>"
      ]
     },
     "metadata": {},
     "output_type": "display_data"
    },
    {
     "data": {
      "text/html": [
       "Tracking run with wandb version 0.16.0"
      ],
      "text/plain": [
       "<IPython.core.display.HTML object>"
      ]
     },
     "metadata": {},
     "output_type": "display_data"
    },
    {
     "data": {
      "text/html": [
       "Run data is saved locally in <code>D:\\Projects\\Jupyter\\Sentiment analysis\\04DEC\\wandb\\run-20231206_150507-c89qq4pk</code>"
      ],
      "text/plain": [
       "<IPython.core.display.HTML object>"
      ]
     },
     "metadata": {},
     "output_type": "display_data"
    },
    {
     "data": {
      "text/html": [
       "Syncing run <strong><a href='https://wandb.ai/ericat/huggingface/runs/c89qq4pk' target=\"_blank\">amber-elevator-491</a></strong> to <a href='https://wandb.ai/ericat/huggingface' target=\"_blank\">Weights & Biases</a> (<a href='https://wandb.me/run' target=\"_blank\">docs</a>)<br/>"
      ],
      "text/plain": [
       "<IPython.core.display.HTML object>"
      ]
     },
     "metadata": {},
     "output_type": "display_data"
    },
    {
     "data": {
      "text/html": [
       " View project at <a href='https://wandb.ai/ericat/huggingface' target=\"_blank\">https://wandb.ai/ericat/huggingface</a>"
      ],
      "text/plain": [
       "<IPython.core.display.HTML object>"
      ]
     },
     "metadata": {},
     "output_type": "display_data"
    },
    {
     "data": {
      "text/html": [
       " View run at <a href='https://wandb.ai/ericat/huggingface/runs/c89qq4pk' target=\"_blank\">https://wandb.ai/ericat/huggingface/runs/c89qq4pk</a>"
      ],
      "text/plain": [
       "<IPython.core.display.HTML object>"
      ]
     },
     "metadata": {},
     "output_type": "display_data"
    },
    {
     "name": "stdout",
     "output_type": "stream",
     "text": [
      "{'loss': 0.8128, 'learning_rate': 1.0915342402848392e-05, 'epoch': 0.43}\n",
      "{'eval_loss': 0.6722811460494995, 'eval_accuracy': 0.7084892086330935, 'eval_f1': 0.7105969117369354, 'eval_precision': 0.7076960886167013, 'eval_recall': 0.7181621949413669, 'eval_runtime': 23.2154, 'eval_samples_per_second': 299.371, 'eval_steps_per_second': 37.432, 'epoch': 0.43}\n",
      "{'loss': 0.6655, 'learning_rate': 7.913323040128813e-06, 'epoch': 0.86}\n"
     ]
    },
    {
     "name": "stderr",
     "output_type": "stream",
     "text": [
      "[I 2023-12-06 15:10:05,343] Trial 14 pruned. \n"
     ]
    },
    {
     "name": "stdout",
     "output_type": "stream",
     "text": [
      "{'eval_loss': 0.6338003873825073, 'eval_accuracy': 0.7335251798561151, 'eval_f1': 0.73659662972345, 'eval_precision': 0.738958020977004, 'eval_recall': 0.7346409577862744, 'eval_runtime': 23.1306, 'eval_samples_per_second': 300.468, 'eval_steps_per_second': 37.569, 'epoch': 0.86}\n"
     ]
    },
    {
     "data": {
      "application/vnd.jupyter.widget-view+json": {
       "model_id": "",
       "version_major": 2,
       "version_minor": 0
      },
      "text/plain": [
       "VBox(children=(Label(value='0.001 MB of 0.001 MB uploaded\\r'), FloatProgress(value=1.0, max=1.0)))"
      ]
     },
     "metadata": {},
     "output_type": "display_data"
    },
    {
     "data": {
      "text/html": [
       "<style>\n",
       "    table.wandb td:nth-child(1) { padding: 0 10px; text-align: left ; width: auto;} td:nth-child(2) {text-align: left ; width: 100%}\n",
       "    .wandb-row { display: flex; flex-direction: row; flex-wrap: wrap; justify-content: flex-start; width: 100% }\n",
       "    .wandb-col { display: flex; flex-direction: column; flex-basis: 100%; flex: 1; padding: 10px; }\n",
       "    </style>\n",
       "<div class=\"wandb-row\"><div class=\"wandb-col\"><h3>Run history:</h3><br/><table class=\"wandb\"><tr><td>eval/accuracy</td><td>▁█</td></tr><tr><td>eval/f1</td><td>▁█</td></tr><tr><td>eval/loss</td><td>█▁</td></tr><tr><td>eval/precision</td><td>▁█</td></tr><tr><td>eval/recall</td><td>▁█</td></tr><tr><td>eval/runtime</td><td>█▁</td></tr><tr><td>eval/samples_per_second</td><td>▁█</td></tr><tr><td>eval/steps_per_second</td><td>▁█</td></tr><tr><td>train/epoch</td><td>▁▁██</td></tr><tr><td>train/global_step</td><td>▁▁██</td></tr><tr><td>train/learning_rate</td><td>█▁</td></tr><tr><td>train/loss</td><td>█▁</td></tr></table><br/></div><div class=\"wandb-col\"><h3>Run summary:</h3><br/><table class=\"wandb\"><tr><td>eval/accuracy</td><td>0.73353</td></tr><tr><td>eval/f1</td><td>0.7366</td></tr><tr><td>eval/loss</td><td>0.6338</td></tr><tr><td>eval/precision</td><td>0.73896</td></tr><tr><td>eval/recall</td><td>0.73464</td></tr><tr><td>eval/runtime</td><td>23.1306</td></tr><tr><td>eval/samples_per_second</td><td>300.468</td></tr><tr><td>eval/steps_per_second</td><td>37.569</td></tr><tr><td>train/epoch</td><td>0.86</td></tr><tr><td>train/global_step</td><td>1000</td></tr><tr><td>train/learning_rate</td><td>1e-05</td></tr><tr><td>train/loss</td><td>0.6655</td></tr></table><br/></div></div>"
      ],
      "text/plain": [
       "<IPython.core.display.HTML object>"
      ]
     },
     "metadata": {},
     "output_type": "display_data"
    },
    {
     "data": {
      "text/html": [
       " View run <strong style=\"color:#cdcd00\">amber-elevator-491</strong> at: <a href='https://wandb.ai/ericat/huggingface/runs/c89qq4pk' target=\"_blank\">https://wandb.ai/ericat/huggingface/runs/c89qq4pk</a><br/>Synced 5 W&B file(s), 0 media file(s), 0 artifact file(s) and 0 other file(s)"
      ],
      "text/plain": [
       "<IPython.core.display.HTML object>"
      ]
     },
     "metadata": {},
     "output_type": "display_data"
    },
    {
     "data": {
      "text/html": [
       "Find logs at: <code>.\\wandb\\run-20231206_150507-c89qq4pk\\logs</code>"
      ],
      "text/plain": [
       "<IPython.core.display.HTML object>"
      ]
     },
     "metadata": {},
     "output_type": "display_data"
    },
    {
     "data": {
      "application/vnd.jupyter.widget-view+json": {
       "model_id": "c319385aa85f4774ad34f68ed14709e7",
       "version_major": 2,
       "version_minor": 0
      },
      "text/plain": [
       "VBox(children=(Label(value='Waiting for wandb.init()...\\r'), FloatProgress(value=0.011111111111111112, max=1.0…"
      ]
     },
     "metadata": {},
     "output_type": "display_data"
    },
    {
     "data": {
      "text/html": [
       "wandb version 0.16.1 is available!  To upgrade, please run:\n",
       " $ pip install wandb --upgrade"
      ],
      "text/plain": [
       "<IPython.core.display.HTML object>"
      ]
     },
     "metadata": {},
     "output_type": "display_data"
    },
    {
     "data": {
      "text/html": [
       "Tracking run with wandb version 0.16.0"
      ],
      "text/plain": [
       "<IPython.core.display.HTML object>"
      ]
     },
     "metadata": {},
     "output_type": "display_data"
    },
    {
     "data": {
      "text/html": [
       "Run data is saved locally in <code>D:\\Projects\\Jupyter\\Sentiment analysis\\04DEC\\wandb\\run-20231206_151013-kki6uxpu</code>"
      ],
      "text/plain": [
       "<IPython.core.display.HTML object>"
      ]
     },
     "metadata": {},
     "output_type": "display_data"
    },
    {
     "data": {
      "text/html": [
       "Syncing run <strong><a href='https://wandb.ai/ericat/huggingface/runs/kki6uxpu' target=\"_blank\">pious-disco-492</a></strong> to <a href='https://wandb.ai/ericat/huggingface' target=\"_blank\">Weights & Biases</a> (<a href='https://wandb.me/run' target=\"_blank\">docs</a>)<br/>"
      ],
      "text/plain": [
       "<IPython.core.display.HTML object>"
      ]
     },
     "metadata": {},
     "output_type": "display_data"
    },
    {
     "data": {
      "text/html": [
       " View project at <a href='https://wandb.ai/ericat/huggingface' target=\"_blank\">https://wandb.ai/ericat/huggingface</a>"
      ],
      "text/plain": [
       "<IPython.core.display.HTML object>"
      ]
     },
     "metadata": {},
     "output_type": "display_data"
    },
    {
     "data": {
      "text/html": [
       " View run at <a href='https://wandb.ai/ericat/huggingface/runs/kki6uxpu' target=\"_blank\">https://wandb.ai/ericat/huggingface/runs/kki6uxpu</a>"
      ],
      "text/plain": [
       "<IPython.core.display.HTML object>"
      ]
     },
     "metadata": {},
     "output_type": "display_data"
    },
    {
     "name": "stdout",
     "output_type": "stream",
     "text": [
      "{'loss': 0.7358, 'learning_rate': 5.892324394718955e-05, 'epoch': 0.65}\n",
      "{'eval_loss': 0.6286357641220093, 'eval_accuracy': 0.7375539568345324, 'eval_f1': 0.7412647835797018, 'eval_precision': 0.7526491353186073, 'eval_recall': 0.7349570084568802, 'eval_runtime': 22.7051, 'eval_samples_per_second': 306.099, 'eval_steps_per_second': 38.273, 'epoch': 0.65}\n",
      "{'loss': 0.5721, 'learning_rate': 4.755687744503107e-05, 'epoch': 1.29}\n",
      "{'eval_loss': 0.6297969818115234, 'eval_accuracy': 0.745179856115108, 'eval_f1': 0.7482587750765832, 'eval_precision': 0.7471060965809659, 'eval_recall': 0.7497313512710874, 'eval_runtime': 21.8466, 'eval_samples_per_second': 318.128, 'eval_steps_per_second': 39.777, 'epoch': 1.29}\n",
      "{'loss': 0.4899, 'learning_rate': 3.61905109428726e-05, 'epoch': 1.94}\n",
      "{'eval_loss': 0.6110407710075378, 'eval_accuracy': 0.7581294964028777, 'eval_f1': 0.7614539159985666, 'eval_precision': 0.7626659467164535, 'eval_recall': 0.7607340553516, 'eval_runtime': 22.1787, 'eval_samples_per_second': 313.363, 'eval_steps_per_second': 39.182, 'epoch': 1.94}\n",
      "{'loss': 0.3293, 'learning_rate': 2.4824144440714114e-05, 'epoch': 2.59}\n",
      "{'eval_loss': 0.7616921067237854, 'eval_accuracy': 0.7536690647482014, 'eval_f1': 0.7569703399017516, 'eval_precision': 0.760960276445995, 'eval_recall': 0.7540965871051775, 'eval_runtime': 21.8107, 'eval_samples_per_second': 318.651, 'eval_steps_per_second': 39.843, 'epoch': 2.59}\n",
      "{'loss': 0.2722, 'learning_rate': 1.3457777938555639e-05, 'epoch': 3.23}\n",
      "{'eval_loss': 0.858148455619812, 'eval_accuracy': 0.7467625899280576, 'eval_f1': 0.7494577367615092, 'eval_precision': 0.7546628792207767, 'eval_recall': 0.7460631834286406, 'eval_runtime': 21.7351, 'eval_samples_per_second': 319.759, 'eval_steps_per_second': 39.981, 'epoch': 3.23}\n",
      "{'loss': 0.1773, 'learning_rate': 2.09141143639716e-06, 'epoch': 3.88}\n",
      "{'eval_loss': 0.8974341154098511, 'eval_accuracy': 0.7519424460431655, 'eval_f1': 0.7554147446446681, 'eval_precision': 0.7566803418349761, 'eval_recall': 0.7543285299799187, 'eval_runtime': 21.8229, 'eval_samples_per_second': 318.473, 'eval_steps_per_second': 39.821, 'epoch': 3.88}\n"
     ]
    },
    {
     "name": "stderr",
     "output_type": "stream",
     "text": [
      "[I 2023-12-06 15:31:08,275] Trial 15 finished with value: 3.0183660625027287 and parameters: {'learning_rate': 7.028961044934803e-05, 'num_train_epochs': 4, 'per_device_train_batch_size': 36}. Best is trial 11 with value: 3.029077467070818.\n"
     ]
    },
    {
     "name": "stdout",
     "output_type": "stream",
     "text": [
      "{'train_runtime': 1260.8235, 'train_samples_per_second': 88.19, 'train_steps_per_second': 2.452, 'train_loss': 0.4213516240286488, 'epoch': 4.0}\n"
     ]
    },
    {
     "data": {
      "application/vnd.jupyter.widget-view+json": {
       "model_id": "",
       "version_major": 2,
       "version_minor": 0
      },
      "text/plain": [
       "VBox(children=(Label(value='0.001 MB of 0.001 MB uploaded\\r'), FloatProgress(value=1.0, max=1.0)))"
      ]
     },
     "metadata": {},
     "output_type": "display_data"
    },
    {
     "data": {
      "text/html": [
       "<style>\n",
       "    table.wandb td:nth-child(1) { padding: 0 10px; text-align: left ; width: auto;} td:nth-child(2) {text-align: left ; width: 100%}\n",
       "    .wandb-row { display: flex; flex-direction: row; flex-wrap: wrap; justify-content: flex-start; width: 100% }\n",
       "    .wandb-col { display: flex; flex-direction: column; flex-basis: 100%; flex: 1; padding: 10px; }\n",
       "    </style>\n",
       "<div class=\"wandb-row\"><div class=\"wandb-col\"><h3>Run history:</h3><br/><table class=\"wandb\"><tr><td>eval/accuracy</td><td>▁▄█▆▄▆</td></tr><tr><td>eval/f1</td><td>▁▃█▆▄▆</td></tr><tr><td>eval/loss</td><td>▁▁▁▅▇█</td></tr><tr><td>eval/precision</td><td>▃▁█▇▄▅</td></tr><tr><td>eval/recall</td><td>▁▅█▆▄▆</td></tr><tr><td>eval/runtime</td><td>█▂▄▂▁▂</td></tr><tr><td>eval/samples_per_second</td><td>▁▇▅▇█▇</td></tr><tr><td>eval/steps_per_second</td><td>▁▇▅▇█▇</td></tr><tr><td>train/epoch</td><td>▁▁▂▂▄▄▅▅▆▆███</td></tr><tr><td>train/global_step</td><td>▁▁▂▂▄▄▅▅▆▆███</td></tr><tr><td>train/learning_rate</td><td>█▇▅▄▂▁</td></tr><tr><td>train/loss</td><td>█▆▅▃▂▁</td></tr><tr><td>train/total_flos</td><td>▁</td></tr><tr><td>train/train_loss</td><td>▁</td></tr><tr><td>train/train_runtime</td><td>▁</td></tr><tr><td>train/train_samples_per_second</td><td>▁</td></tr><tr><td>train/train_steps_per_second</td><td>▁</td></tr></table><br/></div><div class=\"wandb-col\"><h3>Run summary:</h3><br/><table class=\"wandb\"><tr><td>eval/accuracy</td><td>0.75194</td></tr><tr><td>eval/f1</td><td>0.75541</td></tr><tr><td>eval/loss</td><td>0.89743</td></tr><tr><td>eval/precision</td><td>0.75668</td></tr><tr><td>eval/recall</td><td>0.75433</td></tr><tr><td>eval/runtime</td><td>21.8229</td></tr><tr><td>eval/samples_per_second</td><td>318.473</td></tr><tr><td>eval/steps_per_second</td><td>39.821</td></tr><tr><td>train/epoch</td><td>4.0</td></tr><tr><td>train/global_step</td><td>3092</td></tr><tr><td>train/learning_rate</td><td>0.0</td></tr><tr><td>train/loss</td><td>0.1773</td></tr><tr><td>train/total_flos</td><td>7364788833890304.0</td></tr><tr><td>train/train_loss</td><td>0.42135</td></tr><tr><td>train/train_runtime</td><td>1260.8235</td></tr><tr><td>train/train_samples_per_second</td><td>88.19</td></tr><tr><td>train/train_steps_per_second</td><td>2.452</td></tr></table><br/></div></div>"
      ],
      "text/plain": [
       "<IPython.core.display.HTML object>"
      ]
     },
     "metadata": {},
     "output_type": "display_data"
    },
    {
     "data": {
      "text/html": [
       " View run <strong style=\"color:#cdcd00\">pious-disco-492</strong> at: <a href='https://wandb.ai/ericat/huggingface/runs/kki6uxpu' target=\"_blank\">https://wandb.ai/ericat/huggingface/runs/kki6uxpu</a><br/>Synced 5 W&B file(s), 0 media file(s), 0 artifact file(s) and 0 other file(s)"
      ],
      "text/plain": [
       "<IPython.core.display.HTML object>"
      ]
     },
     "metadata": {},
     "output_type": "display_data"
    },
    {
     "data": {
      "text/html": [
       "Find logs at: <code>.\\wandb\\run-20231206_151013-kki6uxpu\\logs</code>"
      ],
      "text/plain": [
       "<IPython.core.display.HTML object>"
      ]
     },
     "metadata": {},
     "output_type": "display_data"
    },
    {
     "data": {
      "application/vnd.jupyter.widget-view+json": {
       "model_id": "f95b1e9f72424e5a80aeef0cc8c575dd",
       "version_major": 2,
       "version_minor": 0
      },
      "text/plain": [
       "VBox(children=(Label(value='Waiting for wandb.init()...\\r'), FloatProgress(value=0.011111111111111112, max=1.0…"
      ]
     },
     "metadata": {},
     "output_type": "display_data"
    },
    {
     "data": {
      "text/html": [
       "wandb version 0.16.1 is available!  To upgrade, please run:\n",
       " $ pip install wandb --upgrade"
      ],
      "text/plain": [
       "<IPython.core.display.HTML object>"
      ]
     },
     "metadata": {},
     "output_type": "display_data"
    },
    {
     "data": {
      "text/html": [
       "Tracking run with wandb version 0.16.0"
      ],
      "text/plain": [
       "<IPython.core.display.HTML object>"
      ]
     },
     "metadata": {},
     "output_type": "display_data"
    },
    {
     "data": {
      "text/html": [
       "Run data is saved locally in <code>D:\\Projects\\Jupyter\\Sentiment analysis\\04DEC\\wandb\\run-20231206_153118-o512qa4s</code>"
      ],
      "text/plain": [
       "<IPython.core.display.HTML object>"
      ]
     },
     "metadata": {},
     "output_type": "display_data"
    },
    {
     "data": {
      "text/html": [
       "Syncing run <strong><a href='https://wandb.ai/ericat/huggingface/runs/o512qa4s' target=\"_blank\">morning-jazz-493</a></strong> to <a href='https://wandb.ai/ericat/huggingface' target=\"_blank\">Weights & Biases</a> (<a href='https://wandb.me/run' target=\"_blank\">docs</a>)<br/>"
      ],
      "text/plain": [
       "<IPython.core.display.HTML object>"
      ]
     },
     "metadata": {},
     "output_type": "display_data"
    },
    {
     "data": {
      "text/html": [
       " View project at <a href='https://wandb.ai/ericat/huggingface' target=\"_blank\">https://wandb.ai/ericat/huggingface</a>"
      ],
      "text/plain": [
       "<IPython.core.display.HTML object>"
      ]
     },
     "metadata": {},
     "output_type": "display_data"
    },
    {
     "data": {
      "text/html": [
       " View run at <a href='https://wandb.ai/ericat/huggingface/runs/o512qa4s' target=\"_blank\">https://wandb.ai/ericat/huggingface/runs/o512qa4s</a>"
      ],
      "text/plain": [
       "<IPython.core.display.HTML object>"
      ]
     },
     "metadata": {},
     "output_type": "display_data"
    },
    {
     "name": "stdout",
     "output_type": "stream",
     "text": [
      "{'loss': 0.7443, 'learning_rate': 7.807674548950631e-05, 'epoch': 0.65}\n",
      "{'eval_loss': 0.6363972425460815, 'eval_accuracy': 0.7359712230215827, 'eval_f1': 0.7387536784900502, 'eval_precision': 0.7527087537160497, 'eval_recall': 0.7311788407322061, 'eval_runtime': 21.7937, 'eval_samples_per_second': 318.9, 'eval_steps_per_second': 39.874, 'epoch': 0.65}\n",
      "{'loss': 0.5824, 'learning_rate': 6.301564489353674e-05, 'epoch': 1.29}\n",
      "{'eval_loss': 0.6322556734085083, 'eval_accuracy': 0.7494964028776978, 'eval_f1': 0.752931435895874, 'eval_precision': 0.7606462710909047, 'eval_recall': 0.7480295912251727, 'eval_runtime': 21.791, 'eval_samples_per_second': 318.938, 'eval_steps_per_second': 39.879, 'epoch': 1.29}\n",
      "{'loss': 0.4979, 'learning_rate': 4.795454429756715e-05, 'epoch': 1.94}\n",
      "{'eval_loss': 0.6317777633666992, 'eval_accuracy': 0.7440287769784173, 'eval_f1': 0.7475471091995743, 'eval_precision': 0.7454528244954058, 'eval_recall': 0.7517884434387704, 'eval_runtime': 21.7906, 'eval_samples_per_second': 318.946, 'eval_steps_per_second': 39.88, 'epoch': 1.94}\n",
      "{'loss': 0.3291, 'learning_rate': 3.289344370159757e-05, 'epoch': 2.59}\n",
      "{'eval_loss': 0.7409848570823669, 'eval_accuracy': 0.7487769784172662, 'eval_f1': 0.75248063216172, 'eval_precision': 0.7553263006428447, 'eval_recall': 0.7506651785890727, 'eval_runtime': 21.7895, 'eval_samples_per_second': 318.962, 'eval_steps_per_second': 39.882, 'epoch': 2.59}\n",
      "{'loss': 0.2663, 'learning_rate': 1.7832343105627986e-05, 'epoch': 3.23}\n",
      "{'eval_loss': 0.919806957244873, 'eval_accuracy': 0.742589928057554, 'eval_f1': 0.7456308013883325, 'eval_precision': 0.7473899836085008, 'eval_recall': 0.7442620553436988, 'eval_runtime': 21.7762, 'eval_samples_per_second': 319.155, 'eval_steps_per_second': 39.906, 'epoch': 3.23}\n",
      "{'loss': 0.163, 'learning_rate': 2.7712425096584036e-06, 'epoch': 3.88}\n"
     ]
    },
    {
     "name": "stderr",
     "output_type": "stream",
     "text": [
      "[I 2023-12-06 15:51:02,767] Trial 16 pruned. \n"
     ]
    },
    {
     "name": "stdout",
     "output_type": "stream",
     "text": [
      "{'eval_loss': 0.9627853631973267, 'eval_accuracy': 0.7397122302158273, 'eval_f1': 0.7432055541986063, 'eval_precision': 0.7463629108655905, 'eval_recall': 0.7406642613316129, 'eval_runtime': 21.8032, 'eval_samples_per_second': 318.761, 'eval_steps_per_second': 39.857, 'epoch': 3.88}\n"
     ]
    },
    {
     "data": {
      "application/vnd.jupyter.widget-view+json": {
       "model_id": "",
       "version_major": 2,
       "version_minor": 0
      },
      "text/plain": [
       "VBox(children=(Label(value='0.001 MB of 0.001 MB uploaded\\r'), FloatProgress(value=1.0, max=1.0)))"
      ]
     },
     "metadata": {},
     "output_type": "display_data"
    },
    {
     "data": {
      "text/html": [
       "<style>\n",
       "    table.wandb td:nth-child(1) { padding: 0 10px; text-align: left ; width: auto;} td:nth-child(2) {text-align: left ; width: 100%}\n",
       "    .wandb-row { display: flex; flex-direction: row; flex-wrap: wrap; justify-content: flex-start; width: 100% }\n",
       "    .wandb-col { display: flex; flex-direction: column; flex-basis: 100%; flex: 1; padding: 10px; }\n",
       "    </style>\n",
       "<div class=\"wandb-row\"><div class=\"wandb-col\"><h3>Run history:</h3><br/><table class=\"wandb\"><tr><td>eval/accuracy</td><td>▁█▅█▄▃</td></tr><tr><td>eval/f1</td><td>▁█▅█▄▃</td></tr><tr><td>eval/loss</td><td>▁▁▁▃▇█</td></tr><tr><td>eval/precision</td><td>▄█▁▆▂▁</td></tr><tr><td>eval/recall</td><td>▁▇██▅▄</td></tr><tr><td>eval/runtime</td><td>▆▅▅▄▁█</td></tr><tr><td>eval/samples_per_second</td><td>▃▄▄▅█▁</td></tr><tr><td>eval/steps_per_second</td><td>▃▄▄▅█▁</td></tr><tr><td>train/epoch</td><td>▁▁▂▂▄▄▅▅▇▇██</td></tr><tr><td>train/global_step</td><td>▁▁▂▂▄▄▅▅▇▇██</td></tr><tr><td>train/learning_rate</td><td>█▇▅▄▂▁</td></tr><tr><td>train/loss</td><td>█▆▅▃▂▁</td></tr></table><br/></div><div class=\"wandb-col\"><h3>Run summary:</h3><br/><table class=\"wandb\"><tr><td>eval/accuracy</td><td>0.73971</td></tr><tr><td>eval/f1</td><td>0.74321</td></tr><tr><td>eval/loss</td><td>0.96279</td></tr><tr><td>eval/precision</td><td>0.74636</td></tr><tr><td>eval/recall</td><td>0.74066</td></tr><tr><td>eval/runtime</td><td>21.8032</td></tr><tr><td>eval/samples_per_second</td><td>318.761</td></tr><tr><td>eval/steps_per_second</td><td>39.857</td></tr><tr><td>train/epoch</td><td>3.88</td></tr><tr><td>train/global_step</td><td>3000</td></tr><tr><td>train/learning_rate</td><td>0.0</td></tr><tr><td>train/loss</td><td>0.163</td></tr></table><br/></div></div>"
      ],
      "text/plain": [
       "<IPython.core.display.HTML object>"
      ]
     },
     "metadata": {},
     "output_type": "display_data"
    },
    {
     "data": {
      "text/html": [
       " View run <strong style=\"color:#cdcd00\">morning-jazz-493</strong> at: <a href='https://wandb.ai/ericat/huggingface/runs/o512qa4s' target=\"_blank\">https://wandb.ai/ericat/huggingface/runs/o512qa4s</a><br/>Synced 5 W&B file(s), 0 media file(s), 0 artifact file(s) and 0 other file(s)"
      ],
      "text/plain": [
       "<IPython.core.display.HTML object>"
      ]
     },
     "metadata": {},
     "output_type": "display_data"
    },
    {
     "data": {
      "text/html": [
       "Find logs at: <code>.\\wandb\\run-20231206_153118-o512qa4s\\logs</code>"
      ],
      "text/plain": [
       "<IPython.core.display.HTML object>"
      ]
     },
     "metadata": {},
     "output_type": "display_data"
    },
    {
     "data": {
      "application/vnd.jupyter.widget-view+json": {
       "model_id": "298a5cefb3cd426d81e920326067450b",
       "version_major": 2,
       "version_minor": 0
      },
      "text/plain": [
       "VBox(children=(Label(value='Waiting for wandb.init()...\\r'), FloatProgress(value=0.011111111111111112, max=1.0…"
      ]
     },
     "metadata": {},
     "output_type": "display_data"
    },
    {
     "data": {
      "text/html": [
       "wandb version 0.16.1 is available!  To upgrade, please run:\n",
       " $ pip install wandb --upgrade"
      ],
      "text/plain": [
       "<IPython.core.display.HTML object>"
      ]
     },
     "metadata": {},
     "output_type": "display_data"
    },
    {
     "data": {
      "text/html": [
       "Tracking run with wandb version 0.16.0"
      ],
      "text/plain": [
       "<IPython.core.display.HTML object>"
      ]
     },
     "metadata": {},
     "output_type": "display_data"
    },
    {
     "data": {
      "text/html": [
       "Run data is saved locally in <code>D:\\Projects\\Jupyter\\Sentiment analysis\\04DEC\\wandb\\run-20231206_155112-8ep9vto5</code>"
      ],
      "text/plain": [
       "<IPython.core.display.HTML object>"
      ]
     },
     "metadata": {},
     "output_type": "display_data"
    },
    {
     "data": {
      "text/html": [
       "Syncing run <strong><a href='https://wandb.ai/ericat/huggingface/runs/8ep9vto5' target=\"_blank\">stoic-donkey-494</a></strong> to <a href='https://wandb.ai/ericat/huggingface' target=\"_blank\">Weights & Biases</a> (<a href='https://wandb.me/run' target=\"_blank\">docs</a>)<br/>"
      ],
      "text/plain": [
       "<IPython.core.display.HTML object>"
      ]
     },
     "metadata": {},
     "output_type": "display_data"
    },
    {
     "data": {
      "text/html": [
       " View project at <a href='https://wandb.ai/ericat/huggingface' target=\"_blank\">https://wandb.ai/ericat/huggingface</a>"
      ],
      "text/plain": [
       "<IPython.core.display.HTML object>"
      ]
     },
     "metadata": {},
     "output_type": "display_data"
    },
    {
     "data": {
      "text/html": [
       " View run at <a href='https://wandb.ai/ericat/huggingface/runs/8ep9vto5' target=\"_blank\">https://wandb.ai/ericat/huggingface/runs/8ep9vto5</a>"
      ],
      "text/plain": [
       "<IPython.core.display.HTML object>"
      ]
     },
     "metadata": {},
     "output_type": "display_data"
    },
    {
     "name": "stdout",
     "output_type": "stream",
     "text": [
      "{'loss': 1.105, 'learning_rate': 0.000780083776896659, 'epoch': 0.65}\n"
     ]
    },
    {
     "name": "stderr",
     "output_type": "stream",
     "text": [
      "D:\\Software\\Anaconda3\\envs\\validation\\Lib\\site-packages\\sklearn\\metrics\\_classification.py:1469: UndefinedMetricWarning: Precision and F-score are ill-defined and being set to 0.0 in labels with no predicted samples. Use `zero_division` parameter to control this behavior.\n",
      "  _warn_prf(average, modifier, msg_start, len(result))\n",
      "[I 2023-12-06 15:54:06,971] Trial 17 pruned. \n"
     ]
    },
    {
     "name": "stdout",
     "output_type": "stream",
     "text": [
      "{'eval_loss': 1.095459222793579, 'eval_accuracy': 0.3156834532374101, 'eval_f1': 0.1599591717701954, 'eval_precision': 0.10522781774580336, 'eval_recall': 0.3333333333333333, 'eval_runtime': 21.8591, 'eval_samples_per_second': 317.946, 'eval_steps_per_second': 39.755, 'epoch': 0.65}\n"
     ]
    },
    {
     "data": {
      "application/vnd.jupyter.widget-view+json": {
       "model_id": "",
       "version_major": 2,
       "version_minor": 0
      },
      "text/plain": [
       "VBox(children=(Label(value='0.001 MB of 0.001 MB uploaded\\r'), FloatProgress(value=1.0, max=1.0)))"
      ]
     },
     "metadata": {},
     "output_type": "display_data"
    },
    {
     "data": {
      "text/html": [
       "<style>\n",
       "    table.wandb td:nth-child(1) { padding: 0 10px; text-align: left ; width: auto;} td:nth-child(2) {text-align: left ; width: 100%}\n",
       "    .wandb-row { display: flex; flex-direction: row; flex-wrap: wrap; justify-content: flex-start; width: 100% }\n",
       "    .wandb-col { display: flex; flex-direction: column; flex-basis: 100%; flex: 1; padding: 10px; }\n",
       "    </style>\n",
       "<div class=\"wandb-row\"><div class=\"wandb-col\"><h3>Run history:</h3><br/><table class=\"wandb\"><tr><td>eval/accuracy</td><td>▁</td></tr><tr><td>eval/f1</td><td>▁</td></tr><tr><td>eval/loss</td><td>▁</td></tr><tr><td>eval/precision</td><td>▁</td></tr><tr><td>eval/recall</td><td>▁</td></tr><tr><td>eval/runtime</td><td>▁</td></tr><tr><td>eval/samples_per_second</td><td>▁</td></tr><tr><td>eval/steps_per_second</td><td>▁</td></tr><tr><td>train/epoch</td><td>▁▁</td></tr><tr><td>train/global_step</td><td>▁▁</td></tr><tr><td>train/learning_rate</td><td>▁</td></tr><tr><td>train/loss</td><td>▁</td></tr></table><br/></div><div class=\"wandb-col\"><h3>Run summary:</h3><br/><table class=\"wandb\"><tr><td>eval/accuracy</td><td>0.31568</td></tr><tr><td>eval/f1</td><td>0.15996</td></tr><tr><td>eval/loss</td><td>1.09546</td></tr><tr><td>eval/precision</td><td>0.10523</td></tr><tr><td>eval/recall</td><td>0.33333</td></tr><tr><td>eval/runtime</td><td>21.8591</td></tr><tr><td>eval/samples_per_second</td><td>317.946</td></tr><tr><td>eval/steps_per_second</td><td>39.755</td></tr><tr><td>train/epoch</td><td>0.65</td></tr><tr><td>train/global_step</td><td>500</td></tr><tr><td>train/learning_rate</td><td>0.00078</td></tr><tr><td>train/loss</td><td>1.105</td></tr></table><br/></div></div>"
      ],
      "text/plain": [
       "<IPython.core.display.HTML object>"
      ]
     },
     "metadata": {},
     "output_type": "display_data"
    },
    {
     "data": {
      "text/html": [
       " View run <strong style=\"color:#cdcd00\">stoic-donkey-494</strong> at: <a href='https://wandb.ai/ericat/huggingface/runs/8ep9vto5' target=\"_blank\">https://wandb.ai/ericat/huggingface/runs/8ep9vto5</a><br/>Synced 5 W&B file(s), 0 media file(s), 0 artifact file(s) and 0 other file(s)"
      ],
      "text/plain": [
       "<IPython.core.display.HTML object>"
      ]
     },
     "metadata": {},
     "output_type": "display_data"
    },
    {
     "data": {
      "text/html": [
       "Find logs at: <code>.\\wandb\\run-20231206_155112-8ep9vto5\\logs</code>"
      ],
      "text/plain": [
       "<IPython.core.display.HTML object>"
      ]
     },
     "metadata": {},
     "output_type": "display_data"
    },
    {
     "data": {
      "application/vnd.jupyter.widget-view+json": {
       "model_id": "35ce38d3bddc44078a021850869f246b",
       "version_major": 2,
       "version_minor": 0
      },
      "text/plain": [
       "VBox(children=(Label(value='Waiting for wandb.init()...\\r'), FloatProgress(value=0.011111111111111112, max=1.0…"
      ]
     },
     "metadata": {},
     "output_type": "display_data"
    },
    {
     "data": {
      "text/html": [
       "wandb version 0.16.1 is available!  To upgrade, please run:\n",
       " $ pip install wandb --upgrade"
      ],
      "text/plain": [
       "<IPython.core.display.HTML object>"
      ]
     },
     "metadata": {},
     "output_type": "display_data"
    },
    {
     "data": {
      "text/html": [
       "Tracking run with wandb version 0.16.0"
      ],
      "text/plain": [
       "<IPython.core.display.HTML object>"
      ]
     },
     "metadata": {},
     "output_type": "display_data"
    },
    {
     "data": {
      "text/html": [
       "Run data is saved locally in <code>D:\\Projects\\Jupyter\\Sentiment analysis\\04DEC\\wandb\\run-20231206_155415-dt5lthu8</code>"
      ],
      "text/plain": [
       "<IPython.core.display.HTML object>"
      ]
     },
     "metadata": {},
     "output_type": "display_data"
    },
    {
     "data": {
      "text/html": [
       "Syncing run <strong><a href='https://wandb.ai/ericat/huggingface/runs/dt5lthu8' target=\"_blank\">bright-bee-495</a></strong> to <a href='https://wandb.ai/ericat/huggingface' target=\"_blank\">Weights & Biases</a> (<a href='https://wandb.me/run' target=\"_blank\">docs</a>)<br/>"
      ],
      "text/plain": [
       "<IPython.core.display.HTML object>"
      ]
     },
     "metadata": {},
     "output_type": "display_data"
    },
    {
     "data": {
      "text/html": [
       " View project at <a href='https://wandb.ai/ericat/huggingface' target=\"_blank\">https://wandb.ai/ericat/huggingface</a>"
      ],
      "text/plain": [
       "<IPython.core.display.HTML object>"
      ]
     },
     "metadata": {},
     "output_type": "display_data"
    },
    {
     "data": {
      "text/html": [
       " View run at <a href='https://wandb.ai/ericat/huggingface/runs/dt5lthu8' target=\"_blank\">https://wandb.ai/ericat/huggingface/runs/dt5lthu8</a>"
      ],
      "text/plain": [
       "<IPython.core.display.HTML object>"
      ]
     },
     "metadata": {},
     "output_type": "display_data"
    },
    {
     "name": "stdout",
     "output_type": "stream",
     "text": [
      "{'loss': 0.7421, 'learning_rate': 7.482190781893321e-05, 'epoch': 0.65}\n",
      "{'eval_loss': 0.6364092826843262, 'eval_accuracy': 0.736546762589928, 'eval_f1': 0.740257456737471, 'eval_precision': 0.7497075315210915, 'eval_recall': 0.7349316571463387, 'eval_runtime': 22.7932, 'eval_samples_per_second': 304.916, 'eval_steps_per_second': 38.125, 'epoch': 0.65}\n",
      "{'loss': 0.5817, 'learning_rate': 6.370423949516899e-05, 'epoch': 1.29}\n",
      "{'eval_loss': 0.6351467370986938, 'eval_accuracy': 0.74431654676259, 'eval_f1': 0.7472552521903898, 'eval_precision': 0.7474122119738539, 'eval_recall': 0.7471091952387021, 'eval_runtime': 21.784, 'eval_samples_per_second': 319.042, 'eval_steps_per_second': 39.892, 'epoch': 1.29}\n",
      "{'loss': 0.504, 'learning_rate': 5.258657117140477e-05, 'epoch': 1.94}\n",
      "{'eval_loss': 0.6226815581321716, 'eval_accuracy': 0.7471942446043165, 'eval_f1': 0.7504003188767102, 'eval_precision': 0.7485470503521675, 'eval_recall': 0.7559826329380779, 'eval_runtime': 21.7937, 'eval_samples_per_second': 318.899, 'eval_steps_per_second': 39.874, 'epoch': 1.94}\n",
      "{'loss': 0.3433, 'learning_rate': 4.1468902847640545e-05, 'epoch': 2.59}\n",
      "{'eval_loss': 0.7252363562583923, 'eval_accuracy': 0.7484892086330935, 'eval_f1': 0.7513870473055416, 'eval_precision': 0.7556358829230269, 'eval_recall': 0.7482402340643901, 'eval_runtime': 22.5784, 'eval_samples_per_second': 307.816, 'eval_steps_per_second': 38.488, 'epoch': 2.59}\n",
      "{'loss': 0.2816, 'learning_rate': 3.035123452387632e-05, 'epoch': 3.23}\n",
      "{'eval_loss': 0.913764238357544, 'eval_accuracy': 0.7470503597122302, 'eval_f1': 0.7497110258450702, 'eval_precision': 0.7532918503042753, 'eval_recall': 0.7470087929294306, 'eval_runtime': 22.4598, 'eval_samples_per_second': 309.442, 'eval_steps_per_second': 38.691, 'epoch': 3.23}\n",
      "{'loss': 0.1806, 'learning_rate': 1.92335662001121e-05, 'epoch': 3.88}\n"
     ]
    },
    {
     "name": "stderr",
     "output_type": "stream",
     "text": [
      "[I 2023-12-06 16:14:05,847] Trial 18 pruned. \n"
     ]
    },
    {
     "name": "stdout",
     "output_type": "stream",
     "text": [
      "{'eval_loss': 0.8847213387489319, 'eval_accuracy': 0.7437410071942446, 'eval_f1': 0.7459370432204969, 'eval_precision': 0.7556832583144057, 'eval_recall': 0.7402112128254145, 'eval_runtime': 21.8416, 'eval_samples_per_second': 318.2, 'eval_steps_per_second': 39.786, 'epoch': 3.88}\n"
     ]
    },
    {
     "data": {
      "application/vnd.jupyter.widget-view+json": {
       "model_id": "",
       "version_major": 2,
       "version_minor": 0
      },
      "text/plain": [
       "VBox(children=(Label(value='0.001 MB of 0.001 MB uploaded\\r'), FloatProgress(value=1.0, max=1.0)))"
      ]
     },
     "metadata": {},
     "output_type": "display_data"
    },
    {
     "data": {
      "text/html": [
       "<style>\n",
       "    table.wandb td:nth-child(1) { padding: 0 10px; text-align: left ; width: auto;} td:nth-child(2) {text-align: left ; width: 100%}\n",
       "    .wandb-row { display: flex; flex-direction: row; flex-wrap: wrap; justify-content: flex-start; width: 100% }\n",
       "    .wandb-col { display: flex; flex-direction: column; flex-basis: 100%; flex: 1; padding: 10px; }\n",
       "    </style>\n",
       "<div class=\"wandb-row\"><div class=\"wandb-col\"><h3>Run history:</h3><br/><table class=\"wandb\"><tr><td>eval/accuracy</td><td>▁▆▇█▇▅</td></tr><tr><td>eval/f1</td><td>▁▅▇█▇▅</td></tr><tr><td>eval/loss</td><td>▁▁▁▃█▇</td></tr><tr><td>eval/precision</td><td>▃▁▂█▆█</td></tr><tr><td>eval/recall</td><td>▁▅█▅▅▃</td></tr><tr><td>eval/runtime</td><td>█▁▁▇▆▁</td></tr><tr><td>eval/samples_per_second</td><td>▁██▂▃█</td></tr><tr><td>eval/steps_per_second</td><td>▁██▂▃█</td></tr><tr><td>train/epoch</td><td>▁▁▂▂▄▄▅▅▇▇██</td></tr><tr><td>train/global_step</td><td>▁▁▂▂▄▄▅▅▇▇██</td></tr><tr><td>train/learning_rate</td><td>█▇▅▄▂▁</td></tr><tr><td>train/loss</td><td>█▆▅▃▂▁</td></tr></table><br/></div><div class=\"wandb-col\"><h3>Run summary:</h3><br/><table class=\"wandb\"><tr><td>eval/accuracy</td><td>0.74374</td></tr><tr><td>eval/f1</td><td>0.74594</td></tr><tr><td>eval/loss</td><td>0.88472</td></tr><tr><td>eval/precision</td><td>0.75568</td></tr><tr><td>eval/recall</td><td>0.74021</td></tr><tr><td>eval/runtime</td><td>21.8416</td></tr><tr><td>eval/samples_per_second</td><td>318.2</td></tr><tr><td>eval/steps_per_second</td><td>39.786</td></tr><tr><td>train/epoch</td><td>3.88</td></tr><tr><td>train/global_step</td><td>3000</td></tr><tr><td>train/learning_rate</td><td>2e-05</td></tr><tr><td>train/loss</td><td>0.1806</td></tr></table><br/></div></div>"
      ],
      "text/plain": [
       "<IPython.core.display.HTML object>"
      ]
     },
     "metadata": {},
     "output_type": "display_data"
    },
    {
     "data": {
      "text/html": [
       " View run <strong style=\"color:#cdcd00\">bright-bee-495</strong> at: <a href='https://wandb.ai/ericat/huggingface/runs/dt5lthu8' target=\"_blank\">https://wandb.ai/ericat/huggingface/runs/dt5lthu8</a><br/>Synced 5 W&B file(s), 0 media file(s), 0 artifact file(s) and 0 other file(s)"
      ],
      "text/plain": [
       "<IPython.core.display.HTML object>"
      ]
     },
     "metadata": {},
     "output_type": "display_data"
    },
    {
     "data": {
      "text/html": [
       "Find logs at: <code>.\\wandb\\run-20231206_155415-dt5lthu8\\logs</code>"
      ],
      "text/plain": [
       "<IPython.core.display.HTML object>"
      ]
     },
     "metadata": {},
     "output_type": "display_data"
    },
    {
     "data": {
      "application/vnd.jupyter.widget-view+json": {
       "model_id": "265ca35d95cb4c039a5b1e95e395a36a",
       "version_major": 2,
       "version_minor": 0
      },
      "text/plain": [
       "VBox(children=(Label(value='Waiting for wandb.init()...\\r'), FloatProgress(value=0.01127777777777131, max=1.0)…"
      ]
     },
     "metadata": {},
     "output_type": "display_data"
    },
    {
     "data": {
      "text/html": [
       "wandb version 0.16.1 is available!  To upgrade, please run:\n",
       " $ pip install wandb --upgrade"
      ],
      "text/plain": [
       "<IPython.core.display.HTML object>"
      ]
     },
     "metadata": {},
     "output_type": "display_data"
    },
    {
     "data": {
      "text/html": [
       "Tracking run with wandb version 0.16.0"
      ],
      "text/plain": [
       "<IPython.core.display.HTML object>"
      ]
     },
     "metadata": {},
     "output_type": "display_data"
    },
    {
     "data": {
      "text/html": [
       "Run data is saved locally in <code>D:\\Projects\\Jupyter\\Sentiment analysis\\04DEC\\wandb\\run-20231206_161415-ye2147cw</code>"
      ],
      "text/plain": [
       "<IPython.core.display.HTML object>"
      ]
     },
     "metadata": {},
     "output_type": "display_data"
    },
    {
     "data": {
      "text/html": [
       "Syncing run <strong><a href='https://wandb.ai/ericat/huggingface/runs/ye2147cw' target=\"_blank\">decent-meadow-496</a></strong> to <a href='https://wandb.ai/ericat/huggingface' target=\"_blank\">Weights & Biases</a> (<a href='https://wandb.me/run' target=\"_blank\">docs</a>)<br/>"
      ],
      "text/plain": [
       "<IPython.core.display.HTML object>"
      ]
     },
     "metadata": {},
     "output_type": "display_data"
    },
    {
     "data": {
      "text/html": [
       " View project at <a href='https://wandb.ai/ericat/huggingface' target=\"_blank\">https://wandb.ai/ericat/huggingface</a>"
      ],
      "text/plain": [
       "<IPython.core.display.HTML object>"
      ]
     },
     "metadata": {},
     "output_type": "display_data"
    },
    {
     "data": {
      "text/html": [
       " View run at <a href='https://wandb.ai/ericat/huggingface/runs/ye2147cw' target=\"_blank\">https://wandb.ai/ericat/huggingface/runs/ye2147cw</a>"
      ],
      "text/plain": [
       "<IPython.core.display.HTML object>"
      ]
     },
     "metadata": {},
     "output_type": "display_data"
    },
    {
     "name": "stdout",
     "output_type": "stream",
     "text": [
      "{'loss': 0.8014, 'learning_rate': 9.496112175299287e-06, 'epoch': 0.72}\n",
      "{'eval_loss': 0.6535943150520325, 'eval_accuracy': 0.7218705035971223, 'eval_f1': 0.725291298058206, 'eval_precision': 0.7252469903238206, 'eval_recall': 0.726515614041599, 'eval_runtime': 22.0282, 'eval_samples_per_second': 315.505, 'eval_steps_per_second': 39.449, 'epoch': 0.72}\n",
      "{'loss': 0.6248, 'learning_rate': 7.4136314351020745e-06, 'epoch': 1.44}\n",
      "{'eval_loss': 0.6254054307937622, 'eval_accuracy': 0.7369784172661871, 'eval_f1': 0.7401148562719323, 'eval_precision': 0.7418936564393902, 'eval_recall': 0.7385703966834677, 'eval_runtime': 23.1615, 'eval_samples_per_second': 300.066, 'eval_steps_per_second': 37.519, 'epoch': 1.44}\n",
      "{'loss': 0.5783, 'learning_rate': 5.331150694904863e-06, 'epoch': 2.16}\n",
      "{'eval_loss': 0.6362268328666687, 'eval_accuracy': 0.7447482014388489, 'eval_f1': 0.7471447091158109, 'eval_precision': 0.750997312209428, 'eval_recall': 0.744488289588622, 'eval_runtime': 22.6036, 'eval_samples_per_second': 307.474, 'eval_steps_per_second': 38.445, 'epoch': 2.16}\n",
      "{'loss': 0.5338, 'learning_rate': 3.2486699547076503e-06, 'epoch': 2.88}\n"
     ]
    },
    {
     "name": "stderr",
     "output_type": "stream",
     "text": [
      "[I 2023-12-06 16:28:35,754] Trial 19 pruned. \n"
     ]
    },
    {
     "name": "stdout",
     "output_type": "stream",
     "text": [
      "{'eval_loss': 0.6223668456077576, 'eval_accuracy': 0.7421582733812949, 'eval_f1': 0.7457869138809056, 'eval_precision': 0.7460240472423441, 'eval_recall': 0.7462317372049028, 'eval_runtime': 22.5607, 'eval_samples_per_second': 308.058, 'eval_steps_per_second': 38.518, 'epoch': 2.88}\n"
     ]
    },
    {
     "data": {
      "text/plain": [
       "BestRun(run_id='11', objective=3.029077467070818, hyperparameters={'learning_rate': 6.293418392166885e-05, 'num_train_epochs': 4, 'per_device_train_batch_size': 40}, run_summary=None)"
      ]
     },
     "execution_count": 42,
     "metadata": {},
     "output_type": "execute_result"
    }
   ],
   "source": [
    "trainer.hyperparameter_search(direction=\"maximize\", hp_space=my_hp_space)"
   ]
  },
  {
   "cell_type": "markdown",
   "id": "e558c6c4",
   "metadata": {},
   "source": [
    "# Trainer"
   ]
  },
  {
   "cell_type": "code",
   "execution_count": 39,
   "id": "f84293bb",
   "metadata": {},
   "outputs": [
    {
     "name": "stderr",
     "output_type": "stream",
     "text": [
      "\u001b[34m\u001b[1mwandb\u001b[0m: Currently logged in as: \u001b[33mericat\u001b[0m. Use \u001b[1m`wandb login --relogin`\u001b[0m to force relogin\n"
     ]
    },
    {
     "data": {
      "text/html": [
       "wandb version 0.16.1 is available!  To upgrade, please run:\n",
       " $ pip install wandb --upgrade"
      ],
      "text/plain": [
       "<IPython.core.display.HTML object>"
      ]
     },
     "metadata": {},
     "output_type": "display_data"
    },
    {
     "data": {
      "text/html": [
       "Tracking run with wandb version 0.16.0"
      ],
      "text/plain": [
       "<IPython.core.display.HTML object>"
      ]
     },
     "metadata": {},
     "output_type": "display_data"
    },
    {
     "data": {
      "text/html": [
       "Run data is saved locally in <code>D:\\Projects\\Jupyter\\Sentiment analysis\\04DEC\\wandb\\run-20231211_112338-kdeehi2t</code>"
      ],
      "text/plain": [
       "<IPython.core.display.HTML object>"
      ]
     },
     "metadata": {},
     "output_type": "display_data"
    },
    {
     "data": {
      "text/html": [
       "Syncing run <strong><a href='https://wandb.ai/ericat/huggingface/runs/kdeehi2t' target=\"_blank\">divine-voice-572</a></strong> to <a href='https://wandb.ai/ericat/huggingface' target=\"_blank\">Weights & Biases</a> (<a href='https://wandb.me/run' target=\"_blank\">docs</a>)<br/>"
      ],
      "text/plain": [
       "<IPython.core.display.HTML object>"
      ]
     },
     "metadata": {},
     "output_type": "display_data"
    },
    {
     "data": {
      "text/html": [
       " View project at <a href='https://wandb.ai/ericat/huggingface' target=\"_blank\">https://wandb.ai/ericat/huggingface</a>"
      ],
      "text/plain": [
       "<IPython.core.display.HTML object>"
      ]
     },
     "metadata": {},
     "output_type": "display_data"
    },
    {
     "data": {
      "text/html": [
       " View run at <a href='https://wandb.ai/ericat/huggingface/runs/kdeehi2t' target=\"_blank\">https://wandb.ai/ericat/huggingface/runs/kdeehi2t</a>"
      ],
      "text/plain": [
       "<IPython.core.display.HTML object>"
      ]
     },
     "metadata": {},
     "output_type": "display_data"
    },
    {
     "data": {
      "text/html": [
       "\n",
       "    <div>\n",
       "      \n",
       "      <progress value='2780' max='2780' style='width:300px; height:20px; vertical-align: middle;'></progress>\n",
       "      [2780/2780 26:36, Epoch 4/4]\n",
       "    </div>\n",
       "    <table border=\"1\" class=\"dataframe\">\n",
       "  <thead>\n",
       " <tr style=\"text-align: left;\">\n",
       "      <th>Step</th>\n",
       "      <th>Training Loss</th>\n",
       "      <th>Validation Loss</th>\n",
       "      <th>Accuracy</th>\n",
       "      <th>F1</th>\n",
       "      <th>Precision</th>\n",
       "      <th>Recall</th>\n",
       "    </tr>\n",
       "  </thead>\n",
       "  <tbody>\n",
       "    <tr>\n",
       "      <td>100</td>\n",
       "      <td>0.920300</td>\n",
       "      <td>0.736591</td>\n",
       "      <td>0.674532</td>\n",
       "      <td>0.675277</td>\n",
       "      <td>0.674311</td>\n",
       "      <td>0.686422</td>\n",
       "    </tr>\n",
       "    <tr>\n",
       "      <td>200</td>\n",
       "      <td>0.706800</td>\n",
       "      <td>0.673924</td>\n",
       "      <td>0.717122</td>\n",
       "      <td>0.720373</td>\n",
       "      <td>0.727924</td>\n",
       "      <td>0.715507</td>\n",
       "    </tr>\n",
       "    <tr>\n",
       "      <td>300</td>\n",
       "      <td>0.681500</td>\n",
       "      <td>0.701496</td>\n",
       "      <td>0.713669</td>\n",
       "      <td>0.715405</td>\n",
       "      <td>0.732933</td>\n",
       "      <td>0.707269</td>\n",
       "    </tr>\n",
       "    <tr>\n",
       "      <td>400</td>\n",
       "      <td>0.644500</td>\n",
       "      <td>0.656871</td>\n",
       "      <td>0.720288</td>\n",
       "      <td>0.724933</td>\n",
       "      <td>0.737455</td>\n",
       "      <td>0.720678</td>\n",
       "    </tr>\n",
       "    <tr>\n",
       "      <td>500</td>\n",
       "      <td>0.657900</td>\n",
       "      <td>0.643421</td>\n",
       "      <td>0.730216</td>\n",
       "      <td>0.734089</td>\n",
       "      <td>0.748952</td>\n",
       "      <td>0.726520</td>\n",
       "    </tr>\n",
       "    <tr>\n",
       "      <td>600</td>\n",
       "      <td>0.647800</td>\n",
       "      <td>0.619844</td>\n",
       "      <td>0.737410</td>\n",
       "      <td>0.740378</td>\n",
       "      <td>0.752397</td>\n",
       "      <td>0.733493</td>\n",
       "    </tr>\n",
       "    <tr>\n",
       "      <td>700</td>\n",
       "      <td>0.631600</td>\n",
       "      <td>0.652967</td>\n",
       "      <td>0.739424</td>\n",
       "      <td>0.742252</td>\n",
       "      <td>0.744596</td>\n",
       "      <td>0.740294</td>\n",
       "    </tr>\n",
       "    <tr>\n",
       "      <td>800</td>\n",
       "      <td>0.508900</td>\n",
       "      <td>0.640860</td>\n",
       "      <td>0.739712</td>\n",
       "      <td>0.741939</td>\n",
       "      <td>0.752621</td>\n",
       "      <td>0.735981</td>\n",
       "    </tr>\n",
       "    <tr>\n",
       "      <td>900</td>\n",
       "      <td>0.504100</td>\n",
       "      <td>0.637636</td>\n",
       "      <td>0.745180</td>\n",
       "      <td>0.747592</td>\n",
       "      <td>0.755321</td>\n",
       "      <td>0.743002</td>\n",
       "    </tr>\n",
       "    <tr>\n",
       "      <td>1000</td>\n",
       "      <td>0.485500</td>\n",
       "      <td>0.653966</td>\n",
       "      <td>0.739856</td>\n",
       "      <td>0.744403</td>\n",
       "      <td>0.750854</td>\n",
       "      <td>0.740495</td>\n",
       "    </tr>\n",
       "    <tr>\n",
       "      <td>1100</td>\n",
       "      <td>0.483000</td>\n",
       "      <td>0.665673</td>\n",
       "      <td>0.732950</td>\n",
       "      <td>0.737711</td>\n",
       "      <td>0.747452</td>\n",
       "      <td>0.734722</td>\n",
       "    </tr>\n",
       "    <tr>\n",
       "      <td>1200</td>\n",
       "      <td>0.491900</td>\n",
       "      <td>0.625446</td>\n",
       "      <td>0.747770</td>\n",
       "      <td>0.751354</td>\n",
       "      <td>0.752941</td>\n",
       "      <td>0.750000</td>\n",
       "    </tr>\n",
       "    <tr>\n",
       "      <td>1300</td>\n",
       "      <td>0.480400</td>\n",
       "      <td>0.645956</td>\n",
       "      <td>0.740432</td>\n",
       "      <td>0.744784</td>\n",
       "      <td>0.746000</td>\n",
       "      <td>0.745112</td>\n",
       "    </tr>\n",
       "    <tr>\n",
       "      <td>1400</td>\n",
       "      <td>0.476700</td>\n",
       "      <td>0.660704</td>\n",
       "      <td>0.751223</td>\n",
       "      <td>0.754699</td>\n",
       "      <td>0.760368</td>\n",
       "      <td>0.750716</td>\n",
       "    </tr>\n",
       "    <tr>\n",
       "      <td>1500</td>\n",
       "      <td>0.327500</td>\n",
       "      <td>0.699736</td>\n",
       "      <td>0.738849</td>\n",
       "      <td>0.743159</td>\n",
       "      <td>0.743614</td>\n",
       "      <td>0.744778</td>\n",
       "    </tr>\n",
       "    <tr>\n",
       "      <td>1600</td>\n",
       "      <td>0.340500</td>\n",
       "      <td>0.698348</td>\n",
       "      <td>0.743597</td>\n",
       "      <td>0.747817</td>\n",
       "      <td>0.750073</td>\n",
       "      <td>0.746866</td>\n",
       "    </tr>\n",
       "    <tr>\n",
       "      <td>1700</td>\n",
       "      <td>0.336700</td>\n",
       "      <td>0.723168</td>\n",
       "      <td>0.735683</td>\n",
       "      <td>0.739635</td>\n",
       "      <td>0.738565</td>\n",
       "      <td>0.742059</td>\n",
       "    </tr>\n",
       "    <tr>\n",
       "      <td>1800</td>\n",
       "      <td>0.312800</td>\n",
       "      <td>0.768798</td>\n",
       "      <td>0.735540</td>\n",
       "      <td>0.739077</td>\n",
       "      <td>0.738524</td>\n",
       "      <td>0.739720</td>\n",
       "    </tr>\n",
       "    <tr>\n",
       "      <td>1900</td>\n",
       "      <td>0.320800</td>\n",
       "      <td>0.772618</td>\n",
       "      <td>0.743453</td>\n",
       "      <td>0.747419</td>\n",
       "      <td>0.748161</td>\n",
       "      <td>0.747245</td>\n",
       "    </tr>\n",
       "    <tr>\n",
       "      <td>2000</td>\n",
       "      <td>0.323700</td>\n",
       "      <td>0.741541</td>\n",
       "      <td>0.744604</td>\n",
       "      <td>0.748392</td>\n",
       "      <td>0.752108</td>\n",
       "      <td>0.745469</td>\n",
       "    </tr>\n",
       "    <tr>\n",
       "      <td>2100</td>\n",
       "      <td>0.320000</td>\n",
       "      <td>0.776227</td>\n",
       "      <td>0.744173</td>\n",
       "      <td>0.748307</td>\n",
       "      <td>0.757603</td>\n",
       "      <td>0.743201</td>\n",
       "    </tr>\n",
       "    <tr>\n",
       "      <td>2200</td>\n",
       "      <td>0.195400</td>\n",
       "      <td>0.880402</td>\n",
       "      <td>0.739712</td>\n",
       "      <td>0.743457</td>\n",
       "      <td>0.743540</td>\n",
       "      <td>0.743387</td>\n",
       "    </tr>\n",
       "    <tr>\n",
       "      <td>2300</td>\n",
       "      <td>0.212600</td>\n",
       "      <td>0.895577</td>\n",
       "      <td>0.742590</td>\n",
       "      <td>0.746190</td>\n",
       "      <td>0.748101</td>\n",
       "      <td>0.744724</td>\n",
       "    </tr>\n",
       "    <tr>\n",
       "      <td>2400</td>\n",
       "      <td>0.206000</td>\n",
       "      <td>0.903002</td>\n",
       "      <td>0.741583</td>\n",
       "      <td>0.745364</td>\n",
       "      <td>0.745317</td>\n",
       "      <td>0.746020</td>\n",
       "    </tr>\n",
       "    <tr>\n",
       "      <td>2500</td>\n",
       "      <td>0.204900</td>\n",
       "      <td>0.870843</td>\n",
       "      <td>0.742734</td>\n",
       "      <td>0.746475</td>\n",
       "      <td>0.749900</td>\n",
       "      <td>0.743760</td>\n",
       "    </tr>\n",
       "    <tr>\n",
       "      <td>2600</td>\n",
       "      <td>0.203500</td>\n",
       "      <td>0.883843</td>\n",
       "      <td>0.744173</td>\n",
       "      <td>0.747905</td>\n",
       "      <td>0.752990</td>\n",
       "      <td>0.744216</td>\n",
       "    </tr>\n",
       "    <tr>\n",
       "      <td>2700</td>\n",
       "      <td>0.208000</td>\n",
       "      <td>0.883591</td>\n",
       "      <td>0.744748</td>\n",
       "      <td>0.748533</td>\n",
       "      <td>0.751025</td>\n",
       "      <td>0.746779</td>\n",
       "    </tr>\n",
       "  </tbody>\n",
       "</table><p>"
      ],
      "text/plain": [
       "<IPython.core.display.HTML object>"
      ]
     },
     "metadata": {},
     "output_type": "display_data"
    }
   ],
   "source": [
    "training_args = TrainingArguments(\n",
    "    output_dir='./yresults',          # output directory\n",
    "    learning_rate= 6.293418392166885e-05,\n",
    "    num_train_epochs=4,              # total number of training epochs\n",
    "    per_device_train_batch_size=40,  # batch size per device during training\n",
    "    per_device_eval_batch_size=40,   # batch size for evaluation\n",
    "    logging_dir='./logs',            # directory for storing logs\n",
    "    logging_steps=100,\n",
    "    seed=42,\n",
    "    do_train=True,\n",
    "    do_eval=True,\n",
    "    no_cuda=False,\n",
    "    load_best_model_at_end=True,\n",
    "    eval_steps=100,\n",
    "    evaluation_strategy=\"steps\"\n",
    ")\n",
    "\n",
    "trainer = Trainer(\n",
    "    model=model,                         # the instantiated 🤗 Transformers model to be trained\n",
    "    args=training_args,                  # training arguments, defined above\n",
    "    train_dataset=train_dataset,         # training dataset\n",
    "    eval_dataset=validation_dataset,            # evaluation dataset\n",
    "    compute_metrics=compute_metrics\n",
    ")\n",
    "\n",
    "train_out = trainer.train()"
   ]
  },
  {
   "cell_type": "code",
   "execution_count": 40,
   "id": "3df7f807",
   "metadata": {},
   "outputs": [
    {
     "data": {
      "text/plain": [
       "TrainOutput(global_step=2780, training_loss=0.4313568255884184, metrics={'train_runtime': 1637.9527, 'train_samples_per_second': 67.885, 'train_steps_per_second': 1.697, 'total_flos': 7364788833890304.0, 'train_loss': 0.4313568255884184, 'epoch': 4.0})"
      ]
     },
     "execution_count": 40,
     "metadata": {},
     "output_type": "execute_result"
    }
   ],
   "source": [
    "train_out"
   ]
  },
  {
   "cell_type": "markdown",
   "id": "63116b56",
   "metadata": {},
   "source": [
    "# Confusion matrix"
   ]
  },
  {
   "cell_type": "code",
   "execution_count": 51,
   "id": "e6146332",
   "metadata": {},
   "outputs": [],
   "source": [
    "def plot_confusion_matrix(y_preds, y_true, labels):\n",
    "#     cm = confusion_matrix(y_true, y_preds)\n",
    "    cm = confusion_matrix(y_true, y_preds, normalize=\"true\")\n",
    "    fig, ax = plt.subplots(figsize=(10, 10))\n",
    "    disp = ConfusionMatrixDisplay(confusion_matrix=cm, display_labels=labels)\n",
    "    disp.plot(cmap=\"Blues\", values_format=\".2f\", ax=ax, colorbar=False)\n",
    "    plt.title(\"confusion matrix\")\n",
    "    plt.show()"
   ]
  },
  {
   "cell_type": "code",
   "execution_count": 52,
   "id": "a7efd914",
   "metadata": {},
   "outputs": [
    {
     "data": {
      "text/html": [],
      "text/plain": [
       "<IPython.core.display.HTML object>"
      ]
     },
     "metadata": {},
     "output_type": "display_data"
    }
   ],
   "source": [
    "y_valid = np.array(test_dataset[\"labels\"])\n",
    "preds_output = trainer.predict(test_dataset)"
   ]
  },
  {
   "cell_type": "code",
   "execution_count": 53,
   "id": "0301a327",
   "metadata": {},
   "outputs": [
    {
     "data": {
      "text/plain": [
       "{'test_loss': 0.8558868169784546,\n",
       " 'test_accuracy': 0.592,\n",
       " 'test_f1': 0.5912377212142608,\n",
       " 'test_precision': 0.6220190408390976,\n",
       " 'test_recall': 0.5884544967809445,\n",
       " 'test_runtime': 2.994,\n",
       " 'test_samples_per_second': 333.999,\n",
       " 'test_steps_per_second': 8.35}"
      ]
     },
     "execution_count": 53,
     "metadata": {},
     "output_type": "execute_result"
    }
   ],
   "source": [
    "preds_output.metrics"
   ]
  },
  {
   "cell_type": "code",
   "execution_count": 54,
   "id": "208b740d",
   "metadata": {},
   "outputs": [],
   "source": [
    "y_preds = np.argmax(preds_output.predictions, axis=1)"
   ]
  },
  {
   "cell_type": "code",
   "execution_count": 55,
   "id": "06b287f4",
   "metadata": {},
   "outputs": [
    {
     "data": {
      "image/png": "[encoded data removed]",
      "text/plain": [
       "<Figure size 1000x1000 with 1 Axes>"
      ]
     },
     "metadata": {},
     "output_type": "display_data"
    }
   ],
   "source": [
    "labels = train_dataset.features[\"label\"].names\n",
    "plot_confusion_matrix(y_preds, y_valid, labels)"
   ]
  },
  {
   "cell_type": "markdown",
   "id": "0c73cb3f",
   "metadata": {},
   "source": [
    "## Validation"
   ]
  },
  {
   "cell_type": "code",
   "execution_count": 56,
   "id": "02d4549d",
   "metadata": {},
   "outputs": [
    {
     "data": {
      "text/html": [],
      "text/plain": [
       "<IPython.core.display.HTML object>"
      ]
     },
     "metadata": {},
     "output_type": "display_data"
    }
   ],
   "source": [
    "y_valid = np.array(validation_dataset[\"labels\"])\n",
    "preds_output = trainer.predict(validation_dataset)"
   ]
  },
  {
   "cell_type": "code",
   "execution_count": 57,
   "id": "66a43879",
   "metadata": {},
   "outputs": [
    {
     "data": {
      "text/plain": [
       "{'test_loss': 0.6434211730957031,\n",
       " 'test_accuracy': 0.7302158273381295,\n",
       " 'test_f1': 0.7340885825764073,\n",
       " 'test_precision': 0.7489523928009917,\n",
       " 'test_recall': 0.7265196625078209,\n",
       " 'test_runtime': 19.6369,\n",
       " 'test_samples_per_second': 353.926,\n",
       " 'test_steps_per_second': 8.861}"
      ]
     },
     "execution_count": 57,
     "metadata": {},
     "output_type": "execute_result"
    }
   ],
   "source": [
    "preds_output.metrics"
   ]
  },
  {
   "cell_type": "code",
   "execution_count": 58,
   "id": "43db0864",
   "metadata": {},
   "outputs": [],
   "source": [
    "y_preds = np.argmax(preds_output.predictions, axis=1)"
   ]
  },
  {
   "cell_type": "code",
   "execution_count": 59,
   "id": "2204d70a",
   "metadata": {},
   "outputs": [
    {
     "data": {
      "image/png": "[encoded data removed]",
      "text/plain": [
       "<Figure size 1000x1000 with 1 Axes>"
      ]
     },
     "metadata": {},
     "output_type": "display_data"
    }
   ],
   "source": [
    "labels = train_dataset.features[\"label\"].names\n",
    "plot_confusion_matrix(y_preds, y_valid, labels)"
   ]
  },
  {
   "cell_type": "code",
   "execution_count": null,
   "id": "34cfd0da",
   "metadata": {},
   "outputs": [],
   "source": []
  },
  {
   "cell_type": "code",
   "execution_count": 60,
   "id": "310e9f92",
   "metadata": {},
   "outputs": [
    {
     "data": {
      "application/javascript": [
       "$(document).ready(\n",
       "    function() {\n",
       "        function appendUniqueDiv(){\n",
       "            // append a div with our uuid so we can check that it's already\n",
       "            // been sent and avoid duplicates on page reload\n",
       "            var notifiedDiv = document.createElement(\"div\")\n",
       "            notifiedDiv.id = \"1465e1ac-2696-4e89-bcff-1cd0ae46017d\"\n",
       "            element.append(notifiedDiv)\n",
       "        }\n",
       "\n",
       "        // only send notifications if the pageload is complete; this will\n",
       "        // help stop extra notifications when a saved notebook is loaded,\n",
       "        // which during testing gives us state \"interactive\", not \"complete\"\n",
       "        if (document.readyState === 'complete') {\n",
       "            // check for the div that signifies that the notification\n",
       "            // was already sent\n",
       "            if (document.getElementById(\"1465e1ac-2696-4e89-bcff-1cd0ae46017d\") === null) {\n",
       "                var notificationPayload = {\"requireInteraction\": false, \"icon\": \"/static/base/images/favicon.ico\", \"body\": \"Cell execution has finished!\"};\n",
       "                if (Notification.permission !== 'denied') {\n",
       "                    if (Notification.permission !== 'granted') { \n",
       "                        Notification.requestPermission(function (permission) {\n",
       "                            if(!('permission' in Notification)) {\n",
       "                                Notification.permission = permission\n",
       "                            }\n",
       "                        })\n",
       "                    }\n",
       "                    if (Notification.permission === 'granted') {\n",
       "                    var notification = new Notification(\"Jupyter Notebook\", notificationPayload)\n",
       "                    appendUniqueDiv()\n",
       "                    notification.onclick = function () {\n",
       "                        window.focus();\n",
       "                        this.close();\n",
       "                        };\n",
       "                    } \n",
       "                }     \n",
       "            }\n",
       "        }\n",
       "    }\n",
       ")\n"
      ],
      "text/plain": [
       "<IPython.core.display.Javascript object>"
      ]
     },
     "metadata": {},
     "output_type": "display_data"
    }
   ],
   "source": [
    "%%notify\n",
    "import time\n",
    "time.sleep(1)"
   ]
  },
  {
   "cell_type": "code",
   "execution_count": null,
   "id": "713a0e13",
   "metadata": {},
   "outputs": [],
   "source": []
  }
 ],
 "metadata": {
  "kernelspec": {
   "display_name": "Python 3 (ipykernel)",
   "language": "python",
   "name": "python3"
  },
  "language_info": {
   "codemirror_mode": {
    "name": "ipython",
    "version": 3
   },
   "file_extension": ".py",
   "mimetype": "text/x-python",
   "name": "python",
   "nbconvert_exporter": "python",
   "pygments_lexer": "ipython3",
   "version": "3.10.4"
  },
  "toc": {
   "base_numbering": 1,
   "nav_menu": {},
   "number_sections": true,
   "sideBar": true,
   "skip_h1_title": false,
   "title_cell": "Table of Contents",
   "title_sidebar": "Contents",
   "toc_cell": false,
   "toc_position": {
    "height": "calc(100% - 180px)",
    "left": "10px",
    "top": "150px",
    "width": "336.797px"
   },
   "toc_section_display": true,
   "toc_window_display": true
  }
 },
 "nbformat": 4,
 "nbformat_minor": 5
}

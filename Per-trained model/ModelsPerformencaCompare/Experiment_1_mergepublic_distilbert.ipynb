{
 "cells": [
  {
   "cell_type": "markdown",
   "id": "ca3c73ab",
   "metadata": {},
   "source": [
    "# Import"
   ]
  },
  {
   "cell_type": "code",
   "execution_count": 1,
   "id": "23bdad1b",
   "metadata": {},
   "outputs": [
    {
     "ename": "ModuleNotFoundError",
     "evalue": "No module named 'jupyternotify'",
     "output_type": "error",
     "traceback": [
      "\u001b[1;31m---------------------------------------------------------------------------\u001b[0m",
      "\u001b[1;31mModuleNotFoundError\u001b[0m                       Traceback (most recent call last)",
      "Cell \u001b[1;32mIn[1], line 1\u001b[0m\n\u001b[1;32m----> 1\u001b[0m \u001b[38;5;28;01mimport\u001b[39;00m \u001b[38;5;21;01mjupyternotify\u001b[39;00m\n\u001b[0;32m      2\u001b[0m ip \u001b[38;5;241m=\u001b[39m get_ipython()\n\u001b[0;32m      3\u001b[0m ip\u001b[38;5;241m.\u001b[39mregister_magics(jupyternotify\u001b[38;5;241m.\u001b[39mJupyterNotifyMagics)\n",
      "\u001b[1;31mModuleNotFoundError\u001b[0m: No module named 'jupyternotify'"
     ]
    }
   ],
   "source": [
    "import jupyternotify\n",
    "ip = get_ipython()\n",
    "ip.register_magics(jupyternotify.JupyterNotifyMagics)"
   ]
  },
  {
   "cell_type": "code",
   "execution_count": 2,
   "id": "66eb9419",
   "metadata": {},
   "outputs": [],
   "source": [
    "import os\n",
    "import torch\n",
    "from transformers import AutoModelForSequenceClassification, AutoTokenizer\n",
    "from sklearn.metrics import accuracy_score, precision_recall_fscore_support\n",
    "from transformers import Trainer, TrainingArguments\n",
    "from transformers import pipeline\n",
    "from datasets import concatenate_datasets, load_dataset\n",
    "from huggingface_hub import hf_hub_download\n",
    "import pandas as pd\n",
    "import matplotlib.pyplot as plt\n",
    "import numpy as np\n",
    "import datasets\n",
    "from datasets import Dataset, Value, ClassLabel, Features\n",
    "from sklearn.metrics import ConfusionMatrixDisplay, confusion_matrix\n",
    "# os.environ[\"CUDA_VISIBLE_DEVICES\"] = \"2\" \n",
    "from transformers import DataCollatorWithPadding\n",
    "import optuna\n",
    "from huggingface_hub import notebook_login"
   ]
  },
  {
   "cell_type": "markdown",
   "id": "6540e4ff",
   "metadata": {},
   "source": [
    "# Datasets"
   ]
  },
  {
   "cell_type": "code",
   "execution_count": 3,
   "id": "79ddbd09",
   "metadata": {},
   "outputs": [],
   "source": [
    "# lables value\n",
    "\n",
    "# 2 = positive\n",
    "# 1 = neutral\n",
    "# 0 = negative"
   ]
  },
  {
   "cell_type": "code",
   "execution_count": 4,
   "id": "25ed2842",
   "metadata": {},
   "outputs": [
    {
     "data": {
      "text/plain": [
       "DatasetDict({\n",
       "    train: Dataset({\n",
       "        features: ['text', 'label'],\n",
       "        num_rows: 1839\n",
       "    })\n",
       "    validation: Dataset({\n",
       "        features: ['text', 'label'],\n",
       "        num_rows: 324\n",
       "    })\n",
       "    test: Dataset({\n",
       "        features: ['text', 'label'],\n",
       "        num_rows: 870\n",
       "    })\n",
       "})"
      ]
     },
     "execution_count": 4,
     "metadata": {},
     "output_type": "execute_result"
    }
   ],
   "source": [
    "dataset_tweet= load_dataset(\"cardiffnlp/tweet_sentiment_multilingual\", \"english\")\n",
    "dataset_tweet"
   ]
  },
  {
   "cell_type": "code",
   "execution_count": 5,
   "id": "669f5dd3",
   "metadata": {},
   "outputs": [
    {
     "data": {
      "text/plain": [
       "Dataset({\n",
       "    features: ['text', 'label'],\n",
       "    num_rows: 3033\n",
       "})"
      ]
     },
     "execution_count": 5,
     "metadata": {},
     "output_type": "execute_result"
    }
   ],
   "source": [
    "dataset_tweet_cc = concatenate_datasets([dataset_tweet['train'], dataset_tweet['validation'],dataset_tweet['test']])\n",
    "dataset_tweet_cc"
   ]
  },
  {
   "cell_type": "code",
   "execution_count": 6,
   "id": "e5b85ee6",
   "metadata": {},
   "outputs": [],
   "source": [
    "dataset_mteb = load_dataset(\"mteb/tweet_sentiment_extraction\")"
   ]
  },
  {
   "cell_type": "code",
   "execution_count": 7,
   "id": "674dab85",
   "metadata": {},
   "outputs": [
    {
     "data": {
      "text/plain": [
       "DatasetDict({\n",
       "    train: Dataset({\n",
       "        features: ['id', 'text', 'label', 'label_text'],\n",
       "        num_rows: 27481\n",
       "    })\n",
       "    test: Dataset({\n",
       "        features: ['id', 'text', 'label', 'label_text'],\n",
       "        num_rows: 3534\n",
       "    })\n",
       "})"
      ]
     },
     "execution_count": 7,
     "metadata": {},
     "output_type": "execute_result"
    }
   ],
   "source": [
    "dataset_mteb"
   ]
  },
  {
   "cell_type": "code",
   "execution_count": 8,
   "id": "d92f57db",
   "metadata": {},
   "outputs": [
    {
     "data": {
      "text/plain": [
       "Dataset({\n",
       "    features: ['id', 'text', 'label', 'label_text'],\n",
       "    num_rows: 31015\n",
       "})"
      ]
     },
     "execution_count": 8,
     "metadata": {},
     "output_type": "execute_result"
    }
   ],
   "source": [
    "dataset_mteb_cc = concatenate_datasets([dataset_mteb['train'], dataset_mteb['test']])\n",
    "dataset_mteb_cc"
   ]
  },
  {
   "cell_type": "code",
   "execution_count": 9,
   "id": "e31d2c61",
   "metadata": {},
   "outputs": [
    {
     "data": {
      "text/plain": [
       "Dataset({\n",
       "    features: ['text', 'label'],\n",
       "    num_rows: 31015\n",
       "})"
      ]
     },
     "execution_count": 9,
     "metadata": {},
     "output_type": "execute_result"
    }
   ],
   "source": [
    "dataset_mteb_cc=dataset_mteb_cc.remove_columns('label_text')\n",
    "dataset_mteb_cc=dataset_mteb_cc.remove_columns('id')\n",
    "\n",
    "dataset_mteb_cc"
   ]
  },
  {
   "cell_type": "code",
   "execution_count": 10,
   "id": "54c9787d",
   "metadata": {},
   "outputs": [
    {
     "data": {
      "text/plain": [
       "{'text': Value(dtype='string', id=None),\n",
       " 'label': ClassLabel(names=['negative', 'neutral', 'positive'], id=None)}"
      ]
     },
     "execution_count": 10,
     "metadata": {},
     "output_type": "execute_result"
    }
   ],
   "source": [
    "dataset_tweet_cc.features"
   ]
  },
  {
   "cell_type": "code",
   "execution_count": 11,
   "id": "0b751c6d",
   "metadata": {},
   "outputs": [
    {
     "data": {
      "text/plain": [
       "{'text': Value(dtype='string', id=None),\n",
       " 'label': Value(dtype='int64', id=None)}"
      ]
     },
     "execution_count": 11,
     "metadata": {},
     "output_type": "execute_result"
    }
   ],
   "source": [
    "dataset_mteb_cc.features"
   ]
  },
  {
   "cell_type": "code",
   "execution_count": 12,
   "id": "74f83c14",
   "metadata": {},
   "outputs": [],
   "source": [
    "features = dataset_mteb_cc.features.copy()\n",
    "features[\"label\"] = ClassLabel(names=['negative', 'neutral', 'positive'])\n",
    "def adjust_labels(batch):\n",
    "    batch[\"label\"] = [dataset_mteb_cc for dataset_mteb_cc in batch[\"label\"]]\n",
    "    return batch\n",
    "label_dataset = dataset_mteb_cc.map(adjust_labels, batched=True, features=features)"
   ]
  },
  {
   "cell_type": "code",
   "execution_count": 13,
   "id": "50b9eecb",
   "metadata": {},
   "outputs": [
    {
     "data": {
      "text/plain": [
       "{'text': Value(dtype='string', id=None),\n",
       " 'label': ClassLabel(names=['negative', 'neutral', 'positive'], id=None)}"
      ]
     },
     "execution_count": 13,
     "metadata": {},
     "output_type": "execute_result"
    }
   ],
   "source": [
    "label_dataset.features"
   ]
  },
  {
   "cell_type": "code",
   "execution_count": 14,
   "id": "fd3ccea7",
   "metadata": {},
   "outputs": [
    {
     "data": {
      "text/plain": [
       "Dataset({\n",
       "    features: ['text', 'label'],\n",
       "    num_rows: 34048\n",
       "})"
      ]
     },
     "execution_count": 14,
     "metadata": {},
     "output_type": "execute_result"
    }
   ],
   "source": [
    "dataset_cc = concatenate_datasets([label_dataset, dataset_tweet_cc])\n",
    "dataset_cc"
   ]
  },
  {
   "cell_type": "markdown",
   "id": "c9419872",
   "metadata": {},
   "source": [
    "## split "
   ]
  },
  {
   "cell_type": "code",
   "execution_count": 15,
   "id": "b701a5be",
   "metadata": {},
   "outputs": [
    {
     "data": {
      "text/plain": [
       "DatasetDict({\n",
       "    train: Dataset({\n",
       "        features: ['text', 'label'],\n",
       "        num_rows: 27238\n",
       "    })\n",
       "    test: Dataset({\n",
       "        features: ['text', 'label'],\n",
       "        num_rows: 6810\n",
       "    })\n",
       "})"
      ]
     },
     "execution_count": 15,
     "metadata": {},
     "output_type": "execute_result"
    }
   ],
   "source": [
    "ds = dataset_cc.train_test_split(test_size=0.2, stratify_by_column=\"label\")\n",
    "ds"
   ]
  },
  {
   "cell_type": "code",
   "execution_count": 16,
   "id": "f7de3cb2",
   "metadata": {},
   "outputs": [
    {
     "name": "stdout",
     "output_type": "stream",
     "text": [
      "Dataset({\n",
      "    features: ['text', 'label'],\n",
      "    num_rows: 27238\n",
      "})\n",
      "Dataset({\n",
      "    features: ['text', 'label'],\n",
      "    num_rows: 6810\n",
      "})\n"
     ]
    }
   ],
   "source": [
    "train_dataset = ds['train']\n",
    "validation_dataset = ds['test']\n",
    "print(train_dataset)\n",
    "print(validation_dataset)"
   ]
  },
  {
   "cell_type": "markdown",
   "id": "2c33e9bf",
   "metadata": {},
   "source": [
    "## test dataset"
   ]
  },
  {
   "cell_type": "code",
   "execution_count": 17,
   "id": "b065ed44",
   "metadata": {},
   "outputs": [
    {
     "data": {
      "application/vnd.jupyter.widget-view+json": {
       "model_id": "9eb2fd6f58d9439db3a8b79ef998e84e",
       "version_major": 2,
       "version_minor": 0
      },
      "text/plain": [
       "VBox(children=(HTML(value='<center> <img\\nsrc=https://huggingface.co/front/assets/huggingface_logo-noborder.sv…"
      ]
     },
     "metadata": {},
     "output_type": "display_data"
    }
   ],
   "source": [
    "notebook_login()"
   ]
  },
  {
   "cell_type": "code",
   "execution_count": 18,
   "id": "f3e59e1a",
   "metadata": {},
   "outputs": [
    {
     "name": "stdout",
     "output_type": "stream",
     "text": [
      "DatasetDict({\n",
      "    test: Dataset({\n",
      "        features: ['sequence', 'labels', 'labels_five', 'labels_three', 'labels_three_2p'],\n",
      "        num_rows: 1700\n",
      "    })\n",
      "})\n"
     ]
    }
   ],
   "source": [
    "raw_dataset=load_dataset(\"HFFErica/sentimentanalysis\")\n",
    "print(raw_dataset)"
   ]
  },
  {
   "cell_type": "code",
   "execution_count": 19,
   "id": "43f02fff",
   "metadata": {},
   "outputs": [],
   "source": [
    "features = raw_dataset[\"test\"].features.copy()\n",
    "features[\"labels_three_2p\"] = ClassLabel(names=['negative', 'neutral', 'positive'])\n",
    "def adjust_labels(batch):\n",
    "    batch[\"labels_three_2p\"] = [test for test in batch[\"labels_three_2p\"]]\n",
    "    return batch\n",
    "label_dataset = raw_dataset.map(adjust_labels, batched=True, features=features)"
   ]
  },
  {
   "cell_type": "code",
   "execution_count": 20,
   "id": "6a9494ad",
   "metadata": {},
   "outputs": [
    {
     "data": {
      "text/plain": [
       "{'sequence': Value(dtype='string', id=None),\n",
       " 'labels': Value(dtype='string', id=None),\n",
       " 'labels_five': Value(dtype='int64', id=None),\n",
       " 'labels_three': Value(dtype='int64', id=None),\n",
       " 'labels_three_2p': ClassLabel(names=['negative', 'neutral', 'positive'], id=None)}"
      ]
     },
     "execution_count": 20,
     "metadata": {},
     "output_type": "execute_result"
    }
   ],
   "source": [
    "label_dataset[\"test\"].features"
   ]
  },
  {
   "cell_type": "code",
   "execution_count": 21,
   "id": "39c5af60",
   "metadata": {},
   "outputs": [
    {
     "data": {
      "text/plain": [
       "DatasetDict({\n",
       "    train: Dataset({\n",
       "        features: ['sequence', 'labels', 'labels_five', 'labels_three', 'labels_three_2p'],\n",
       "        num_rows: 1000\n",
       "    })\n",
       "    test: Dataset({\n",
       "        features: ['sequence', 'labels', 'labels_five', 'labels_three', 'labels_three_2p'],\n",
       "        num_rows: 700\n",
       "    })\n",
       "})"
      ]
     },
     "execution_count": 21,
     "metadata": {},
     "output_type": "execute_result"
    }
   ],
   "source": [
    "label_dataset_split = label_dataset['test'].train_test_split(test_size=0.4112, stratify_by_column=\"labels_three_2p\")\n",
    "label_dataset_split"
   ]
  },
  {
   "cell_type": "markdown",
   "id": "910db8c7",
   "metadata": {},
   "source": [
    "### test dataset groups"
   ]
  },
  {
   "cell_type": "code",
   "execution_count": 22,
   "id": "fba4b98d",
   "metadata": {},
   "outputs": [
    {
     "data": {
      "text/plain": [
       "Dataset({\n",
       "    features: ['sequence', 'labels', 'labels_five', 'labels_three', 'labels_three_2p'],\n",
       "    num_rows: 1000\n",
       "})"
      ]
     },
     "execution_count": 22,
     "metadata": {},
     "output_type": "execute_result"
    }
   ],
   "source": [
    "test_dataset=label_dataset_split['train']\n",
    "test_dataset"
   ]
  },
  {
   "cell_type": "code",
   "execution_count": 23,
   "id": "47260042",
   "metadata": {},
   "outputs": [
    {
     "data": {
      "text/plain": [
       "Dataset({\n",
       "    features: ['sequence', 'labels', 'labels_five', 'labels_three', 'labels_three_2p'],\n",
       "    num_rows: 700\n",
       "})"
      ]
     },
     "execution_count": 23,
     "metadata": {},
     "output_type": "execute_result"
    }
   ],
   "source": [
    "pretrain_test_dataset=label_dataset_split['test']\n",
    "pretrain_test_dataset"
   ]
  },
  {
   "cell_type": "code",
   "execution_count": 24,
   "id": "6f11a6a0",
   "metadata": {},
   "outputs": [
    {
     "data": {
      "text/plain": [
       "{'sequence': Value(dtype='string', id=None),\n",
       " 'labels': Value(dtype='string', id=None),\n",
       " 'labels_five': Value(dtype='int64', id=None),\n",
       " 'labels_three': Value(dtype='int64', id=None),\n",
       " 'labels_three_2p': ClassLabel(names=['negative', 'neutral', 'positive'], id=None)}"
      ]
     },
     "execution_count": 24,
     "metadata": {},
     "output_type": "execute_result"
    }
   ],
   "source": [
    "test_dataset.features"
   ]
  },
  {
   "cell_type": "markdown",
   "id": "e901e900",
   "metadata": {},
   "source": [
    "## label balance"
   ]
  },
  {
   "cell_type": "code",
   "execution_count": 25,
   "id": "bd346083",
   "metadata": {},
   "outputs": [
    {
     "data": {
      "text/plain": [
       "<Axes: ylabel='count'>"
      ]
     },
     "execution_count": 25,
     "metadata": {},
     "output_type": "execute_result"
    },
    {
     "data": {
      "image/png": "[encoded data removed]",
      "text/plain": [
       "<Figure size 640x480 with 1 Axes>"
      ]
     },
     "metadata": {},
     "output_type": "display_data"
    }
   ],
   "source": [
    "df_train = train_dataset.to_pandas()\n",
    "df_train.label.value_counts().plot(kind = 'pie', autopct=\"%.2f\")"
   ]
  },
  {
   "cell_type": "code",
   "execution_count": 26,
   "id": "be32366f",
   "metadata": {},
   "outputs": [
    {
     "data": {
      "text/plain": [
       "<Axes: ylabel='count'>"
      ]
     },
     "execution_count": 26,
     "metadata": {},
     "output_type": "execute_result"
    },
    {
     "data": {
      "image/png": "[encoded data removed]",
      "text/plain": [
       "<Figure size 640x480 with 1 Axes>"
      ]
     },
     "metadata": {},
     "output_type": "display_data"
    }
   ],
   "source": [
    "df_validation = validation_dataset.to_pandas()\n",
    "df_validation.label.value_counts().plot(kind = 'pie', autopct=\"%.2f\")"
   ]
  },
  {
   "cell_type": "code",
   "execution_count": 27,
   "id": "71f7b397",
   "metadata": {},
   "outputs": [
    {
     "data": {
      "text/plain": [
       "<Axes: ylabel='count'>"
      ]
     },
     "execution_count": 27,
     "metadata": {},
     "output_type": "execute_result"
    },
    {
     "data": {
      "image/png": "[encoded data removed]",
      "text/plain": [
       "<Figure size 640x480 with 1 Axes>"
      ]
     },
     "metadata": {},
     "output_type": "display_data"
    }
   ],
   "source": [
    "df_test = test_dataset.to_pandas()\n",
    "df_test.labels_three_2p.value_counts().plot(kind = 'pie', autopct=\"%.2f\")"
   ]
  },
  {
   "cell_type": "code",
   "execution_count": 28,
   "id": "3a1107be",
   "metadata": {},
   "outputs": [
    {
     "data": {
      "text/plain": [
       "<Axes: ylabel='count'>"
      ]
     },
     "execution_count": 28,
     "metadata": {},
     "output_type": "execute_result"
    },
    {
     "data": {
      "image/png": "[encoded data removed]",
      "text/plain": [
       "<Figure size 640x480 with 1 Axes>"
      ]
     },
     "metadata": {},
     "output_type": "display_data"
    }
   ],
   "source": [
    "df_pretest = pretrain_test_dataset.to_pandas()\n",
    "df_pretest.labels_three_2p.value_counts().plot(kind = 'pie', autopct=\"%.2f\")"
   ]
  },
  {
   "cell_type": "markdown",
   "id": "75e04e5f",
   "metadata": {},
   "source": [
    "## Map"
   ]
  },
  {
   "cell_type": "code",
   "execution_count": 29,
   "id": "f15222ae",
   "metadata": {},
   "outputs": [
    {
     "name": "stdout",
     "output_type": "stream",
     "text": [
      "Dataset({\n",
      "    features: ['text', 'label'],\n",
      "    num_rows: 27238\n",
      "})\n",
      "Dataset({\n",
      "    features: ['text', 'label'],\n",
      "    num_rows: 6810\n",
      "})\n",
      "Dataset({\n",
      "    features: ['sequence', 'labels', 'labels_five', 'labels_three', 'labels_three_2p'],\n",
      "    num_rows: 1000\n",
      "})\n",
      "Dataset({\n",
      "    features: ['sequence', 'labels', 'labels_five', 'labels_three', 'labels_three_2p'],\n",
      "    num_rows: 700\n",
      "})\n"
     ]
    }
   ],
   "source": [
    "print(train_dataset)\n",
    "print(validation_dataset)\n",
    "print(test_dataset)\n",
    "print(pretrain_test_dataset)"
   ]
  },
  {
   "cell_type": "code",
   "execution_count": 30,
   "id": "2f3939cd",
   "metadata": {},
   "outputs": [
    {
     "data": {
      "application/vnd.jupyter.widget-view+json": {
       "model_id": "002e23c0ffb54c22b09b13d9f3d3fd70",
       "version_major": 2,
       "version_minor": 0
      },
      "text/plain": [
       "Map:   0%|          | 0/27238 [00:00<?, ? examples/s]"
      ]
     },
     "metadata": {},
     "output_type": "display_data"
    },
    {
     "data": {
      "application/vnd.jupyter.widget-view+json": {
       "model_id": "c3882ea0acef45949a21b95dd1aedcc2",
       "version_major": 2,
       "version_minor": 0
      },
      "text/plain": [
       "Map:   0%|          | 0/6810 [00:00<?, ? examples/s]"
      ]
     },
     "metadata": {},
     "output_type": "display_data"
    },
    {
     "data": {
      "application/vnd.jupyter.widget-view+json": {
       "model_id": "b744dc3de4334e5a9855771029d7eed6",
       "version_major": 2,
       "version_minor": 0
      },
      "text/plain": [
       "Map:   0%|          | 0/1000 [00:00<?, ? examples/s]"
      ]
     },
     "metadata": {},
     "output_type": "display_data"
    }
   ],
   "source": [
    "train_dataset = train_dataset.map(lambda examples: {'labels': examples['label']}, batched=True)\n",
    "validation_dataset = validation_dataset.map(lambda examples: {'labels': examples['label']}, batched=True)\n",
    "test_dataset = test_dataset.map(lambda examples: {'labels': examples['labels_three_2p']}, batched=True)"
   ]
  },
  {
   "cell_type": "markdown",
   "id": "157301c2",
   "metadata": {},
   "source": [
    "# Model "
   ]
  },
  {
   "cell_type": "code",
   "execution_count": 31,
   "id": "df4c1e73",
   "metadata": {},
   "outputs": [
    {
     "data": {
      "text/plain": [
       "DistilBertConfig {\n",
       "  \"_name_or_path\": \"lxyuan/distilbert-base-multilingual-cased-sentiments-student\",\n",
       "  \"activation\": \"gelu\",\n",
       "  \"architectures\": [\n",
       "    \"DistilBertForSequenceClassification\"\n",
       "  ],\n",
       "  \"attention_dropout\": 0.1,\n",
       "  \"dim\": 768,\n",
       "  \"dropout\": 0.1,\n",
       "  \"hidden_dim\": 3072,\n",
       "  \"id2label\": {\n",
       "    \"negative\": 0,\n",
       "    \"neutral\": 1,\n",
       "    \"positive\": 2\n",
       "  },\n",
       "  \"initializer_range\": 0.02,\n",
       "  \"label2id\": {\n",
       "    \"negative\": 2,\n",
       "    \"neutral\": 1,\n",
       "    \"positive\": 0\n",
       "  },\n",
       "  \"max_position_embeddings\": 512,\n",
       "  \"model_type\": \"distilbert\",\n",
       "  \"n_heads\": 12,\n",
       "  \"n_layers\": 6,\n",
       "  \"output_past\": true,\n",
       "  \"pad_token_id\": 0,\n",
       "  \"qa_dropout\": 0.1,\n",
       "  \"seq_classif_dropout\": 0.2,\n",
       "  \"sinusoidal_pos_embds\": false,\n",
       "  \"tie_weights_\": true,\n",
       "  \"torch_dtype\": \"float32\",\n",
       "  \"transformers_version\": \"4.34.0\",\n",
       "  \"vocab_size\": 119547\n",
       "}"
      ]
     },
     "execution_count": 31,
     "metadata": {},
     "output_type": "execute_result"
    }
   ],
   "source": [
    "model_id=\"lxyuan/distilbert-base-multilingual-cased-sentiments-student\"\n",
    "\n",
    "\n",
    "\n",
    "label2id = {\"positive\": 2, \"neutral\": 1,\"negative\":0}\n",
    "\n",
    "# 2 = positive\n",
    "# 1 = neutral\n",
    "# 0 = negative\n",
    "\n",
    "model = AutoModelForSequenceClassification.from_pretrained(model_id, \n",
    "                                                           num_labels=train_dataset.features[\"label\"].num_classes,id2label=label2id,\n",
    "                                                          ignore_mismatched_sizes=True)\n",
    "tokenizer = AutoTokenizer.from_pretrained(model_id)\n",
    "model.config"
   ]
  },
  {
   "cell_type": "code",
   "execution_count": 32,
   "id": "cd75e9b5",
   "metadata": {},
   "outputs": [
    {
     "data": {
      "application/vnd.jupyter.widget-view+json": {
       "model_id": "0ef5c5fbda144349af1a811d463b8a0d",
       "version_major": 2,
       "version_minor": 0
      },
      "text/plain": [
       "Map:   0%|          | 0/27238 [00:00<?, ? examples/s]"
      ]
     },
     "metadata": {},
     "output_type": "display_data"
    },
    {
     "data": {
      "application/vnd.jupyter.widget-view+json": {
       "model_id": "29ec95208b4848f2ab010b282aaca4c3",
       "version_major": 2,
       "version_minor": 0
      },
      "text/plain": [
       "Map:   0%|          | 0/6810 [00:00<?, ? examples/s]"
      ]
     },
     "metadata": {},
     "output_type": "display_data"
    },
    {
     "data": {
      "application/vnd.jupyter.widget-view+json": {
       "model_id": "b0141bd2241c410a94541e22814d9f53",
       "version_major": 2,
       "version_minor": 0
      },
      "text/plain": [
       "Map:   0%|          | 0/1000 [00:00<?, ? examples/s]"
      ]
     },
     "metadata": {},
     "output_type": "display_data"
    }
   ],
   "source": [
    "MAX_LENGTH = 256\n",
    "train_dataset = train_dataset.map(lambda e: tokenizer(e['text'], truncation=True, padding='max_length', max_length=MAX_LENGTH), batched=True)\n",
    "validation_dataset = validation_dataset.map(lambda e: tokenizer(e['text'], truncation=True, padding='max_length', max_length=MAX_LENGTH), batched=True)\n",
    "test_dataset = test_dataset.map(lambda e: tokenizer(e['sequence'], truncation=True, padding='max_length', max_length=MAX_LENGTH), batched=True)"
   ]
  },
  {
   "cell_type": "code",
   "execution_count": 33,
   "id": "6f5e1b88",
   "metadata": {},
   "outputs": [
    {
     "data": {
      "text/plain": [
       "{'text': Value(dtype='string', id=None),\n",
       " 'label': ClassLabel(names=['negative', 'neutral', 'positive'], id=None),\n",
       " 'labels': Value(dtype='int64', id=None),\n",
       " 'input_ids': Sequence(feature=Value(dtype='int32', id=None), length=-1, id=None),\n",
       " 'attention_mask': Sequence(feature=Value(dtype='int8', id=None), length=-1, id=None)}"
      ]
     },
     "execution_count": 33,
     "metadata": {},
     "output_type": "execute_result"
    }
   ],
   "source": [
    "train_dataset.features"
   ]
  },
  {
   "cell_type": "code",
   "execution_count": 34,
   "id": "e5650184",
   "metadata": {},
   "outputs": [],
   "source": [
    "# train_dataset.set_format(type='torch', columns=['input_ids','token_type_ids', 'attention_mask', 'labels'])\n",
    "# validation_dataset.set_format(type='torch', columns=['input_ids', 'token_type_ids', 'attention_mask', 'labels'])\n",
    "# test_dataset.set_format(type='torch', columns=['input_ids', 'token_type_ids', 'attention_mask', 'labels'])\n",
    "\n",
    "\n",
    "train_dataset.set_format(type='torch', columns=['input_ids', 'attention_mask', 'labels'])\n",
    "validation_dataset.set_format(type='torch', columns=['input_ids',  'attention_mask', 'labels'])\n",
    "test_dataset.set_format(type='torch', columns=['input_ids', 'attention_mask', 'labels'])"
   ]
  },
  {
   "cell_type": "code",
   "execution_count": 35,
   "id": "da740775",
   "metadata": {},
   "outputs": [],
   "source": [
    "def compute_metrics(pred):\n",
    "    labels = pred.label_ids\n",
    "    preds = pred.predictions.argmax(-1)\n",
    "    precision, recall, f1, _ = precision_recall_fscore_support(labels, preds, average='macro')\n",
    "    acc = accuracy_score(labels, preds)\n",
    "    return {\n",
    "        'accuracy': acc,\n",
    "        'f1': f1,\n",
    "        'precision': precision,\n",
    "        'recall': recall\n",
    "    }"
   ]
  },
  {
   "cell_type": "markdown",
   "id": "eaf5772d",
   "metadata": {},
   "source": [
    "# hyperparameter search"
   ]
  },
  {
   "cell_type": "code",
   "execution_count": 36,
   "id": "ef9b699a",
   "metadata": {},
   "outputs": [],
   "source": [
    "def model_init():\n",
    "    return AutoModelForSequenceClassification.from_pretrained(model_id, return_dict=True)"
   ]
  },
  {
   "cell_type": "code",
   "execution_count": 37,
   "id": "05079a6f",
   "metadata": {},
   "outputs": [],
   "source": [
    "training_args = TrainingArguments(\"test\",  eval_steps=500, disable_tqdm=True, do_eval=True, evaluation_strategy='steps')\n",
    "trainer = Trainer(\n",
    "    args=training_args,\n",
    "    data_collator=DataCollatorWithPadding(tokenizer),\n",
    "    train_dataset=train_dataset, \n",
    "    eval_dataset=validation_dataset, \n",
    "    model_init=model_init,\n",
    "    compute_metrics=compute_metrics,\n",
    ")"
   ]
  },
  {
   "cell_type": "code",
   "execution_count": 38,
   "id": "c9d842eb",
   "metadata": {},
   "outputs": [],
   "source": [
    "def my_hp_space(trial):\n",
    "    return {\n",
    "        \"learning_rate\": trial.suggest_float(\"learning_rate\", 1e-6, 1e-3, log=True),\n",
    "        \"num_train_epochs\": trial.suggest_int(\"num_train_epochs\", 1, 5),\n",
    "#         \"seed\": trial.suggest_int(\"seed\", 1, 40),\n",
    "        \"per_device_train_batch_size\": trial.suggest_categorical(\"per_device_train_batch_size\", [16, 24, 32, 36, 40, 48,56, 64,72]),\n",
    "    }"
   ]
  },
  {
   "cell_type": "code",
   "execution_count": 39,
   "id": "7d7e6d72",
   "metadata": {
    "scrolled": false
   },
   "outputs": [
    {
     "name": "stderr",
     "output_type": "stream",
     "text": [
      "[I 2023-12-04 17:21:53,903] A new study created in memory with name: no-name-9a77487e-6a1e-4f54-af46-6cbf17120b7e\n",
      "\u001b[34m\u001b[1mwandb\u001b[0m: Currently logged in as: \u001b[33mericat\u001b[0m. Use \u001b[1m`wandb login --relogin`\u001b[0m to force relogin\n"
     ]
    },
    {
     "data": {
      "text/html": [
       "Tracking run with wandb version 0.16.0"
      ],
      "text/plain": [
       "<IPython.core.display.HTML object>"
      ]
     },
     "metadata": {},
     "output_type": "display_data"
    },
    {
     "data": {
      "text/html": [
       "Run data is saved locally in <code>D:\\Projects\\Jupyter\\Sentiment analysis\\04DEC\\wandb\\run-20231204_172218-h0pc2t42</code>"
      ],
      "text/plain": [
       "<IPython.core.display.HTML object>"
      ]
     },
     "metadata": {},
     "output_type": "display_data"
    },
    {
     "data": {
      "text/html": [
       "Syncing run <strong><a href='https://wandb.ai/ericat/huggingface/runs/h0pc2t42' target=\"_blank\">lemon-star-370</a></strong> to <a href='https://wandb.ai/ericat/huggingface' target=\"_blank\">Weights & Biases</a> (<a href='https://wandb.me/run' target=\"_blank\">docs</a>)<br/>"
      ],
      "text/plain": [
       "<IPython.core.display.HTML object>"
      ]
     },
     "metadata": {},
     "output_type": "display_data"
    },
    {
     "data": {
      "text/html": [
       " View project at <a href='https://wandb.ai/ericat/huggingface' target=\"_blank\">https://wandb.ai/ericat/huggingface</a>"
      ],
      "text/plain": [
       "<IPython.core.display.HTML object>"
      ]
     },
     "metadata": {},
     "output_type": "display_data"
    },
    {
     "data": {
      "text/html": [
       " View run at <a href='https://wandb.ai/ericat/huggingface/runs/h0pc2t42' target=\"_blank\">https://wandb.ai/ericat/huggingface/runs/h0pc2t42</a>"
      ],
      "text/plain": [
       "<IPython.core.display.HTML object>"
      ]
     },
     "metadata": {},
     "output_type": "display_data"
    },
    {
     "name": "stderr",
     "output_type": "stream",
     "text": [
      "You're using a DistilBertTokenizerFast tokenizer. Please note that with a fast tokenizer, using the `__call__` method is faster than using a method to encode the text followed by a call to the `pad` method to get a padded encoding.\n"
     ]
    },
    {
     "name": "stdout",
     "output_type": "stream",
     "text": [
      "{'loss': 1.0945, 'learning_rate': 0.0003490366660418965, 'epoch': 0.88}\n"
     ]
    },
    {
     "name": "stderr",
     "output_type": "stream",
     "text": [
      "D:\\Software\\Anaconda3\\envs\\validation\\Lib\\site-packages\\sklearn\\metrics\\_classification.py:1469: UndefinedMetricWarning: Precision and F-score are ill-defined and being set to 0.0 in labels with no predicted samples. Use `zero_division` parameter to control this behavior.\n",
      "  _warn_prf(average, modifier, msg_start, len(result))\n"
     ]
    },
    {
     "name": "stdout",
     "output_type": "stream",
     "text": [
      "{'eval_loss': 1.0901049375534058, 'eval_accuracy': 0.39823788546255506, 'eval_f1': 0.1898760764545264, 'eval_precision': 0.1327459618208517, 'eval_recall': 0.3333333333333333, 'eval_runtime': 21.5329, 'eval_samples_per_second': 316.261, 'eval_steps_per_second': 39.567, 'epoch': 0.88}\n",
      "{'loss': 1.0956, 'learning_rate': 7.463677135487094e-05, 'epoch': 1.76}\n"
     ]
    },
    {
     "name": "stderr",
     "output_type": "stream",
     "text": [
      "D:\\Software\\Anaconda3\\envs\\validation\\Lib\\site-packages\\sklearn\\metrics\\_classification.py:1469: UndefinedMetricWarning: Precision and F-score are ill-defined and being set to 0.0 in labels with no predicted samples. Use `zero_division` parameter to control this behavior.\n",
      "  _warn_prf(average, modifier, msg_start, len(result))\n"
     ]
    },
    {
     "name": "stdout",
     "output_type": "stream",
     "text": [
      "{'eval_loss': 1.0890047550201416, 'eval_accuracy': 0.39823788546255506, 'eval_f1': 0.1898760764545264, 'eval_precision': 0.1327459618208517, 'eval_recall': 0.3333333333333333, 'eval_runtime': 21.1174, 'eval_samples_per_second': 322.483, 'eval_steps_per_second': 40.346, 'epoch': 1.76}\n"
     ]
    },
    {
     "name": "stderr",
     "output_type": "stream",
     "text": [
      "[I 2023-12-04 17:31:23,540] Trial 0 finished with value: 1.0541932570712664 and parameters: {'learning_rate': 0.000623436560728922, 'num_train_epochs': 2, 'per_device_train_batch_size': 48}. Best is trial 0 with value: 1.0541932570712664.\n"
     ]
    },
    {
     "name": "stdout",
     "output_type": "stream",
     "text": [
      "{'train_runtime': 549.9263, 'train_samples_per_second': 99.061, 'train_steps_per_second': 2.066, 'train_loss': 1.0943508685474665, 'epoch': 2.0}\n"
     ]
    },
    {
     "data": {
      "application/vnd.jupyter.widget-view+json": {
       "model_id": "",
       "version_major": 2,
       "version_minor": 0
      },
      "text/plain": [
       "VBox(children=(Label(value='0.001 MB of 0.001 MB uploaded\\r'), FloatProgress(value=1.0, max=1.0)))"
      ]
     },
     "metadata": {},
     "output_type": "display_data"
    },
    {
     "data": {
      "text/html": [
       "<style>\n",
       "    table.wandb td:nth-child(1) { padding: 0 10px; text-align: left ; width: auto;} td:nth-child(2) {text-align: left ; width: 100%}\n",
       "    .wandb-row { display: flex; flex-direction: row; flex-wrap: wrap; justify-content: flex-start; width: 100% }\n",
       "    .wandb-col { display: flex; flex-direction: column; flex-basis: 100%; flex: 1; padding: 10px; }\n",
       "    </style>\n",
       "<div class=\"wandb-row\"><div class=\"wandb-col\"><h3>Run history:</h3><br/><table class=\"wandb\"><tr><td>eval/accuracy</td><td>▁▁</td></tr><tr><td>eval/f1</td><td>▁▁</td></tr><tr><td>eval/loss</td><td>█▁</td></tr><tr><td>eval/precision</td><td>▁▁</td></tr><tr><td>eval/recall</td><td>▁▁</td></tr><tr><td>eval/runtime</td><td>█▁</td></tr><tr><td>eval/samples_per_second</td><td>▁█</td></tr><tr><td>eval/steps_per_second</td><td>▁█</td></tr><tr><td>train/epoch</td><td>▁▁▆▆█</td></tr><tr><td>train/global_step</td><td>▁▁▇▇█</td></tr><tr><td>train/learning_rate</td><td>█▁</td></tr><tr><td>train/loss</td><td>▁█</td></tr><tr><td>train/total_flos</td><td>▁</td></tr><tr><td>train/train_loss</td><td>▁</td></tr><tr><td>train/train_runtime</td><td>▁</td></tr><tr><td>train/train_samples_per_second</td><td>▁</td></tr><tr><td>train/train_steps_per_second</td><td>▁</td></tr></table><br/></div><div class=\"wandb-col\"><h3>Run summary:</h3><br/><table class=\"wandb\"><tr><td>eval/accuracy</td><td>0.39824</td></tr><tr><td>eval/f1</td><td>0.18988</td></tr><tr><td>eval/loss</td><td>1.089</td></tr><tr><td>eval/precision</td><td>0.13275</td></tr><tr><td>eval/recall</td><td>0.33333</td></tr><tr><td>eval/runtime</td><td>21.1174</td></tr><tr><td>eval/samples_per_second</td><td>322.483</td></tr><tr><td>eval/steps_per_second</td><td>40.346</td></tr><tr><td>train/epoch</td><td>2.0</td></tr><tr><td>train/global_step</td><td>1136</td></tr><tr><td>train/learning_rate</td><td>7e-05</td></tr><tr><td>train/loss</td><td>1.0956</td></tr><tr><td>train/total_flos</td><td>3608211350771712.0</td></tr><tr><td>train/train_loss</td><td>1.09435</td></tr><tr><td>train/train_runtime</td><td>549.9263</td></tr><tr><td>train/train_samples_per_second</td><td>99.061</td></tr><tr><td>train/train_steps_per_second</td><td>2.066</td></tr></table><br/></div></div>"
      ],
      "text/plain": [
       "<IPython.core.display.HTML object>"
      ]
     },
     "metadata": {},
     "output_type": "display_data"
    },
    {
     "data": {
      "text/html": [
       " View run <strong style=\"color:#cdcd00\">lemon-star-370</strong> at: <a href='https://wandb.ai/ericat/huggingface/runs/h0pc2t42' target=\"_blank\">https://wandb.ai/ericat/huggingface/runs/h0pc2t42</a><br/>Synced 5 W&B file(s), 0 media file(s), 0 artifact file(s) and 0 other file(s)"
      ],
      "text/plain": [
       "<IPython.core.display.HTML object>"
      ]
     },
     "metadata": {},
     "output_type": "display_data"
    },
    {
     "data": {
      "text/html": [
       "Find logs at: <code>.\\wandb\\run-20231204_172218-h0pc2t42\\logs</code>"
      ],
      "text/plain": [
       "<IPython.core.display.HTML object>"
      ]
     },
     "metadata": {},
     "output_type": "display_data"
    },
    {
     "data": {
      "application/vnd.jupyter.widget-view+json": {
       "model_id": "7732efc7f0ca402bb987b6a511fcbd94",
       "version_major": 2,
       "version_minor": 0
      },
      "text/plain": [
       "VBox(children=(Label(value='Waiting for wandb.init()...\\r'), FloatProgress(value=0.011111111111111112, max=1.0…"
      ]
     },
     "metadata": {},
     "output_type": "display_data"
    },
    {
     "data": {
      "text/html": [
       "Tracking run with wandb version 0.16.0"
      ],
      "text/plain": [
       "<IPython.core.display.HTML object>"
      ]
     },
     "metadata": {},
     "output_type": "display_data"
    },
    {
     "data": {
      "text/html": [
       "Run data is saved locally in <code>D:\\Projects\\Jupyter\\Sentiment analysis\\04DEC\\wandb\\run-20231204_173133-vy36awow</code>"
      ],
      "text/plain": [
       "<IPython.core.display.HTML object>"
      ]
     },
     "metadata": {},
     "output_type": "display_data"
    },
    {
     "data": {
      "text/html": [
       "Syncing run <strong><a href='https://wandb.ai/ericat/huggingface/runs/vy36awow' target=\"_blank\">eternal-serenity-371</a></strong> to <a href='https://wandb.ai/ericat/huggingface' target=\"_blank\">Weights & Biases</a> (<a href='https://wandb.me/run' target=\"_blank\">docs</a>)<br/>"
      ],
      "text/plain": [
       "<IPython.core.display.HTML object>"
      ]
     },
     "metadata": {},
     "output_type": "display_data"
    },
    {
     "data": {
      "text/html": [
       " View project at <a href='https://wandb.ai/ericat/huggingface' target=\"_blank\">https://wandb.ai/ericat/huggingface</a>"
      ],
      "text/plain": [
       "<IPython.core.display.HTML object>"
      ]
     },
     "metadata": {},
     "output_type": "display_data"
    },
    {
     "data": {
      "text/html": [
       " View run at <a href='https://wandb.ai/ericat/huggingface/runs/vy36awow' target=\"_blank\">https://wandb.ai/ericat/huggingface/runs/vy36awow</a>"
      ],
      "text/plain": [
       "<IPython.core.display.HTML object>"
      ]
     },
     "metadata": {},
     "output_type": "display_data"
    },
    {
     "name": "stdout",
     "output_type": "stream",
     "text": [
      "{'loss': 1.098, 'learning_rate': 1.066933709474332e-06, 'epoch': 1.03}\n",
      "{'eval_loss': 0.892354428768158, 'eval_accuracy': 0.6201174743024963, 'eval_f1': 0.6218790274105608, 'eval_precision': 0.6255601348794784, 'eval_recall': 0.6205661574297999, 'eval_runtime': 21.3355, 'eval_samples_per_second': 319.187, 'eval_steps_per_second': 39.933, 'epoch': 1.03}\n",
      "{'loss': 0.8389, 'learning_rate': 6.985173733298804e-07, 'epoch': 2.05}\n",
      "{'eval_loss': 0.7693594694137573, 'eval_accuracy': 0.6657856093979442, 'eval_f1': 0.6686240890130658, 'eval_precision': 0.6681858434414852, 'eval_recall': 0.669238985942871, 'eval_runtime': 21.3224, 'eval_samples_per_second': 319.382, 'eval_steps_per_second': 39.958, 'epoch': 2.05}\n",
      "{'loss': 0.7677, 'learning_rate': 3.3010103718542867e-07, 'epoch': 3.08}\n",
      "{'eval_loss': 0.7365962266921997, 'eval_accuracy': 0.6807635829662262, 'eval_f1': 0.6838471677127651, 'eval_precision': 0.6835993671469361, 'eval_recall': 0.6841036181461043, 'eval_runtime': 21.336, 'eval_samples_per_second': 319.179, 'eval_steps_per_second': 39.932, 'epoch': 3.08}\n"
     ]
    },
    {
     "name": "stderr",
     "output_type": "stream",
     "text": [
      "[I 2023-12-04 17:48:23,482] Trial 1 finished with value: 2.7323137359720318 and parameters: {'learning_rate': 1.4353500456187836e-06, 'num_train_epochs': 4, 'per_device_train_batch_size': 56}. Best is trial 1 with value: 2.7323137359720318.\n"
     ]
    },
    {
     "name": "stdout",
     "output_type": "stream",
     "text": [
      "{'train_runtime': 1017.9845, 'train_samples_per_second': 107.027, 'train_steps_per_second': 1.914, 'train_loss': 0.8660082807286319, 'epoch': 4.0}\n"
     ]
    },
    {
     "data": {
      "application/vnd.jupyter.widget-view+json": {
       "model_id": "",
       "version_major": 2,
       "version_minor": 0
      },
      "text/plain": [
       "VBox(children=(Label(value='0.001 MB of 0.001 MB uploaded\\r'), FloatProgress(value=1.0, max=1.0)))"
      ]
     },
     "metadata": {},
     "output_type": "display_data"
    },
    {
     "data": {
      "text/html": [
       "<style>\n",
       "    table.wandb td:nth-child(1) { padding: 0 10px; text-align: left ; width: auto;} td:nth-child(2) {text-align: left ; width: 100%}\n",
       "    .wandb-row { display: flex; flex-direction: row; flex-wrap: wrap; justify-content: flex-start; width: 100% }\n",
       "    .wandb-col { display: flex; flex-direction: column; flex-basis: 100%; flex: 1; padding: 10px; }\n",
       "    </style>\n",
       "<div class=\"wandb-row\"><div class=\"wandb-col\"><h3>Run history:</h3><br/><table class=\"wandb\"><tr><td>eval/accuracy</td><td>▁▆█</td></tr><tr><td>eval/f1</td><td>▁▆█</td></tr><tr><td>eval/loss</td><td>█▂▁</td></tr><tr><td>eval/precision</td><td>▁▆█</td></tr><tr><td>eval/recall</td><td>▁▆█</td></tr><tr><td>eval/runtime</td><td>█▁█</td></tr><tr><td>eval/samples_per_second</td><td>▁█▁</td></tr><tr><td>eval/steps_per_second</td><td>▁█▁</td></tr><tr><td>train/epoch</td><td>▁▁▃▃▆▆█</td></tr><tr><td>train/global_step</td><td>▁▁▃▃▆▆█</td></tr><tr><td>train/learning_rate</td><td>█▅▁</td></tr><tr><td>train/loss</td><td>█▃▁</td></tr><tr><td>train/total_flos</td><td>▁</td></tr><tr><td>train/train_loss</td><td>▁</td></tr><tr><td>train/train_runtime</td><td>▁</td></tr><tr><td>train/train_samples_per_second</td><td>▁</td></tr><tr><td>train/train_steps_per_second</td><td>▁</td></tr></table><br/></div><div class=\"wandb-col\"><h3>Run summary:</h3><br/><table class=\"wandb\"><tr><td>eval/accuracy</td><td>0.68076</td></tr><tr><td>eval/f1</td><td>0.68385</td></tr><tr><td>eval/loss</td><td>0.7366</td></tr><tr><td>eval/precision</td><td>0.6836</td></tr><tr><td>eval/recall</td><td>0.6841</td></tr><tr><td>eval/runtime</td><td>21.336</td></tr><tr><td>eval/samples_per_second</td><td>319.179</td></tr><tr><td>eval/steps_per_second</td><td>39.932</td></tr><tr><td>train/epoch</td><td>4.0</td></tr><tr><td>train/global_step</td><td>1948</td></tr><tr><td>train/learning_rate</td><td>0.0</td></tr><tr><td>train/loss</td><td>0.7677</td></tr><tr><td>train/total_flos</td><td>7216422701543424.0</td></tr><tr><td>train/train_loss</td><td>0.86601</td></tr><tr><td>train/train_runtime</td><td>1017.9845</td></tr><tr><td>train/train_samples_per_second</td><td>107.027</td></tr><tr><td>train/train_steps_per_second</td><td>1.914</td></tr></table><br/></div></div>"
      ],
      "text/plain": [
       "<IPython.core.display.HTML object>"
      ]
     },
     "metadata": {},
     "output_type": "display_data"
    },
    {
     "data": {
      "text/html": [
       " View run <strong style=\"color:#cdcd00\">eternal-serenity-371</strong> at: <a href='https://wandb.ai/ericat/huggingface/runs/vy36awow' target=\"_blank\">https://wandb.ai/ericat/huggingface/runs/vy36awow</a><br/>Synced 5 W&B file(s), 0 media file(s), 0 artifact file(s) and 0 other file(s)"
      ],
      "text/plain": [
       "<IPython.core.display.HTML object>"
      ]
     },
     "metadata": {},
     "output_type": "display_data"
    },
    {
     "data": {
      "text/html": [
       "Find logs at: <code>.\\wandb\\run-20231204_173133-vy36awow\\logs</code>"
      ],
      "text/plain": [
       "<IPython.core.display.HTML object>"
      ]
     },
     "metadata": {},
     "output_type": "display_data"
    },
    {
     "data": {
      "application/vnd.jupyter.widget-view+json": {
       "model_id": "5a200ada3b034311965d88e01ad52fd4",
       "version_major": 2,
       "version_minor": 0
      },
      "text/plain": [
       "VBox(children=(Label(value='Waiting for wandb.init()...\\r'), FloatProgress(value=0.011111111111111112, max=1.0…"
      ]
     },
     "metadata": {},
     "output_type": "display_data"
    },
    {
     "data": {
      "text/html": [
       "Tracking run with wandb version 0.16.0"
      ],
      "text/plain": [
       "<IPython.core.display.HTML object>"
      ]
     },
     "metadata": {},
     "output_type": "display_data"
    },
    {
     "data": {
      "text/html": [
       "Run data is saved locally in <code>D:\\Projects\\Jupyter\\Sentiment analysis\\04DEC\\wandb\\run-20231204_174832-gyqt29du</code>"
      ],
      "text/plain": [
       "<IPython.core.display.HTML object>"
      ]
     },
     "metadata": {},
     "output_type": "display_data"
    },
    {
     "data": {
      "text/html": [
       "Syncing run <strong><a href='https://wandb.ai/ericat/huggingface/runs/gyqt29du' target=\"_blank\">avid-voice-372</a></strong> to <a href='https://wandb.ai/ericat/huggingface' target=\"_blank\">Weights & Biases</a> (<a href='https://wandb.me/run' target=\"_blank\">docs</a>)<br/>"
      ],
      "text/plain": [
       "<IPython.core.display.HTML object>"
      ]
     },
     "metadata": {},
     "output_type": "display_data"
    },
    {
     "data": {
      "text/html": [
       " View project at <a href='https://wandb.ai/ericat/huggingface' target=\"_blank\">https://wandb.ai/ericat/huggingface</a>"
      ],
      "text/plain": [
       "<IPython.core.display.HTML object>"
      ]
     },
     "metadata": {},
     "output_type": "display_data"
    },
    {
     "data": {
      "text/html": [
       " View run at <a href='https://wandb.ai/ericat/huggingface/runs/gyqt29du' target=\"_blank\">https://wandb.ai/ericat/huggingface/runs/gyqt29du</a>"
      ],
      "text/plain": [
       "<IPython.core.display.HTML object>"
      ]
     },
     "metadata": {},
     "output_type": "display_data"
    },
    {
     "name": "stdout",
     "output_type": "stream",
     "text": [
      "{'loss': 1.0744, 'learning_rate': 7.18266991557317e-07, 'epoch': 1.17}\n",
      "{'eval_loss': 0.8873387575149536, 'eval_accuracy': 0.616446402349486, 'eval_f1': 0.6171055078041937, 'eval_precision': 0.6248500454628115, 'eval_recall': 0.6127747052483797, 'eval_runtime': 21.2557, 'eval_samples_per_second': 320.384, 'eval_steps_per_second': 40.083, 'epoch': 1.17}\n"
     ]
    },
    {
     "name": "stderr",
     "output_type": "stream",
     "text": [
      "[I 2023-12-04 17:57:44,162] Trial 2 finished with value: 2.471176660864871 and parameters: {'learning_rate': 1.7385326045648694e-06, 'num_train_epochs': 2, 'per_device_train_batch_size': 64}. Best is trial 1 with value: 2.7323137359720318.\n"
     ]
    },
    {
     "name": "stdout",
     "output_type": "stream",
     "text": [
      "{'train_runtime': 558.6882, 'train_samples_per_second': 97.507, 'train_steps_per_second': 1.525, 'train_loss': 0.991953388626027, 'epoch': 2.0}\n"
     ]
    },
    {
     "data": {
      "application/vnd.jupyter.widget-view+json": {
       "model_id": "",
       "version_major": 2,
       "version_minor": 0
      },
      "text/plain": [
       "VBox(children=(Label(value='0.001 MB of 0.001 MB uploaded\\r'), FloatProgress(value=1.0, max=1.0)))"
      ]
     },
     "metadata": {},
     "output_type": "display_data"
    },
    {
     "data": {
      "text/html": [
       "<style>\n",
       "    table.wandb td:nth-child(1) { padding: 0 10px; text-align: left ; width: auto;} td:nth-child(2) {text-align: left ; width: 100%}\n",
       "    .wandb-row { display: flex; flex-direction: row; flex-wrap: wrap; justify-content: flex-start; width: 100% }\n",
       "    .wandb-col { display: flex; flex-direction: column; flex-basis: 100%; flex: 1; padding: 10px; }\n",
       "    </style>\n",
       "<div class=\"wandb-row\"><div class=\"wandb-col\"><h3>Run history:</h3><br/><table class=\"wandb\"><tr><td>eval/accuracy</td><td>▁</td></tr><tr><td>eval/f1</td><td>▁</td></tr><tr><td>eval/loss</td><td>▁</td></tr><tr><td>eval/precision</td><td>▁</td></tr><tr><td>eval/recall</td><td>▁</td></tr><tr><td>eval/runtime</td><td>▁</td></tr><tr><td>eval/samples_per_second</td><td>▁</td></tr><tr><td>eval/steps_per_second</td><td>▁</td></tr><tr><td>train/epoch</td><td>▁▁█</td></tr><tr><td>train/global_step</td><td>▁▁█</td></tr><tr><td>train/learning_rate</td><td>▁</td></tr><tr><td>train/loss</td><td>▁</td></tr><tr><td>train/total_flos</td><td>▁</td></tr><tr><td>train/train_loss</td><td>▁</td></tr><tr><td>train/train_runtime</td><td>▁</td></tr><tr><td>train/train_samples_per_second</td><td>▁</td></tr><tr><td>train/train_steps_per_second</td><td>▁</td></tr></table><br/></div><div class=\"wandb-col\"><h3>Run summary:</h3><br/><table class=\"wandb\"><tr><td>eval/accuracy</td><td>0.61645</td></tr><tr><td>eval/f1</td><td>0.61711</td></tr><tr><td>eval/loss</td><td>0.88734</td></tr><tr><td>eval/precision</td><td>0.62485</td></tr><tr><td>eval/recall</td><td>0.61277</td></tr><tr><td>eval/runtime</td><td>21.2557</td></tr><tr><td>eval/samples_per_second</td><td>320.384</td></tr><tr><td>eval/steps_per_second</td><td>40.083</td></tr><tr><td>train/epoch</td><td>2.0</td></tr><tr><td>train/global_step</td><td>852</td></tr><tr><td>train/learning_rate</td><td>0.0</td></tr><tr><td>train/loss</td><td>1.0744</td></tr><tr><td>train/total_flos</td><td>3608211350771712.0</td></tr><tr><td>train/train_loss</td><td>0.99195</td></tr><tr><td>train/train_runtime</td><td>558.6882</td></tr><tr><td>train/train_samples_per_second</td><td>97.507</td></tr><tr><td>train/train_steps_per_second</td><td>1.525</td></tr></table><br/></div></div>"
      ],
      "text/plain": [
       "<IPython.core.display.HTML object>"
      ]
     },
     "metadata": {},
     "output_type": "display_data"
    },
    {
     "data": {
      "text/html": [
       " View run <strong style=\"color:#cdcd00\">avid-voice-372</strong> at: <a href='https://wandb.ai/ericat/huggingface/runs/gyqt29du' target=\"_blank\">https://wandb.ai/ericat/huggingface/runs/gyqt29du</a><br/>Synced 5 W&B file(s), 0 media file(s), 0 artifact file(s) and 0 other file(s)"
      ],
      "text/plain": [
       "<IPython.core.display.HTML object>"
      ]
     },
     "metadata": {},
     "output_type": "display_data"
    },
    {
     "data": {
      "text/html": [
       "Find logs at: <code>.\\wandb\\run-20231204_174832-gyqt29du\\logs</code>"
      ],
      "text/plain": [
       "<IPython.core.display.HTML object>"
      ]
     },
     "metadata": {},
     "output_type": "display_data"
    },
    {
     "data": {
      "application/vnd.jupyter.widget-view+json": {
       "model_id": "0c72071f88af4f5ab30e2340bf408f84",
       "version_major": 2,
       "version_minor": 0
      },
      "text/plain": [
       "VBox(children=(Label(value='Waiting for wandb.init()...\\r'), FloatProgress(value=0.011111111111111112, max=1.0…"
      ]
     },
     "metadata": {},
     "output_type": "display_data"
    },
    {
     "data": {
      "text/html": [
       "Tracking run with wandb version 0.16.0"
      ],
      "text/plain": [
       "<IPython.core.display.HTML object>"
      ]
     },
     "metadata": {},
     "output_type": "display_data"
    },
    {
     "data": {
      "text/html": [
       "Run data is saved locally in <code>D:\\Projects\\Jupyter\\Sentiment analysis\\04DEC\\wandb\\run-20231204_175752-w3u5xm6b</code>"
      ],
      "text/plain": [
       "<IPython.core.display.HTML object>"
      ]
     },
     "metadata": {},
     "output_type": "display_data"
    },
    {
     "data": {
      "text/html": [
       "Syncing run <strong><a href='https://wandb.ai/ericat/huggingface/runs/w3u5xm6b' target=\"_blank\">sleek-universe-373</a></strong> to <a href='https://wandb.ai/ericat/huggingface' target=\"_blank\">Weights & Biases</a> (<a href='https://wandb.me/run' target=\"_blank\">docs</a>)<br/>"
      ],
      "text/plain": [
       "<IPython.core.display.HTML object>"
      ]
     },
     "metadata": {},
     "output_type": "display_data"
    },
    {
     "data": {
      "text/html": [
       " View project at <a href='https://wandb.ai/ericat/huggingface' target=\"_blank\">https://wandb.ai/ericat/huggingface</a>"
      ],
      "text/plain": [
       "<IPython.core.display.HTML object>"
      ]
     },
     "metadata": {},
     "output_type": "display_data"
    },
    {
     "data": {
      "text/html": [
       " View run at <a href='https://wandb.ai/ericat/huggingface/runs/w3u5xm6b' target=\"_blank\">https://wandb.ai/ericat/huggingface/runs/w3u5xm6b</a>"
      ],
      "text/plain": [
       "<IPython.core.display.HTML object>"
      ]
     },
     "metadata": {},
     "output_type": "display_data"
    },
    {
     "name": "stdout",
     "output_type": "stream",
     "text": [
      "{'train_runtime': 227.6162, 'train_samples_per_second': 119.666, 'train_steps_per_second': 2.14, 'train_loss': 1.1800336583194302, 'epoch': 1.0}\n"
     ]
    },
    {
     "name": "stderr",
     "output_type": "stream",
     "text": [
      "[I 2023-12-04 18:01:55,104] Trial 3 finished with value: 1.6115893330413333 and parameters: {'learning_rate': 1.1666712305285073e-06, 'num_train_epochs': 1, 'per_device_train_batch_size': 56}. Best is trial 1 with value: 2.7323137359720318.\n"
     ]
    },
    {
     "name": "stdout",
     "output_type": "stream",
     "text": [
      "{'eval_loss': 1.0540359020233154, 'eval_accuracy': 0.44552129221732745, 'eval_f1': 0.35315614495608244, 'eval_precision': 0.4148169361109509, 'eval_recall': 0.3980949597569725, 'eval_runtime': 21.2208, 'eval_samples_per_second': 320.912, 'eval_steps_per_second': 40.149, 'epoch': 1.0}\n"
     ]
    },
    {
     "data": {
      "application/vnd.jupyter.widget-view+json": {
       "model_id": "",
       "version_major": 2,
       "version_minor": 0
      },
      "text/plain": [
       "VBox(children=(Label(value='0.001 MB of 0.001 MB uploaded\\r'), FloatProgress(value=1.0, max=1.0)))"
      ]
     },
     "metadata": {},
     "output_type": "display_data"
    },
    {
     "data": {
      "text/html": [
       "<style>\n",
       "    table.wandb td:nth-child(1) { padding: 0 10px; text-align: left ; width: auto;} td:nth-child(2) {text-align: left ; width: 100%}\n",
       "    .wandb-row { display: flex; flex-direction: row; flex-wrap: wrap; justify-content: flex-start; width: 100% }\n",
       "    .wandb-col { display: flex; flex-direction: column; flex-basis: 100%; flex: 1; padding: 10px; }\n",
       "    </style>\n",
       "<div class=\"wandb-row\"><div class=\"wandb-col\"><h3>Run history:</h3><br/><table class=\"wandb\"><tr><td>eval/accuracy</td><td>▁</td></tr><tr><td>eval/f1</td><td>▁</td></tr><tr><td>eval/loss</td><td>▁</td></tr><tr><td>eval/precision</td><td>▁</td></tr><tr><td>eval/recall</td><td>▁</td></tr><tr><td>eval/runtime</td><td>▁</td></tr><tr><td>eval/samples_per_second</td><td>▁</td></tr><tr><td>eval/steps_per_second</td><td>▁</td></tr><tr><td>train/epoch</td><td>▁▁</td></tr><tr><td>train/global_step</td><td>▁▁</td></tr><tr><td>train/total_flos</td><td>▁</td></tr><tr><td>train/train_loss</td><td>▁</td></tr><tr><td>train/train_runtime</td><td>▁</td></tr><tr><td>train/train_samples_per_second</td><td>▁</td></tr><tr><td>train/train_steps_per_second</td><td>▁</td></tr></table><br/></div><div class=\"wandb-col\"><h3>Run summary:</h3><br/><table class=\"wandb\"><tr><td>eval/accuracy</td><td>0.44552</td></tr><tr><td>eval/f1</td><td>0.35316</td></tr><tr><td>eval/loss</td><td>1.05404</td></tr><tr><td>eval/precision</td><td>0.41482</td></tr><tr><td>eval/recall</td><td>0.39809</td></tr><tr><td>eval/runtime</td><td>21.2208</td></tr><tr><td>eval/samples_per_second</td><td>320.912</td></tr><tr><td>eval/steps_per_second</td><td>40.149</td></tr><tr><td>train/epoch</td><td>1.0</td></tr><tr><td>train/global_step</td><td>487</td></tr><tr><td>train/total_flos</td><td>1804105675385856.0</td></tr><tr><td>train/train_loss</td><td>1.18003</td></tr><tr><td>train/train_runtime</td><td>227.6162</td></tr><tr><td>train/train_samples_per_second</td><td>119.666</td></tr><tr><td>train/train_steps_per_second</td><td>2.14</td></tr></table><br/></div></div>"
      ],
      "text/plain": [
       "<IPython.core.display.HTML object>"
      ]
     },
     "metadata": {},
     "output_type": "display_data"
    },
    {
     "data": {
      "text/html": [
       " View run <strong style=\"color:#cdcd00\">sleek-universe-373</strong> at: <a href='https://wandb.ai/ericat/huggingface/runs/w3u5xm6b' target=\"_blank\">https://wandb.ai/ericat/huggingface/runs/w3u5xm6b</a><br/>Synced 5 W&B file(s), 0 media file(s), 0 artifact file(s) and 0 other file(s)"
      ],
      "text/plain": [
       "<IPython.core.display.HTML object>"
      ]
     },
     "metadata": {},
     "output_type": "display_data"
    },
    {
     "data": {
      "text/html": [
       "Find logs at: <code>.\\wandb\\run-20231204_175752-w3u5xm6b\\logs</code>"
      ],
      "text/plain": [
       "<IPython.core.display.HTML object>"
      ]
     },
     "metadata": {},
     "output_type": "display_data"
    },
    {
     "data": {
      "application/vnd.jupyter.widget-view+json": {
       "model_id": "b9c51f9496a9495bb345353bfadbc66c",
       "version_major": 2,
       "version_minor": 0
      },
      "text/plain": [
       "VBox(children=(Label(value='Waiting for wandb.init()...\\r'), FloatProgress(value=0.011111111111111112, max=1.0…"
      ]
     },
     "metadata": {},
     "output_type": "display_data"
    },
    {
     "data": {
      "text/html": [
       "Tracking run with wandb version 0.16.0"
      ],
      "text/plain": [
       "<IPython.core.display.HTML object>"
      ]
     },
     "metadata": {},
     "output_type": "display_data"
    },
    {
     "data": {
      "text/html": [
       "Run data is saved locally in <code>D:\\Projects\\Jupyter\\Sentiment analysis\\04DEC\\wandb\\run-20231204_180203-oyov0ych</code>"
      ],
      "text/plain": [
       "<IPython.core.display.HTML object>"
      ]
     },
     "metadata": {},
     "output_type": "display_data"
    },
    {
     "data": {
      "text/html": [
       "Syncing run <strong><a href='https://wandb.ai/ericat/huggingface/runs/oyov0ych' target=\"_blank\">legendary-fire-374</a></strong> to <a href='https://wandb.ai/ericat/huggingface' target=\"_blank\">Weights & Biases</a> (<a href='https://wandb.me/run' target=\"_blank\">docs</a>)<br/>"
      ],
      "text/plain": [
       "<IPython.core.display.HTML object>"
      ]
     },
     "metadata": {},
     "output_type": "display_data"
    },
    {
     "data": {
      "text/html": [
       " View project at <a href='https://wandb.ai/ericat/huggingface' target=\"_blank\">https://wandb.ai/ericat/huggingface</a>"
      ],
      "text/plain": [
       "<IPython.core.display.HTML object>"
      ]
     },
     "metadata": {},
     "output_type": "display_data"
    },
    {
     "data": {
      "text/html": [
       " View run at <a href='https://wandb.ai/ericat/huggingface/runs/oyov0ych' target=\"_blank\">https://wandb.ai/ericat/huggingface/runs/oyov0ych</a>"
      ],
      "text/plain": [
       "<IPython.core.display.HTML object>"
      ]
     },
     "metadata": {},
     "output_type": "display_data"
    },
    {
     "name": "stdout",
     "output_type": "stream",
     "text": [
      "{'loss': 0.7933, 'learning_rate': 5.738550509305169e-06, 'epoch': 1.17}\n",
      "{'eval_loss': 0.6534073352813721, 'eval_accuracy': 0.7177679882525697, 'eval_f1': 0.7207104111067123, 'eval_precision': 0.7185282622418221, 'eval_recall': 0.7236981241804173, 'eval_runtime': 21.3078, 'eval_samples_per_second': 319.601, 'eval_steps_per_second': 39.985, 'epoch': 1.17}\n",
      "{'loss': 0.6199, 'learning_rate': 2.0505360431707416e-06, 'epoch': 2.35}\n",
      "{'eval_loss': 0.628547191619873, 'eval_accuracy': 0.7348017621145374, 'eval_f1': 0.7383912873326458, 'eval_precision': 0.7390845118415993, 'eval_recall': 0.737748237151688, 'eval_runtime': 21.2075, 'eval_samples_per_second': 321.113, 'eval_steps_per_second': 40.174, 'epoch': 2.35}\n"
     ]
    },
    {
     "name": "stderr",
     "output_type": "stream",
     "text": [
      "[I 2023-12-04 18:15:49,210] Trial 4 finished with value: 2.9500257984404703 and parameters: {'learning_rate': 9.426564975439597e-06, 'num_train_epochs': 3, 'per_device_train_batch_size': 64}. Best is trial 4 with value: 2.9500257984404703.\n"
     ]
    },
    {
     "name": "stdout",
     "output_type": "stream",
     "text": [
      "{'train_runtime': 832.1637, 'train_samples_per_second': 98.195, 'train_steps_per_second': 1.536, 'train_loss': 0.6811605462445899, 'epoch': 3.0}\n"
     ]
    },
    {
     "data": {
      "application/vnd.jupyter.widget-view+json": {
       "model_id": "",
       "version_major": 2,
       "version_minor": 0
      },
      "text/plain": [
       "VBox(children=(Label(value='0.001 MB of 0.001 MB uploaded\\r'), FloatProgress(value=1.0, max=1.0)))"
      ]
     },
     "metadata": {},
     "output_type": "display_data"
    },
    {
     "data": {
      "text/html": [
       "<style>\n",
       "    table.wandb td:nth-child(1) { padding: 0 10px; text-align: left ; width: auto;} td:nth-child(2) {text-align: left ; width: 100%}\n",
       "    .wandb-row { display: flex; flex-direction: row; flex-wrap: wrap; justify-content: flex-start; width: 100% }\n",
       "    .wandb-col { display: flex; flex-direction: column; flex-basis: 100%; flex: 1; padding: 10px; }\n",
       "    </style>\n",
       "<div class=\"wandb-row\"><div class=\"wandb-col\"><h3>Run history:</h3><br/><table class=\"wandb\"><tr><td>eval/accuracy</td><td>▁█</td></tr><tr><td>eval/f1</td><td>▁█</td></tr><tr><td>eval/loss</td><td>█▁</td></tr><tr><td>eval/precision</td><td>▁█</td></tr><tr><td>eval/recall</td><td>▁█</td></tr><tr><td>eval/runtime</td><td>█▁</td></tr><tr><td>eval/samples_per_second</td><td>▁█</td></tr><tr><td>eval/steps_per_second</td><td>▁█</td></tr><tr><td>train/epoch</td><td>▁▁▆▆█</td></tr><tr><td>train/global_step</td><td>▁▁▅▅█</td></tr><tr><td>train/learning_rate</td><td>█▁</td></tr><tr><td>train/loss</td><td>█▁</td></tr><tr><td>train/total_flos</td><td>▁</td></tr><tr><td>train/train_loss</td><td>▁</td></tr><tr><td>train/train_runtime</td><td>▁</td></tr><tr><td>train/train_samples_per_second</td><td>▁</td></tr><tr><td>train/train_steps_per_second</td><td>▁</td></tr></table><br/></div><div class=\"wandb-col\"><h3>Run summary:</h3><br/><table class=\"wandb\"><tr><td>eval/accuracy</td><td>0.7348</td></tr><tr><td>eval/f1</td><td>0.73839</td></tr><tr><td>eval/loss</td><td>0.62855</td></tr><tr><td>eval/precision</td><td>0.73908</td></tr><tr><td>eval/recall</td><td>0.73775</td></tr><tr><td>eval/runtime</td><td>21.2075</td></tr><tr><td>eval/samples_per_second</td><td>321.113</td></tr><tr><td>eval/steps_per_second</td><td>40.174</td></tr><tr><td>train/epoch</td><td>3.0</td></tr><tr><td>train/global_step</td><td>1278</td></tr><tr><td>train/learning_rate</td><td>0.0</td></tr><tr><td>train/loss</td><td>0.6199</td></tr><tr><td>train/total_flos</td><td>5412317026157568.0</td></tr><tr><td>train/train_loss</td><td>0.68116</td></tr><tr><td>train/train_runtime</td><td>832.1637</td></tr><tr><td>train/train_samples_per_second</td><td>98.195</td></tr><tr><td>train/train_steps_per_second</td><td>1.536</td></tr></table><br/></div></div>"
      ],
      "text/plain": [
       "<IPython.core.display.HTML object>"
      ]
     },
     "metadata": {},
     "output_type": "display_data"
    },
    {
     "data": {
      "text/html": [
       " View run <strong style=\"color:#cdcd00\">legendary-fire-374</strong> at: <a href='https://wandb.ai/ericat/huggingface/runs/oyov0ych' target=\"_blank\">https://wandb.ai/ericat/huggingface/runs/oyov0ych</a><br/>Synced 5 W&B file(s), 0 media file(s), 0 artifact file(s) and 0 other file(s)"
      ],
      "text/plain": [
       "<IPython.core.display.HTML object>"
      ]
     },
     "metadata": {},
     "output_type": "display_data"
    },
    {
     "data": {
      "text/html": [
       "Find logs at: <code>.\\wandb\\run-20231204_180203-oyov0ych\\logs</code>"
      ],
      "text/plain": [
       "<IPython.core.display.HTML object>"
      ]
     },
     "metadata": {},
     "output_type": "display_data"
    },
    {
     "data": {
      "application/vnd.jupyter.widget-view+json": {
       "model_id": "1708fea564f740ada76f50f88767f831",
       "version_major": 2,
       "version_minor": 0
      },
      "text/plain": [
       "VBox(children=(Label(value='Waiting for wandb.init()...\\r'), FloatProgress(value=0.011288888888889738, max=1.0…"
      ]
     },
     "metadata": {},
     "output_type": "display_data"
    },
    {
     "data": {
      "text/html": [
       "Tracking run with wandb version 0.16.0"
      ],
      "text/plain": [
       "<IPython.core.display.HTML object>"
      ]
     },
     "metadata": {},
     "output_type": "display_data"
    },
    {
     "data": {
      "text/html": [
       "Run data is saved locally in <code>D:\\Projects\\Jupyter\\Sentiment analysis\\04DEC\\wandb\\run-20231204_181600-wowbb3pt</code>"
      ],
      "text/plain": [
       "<IPython.core.display.HTML object>"
      ]
     },
     "metadata": {},
     "output_type": "display_data"
    },
    {
     "data": {
      "text/html": [
       "Syncing run <strong><a href='https://wandb.ai/ericat/huggingface/runs/wowbb3pt' target=\"_blank\">dark-frog-375</a></strong> to <a href='https://wandb.ai/ericat/huggingface' target=\"_blank\">Weights & Biases</a> (<a href='https://wandb.me/run' target=\"_blank\">docs</a>)<br/>"
      ],
      "text/plain": [
       "<IPython.core.display.HTML object>"
      ]
     },
     "metadata": {},
     "output_type": "display_data"
    },
    {
     "data": {
      "text/html": [
       " View project at <a href='https://wandb.ai/ericat/huggingface' target=\"_blank\">https://wandb.ai/ericat/huggingface</a>"
      ],
      "text/plain": [
       "<IPython.core.display.HTML object>"
      ]
     },
     "metadata": {},
     "output_type": "display_data"
    },
    {
     "data": {
      "text/html": [
       " View run at <a href='https://wandb.ai/ericat/huggingface/runs/wowbb3pt' target=\"_blank\">https://wandb.ai/ericat/huggingface/runs/wowbb3pt</a>"
      ],
      "text/plain": [
       "<IPython.core.display.HTML object>"
      ]
     },
     "metadata": {},
     "output_type": "display_data"
    },
    {
     "name": "stdout",
     "output_type": "stream",
     "text": [
      "{'loss': 1.0986, 'learning_rate': 0.00027093107022323535, 'epoch': 0.73}\n"
     ]
    },
    {
     "name": "stderr",
     "output_type": "stream",
     "text": [
      "D:\\Software\\Anaconda3\\envs\\validation\\Lib\\site-packages\\sklearn\\metrics\\_classification.py:1469: UndefinedMetricWarning: Precision and F-score are ill-defined and being set to 0.0 in labels with no predicted samples. Use `zero_division` parameter to control this behavior.\n",
      "  _warn_prf(average, modifier, msg_start, len(result))\n",
      "[I 2023-12-04 18:19:10,519] Trial 5 pruned. \n"
     ]
    },
    {
     "name": "stdout",
     "output_type": "stream",
     "text": [
      "{'eval_loss': 1.0891389846801758, 'eval_accuracy': 0.39823788546255506, 'eval_f1': 0.1898760764545264, 'eval_precision': 0.1327459618208517, 'eval_recall': 0.3333333333333333, 'eval_runtime': 21.1191, 'eval_samples_per_second': 322.457, 'eval_steps_per_second': 40.343, 'epoch': 0.73}\n"
     ]
    },
    {
     "data": {
      "application/vnd.jupyter.widget-view+json": {
       "model_id": "",
       "version_major": 2,
       "version_minor": 0
      },
      "text/plain": [
       "VBox(children=(Label(value='0.001 MB of 0.001 MB uploaded\\r'), FloatProgress(value=1.0, max=1.0)))"
      ]
     },
     "metadata": {},
     "output_type": "display_data"
    },
    {
     "data": {
      "text/html": [
       "<style>\n",
       "    table.wandb td:nth-child(1) { padding: 0 10px; text-align: left ; width: auto;} td:nth-child(2) {text-align: left ; width: 100%}\n",
       "    .wandb-row { display: flex; flex-direction: row; flex-wrap: wrap; justify-content: flex-start; width: 100% }\n",
       "    .wandb-col { display: flex; flex-direction: column; flex-basis: 100%; flex: 1; padding: 10px; }\n",
       "    </style>\n",
       "<div class=\"wandb-row\"><div class=\"wandb-col\"><h3>Run history:</h3><br/><table class=\"wandb\"><tr><td>eval/accuracy</td><td>▁</td></tr><tr><td>eval/f1</td><td>▁</td></tr><tr><td>eval/loss</td><td>▁</td></tr><tr><td>eval/precision</td><td>▁</td></tr><tr><td>eval/recall</td><td>▁</td></tr><tr><td>eval/runtime</td><td>▁</td></tr><tr><td>eval/samples_per_second</td><td>▁</td></tr><tr><td>eval/steps_per_second</td><td>▁</td></tr><tr><td>train/epoch</td><td>▁▁</td></tr><tr><td>train/global_step</td><td>▁▁</td></tr><tr><td>train/learning_rate</td><td>▁</td></tr><tr><td>train/loss</td><td>▁</td></tr></table><br/></div><div class=\"wandb-col\"><h3>Run summary:</h3><br/><table class=\"wandb\"><tr><td>eval/accuracy</td><td>0.39824</td></tr><tr><td>eval/f1</td><td>0.18988</td></tr><tr><td>eval/loss</td><td>1.08914</td></tr><tr><td>eval/precision</td><td>0.13275</td></tr><tr><td>eval/recall</td><td>0.33333</td></tr><tr><td>eval/runtime</td><td>21.1191</td></tr><tr><td>eval/samples_per_second</td><td>322.457</td></tr><tr><td>eval/steps_per_second</td><td>40.343</td></tr><tr><td>train/epoch</td><td>0.73</td></tr><tr><td>train/global_step</td><td>500</td></tr><tr><td>train/learning_rate</td><td>0.00027</td></tr><tr><td>train/loss</td><td>1.0986</td></tr></table><br/></div></div>"
      ],
      "text/plain": [
       "<IPython.core.display.HTML object>"
      ]
     },
     "metadata": {},
     "output_type": "display_data"
    },
    {
     "data": {
      "text/html": [
       " View run <strong style=\"color:#cdcd00\">dark-frog-375</strong> at: <a href='https://wandb.ai/ericat/huggingface/runs/wowbb3pt' target=\"_blank\">https://wandb.ai/ericat/huggingface/runs/wowbb3pt</a><br/>Synced 5 W&B file(s), 0 media file(s), 0 artifact file(s) and 0 other file(s)"
      ],
      "text/plain": [
       "<IPython.core.display.HTML object>"
      ]
     },
     "metadata": {},
     "output_type": "display_data"
    },
    {
     "data": {
      "text/html": [
       "Find logs at: <code>.\\wandb\\run-20231204_181600-wowbb3pt\\logs</code>"
      ],
      "text/plain": [
       "<IPython.core.display.HTML object>"
      ]
     },
     "metadata": {},
     "output_type": "display_data"
    },
    {
     "data": {
      "application/vnd.jupyter.widget-view+json": {
       "model_id": "a2cf8f0078bd4f7685dff9a19a3dec2e",
       "version_major": 2,
       "version_minor": 0
      },
      "text/plain": [
       "VBox(children=(Label(value='Waiting for wandb.init()...\\r'), FloatProgress(value=0.011111111111111112, max=1.0…"
      ]
     },
     "metadata": {},
     "output_type": "display_data"
    },
    {
     "data": {
      "text/html": [
       "Tracking run with wandb version 0.16.0"
      ],
      "text/plain": [
       "<IPython.core.display.HTML object>"
      ]
     },
     "metadata": {},
     "output_type": "display_data"
    },
    {
     "data": {
      "text/html": [
       "Run data is saved locally in <code>D:\\Projects\\Jupyter\\Sentiment analysis\\04DEC\\wandb\\run-20231204_181919-abxhsrrk</code>"
      ],
      "text/plain": [
       "<IPython.core.display.HTML object>"
      ]
     },
     "metadata": {},
     "output_type": "display_data"
    },
    {
     "data": {
      "text/html": [
       "Syncing run <strong><a href='https://wandb.ai/ericat/huggingface/runs/abxhsrrk' target=\"_blank\">swift-leaf-376</a></strong> to <a href='https://wandb.ai/ericat/huggingface' target=\"_blank\">Weights & Biases</a> (<a href='https://wandb.me/run' target=\"_blank\">docs</a>)<br/>"
      ],
      "text/plain": [
       "<IPython.core.display.HTML object>"
      ]
     },
     "metadata": {},
     "output_type": "display_data"
    },
    {
     "data": {
      "text/html": [
       " View project at <a href='https://wandb.ai/ericat/huggingface' target=\"_blank\">https://wandb.ai/ericat/huggingface</a>"
      ],
      "text/plain": [
       "<IPython.core.display.HTML object>"
      ]
     },
     "metadata": {},
     "output_type": "display_data"
    },
    {
     "data": {
      "text/html": [
       " View run at <a href='https://wandb.ai/ericat/huggingface/runs/abxhsrrk' target=\"_blank\">https://wandb.ai/ericat/huggingface/runs/abxhsrrk</a>"
      ],
      "text/plain": [
       "<IPython.core.display.HTML object>"
      ]
     },
     "metadata": {},
     "output_type": "display_data"
    },
    {
     "name": "stdout",
     "output_type": "stream",
     "text": [
      "{'loss': 1.094, 'learning_rate': 0.00022453990854616202, 'epoch': 0.88}\n"
     ]
    },
    {
     "name": "stderr",
     "output_type": "stream",
     "text": [
      "D:\\Software\\Anaconda3\\envs\\validation\\Lib\\site-packages\\sklearn\\metrics\\_classification.py:1469: UndefinedMetricWarning: Precision and F-score are ill-defined and being set to 0.0 in labels with no predicted samples. Use `zero_division` parameter to control this behavior.\n",
      "  _warn_prf(average, modifier, msg_start, len(result))\n",
      "[I 2023-12-04 18:22:57,917] Trial 6 pruned. \n"
     ]
    },
    {
     "name": "stdout",
     "output_type": "stream",
     "text": [
      "{'eval_loss': 1.0911535024642944, 'eval_accuracy': 0.39823788546255506, 'eval_f1': 0.1898760764545264, 'eval_precision': 0.1327459618208517, 'eval_recall': 0.3333333333333333, 'eval_runtime': 21.122, 'eval_samples_per_second': 322.413, 'eval_steps_per_second': 40.337, 'epoch': 0.88}\n"
     ]
    },
    {
     "data": {
      "application/vnd.jupyter.widget-view+json": {
       "model_id": "",
       "version_major": 2,
       "version_minor": 0
      },
      "text/plain": [
       "VBox(children=(Label(value='0.001 MB of 0.001 MB uploaded\\r'), FloatProgress(value=1.0, max=1.0)))"
      ]
     },
     "metadata": {},
     "output_type": "display_data"
    },
    {
     "data": {
      "text/html": [
       "<style>\n",
       "    table.wandb td:nth-child(1) { padding: 0 10px; text-align: left ; width: auto;} td:nth-child(2) {text-align: left ; width: 100%}\n",
       "    .wandb-row { display: flex; flex-direction: row; flex-wrap: wrap; justify-content: flex-start; width: 100% }\n",
       "    .wandb-col { display: flex; flex-direction: column; flex-basis: 100%; flex: 1; padding: 10px; }\n",
       "    </style>\n",
       "<div class=\"wandb-row\"><div class=\"wandb-col\"><h3>Run history:</h3><br/><table class=\"wandb\"><tr><td>eval/accuracy</td><td>▁</td></tr><tr><td>eval/f1</td><td>▁</td></tr><tr><td>eval/loss</td><td>▁</td></tr><tr><td>eval/precision</td><td>▁</td></tr><tr><td>eval/recall</td><td>▁</td></tr><tr><td>eval/runtime</td><td>▁</td></tr><tr><td>eval/samples_per_second</td><td>▁</td></tr><tr><td>eval/steps_per_second</td><td>▁</td></tr><tr><td>train/epoch</td><td>▁▁</td></tr><tr><td>train/global_step</td><td>▁▁</td></tr><tr><td>train/learning_rate</td><td>▁</td></tr><tr><td>train/loss</td><td>▁</td></tr></table><br/></div><div class=\"wandb-col\"><h3>Run summary:</h3><br/><table class=\"wandb\"><tr><td>eval/accuracy</td><td>0.39824</td></tr><tr><td>eval/f1</td><td>0.18988</td></tr><tr><td>eval/loss</td><td>1.09115</td></tr><tr><td>eval/precision</td><td>0.13275</td></tr><tr><td>eval/recall</td><td>0.33333</td></tr><tr><td>eval/runtime</td><td>21.122</td></tr><tr><td>eval/samples_per_second</td><td>322.413</td></tr><tr><td>eval/steps_per_second</td><td>40.337</td></tr><tr><td>train/epoch</td><td>0.88</td></tr><tr><td>train/global_step</td><td>500</td></tr><tr><td>train/learning_rate</td><td>0.00022</td></tr><tr><td>train/loss</td><td>1.094</td></tr></table><br/></div></div>"
      ],
      "text/plain": [
       "<IPython.core.display.HTML object>"
      ]
     },
     "metadata": {},
     "output_type": "display_data"
    },
    {
     "data": {
      "text/html": [
       " View run <strong style=\"color:#cdcd00\">swift-leaf-376</strong> at: <a href='https://wandb.ai/ericat/huggingface/runs/abxhsrrk' target=\"_blank\">https://wandb.ai/ericat/huggingface/runs/abxhsrrk</a><br/>Synced 5 W&B file(s), 0 media file(s), 0 artifact file(s) and 0 other file(s)"
      ],
      "text/plain": [
       "<IPython.core.display.HTML object>"
      ]
     },
     "metadata": {},
     "output_type": "display_data"
    },
    {
     "data": {
      "text/html": [
       "Find logs at: <code>.\\wandb\\run-20231204_181919-abxhsrrk\\logs</code>"
      ],
      "text/plain": [
       "<IPython.core.display.HTML object>"
      ]
     },
     "metadata": {},
     "output_type": "display_data"
    },
    {
     "data": {
      "application/vnd.jupyter.widget-view+json": {
       "model_id": "fc1439c9401f4acda27885fcd62df70a",
       "version_major": 2,
       "version_minor": 0
      },
      "text/plain": [
       "VBox(children=(Label(value='Waiting for wandb.init()...\\r'), FloatProgress(value=0.011111111111111112, max=1.0…"
      ]
     },
     "metadata": {},
     "output_type": "display_data"
    },
    {
     "data": {
      "text/html": [
       "Tracking run with wandb version 0.16.0"
      ],
      "text/plain": [
       "<IPython.core.display.HTML object>"
      ]
     },
     "metadata": {},
     "output_type": "display_data"
    },
    {
     "data": {
      "text/html": [
       "Run data is saved locally in <code>D:\\Projects\\Jupyter\\Sentiment analysis\\04DEC\\wandb\\run-20231204_182305-ob9vhsut</code>"
      ],
      "text/plain": [
       "<IPython.core.display.HTML object>"
      ]
     },
     "metadata": {},
     "output_type": "display_data"
    },
    {
     "data": {
      "text/html": [
       "Syncing run <strong><a href='https://wandb.ai/ericat/huggingface/runs/ob9vhsut' target=\"_blank\">silver-aardvark-377</a></strong> to <a href='https://wandb.ai/ericat/huggingface' target=\"_blank\">Weights & Biases</a> (<a href='https://wandb.me/run' target=\"_blank\">docs</a>)<br/>"
      ],
      "text/plain": [
       "<IPython.core.display.HTML object>"
      ]
     },
     "metadata": {},
     "output_type": "display_data"
    },
    {
     "data": {
      "text/html": [
       " View project at <a href='https://wandb.ai/ericat/huggingface' target=\"_blank\">https://wandb.ai/ericat/huggingface</a>"
      ],
      "text/plain": [
       "<IPython.core.display.HTML object>"
      ]
     },
     "metadata": {},
     "output_type": "display_data"
    },
    {
     "data": {
      "text/html": [
       " View run at <a href='https://wandb.ai/ericat/huggingface/runs/ob9vhsut' target=\"_blank\">https://wandb.ai/ericat/huggingface/runs/ob9vhsut</a>"
      ],
      "text/plain": [
       "<IPython.core.display.HTML object>"
      ]
     },
     "metadata": {},
     "output_type": "display_data"
    },
    {
     "name": "stdout",
     "output_type": "stream",
     "text": [
      "{'loss': 1.0943, 'learning_rate': 0.0005387906076774552, 'epoch': 0.59}\n"
     ]
    },
    {
     "name": "stderr",
     "output_type": "stream",
     "text": [
      "D:\\Software\\Anaconda3\\envs\\validation\\Lib\\site-packages\\sklearn\\metrics\\_classification.py:1469: UndefinedMetricWarning: Precision and F-score are ill-defined and being set to 0.0 in labels with no predicted samples. Use `zero_division` parameter to control this behavior.\n",
      "  _warn_prf(average, modifier, msg_start, len(result))\n",
      "[I 2023-12-04 18:25:45,079] Trial 7 pruned. \n"
     ]
    },
    {
     "name": "stdout",
     "output_type": "stream",
     "text": [
      "{'eval_loss': 1.0904641151428223, 'eval_accuracy': 0.39823788546255506, 'eval_f1': 0.1898760764545264, 'eval_precision': 0.1327459618208517, 'eval_recall': 0.3333333333333333, 'eval_runtime': 21.089, 'eval_samples_per_second': 322.918, 'eval_steps_per_second': 40.4, 'epoch': 0.59}\n"
     ]
    },
    {
     "data": {
      "application/vnd.jupyter.widget-view+json": {
       "model_id": "",
       "version_major": 2,
       "version_minor": 0
      },
      "text/plain": [
       "VBox(children=(Label(value='0.001 MB of 0.001 MB uploaded\\r'), FloatProgress(value=1.0, max=1.0)))"
      ]
     },
     "metadata": {},
     "output_type": "display_data"
    },
    {
     "data": {
      "text/html": [
       "<style>\n",
       "    table.wandb td:nth-child(1) { padding: 0 10px; text-align: left ; width: auto;} td:nth-child(2) {text-align: left ; width: 100%}\n",
       "    .wandb-row { display: flex; flex-direction: row; flex-wrap: wrap; justify-content: flex-start; width: 100% }\n",
       "    .wandb-col { display: flex; flex-direction: column; flex-basis: 100%; flex: 1; padding: 10px; }\n",
       "    </style>\n",
       "<div class=\"wandb-row\"><div class=\"wandb-col\"><h3>Run history:</h3><br/><table class=\"wandb\"><tr><td>eval/accuracy</td><td>▁</td></tr><tr><td>eval/f1</td><td>▁</td></tr><tr><td>eval/loss</td><td>▁</td></tr><tr><td>eval/precision</td><td>▁</td></tr><tr><td>eval/recall</td><td>▁</td></tr><tr><td>eval/runtime</td><td>▁</td></tr><tr><td>eval/samples_per_second</td><td>▁</td></tr><tr><td>eval/steps_per_second</td><td>▁</td></tr><tr><td>train/epoch</td><td>▁▁</td></tr><tr><td>train/global_step</td><td>▁▁</td></tr><tr><td>train/learning_rate</td><td>▁</td></tr><tr><td>train/loss</td><td>▁</td></tr></table><br/></div><div class=\"wandb-col\"><h3>Run summary:</h3><br/><table class=\"wandb\"><tr><td>eval/accuracy</td><td>0.39824</td></tr><tr><td>eval/f1</td><td>0.18988</td></tr><tr><td>eval/loss</td><td>1.09046</td></tr><tr><td>eval/precision</td><td>0.13275</td></tr><tr><td>eval/recall</td><td>0.33333</td></tr><tr><td>eval/runtime</td><td>21.089</td></tr><tr><td>eval/samples_per_second</td><td>322.918</td></tr><tr><td>eval/steps_per_second</td><td>40.4</td></tr><tr><td>train/epoch</td><td>0.59</td></tr><tr><td>train/global_step</td><td>500</td></tr><tr><td>train/learning_rate</td><td>0.00054</td></tr><tr><td>train/loss</td><td>1.0943</td></tr></table><br/></div></div>"
      ],
      "text/plain": [
       "<IPython.core.display.HTML object>"
      ]
     },
     "metadata": {},
     "output_type": "display_data"
    },
    {
     "data": {
      "text/html": [
       " View run <strong style=\"color:#cdcd00\">silver-aardvark-377</strong> at: <a href='https://wandb.ai/ericat/huggingface/runs/ob9vhsut' target=\"_blank\">https://wandb.ai/ericat/huggingface/runs/ob9vhsut</a><br/>Synced 5 W&B file(s), 0 media file(s), 0 artifact file(s) and 0 other file(s)"
      ],
      "text/plain": [
       "<IPython.core.display.HTML object>"
      ]
     },
     "metadata": {},
     "output_type": "display_data"
    },
    {
     "data": {
      "text/html": [
       "Find logs at: <code>.\\wandb\\run-20231204_182305-ob9vhsut\\logs</code>"
      ],
      "text/plain": [
       "<IPython.core.display.HTML object>"
      ]
     },
     "metadata": {},
     "output_type": "display_data"
    },
    {
     "data": {
      "application/vnd.jupyter.widget-view+json": {
       "model_id": "b6ed0edb60f34ce7b9a85d03459bcb11",
       "version_major": 2,
       "version_minor": 0
      },
      "text/plain": [
       "VBox(children=(Label(value='Waiting for wandb.init()...\\r'), FloatProgress(value=0.011288888888884685, max=1.0…"
      ]
     },
     "metadata": {},
     "output_type": "display_data"
    },
    {
     "data": {
      "text/html": [
       "Tracking run with wandb version 0.16.0"
      ],
      "text/plain": [
       "<IPython.core.display.HTML object>"
      ]
     },
     "metadata": {},
     "output_type": "display_data"
    },
    {
     "data": {
      "text/html": [
       "Run data is saved locally in <code>D:\\Projects\\Jupyter\\Sentiment analysis\\04DEC\\wandb\\run-20231204_182553-2mx92kq0</code>"
      ],
      "text/plain": [
       "<IPython.core.display.HTML object>"
      ]
     },
     "metadata": {},
     "output_type": "display_data"
    },
    {
     "data": {
      "text/html": [
       "Syncing run <strong><a href='https://wandb.ai/ericat/huggingface/runs/2mx92kq0' target=\"_blank\">easy-deluge-378</a></strong> to <a href='https://wandb.ai/ericat/huggingface' target=\"_blank\">Weights & Biases</a> (<a href='https://wandb.me/run' target=\"_blank\">docs</a>)<br/>"
      ],
      "text/plain": [
       "<IPython.core.display.HTML object>"
      ]
     },
     "metadata": {},
     "output_type": "display_data"
    },
    {
     "data": {
      "text/html": [
       " View project at <a href='https://wandb.ai/ericat/huggingface' target=\"_blank\">https://wandb.ai/ericat/huggingface</a>"
      ],
      "text/plain": [
       "<IPython.core.display.HTML object>"
      ]
     },
     "metadata": {},
     "output_type": "display_data"
    },
    {
     "data": {
      "text/html": [
       " View run at <a href='https://wandb.ai/ericat/huggingface/runs/2mx92kq0' target=\"_blank\">https://wandb.ai/ericat/huggingface/runs/2mx92kq0</a>"
      ],
      "text/plain": [
       "<IPython.core.display.HTML object>"
      ]
     },
     "metadata": {},
     "output_type": "display_data"
    },
    {
     "name": "stdout",
     "output_type": "stream",
     "text": [
      "{'loss': 1.0926, 'learning_rate': 0.0002683619992324672, 'epoch': 1.32}\n"
     ]
    },
    {
     "name": "stderr",
     "output_type": "stream",
     "text": [
      "D:\\Software\\Anaconda3\\envs\\validation\\Lib\\site-packages\\sklearn\\metrics\\_classification.py:1469: UndefinedMetricWarning: Precision and F-score are ill-defined and being set to 0.0 in labels with no predicted samples. Use `zero_division` parameter to control this behavior.\n",
      "  _warn_prf(average, modifier, msg_start, len(result))\n",
      "[I 2023-12-04 18:35:54,270] Trial 8 pruned. \n"
     ]
    },
    {
     "name": "stdout",
     "output_type": "stream",
     "text": [
      "{'eval_loss': 1.0892422199249268, 'eval_accuracy': 0.39823788546255506, 'eval_f1': 0.1898760764545264, 'eval_precision': 0.1327459618208517, 'eval_recall': 0.3333333333333333, 'eval_runtime': 20.8711, 'eval_samples_per_second': 326.288, 'eval_steps_per_second': 40.822, 'epoch': 1.32}\n"
     ]
    },
    {
     "data": {
      "application/vnd.jupyter.widget-view+json": {
       "model_id": "",
       "version_major": 2,
       "version_minor": 0
      },
      "text/plain": [
       "VBox(children=(Label(value='0.001 MB of 0.001 MB uploaded\\r'), FloatProgress(value=1.0, max=1.0)))"
      ]
     },
     "metadata": {},
     "output_type": "display_data"
    },
    {
     "data": {
      "text/html": [
       "<style>\n",
       "    table.wandb td:nth-child(1) { padding: 0 10px; text-align: left ; width: auto;} td:nth-child(2) {text-align: left ; width: 100%}\n",
       "    .wandb-row { display: flex; flex-direction: row; flex-wrap: wrap; justify-content: flex-start; width: 100% }\n",
       "    .wandb-col { display: flex; flex-direction: column; flex-basis: 100%; flex: 1; padding: 10px; }\n",
       "    </style>\n",
       "<div class=\"wandb-row\"><div class=\"wandb-col\"><h3>Run history:</h3><br/><table class=\"wandb\"><tr><td>eval/accuracy</td><td>▁</td></tr><tr><td>eval/f1</td><td>▁</td></tr><tr><td>eval/loss</td><td>▁</td></tr><tr><td>eval/precision</td><td>▁</td></tr><tr><td>eval/recall</td><td>▁</td></tr><tr><td>eval/runtime</td><td>▁</td></tr><tr><td>eval/samples_per_second</td><td>▁</td></tr><tr><td>eval/steps_per_second</td><td>▁</td></tr><tr><td>train/epoch</td><td>▁▁</td></tr><tr><td>train/global_step</td><td>▁▁</td></tr><tr><td>train/learning_rate</td><td>▁</td></tr><tr><td>train/loss</td><td>▁</td></tr></table><br/></div><div class=\"wandb-col\"><h3>Run summary:</h3><br/><table class=\"wandb\"><tr><td>eval/accuracy</td><td>0.39824</td></tr><tr><td>eval/f1</td><td>0.18988</td></tr><tr><td>eval/loss</td><td>1.08924</td></tr><tr><td>eval/precision</td><td>0.13275</td></tr><tr><td>eval/recall</td><td>0.33333</td></tr><tr><td>eval/runtime</td><td>20.8711</td></tr><tr><td>eval/samples_per_second</td><td>326.288</td></tr><tr><td>eval/steps_per_second</td><td>40.822</td></tr><tr><td>train/epoch</td><td>1.32</td></tr><tr><td>train/global_step</td><td>500</td></tr><tr><td>train/learning_rate</td><td>0.00027</td></tr><tr><td>train/loss</td><td>1.0926</td></tr></table><br/></div></div>"
      ],
      "text/plain": [
       "<IPython.core.display.HTML object>"
      ]
     },
     "metadata": {},
     "output_type": "display_data"
    },
    {
     "data": {
      "text/html": [
       " View run <strong style=\"color:#cdcd00\">easy-deluge-378</strong> at: <a href='https://wandb.ai/ericat/huggingface/runs/2mx92kq0' target=\"_blank\">https://wandb.ai/ericat/huggingface/runs/2mx92kq0</a><br/>Synced 5 W&B file(s), 0 media file(s), 0 artifact file(s) and 0 other file(s)"
      ],
      "text/plain": [
       "<IPython.core.display.HTML object>"
      ]
     },
     "metadata": {},
     "output_type": "display_data"
    },
    {
     "data": {
      "text/html": [
       "Find logs at: <code>.\\wandb\\run-20231204_182553-2mx92kq0\\logs</code>"
      ],
      "text/plain": [
       "<IPython.core.display.HTML object>"
      ]
     },
     "metadata": {},
     "output_type": "display_data"
    },
    {
     "data": {
      "application/vnd.jupyter.widget-view+json": {
       "model_id": "4a5a34a1776246559acc20500fb33019",
       "version_major": 2,
       "version_minor": 0
      },
      "text/plain": [
       "VBox(children=(Label(value='Waiting for wandb.init()...\\r'), FloatProgress(value=0.01127777777777131, max=1.0)…"
      ]
     },
     "metadata": {},
     "output_type": "display_data"
    },
    {
     "data": {
      "text/html": [
       "Tracking run with wandb version 0.16.0"
      ],
      "text/plain": [
       "<IPython.core.display.HTML object>"
      ]
     },
     "metadata": {},
     "output_type": "display_data"
    },
    {
     "data": {
      "text/html": [
       "Run data is saved locally in <code>D:\\Projects\\Jupyter\\Sentiment analysis\\04DEC\\wandb\\run-20231204_183602-7ag7xi73</code>"
      ],
      "text/plain": [
       "<IPython.core.display.HTML object>"
      ]
     },
     "metadata": {},
     "output_type": "display_data"
    },
    {
     "data": {
      "text/html": [
       "Syncing run <strong><a href='https://wandb.ai/ericat/huggingface/runs/7ag7xi73' target=\"_blank\">gentle-bush-379</a></strong> to <a href='https://wandb.ai/ericat/huggingface' target=\"_blank\">Weights & Biases</a> (<a href='https://wandb.me/run' target=\"_blank\">docs</a>)<br/>"
      ],
      "text/plain": [
       "<IPython.core.display.HTML object>"
      ]
     },
     "metadata": {},
     "output_type": "display_data"
    },
    {
     "data": {
      "text/html": [
       " View project at <a href='https://wandb.ai/ericat/huggingface' target=\"_blank\">https://wandb.ai/ericat/huggingface</a>"
      ],
      "text/plain": [
       "<IPython.core.display.HTML object>"
      ]
     },
     "metadata": {},
     "output_type": "display_data"
    },
    {
     "data": {
      "text/html": [
       " View run at <a href='https://wandb.ai/ericat/huggingface/runs/7ag7xi73' target=\"_blank\">https://wandb.ai/ericat/huggingface/runs/7ag7xi73</a>"
      ],
      "text/plain": [
       "<IPython.core.display.HTML object>"
      ]
     },
     "metadata": {},
     "output_type": "display_data"
    },
    {
     "name": "stdout",
     "output_type": "stream",
     "text": [
      "{'loss': 1.1006, 'learning_rate': 0.00014141172030784343, 'epoch': 0.66}\n"
     ]
    },
    {
     "name": "stderr",
     "output_type": "stream",
     "text": [
      "D:\\Software\\Anaconda3\\envs\\validation\\Lib\\site-packages\\sklearn\\metrics\\_classification.py:1469: UndefinedMetricWarning: Precision and F-score are ill-defined and being set to 0.0 in labels with no predicted samples. Use `zero_division` parameter to control this behavior.\n",
      "  _warn_prf(average, modifier, msg_start, len(result))\n",
      "[I 2023-12-04 18:38:56,178] Trial 9 pruned. \n"
     ]
    },
    {
     "name": "stdout",
     "output_type": "stream",
     "text": [
      "{'eval_loss': 1.0950684547424316, 'eval_accuracy': 0.39823788546255506, 'eval_f1': 0.1898760764545264, 'eval_precision': 0.1327459618208517, 'eval_recall': 0.3333333333333333, 'eval_runtime': 21.128, 'eval_samples_per_second': 322.321, 'eval_steps_per_second': 40.326, 'epoch': 0.66}\n"
     ]
    },
    {
     "data": {
      "application/vnd.jupyter.widget-view+json": {
       "model_id": "",
       "version_major": 2,
       "version_minor": 0
      },
      "text/plain": [
       "VBox(children=(Label(value='0.001 MB of 0.001 MB uploaded\\r'), FloatProgress(value=1.0, max=1.0)))"
      ]
     },
     "metadata": {},
     "output_type": "display_data"
    },
    {
     "data": {
      "text/html": [
       "<style>\n",
       "    table.wandb td:nth-child(1) { padding: 0 10px; text-align: left ; width: auto;} td:nth-child(2) {text-align: left ; width: 100%}\n",
       "    .wandb-row { display: flex; flex-direction: row; flex-wrap: wrap; justify-content: flex-start; width: 100% }\n",
       "    .wandb-col { display: flex; flex-direction: column; flex-basis: 100%; flex: 1; padding: 10px; }\n",
       "    </style>\n",
       "<div class=\"wandb-row\"><div class=\"wandb-col\"><h3>Run history:</h3><br/><table class=\"wandb\"><tr><td>eval/accuracy</td><td>▁</td></tr><tr><td>eval/f1</td><td>▁</td></tr><tr><td>eval/loss</td><td>▁</td></tr><tr><td>eval/precision</td><td>▁</td></tr><tr><td>eval/recall</td><td>▁</td></tr><tr><td>eval/runtime</td><td>▁</td></tr><tr><td>eval/samples_per_second</td><td>▁</td></tr><tr><td>eval/steps_per_second</td><td>▁</td></tr><tr><td>train/epoch</td><td>▁▁</td></tr><tr><td>train/global_step</td><td>▁▁</td></tr><tr><td>train/learning_rate</td><td>▁</td></tr><tr><td>train/loss</td><td>▁</td></tr></table><br/></div><div class=\"wandb-col\"><h3>Run summary:</h3><br/><table class=\"wandb\"><tr><td>eval/accuracy</td><td>0.39824</td></tr><tr><td>eval/f1</td><td>0.18988</td></tr><tr><td>eval/loss</td><td>1.09507</td></tr><tr><td>eval/precision</td><td>0.13275</td></tr><tr><td>eval/recall</td><td>0.33333</td></tr><tr><td>eval/runtime</td><td>21.128</td></tr><tr><td>eval/samples_per_second</td><td>322.321</td></tr><tr><td>eval/steps_per_second</td><td>40.326</td></tr><tr><td>train/epoch</td><td>0.66</td></tr><tr><td>train/global_step</td><td>500</td></tr><tr><td>train/learning_rate</td><td>0.00014</td></tr><tr><td>train/loss</td><td>1.1006</td></tr></table><br/></div></div>"
      ],
      "text/plain": [
       "<IPython.core.display.HTML object>"
      ]
     },
     "metadata": {},
     "output_type": "display_data"
    },
    {
     "data": {
      "text/html": [
       " View run <strong style=\"color:#cdcd00\">gentle-bush-379</strong> at: <a href='https://wandb.ai/ericat/huggingface/runs/7ag7xi73' target=\"_blank\">https://wandb.ai/ericat/huggingface/runs/7ag7xi73</a><br/>Synced 5 W&B file(s), 0 media file(s), 0 artifact file(s) and 0 other file(s)"
      ],
      "text/plain": [
       "<IPython.core.display.HTML object>"
      ]
     },
     "metadata": {},
     "output_type": "display_data"
    },
    {
     "data": {
      "text/html": [
       "Find logs at: <code>.\\wandb\\run-20231204_183602-7ag7xi73\\logs</code>"
      ],
      "text/plain": [
       "<IPython.core.display.HTML object>"
      ]
     },
     "metadata": {},
     "output_type": "display_data"
    },
    {
     "data": {
      "application/vnd.jupyter.widget-view+json": {
       "model_id": "ea532dd81c9545c9b3e4cd8668c6f9a3",
       "version_major": 2,
       "version_minor": 0
      },
      "text/plain": [
       "VBox(children=(Label(value='Waiting for wandb.init()...\\r'), FloatProgress(value=0.011288888888884685, max=1.0…"
      ]
     },
     "metadata": {},
     "output_type": "display_data"
    },
    {
     "data": {
      "text/html": [
       "Tracking run with wandb version 0.16.0"
      ],
      "text/plain": [
       "<IPython.core.display.HTML object>"
      ]
     },
     "metadata": {},
     "output_type": "display_data"
    },
    {
     "data": {
      "text/html": [
       "Run data is saved locally in <code>D:\\Projects\\Jupyter\\Sentiment analysis\\04DEC\\wandb\\run-20231204_183903-pgdkbh8l</code>"
      ],
      "text/plain": [
       "<IPython.core.display.HTML object>"
      ]
     },
     "metadata": {},
     "output_type": "display_data"
    },
    {
     "data": {
      "text/html": [
       "Syncing run <strong><a href='https://wandb.ai/ericat/huggingface/runs/pgdkbh8l' target=\"_blank\">serene-moon-380</a></strong> to <a href='https://wandb.ai/ericat/huggingface' target=\"_blank\">Weights & Biases</a> (<a href='https://wandb.me/run' target=\"_blank\">docs</a>)<br/>"
      ],
      "text/plain": [
       "<IPython.core.display.HTML object>"
      ]
     },
     "metadata": {},
     "output_type": "display_data"
    },
    {
     "data": {
      "text/html": [
       " View project at <a href='https://wandb.ai/ericat/huggingface' target=\"_blank\">https://wandb.ai/ericat/huggingface</a>"
      ],
      "text/plain": [
       "<IPython.core.display.HTML object>"
      ]
     },
     "metadata": {},
     "output_type": "display_data"
    },
    {
     "data": {
      "text/html": [
       " View run at <a href='https://wandb.ai/ericat/huggingface/runs/pgdkbh8l' target=\"_blank\">https://wandb.ai/ericat/huggingface/runs/pgdkbh8l</a>"
      ],
      "text/plain": [
       "<IPython.core.display.HTML object>"
      ]
     },
     "metadata": {},
     "output_type": "display_data"
    },
    {
     "name": "stdout",
     "output_type": "stream",
     "text": [
      "{'loss': 0.7497, 'learning_rate': 1.1008519474507396e-05, 'epoch': 1.17}\n",
      "{'eval_loss': 0.6357653737068176, 'eval_accuracy': 0.7305433186490455, 'eval_f1': 0.7334706420615053, 'eval_precision': 0.7321740176350303, 'eval_recall': 0.7356367671903975, 'eval_runtime': 21.2013, 'eval_samples_per_second': 321.207, 'eval_steps_per_second': 40.186, 'epoch': 1.17}\n",
      "{'loss': 0.5746, 'learning_rate': 7.631673009934575e-06, 'epoch': 2.35}\n",
      "{'eval_loss': 0.6118015050888062, 'eval_accuracy': 0.7425844346549192, 'eval_f1': 0.7466505839376308, 'eval_precision': 0.746973171278264, 'eval_recall': 0.7464156718773153, 'eval_runtime': 21.2084, 'eval_samples_per_second': 321.099, 'eval_steps_per_second': 40.173, 'epoch': 2.35}\n",
      "{'loss': 0.5004, 'learning_rate': 4.254826545361754e-06, 'epoch': 3.52}\n",
      "{'eval_loss': 0.6341868042945862, 'eval_accuracy': 0.7440528634361233, 'eval_f1': 0.7482232572210065, 'eval_precision': 0.7475783903065999, 'eval_recall': 0.7498280465998922, 'eval_runtime': 21.2084, 'eval_samples_per_second': 321.1, 'eval_steps_per_second': 40.173, 'epoch': 3.52}\n",
      "{'loss': 0.4612, 'learning_rate': 8.779800807889334e-07, 'epoch': 4.69}\n",
      "{'eval_loss': 0.6388821005821228, 'eval_accuracy': 0.7437591776798825, 'eval_f1': 0.7475578326897742, 'eval_precision': 0.7469054943508951, 'eval_recall': 0.7482492772453018, 'eval_runtime': 21.1959, 'eval_samples_per_second': 321.288, 'eval_steps_per_second': 40.196, 'epoch': 4.69}\n"
     ]
    },
    {
     "name": "stderr",
     "output_type": "stream",
     "text": [
      "[I 2023-12-04 19:06:40,052] Trial 10 finished with value: 2.9864717819658537 and parameters: {'learning_rate': 1.4385365939080216e-05, 'num_train_epochs': 5, 'per_device_train_batch_size': 64}. Best is trial 10 with value: 2.9864717819658537.\n"
     ]
    },
    {
     "name": "stdout",
     "output_type": "stream",
     "text": [
      "{'train_runtime': 1662.4769, 'train_samples_per_second': 81.92, 'train_steps_per_second': 1.281, 'train_loss': 0.5635298518507693, 'epoch': 5.0}\n"
     ]
    },
    {
     "data": {
      "application/vnd.jupyter.widget-view+json": {
       "model_id": "",
       "version_major": 2,
       "version_minor": 0
      },
      "text/plain": [
       "VBox(children=(Label(value='0.001 MB of 0.001 MB uploaded\\r'), FloatProgress(value=1.0, max=1.0)))"
      ]
     },
     "metadata": {},
     "output_type": "display_data"
    },
    {
     "data": {
      "text/html": [
       "<style>\n",
       "    table.wandb td:nth-child(1) { padding: 0 10px; text-align: left ; width: auto;} td:nth-child(2) {text-align: left ; width: 100%}\n",
       "    .wandb-row { display: flex; flex-direction: row; flex-wrap: wrap; justify-content: flex-start; width: 100% }\n",
       "    .wandb-col { display: flex; flex-direction: column; flex-basis: 100%; flex: 1; padding: 10px; }\n",
       "    </style>\n",
       "<div class=\"wandb-row\"><div class=\"wandb-col\"><h3>Run history:</h3><br/><table class=\"wandb\"><tr><td>eval/accuracy</td><td>▁▇██</td></tr><tr><td>eval/f1</td><td>▁▇██</td></tr><tr><td>eval/loss</td><td>▇▁▇█</td></tr><tr><td>eval/precision</td><td>▁███</td></tr><tr><td>eval/recall</td><td>▁▆█▇</td></tr><tr><td>eval/runtime</td><td>▄██▁</td></tr><tr><td>eval/samples_per_second</td><td>▅▁▁█</td></tr><tr><td>eval/steps_per_second</td><td>▅▁▁█</td></tr><tr><td>train/epoch</td><td>▁▁▃▃▅▅▇▇█</td></tr><tr><td>train/global_step</td><td>▁▁▃▃▅▅▇▇█</td></tr><tr><td>train/learning_rate</td><td>█▆▃▁</td></tr><tr><td>train/loss</td><td>█▄▂▁</td></tr><tr><td>train/total_flos</td><td>▁</td></tr><tr><td>train/train_loss</td><td>▁</td></tr><tr><td>train/train_runtime</td><td>▁</td></tr><tr><td>train/train_samples_per_second</td><td>▁</td></tr><tr><td>train/train_steps_per_second</td><td>▁</td></tr></table><br/></div><div class=\"wandb-col\"><h3>Run summary:</h3><br/><table class=\"wandb\"><tr><td>eval/accuracy</td><td>0.74376</td></tr><tr><td>eval/f1</td><td>0.74756</td></tr><tr><td>eval/loss</td><td>0.63888</td></tr><tr><td>eval/precision</td><td>0.74691</td></tr><tr><td>eval/recall</td><td>0.74825</td></tr><tr><td>eval/runtime</td><td>21.1959</td></tr><tr><td>eval/samples_per_second</td><td>321.288</td></tr><tr><td>eval/steps_per_second</td><td>40.196</td></tr><tr><td>train/epoch</td><td>5.0</td></tr><tr><td>train/global_step</td><td>2130</td></tr><tr><td>train/learning_rate</td><td>0.0</td></tr><tr><td>train/loss</td><td>0.4612</td></tr><tr><td>train/total_flos</td><td>9020528376929280.0</td></tr><tr><td>train/train_loss</td><td>0.56353</td></tr><tr><td>train/train_runtime</td><td>1662.4769</td></tr><tr><td>train/train_samples_per_second</td><td>81.92</td></tr><tr><td>train/train_steps_per_second</td><td>1.281</td></tr></table><br/></div></div>"
      ],
      "text/plain": [
       "<IPython.core.display.HTML object>"
      ]
     },
     "metadata": {},
     "output_type": "display_data"
    },
    {
     "data": {
      "text/html": [
       " View run <strong style=\"color:#cdcd00\">serene-moon-380</strong> at: <a href='https://wandb.ai/ericat/huggingface/runs/pgdkbh8l' target=\"_blank\">https://wandb.ai/ericat/huggingface/runs/pgdkbh8l</a><br/>Synced 5 W&B file(s), 0 media file(s), 0 artifact file(s) and 0 other file(s)"
      ],
      "text/plain": [
       "<IPython.core.display.HTML object>"
      ]
     },
     "metadata": {},
     "output_type": "display_data"
    },
    {
     "data": {
      "text/html": [
       "Find logs at: <code>.\\wandb\\run-20231204_183903-pgdkbh8l\\logs</code>"
      ],
      "text/plain": [
       "<IPython.core.display.HTML object>"
      ]
     },
     "metadata": {},
     "output_type": "display_data"
    },
    {
     "data": {
      "application/vnd.jupyter.widget-view+json": {
       "model_id": "c89ea0a03fc24076af08d54587548600",
       "version_major": 2,
       "version_minor": 0
      },
      "text/plain": [
       "VBox(children=(Label(value='Waiting for wandb.init()...\\r'), FloatProgress(value=0.011288888888884685, max=1.0…"
      ]
     },
     "metadata": {},
     "output_type": "display_data"
    },
    {
     "data": {
      "text/html": [
       "Tracking run with wandb version 0.16.0"
      ],
      "text/plain": [
       "<IPython.core.display.HTML object>"
      ]
     },
     "metadata": {},
     "output_type": "display_data"
    },
    {
     "data": {
      "text/html": [
       "Run data is saved locally in <code>D:\\Projects\\Jupyter\\Sentiment analysis\\04DEC\\wandb\\run-20231204_190649-quee4vbt</code>"
      ],
      "text/plain": [
       "<IPython.core.display.HTML object>"
      ]
     },
     "metadata": {},
     "output_type": "display_data"
    },
    {
     "data": {
      "text/html": [
       "Syncing run <strong><a href='https://wandb.ai/ericat/huggingface/runs/quee4vbt' target=\"_blank\">grateful-bee-381</a></strong> to <a href='https://wandb.ai/ericat/huggingface' target=\"_blank\">Weights & Biases</a> (<a href='https://wandb.me/run' target=\"_blank\">docs</a>)<br/>"
      ],
      "text/plain": [
       "<IPython.core.display.HTML object>"
      ]
     },
     "metadata": {},
     "output_type": "display_data"
    },
    {
     "data": {
      "text/html": [
       " View project at <a href='https://wandb.ai/ericat/huggingface' target=\"_blank\">https://wandb.ai/ericat/huggingface</a>"
      ],
      "text/plain": [
       "<IPython.core.display.HTML object>"
      ]
     },
     "metadata": {},
     "output_type": "display_data"
    },
    {
     "data": {
      "text/html": [
       " View run at <a href='https://wandb.ai/ericat/huggingface/runs/quee4vbt' target=\"_blank\">https://wandb.ai/ericat/huggingface/runs/quee4vbt</a>"
      ],
      "text/plain": [
       "<IPython.core.display.HTML object>"
      ]
     },
     "metadata": {},
     "output_type": "display_data"
    },
    {
     "name": "stdout",
     "output_type": "stream",
     "text": [
      "{'loss': 0.7715, 'learning_rate': 8.658444148803264e-06, 'epoch': 1.17}\n",
      "{'eval_loss': 0.6438410878181458, 'eval_accuracy': 0.7242290748898679, 'eval_f1': 0.7271479676740226, 'eval_precision': 0.7256173734622572, 'eval_recall': 0.7296215100926715, 'eval_runtime': 21.2019, 'eval_samples_per_second': 321.198, 'eval_steps_per_second': 40.185, 'epoch': 1.17}\n",
      "{'loss': 0.5946, 'learning_rate': 6.002479685980176e-06, 'epoch': 2.35}\n",
      "{'eval_loss': 0.6137596368789673, 'eval_accuracy': 0.738913362701909, 'eval_f1': 0.7429890366100206, 'eval_precision': 0.7431811818083206, 'eval_recall': 0.743027972236003, 'eval_runtime': 21.0712, 'eval_samples_per_second': 323.191, 'eval_steps_per_second': 40.434, 'epoch': 2.35}\n",
      "{'loss': 0.5298, 'learning_rate': 3.3465152231570894e-06, 'epoch': 3.52}\n",
      "{'eval_loss': 0.6260280609130859, 'eval_accuracy': 0.7437591776798825, 'eval_f1': 0.7477540203586087, 'eval_precision': 0.7467439805566839, 'eval_recall': 0.749552133151615, 'eval_runtime': 21.0736, 'eval_samples_per_second': 323.154, 'eval_steps_per_second': 40.43, 'epoch': 3.52}\n",
      "{'loss': 0.4992, 'learning_rate': 6.905507603340026e-07, 'epoch': 4.69}\n",
      "{'eval_loss': 0.6255406141281128, 'eval_accuracy': 0.7433186490455213, 'eval_f1': 0.7470846811685589, 'eval_precision': 0.7461134307047096, 'eval_recall': 0.7481783303809085, 'eval_runtime': 21.1037, 'eval_samples_per_second': 322.693, 'eval_steps_per_second': 40.372, 'epoch': 4.69}\n"
     ]
    },
    {
     "name": "stderr",
     "output_type": "stream",
     "text": [
      "[I 2023-12-04 19:53:02,793] Trial 11 finished with value: 2.9846950912996983 and parameters: {'learning_rate': 1.131440861162635e-05, 'num_train_epochs': 5, 'per_device_train_batch_size': 64}. Best is trial 10 with value: 2.9864717819658537.\n"
     ]
    },
    {
     "name": "stdout",
     "output_type": "stream",
     "text": [
      "{'train_runtime': 2780.7201, 'train_samples_per_second': 48.977, 'train_steps_per_second': 0.766, 'train_loss': 0.5916853013732624, 'epoch': 5.0}\n"
     ]
    },
    {
     "data": {
      "application/vnd.jupyter.widget-view+json": {
       "model_id": "",
       "version_major": 2,
       "version_minor": 0
      },
      "text/plain": [
       "VBox(children=(Label(value='0.001 MB of 0.001 MB uploaded\\r'), FloatProgress(value=1.0, max=1.0)))"
      ]
     },
     "metadata": {},
     "output_type": "display_data"
    },
    {
     "data": {
      "text/html": [
       "<style>\n",
       "    table.wandb td:nth-child(1) { padding: 0 10px; text-align: left ; width: auto;} td:nth-child(2) {text-align: left ; width: 100%}\n",
       "    .wandb-row { display: flex; flex-direction: row; flex-wrap: wrap; justify-content: flex-start; width: 100% }\n",
       "    .wandb-col { display: flex; flex-direction: column; flex-basis: 100%; flex: 1; padding: 10px; }\n",
       "    </style>\n",
       "<div class=\"wandb-row\"><div class=\"wandb-col\"><h3>Run history:</h3><br/><table class=\"wandb\"><tr><td>eval/accuracy</td><td>▁▆██</td></tr><tr><td>eval/f1</td><td>▁▆██</td></tr><tr><td>eval/loss</td><td>█▁▄▄</td></tr><tr><td>eval/precision</td><td>▁▇██</td></tr><tr><td>eval/recall</td><td>▁▆██</td></tr><tr><td>eval/runtime</td><td>█▁▁▃</td></tr><tr><td>eval/samples_per_second</td><td>▁██▆</td></tr><tr><td>eval/steps_per_second</td><td>▁██▆</td></tr><tr><td>train/epoch</td><td>▁▁▃▃▅▅▇▇█</td></tr><tr><td>train/global_step</td><td>▁▁▃▃▅▅▇▇█</td></tr><tr><td>train/learning_rate</td><td>█▆▃▁</td></tr><tr><td>train/loss</td><td>█▃▂▁</td></tr><tr><td>train/total_flos</td><td>▁</td></tr><tr><td>train/train_loss</td><td>▁</td></tr><tr><td>train/train_runtime</td><td>▁</td></tr><tr><td>train/train_samples_per_second</td><td>▁</td></tr><tr><td>train/train_steps_per_second</td><td>▁</td></tr></table><br/></div><div class=\"wandb-col\"><h3>Run summary:</h3><br/><table class=\"wandb\"><tr><td>eval/accuracy</td><td>0.74332</td></tr><tr><td>eval/f1</td><td>0.74708</td></tr><tr><td>eval/loss</td><td>0.62554</td></tr><tr><td>eval/precision</td><td>0.74611</td></tr><tr><td>eval/recall</td><td>0.74818</td></tr><tr><td>eval/runtime</td><td>21.1037</td></tr><tr><td>eval/samples_per_second</td><td>322.693</td></tr><tr><td>eval/steps_per_second</td><td>40.372</td></tr><tr><td>train/epoch</td><td>5.0</td></tr><tr><td>train/global_step</td><td>2130</td></tr><tr><td>train/learning_rate</td><td>0.0</td></tr><tr><td>train/loss</td><td>0.4992</td></tr><tr><td>train/total_flos</td><td>9020528376929280.0</td></tr><tr><td>train/train_loss</td><td>0.59169</td></tr><tr><td>train/train_runtime</td><td>2780.7201</td></tr><tr><td>train/train_samples_per_second</td><td>48.977</td></tr><tr><td>train/train_steps_per_second</td><td>0.766</td></tr></table><br/></div></div>"
      ],
      "text/plain": [
       "<IPython.core.display.HTML object>"
      ]
     },
     "metadata": {},
     "output_type": "display_data"
    },
    {
     "data": {
      "text/html": [
       " View run <strong style=\"color:#cdcd00\">grateful-bee-381</strong> at: <a href='https://wandb.ai/ericat/huggingface/runs/quee4vbt' target=\"_blank\">https://wandb.ai/ericat/huggingface/runs/quee4vbt</a><br/>Synced 5 W&B file(s), 0 media file(s), 0 artifact file(s) and 0 other file(s)"
      ],
      "text/plain": [
       "<IPython.core.display.HTML object>"
      ]
     },
     "metadata": {},
     "output_type": "display_data"
    },
    {
     "data": {
      "text/html": [
       "Find logs at: <code>.\\wandb\\run-20231204_190649-quee4vbt\\logs</code>"
      ],
      "text/plain": [
       "<IPython.core.display.HTML object>"
      ]
     },
     "metadata": {},
     "output_type": "display_data"
    },
    {
     "data": {
      "application/vnd.jupyter.widget-view+json": {
       "model_id": "cf465f417ef8416ba12a419f34090f9d",
       "version_major": 2,
       "version_minor": 0
      },
      "text/plain": [
       "VBox(children=(Label(value='Waiting for wandb.init()...\\r'), FloatProgress(value=0.011111111111111112, max=1.0…"
      ]
     },
     "metadata": {},
     "output_type": "display_data"
    },
    {
     "data": {
      "text/html": [
       "Tracking run with wandb version 0.16.0"
      ],
      "text/plain": [
       "<IPython.core.display.HTML object>"
      ]
     },
     "metadata": {},
     "output_type": "display_data"
    },
    {
     "data": {
      "text/html": [
       "Run data is saved locally in <code>D:\\Projects\\Jupyter\\Sentiment analysis\\04DEC\\wandb\\run-20231204_195312-3bl0mkfq</code>"
      ],
      "text/plain": [
       "<IPython.core.display.HTML object>"
      ]
     },
     "metadata": {},
     "output_type": "display_data"
    },
    {
     "data": {
      "text/html": [
       "Syncing run <strong><a href='https://wandb.ai/ericat/huggingface/runs/3bl0mkfq' target=\"_blank\">spring-elevator-382</a></strong> to <a href='https://wandb.ai/ericat/huggingface' target=\"_blank\">Weights & Biases</a> (<a href='https://wandb.me/run' target=\"_blank\">docs</a>)<br/>"
      ],
      "text/plain": [
       "<IPython.core.display.HTML object>"
      ]
     },
     "metadata": {},
     "output_type": "display_data"
    },
    {
     "data": {
      "text/html": [
       " View project at <a href='https://wandb.ai/ericat/huggingface' target=\"_blank\">https://wandb.ai/ericat/huggingface</a>"
      ],
      "text/plain": [
       "<IPython.core.display.HTML object>"
      ]
     },
     "metadata": {},
     "output_type": "display_data"
    },
    {
     "data": {
      "text/html": [
       " View run at <a href='https://wandb.ai/ericat/huggingface/runs/3bl0mkfq' target=\"_blank\">https://wandb.ai/ericat/huggingface/runs/3bl0mkfq</a>"
      ],
      "text/plain": [
       "<IPython.core.display.HTML object>"
      ]
     },
     "metadata": {},
     "output_type": "display_data"
    },
    {
     "name": "stdout",
     "output_type": "stream",
     "text": [
      "{'loss': 0.7803, 'learning_rate': 2.044364824569593e-05, 'epoch': 0.44}\n",
      "{'eval_loss': 0.6438535451889038, 'eval_accuracy': 0.7258443465491924, 'eval_f1': 0.7288859656134608, 'eval_precision': 0.7327872289144293, 'eval_recall': 0.7260230561657353, 'eval_runtime': 21.2233, 'eval_samples_per_second': 320.874, 'eval_steps_per_second': 40.145, 'epoch': 0.44}\n",
      "{'loss': 0.6522, 'learning_rate': 1.8468416531135938e-05, 'epoch': 0.88}\n",
      "{'eval_loss': 0.620505154132843, 'eval_accuracy': 0.745374449339207, 'eval_f1': 0.7493733796464693, 'eval_precision': 0.7518507428244711, 'eval_recall': 0.7497475435862885, 'eval_runtime': 21.1945, 'eval_samples_per_second': 321.31, 'eval_steps_per_second': 40.199, 'epoch': 0.88}\n",
      "{'loss': 0.552, 'learning_rate': 1.6493184816575946e-05, 'epoch': 1.32}\n",
      "{'eval_loss': 0.617943286895752, 'eval_accuracy': 0.7422907488986784, 'eval_f1': 0.7450479637513414, 'eval_precision': 0.7543436801936644, 'eval_recall': 0.7396944693370529, 'eval_runtime': 21.1726, 'eval_samples_per_second': 321.642, 'eval_steps_per_second': 40.241, 'epoch': 1.32}\n",
      "{'loss': 0.5281, 'learning_rate': 1.4517953102015952e-05, 'epoch': 1.76}\n",
      "{'eval_loss': 0.6115617156028748, 'eval_accuracy': 0.7494860499265785, 'eval_f1': 0.7537283118989523, 'eval_precision': 0.7560723599962264, 'eval_recall': 0.7532806171275258, 'eval_runtime': 21.2073, 'eval_samples_per_second': 321.115, 'eval_steps_per_second': 40.175, 'epoch': 1.76}\n",
      "{'loss': 0.4533, 'learning_rate': 1.2542721387455959e-05, 'epoch': 2.2}\n",
      "{'eval_loss': 0.6634148955345154, 'eval_accuracy': 0.747136563876652, 'eval_f1': 0.7513801101099266, 'eval_precision': 0.7536358228256645, 'eval_recall': 0.7504536202315143, 'eval_runtime': 21.2244, 'eval_samples_per_second': 320.858, 'eval_steps_per_second': 40.143, 'epoch': 2.2}\n",
      "{'loss': 0.4152, 'learning_rate': 1.0567489672895965e-05, 'epoch': 2.64}\n",
      "{'eval_loss': 0.6357722878456116, 'eval_accuracy': 0.7491923641703377, 'eval_f1': 0.752746546209558, 'eval_precision': 0.750989250312784, 'eval_recall': 0.7548670640833618, 'eval_runtime': 21.2143, 'eval_samples_per_second': 321.01, 'eval_steps_per_second': 40.162, 'epoch': 2.64}\n",
      "{'loss': 0.3916, 'learning_rate': 8.592257958335971e-06, 'epoch': 3.08}\n",
      "{'eval_loss': 0.7009639143943787, 'eval_accuracy': 0.7472834067547723, 'eval_f1': 0.7511399825824535, 'eval_precision': 0.7494853659672763, 'eval_recall': 0.7534181579364989, 'eval_runtime': 21.1867, 'eval_samples_per_second': 321.429, 'eval_steps_per_second': 40.214, 'epoch': 3.08}\n",
      "{'loss': 0.3147, 'learning_rate': 6.617026243775979e-06, 'epoch': 3.52}\n",
      "{'eval_loss': 0.7323312163352966, 'eval_accuracy': 0.7443465491923642, 'eval_f1': 0.7485824548590165, 'eval_precision': 0.7510110031948227, 'eval_recall': 0.7470588836910238, 'eval_runtime': 21.2412, 'eval_samples_per_second': 320.603, 'eval_steps_per_second': 40.111, 'epoch': 3.52}\n",
      "{'loss': 0.3029, 'learning_rate': 4.641794529215984e-06, 'epoch': 3.96}\n",
      "{'eval_loss': 0.7667648196220398, 'eval_accuracy': 0.7487518355359765, 'eval_f1': 0.7518819865713643, 'eval_precision': 0.7517053171758761, 'eval_recall': 0.7523493668363059, 'eval_runtime': 21.2471, 'eval_samples_per_second': 320.514, 'eval_steps_per_second': 40.1, 'epoch': 3.96}\n",
      "{'loss': 0.2491, 'learning_rate': 2.666562814655991e-06, 'epoch': 4.41}\n",
      "{'eval_loss': 0.8229284882545471, 'eval_accuracy': 0.745374449339207, 'eval_f1': 0.7487988604327809, 'eval_precision': 0.7481511520015407, 'eval_recall': 0.7496427179171552, 'eval_runtime': 21.2144, 'eval_samples_per_second': 321.008, 'eval_steps_per_second': 40.161, 'epoch': 4.41}\n",
      "{'loss': 0.2539, 'learning_rate': 6.913311000959977e-07, 'epoch': 4.85}\n",
      "{'eval_loss': 0.820814847946167, 'eval_accuracy': 0.7437591776798825, 'eval_f1': 0.7474771442924086, 'eval_precision': 0.7465695006216784, 'eval_recall': 0.7484983627794511, 'eval_runtime': 21.2422, 'eval_samples_per_second': 320.588, 'eval_steps_per_second': 40.109, 'epoch': 4.85}\n"
     ]
    },
    {
     "name": "stderr",
     "output_type": "stream",
     "text": [
      "[I 2023-12-04 20:21:53,687] Trial 12 finished with value: 2.9863041853734207 and parameters: {'learning_rate': 2.2418879960255925e-05, 'num_train_epochs': 5, 'per_device_train_batch_size': 24}. Best is trial 10 with value: 2.9864717819658537.\n"
     ]
    },
    {
     "name": "stdout",
     "output_type": "stream",
     "text": [
      "{'train_runtime': 1728.8318, 'train_samples_per_second': 78.776, 'train_steps_per_second': 3.283, 'train_loss': 0.4381311129263319, 'epoch': 5.0}\n"
     ]
    },
    {
     "data": {
      "application/vnd.jupyter.widget-view+json": {
       "model_id": "",
       "version_major": 2,
       "version_minor": 0
      },
      "text/plain": [
       "VBox(children=(Label(value='0.001 MB of 0.001 MB uploaded\\r'), FloatProgress(value=1.0, max=1.0)))"
      ]
     },
     "metadata": {},
     "output_type": "display_data"
    },
    {
     "data": {
      "text/html": [
       "<style>\n",
       "    table.wandb td:nth-child(1) { padding: 0 10px; text-align: left ; width: auto;} td:nth-child(2) {text-align: left ; width: 100%}\n",
       "    .wandb-row { display: flex; flex-direction: row; flex-wrap: wrap; justify-content: flex-start; width: 100% }\n",
       "    .wandb-col { display: flex; flex-direction: column; flex-basis: 100%; flex: 1; padding: 10px; }\n",
       "    </style>\n",
       "<div class=\"wandb-row\"><div class=\"wandb-col\"><h3>Run history:</h3><br/><table class=\"wandb\"><tr><td>eval/accuracy</td><td>▁▇▆█▇█▇▆█▇▆</td></tr><tr><td>eval/f1</td><td>▁▇▆█▇█▇▇▇▇▆</td></tr><tr><td>eval/loss</td><td>▂▁▁▁▃▂▄▅▆██</td></tr><tr><td>eval/precision</td><td>▁▇▇█▇▆▆▆▇▆▅</td></tr><tr><td>eval/recall</td><td>▁▇▄█▇██▆▇▇▆</td></tr><tr><td>eval/runtime</td><td>▆▃▁▄▆▅▂▇█▅█</td></tr><tr><td>eval/samples_per_second</td><td>▃▆█▅▃▄▇▂▁▄▁</td></tr><tr><td>eval/steps_per_second</td><td>▃▆█▅▃▄▇▂▁▄▁</td></tr><tr><td>train/epoch</td><td>▁▁▂▂▂▂▃▃▄▄▄▄▅▅▆▆▆▆▇▇███</td></tr><tr><td>train/global_step</td><td>▁▁▂▂▂▂▃▃▄▄▄▄▅▅▆▆▆▆▇▇███</td></tr><tr><td>train/learning_rate</td><td>█▇▇▆▅▅▄▃▂▂▁</td></tr><tr><td>train/loss</td><td>█▆▅▅▄▃▃▂▂▁▁</td></tr><tr><td>train/total_flos</td><td>▁</td></tr><tr><td>train/train_loss</td><td>▁</td></tr><tr><td>train/train_runtime</td><td>▁</td></tr><tr><td>train/train_samples_per_second</td><td>▁</td></tr><tr><td>train/train_steps_per_second</td><td>▁</td></tr></table><br/></div><div class=\"wandb-col\"><h3>Run summary:</h3><br/><table class=\"wandb\"><tr><td>eval/accuracy</td><td>0.74376</td></tr><tr><td>eval/f1</td><td>0.74748</td></tr><tr><td>eval/loss</td><td>0.82081</td></tr><tr><td>eval/precision</td><td>0.74657</td></tr><tr><td>eval/recall</td><td>0.7485</td></tr><tr><td>eval/runtime</td><td>21.2422</td></tr><tr><td>eval/samples_per_second</td><td>320.588</td></tr><tr><td>eval/steps_per_second</td><td>40.109</td></tr><tr><td>train/epoch</td><td>5.0</td></tr><tr><td>train/global_step</td><td>5675</td></tr><tr><td>train/learning_rate</td><td>0.0</td></tr><tr><td>train/loss</td><td>0.2539</td></tr><tr><td>train/total_flos</td><td>9020528376929280.0</td></tr><tr><td>train/train_loss</td><td>0.43813</td></tr><tr><td>train/train_runtime</td><td>1728.8318</td></tr><tr><td>train/train_samples_per_second</td><td>78.776</td></tr><tr><td>train/train_steps_per_second</td><td>3.283</td></tr></table><br/></div></div>"
      ],
      "text/plain": [
       "<IPython.core.display.HTML object>"
      ]
     },
     "metadata": {},
     "output_type": "display_data"
    },
    {
     "data": {
      "text/html": [
       " View run <strong style=\"color:#cdcd00\">spring-elevator-382</strong> at: <a href='https://wandb.ai/ericat/huggingface/runs/3bl0mkfq' target=\"_blank\">https://wandb.ai/ericat/huggingface/runs/3bl0mkfq</a><br/>Synced 5 W&B file(s), 0 media file(s), 0 artifact file(s) and 0 other file(s)"
      ],
      "text/plain": [
       "<IPython.core.display.HTML object>"
      ]
     },
     "metadata": {},
     "output_type": "display_data"
    },
    {
     "data": {
      "text/html": [
       "Find logs at: <code>.\\wandb\\run-20231204_195312-3bl0mkfq\\logs</code>"
      ],
      "text/plain": [
       "<IPython.core.display.HTML object>"
      ]
     },
     "metadata": {},
     "output_type": "display_data"
    },
    {
     "data": {
      "application/vnd.jupyter.widget-view+json": {
       "model_id": "3608be869bbf4dd387bec71ebd4ce458",
       "version_major": 2,
       "version_minor": 0
      },
      "text/plain": [
       "VBox(children=(Label(value='Waiting for wandb.init()...\\r'), FloatProgress(value=0.011111111111111112, max=1.0…"
      ]
     },
     "metadata": {},
     "output_type": "display_data"
    },
    {
     "data": {
      "text/html": [
       "Tracking run with wandb version 0.16.0"
      ],
      "text/plain": [
       "<IPython.core.display.HTML object>"
      ]
     },
     "metadata": {},
     "output_type": "display_data"
    },
    {
     "data": {
      "text/html": [
       "Run data is saved locally in <code>D:\\Projects\\Jupyter\\Sentiment analysis\\04DEC\\wandb\\run-20231204_202204-tsswdew3</code>"
      ],
      "text/plain": [
       "<IPython.core.display.HTML object>"
      ]
     },
     "metadata": {},
     "output_type": "display_data"
    },
    {
     "data": {
      "text/html": [
       "Syncing run <strong><a href='https://wandb.ai/ericat/huggingface/runs/tsswdew3' target=\"_blank\">vibrant-disco-383</a></strong> to <a href='https://wandb.ai/ericat/huggingface' target=\"_blank\">Weights & Biases</a> (<a href='https://wandb.me/run' target=\"_blank\">docs</a>)<br/>"
      ],
      "text/plain": [
       "<IPython.core.display.HTML object>"
      ]
     },
     "metadata": {},
     "output_type": "display_data"
    },
    {
     "data": {
      "text/html": [
       " View project at <a href='https://wandb.ai/ericat/huggingface' target=\"_blank\">https://wandb.ai/ericat/huggingface</a>"
      ],
      "text/plain": [
       "<IPython.core.display.HTML object>"
      ]
     },
     "metadata": {},
     "output_type": "display_data"
    },
    {
     "data": {
      "text/html": [
       " View run at <a href='https://wandb.ai/ericat/huggingface/runs/tsswdew3' target=\"_blank\">https://wandb.ai/ericat/huggingface/runs/tsswdew3</a>"
      ],
      "text/plain": [
       "<IPython.core.display.HTML object>"
      ]
     },
     "metadata": {},
     "output_type": "display_data"
    },
    {
     "name": "stdout",
     "output_type": "stream",
     "text": [
      "{'loss': 0.763, 'learning_rate': 3.59596338505392e-05, 'epoch': 0.44}\n",
      "{'eval_loss': 0.640515923500061, 'eval_accuracy': 0.7358296622613804, 'eval_f1': 0.7374629632733619, 'eval_precision': 0.7465859165228198, 'eval_recall': 0.7328719099472553, 'eval_runtime': 21.3007, 'eval_samples_per_second': 319.707, 'eval_steps_per_second': 39.999, 'epoch': 0.44}\n",
      "{'loss': 0.6475, 'learning_rate': 3.2485273092033e-05, 'epoch': 0.88}\n",
      "{'eval_loss': 0.6161613464355469, 'eval_accuracy': 0.7409691629955947, 'eval_f1': 0.7448636594368524, 'eval_precision': 0.7456488892619205, 'eval_recall': 0.7493515567100378, 'eval_runtime': 21.2462, 'eval_samples_per_second': 320.528, 'eval_steps_per_second': 40.101, 'epoch': 0.88}\n",
      "{'loss': 0.5291, 'learning_rate': 2.90109123335268e-05, 'epoch': 1.32}\n"
     ]
    },
    {
     "name": "stderr",
     "output_type": "stream",
     "text": [
      "[I 2023-12-04 20:29:19,898] Trial 13 pruned. \n"
     ]
    },
    {
     "name": "stdout",
     "output_type": "stream",
     "text": [
      "{'eval_loss': 0.6235194802284241, 'eval_accuracy': 0.7403817914831131, 'eval_f1': 0.7436916551592246, 'eval_precision': 0.7536592648012195, 'eval_recall': 0.7377187545610094, 'eval_runtime': 21.2334, 'eval_samples_per_second': 320.721, 'eval_steps_per_second': 40.125, 'epoch': 1.32}\n"
     ]
    },
    {
     "data": {
      "application/vnd.jupyter.widget-view+json": {
       "model_id": "",
       "version_major": 2,
       "version_minor": 0
      },
      "text/plain": [
       "VBox(children=(Label(value='0.001 MB of 0.001 MB uploaded\\r'), FloatProgress(value=1.0, max=1.0)))"
      ]
     },
     "metadata": {},
     "output_type": "display_data"
    },
    {
     "data": {
      "text/html": [
       "<style>\n",
       "    table.wandb td:nth-child(1) { padding: 0 10px; text-align: left ; width: auto;} td:nth-child(2) {text-align: left ; width: 100%}\n",
       "    .wandb-row { display: flex; flex-direction: row; flex-wrap: wrap; justify-content: flex-start; width: 100% }\n",
       "    .wandb-col { display: flex; flex-direction: column; flex-basis: 100%; flex: 1; padding: 10px; }\n",
       "    </style>\n",
       "<div class=\"wandb-row\"><div class=\"wandb-col\"><h3>Run history:</h3><br/><table class=\"wandb\"><tr><td>eval/accuracy</td><td>▁█▇</td></tr><tr><td>eval/f1</td><td>▁█▇</td></tr><tr><td>eval/loss</td><td>█▁▃</td></tr><tr><td>eval/precision</td><td>▂▁█</td></tr><tr><td>eval/recall</td><td>▁█▃</td></tr><tr><td>eval/runtime</td><td>█▂▁</td></tr><tr><td>eval/samples_per_second</td><td>▁▇█</td></tr><tr><td>eval/steps_per_second</td><td>▁▇█</td></tr><tr><td>train/epoch</td><td>▁▁▄▄██</td></tr><tr><td>train/global_step</td><td>▁▁▅▅██</td></tr><tr><td>train/learning_rate</td><td>█▅▁</td></tr><tr><td>train/loss</td><td>█▅▁</td></tr></table><br/></div><div class=\"wandb-col\"><h3>Run summary:</h3><br/><table class=\"wandb\"><tr><td>eval/accuracy</td><td>0.74038</td></tr><tr><td>eval/f1</td><td>0.74369</td></tr><tr><td>eval/loss</td><td>0.62352</td></tr><tr><td>eval/precision</td><td>0.75366</td></tr><tr><td>eval/recall</td><td>0.73772</td></tr><tr><td>eval/runtime</td><td>21.2334</td></tr><tr><td>eval/samples_per_second</td><td>320.721</td></tr><tr><td>eval/steps_per_second</td><td>40.125</td></tr><tr><td>train/epoch</td><td>1.32</td></tr><tr><td>train/global_step</td><td>1500</td></tr><tr><td>train/learning_rate</td><td>3e-05</td></tr><tr><td>train/loss</td><td>0.5291</td></tr></table><br/></div></div>"
      ],
      "text/plain": [
       "<IPython.core.display.HTML object>"
      ]
     },
     "metadata": {},
     "output_type": "display_data"
    },
    {
     "data": {
      "text/html": [
       " View run <strong style=\"color:#cdcd00\">vibrant-disco-383</strong> at: <a href='https://wandb.ai/ericat/huggingface/runs/tsswdew3' target=\"_blank\">https://wandb.ai/ericat/huggingface/runs/tsswdew3</a><br/>Synced 5 W&B file(s), 0 media file(s), 0 artifact file(s) and 0 other file(s)"
      ],
      "text/plain": [
       "<IPython.core.display.HTML object>"
      ]
     },
     "metadata": {},
     "output_type": "display_data"
    },
    {
     "data": {
      "text/html": [
       "Find logs at: <code>.\\wandb\\run-20231204_202204-tsswdew3\\logs</code>"
      ],
      "text/plain": [
       "<IPython.core.display.HTML object>"
      ]
     },
     "metadata": {},
     "output_type": "display_data"
    },
    {
     "data": {
      "application/vnd.jupyter.widget-view+json": {
       "model_id": "c3d2e5bd6a6d490485d90f38a0734a38",
       "version_major": 2,
       "version_minor": 0
      },
      "text/plain": [
       "VBox(children=(Label(value='Waiting for wandb.init()...\\r'), FloatProgress(value=0.011288888888884685, max=1.0…"
      ]
     },
     "metadata": {},
     "output_type": "display_data"
    },
    {
     "data": {
      "text/html": [
       "Tracking run with wandb version 0.16.0"
      ],
      "text/plain": [
       "<IPython.core.display.HTML object>"
      ]
     },
     "metadata": {},
     "output_type": "display_data"
    },
    {
     "data": {
      "text/html": [
       "Run data is saved locally in <code>D:\\Projects\\Jupyter\\Sentiment analysis\\04DEC\\wandb\\run-20231204_202930-s6kskx8m</code>"
      ],
      "text/plain": [
       "<IPython.core.display.HTML object>"
      ]
     },
     "metadata": {},
     "output_type": "display_data"
    },
    {
     "data": {
      "text/html": [
       "Syncing run <strong><a href='https://wandb.ai/ericat/huggingface/runs/s6kskx8m' target=\"_blank\">fresh-oath-384</a></strong> to <a href='https://wandb.ai/ericat/huggingface' target=\"_blank\">Weights & Biases</a> (<a href='https://wandb.me/run' target=\"_blank\">docs</a>)<br/>"
      ],
      "text/plain": [
       "<IPython.core.display.HTML object>"
      ]
     },
     "metadata": {},
     "output_type": "display_data"
    },
    {
     "data": {
      "text/html": [
       " View project at <a href='https://wandb.ai/ericat/huggingface' target=\"_blank\">https://wandb.ai/ericat/huggingface</a>"
      ],
      "text/plain": [
       "<IPython.core.display.HTML object>"
      ]
     },
     "metadata": {},
     "output_type": "display_data"
    },
    {
     "data": {
      "text/html": [
       " View run at <a href='https://wandb.ai/ericat/huggingface/runs/s6kskx8m' target=\"_blank\">https://wandb.ai/ericat/huggingface/runs/s6kskx8m</a>"
      ],
      "text/plain": [
       "<IPython.core.display.HTML object>"
      ]
     },
     "metadata": {},
     "output_type": "display_data"
    },
    {
     "name": "stdout",
     "output_type": "stream",
     "text": [
      "{'loss': 0.7624, 'learning_rate': 4.083327472132228e-05, 'epoch': 0.44}\n",
      "{'eval_loss': 0.6386585235595703, 'eval_accuracy': 0.7359765051395007, 'eval_f1': 0.7382042358765807, 'eval_precision': 0.7430868546093065, 'eval_recall': 0.7349061097080923, 'eval_runtime': 21.2946, 'eval_samples_per_second': 319.8, 'eval_steps_per_second': 40.01, 'epoch': 0.44}\n",
      "{'loss': 0.6452, 'learning_rate': 3.577965161224773e-05, 'epoch': 0.88}\n",
      "{'eval_loss': 0.6142653226852417, 'eval_accuracy': 0.7422907488986784, 'eval_f1': 0.7460918745299953, 'eval_precision': 0.7460426316262029, 'eval_recall': 0.7509501796450456, 'eval_runtime': 21.334, 'eval_samples_per_second': 319.209, 'eval_steps_per_second': 39.936, 'epoch': 0.88}\n",
      "{'loss': 0.5232, 'learning_rate': 3.0726028503173194e-05, 'epoch': 1.32}\n",
      "{'eval_loss': 0.6144624352455139, 'eval_accuracy': 0.7469897209985316, 'eval_f1': 0.7504077846833246, 'eval_precision': 0.760349415992159, 'eval_recall': 0.744211842878299, 'eval_runtime': 21.2902, 'eval_samples_per_second': 319.865, 'eval_steps_per_second': 40.018, 'epoch': 1.32}\n",
      "{'loss': 0.488, 'learning_rate': 2.567240539409866e-05, 'epoch': 1.76}\n",
      "{'eval_loss': 0.6063657402992249, 'eval_accuracy': 0.7513950073421439, 'eval_f1': 0.7554436432143703, 'eval_precision': 0.7559832198562684, 'eval_recall': 0.755562692559482, 'eval_runtime': 21.3165, 'eval_samples_per_second': 319.47, 'eval_steps_per_second': 39.969, 'epoch': 1.76}\n",
      "{'loss': 0.4048, 'learning_rate': 2.061878228502412e-05, 'epoch': 2.2}\n",
      "{'eval_loss': 0.6986547708511353, 'eval_accuracy': 0.7474302496328928, 'eval_f1': 0.7514338466562792, 'eval_precision': 0.7521374713132012, 'eval_recall': 0.7515454744942152, 'eval_runtime': 21.2977, 'eval_samples_per_second': 319.752, 'eval_steps_per_second': 40.004, 'epoch': 2.2}\n",
      "{'loss': 0.3338, 'learning_rate': 1.5565159175949583e-05, 'epoch': 2.64}\n",
      "{'eval_loss': 0.6929301619529724, 'eval_accuracy': 0.7486049926578561, 'eval_f1': 0.7524759325793018, 'eval_precision': 0.7538706432583112, 'eval_recall': 0.7512387666923533, 'eval_runtime': 21.292, 'eval_samples_per_second': 319.839, 'eval_steps_per_second': 40.015, 'epoch': 2.64}\n",
      "{'loss': 0.3067, 'learning_rate': 1.0511536066875041e-05, 'epoch': 3.08}\n",
      "{'eval_loss': 0.8369187712669373, 'eval_accuracy': 0.7424375917767988, 'eval_f1': 0.7465361927528233, 'eval_precision': 0.7446316503326157, 'eval_recall': 0.7496713810850005, 'eval_runtime': 21.2971, 'eval_samples_per_second': 319.762, 'eval_steps_per_second': 40.005, 'epoch': 3.08}\n",
      "{'loss': 0.2157, 'learning_rate': 5.457912957800502e-06, 'epoch': 3.52}\n",
      "{'eval_loss': 0.8800682425498962, 'eval_accuracy': 0.7464023494860499, 'eval_f1': 0.7504635555186043, 'eval_precision': 0.753383927431791, 'eval_recall': 0.7481997586575893, 'eval_runtime': 21.2853, 'eval_samples_per_second': 319.939, 'eval_steps_per_second': 40.028, 'epoch': 3.52}\n",
      "{'loss': 0.2033, 'learning_rate': 4.0428984872596315e-07, 'epoch': 3.96}\n",
      "{'eval_loss': 0.8907734751701355, 'eval_accuracy': 0.745374449339207, 'eval_f1': 0.749019599968651, 'eval_precision': 0.750649102700628, 'eval_recall': 0.7475798180299688, 'eval_runtime': 21.3052, 'eval_samples_per_second': 319.64, 'eval_steps_per_second': 39.99, 'epoch': 3.96}\n"
     ]
    },
    {
     "name": "stderr",
     "output_type": "stream",
     "text": [
      "[I 2023-12-04 20:52:40,731] Trial 14 finished with value: 2.992622970038455 and parameters: {'learning_rate': 4.5886897830396815e-05, 'num_train_epochs': 4, 'per_device_train_batch_size': 24}. Best is trial 14 with value: 2.992622970038455.\n"
     ]
    },
    {
     "name": "stdout",
     "output_type": "stream",
     "text": [
      "{'train_runtime': 1398.6531, 'train_samples_per_second': 77.898, 'train_steps_per_second': 3.246, 'train_loss': 0.4295379409706015, 'epoch': 4.0}\n"
     ]
    },
    {
     "data": {
      "application/vnd.jupyter.widget-view+json": {
       "model_id": "",
       "version_major": 2,
       "version_minor": 0
      },
      "text/plain": [
       "VBox(children=(Label(value='0.001 MB of 0.001 MB uploaded\\r'), FloatProgress(value=1.0, max=1.0)))"
      ]
     },
     "metadata": {},
     "output_type": "display_data"
    },
    {
     "data": {
      "text/html": [
       "<style>\n",
       "    table.wandb td:nth-child(1) { padding: 0 10px; text-align: left ; width: auto;} td:nth-child(2) {text-align: left ; width: 100%}\n",
       "    .wandb-row { display: flex; flex-direction: row; flex-wrap: wrap; justify-content: flex-start; width: 100% }\n",
       "    .wandb-col { display: flex; flex-direction: column; flex-basis: 100%; flex: 1; padding: 10px; }\n",
       "    </style>\n",
       "<div class=\"wandb-row\"><div class=\"wandb-col\"><h3>Run history:</h3><br/><table class=\"wandb\"><tr><td>eval/accuracy</td><td>▁▄▆█▆▇▄▆▅</td></tr><tr><td>eval/f1</td><td>▁▄▆█▆▇▄▆▅</td></tr><tr><td>eval/loss</td><td>▂▁▁▁▃▃▇██</td></tr><tr><td>eval/precision</td><td>▁▂█▆▅▅▂▅▄</td></tr><tr><td>eval/recall</td><td>▁▆▄█▇▇▆▆▅</td></tr><tr><td>eval/runtime</td><td>▂█▂▅▃▂▃▁▄</td></tr><tr><td>eval/samples_per_second</td><td>▇▁▇▄▆▇▆█▅</td></tr><tr><td>eval/steps_per_second</td><td>▇▁▇▄▆▇▆█▅</td></tr><tr><td>train/epoch</td><td>▁▁▂▂▃▃▄▄▄▄▅▅▆▆▇▇███</td></tr><tr><td>train/global_step</td><td>▁▁▂▂▃▃▄▄▄▄▅▅▆▆▇▇███</td></tr><tr><td>train/learning_rate</td><td>█▇▆▅▄▄▃▂▁</td></tr><tr><td>train/loss</td><td>█▇▅▅▄▃▂▁▁</td></tr><tr><td>train/total_flos</td><td>▁</td></tr><tr><td>train/train_loss</td><td>▁</td></tr><tr><td>train/train_runtime</td><td>▁</td></tr><tr><td>train/train_samples_per_second</td><td>▁</td></tr><tr><td>train/train_steps_per_second</td><td>▁</td></tr></table><br/></div><div class=\"wandb-col\"><h3>Run summary:</h3><br/><table class=\"wandb\"><tr><td>eval/accuracy</td><td>0.74537</td></tr><tr><td>eval/f1</td><td>0.74902</td></tr><tr><td>eval/loss</td><td>0.89077</td></tr><tr><td>eval/precision</td><td>0.75065</td></tr><tr><td>eval/recall</td><td>0.74758</td></tr><tr><td>eval/runtime</td><td>21.3052</td></tr><tr><td>eval/samples_per_second</td><td>319.64</td></tr><tr><td>eval/steps_per_second</td><td>39.99</td></tr><tr><td>train/epoch</td><td>4.0</td></tr><tr><td>train/global_step</td><td>4540</td></tr><tr><td>train/learning_rate</td><td>0.0</td></tr><tr><td>train/loss</td><td>0.2033</td></tr><tr><td>train/total_flos</td><td>7216422701543424.0</td></tr><tr><td>train/train_loss</td><td>0.42954</td></tr><tr><td>train/train_runtime</td><td>1398.6531</td></tr><tr><td>train/train_samples_per_second</td><td>77.898</td></tr><tr><td>train/train_steps_per_second</td><td>3.246</td></tr></table><br/></div></div>"
      ],
      "text/plain": [
       "<IPython.core.display.HTML object>"
      ]
     },
     "metadata": {},
     "output_type": "display_data"
    },
    {
     "data": {
      "text/html": [
       " View run <strong style=\"color:#cdcd00\">fresh-oath-384</strong> at: <a href='https://wandb.ai/ericat/huggingface/runs/s6kskx8m' target=\"_blank\">https://wandb.ai/ericat/huggingface/runs/s6kskx8m</a><br/>Synced 5 W&B file(s), 0 media file(s), 0 artifact file(s) and 0 other file(s)"
      ],
      "text/plain": [
       "<IPython.core.display.HTML object>"
      ]
     },
     "metadata": {},
     "output_type": "display_data"
    },
    {
     "data": {
      "text/html": [
       "Find logs at: <code>.\\wandb\\run-20231204_202930-s6kskx8m\\logs</code>"
      ],
      "text/plain": [
       "<IPython.core.display.HTML object>"
      ]
     },
     "metadata": {},
     "output_type": "display_data"
    },
    {
     "data": {
      "application/vnd.jupyter.widget-view+json": {
       "model_id": "6c648cfc30024178a881ccb94ce7d246",
       "version_major": 2,
       "version_minor": 0
      },
      "text/plain": [
       "VBox(children=(Label(value='Waiting for wandb.init()...\\r'), FloatProgress(value=0.011111111111111112, max=1.0…"
      ]
     },
     "metadata": {},
     "output_type": "display_data"
    },
    {
     "data": {
      "text/html": [
       "Tracking run with wandb version 0.16.0"
      ],
      "text/plain": [
       "<IPython.core.display.HTML object>"
      ]
     },
     "metadata": {},
     "output_type": "display_data"
    },
    {
     "data": {
      "text/html": [
       "Run data is saved locally in <code>D:\\Projects\\Jupyter\\Sentiment analysis\\04DEC\\wandb\\run-20231204_205249-47jo7vmb</code>"
      ],
      "text/plain": [
       "<IPython.core.display.HTML object>"
      ]
     },
     "metadata": {},
     "output_type": "display_data"
    },
    {
     "data": {
      "text/html": [
       "Syncing run <strong><a href='https://wandb.ai/ericat/huggingface/runs/47jo7vmb' target=\"_blank\">tough-resonance-385</a></strong> to <a href='https://wandb.ai/ericat/huggingface' target=\"_blank\">Weights & Biases</a> (<a href='https://wandb.me/run' target=\"_blank\">docs</a>)<br/>"
      ],
      "text/plain": [
       "<IPython.core.display.HTML object>"
      ]
     },
     "metadata": {},
     "output_type": "display_data"
    },
    {
     "data": {
      "text/html": [
       " View project at <a href='https://wandb.ai/ericat/huggingface' target=\"_blank\">https://wandb.ai/ericat/huggingface</a>"
      ],
      "text/plain": [
       "<IPython.core.display.HTML object>"
      ]
     },
     "metadata": {},
     "output_type": "display_data"
    },
    {
     "data": {
      "text/html": [
       " View run at <a href='https://wandb.ai/ericat/huggingface/runs/47jo7vmb' target=\"_blank\">https://wandb.ai/ericat/huggingface/runs/47jo7vmb</a>"
      ],
      "text/plain": [
       "<IPython.core.display.HTML object>"
      ]
     },
     "metadata": {},
     "output_type": "display_data"
    },
    {
     "name": "stdout",
     "output_type": "stream",
     "text": [
      "{'loss': 0.8206, 'learning_rate': 7.296706408567498e-05, 'epoch': 0.29}\n"
     ]
    },
    {
     "name": "stderr",
     "output_type": "stream",
     "text": [
      "[I 2023-12-04 20:54:28,479] Trial 15 pruned. \n"
     ]
    },
    {
     "name": "stdout",
     "output_type": "stream",
     "text": [
      "{'eval_loss': 0.7868874073028564, 'eval_accuracy': 0.6910425844346549, 'eval_f1': 0.6947967334978183, 'eval_precision': 0.7114686769647323, 'eval_recall': 0.6957615428382864, 'eval_runtime': 21.1689, 'eval_samples_per_second': 321.698, 'eval_steps_per_second': 40.248, 'epoch': 0.29}\n"
     ]
    },
    {
     "data": {
      "application/vnd.jupyter.widget-view+json": {
       "model_id": "",
       "version_major": 2,
       "version_minor": 0
      },
      "text/plain": [
       "VBox(children=(Label(value='0.001 MB of 0.001 MB uploaded\\r'), FloatProgress(value=1.0, max=1.0)))"
      ]
     },
     "metadata": {},
     "output_type": "display_data"
    },
    {
     "data": {
      "text/html": [
       "<style>\n",
       "    table.wandb td:nth-child(1) { padding: 0 10px; text-align: left ; width: auto;} td:nth-child(2) {text-align: left ; width: 100%}\n",
       "    .wandb-row { display: flex; flex-direction: row; flex-wrap: wrap; justify-content: flex-start; width: 100% }\n",
       "    .wandb-col { display: flex; flex-direction: column; flex-basis: 100%; flex: 1; padding: 10px; }\n",
       "    </style>\n",
       "<div class=\"wandb-row\"><div class=\"wandb-col\"><h3>Run history:</h3><br/><table class=\"wandb\"><tr><td>eval/accuracy</td><td>▁</td></tr><tr><td>eval/f1</td><td>▁</td></tr><tr><td>eval/loss</td><td>▁</td></tr><tr><td>eval/precision</td><td>▁</td></tr><tr><td>eval/recall</td><td>▁</td></tr><tr><td>eval/runtime</td><td>▁</td></tr><tr><td>eval/samples_per_second</td><td>▁</td></tr><tr><td>eval/steps_per_second</td><td>▁</td></tr><tr><td>train/epoch</td><td>▁▁</td></tr><tr><td>train/global_step</td><td>▁▁</td></tr><tr><td>train/learning_rate</td><td>▁</td></tr><tr><td>train/loss</td><td>▁</td></tr></table><br/></div><div class=\"wandb-col\"><h3>Run summary:</h3><br/><table class=\"wandb\"><tr><td>eval/accuracy</td><td>0.69104</td></tr><tr><td>eval/f1</td><td>0.6948</td></tr><tr><td>eval/loss</td><td>0.78689</td></tr><tr><td>eval/precision</td><td>0.71147</td></tr><tr><td>eval/recall</td><td>0.69576</td></tr><tr><td>eval/runtime</td><td>21.1689</td></tr><tr><td>eval/samples_per_second</td><td>321.698</td></tr><tr><td>eval/steps_per_second</td><td>40.248</td></tr><tr><td>train/epoch</td><td>0.29</td></tr><tr><td>train/global_step</td><td>500</td></tr><tr><td>train/learning_rate</td><td>7e-05</td></tr><tr><td>train/loss</td><td>0.8206</td></tr></table><br/></div></div>"
      ],
      "text/plain": [
       "<IPython.core.display.HTML object>"
      ]
     },
     "metadata": {},
     "output_type": "display_data"
    },
    {
     "data": {
      "text/html": [
       " View run <strong style=\"color:#cdcd00\">tough-resonance-385</strong> at: <a href='https://wandb.ai/ericat/huggingface/runs/47jo7vmb' target=\"_blank\">https://wandb.ai/ericat/huggingface/runs/47jo7vmb</a><br/>Synced 5 W&B file(s), 0 media file(s), 0 artifact file(s) and 0 other file(s)"
      ],
      "text/plain": [
       "<IPython.core.display.HTML object>"
      ]
     },
     "metadata": {},
     "output_type": "display_data"
    },
    {
     "data": {
      "text/html": [
       "Find logs at: <code>.\\wandb\\run-20231204_205249-47jo7vmb\\logs</code>"
      ],
      "text/plain": [
       "<IPython.core.display.HTML object>"
      ]
     },
     "metadata": {},
     "output_type": "display_data"
    },
    {
     "data": {
      "application/vnd.jupyter.widget-view+json": {
       "model_id": "12a73a02f72b49c496c98322a15aa984",
       "version_major": 2,
       "version_minor": 0
      },
      "text/plain": [
       "VBox(children=(Label(value='Waiting for wandb.init()...\\r'), FloatProgress(value=0.011111111111111112, max=1.0…"
      ]
     },
     "metadata": {},
     "output_type": "display_data"
    },
    {
     "data": {
      "text/html": [
       "Tracking run with wandb version 0.16.0"
      ],
      "text/plain": [
       "<IPython.core.display.HTML object>"
      ]
     },
     "metadata": {},
     "output_type": "display_data"
    },
    {
     "data": {
      "text/html": [
       "Run data is saved locally in <code>D:\\Projects\\Jupyter\\Sentiment analysis\\04DEC\\wandb\\run-20231204_205437-dxlhkg3s</code>"
      ],
      "text/plain": [
       "<IPython.core.display.HTML object>"
      ]
     },
     "metadata": {},
     "output_type": "display_data"
    },
    {
     "data": {
      "text/html": [
       "Syncing run <strong><a href='https://wandb.ai/ericat/huggingface/runs/dxlhkg3s' target=\"_blank\">generous-planet-386</a></strong> to <a href='https://wandb.ai/ericat/huggingface' target=\"_blank\">Weights & Biases</a> (<a href='https://wandb.me/run' target=\"_blank\">docs</a>)<br/>"
      ],
      "text/plain": [
       "<IPython.core.display.HTML object>"
      ]
     },
     "metadata": {},
     "output_type": "display_data"
    },
    {
     "data": {
      "text/html": [
       " View project at <a href='https://wandb.ai/ericat/huggingface' target=\"_blank\">https://wandb.ai/ericat/huggingface</a>"
      ],
      "text/plain": [
       "<IPython.core.display.HTML object>"
      ]
     },
     "metadata": {},
     "output_type": "display_data"
    },
    {
     "data": {
      "text/html": [
       " View run at <a href='https://wandb.ai/ericat/huggingface/runs/dxlhkg3s' target=\"_blank\">https://wandb.ai/ericat/huggingface/runs/dxlhkg3s</a>"
      ],
      "text/plain": [
       "<IPython.core.display.HTML object>"
      ]
     },
     "metadata": {},
     "output_type": "display_data"
    },
    {
     "name": "stdout",
     "output_type": "stream",
     "text": [
      "{'loss': 0.7921, 'learning_rate': 8.413549056172906e-05, 'epoch': 0.44}\n"
     ]
    },
    {
     "name": "stderr",
     "output_type": "stream",
     "text": [
      "[I 2023-12-04 20:56:48,258] Trial 16 pruned. \n"
     ]
    },
    {
     "name": "stdout",
     "output_type": "stream",
     "text": [
      "{'eval_loss': 0.6765071749687195, 'eval_accuracy': 0.7202643171806168, 'eval_f1': 0.7228758276597111, 'eval_precision': 0.719987441183609, 'eval_recall': 0.728320189548214, 'eval_runtime': 21.3598, 'eval_samples_per_second': 318.823, 'eval_steps_per_second': 39.888, 'epoch': 0.44}\n"
     ]
    },
    {
     "data": {
      "application/vnd.jupyter.widget-view+json": {
       "model_id": "",
       "version_major": 2,
       "version_minor": 0
      },
      "text/plain": [
       "VBox(children=(Label(value='0.001 MB of 0.001 MB uploaded\\r'), FloatProgress(value=1.0, max=1.0)))"
      ]
     },
     "metadata": {},
     "output_type": "display_data"
    },
    {
     "data": {
      "text/html": [
       "<style>\n",
       "    table.wandb td:nth-child(1) { padding: 0 10px; text-align: left ; width: auto;} td:nth-child(2) {text-align: left ; width: 100%}\n",
       "    .wandb-row { display: flex; flex-direction: row; flex-wrap: wrap; justify-content: flex-start; width: 100% }\n",
       "    .wandb-col { display: flex; flex-direction: column; flex-basis: 100%; flex: 1; padding: 10px; }\n",
       "    </style>\n",
       "<div class=\"wandb-row\"><div class=\"wandb-col\"><h3>Run history:</h3><br/><table class=\"wandb\"><tr><td>eval/accuracy</td><td>▁</td></tr><tr><td>eval/f1</td><td>▁</td></tr><tr><td>eval/loss</td><td>▁</td></tr><tr><td>eval/precision</td><td>▁</td></tr><tr><td>eval/recall</td><td>▁</td></tr><tr><td>eval/runtime</td><td>▁</td></tr><tr><td>eval/samples_per_second</td><td>▁</td></tr><tr><td>eval/steps_per_second</td><td>▁</td></tr><tr><td>train/epoch</td><td>▁▁</td></tr><tr><td>train/global_step</td><td>▁▁</td></tr><tr><td>train/learning_rate</td><td>▁</td></tr><tr><td>train/loss</td><td>▁</td></tr></table><br/></div><div class=\"wandb-col\"><h3>Run summary:</h3><br/><table class=\"wandb\"><tr><td>eval/accuracy</td><td>0.72026</td></tr><tr><td>eval/f1</td><td>0.72288</td></tr><tr><td>eval/loss</td><td>0.67651</td></tr><tr><td>eval/precision</td><td>0.71999</td></tr><tr><td>eval/recall</td><td>0.72832</td></tr><tr><td>eval/runtime</td><td>21.3598</td></tr><tr><td>eval/samples_per_second</td><td>318.823</td></tr><tr><td>eval/steps_per_second</td><td>39.888</td></tr><tr><td>train/epoch</td><td>0.44</td></tr><tr><td>train/global_step</td><td>500</td></tr><tr><td>train/learning_rate</td><td>8e-05</td></tr><tr><td>train/loss</td><td>0.7921</td></tr></table><br/></div></div>"
      ],
      "text/plain": [
       "<IPython.core.display.HTML object>"
      ]
     },
     "metadata": {},
     "output_type": "display_data"
    },
    {
     "data": {
      "text/html": [
       " View run <strong style=\"color:#cdcd00\">generous-planet-386</strong> at: <a href='https://wandb.ai/ericat/huggingface/runs/dxlhkg3s' target=\"_blank\">https://wandb.ai/ericat/huggingface/runs/dxlhkg3s</a><br/>Synced 5 W&B file(s), 0 media file(s), 0 artifact file(s) and 0 other file(s)"
      ],
      "text/plain": [
       "<IPython.core.display.HTML object>"
      ]
     },
     "metadata": {},
     "output_type": "display_data"
    },
    {
     "data": {
      "text/html": [
       "Find logs at: <code>.\\wandb\\run-20231204_205437-dxlhkg3s\\logs</code>"
      ],
      "text/plain": [
       "<IPython.core.display.HTML object>"
      ]
     },
     "metadata": {},
     "output_type": "display_data"
    },
    {
     "data": {
      "application/vnd.jupyter.widget-view+json": {
       "model_id": "8ad624258e2a49c6b9ccab551929278d",
       "version_major": 2,
       "version_minor": 0
      },
      "text/plain": [
       "VBox(children=(Label(value='Waiting for wandb.init()...\\r'), FloatProgress(value=0.011111111111111112, max=1.0…"
      ]
     },
     "metadata": {},
     "output_type": "display_data"
    },
    {
     "data": {
      "text/html": [
       "Tracking run with wandb version 0.16.0"
      ],
      "text/plain": [
       "<IPython.core.display.HTML object>"
      ]
     },
     "metadata": {},
     "output_type": "display_data"
    },
    {
     "data": {
      "text/html": [
       "Run data is saved locally in <code>D:\\Projects\\Jupyter\\Sentiment analysis\\04DEC\\wandb\\run-20231204_205657-3p95hly0</code>"
      ],
      "text/plain": [
       "<IPython.core.display.HTML object>"
      ]
     },
     "metadata": {},
     "output_type": "display_data"
    },
    {
     "data": {
      "text/html": [
       "Syncing run <strong><a href='https://wandb.ai/ericat/huggingface/runs/3p95hly0' target=\"_blank\">likely-breeze-387</a></strong> to <a href='https://wandb.ai/ericat/huggingface' target=\"_blank\">Weights & Biases</a> (<a href='https://wandb.me/run' target=\"_blank\">docs</a>)<br/>"
      ],
      "text/plain": [
       "<IPython.core.display.HTML object>"
      ]
     },
     "metadata": {},
     "output_type": "display_data"
    },
    {
     "data": {
      "text/html": [
       " View project at <a href='https://wandb.ai/ericat/huggingface' target=\"_blank\">https://wandb.ai/ericat/huggingface</a>"
      ],
      "text/plain": [
       "<IPython.core.display.HTML object>"
      ]
     },
     "metadata": {},
     "output_type": "display_data"
    },
    {
     "data": {
      "text/html": [
       " View run at <a href='https://wandb.ai/ericat/huggingface/runs/3p95hly0' target=\"_blank\">https://wandb.ai/ericat/huggingface/runs/3p95hly0</a>"
      ],
      "text/plain": [
       "<IPython.core.display.HTML object>"
      ]
     },
     "metadata": {},
     "output_type": "display_data"
    },
    {
     "name": "stdout",
     "output_type": "stream",
     "text": [
      "{'loss': 0.936, 'learning_rate': 3.5842489375695186e-06, 'epoch': 0.59}\n"
     ]
    },
    {
     "name": "stderr",
     "output_type": "stream",
     "text": [
      "[I 2023-12-04 20:59:36,261] Trial 17 pruned. \n"
     ]
    },
    {
     "name": "stdout",
     "output_type": "stream",
     "text": [
      "{'eval_loss': 0.7351336479187012, 'eval_accuracy': 0.6816446402349486, 'eval_f1': 0.6843785343932322, 'eval_precision': 0.6814209339967748, 'eval_recall': 0.6899204199563984, 'eval_runtime': 21.3256, 'eval_samples_per_second': 319.335, 'eval_steps_per_second': 39.952, 'epoch': 0.59}\n"
     ]
    },
    {
     "data": {
      "application/vnd.jupyter.widget-view+json": {
       "model_id": "",
       "version_major": 2,
       "version_minor": 0
      },
      "text/plain": [
       "VBox(children=(Label(value='0.001 MB of 0.001 MB uploaded\\r'), FloatProgress(value=1.0, max=1.0)))"
      ]
     },
     "metadata": {},
     "output_type": "display_data"
    },
    {
     "data": {
      "text/html": [
       "<style>\n",
       "    table.wandb td:nth-child(1) { padding: 0 10px; text-align: left ; width: auto;} td:nth-child(2) {text-align: left ; width: 100%}\n",
       "    .wandb-row { display: flex; flex-direction: row; flex-wrap: wrap; justify-content: flex-start; width: 100% }\n",
       "    .wandb-col { display: flex; flex-direction: column; flex-basis: 100%; flex: 1; padding: 10px; }\n",
       "    </style>\n",
       "<div class=\"wandb-row\"><div class=\"wandb-col\"><h3>Run history:</h3><br/><table class=\"wandb\"><tr><td>eval/accuracy</td><td>▁</td></tr><tr><td>eval/f1</td><td>▁</td></tr><tr><td>eval/loss</td><td>▁</td></tr><tr><td>eval/precision</td><td>▁</td></tr><tr><td>eval/recall</td><td>▁</td></tr><tr><td>eval/runtime</td><td>▁</td></tr><tr><td>eval/samples_per_second</td><td>▁</td></tr><tr><td>eval/steps_per_second</td><td>▁</td></tr><tr><td>train/epoch</td><td>▁▁</td></tr><tr><td>train/global_step</td><td>▁▁</td></tr><tr><td>train/learning_rate</td><td>▁</td></tr><tr><td>train/loss</td><td>▁</td></tr></table><br/></div><div class=\"wandb-col\"><h3>Run summary:</h3><br/><table class=\"wandb\"><tr><td>eval/accuracy</td><td>0.68164</td></tr><tr><td>eval/f1</td><td>0.68438</td></tr><tr><td>eval/loss</td><td>0.73513</td></tr><tr><td>eval/precision</td><td>0.68142</td></tr><tr><td>eval/recall</td><td>0.68992</td></tr><tr><td>eval/runtime</td><td>21.3256</td></tr><tr><td>eval/samples_per_second</td><td>319.335</td></tr><tr><td>eval/steps_per_second</td><td>39.952</td></tr><tr><td>train/epoch</td><td>0.59</td></tr><tr><td>train/global_step</td><td>500</td></tr><tr><td>train/learning_rate</td><td>0.0</td></tr><tr><td>train/loss</td><td>0.936</td></tr></table><br/></div></div>"
      ],
      "text/plain": [
       "<IPython.core.display.HTML object>"
      ]
     },
     "metadata": {},
     "output_type": "display_data"
    },
    {
     "data": {
      "text/html": [
       " View run <strong style=\"color:#cdcd00\">likely-breeze-387</strong> at: <a href='https://wandb.ai/ericat/huggingface/runs/3p95hly0' target=\"_blank\">https://wandb.ai/ericat/huggingface/runs/3p95hly0</a><br/>Synced 5 W&B file(s), 0 media file(s), 0 artifact file(s) and 0 other file(s)"
      ],
      "text/plain": [
       "<IPython.core.display.HTML object>"
      ]
     },
     "metadata": {},
     "output_type": "display_data"
    },
    {
     "data": {
      "text/html": [
       "Find logs at: <code>.\\wandb\\run-20231204_205657-3p95hly0\\logs</code>"
      ],
      "text/plain": [
       "<IPython.core.display.HTML object>"
      ]
     },
     "metadata": {},
     "output_type": "display_data"
    },
    {
     "data": {
      "application/vnd.jupyter.widget-view+json": {
       "model_id": "a6d0e93c79704e718f80518e8da68c1b",
       "version_major": 2,
       "version_minor": 0
      },
      "text/plain": [
       "VBox(children=(Label(value='Waiting for wandb.init()...\\r'), FloatProgress(value=0.011288888888884685, max=1.0…"
      ]
     },
     "metadata": {},
     "output_type": "display_data"
    },
    {
     "data": {
      "text/html": [
       "Tracking run with wandb version 0.16.0"
      ],
      "text/plain": [
       "<IPython.core.display.HTML object>"
      ]
     },
     "metadata": {},
     "output_type": "display_data"
    },
    {
     "data": {
      "text/html": [
       "Run data is saved locally in <code>D:\\Projects\\Jupyter\\Sentiment analysis\\04DEC\\wandb\\run-20231204_205944-bpy67105</code>"
      ],
      "text/plain": [
       "<IPython.core.display.HTML object>"
      ]
     },
     "metadata": {},
     "output_type": "display_data"
    },
    {
     "data": {
      "text/html": [
       "Syncing run <strong><a href='https://wandb.ai/ericat/huggingface/runs/bpy67105' target=\"_blank\">desert-capybara-388</a></strong> to <a href='https://wandb.ai/ericat/huggingface' target=\"_blank\">Weights & Biases</a> (<a href='https://wandb.me/run' target=\"_blank\">docs</a>)<br/>"
      ],
      "text/plain": [
       "<IPython.core.display.HTML object>"
      ]
     },
     "metadata": {},
     "output_type": "display_data"
    },
    {
     "data": {
      "text/html": [
       " View project at <a href='https://wandb.ai/ericat/huggingface' target=\"_blank\">https://wandb.ai/ericat/huggingface</a>"
      ],
      "text/plain": [
       "<IPython.core.display.HTML object>"
      ]
     },
     "metadata": {},
     "output_type": "display_data"
    },
    {
     "data": {
      "text/html": [
       " View run at <a href='https://wandb.ai/ericat/huggingface/runs/bpy67105' target=\"_blank\">https://wandb.ai/ericat/huggingface/runs/bpy67105</a>"
      ],
      "text/plain": [
       "<IPython.core.display.HTML object>"
      ]
     },
     "metadata": {},
     "output_type": "display_data"
    },
    {
     "name": "stdout",
     "output_type": "stream",
     "text": [
      "{'loss': 0.7392, 'learning_rate': 3.4452003226701026e-05, 'epoch': 0.66}\n",
      "{'eval_loss': 0.6240602731704712, 'eval_accuracy': 0.7380323054331865, 'eval_f1': 0.7423552710279052, 'eval_precision': 0.7435834441869161, 'eval_recall': 0.7451796868403733, 'eval_runtime': 21.3148, 'eval_samples_per_second': 319.496, 'eval_steps_per_second': 39.972, 'epoch': 0.66}\n",
      "{'loss': 0.5704, 'learning_rate': 2.920816711913618e-05, 'epoch': 1.32}\n",
      "{'eval_loss': 0.6123479008674622, 'eval_accuracy': 0.7458149779735683, 'eval_f1': 0.7491923068119202, 'eval_precision': 0.7463735236247347, 'eval_recall': 0.7536306553435694, 'eval_runtime': 21.3559, 'eval_samples_per_second': 318.881, 'eval_steps_per_second': 39.895, 'epoch': 1.32}\n",
      "{'loss': 0.5026, 'learning_rate': 2.3964331011571336e-05, 'epoch': 1.98}\n",
      "{'eval_loss': 0.5936552882194519, 'eval_accuracy': 0.7519823788546256, 'eval_f1': 0.7560050497412933, 'eval_precision': 0.7597421384290205, 'eval_recall': 0.7531781739619596, 'eval_runtime': 21.357, 'eval_samples_per_second': 318.865, 'eval_steps_per_second': 39.893, 'epoch': 1.98}\n",
      "{'loss': 0.3614, 'learning_rate': 1.8720494904006492e-05, 'epoch': 2.64}\n",
      "{'eval_loss': 0.6612027883529663, 'eval_accuracy': 0.7466960352422908, 'eval_f1': 0.7496295588730301, 'eval_precision': 0.7471900731384409, 'eval_recall': 0.7536822718543675, 'eval_runtime': 21.3771, 'eval_samples_per_second': 318.565, 'eval_steps_per_second': 39.856, 'epoch': 2.64}\n",
      "{'loss': 0.3065, 'learning_rate': 1.3476658796441647e-05, 'epoch': 3.3}\n",
      "{'eval_loss': 0.8144229650497437, 'eval_accuracy': 0.7450807635829663, 'eval_f1': 0.7483632438524145, 'eval_precision': 0.7464722787470625, 'eval_recall': 0.7508600159424627, 'eval_runtime': 21.3489, 'eval_samples_per_second': 318.985, 'eval_steps_per_second': 39.908, 'epoch': 3.3}\n",
      "{'loss': 0.2425, 'learning_rate': 8.232822688876804e-06, 'epoch': 3.96}\n",
      "{'eval_loss': 0.7999717593193054, 'eval_accuracy': 0.747136563876652, 'eval_f1': 0.7498791918257125, 'eval_precision': 0.7527225008504111, 'eval_recall': 0.7485062660915611, 'eval_runtime': 21.3773, 'eval_samples_per_second': 318.562, 'eval_steps_per_second': 39.855, 'epoch': 3.96}\n",
      "{'loss': 0.1759, 'learning_rate': 2.9889865813119606e-06, 'epoch': 4.62}\n",
      "{'eval_loss': 0.934457004070282, 'eval_accuracy': 0.745374449339207, 'eval_f1': 0.7491382370390465, 'eval_precision': 0.7502023090947478, 'eval_recall': 0.748228374571347, 'eval_runtime': 21.3481, 'eval_samples_per_second': 318.998, 'eval_steps_per_second': 39.91, 'epoch': 4.62}\n"
     ]
    },
    {
     "name": "stderr",
     "output_type": "stream",
     "text": [
      "[I 2023-12-04 21:24:24,834] Trial 18 finished with value: 2.9929433700443484 and parameters: {'learning_rate': 3.9695839334265866e-05, 'num_train_epochs': 5, 'per_device_train_batch_size': 36}. Best is trial 18 with value: 2.9929433700443484.\n"
     ]
    },
    {
     "name": "stdout",
     "output_type": "stream",
     "text": [
      "{'train_runtime': 1487.1517, 'train_samples_per_second': 91.578, 'train_steps_per_second': 2.545, 'train_loss': 0.39531276103212465, 'epoch': 5.0}\n"
     ]
    },
    {
     "data": {
      "application/vnd.jupyter.widget-view+json": {
       "model_id": "",
       "version_major": 2,
       "version_minor": 0
      },
      "text/plain": [
       "VBox(children=(Label(value='0.001 MB of 0.001 MB uploaded\\r'), FloatProgress(value=1.0, max=1.0)))"
      ]
     },
     "metadata": {},
     "output_type": "display_data"
    },
    {
     "data": {
      "text/html": [
       "<style>\n",
       "    table.wandb td:nth-child(1) { padding: 0 10px; text-align: left ; width: auto;} td:nth-child(2) {text-align: left ; width: 100%}\n",
       "    .wandb-row { display: flex; flex-direction: row; flex-wrap: wrap; justify-content: flex-start; width: 100% }\n",
       "    .wandb-col { display: flex; flex-direction: column; flex-basis: 100%; flex: 1; padding: 10px; }\n",
       "    </style>\n",
       "<div class=\"wandb-row\"><div class=\"wandb-col\"><h3>Run history:</h3><br/><table class=\"wandb\"><tr><td>eval/accuracy</td><td>▁▅█▅▅▆▅</td></tr><tr><td>eval/f1</td><td>▁▅█▅▄▅▄</td></tr><tr><td>eval/loss</td><td>▂▁▁▂▆▅█</td></tr><tr><td>eval/precision</td><td>▁▂█▃▂▅▄</td></tr><tr><td>eval/recall</td><td>▁███▆▄▄</td></tr><tr><td>eval/runtime</td><td>▁▆▆█▅█▅</td></tr><tr><td>eval/samples_per_second</td><td>█▃▃▁▄▁▄</td></tr><tr><td>eval/steps_per_second</td><td>█▃▃▁▄▁▄</td></tr><tr><td>train/epoch</td><td>▁▁▂▂▃▃▄▄▅▅▆▆▇▇█</td></tr><tr><td>train/global_step</td><td>▁▁▂▂▃▃▄▄▅▅▆▆▇▇█</td></tr><tr><td>train/learning_rate</td><td>█▇▆▄▃▂▁</td></tr><tr><td>train/loss</td><td>█▆▅▃▃▂▁</td></tr><tr><td>train/total_flos</td><td>▁</td></tr><tr><td>train/train_loss</td><td>▁</td></tr><tr><td>train/train_runtime</td><td>▁</td></tr><tr><td>train/train_samples_per_second</td><td>▁</td></tr><tr><td>train/train_steps_per_second</td><td>▁</td></tr></table><br/></div><div class=\"wandb-col\"><h3>Run summary:</h3><br/><table class=\"wandb\"><tr><td>eval/accuracy</td><td>0.74537</td></tr><tr><td>eval/f1</td><td>0.74914</td></tr><tr><td>eval/loss</td><td>0.93446</td></tr><tr><td>eval/precision</td><td>0.7502</td></tr><tr><td>eval/recall</td><td>0.74823</td></tr><tr><td>eval/runtime</td><td>21.3481</td></tr><tr><td>eval/samples_per_second</td><td>318.998</td></tr><tr><td>eval/steps_per_second</td><td>39.91</td></tr><tr><td>train/epoch</td><td>5.0</td></tr><tr><td>train/global_step</td><td>3785</td></tr><tr><td>train/learning_rate</td><td>0.0</td></tr><tr><td>train/loss</td><td>0.1759</td></tr><tr><td>train/total_flos</td><td>9020528376929280.0</td></tr><tr><td>train/train_loss</td><td>0.39531</td></tr><tr><td>train/train_runtime</td><td>1487.1517</td></tr><tr><td>train/train_samples_per_second</td><td>91.578</td></tr><tr><td>train/train_steps_per_second</td><td>2.545</td></tr></table><br/></div></div>"
      ],
      "text/plain": [
       "<IPython.core.display.HTML object>"
      ]
     },
     "metadata": {},
     "output_type": "display_data"
    },
    {
     "data": {
      "text/html": [
       " View run <strong style=\"color:#cdcd00\">desert-capybara-388</strong> at: <a href='https://wandb.ai/ericat/huggingface/runs/bpy67105' target=\"_blank\">https://wandb.ai/ericat/huggingface/runs/bpy67105</a><br/>Synced 5 W&B file(s), 0 media file(s), 0 artifact file(s) and 0 other file(s)"
      ],
      "text/plain": [
       "<IPython.core.display.HTML object>"
      ]
     },
     "metadata": {},
     "output_type": "display_data"
    },
    {
     "data": {
      "text/html": [
       "Find logs at: <code>.\\wandb\\run-20231204_205944-bpy67105\\logs</code>"
      ],
      "text/plain": [
       "<IPython.core.display.HTML object>"
      ]
     },
     "metadata": {},
     "output_type": "display_data"
    },
    {
     "data": {
      "application/vnd.jupyter.widget-view+json": {
       "model_id": "b12e692fbc184fa9a2873210943d06f4",
       "version_major": 2,
       "version_minor": 0
      },
      "text/plain": [
       "VBox(children=(Label(value='Waiting for wandb.init()...\\r'), FloatProgress(value=0.011288888888884685, max=1.0…"
      ]
     },
     "metadata": {},
     "output_type": "display_data"
    },
    {
     "data": {
      "text/html": [
       "Tracking run with wandb version 0.16.0"
      ],
      "text/plain": [
       "<IPython.core.display.HTML object>"
      ]
     },
     "metadata": {},
     "output_type": "display_data"
    },
    {
     "data": {
      "text/html": [
       "Run data is saved locally in <code>D:\\Projects\\Jupyter\\Sentiment analysis\\04DEC\\wandb\\run-20231204_212434-m9dkb1mw</code>"
      ],
      "text/plain": [
       "<IPython.core.display.HTML object>"
      ]
     },
     "metadata": {},
     "output_type": "display_data"
    },
    {
     "data": {
      "text/html": [
       "Syncing run <strong><a href='https://wandb.ai/ericat/huggingface/runs/m9dkb1mw' target=\"_blank\">fragrant-flower-389</a></strong> to <a href='https://wandb.ai/ericat/huggingface' target=\"_blank\">Weights & Biases</a> (<a href='https://wandb.me/run' target=\"_blank\">docs</a>)<br/>"
      ],
      "text/plain": [
       "<IPython.core.display.HTML object>"
      ]
     },
     "metadata": {},
     "output_type": "display_data"
    },
    {
     "data": {
      "text/html": [
       " View project at <a href='https://wandb.ai/ericat/huggingface' target=\"_blank\">https://wandb.ai/ericat/huggingface</a>"
      ],
      "text/plain": [
       "<IPython.core.display.HTML object>"
      ]
     },
     "metadata": {},
     "output_type": "display_data"
    },
    {
     "data": {
      "text/html": [
       " View run at <a href='https://wandb.ai/ericat/huggingface/runs/m9dkb1mw' target=\"_blank\">https://wandb.ai/ericat/huggingface/runs/m9dkb1mw</a>"
      ],
      "text/plain": [
       "<IPython.core.display.HTML object>"
      ]
     },
     "metadata": {},
     "output_type": "display_data"
    },
    {
     "name": "stdout",
     "output_type": "stream",
     "text": [
      "{'loss': 0.7382, 'learning_rate': 3.64527556522034e-05, 'epoch': 0.66}\n",
      "{'eval_loss': 0.6238053441047668, 'eval_accuracy': 0.737885462555066, 'eval_f1': 0.7420190676925261, 'eval_precision': 0.7424089135981006, 'eval_recall': 0.7464425586610602, 'eval_runtime': 21.3519, 'eval_samples_per_second': 318.941, 'eval_steps_per_second': 39.903, 'epoch': 0.66}\n",
      "{'loss': 0.5676, 'learning_rate': 2.924295429694165e-05, 'epoch': 1.32}\n",
      "{'eval_loss': 0.612509548664093, 'eval_accuracy': 0.7462555066079295, 'eval_f1': 0.7494063741042206, 'eval_precision': 0.7469494293145006, 'eval_recall': 0.7538432586103552, 'eval_runtime': 21.3599, 'eval_samples_per_second': 318.821, 'eval_steps_per_second': 39.888, 'epoch': 1.32}\n",
      "{'loss': 0.4942, 'learning_rate': 2.20331529416799e-05, 'epoch': 1.98}\n",
      "{'eval_loss': 0.5932870507240295, 'eval_accuracy': 0.7513950073421439, 'eval_f1': 0.7555597278210203, 'eval_precision': 0.7592552536609616, 'eval_recall': 0.7526951078342815, 'eval_runtime': 21.339, 'eval_samples_per_second': 319.134, 'eval_steps_per_second': 39.927, 'epoch': 1.98}\n",
      "{'loss': 0.3506, 'learning_rate': 1.4823351586418154e-05, 'epoch': 2.64}\n",
      "{'eval_loss': 0.659430205821991, 'eval_accuracy': 0.7525697503671072, 'eval_f1': 0.7558133027619837, 'eval_precision': 0.7551504679716289, 'eval_recall': 0.7566102198483374, 'eval_runtime': 21.3781, 'eval_samples_per_second': 318.55, 'eval_steps_per_second': 39.854, 'epoch': 2.64}\n",
      "{'loss': 0.2977, 'learning_rate': 7.613550231156405e-06, 'epoch': 3.3}\n",
      "{'eval_loss': 0.789160430431366, 'eval_accuracy': 0.747136563876652, 'eval_f1': 0.7505386467286326, 'eval_precision': 0.7483887176978152, 'eval_recall': 0.7533094896388978, 'eval_runtime': 21.3901, 'eval_samples_per_second': 318.372, 'eval_steps_per_second': 39.832, 'epoch': 3.3}\n",
      "{'loss': 0.2353, 'learning_rate': 4.037488758946579e-07, 'epoch': 3.96}\n",
      "{'eval_loss': 0.7975515127182007, 'eval_accuracy': 0.7484581497797357, 'eval_f1': 0.7519609471439849, 'eval_precision': 0.7514115830989013, 'eval_recall': 0.7525445948543629, 'eval_runtime': 21.3739, 'eval_samples_per_second': 318.613, 'eval_steps_per_second': 39.862, 'epoch': 3.96}\n"
     ]
    },
    {
     "name": "stderr",
     "output_type": "stream",
     "text": [
      "[I 2023-12-04 21:44:35,945] Trial 19 finished with value: 3.0043752748769847 and parameters: {'learning_rate': 4.3662557007465145e-05, 'num_train_epochs': 4, 'per_device_train_batch_size': 36}. Best is trial 19 with value: 3.0043752748769847.\n"
     ]
    },
    {
     "name": "stdout",
     "output_type": "stream",
     "text": [
      "{'train_runtime': 1209.1357, 'train_samples_per_second': 90.107, 'train_steps_per_second': 2.504, 'train_loss': 0.4454215486266969, 'epoch': 4.0}\n"
     ]
    },
    {
     "data": {
      "text/plain": [
       "BestRun(run_id='19', objective=3.0043752748769847, hyperparameters={'learning_rate': 4.3662557007465145e-05, 'num_train_epochs': 4, 'per_device_train_batch_size': 36}, run_summary=None)"
      ]
     },
     "execution_count": 39,
     "metadata": {},
     "output_type": "execute_result"
    }
   ],
   "source": [
    "trainer.hyperparameter_search(direction=\"maximize\", hp_space=my_hp_space)"
   ]
  },
  {
   "cell_type": "markdown",
   "id": "37f9b448",
   "metadata": {},
   "source": [
    "# Trainer"
   ]
  },
  {
   "cell_type": "code",
   "execution_count": 36,
   "id": "642f5b47",
   "metadata": {},
   "outputs": [
    {
     "name": "stderr",
     "output_type": "stream",
     "text": [
      "\u001b[34m\u001b[1mwandb\u001b[0m: Currently logged in as: \u001b[33mericat\u001b[0m. Use \u001b[1m`wandb login --relogin`\u001b[0m to force relogin\n"
     ]
    },
    {
     "data": {
      "text/html": [
       "wandb version 0.16.1 is available!  To upgrade, please run:\n",
       " $ pip install wandb --upgrade"
      ],
      "text/plain": [
       "<IPython.core.display.HTML object>"
      ]
     },
     "metadata": {},
     "output_type": "display_data"
    },
    {
     "data": {
      "text/html": [
       "Tracking run with wandb version 0.16.0"
      ],
      "text/plain": [
       "<IPython.core.display.HTML object>"
      ]
     },
     "metadata": {},
     "output_type": "display_data"
    },
    {
     "data": {
      "text/html": [
       "Run data is saved locally in <code>D:\\Projects\\Jupyter\\Sentiment analysis\\04DEC\\wandb\\run-20231211_104812-ety0al2a</code>"
      ],
      "text/plain": [
       "<IPython.core.display.HTML object>"
      ]
     },
     "metadata": {},
     "output_type": "display_data"
    },
    {
     "data": {
      "text/html": [
       "Syncing run <strong><a href='https://wandb.ai/ericat/huggingface/runs/ety0al2a' target=\"_blank\">whole-glitter-571</a></strong> to <a href='https://wandb.ai/ericat/huggingface' target=\"_blank\">Weights & Biases</a> (<a href='https://wandb.me/run' target=\"_blank\">docs</a>)<br/>"
      ],
      "text/plain": [
       "<IPython.core.display.HTML object>"
      ]
     },
     "metadata": {},
     "output_type": "display_data"
    },
    {
     "data": {
      "text/html": [
       " View project at <a href='https://wandb.ai/ericat/huggingface' target=\"_blank\">https://wandb.ai/ericat/huggingface</a>"
      ],
      "text/plain": [
       "<IPython.core.display.HTML object>"
      ]
     },
     "metadata": {},
     "output_type": "display_data"
    },
    {
     "data": {
      "text/html": [
       " View run at <a href='https://wandb.ai/ericat/huggingface/runs/ety0al2a' target=\"_blank\">https://wandb.ai/ericat/huggingface/runs/ety0al2a</a>"
      ],
      "text/plain": [
       "<IPython.core.display.HTML object>"
      ]
     },
     "metadata": {},
     "output_type": "display_data"
    },
    {
     "data": {
      "text/html": [
       "\n",
       "    <div>\n",
       "      \n",
       "      <progress value='3028' max='3028' style='width:300px; height:20px; vertical-align: middle;'></progress>\n",
       "      [3028/3028 27:11, Epoch 4/4]\n",
       "    </div>\n",
       "    <table border=\"1\" class=\"dataframe\">\n",
       "  <thead>\n",
       " <tr style=\"text-align: left;\">\n",
       "      <th>Step</th>\n",
       "      <th>Training Loss</th>\n",
       "      <th>Validation Loss</th>\n",
       "      <th>Accuracy</th>\n",
       "      <th>F1</th>\n",
       "      <th>Precision</th>\n",
       "      <th>Recall</th>\n",
       "    </tr>\n",
       "  </thead>\n",
       "  <tbody>\n",
       "    <tr>\n",
       "      <td>100</td>\n",
       "      <td>0.987400</td>\n",
       "      <td>0.820582</td>\n",
       "      <td>0.645374</td>\n",
       "      <td>0.641424</td>\n",
       "      <td>0.661390</td>\n",
       "      <td>0.645124</td>\n",
       "    </tr>\n",
       "    <tr>\n",
       "      <td>200</td>\n",
       "      <td>0.748600</td>\n",
       "      <td>0.697304</td>\n",
       "      <td>0.692217</td>\n",
       "      <td>0.695354</td>\n",
       "      <td>0.692870</td>\n",
       "      <td>0.703994</td>\n",
       "    </tr>\n",
       "    <tr>\n",
       "      <td>300</td>\n",
       "      <td>0.680900</td>\n",
       "      <td>0.673890</td>\n",
       "      <td>0.716740</td>\n",
       "      <td>0.717368</td>\n",
       "      <td>0.742623</td>\n",
       "      <td>0.706864</td>\n",
       "    </tr>\n",
       "    <tr>\n",
       "      <td>400</td>\n",
       "      <td>0.640400</td>\n",
       "      <td>0.661814</td>\n",
       "      <td>0.725257</td>\n",
       "      <td>0.728998</td>\n",
       "      <td>0.732391</td>\n",
       "      <td>0.727408</td>\n",
       "    </tr>\n",
       "    <tr>\n",
       "      <td>500</td>\n",
       "      <td>0.627000</td>\n",
       "      <td>0.651848</td>\n",
       "      <td>0.722173</td>\n",
       "      <td>0.726350</td>\n",
       "      <td>0.727101</td>\n",
       "      <td>0.727913</td>\n",
       "    </tr>\n",
       "    <tr>\n",
       "      <td>600</td>\n",
       "      <td>0.643200</td>\n",
       "      <td>0.657148</td>\n",
       "      <td>0.734361</td>\n",
       "      <td>0.738239</td>\n",
       "      <td>0.752635</td>\n",
       "      <td>0.732696</td>\n",
       "    </tr>\n",
       "    <tr>\n",
       "      <td>700</td>\n",
       "      <td>0.643500</td>\n",
       "      <td>0.625224</td>\n",
       "      <td>0.744347</td>\n",
       "      <td>0.747498</td>\n",
       "      <td>0.753559</td>\n",
       "      <td>0.743211</td>\n",
       "    </tr>\n",
       "    <tr>\n",
       "      <td>800</td>\n",
       "      <td>0.554200</td>\n",
       "      <td>0.644172</td>\n",
       "      <td>0.740382</td>\n",
       "      <td>0.744314</td>\n",
       "      <td>0.750573</td>\n",
       "      <td>0.741968</td>\n",
       "    </tr>\n",
       "    <tr>\n",
       "      <td>900</td>\n",
       "      <td>0.509800</td>\n",
       "      <td>0.666398</td>\n",
       "      <td>0.738767</td>\n",
       "      <td>0.742721</td>\n",
       "      <td>0.746564</td>\n",
       "      <td>0.740567</td>\n",
       "    </tr>\n",
       "    <tr>\n",
       "      <td>1000</td>\n",
       "      <td>0.513500</td>\n",
       "      <td>0.622491</td>\n",
       "      <td>0.740529</td>\n",
       "      <td>0.743753</td>\n",
       "      <td>0.749162</td>\n",
       "      <td>0.740002</td>\n",
       "    </tr>\n",
       "    <tr>\n",
       "      <td>1100</td>\n",
       "      <td>0.509900</td>\n",
       "      <td>0.624911</td>\n",
       "      <td>0.740235</td>\n",
       "      <td>0.743873</td>\n",
       "      <td>0.743250</td>\n",
       "      <td>0.745049</td>\n",
       "    </tr>\n",
       "    <tr>\n",
       "      <td>1200</td>\n",
       "      <td>0.504100</td>\n",
       "      <td>0.632665</td>\n",
       "      <td>0.740675</td>\n",
       "      <td>0.744739</td>\n",
       "      <td>0.751159</td>\n",
       "      <td>0.742331</td>\n",
       "    </tr>\n",
       "    <tr>\n",
       "      <td>1300</td>\n",
       "      <td>0.504700</td>\n",
       "      <td>0.646237</td>\n",
       "      <td>0.737592</td>\n",
       "      <td>0.740927</td>\n",
       "      <td>0.750159</td>\n",
       "      <td>0.735099</td>\n",
       "    </tr>\n",
       "    <tr>\n",
       "      <td>1400</td>\n",
       "      <td>0.466000</td>\n",
       "      <td>0.631198</td>\n",
       "      <td>0.742584</td>\n",
       "      <td>0.746962</td>\n",
       "      <td>0.749546</td>\n",
       "      <td>0.748457</td>\n",
       "    </tr>\n",
       "    <tr>\n",
       "      <td>1500</td>\n",
       "      <td>0.487000</td>\n",
       "      <td>0.614773</td>\n",
       "      <td>0.745668</td>\n",
       "      <td>0.749515</td>\n",
       "      <td>0.754456</td>\n",
       "      <td>0.746534</td>\n",
       "    </tr>\n",
       "    <tr>\n",
       "      <td>1600</td>\n",
       "      <td>0.372700</td>\n",
       "      <td>0.694840</td>\n",
       "      <td>0.741116</td>\n",
       "      <td>0.744914</td>\n",
       "      <td>0.744128</td>\n",
       "      <td>0.745937</td>\n",
       "    </tr>\n",
       "    <tr>\n",
       "      <td>1700</td>\n",
       "      <td>0.337800</td>\n",
       "      <td>0.701822</td>\n",
       "      <td>0.737445</td>\n",
       "      <td>0.741213</td>\n",
       "      <td>0.742204</td>\n",
       "      <td>0.740294</td>\n",
       "    </tr>\n",
       "    <tr>\n",
       "      <td>1800</td>\n",
       "      <td>0.357100</td>\n",
       "      <td>0.717296</td>\n",
       "      <td>0.737004</td>\n",
       "      <td>0.741086</td>\n",
       "      <td>0.741492</td>\n",
       "      <td>0.743075</td>\n",
       "    </tr>\n",
       "    <tr>\n",
       "      <td>1900</td>\n",
       "      <td>0.356200</td>\n",
       "      <td>0.717353</td>\n",
       "      <td>0.739501</td>\n",
       "      <td>0.743096</td>\n",
       "      <td>0.742278</td>\n",
       "      <td>0.744013</td>\n",
       "    </tr>\n",
       "    <tr>\n",
       "      <td>2000</td>\n",
       "      <td>0.346900</td>\n",
       "      <td>0.734291</td>\n",
       "      <td>0.737885</td>\n",
       "      <td>0.742018</td>\n",
       "      <td>0.740969</td>\n",
       "      <td>0.744312</td>\n",
       "    </tr>\n",
       "    <tr>\n",
       "      <td>2100</td>\n",
       "      <td>0.356600</td>\n",
       "      <td>0.695848</td>\n",
       "      <td>0.740235</td>\n",
       "      <td>0.744316</td>\n",
       "      <td>0.743777</td>\n",
       "      <td>0.745461</td>\n",
       "    </tr>\n",
       "    <tr>\n",
       "      <td>2200</td>\n",
       "      <td>0.329600</td>\n",
       "      <td>0.713620</td>\n",
       "      <td>0.743025</td>\n",
       "      <td>0.746748</td>\n",
       "      <td>0.746656</td>\n",
       "      <td>0.746842</td>\n",
       "    </tr>\n",
       "    <tr>\n",
       "      <td>2300</td>\n",
       "      <td>0.326200</td>\n",
       "      <td>0.780701</td>\n",
       "      <td>0.747283</td>\n",
       "      <td>0.750910</td>\n",
       "      <td>0.751021</td>\n",
       "      <td>0.750896</td>\n",
       "    </tr>\n",
       "    <tr>\n",
       "      <td>2400</td>\n",
       "      <td>0.244300</td>\n",
       "      <td>0.807426</td>\n",
       "      <td>0.738620</td>\n",
       "      <td>0.742264</td>\n",
       "      <td>0.740141</td>\n",
       "      <td>0.744967</td>\n",
       "    </tr>\n",
       "    <tr>\n",
       "      <td>2500</td>\n",
       "      <td>0.231800</td>\n",
       "      <td>0.826071</td>\n",
       "      <td>0.739648</td>\n",
       "      <td>0.743540</td>\n",
       "      <td>0.744927</td>\n",
       "      <td>0.742314</td>\n",
       "    </tr>\n",
       "    <tr>\n",
       "      <td>2600</td>\n",
       "      <td>0.238600</td>\n",
       "      <td>0.814080</td>\n",
       "      <td>0.738767</td>\n",
       "      <td>0.742556</td>\n",
       "      <td>0.741442</td>\n",
       "      <td>0.744118</td>\n",
       "    </tr>\n",
       "    <tr>\n",
       "      <td>2700</td>\n",
       "      <td>0.251300</td>\n",
       "      <td>0.795455</td>\n",
       "      <td>0.740969</td>\n",
       "      <td>0.744758</td>\n",
       "      <td>0.744350</td>\n",
       "      <td>0.745556</td>\n",
       "    </tr>\n",
       "    <tr>\n",
       "      <td>2800</td>\n",
       "      <td>0.225500</td>\n",
       "      <td>0.831551</td>\n",
       "      <td>0.739648</td>\n",
       "      <td>0.743438</td>\n",
       "      <td>0.742762</td>\n",
       "      <td>0.744158</td>\n",
       "    </tr>\n",
       "    <tr>\n",
       "      <td>2900</td>\n",
       "      <td>0.239300</td>\n",
       "      <td>0.837728</td>\n",
       "      <td>0.740822</td>\n",
       "      <td>0.744512</td>\n",
       "      <td>0.746479</td>\n",
       "      <td>0.742805</td>\n",
       "    </tr>\n",
       "    <tr>\n",
       "      <td>3000</td>\n",
       "      <td>0.253000</td>\n",
       "      <td>0.824533</td>\n",
       "      <td>0.739354</td>\n",
       "      <td>0.743271</td>\n",
       "      <td>0.743218</td>\n",
       "      <td>0.743342</td>\n",
       "    </tr>\n",
       "  </tbody>\n",
       "</table><p>"
      ],
      "text/plain": [
       "<IPython.core.display.HTML object>"
      ]
     },
     "metadata": {},
     "output_type": "display_data"
    }
   ],
   "source": [
    "training_args = TrainingArguments(\n",
    "    output_dir='./sentimentbinaryresults',          # output directory\n",
    "    learning_rate=4.3662557007465145e-05,\n",
    "    num_train_epochs=4,              # total number of training epochs\n",
    "    per_device_train_batch_size=36,  # batch size per device during training\n",
    "    per_device_eval_batch_size=36,   # batch size for evaluation\n",
    "    logging_dir='./logs',            # directory for storing logs\n",
    "    logging_steps=100,\n",
    "    seed=42,\n",
    "    do_train=True,\n",
    "    do_eval=True,\n",
    "    no_cuda=False,\n",
    "    load_best_model_at_end=True,\n",
    "    eval_steps=100,\n",
    "    evaluation_strategy=\"steps\"\n",
    ")\n",
    "\n",
    "trainer = Trainer(\n",
    "    model=model,                         # the instantiated 🤗 Transformers model to be trained\n",
    "    args=training_args,                  # training arguments, defined above\n",
    "    train_dataset=train_dataset,         # training dataset\n",
    "    eval_dataset=validation_dataset,            # evaluation dataset\n",
    "    compute_metrics=compute_metrics\n",
    ")\n",
    "\n",
    "train_out = trainer.train()"
   ]
  },
  {
   "cell_type": "code",
   "execution_count": 37,
   "id": "4606352a",
   "metadata": {},
   "outputs": [
    {
     "data": {
      "text/plain": [
       "TrainOutput(global_step=3028, training_loss=0.4478029411094192, metrics={'train_runtime': 1671.4947, 'train_samples_per_second': 65.182, 'train_steps_per_second': 1.812, 'total_flos': 7216422701543424.0, 'train_loss': 0.4478029411094192, 'epoch': 4.0})"
      ]
     },
     "execution_count": 37,
     "metadata": {},
     "output_type": "execute_result"
    }
   ],
   "source": [
    "train_out"
   ]
  },
  {
   "cell_type": "markdown",
   "id": "50ea1fb2",
   "metadata": {},
   "source": [
    "# Confusion matrix"
   ]
  },
  {
   "cell_type": "code",
   "execution_count": 48,
   "id": "bca2b3b9",
   "metadata": {},
   "outputs": [],
   "source": [
    "def plot_confusion_matrix(y_preds, y_true, labels):\n",
    "#     cm = confusion_matrix(y_true, y_preds)\n",
    "    cm = confusion_matrix(y_true, y_preds, normalize=\"true\")\n",
    "    fig, ax = plt.subplots(figsize=(10, 10))\n",
    "    disp = ConfusionMatrixDisplay(confusion_matrix=cm, display_labels=labels)\n",
    "    disp.plot(cmap=\"Blues\", values_format=\".2f\", ax=ax, colorbar=False)\n",
    "    plt.title(\"confusion matrix\")\n",
    "    plt.show()"
   ]
  },
  {
   "cell_type": "code",
   "execution_count": 49,
   "id": "d36f434c",
   "metadata": {},
   "outputs": [
    {
     "data": {
      "text/html": [],
      "text/plain": [
       "<IPython.core.display.HTML object>"
      ]
     },
     "metadata": {},
     "output_type": "display_data"
    }
   ],
   "source": [
    "y_valid = np.array(test_dataset[\"labels\"])\n",
    "preds_output = trainer.predict(test_dataset)"
   ]
  },
  {
   "cell_type": "code",
   "execution_count": 50,
   "id": "f135f10a",
   "metadata": {},
   "outputs": [
    {
     "data": {
      "text/plain": [
       "{'test_loss': 0.9837720990180969,\n",
       " 'test_accuracy': 0.598,\n",
       " 'test_f1': 0.5961088420581758,\n",
       " 'test_precision': 0.6520178627512817,\n",
       " 'test_recall': 0.5980692685833039,\n",
       " 'test_runtime': 2.9425,\n",
       " 'test_samples_per_second': 339.845,\n",
       " 'test_steps_per_second': 9.516}"
      ]
     },
     "execution_count": 50,
     "metadata": {},
     "output_type": "execute_result"
    }
   ],
   "source": [
    "preds_output.metrics"
   ]
  },
  {
   "cell_type": "code",
   "execution_count": 51,
   "id": "49d15707",
   "metadata": {},
   "outputs": [],
   "source": [
    "y_preds = np.argmax(preds_output.predictions, axis=1)"
   ]
  },
  {
   "cell_type": "code",
   "execution_count": 52,
   "id": "610ce01e",
   "metadata": {},
   "outputs": [
    {
     "data": {
      "image/png": "[encoded data removed]",
      "text/plain": [
       "<Figure size 1000x1000 with 1 Axes>"
      ]
     },
     "metadata": {},
     "output_type": "display_data"
    }
   ],
   "source": [
    "labels = train_dataset.features[\"label\"].names\n",
    "plot_confusion_matrix(y_preds, y_valid, labels)"
   ]
  },
  {
   "cell_type": "markdown",
   "id": "d27656bd",
   "metadata": {},
   "source": [
    "## Validation"
   ]
  },
  {
   "cell_type": "code",
   "execution_count": 53,
   "id": "9300b10b",
   "metadata": {},
   "outputs": [
    {
     "data": {
      "text/html": [],
      "text/plain": [
       "<IPython.core.display.HTML object>"
      ]
     },
     "metadata": {},
     "output_type": "display_data"
    }
   ],
   "source": [
    "y_valid = np.array(validation_dataset[\"labels\"])\n",
    "preds_output = trainer.predict(validation_dataset)"
   ]
  },
  {
   "cell_type": "code",
   "execution_count": 54,
   "id": "bf03b0f2",
   "metadata": {},
   "outputs": [
    {
     "data": {
      "text/plain": [
       "{'test_loss': 0.614773154258728,\n",
       " 'test_accuracy': 0.7456681350954478,\n",
       " 'test_f1': 0.7495149461379175,\n",
       " 'test_precision': 0.7544564075470781,\n",
       " 'test_recall': 0.7465344984837542,\n",
       " 'test_runtime': 19.1268,\n",
       " 'test_samples_per_second': 356.045,\n",
       " 'test_steps_per_second': 9.934}"
      ]
     },
     "execution_count": 54,
     "metadata": {},
     "output_type": "execute_result"
    }
   ],
   "source": [
    "preds_output.metrics"
   ]
  },
  {
   "cell_type": "code",
   "execution_count": 55,
   "id": "e9f0694e",
   "metadata": {},
   "outputs": [],
   "source": [
    "y_preds = np.argmax(preds_output.predictions, axis=1)"
   ]
  },
  {
   "cell_type": "code",
   "execution_count": 56,
   "id": "403fd40e",
   "metadata": {},
   "outputs": [
    {
     "data": {
      "image/png": "[encoded data removed]",
      "text/plain": [
       "<Figure size 1000x1000 with 1 Axes>"
      ]
     },
     "metadata": {},
     "output_type": "display_data"
    }
   ],
   "source": [
    "labels = train_dataset.features[\"label\"].names\n",
    "plot_confusion_matrix(y_preds, y_valid, labels)"
   ]
  },
  {
   "cell_type": "code",
   "execution_count": null,
   "id": "3bb1f4f5",
   "metadata": {},
   "outputs": [],
   "source": []
  },
  {
   "cell_type": "code",
   "execution_count": 57,
   "id": "e0533362",
   "metadata": {},
   "outputs": [
    {
     "data": {
      "application/javascript": [
       "$(document).ready(\n",
       "    function() {\n",
       "        function appendUniqueDiv(){\n",
       "            // append a div with our uuid so we can check that it's already\n",
       "            // been sent and avoid duplicates on page reload\n",
       "            var notifiedDiv = document.createElement(\"div\")\n",
       "            notifiedDiv.id = \"607f2962-5e9b-4955-8842-272a727a8405\"\n",
       "            element.append(notifiedDiv)\n",
       "        }\n",
       "\n",
       "        // only send notifications if the pageload is complete; this will\n",
       "        // help stop extra notifications when a saved notebook is loaded,\n",
       "        // which during testing gives us state \"interactive\", not \"complete\"\n",
       "        if (document.readyState === 'complete') {\n",
       "            // check for the div that signifies that the notification\n",
       "            // was already sent\n",
       "            if (document.getElementById(\"607f2962-5e9b-4955-8842-272a727a8405\") === null) {\n",
       "                var notificationPayload = {\"requireInteraction\": false, \"icon\": \"/static/base/images/favicon.ico\", \"body\": \"Cell execution has finished!\"};\n",
       "                if (Notification.permission !== 'denied') {\n",
       "                    if (Notification.permission !== 'granted') { \n",
       "                        Notification.requestPermission(function (permission) {\n",
       "                            if(!('permission' in Notification)) {\n",
       "                                Notification.permission = permission\n",
       "                            }\n",
       "                        })\n",
       "                    }\n",
       "                    if (Notification.permission === 'granted') {\n",
       "                    var notification = new Notification(\"Jupyter Notebook\", notificationPayload)\n",
       "                    appendUniqueDiv()\n",
       "                    notification.onclick = function () {\n",
       "                        window.focus();\n",
       "                        this.close();\n",
       "                        };\n",
       "                    } \n",
       "                }     \n",
       "            }\n",
       "        }\n",
       "    }\n",
       ")\n"
      ],
      "text/plain": [
       "<IPython.core.display.Javascript object>"
      ]
     },
     "metadata": {},
     "output_type": "display_data"
    }
   ],
   "source": [
    "%%notify\n",
    "import time\n",
    "time.sleep(1)"
   ]
  },
  {
   "cell_type": "code",
   "execution_count": null,
   "id": "3d423a17",
   "metadata": {},
   "outputs": [],
   "source": []
  }
 ],
 "metadata": {
  "kernelspec": {
   "display_name": "Python 3 (ipykernel)",
   "language": "python",
   "name": "python3"
  },
  "language_info": {
   "codemirror_mode": {
    "name": "ipython",
    "version": 3
   },
   "file_extension": ".py",
   "mimetype": "text/x-python",
   "name": "python",
   "nbconvert_exporter": "python",
   "pygments_lexer": "ipython3",
   "version": "3.10.4"
  },
  "toc": {
   "base_numbering": 1,
   "nav_menu": {},
   "number_sections": true,
   "sideBar": true,
   "skip_h1_title": false,
   "title_cell": "Table of Contents",
   "title_sidebar": "Contents",
   "toc_cell": false,
   "toc_position": {
    "height": "calc(100% - 180px)",
    "left": "10px",
    "top": "150px",
    "width": "336.797px"
   },
   "toc_section_display": true,
   "toc_window_display": true
  }
 },
 "nbformat": 4,
 "nbformat_minor": 5
}

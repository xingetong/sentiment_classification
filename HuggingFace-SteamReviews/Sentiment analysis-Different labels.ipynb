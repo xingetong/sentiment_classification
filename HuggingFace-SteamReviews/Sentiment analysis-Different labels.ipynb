{
 "cells": [
  {
   "cell_type": "code",
   "execution_count": 1,
   "id": "5813cf5a",
   "metadata": {},
   "outputs": [],
   "source": [
    "import os\n",
    "# os.environ[\"CUDA_VISIBLE_DEVICES\"] = \"2\" \n",
    "import torch\n",
    "from transformers import AutoModelForSequenceClassification, AutoTokenizer\n",
    "from sklearn.metrics import accuracy_score, precision_recall_fscore_support\n",
    "from transformers import Trainer, TrainingArguments\n",
    "from transformers import pipeline\n",
    "from datasets import load_dataset\n",
    "from huggingface_hub import hf_hub_download\n",
    "import pandas as pd\n",
    "import matplotlib.pyplot as plt\n",
    "import numpy as np"
   ]
  },
  {
   "cell_type": "code",
   "execution_count": 2,
   "id": "752b6038",
   "metadata": {},
   "outputs": [
    {
     "name": "stdout",
     "output_type": "stream",
     "text": [
      "Login successful\n",
      "Your token has been saved to C:\\Users\\researcher\\.huggingface\\token\n",
      "\u001b[1m\u001b[31mAuthenticated through git-credential store but this isn't the helper defined on your machine.\n",
      "You might have to re-authenticate when pushing to the Hugging Face Hub. Run the following command in your terminal in case you want to set this credential helper as the default\n",
      "\n",
      "git config --global credential.helper store\u001b[0m\n"
     ]
    }
   ],
   "source": [
    "from huggingface_hub import notebook_login\n",
    "\n",
    "notebook_login()"
   ]
  },
  {
   "cell_type": "code",
   "execution_count": 3,
   "id": "8732482e",
   "metadata": {},
   "outputs": [],
   "source": [
    "# wandb login --relogin"
   ]
  },
  {
   "cell_type": "markdown",
   "id": "e5daa64e",
   "metadata": {},
   "source": [
    "# Load Datasets"
   ]
  },
  {
   "cell_type": "code",
   "execution_count": 4,
   "id": "a00d2cd5",
   "metadata": {},
   "outputs": [
    {
     "name": "stderr",
     "output_type": "stream",
     "text": [
      "Using custom data configuration HFFErica--labelled-5d4dba2d06e4f6ce\n"
     ]
    },
    {
     "name": "stdout",
     "output_type": "stream",
     "text": [
      "Downloading and preparing dataset csv/HFFErica--labelled to C:/Users/researcher/.cache/huggingface/datasets/HFFErica___csv/HFFErica--labelled-5d4dba2d06e4f6ce/0.0.0/652c3096f041ee27b04d2232d41f10547a8fecda3e284a79a0ec4053c916ef7a...\n"
     ]
    },
    {
     "data": {
      "application/vnd.jupyter.widget-view+json": {
       "model_id": "7c5d541ac9be4b9aa02187d8cf4093f0",
       "version_major": 2,
       "version_minor": 0
      },
      "text/plain": [
       "Downloading data files:   0%|          | 0/1 [00:00<?, ?it/s]"
      ]
     },
     "metadata": {},
     "output_type": "display_data"
    },
    {
     "data": {
      "application/vnd.jupyter.widget-view+json": {
       "model_id": "10ce5946460441e8a61f16e9197a0474",
       "version_major": 2,
       "version_minor": 0
      },
      "text/plain": [
       "Extracting data files:   0%|          | 0/1 [00:00<?, ?it/s]"
      ]
     },
     "metadata": {},
     "output_type": "display_data"
    },
    {
     "data": {
      "application/vnd.jupyter.widget-view+json": {
       "model_id": "",
       "version_major": 2,
       "version_minor": 0
      },
      "text/plain": [
       "0 tables [00:00, ? tables/s]"
      ]
     },
     "metadata": {},
     "output_type": "display_data"
    },
    {
     "name": "stderr",
     "output_type": "stream",
     "text": [
      "D:\\Software\\Anaconda3\\envs\\pytorch\\lib\\site-packages\\datasets\\download\\streaming_download_manager.py:697: FutureWarning: the 'mangle_dupe_cols' keyword is deprecated and will be removed in a future version. Please take steps to stop the use of 'mangle_dupe_cols'\n",
      "  return pd.read_csv(xopen(filepath_or_buffer, \"rb\", use_auth_token=use_auth_token), **kwargs)\n"
     ]
    },
    {
     "name": "stdout",
     "output_type": "stream",
     "text": [
      "Dataset csv downloaded and prepared to C:/Users/researcher/.cache/huggingface/datasets/HFFErica___csv/HFFErica--labelled-5d4dba2d06e4f6ce/0.0.0/652c3096f041ee27b04d2232d41f10547a8fecda3e284a79a0ec4053c916ef7a. Subsequent calls will reuse this data.\n"
     ]
    },
    {
     "name": "stderr",
     "output_type": "stream",
     "text": [
      "Using custom data configuration HFFErica--labelled-5d4dba2d06e4f6ce\n",
      "Found cached dataset csv (C:/Users/researcher/.cache/huggingface/datasets/HFFErica___csv/HFFErica--labelled-5d4dba2d06e4f6ce/0.0.0/652c3096f041ee27b04d2232d41f10547a8fecda3e284a79a0ec4053c916ef7a)\n"
     ]
    },
    {
     "name": "stdout",
     "output_type": "stream",
     "text": [
      "Dataset({\n",
      "    features: ['game_id', 'content', 'label_1', 'label_2', 'preprocessed', 'Column1'],\n",
      "    num_rows: 240000\n",
      "})\n",
      "Dataset({\n",
      "    features: ['game_id', 'content', 'label_1', 'label_2', 'preprocessed', 'Column1'],\n",
      "    num_rows: 60000\n",
      "})\n"
     ]
    }
   ],
   "source": [
    "data_files = {\"steamclean_processed_300t.csv\"}\n",
    "training_dataset=load_dataset(\"HFFErica/labelled\", data_files=data_files, split=\"train[:240000]\")\n",
    "validation_dataset=load_dataset(\"HFFErica/labelled\", data_files=data_files, split=\"train[240000:300000]\")\n",
    "\n",
    "print (training_dataset)\n",
    "print(validation_dataset)"
   ]
  },
  {
   "cell_type": "code",
   "execution_count": 5,
   "id": "c750c58f",
   "metadata": {},
   "outputs": [
    {
     "name": "stderr",
     "output_type": "stream",
     "text": [
      "Using custom data configuration HFFErica--labelled-72b0efcff31242ba\n"
     ]
    },
    {
     "name": "stdout",
     "output_type": "stream",
     "text": [
      "Downloading and preparing dataset csv/HFFErica--labelled to C:/Users/researcher/.cache/huggingface/datasets/HFFErica___csv/HFFErica--labelled-72b0efcff31242ba/0.0.0/652c3096f041ee27b04d2232d41f10547a8fecda3e284a79a0ec4053c916ef7a...\n"
     ]
    },
    {
     "data": {
      "application/vnd.jupyter.widget-view+json": {
       "model_id": "de62612262d948e6bad8f4b1c027e066",
       "version_major": 2,
       "version_minor": 0
      },
      "text/plain": [
       "Downloading data files:   0%|          | 0/1 [00:00<?, ?it/s]"
      ]
     },
     "metadata": {},
     "output_type": "display_data"
    },
    {
     "data": {
      "application/vnd.jupyter.widget-view+json": {
       "model_id": "9e6030b1fdf24f528d4396319aad89c1",
       "version_major": 2,
       "version_minor": 0
      },
      "text/plain": [
       "Extracting data files:   0%|          | 0/1 [00:00<?, ?it/s]"
      ]
     },
     "metadata": {},
     "output_type": "display_data"
    },
    {
     "data": {
      "application/vnd.jupyter.widget-view+json": {
       "model_id": "",
       "version_major": 2,
       "version_minor": 0
      },
      "text/plain": [
       "0 tables [00:00, ? tables/s]"
      ]
     },
     "metadata": {},
     "output_type": "display_data"
    },
    {
     "name": "stderr",
     "output_type": "stream",
     "text": [
      "D:\\Software\\Anaconda3\\envs\\pytorch\\lib\\site-packages\\datasets\\download\\streaming_download_manager.py:697: FutureWarning: the 'mangle_dupe_cols' keyword is deprecated and will be removed in a future version. Please take steps to stop the use of 'mangle_dupe_cols'\n",
      "  return pd.read_csv(xopen(filepath_or_buffer, \"rb\", use_auth_token=use_auth_token), **kwargs)\n"
     ]
    },
    {
     "name": "stdout",
     "output_type": "stream",
     "text": [
      "Dataset csv downloaded and prepared to C:/Users/researcher/.cache/huggingface/datasets/HFFErica___csv/HFFErica--labelled-72b0efcff31242ba/0.0.0/652c3096f041ee27b04d2232d41f10547a8fecda3e284a79a0ec4053c916ef7a. Subsequent calls will reuse this data.\n"
     ]
    },
    {
     "name": "stderr",
     "output_type": "stream",
     "text": [
      "Using custom data configuration HFFErica--labelled-72b0efcff31242ba\n",
      "Found cached dataset csv (C:/Users/researcher/.cache/huggingface/datasets/HFFErica___csv/HFFErica--labelled-72b0efcff31242ba/0.0.0/652c3096f041ee27b04d2232d41f10547a8fecda3e284a79a0ec4053c916ef7a)\n",
      "Using custom data configuration HFFErica--labelled-72b0efcff31242ba\n",
      "Found cached dataset csv (C:/Users/researcher/.cache/huggingface/datasets/HFFErica___csv/HFFErica--labelled-72b0efcff31242ba/0.0.0/652c3096f041ee27b04d2232d41f10547a8fecda3e284a79a0ec4053c916ef7a)\n",
      "Using custom data configuration HFFErica--labelled-72b0efcff31242ba\n",
      "Found cached dataset csv (C:/Users/researcher/.cache/huggingface/datasets/HFFErica___csv/HFFErica--labelled-72b0efcff31242ba/0.0.0/652c3096f041ee27b04d2232d41f10547a8fecda3e284a79a0ec4053c916ef7a)\n",
      "Using custom data configuration HFFErica--labelled-72b0efcff31242ba\n",
      "Found cached dataset csv (C:/Users/researcher/.cache/huggingface/datasets/HFFErica___csv/HFFErica--labelled-72b0efcff31242ba/0.0.0/652c3096f041ee27b04d2232d41f10547a8fecda3e284a79a0ec4053c916ef7a)\n"
     ]
    },
    {
     "name": "stdout",
     "output_type": "stream",
     "text": [
      "Dataset({\n",
      "    features: ['_id', 'item_count', 'recommend', 'found_helpful', 'found_funny', 'time', 'reply_count', 'content', 'hrs_on_second', 'hrs_at_reviwer_time', 'reviwer_num', 'recommend_labels', 'replace_name', 'review_length', 'Column1', 'binarylabel_RoBERTa-large', 'binarylabel_RoBERTa-large.1', 'DistilBERT-base-uncased', 'DistilBERT-base-uncased.1', 'Column2'],\n",
      "    num_rows: 1000\n",
      "})\n",
      "Dataset({\n",
      "    features: ['_id', 'item_count', 'recommend', 'found_helpful', 'found_funny', 'time', 'reply_count', 'content', 'hrs_on_second', 'hrs_at_reviwer_time', 'reviwer_num', 'recommend_labels', 'replace_name', 'review_length', 'Column1', 'binarylabel_RoBERTa-large', 'binarylabel_RoBERTa-large.1', 'DistilBERT-base-uncased', 'DistilBERT-base-uncased.1', 'Column2'],\n",
      "    num_rows: 1000\n",
      "})\n",
      "Dataset({\n",
      "    features: ['_id', 'item_count', 'recommend', 'found_helpful', 'found_funny', 'time', 'reply_count', 'content', 'hrs_on_second', 'hrs_at_reviwer_time', 'reviwer_num', 'recommend_labels', 'replace_name', 'review_length', 'Column1', 'binarylabel_RoBERTa-large', 'binarylabel_RoBERTa-large.1', 'DistilBERT-base-uncased', 'DistilBERT-base-uncased.1', 'Column2'],\n",
      "    num_rows: 1000\n",
      "})\n",
      "Dataset({\n",
      "    features: ['_id', 'item_count', 'recommend', 'found_helpful', 'found_funny', 'time', 'reply_count', 'content', 'hrs_on_second', 'hrs_at_reviwer_time', 'reviwer_num', 'recommend_labels', 'replace_name', 'review_length', 'Column1', 'binarylabel_RoBERTa-large', 'binarylabel_RoBERTa-large.1', 'DistilBERT-base-uncased', 'DistilBERT-base-uncased.1', 'Column2'],\n",
      "    num_rows: 1000\n",
      "})\n",
      "Dataset({\n",
      "    features: ['_id', 'item_count', 'recommend', 'found_helpful', 'found_funny', 'time', 'reply_count', 'content', 'hrs_on_second', 'hrs_at_reviwer_time', 'reviwer_num', 'recommend_labels', 'replace_name', 'review_length', 'Column1', 'binarylabel_RoBERTa-large', 'binarylabel_RoBERTa-large.1', 'DistilBERT-base-uncased', 'DistilBERT-base-uncased.1', 'Column2'],\n",
      "    num_rows: 1000\n",
      "})\n"
     ]
    }
   ],
   "source": [
    "data_files_test = {'test':\"testdataset_binarylabel_results2_5000.csv\"}\n",
    "test_dataset_one=load_dataset(\"HFFErica/labelled\", data_files=data_files_test, split=\"test[:1000]\")\n",
    "test_dataset_two=load_dataset(\"HFFErica/labelled\", data_files=data_files_test, split=\"test[1000:2000]\")\n",
    "test_dataset_three=load_dataset(\"HFFErica/labelled\", data_files=data_files_test, split=\"test[2000:3000]\")\n",
    "test_dataset_four=load_dataset(\"HFFErica/labelled\", data_files=data_files_test, split=\"test[3000:4000]\")\n",
    "test_dataset_five=load_dataset(\"HFFErica/labelled\", data_files=data_files_test, split=\"test[4000:5000]\")\n",
    "\n",
    "\n",
    "print(test_dataset_one)\n",
    "print(test_dataset_two)\n",
    "print(test_dataset_three)\n",
    "print(test_dataset_four)\n",
    "print(test_dataset_five)"
   ]
  },
  {
   "cell_type": "markdown",
   "id": "a6d33f16",
   "metadata": {},
   "source": [
    "# Change data features"
   ]
  },
  {
   "cell_type": "code",
   "execution_count": 6,
   "id": "d5d40511",
   "metadata": {},
   "outputs": [
    {
     "data": {
      "text/plain": [
       "{'game_id': Value(dtype='int64', id=None),\n",
       " 'content': Value(dtype='string', id=None),\n",
       " 'label_1': Value(dtype='int64', id=None),\n",
       " 'label_2': Value(dtype='int64', id=None),\n",
       " 'preprocessed': Value(dtype='string', id=None),\n",
       " 'Column1': Value(dtype='float64', id=None)}"
      ]
     },
     "execution_count": 6,
     "metadata": {},
     "output_type": "execute_result"
    }
   ],
   "source": [
    "training_dataset.features"
   ]
  },
  {
   "cell_type": "code",
   "execution_count": 7,
   "id": "e1d8b0f7",
   "metadata": {},
   "outputs": [
    {
     "data": {
      "application/vnd.jupyter.widget-view+json": {
       "model_id": "d189c9ba2d71454b9d4dae033a235e23",
       "version_major": 2,
       "version_minor": 0
      },
      "text/plain": [
       "  0%|          | 0/240 [00:00<?, ?ba/s]"
      ]
     },
     "metadata": {},
     "output_type": "display_data"
    }
   ],
   "source": [
    "from datasets import Dataset, Value, ClassLabel, Features\n",
    "\n",
    "features = training_dataset.features.copy()\n",
    "features[\"label_1\"] = ClassLabel(names=[\"negative\", \"positive\"])\n",
    "\n",
    "def adjust_labels(batch):\n",
    "    batch[\"label_1\"] = [sentiment for sentiment in batch[\"label_1\"]]\n",
    "    return batch\n",
    "training_dataset = training_dataset.map(adjust_labels, batched=True, features=features)"
   ]
  },
  {
   "cell_type": "code",
   "execution_count": 8,
   "id": "8fda0b1e",
   "metadata": {},
   "outputs": [
    {
     "data": {
      "text/plain": [
       "{'game_id': Value(dtype='int64', id=None),\n",
       " 'content': Value(dtype='string', id=None),\n",
       " 'label_1': ClassLabel(num_classes=2, names=['negative', 'positive'], id=None),\n",
       " 'label_2': Value(dtype='int64', id=None),\n",
       " 'preprocessed': Value(dtype='string', id=None),\n",
       " 'Column1': Value(dtype='float64', id=None)}"
      ]
     },
     "execution_count": 8,
     "metadata": {},
     "output_type": "execute_result"
    }
   ],
   "source": [
    "training_dataset.features"
   ]
  },
  {
   "cell_type": "code",
   "execution_count": 9,
   "id": "2479397a",
   "metadata": {},
   "outputs": [
    {
     "data": {
      "text/plain": [
       "{'game_id': Value(dtype='int64', id=None),\n",
       " 'content': Value(dtype='string', id=None),\n",
       " 'label_1': Value(dtype='int64', id=None),\n",
       " 'label_2': Value(dtype='int64', id=None),\n",
       " 'preprocessed': Value(dtype='string', id=None),\n",
       " 'Column1': Value(dtype='float64', id=None)}"
      ]
     },
     "execution_count": 9,
     "metadata": {},
     "output_type": "execute_result"
    }
   ],
   "source": [
    "validation_dataset.features"
   ]
  },
  {
   "cell_type": "code",
   "execution_count": 10,
   "id": "58456206",
   "metadata": {},
   "outputs": [
    {
     "data": {
      "application/vnd.jupyter.widget-view+json": {
       "model_id": "7ff93af1e5eb45f4b7296181658550ca",
       "version_major": 2,
       "version_minor": 0
      },
      "text/plain": [
       "  0%|          | 0/60 [00:00<?, ?ba/s]"
      ]
     },
     "metadata": {},
     "output_type": "display_data"
    }
   ],
   "source": [
    "from datasets import Dataset, Value, ClassLabel, Features\n",
    "\n",
    "features = validation_dataset.features.copy()\n",
    "features[\"label_1\"] = ClassLabel(names=[\"negative\", \"positive\"])\n",
    "\n",
    "def adjust_labels(batch):\n",
    "    batch[\"label_1\"] = [sentiment for sentiment in batch[\"label_1\"]]\n",
    "    return batch\n",
    "validation_dataset = validation_dataset.map(adjust_labels, batched=True, features=features)"
   ]
  },
  {
   "cell_type": "code",
   "execution_count": 11,
   "id": "9c84b16a",
   "metadata": {},
   "outputs": [
    {
     "data": {
      "text/plain": [
       "{'game_id': Value(dtype='int64', id=None),\n",
       " 'content': Value(dtype='string', id=None),\n",
       " 'label_1': ClassLabel(num_classes=2, names=['negative', 'positive'], id=None),\n",
       " 'label_2': Value(dtype='int64', id=None),\n",
       " 'preprocessed': Value(dtype='string', id=None),\n",
       " 'Column1': Value(dtype='float64', id=None)}"
      ]
     },
     "execution_count": 11,
     "metadata": {},
     "output_type": "execute_result"
    }
   ],
   "source": [
    "validation_dataset.features"
   ]
  },
  {
   "cell_type": "code",
   "execution_count": 12,
   "id": "86e74204",
   "metadata": {},
   "outputs": [
    {
     "data": {
      "text/plain": [
       "{'_id': Value(dtype='string', id=None),\n",
       " 'item_count': Value(dtype='int64', id=None),\n",
       " 'recommend': Value(dtype='bool', id=None),\n",
       " 'found_helpful': Value(dtype='int64', id=None),\n",
       " 'found_funny': Value(dtype='int64', id=None),\n",
       " 'time': Value(dtype='string', id=None),\n",
       " 'reply_count': Value(dtype='float64', id=None),\n",
       " 'content': Value(dtype='string', id=None),\n",
       " 'hrs_on_second': Value(dtype='float64', id=None),\n",
       " 'hrs_at_reviwer_time': Value(dtype='float64', id=None),\n",
       " 'reviwer_num': Value(dtype='int64', id=None),\n",
       " 'recommend_labels': Value(dtype='int64', id=None),\n",
       " 'replace_name': Value(dtype='string', id=None),\n",
       " 'review_length': Value(dtype='int64', id=None),\n",
       " 'Column1': Value(dtype='int64', id=None),\n",
       " 'binarylabel_RoBERTa-large': Value(dtype='string', id=None),\n",
       " 'binarylabel_RoBERTa-large.1': Value(dtype='int64', id=None),\n",
       " 'DistilBERT-base-uncased': Value(dtype='string', id=None),\n",
       " 'DistilBERT-base-uncased.1': Value(dtype='int64', id=None),\n",
       " 'Column2': Value(dtype='bool', id=None)}"
      ]
     },
     "execution_count": 12,
     "metadata": {},
     "output_type": "execute_result"
    }
   ],
   "source": [
    "test_dataset_one.features"
   ]
  },
  {
   "cell_type": "code",
   "execution_count": 13,
   "id": "4a9854bd",
   "metadata": {},
   "outputs": [
    {
     "data": {
      "application/vnd.jupyter.widget-view+json": {
       "model_id": "c599592e0f934cc9b1adc69a0c0aa009",
       "version_major": 2,
       "version_minor": 0
      },
      "text/plain": [
       "  0%|          | 0/1 [00:00<?, ?ba/s]"
      ]
     },
     "metadata": {},
     "output_type": "display_data"
    }
   ],
   "source": [
    "from datasets import Dataset, Value, ClassLabel, Features\n",
    "\n",
    "features = test_dataset_one.features.copy()\n",
    "features[\"binarylabel_RoBERTa-large.1\"] = ClassLabel(names=[\"negative\", \"positive\"])\n",
    "features[\"DistilBERT-base-uncased.1\"] = ClassLabel(names=[\"negative\", \"positive\"])\n",
    "features[\"recommend_labels\"] = ClassLabel(names=[\"notrecommend\", \"recommend\"])\n",
    "\n",
    "\n",
    "def adjust_labels(batch):\n",
    "    batch[\"binarylabel_RoBERTa-large.1\"] = [sentiment for sentiment in batch[\"binarylabel_RoBERTa-large.1\"]]\n",
    "    batch[\"DistilBERT-base-uncased.1\"] = [sentiment for sentiment in batch[\"DistilBERT-base-uncased.1\"]]\n",
    "    batch[\"recommend_labels\"] = [sentiment for sentiment in batch[\"recommend_labels\"]]\n",
    "\n",
    "    return batch\n",
    "test_dataset_one = test_dataset_one.map(adjust_labels, batched=True, features=features)"
   ]
  },
  {
   "cell_type": "code",
   "execution_count": 14,
   "id": "fdfdd995",
   "metadata": {},
   "outputs": [
    {
     "data": {
      "text/plain": [
       "{'_id': Value(dtype='string', id=None),\n",
       " 'item_count': Value(dtype='int64', id=None),\n",
       " 'recommend': Value(dtype='bool', id=None),\n",
       " 'found_helpful': Value(dtype='int64', id=None),\n",
       " 'found_funny': Value(dtype='int64', id=None),\n",
       " 'time': Value(dtype='string', id=None),\n",
       " 'reply_count': Value(dtype='float64', id=None),\n",
       " 'content': Value(dtype='string', id=None),\n",
       " 'hrs_on_second': Value(dtype='float64', id=None),\n",
       " 'hrs_at_reviwer_time': Value(dtype='float64', id=None),\n",
       " 'reviwer_num': Value(dtype='int64', id=None),\n",
       " 'recommend_labels': ClassLabel(num_classes=2, names=['notrecommend', 'recommend'], id=None),\n",
       " 'replace_name': Value(dtype='string', id=None),\n",
       " 'review_length': Value(dtype='int64', id=None),\n",
       " 'Column1': Value(dtype='int64', id=None),\n",
       " 'binarylabel_RoBERTa-large': Value(dtype='string', id=None),\n",
       " 'binarylabel_RoBERTa-large.1': ClassLabel(num_classes=2, names=['negative', 'positive'], id=None),\n",
       " 'DistilBERT-base-uncased': Value(dtype='string', id=None),\n",
       " 'DistilBERT-base-uncased.1': ClassLabel(num_classes=2, names=['negative', 'positive'], id=None),\n",
       " 'Column2': Value(dtype='bool', id=None)}"
      ]
     },
     "execution_count": 14,
     "metadata": {},
     "output_type": "execute_result"
    }
   ],
   "source": [
    "test_dataset_one.features"
   ]
  },
  {
   "cell_type": "code",
   "execution_count": 15,
   "id": "f8eefe34",
   "metadata": {},
   "outputs": [
    {
     "data": {
      "application/vnd.jupyter.widget-view+json": {
       "model_id": "b9f943ab53084eb1a63c0319994c948e",
       "version_major": 2,
       "version_minor": 0
      },
      "text/plain": [
       "  0%|          | 0/1 [00:00<?, ?ba/s]"
      ]
     },
     "metadata": {},
     "output_type": "display_data"
    }
   ],
   "source": [
    "features = test_dataset_two.features.copy()\n",
    "features[\"binarylabel_RoBERTa-large.1\"] = ClassLabel(names=[\"negative\", \"positive\"])\n",
    "features[\"DistilBERT-base-uncased.1\"] = ClassLabel(names=[\"negative\", \"positive\"])\n",
    "features[\"recommend_labels\"] = ClassLabel(names=[\"notrecommend\", \"recommend\"])\n",
    "\n",
    "\n",
    "def adjust_labels(batch):\n",
    "    batch[\"binarylabel_RoBERTa-large.1\"] = [sentiment for sentiment in batch[\"binarylabel_RoBERTa-large.1\"]]\n",
    "    batch[\"DistilBERT-base-uncased.1\"] = [sentiment for sentiment in batch[\"DistilBERT-base-uncased.1\"]]\n",
    "    batch[\"recommend_labels\"] = [sentiment for sentiment in batch[\"recommend_labels\"]]\n",
    "\n",
    "    return batch\n",
    "test_dataset_two = test_dataset_two.map(adjust_labels, batched=True, features=features)"
   ]
  },
  {
   "cell_type": "code",
   "execution_count": 16,
   "id": "8e34b03d",
   "metadata": {},
   "outputs": [
    {
     "data": {
      "application/vnd.jupyter.widget-view+json": {
       "model_id": "79b404738c6a4b31a91cf7e93d2d792c",
       "version_major": 2,
       "version_minor": 0
      },
      "text/plain": [
       "  0%|          | 0/1 [00:00<?, ?ba/s]"
      ]
     },
     "metadata": {},
     "output_type": "display_data"
    }
   ],
   "source": [
    "features = test_dataset_three.features.copy()\n",
    "features[\"binarylabel_RoBERTa-large.1\"] = ClassLabel(names=[\"negative\", \"positive\"])\n",
    "features[\"DistilBERT-base-uncased.1\"] = ClassLabel(names=[\"negative\", \"positive\"])\n",
    "features[\"recommend_labels\"] = ClassLabel(names=[\"notrecommend\", \"recommend\"])\n",
    "\n",
    "\n",
    "def adjust_labels(batch):\n",
    "    batch[\"binarylabel_RoBERTa-large.1\"] = [sentiment for sentiment in batch[\"binarylabel_RoBERTa-large.1\"]]\n",
    "    batch[\"DistilBERT-base-uncased.1\"] = [sentiment for sentiment in batch[\"DistilBERT-base-uncased.1\"]]\n",
    "    batch[\"recommend_labels\"] = [sentiment for sentiment in batch[\"recommend_labels\"]]\n",
    "\n",
    "    return batch\n",
    "test_dataset_three = test_dataset_three.map(adjust_labels, batched=True, features=features)"
   ]
  },
  {
   "cell_type": "code",
   "execution_count": 17,
   "id": "07346d49",
   "metadata": {},
   "outputs": [
    {
     "data": {
      "application/vnd.jupyter.widget-view+json": {
       "model_id": "74c16d4a17df47959c52ced88ab9d089",
       "version_major": 2,
       "version_minor": 0
      },
      "text/plain": [
       "  0%|          | 0/1 [00:00<?, ?ba/s]"
      ]
     },
     "metadata": {},
     "output_type": "display_data"
    }
   ],
   "source": [
    "features = test_dataset_four.features.copy()\n",
    "features[\"binarylabel_RoBERTa-large.1\"] = ClassLabel(names=[\"negative\", \"positive\"])\n",
    "features[\"DistilBERT-base-uncased.1\"] = ClassLabel(names=[\"negative\", \"positive\"])\n",
    "features[\"recommend_labels\"] = ClassLabel(names=[\"notrecommend\", \"recommend\"])\n",
    "\n",
    "\n",
    "def adjust_labels(batch):\n",
    "    batch[\"binarylabel_RoBERTa-large.1\"] = [sentiment for sentiment in batch[\"binarylabel_RoBERTa-large.1\"]]\n",
    "    batch[\"DistilBERT-base-uncased.1\"] = [sentiment for sentiment in batch[\"DistilBERT-base-uncased.1\"]]\n",
    "    batch[\"recommend_labels\"] = [sentiment for sentiment in batch[\"recommend_labels\"]]\n",
    "    return batch\n",
    "test_dataset_four = test_dataset_four.map(adjust_labels, batched=True, features=features)"
   ]
  },
  {
   "cell_type": "code",
   "execution_count": 18,
   "id": "83be726f",
   "metadata": {},
   "outputs": [
    {
     "data": {
      "application/vnd.jupyter.widget-view+json": {
       "model_id": "6b0bf2fbf06f4bd69e4360387357c8d2",
       "version_major": 2,
       "version_minor": 0
      },
      "text/plain": [
       "  0%|          | 0/1 [00:00<?, ?ba/s]"
      ]
     },
     "metadata": {},
     "output_type": "display_data"
    }
   ],
   "source": [
    "features = test_dataset_five.features.copy()\n",
    "features[\"binarylabel_RoBERTa-large.1\"] = ClassLabel(names=[\"negative\", \"positive\"])\n",
    "features[\"DistilBERT-base-uncased.1\"] = ClassLabel(names=[\"negative\", \"positive\"])\n",
    "features[\"recommend_labels\"] = ClassLabel(names=[\"notrecommend\", \"recommend\"])\n",
    "\n",
    "\n",
    "def adjust_labels(batch):\n",
    "    batch[\"binarylabel_RoBERTa-large.1\"] = [sentiment for sentiment in batch[\"binarylabel_RoBERTa-large.1\"]]\n",
    "    batch[\"DistilBERT-base-uncased.1\"] = [sentiment for sentiment in batch[\"DistilBERT-base-uncased.1\"]]\n",
    "    batch[\"recommend_labels\"] = [sentiment for sentiment in batch[\"recommend_labels\"]]\n",
    "    return batch\n",
    "test_dataset_five = test_dataset_five.map(adjust_labels, batched=True, features=features)"
   ]
  },
  {
   "cell_type": "code",
   "execution_count": 19,
   "id": "6cda782f",
   "metadata": {},
   "outputs": [
    {
     "data": {
      "text/plain": [
       "{'_id': Value(dtype='string', id=None),\n",
       " 'item_count': Value(dtype='int64', id=None),\n",
       " 'recommend': Value(dtype='bool', id=None),\n",
       " 'found_helpful': Value(dtype='int64', id=None),\n",
       " 'found_funny': Value(dtype='int64', id=None),\n",
       " 'time': Value(dtype='string', id=None),\n",
       " 'reply_count': Value(dtype='float64', id=None),\n",
       " 'content': Value(dtype='string', id=None),\n",
       " 'hrs_on_second': Value(dtype='float64', id=None),\n",
       " 'hrs_at_reviwer_time': Value(dtype='float64', id=None),\n",
       " 'reviwer_num': Value(dtype='int64', id=None),\n",
       " 'recommend_labels': ClassLabel(num_classes=2, names=['notrecommend', 'recommend'], id=None),\n",
       " 'replace_name': Value(dtype='string', id=None),\n",
       " 'review_length': Value(dtype='int64', id=None),\n",
       " 'Column1': Value(dtype='int64', id=None),\n",
       " 'binarylabel_RoBERTa-large': Value(dtype='string', id=None),\n",
       " 'binarylabel_RoBERTa-large.1': ClassLabel(num_classes=2, names=['negative', 'positive'], id=None),\n",
       " 'DistilBERT-base-uncased': Value(dtype='string', id=None),\n",
       " 'DistilBERT-base-uncased.1': ClassLabel(num_classes=2, names=['negative', 'positive'], id=None),\n",
       " 'Column2': Value(dtype='bool', id=None)}"
      ]
     },
     "execution_count": 19,
     "metadata": {},
     "output_type": "execute_result"
    }
   ],
   "source": [
    "test_dataset_two.features"
   ]
  },
  {
   "cell_type": "code",
   "execution_count": 20,
   "id": "0859f7bf",
   "metadata": {},
   "outputs": [
    {
     "data": {
      "text/plain": [
       "{'_id': Value(dtype='string', id=None),\n",
       " 'item_count': Value(dtype='int64', id=None),\n",
       " 'recommend': Value(dtype='bool', id=None),\n",
       " 'found_helpful': Value(dtype='int64', id=None),\n",
       " 'found_funny': Value(dtype='int64', id=None),\n",
       " 'time': Value(dtype='string', id=None),\n",
       " 'reply_count': Value(dtype='float64', id=None),\n",
       " 'content': Value(dtype='string', id=None),\n",
       " 'hrs_on_second': Value(dtype='float64', id=None),\n",
       " 'hrs_at_reviwer_time': Value(dtype='float64', id=None),\n",
       " 'reviwer_num': Value(dtype='int64', id=None),\n",
       " 'recommend_labels': ClassLabel(num_classes=2, names=['notrecommend', 'recommend'], id=None),\n",
       " 'replace_name': Value(dtype='string', id=None),\n",
       " 'review_length': Value(dtype='int64', id=None),\n",
       " 'Column1': Value(dtype='int64', id=None),\n",
       " 'binarylabel_RoBERTa-large': Value(dtype='string', id=None),\n",
       " 'binarylabel_RoBERTa-large.1': ClassLabel(num_classes=2, names=['negative', 'positive'], id=None),\n",
       " 'DistilBERT-base-uncased': Value(dtype='string', id=None),\n",
       " 'DistilBERT-base-uncased.1': ClassLabel(num_classes=2, names=['negative', 'positive'], id=None),\n",
       " 'Column2': Value(dtype='bool', id=None)}"
      ]
     },
     "execution_count": 20,
     "metadata": {},
     "output_type": "execute_result"
    }
   ],
   "source": [
    "test_dataset_three.features"
   ]
  },
  {
   "cell_type": "code",
   "execution_count": 21,
   "id": "5a6e824d",
   "metadata": {},
   "outputs": [
    {
     "data": {
      "text/plain": [
       "{'_id': Value(dtype='string', id=None),\n",
       " 'item_count': Value(dtype='int64', id=None),\n",
       " 'recommend': Value(dtype='bool', id=None),\n",
       " 'found_helpful': Value(dtype='int64', id=None),\n",
       " 'found_funny': Value(dtype='int64', id=None),\n",
       " 'time': Value(dtype='string', id=None),\n",
       " 'reply_count': Value(dtype='float64', id=None),\n",
       " 'content': Value(dtype='string', id=None),\n",
       " 'hrs_on_second': Value(dtype='float64', id=None),\n",
       " 'hrs_at_reviwer_time': Value(dtype='float64', id=None),\n",
       " 'reviwer_num': Value(dtype='int64', id=None),\n",
       " 'recommend_labels': ClassLabel(num_classes=2, names=['notrecommend', 'recommend'], id=None),\n",
       " 'replace_name': Value(dtype='string', id=None),\n",
       " 'review_length': Value(dtype='int64', id=None),\n",
       " 'Column1': Value(dtype='int64', id=None),\n",
       " 'binarylabel_RoBERTa-large': Value(dtype='string', id=None),\n",
       " 'binarylabel_RoBERTa-large.1': ClassLabel(num_classes=2, names=['negative', 'positive'], id=None),\n",
       " 'DistilBERT-base-uncased': Value(dtype='string', id=None),\n",
       " 'DistilBERT-base-uncased.1': ClassLabel(num_classes=2, names=['negative', 'positive'], id=None),\n",
       " 'Column2': Value(dtype='bool', id=None)}"
      ]
     },
     "execution_count": 21,
     "metadata": {},
     "output_type": "execute_result"
    }
   ],
   "source": [
    "test_dataset_four.features"
   ]
  },
  {
   "cell_type": "code",
   "execution_count": 22,
   "id": "772e6873",
   "metadata": {},
   "outputs": [
    {
     "data": {
      "text/plain": [
       "{'_id': Value(dtype='string', id=None),\n",
       " 'item_count': Value(dtype='int64', id=None),\n",
       " 'recommend': Value(dtype='bool', id=None),\n",
       " 'found_helpful': Value(dtype='int64', id=None),\n",
       " 'found_funny': Value(dtype='int64', id=None),\n",
       " 'time': Value(dtype='string', id=None),\n",
       " 'reply_count': Value(dtype='float64', id=None),\n",
       " 'content': Value(dtype='string', id=None),\n",
       " 'hrs_on_second': Value(dtype='float64', id=None),\n",
       " 'hrs_at_reviwer_time': Value(dtype='float64', id=None),\n",
       " 'reviwer_num': Value(dtype='int64', id=None),\n",
       " 'recommend_labels': ClassLabel(num_classes=2, names=['notrecommend', 'recommend'], id=None),\n",
       " 'replace_name': Value(dtype='string', id=None),\n",
       " 'review_length': Value(dtype='int64', id=None),\n",
       " 'Column1': Value(dtype='int64', id=None),\n",
       " 'binarylabel_RoBERTa-large': Value(dtype='string', id=None),\n",
       " 'binarylabel_RoBERTa-large.1': ClassLabel(num_classes=2, names=['negative', 'positive'], id=None),\n",
       " 'DistilBERT-base-uncased': Value(dtype='string', id=None),\n",
       " 'DistilBERT-base-uncased.1': ClassLabel(num_classes=2, names=['negative', 'positive'], id=None),\n",
       " 'Column2': Value(dtype='bool', id=None)}"
      ]
     },
     "execution_count": 22,
     "metadata": {},
     "output_type": "execute_result"
    }
   ],
   "source": [
    "test_dataset_five.features"
   ]
  },
  {
   "cell_type": "markdown",
   "id": "e6434cf0",
   "metadata": {},
   "source": [
    "# Counts the number of words in each review"
   ]
  },
  {
   "cell_type": "code",
   "execution_count": 23,
   "id": "2456bf05",
   "metadata": {},
   "outputs": [],
   "source": [
    "def compute_review_length(example):\n",
    "    return {\"review_length\": len(example[\"preprocessed\"].split())}"
   ]
  },
  {
   "cell_type": "code",
   "execution_count": 24,
   "id": "ecbff341",
   "metadata": {},
   "outputs": [
    {
     "data": {
      "application/vnd.jupyter.widget-view+json": {
       "model_id": "3c36eba265a74421a6b5d04fdd13bdc4",
       "version_major": 2,
       "version_minor": 0
      },
      "text/plain": [
       "  0%|          | 0/240000 [00:00<?, ?ex/s]"
      ]
     },
     "metadata": {},
     "output_type": "display_data"
    },
    {
     "data": {
      "application/vnd.jupyter.widget-view+json": {
       "model_id": "128ca7c772b147438815ef5eeb6ad98c",
       "version_major": 2,
       "version_minor": 0
      },
      "text/plain": [
       "  0%|          | 0/60000 [00:00<?, ?ex/s]"
      ]
     },
     "metadata": {},
     "output_type": "display_data"
    }
   ],
   "source": [
    "review_length_training_dataset = training_dataset.map(compute_review_length)\n",
    "review_length_validation_dataset = validation_dataset.map(compute_review_length)"
   ]
  },
  {
   "cell_type": "code",
   "execution_count": 25,
   "id": "f895e89d",
   "metadata": {},
   "outputs": [
    {
     "data": {
      "image/png": "[encoded data removed]",
      "text/plain": [
       "<Figure size 640x480 with 1 Axes>"
      ]
     },
     "metadata": {},
     "output_type": "display_data"
    }
   ],
   "source": [
    "df1=review_length_training_dataset\n",
    "plt.hist(df1[\"review_length\"],bins=800)\n",
    "plt.xlabel('review_length')\n",
    "plt.ylabel('Frequency')\n",
    "plt.xlim(0, 500)\n",
    "plt.grid(True)\n",
    "plt.show()"
   ]
  },
  {
   "cell_type": "code",
   "execution_count": 26,
   "id": "5aa343b5",
   "metadata": {},
   "outputs": [
    {
     "data": {
      "image/png": "[encoded data removed]",
      "text/plain": [
       "<Figure size 640x480 with 1 Axes>"
      ]
     },
     "metadata": {},
     "output_type": "display_data"
    }
   ],
   "source": [
    "df2=review_length_validation_dataset\n",
    "plt.hist(df2[\"review_length\"],bins=800)\n",
    "plt.xlabel('review_length')\n",
    "plt.ylabel('Frequency')\n",
    "plt.xlim(0, 500)\n",
    "plt.grid(True)\n",
    "plt.show()"
   ]
  },
  {
   "cell_type": "markdown",
   "id": "874006cf",
   "metadata": {},
   "source": [
    "# Model + tokenizer"
   ]
  },
  {
   "cell_type": "code",
   "execution_count": 27,
   "id": "fe015ba3",
   "metadata": {},
   "outputs": [
    {
     "data": {
      "application/vnd.jupyter.widget-view+json": {
       "model_id": "bdbb53aae67741f581ca4c587399ee9b",
       "version_major": 2,
       "version_minor": 0
      },
      "text/plain": [
       "  0%|          | 0/240 [00:00<?, ?ba/s]"
      ]
     },
     "metadata": {},
     "output_type": "display_data"
    },
    {
     "data": {
      "text/plain": [
       "{'game_id': 105600,\n",
       " 'content': 'The best game i ever played',\n",
       " 'label_1': 1,\n",
       " 'label_2': 1,\n",
       " 'preprocessed': 'the best game i ever played',\n",
       " 'Column1': 0.705981696,\n",
       " 'labels': 1}"
      ]
     },
     "execution_count": 27,
     "metadata": {},
     "output_type": "execute_result"
    }
   ],
   "source": [
    "training_dataset = training_dataset.map(lambda examples: {'labels': examples['label_1']}, batched=True)\n",
    "training_dataset[0]"
   ]
  },
  {
   "cell_type": "code",
   "execution_count": 28,
   "id": "f2e073f6",
   "metadata": {},
   "outputs": [
    {
     "data": {
      "application/vnd.jupyter.widget-view+json": {
       "model_id": "e90360e53d8c4cd4a60d88d52cf35643",
       "version_major": 2,
       "version_minor": 0
      },
      "text/plain": [
       "  0%|          | 0/60 [00:00<?, ?ba/s]"
      ]
     },
     "metadata": {},
     "output_type": "display_data"
    },
    {
     "data": {
      "application/vnd.jupyter.widget-view+json": {
       "model_id": "4436160ca0614f139acd6be8591b9bca",
       "version_major": 2,
       "version_minor": 0
      },
      "text/plain": [
       "  0%|          | 0/1 [00:00<?, ?ba/s]"
      ]
     },
     "metadata": {},
     "output_type": "display_data"
    },
    {
     "data": {
      "application/vnd.jupyter.widget-view+json": {
       "model_id": "2d181eec88734b65a8acfa5f8ff5b3bb",
       "version_major": 2,
       "version_minor": 0
      },
      "text/plain": [
       "  0%|          | 0/1 [00:00<?, ?ba/s]"
      ]
     },
     "metadata": {},
     "output_type": "display_data"
    },
    {
     "data": {
      "application/vnd.jupyter.widget-view+json": {
       "model_id": "23e754e8abb84dedb40b57398161b2e1",
       "version_major": 2,
       "version_minor": 0
      },
      "text/plain": [
       "  0%|          | 0/1 [00:00<?, ?ba/s]"
      ]
     },
     "metadata": {},
     "output_type": "display_data"
    },
    {
     "data": {
      "application/vnd.jupyter.widget-view+json": {
       "model_id": "e60497a164464f58ad91a2aa1a2d8c21",
       "version_major": 2,
       "version_minor": 0
      },
      "text/plain": [
       "  0%|          | 0/1 [00:00<?, ?ba/s]"
      ]
     },
     "metadata": {},
     "output_type": "display_data"
    },
    {
     "data": {
      "application/vnd.jupyter.widget-view+json": {
       "model_id": "66e840fa56614463b0225779b4d89ea8",
       "version_major": 2,
       "version_minor": 0
      },
      "text/plain": [
       "  0%|          | 0/1 [00:00<?, ?ba/s]"
      ]
     },
     "metadata": {},
     "output_type": "display_data"
    }
   ],
   "source": [
    "validation_dataset = validation_dataset.map(lambda examples: {'labels': examples['label_1']}, batched=True)\n",
    "test_dataset_one = test_dataset_one.map(lambda examples: {'labels': examples['DistilBERT-base-uncased.1']}, batched=True)\n",
    "test_dataset_two = test_dataset_two.map(lambda examples: {'labels': examples['DistilBERT-base-uncased.1']}, batched=True)\n",
    "test_dataset_three = test_dataset_three.map(lambda examples: {'labels': examples['DistilBERT-base-uncased.1']}, batched=True)\n",
    "test_dataset_four = test_dataset_four.map(lambda examples: {'labels': examples['DistilBERT-base-uncased.1']}, batched=True)\n",
    "test_dataset_five = test_dataset_five.map(lambda examples: {'labels': examples['DistilBERT-base-uncased.1']}, batched=True)"
   ]
  },
  {
   "cell_type": "code",
   "execution_count": 29,
   "id": "f32231ae",
   "metadata": {},
   "outputs": [
    {
     "name": "stderr",
     "output_type": "stream",
     "text": [
      "D:\\Software\\Anaconda3\\envs\\pytorch\\lib\\site-packages\\huggingface_hub\\file_download.py:123: UserWarning: `huggingface_hub` cache-system uses symlinks by default to efficiently store duplicated files but your machine does not support them in C:\\Users\\researcher\\.cache\\huggingface\\hub. Caching files will still work but in a degraded version that might require more space on your disk. This warning can be disabled by setting the `HF_HUB_DISABLE_SYMLINKS_WARNING` environment variable. For more details, see https://huggingface.co/docs/huggingface_hub/how-to-cache#limitations.\n",
      "To support symlinks on Windows, you either need to activate Developer Mode or to run Python as an administrator. In order to see activate developer mode, see this article: https://docs.microsoft.com/en-us/windows/apps/get-started/enable-your-device-for-development\n",
      "  warnings.warn(message)\n"
     ]
    }
   ],
   "source": [
    "# model_id = 'prajjwal1/bert-tiny'\n",
    "model_id = 'distilbert-base-uncased-finetuned-sst-2-english'\n",
    "\n",
    "\n",
    "model = AutoModelForSequenceClassification.from_pretrained(model_id, \n",
    "            num_labels=training_dataset.features[\"label_1\"].num_classes)\n",
    "tokenizer = AutoTokenizer.from_pretrained(model_id)"
   ]
  },
  {
   "cell_type": "code",
   "execution_count": 30,
   "id": "ae336c31",
   "metadata": {},
   "outputs": [
    {
     "data": {
      "application/vnd.jupyter.widget-view+json": {
       "model_id": "c7e65beada694c7581fe097fbb691663",
       "version_major": 2,
       "version_minor": 0
      },
      "text/plain": [
       "  0%|          | 0/240 [00:00<?, ?ba/s]"
      ]
     },
     "metadata": {},
     "output_type": "display_data"
    },
    {
     "data": {
      "application/vnd.jupyter.widget-view+json": {
       "model_id": "d639af04ce004a2fbfb81ebf2d29ab9a",
       "version_major": 2,
       "version_minor": 0
      },
      "text/plain": [
       "  0%|          | 0/60 [00:00<?, ?ba/s]"
      ]
     },
     "metadata": {},
     "output_type": "display_data"
    },
    {
     "data": {
      "application/vnd.jupyter.widget-view+json": {
       "model_id": "5440ebe0322b4b139a96512e514f85f4",
       "version_major": 2,
       "version_minor": 0
      },
      "text/plain": [
       "  0%|          | 0/1 [00:00<?, ?ba/s]"
      ]
     },
     "metadata": {},
     "output_type": "display_data"
    },
    {
     "data": {
      "application/vnd.jupyter.widget-view+json": {
       "model_id": "300bb3c68769429fabcc3a2e5918ede3",
       "version_major": 2,
       "version_minor": 0
      },
      "text/plain": [
       "  0%|          | 0/1 [00:00<?, ?ba/s]"
      ]
     },
     "metadata": {},
     "output_type": "display_data"
    },
    {
     "data": {
      "application/vnd.jupyter.widget-view+json": {
       "model_id": "ef4c14a9bfd248da8b114d024a62e478",
       "version_major": 2,
       "version_minor": 0
      },
      "text/plain": [
       "  0%|          | 0/1 [00:00<?, ?ba/s]"
      ]
     },
     "metadata": {},
     "output_type": "display_data"
    },
    {
     "data": {
      "application/vnd.jupyter.widget-view+json": {
       "model_id": "23333c6004354dd4989d1e5b9376ea33",
       "version_major": 2,
       "version_minor": 0
      },
      "text/plain": [
       "  0%|          | 0/1 [00:00<?, ?ba/s]"
      ]
     },
     "metadata": {},
     "output_type": "display_data"
    },
    {
     "data": {
      "application/vnd.jupyter.widget-view+json": {
       "model_id": "88566c8e2c384f33b2ddf7eea7b17bd5",
       "version_major": 2,
       "version_minor": 0
      },
      "text/plain": [
       "  0%|          | 0/1 [00:00<?, ?ba/s]"
      ]
     },
     "metadata": {},
     "output_type": "display_data"
    }
   ],
   "source": [
    "MAX_LENGTH = 100\n",
    "training_dataset = training_dataset.map(lambda e: tokenizer(e['preprocessed'], truncation=True, padding='max_length', max_length=MAX_LENGTH), batched=True)\n",
    "validation_dataset = validation_dataset.map(lambda e: tokenizer(e['preprocessed'], truncation=True, padding='max_length', max_length=MAX_LENGTH), batched=True)\n",
    "test_dataset_one = test_dataset_one.map(lambda e: tokenizer(e['replace_name'], truncation=True, padding='max_length', max_length=MAX_LENGTH), batched=True)\n",
    "test_dataset_two = test_dataset_two.map(lambda e: tokenizer(e['replace_name'], truncation=True, padding='max_length', max_length=MAX_LENGTH), batched=True)\n",
    "test_dataset_three = test_dataset_three.map(lambda e: tokenizer(e['replace_name'], truncation=True, padding='max_length', max_length=MAX_LENGTH), batched=True)\n",
    "test_dataset_four = test_dataset_four.map(lambda e: tokenizer(e['replace_name'], truncation=True, padding='max_length', max_length=MAX_LENGTH), batched=True)\n",
    "test_dataset_five = test_dataset_five.map(lambda e: tokenizer(e['replace_name'], truncation=True, padding='max_length', max_length=MAX_LENGTH), batched=True)"
   ]
  },
  {
   "cell_type": "code",
   "execution_count": 31,
   "id": "256dbd66",
   "metadata": {},
   "outputs": [],
   "source": [
    "training_dataset.set_format(type='torch', columns=['input_ids',  'attention_mask', 'labels'])\n",
    "validation_dataset.set_format(type='torch', columns=['input_ids',  'attention_mask', 'labels'])\n",
    "test_dataset_one.set_format(type='torch', columns=['input_ids',  'attention_mask', 'labels'])\n",
    "test_dataset_two.set_format(type='torch', columns=['input_ids',  'attention_mask', 'labels'])\n",
    "test_dataset_three.set_format(type='torch', columns=['input_ids',  'attention_mask', 'labels'])\n",
    "test_dataset_four.set_format(type='torch', columns=['input_ids',  'attention_mask', 'labels'])\n",
    "test_dataset_five.set_format(type='torch', columns=['input_ids',  'attention_mask', 'labels'])"
   ]
  },
  {
   "cell_type": "code",
   "execution_count": 32,
   "id": "74d799d6",
   "metadata": {},
   "outputs": [
    {
     "data": {
      "text/plain": [
       "Dataset({\n",
       "    features: ['game_id', 'content', 'label_1', 'label_2', 'preprocessed', 'Column1', 'labels', 'input_ids', 'attention_mask'],\n",
       "    num_rows: 240000\n",
       "})"
      ]
     },
     "execution_count": 32,
     "metadata": {},
     "output_type": "execute_result"
    }
   ],
   "source": [
    "training_dataset"
   ]
  },
  {
   "cell_type": "code",
   "execution_count": 33,
   "id": "dc0a1fe5",
   "metadata": {},
   "outputs": [],
   "source": [
    "def compute_metrics(pred):\n",
    "    labels = pred.label_ids\n",
    "    preds = pred.predictions.argmax(-1)\n",
    "    precision, recall, f1, _ = precision_recall_fscore_support(labels, preds, average='macro')\n",
    "    acc = accuracy_score(labels, preds)\n",
    "    return {\n",
    "        'accuracy': acc,\n",
    "        'f1': f1,\n",
    "        'precision': precision,\n",
    "        'recall': recall\n",
    "    }"
   ]
  },
  {
   "cell_type": "code",
   "execution_count": 34,
   "id": "d4728e4d",
   "metadata": {
    "scrolled": false
   },
   "outputs": [
    {
     "name": "stderr",
     "output_type": "stream",
     "text": [
      "The following columns in the training set don't have a corresponding argument in `DistilBertForSequenceClassification.forward` and have been ignored: content, label_1, Column1, label_2, preprocessed, game_id. If content, label_1, Column1, label_2, preprocessed, game_id are not expected by `DistilBertForSequenceClassification.forward`,  you can safely ignore this message.\n",
      "D:\\Software\\Anaconda3\\envs\\pytorch\\lib\\site-packages\\transformers\\optimization.py:306: FutureWarning: This implementation of AdamW is deprecated and will be removed in a future version. Use the PyTorch implementation torch.optim.AdamW instead, or set `no_deprecation_warning=True` to disable this warning\n",
      "  warnings.warn(\n",
      "***** Running training *****\n",
      "  Num examples = 240000\n",
      "  Num Epochs = 1\n",
      "  Instantaneous batch size per device = 32\n",
      "  Total train batch size (w. parallel, distributed & accumulation) = 32\n",
      "  Gradient Accumulation steps = 1\n",
      "  Total optimization steps = 7500\n",
      "Automatic Weights & Biases logging enabled, to disable set os.environ[\"WANDB_DISABLED\"] = \"true\"\n",
      "\u001b[34m\u001b[1mwandb\u001b[0m: Currently logged in as: \u001b[33mericat\u001b[0m. Use \u001b[1m`wandb login --relogin`\u001b[0m to force relogin\n"
     ]
    },
    {
     "data": {
      "text/html": [
       "wandb version 0.15.11 is available!  To upgrade, please run:\n",
       " $ pip install wandb --upgrade"
      ],
      "text/plain": [
       "<IPython.core.display.HTML object>"
      ]
     },
     "metadata": {},
     "output_type": "display_data"
    },
    {
     "data": {
      "text/html": [
       "Tracking run with wandb version 0.13.4"
      ],
      "text/plain": [
       "<IPython.core.display.HTML object>"
      ]
     },
     "metadata": {},
     "output_type": "display_data"
    },
    {
     "data": {
      "text/html": [
       "Run data is saved locally in <code>D:\\Projects\\Jupyter\\Github Docs\\Sentiment classification\\HuggingFace-SteamReviews\\wandb\\run-20231004_162227-18v012mn</code>"
      ],
      "text/plain": [
       "<IPython.core.display.HTML object>"
      ]
     },
     "metadata": {},
     "output_type": "display_data"
    },
    {
     "data": {
      "text/html": [
       "Syncing run <strong><a href=\"https://wandb.ai/ericat/huggingface/runs/18v012mn\" target=\"_blank\">./sentimentbinaryresults</a></strong> to <a href=\"https://wandb.ai/ericat/huggingface\" target=\"_blank\">Weights & Biases</a> (<a href=\"https://wandb.me/run\" target=\"_blank\">docs</a>)<br/>"
      ],
      "text/plain": [
       "<IPython.core.display.HTML object>"
      ]
     },
     "metadata": {},
     "output_type": "display_data"
    },
    {
     "data": {
      "text/html": [
       "\n",
       "    <div>\n",
       "      \n",
       "      <progress value='7500' max='7500' style='width:300px; height:20px; vertical-align: middle;'></progress>\n",
       "      [7500/7500 1:54:02, Epoch 1/1]\n",
       "    </div>\n",
       "    <table border=\"1\" class=\"dataframe\">\n",
       "  <thead>\n",
       " <tr style=\"text-align: left;\">\n",
       "      <th>Step</th>\n",
       "      <th>Training Loss</th>\n",
       "      <th>Validation Loss</th>\n",
       "      <th>Accuracy</th>\n",
       "      <th>F1</th>\n",
       "      <th>Precision</th>\n",
       "      <th>Recall</th>\n",
       "    </tr>\n",
       "  </thead>\n",
       "  <tbody>\n",
       "    <tr>\n",
       "      <td>100</td>\n",
       "      <td>0.442400</td>\n",
       "      <td>0.344365</td>\n",
       "      <td>0.852217</td>\n",
       "      <td>0.851996</td>\n",
       "      <td>0.853978</td>\n",
       "      <td>0.852078</td>\n",
       "    </tr>\n",
       "    <tr>\n",
       "      <td>200</td>\n",
       "      <td>0.341500</td>\n",
       "      <td>0.310443</td>\n",
       "      <td>0.870817</td>\n",
       "      <td>0.870646</td>\n",
       "      <td>0.872436</td>\n",
       "      <td>0.870687</td>\n",
       "    </tr>\n",
       "    <tr>\n",
       "      <td>300</td>\n",
       "      <td>0.383000</td>\n",
       "      <td>0.338970</td>\n",
       "      <td>0.871850</td>\n",
       "      <td>0.871725</td>\n",
       "      <td>0.873626</td>\n",
       "      <td>0.871986</td>\n",
       "    </tr>\n",
       "    <tr>\n",
       "      <td>400</td>\n",
       "      <td>0.443900</td>\n",
       "      <td>0.426507</td>\n",
       "      <td>0.851417</td>\n",
       "      <td>0.851251</td>\n",
       "      <td>0.852686</td>\n",
       "      <td>0.851299</td>\n",
       "    </tr>\n",
       "    <tr>\n",
       "      <td>500</td>\n",
       "      <td>0.432600</td>\n",
       "      <td>0.491526</td>\n",
       "      <td>0.808500</td>\n",
       "      <td>0.804269</td>\n",
       "      <td>0.836233</td>\n",
       "      <td>0.807934</td>\n",
       "    </tr>\n",
       "    <tr>\n",
       "      <td>600</td>\n",
       "      <td>0.565700</td>\n",
       "      <td>0.529112</td>\n",
       "      <td>0.772317</td>\n",
       "      <td>0.763544</td>\n",
       "      <td>0.817767</td>\n",
       "      <td>0.771571</td>\n",
       "    </tr>\n",
       "    <tr>\n",
       "      <td>700</td>\n",
       "      <td>0.566900</td>\n",
       "      <td>0.588136</td>\n",
       "      <td>0.745017</td>\n",
       "      <td>0.741165</td>\n",
       "      <td>0.759496</td>\n",
       "      <td>0.744548</td>\n",
       "    </tr>\n",
       "    <tr>\n",
       "      <td>800</td>\n",
       "      <td>0.643200</td>\n",
       "      <td>0.614998</td>\n",
       "      <td>0.672100</td>\n",
       "      <td>0.654832</td>\n",
       "      <td>0.717223</td>\n",
       "      <td>0.672990</td>\n",
       "    </tr>\n",
       "    <tr>\n",
       "      <td>900</td>\n",
       "      <td>0.615200</td>\n",
       "      <td>0.568364</td>\n",
       "      <td>0.718550</td>\n",
       "      <td>0.705808</td>\n",
       "      <td>0.766408</td>\n",
       "      <td>0.719380</td>\n",
       "    </tr>\n",
       "    <tr>\n",
       "      <td>1000</td>\n",
       "      <td>0.565700</td>\n",
       "      <td>0.599179</td>\n",
       "      <td>0.682267</td>\n",
       "      <td>0.651225</td>\n",
       "      <td>0.786960</td>\n",
       "      <td>0.683451</td>\n",
       "    </tr>\n",
       "    <tr>\n",
       "      <td>1100</td>\n",
       "      <td>0.668000</td>\n",
       "      <td>0.693898</td>\n",
       "      <td>0.499100</td>\n",
       "      <td>0.334874</td>\n",
       "      <td>0.734577</td>\n",
       "      <td>0.501062</td>\n",
       "    </tr>\n",
       "    <tr>\n",
       "      <td>1200</td>\n",
       "      <td>0.693200</td>\n",
       "      <td>0.695810</td>\n",
       "      <td>0.498767</td>\n",
       "      <td>0.334109</td>\n",
       "      <td>0.738330</td>\n",
       "      <td>0.500730</td>\n",
       "    </tr>\n",
       "    <tr>\n",
       "      <td>1300</td>\n",
       "      <td>0.693700</td>\n",
       "      <td>0.691901</td>\n",
       "      <td>0.501950</td>\n",
       "      <td>0.334199</td>\n",
       "      <td>0.250979</td>\n",
       "      <td>0.499983</td>\n",
       "    </tr>\n",
       "    <tr>\n",
       "      <td>1400</td>\n",
       "      <td>0.690800</td>\n",
       "      <td>0.692042</td>\n",
       "      <td>0.500400</td>\n",
       "      <td>0.337706</td>\n",
       "      <td>0.746135</td>\n",
       "      <td>0.502357</td>\n",
       "    </tr>\n",
       "    <tr>\n",
       "      <td>1500</td>\n",
       "      <td>0.693600</td>\n",
       "      <td>0.695215</td>\n",
       "      <td>0.501967</td>\n",
       "      <td>0.334206</td>\n",
       "      <td>0.250983</td>\n",
       "      <td>0.500000</td>\n",
       "    </tr>\n",
       "    <tr>\n",
       "      <td>1600</td>\n",
       "      <td>0.694000</td>\n",
       "      <td>0.693467</td>\n",
       "      <td>0.501967</td>\n",
       "      <td>0.334206</td>\n",
       "      <td>0.250983</td>\n",
       "      <td>0.500000</td>\n",
       "    </tr>\n",
       "    <tr>\n",
       "      <td>1700</td>\n",
       "      <td>0.694100</td>\n",
       "      <td>0.693212</td>\n",
       "      <td>0.498033</td>\n",
       "      <td>0.332458</td>\n",
       "      <td>0.249017</td>\n",
       "      <td>0.500000</td>\n",
       "    </tr>\n",
       "    <tr>\n",
       "      <td>1800</td>\n",
       "      <td>0.693700</td>\n",
       "      <td>0.693140</td>\n",
       "      <td>0.501967</td>\n",
       "      <td>0.334206</td>\n",
       "      <td>0.250983</td>\n",
       "      <td>0.500000</td>\n",
       "    </tr>\n",
       "    <tr>\n",
       "      <td>1900</td>\n",
       "      <td>0.693100</td>\n",
       "      <td>0.693194</td>\n",
       "      <td>0.501967</td>\n",
       "      <td>0.334206</td>\n",
       "      <td>0.250983</td>\n",
       "      <td>0.500000</td>\n",
       "    </tr>\n",
       "    <tr>\n",
       "      <td>2000</td>\n",
       "      <td>0.693800</td>\n",
       "      <td>0.693196</td>\n",
       "      <td>0.501967</td>\n",
       "      <td>0.334206</td>\n",
       "      <td>0.250983</td>\n",
       "      <td>0.500000</td>\n",
       "    </tr>\n",
       "    <tr>\n",
       "      <td>2100</td>\n",
       "      <td>0.692900</td>\n",
       "      <td>0.693580</td>\n",
       "      <td>0.501967</td>\n",
       "      <td>0.334206</td>\n",
       "      <td>0.250983</td>\n",
       "      <td>0.500000</td>\n",
       "    </tr>\n",
       "    <tr>\n",
       "      <td>2200</td>\n",
       "      <td>0.692900</td>\n",
       "      <td>0.693160</td>\n",
       "      <td>0.501967</td>\n",
       "      <td>0.334206</td>\n",
       "      <td>0.250983</td>\n",
       "      <td>0.500000</td>\n",
       "    </tr>\n",
       "    <tr>\n",
       "      <td>2300</td>\n",
       "      <td>0.693900</td>\n",
       "      <td>0.693209</td>\n",
       "      <td>0.501967</td>\n",
       "      <td>0.334206</td>\n",
       "      <td>0.250983</td>\n",
       "      <td>0.500000</td>\n",
       "    </tr>\n",
       "    <tr>\n",
       "      <td>2400</td>\n",
       "      <td>0.693200</td>\n",
       "      <td>0.693301</td>\n",
       "      <td>0.501967</td>\n",
       "      <td>0.334206</td>\n",
       "      <td>0.250983</td>\n",
       "      <td>0.500000</td>\n",
       "    </tr>\n",
       "    <tr>\n",
       "      <td>2500</td>\n",
       "      <td>0.692900</td>\n",
       "      <td>0.693139</td>\n",
       "      <td>0.501967</td>\n",
       "      <td>0.334206</td>\n",
       "      <td>0.250983</td>\n",
       "      <td>0.500000</td>\n",
       "    </tr>\n",
       "    <tr>\n",
       "      <td>2600</td>\n",
       "      <td>0.693100</td>\n",
       "      <td>0.693197</td>\n",
       "      <td>0.501967</td>\n",
       "      <td>0.334206</td>\n",
       "      <td>0.250983</td>\n",
       "      <td>0.500000</td>\n",
       "    </tr>\n",
       "    <tr>\n",
       "      <td>2700</td>\n",
       "      <td>0.693100</td>\n",
       "      <td>0.693516</td>\n",
       "      <td>0.501967</td>\n",
       "      <td>0.334206</td>\n",
       "      <td>0.250983</td>\n",
       "      <td>0.500000</td>\n",
       "    </tr>\n",
       "    <tr>\n",
       "      <td>2800</td>\n",
       "      <td>0.693600</td>\n",
       "      <td>0.693384</td>\n",
       "      <td>0.498033</td>\n",
       "      <td>0.332458</td>\n",
       "      <td>0.249017</td>\n",
       "      <td>0.500000</td>\n",
       "    </tr>\n",
       "    <tr>\n",
       "      <td>2900</td>\n",
       "      <td>0.693600</td>\n",
       "      <td>0.693650</td>\n",
       "      <td>0.498033</td>\n",
       "      <td>0.332458</td>\n",
       "      <td>0.249017</td>\n",
       "      <td>0.500000</td>\n",
       "    </tr>\n",
       "    <tr>\n",
       "      <td>3000</td>\n",
       "      <td>0.693700</td>\n",
       "      <td>0.693246</td>\n",
       "      <td>0.501967</td>\n",
       "      <td>0.334206</td>\n",
       "      <td>0.250983</td>\n",
       "      <td>0.500000</td>\n",
       "    </tr>\n",
       "    <tr>\n",
       "      <td>3100</td>\n",
       "      <td>0.693500</td>\n",
       "      <td>0.693154</td>\n",
       "      <td>0.498033</td>\n",
       "      <td>0.332458</td>\n",
       "      <td>0.249017</td>\n",
       "      <td>0.500000</td>\n",
       "    </tr>\n",
       "    <tr>\n",
       "      <td>3200</td>\n",
       "      <td>0.693300</td>\n",
       "      <td>0.693384</td>\n",
       "      <td>0.501967</td>\n",
       "      <td>0.334206</td>\n",
       "      <td>0.250983</td>\n",
       "      <td>0.500000</td>\n",
       "    </tr>\n",
       "    <tr>\n",
       "      <td>3300</td>\n",
       "      <td>0.693400</td>\n",
       "      <td>0.693274</td>\n",
       "      <td>0.501967</td>\n",
       "      <td>0.334206</td>\n",
       "      <td>0.250983</td>\n",
       "      <td>0.500000</td>\n",
       "    </tr>\n",
       "    <tr>\n",
       "      <td>3400</td>\n",
       "      <td>0.693300</td>\n",
       "      <td>0.693387</td>\n",
       "      <td>0.498033</td>\n",
       "      <td>0.332458</td>\n",
       "      <td>0.249017</td>\n",
       "      <td>0.500000</td>\n",
       "    </tr>\n",
       "    <tr>\n",
       "      <td>3500</td>\n",
       "      <td>0.693300</td>\n",
       "      <td>0.693158</td>\n",
       "      <td>0.501967</td>\n",
       "      <td>0.334206</td>\n",
       "      <td>0.250983</td>\n",
       "      <td>0.500000</td>\n",
       "    </tr>\n",
       "    <tr>\n",
       "      <td>3600</td>\n",
       "      <td>0.693500</td>\n",
       "      <td>0.693323</td>\n",
       "      <td>0.498033</td>\n",
       "      <td>0.332458</td>\n",
       "      <td>0.249017</td>\n",
       "      <td>0.500000</td>\n",
       "    </tr>\n",
       "    <tr>\n",
       "      <td>3700</td>\n",
       "      <td>0.693100</td>\n",
       "      <td>0.693139</td>\n",
       "      <td>0.501967</td>\n",
       "      <td>0.334206</td>\n",
       "      <td>0.250983</td>\n",
       "      <td>0.500000</td>\n",
       "    </tr>\n",
       "    <tr>\n",
       "      <td>3800</td>\n",
       "      <td>0.693100</td>\n",
       "      <td>0.693260</td>\n",
       "      <td>0.501967</td>\n",
       "      <td>0.334206</td>\n",
       "      <td>0.250983</td>\n",
       "      <td>0.500000</td>\n",
       "    </tr>\n",
       "    <tr>\n",
       "      <td>3900</td>\n",
       "      <td>0.693300</td>\n",
       "      <td>0.693169</td>\n",
       "      <td>0.498033</td>\n",
       "      <td>0.332458</td>\n",
       "      <td>0.249017</td>\n",
       "      <td>0.500000</td>\n",
       "    </tr>\n",
       "    <tr>\n",
       "      <td>4000</td>\n",
       "      <td>0.693100</td>\n",
       "      <td>0.693296</td>\n",
       "      <td>0.501967</td>\n",
       "      <td>0.334206</td>\n",
       "      <td>0.250983</td>\n",
       "      <td>0.500000</td>\n",
       "    </tr>\n",
       "    <tr>\n",
       "      <td>4100</td>\n",
       "      <td>0.693500</td>\n",
       "      <td>0.693574</td>\n",
       "      <td>0.501967</td>\n",
       "      <td>0.334206</td>\n",
       "      <td>0.250983</td>\n",
       "      <td>0.500000</td>\n",
       "    </tr>\n",
       "    <tr>\n",
       "      <td>4200</td>\n",
       "      <td>0.692900</td>\n",
       "      <td>0.693231</td>\n",
       "      <td>0.501967</td>\n",
       "      <td>0.334206</td>\n",
       "      <td>0.250983</td>\n",
       "      <td>0.500000</td>\n",
       "    </tr>\n",
       "    <tr>\n",
       "      <td>4300</td>\n",
       "      <td>0.693200</td>\n",
       "      <td>0.693179</td>\n",
       "      <td>0.501967</td>\n",
       "      <td>0.334206</td>\n",
       "      <td>0.250983</td>\n",
       "      <td>0.500000</td>\n",
       "    </tr>\n",
       "    <tr>\n",
       "      <td>4400</td>\n",
       "      <td>0.693500</td>\n",
       "      <td>0.693181</td>\n",
       "      <td>0.498033</td>\n",
       "      <td>0.332458</td>\n",
       "      <td>0.249017</td>\n",
       "      <td>0.500000</td>\n",
       "    </tr>\n",
       "    <tr>\n",
       "      <td>4500</td>\n",
       "      <td>0.693100</td>\n",
       "      <td>0.693183</td>\n",
       "      <td>0.498033</td>\n",
       "      <td>0.332458</td>\n",
       "      <td>0.249017</td>\n",
       "      <td>0.500000</td>\n",
       "    </tr>\n",
       "    <tr>\n",
       "      <td>4600</td>\n",
       "      <td>0.693200</td>\n",
       "      <td>0.693188</td>\n",
       "      <td>0.501967</td>\n",
       "      <td>0.334206</td>\n",
       "      <td>0.250983</td>\n",
       "      <td>0.500000</td>\n",
       "    </tr>\n",
       "    <tr>\n",
       "      <td>4700</td>\n",
       "      <td>0.693600</td>\n",
       "      <td>0.693156</td>\n",
       "      <td>0.501967</td>\n",
       "      <td>0.334206</td>\n",
       "      <td>0.250983</td>\n",
       "      <td>0.500000</td>\n",
       "    </tr>\n",
       "    <tr>\n",
       "      <td>4800</td>\n",
       "      <td>0.693100</td>\n",
       "      <td>0.693140</td>\n",
       "      <td>0.501967</td>\n",
       "      <td>0.334206</td>\n",
       "      <td>0.250983</td>\n",
       "      <td>0.500000</td>\n",
       "    </tr>\n",
       "    <tr>\n",
       "      <td>4900</td>\n",
       "      <td>0.693300</td>\n",
       "      <td>0.693157</td>\n",
       "      <td>0.498033</td>\n",
       "      <td>0.332458</td>\n",
       "      <td>0.249017</td>\n",
       "      <td>0.500000</td>\n",
       "    </tr>\n",
       "    <tr>\n",
       "      <td>5000</td>\n",
       "      <td>0.693200</td>\n",
       "      <td>0.693271</td>\n",
       "      <td>0.498033</td>\n",
       "      <td>0.332458</td>\n",
       "      <td>0.249017</td>\n",
       "      <td>0.500000</td>\n",
       "    </tr>\n",
       "    <tr>\n",
       "      <td>5100</td>\n",
       "      <td>0.693300</td>\n",
       "      <td>0.693142</td>\n",
       "      <td>0.501967</td>\n",
       "      <td>0.334206</td>\n",
       "      <td>0.250983</td>\n",
       "      <td>0.500000</td>\n",
       "    </tr>\n",
       "    <tr>\n",
       "      <td>5200</td>\n",
       "      <td>0.693400</td>\n",
       "      <td>0.693168</td>\n",
       "      <td>0.498033</td>\n",
       "      <td>0.332458</td>\n",
       "      <td>0.249017</td>\n",
       "      <td>0.500000</td>\n",
       "    </tr>\n",
       "    <tr>\n",
       "      <td>5300</td>\n",
       "      <td>0.693400</td>\n",
       "      <td>0.693164</td>\n",
       "      <td>0.501967</td>\n",
       "      <td>0.334206</td>\n",
       "      <td>0.250983</td>\n",
       "      <td>0.500000</td>\n",
       "    </tr>\n",
       "    <tr>\n",
       "      <td>5400</td>\n",
       "      <td>0.693300</td>\n",
       "      <td>0.693141</td>\n",
       "      <td>0.501967</td>\n",
       "      <td>0.334206</td>\n",
       "      <td>0.250983</td>\n",
       "      <td>0.500000</td>\n",
       "    </tr>\n",
       "    <tr>\n",
       "      <td>5500</td>\n",
       "      <td>0.693200</td>\n",
       "      <td>0.693151</td>\n",
       "      <td>0.498033</td>\n",
       "      <td>0.332458</td>\n",
       "      <td>0.249017</td>\n",
       "      <td>0.500000</td>\n",
       "    </tr>\n",
       "    <tr>\n",
       "      <td>5600</td>\n",
       "      <td>0.693300</td>\n",
       "      <td>0.693274</td>\n",
       "      <td>0.498033</td>\n",
       "      <td>0.332458</td>\n",
       "      <td>0.249017</td>\n",
       "      <td>0.500000</td>\n",
       "    </tr>\n",
       "    <tr>\n",
       "      <td>5700</td>\n",
       "      <td>0.693300</td>\n",
       "      <td>0.693152</td>\n",
       "      <td>0.501967</td>\n",
       "      <td>0.334206</td>\n",
       "      <td>0.250983</td>\n",
       "      <td>0.500000</td>\n",
       "    </tr>\n",
       "    <tr>\n",
       "      <td>5800</td>\n",
       "      <td>0.693100</td>\n",
       "      <td>0.693156</td>\n",
       "      <td>0.501967</td>\n",
       "      <td>0.334206</td>\n",
       "      <td>0.250983</td>\n",
       "      <td>0.500000</td>\n",
       "    </tr>\n",
       "    <tr>\n",
       "      <td>5900</td>\n",
       "      <td>0.693200</td>\n",
       "      <td>0.693167</td>\n",
       "      <td>0.501967</td>\n",
       "      <td>0.334206</td>\n",
       "      <td>0.250983</td>\n",
       "      <td>0.500000</td>\n",
       "    </tr>\n",
       "    <tr>\n",
       "      <td>6000</td>\n",
       "      <td>0.693300</td>\n",
       "      <td>0.693140</td>\n",
       "      <td>0.501967</td>\n",
       "      <td>0.334206</td>\n",
       "      <td>0.250983</td>\n",
       "      <td>0.500000</td>\n",
       "    </tr>\n",
       "    <tr>\n",
       "      <td>6100</td>\n",
       "      <td>0.693200</td>\n",
       "      <td>0.693140</td>\n",
       "      <td>0.501967</td>\n",
       "      <td>0.334206</td>\n",
       "      <td>0.250983</td>\n",
       "      <td>0.500000</td>\n",
       "    </tr>\n",
       "    <tr>\n",
       "      <td>6200</td>\n",
       "      <td>0.693300</td>\n",
       "      <td>0.693146</td>\n",
       "      <td>0.501967</td>\n",
       "      <td>0.334206</td>\n",
       "      <td>0.250983</td>\n",
       "      <td>0.500000</td>\n",
       "    </tr>\n",
       "    <tr>\n",
       "      <td>6300</td>\n",
       "      <td>0.692900</td>\n",
       "      <td>0.693174</td>\n",
       "      <td>0.501967</td>\n",
       "      <td>0.334206</td>\n",
       "      <td>0.250983</td>\n",
       "      <td>0.500000</td>\n",
       "    </tr>\n",
       "    <tr>\n",
       "      <td>6400</td>\n",
       "      <td>0.692900</td>\n",
       "      <td>0.693235</td>\n",
       "      <td>0.501967</td>\n",
       "      <td>0.334206</td>\n",
       "      <td>0.250983</td>\n",
       "      <td>0.500000</td>\n",
       "    </tr>\n",
       "    <tr>\n",
       "      <td>6500</td>\n",
       "      <td>0.693100</td>\n",
       "      <td>0.693185</td>\n",
       "      <td>0.501967</td>\n",
       "      <td>0.334206</td>\n",
       "      <td>0.250983</td>\n",
       "      <td>0.500000</td>\n",
       "    </tr>\n",
       "    <tr>\n",
       "      <td>6600</td>\n",
       "      <td>0.693100</td>\n",
       "      <td>0.693206</td>\n",
       "      <td>0.501967</td>\n",
       "      <td>0.334206</td>\n",
       "      <td>0.250983</td>\n",
       "      <td>0.500000</td>\n",
       "    </tr>\n",
       "    <tr>\n",
       "      <td>6700</td>\n",
       "      <td>0.693100</td>\n",
       "      <td>0.693161</td>\n",
       "      <td>0.501967</td>\n",
       "      <td>0.334206</td>\n",
       "      <td>0.250983</td>\n",
       "      <td>0.500000</td>\n",
       "    </tr>\n",
       "    <tr>\n",
       "      <td>6800</td>\n",
       "      <td>0.693200</td>\n",
       "      <td>0.693142</td>\n",
       "      <td>0.501967</td>\n",
       "      <td>0.334206</td>\n",
       "      <td>0.250983</td>\n",
       "      <td>0.500000</td>\n",
       "    </tr>\n",
       "    <tr>\n",
       "      <td>6900</td>\n",
       "      <td>0.693000</td>\n",
       "      <td>0.693157</td>\n",
       "      <td>0.501967</td>\n",
       "      <td>0.334206</td>\n",
       "      <td>0.250983</td>\n",
       "      <td>0.500000</td>\n",
       "    </tr>\n",
       "    <tr>\n",
       "      <td>7000</td>\n",
       "      <td>0.692900</td>\n",
       "      <td>0.693173</td>\n",
       "      <td>0.501967</td>\n",
       "      <td>0.334206</td>\n",
       "      <td>0.250983</td>\n",
       "      <td>0.500000</td>\n",
       "    </tr>\n",
       "    <tr>\n",
       "      <td>7100</td>\n",
       "      <td>0.693300</td>\n",
       "      <td>0.693157</td>\n",
       "      <td>0.501967</td>\n",
       "      <td>0.334206</td>\n",
       "      <td>0.250983</td>\n",
       "      <td>0.500000</td>\n",
       "    </tr>\n",
       "    <tr>\n",
       "      <td>7200</td>\n",
       "      <td>0.692800</td>\n",
       "      <td>0.693163</td>\n",
       "      <td>0.501967</td>\n",
       "      <td>0.334206</td>\n",
       "      <td>0.250983</td>\n",
       "      <td>0.500000</td>\n",
       "    </tr>\n",
       "    <tr>\n",
       "      <td>7300</td>\n",
       "      <td>0.693500</td>\n",
       "      <td>0.693152</td>\n",
       "      <td>0.501967</td>\n",
       "      <td>0.334206</td>\n",
       "      <td>0.250983</td>\n",
       "      <td>0.500000</td>\n",
       "    </tr>\n",
       "    <tr>\n",
       "      <td>7400</td>\n",
       "      <td>0.693300</td>\n",
       "      <td>0.693152</td>\n",
       "      <td>0.501967</td>\n",
       "      <td>0.334206</td>\n",
       "      <td>0.250983</td>\n",
       "      <td>0.500000</td>\n",
       "    </tr>\n",
       "    <tr>\n",
       "      <td>7500</td>\n",
       "      <td>0.693100</td>\n",
       "      <td>0.693150</td>\n",
       "      <td>0.501967</td>\n",
       "      <td>0.334206</td>\n",
       "      <td>0.250983</td>\n",
       "      <td>0.500000</td>\n",
       "    </tr>\n",
       "  </tbody>\n",
       "</table><p>"
      ],
      "text/plain": [
       "<IPython.core.display.HTML object>"
      ]
     },
     "metadata": {},
     "output_type": "display_data"
    },
    {
     "name": "stderr",
     "output_type": "stream",
     "text": [
      "The following columns in the evaluation set don't have a corresponding argument in `DistilBertForSequenceClassification.forward` and have been ignored: content, label_1, Column1, label_2, preprocessed, game_id. If content, label_1, Column1, label_2, preprocessed, game_id are not expected by `DistilBertForSequenceClassification.forward`,  you can safely ignore this message.\n",
      "***** Running Evaluation *****\n",
      "  Num examples = 60000\n",
      "  Batch size = 32\n",
      "The following columns in the evaluation set don't have a corresponding argument in `DistilBertForSequenceClassification.forward` and have been ignored: content, label_1, Column1, label_2, preprocessed, game_id. If content, label_1, Column1, label_2, preprocessed, game_id are not expected by `DistilBertForSequenceClassification.forward`,  you can safely ignore this message.\n",
      "***** Running Evaluation *****\n",
      "  Num examples = 60000\n",
      "  Batch size = 32\n",
      "The following columns in the evaluation set don't have a corresponding argument in `DistilBertForSequenceClassification.forward` and have been ignored: content, label_1, Column1, label_2, preprocessed, game_id. If content, label_1, Column1, label_2, preprocessed, game_id are not expected by `DistilBertForSequenceClassification.forward`,  you can safely ignore this message.\n",
      "***** Running Evaluation *****\n",
      "  Num examples = 60000\n",
      "  Batch size = 32\n",
      "The following columns in the evaluation set don't have a corresponding argument in `DistilBertForSequenceClassification.forward` and have been ignored: content, label_1, Column1, label_2, preprocessed, game_id. If content, label_1, Column1, label_2, preprocessed, game_id are not expected by `DistilBertForSequenceClassification.forward`,  you can safely ignore this message.\n",
      "***** Running Evaluation *****\n",
      "  Num examples = 60000\n",
      "  Batch size = 32\n",
      "The following columns in the evaluation set don't have a corresponding argument in `DistilBertForSequenceClassification.forward` and have been ignored: content, label_1, Column1, label_2, preprocessed, game_id. If content, label_1, Column1, label_2, preprocessed, game_id are not expected by `DistilBertForSequenceClassification.forward`,  you can safely ignore this message.\n",
      "***** Running Evaluation *****\n",
      "  Num examples = 60000\n",
      "  Batch size = 32\n",
      "Saving model checkpoint to ./sentimentbinaryresults\\checkpoint-500\n",
      "Configuration saved in ./sentimentbinaryresults\\checkpoint-500\\config.json\n",
      "Model weights saved in ./sentimentbinaryresults\\checkpoint-500\\pytorch_model.bin\n",
      "The following columns in the evaluation set don't have a corresponding argument in `DistilBertForSequenceClassification.forward` and have been ignored: content, label_1, Column1, label_2, preprocessed, game_id. If content, label_1, Column1, label_2, preprocessed, game_id are not expected by `DistilBertForSequenceClassification.forward`,  you can safely ignore this message.\n",
      "***** Running Evaluation *****\n",
      "  Num examples = 60000\n",
      "  Batch size = 32\n",
      "The following columns in the evaluation set don't have a corresponding argument in `DistilBertForSequenceClassification.forward` and have been ignored: content, label_1, Column1, label_2, preprocessed, game_id. If content, label_1, Column1, label_2, preprocessed, game_id are not expected by `DistilBertForSequenceClassification.forward`,  you can safely ignore this message.\n",
      "***** Running Evaluation *****\n",
      "  Num examples = 60000\n",
      "  Batch size = 32\n",
      "The following columns in the evaluation set don't have a corresponding argument in `DistilBertForSequenceClassification.forward` and have been ignored: content, label_1, Column1, label_2, preprocessed, game_id. If content, label_1, Column1, label_2, preprocessed, game_id are not expected by `DistilBertForSequenceClassification.forward`,  you can safely ignore this message.\n",
      "***** Running Evaluation *****\n",
      "  Num examples = 60000\n",
      "  Batch size = 32\n",
      "The following columns in the evaluation set don't have a corresponding argument in `DistilBertForSequenceClassification.forward` and have been ignored: content, label_1, Column1, label_2, preprocessed, game_id. If content, label_1, Column1, label_2, preprocessed, game_id are not expected by `DistilBertForSequenceClassification.forward`,  you can safely ignore this message.\n",
      "***** Running Evaluation *****\n",
      "  Num examples = 60000\n",
      "  Batch size = 32\n",
      "The following columns in the evaluation set don't have a corresponding argument in `DistilBertForSequenceClassification.forward` and have been ignored: content, label_1, Column1, label_2, preprocessed, game_id. If content, label_1, Column1, label_2, preprocessed, game_id are not expected by `DistilBertForSequenceClassification.forward`,  you can safely ignore this message.\n",
      "***** Running Evaluation *****\n",
      "  Num examples = 60000\n",
      "  Batch size = 32\n",
      "Saving model checkpoint to ./sentimentbinaryresults\\checkpoint-1000\n",
      "Configuration saved in ./sentimentbinaryresults\\checkpoint-1000\\config.json\n",
      "Model weights saved in ./sentimentbinaryresults\\checkpoint-1000\\pytorch_model.bin\n",
      "The following columns in the evaluation set don't have a corresponding argument in `DistilBertForSequenceClassification.forward` and have been ignored: content, label_1, Column1, label_2, preprocessed, game_id. If content, label_1, Column1, label_2, preprocessed, game_id are not expected by `DistilBertForSequenceClassification.forward`,  you can safely ignore this message.\n",
      "***** Running Evaluation *****\n",
      "  Num examples = 60000\n",
      "  Batch size = 32\n",
      "The following columns in the evaluation set don't have a corresponding argument in `DistilBertForSequenceClassification.forward` and have been ignored: content, label_1, Column1, label_2, preprocessed, game_id. If content, label_1, Column1, label_2, preprocessed, game_id are not expected by `DistilBertForSequenceClassification.forward`,  you can safely ignore this message.\n",
      "***** Running Evaluation *****\n",
      "  Num examples = 60000\n",
      "  Batch size = 32\n",
      "The following columns in the evaluation set don't have a corresponding argument in `DistilBertForSequenceClassification.forward` and have been ignored: content, label_1, Column1, label_2, preprocessed, game_id. If content, label_1, Column1, label_2, preprocessed, game_id are not expected by `DistilBertForSequenceClassification.forward`,  you can safely ignore this message.\n",
      "***** Running Evaluation *****\n",
      "  Num examples = 60000\n",
      "  Batch size = 32\n",
      "The following columns in the evaluation set don't have a corresponding argument in `DistilBertForSequenceClassification.forward` and have been ignored: content, label_1, Column1, label_2, preprocessed, game_id. If content, label_1, Column1, label_2, preprocessed, game_id are not expected by `DistilBertForSequenceClassification.forward`,  you can safely ignore this message.\n",
      "***** Running Evaluation *****\n",
      "  Num examples = 60000\n",
      "  Batch size = 32\n",
      "The following columns in the evaluation set don't have a corresponding argument in `DistilBertForSequenceClassification.forward` and have been ignored: content, label_1, Column1, label_2, preprocessed, game_id. If content, label_1, Column1, label_2, preprocessed, game_id are not expected by `DistilBertForSequenceClassification.forward`,  you can safely ignore this message.\n",
      "***** Running Evaluation *****\n",
      "  Num examples = 60000\n",
      "  Batch size = 32\n",
      "D:\\Software\\Anaconda3\\envs\\pytorch\\lib\\site-packages\\sklearn\\metrics\\_classification.py:1248: UndefinedMetricWarning: Precision and F-score are ill-defined and being set to 0.0 in labels with no predicted samples. Use `zero_division` parameter to control this behavior.\n",
      "  _warn_prf(average, modifier, msg_start, len(result))\n",
      "Saving model checkpoint to ./sentimentbinaryresults\\checkpoint-1500\n",
      "Configuration saved in ./sentimentbinaryresults\\checkpoint-1500\\config.json\n",
      "Model weights saved in ./sentimentbinaryresults\\checkpoint-1500\\pytorch_model.bin\n",
      "The following columns in the evaluation set don't have a corresponding argument in `DistilBertForSequenceClassification.forward` and have been ignored: content, label_1, Column1, label_2, preprocessed, game_id. If content, label_1, Column1, label_2, preprocessed, game_id are not expected by `DistilBertForSequenceClassification.forward`,  you can safely ignore this message.\n",
      "***** Running Evaluation *****\n",
      "  Num examples = 60000\n",
      "  Batch size = 32\n",
      "D:\\Software\\Anaconda3\\envs\\pytorch\\lib\\site-packages\\sklearn\\metrics\\_classification.py:1248: UndefinedMetricWarning: Precision and F-score are ill-defined and being set to 0.0 in labels with no predicted samples. Use `zero_division` parameter to control this behavior.\n",
      "  _warn_prf(average, modifier, msg_start, len(result))\n"
     ]
    },
    {
     "name": "stderr",
     "output_type": "stream",
     "text": [
      "The following columns in the evaluation set don't have a corresponding argument in `DistilBertForSequenceClassification.forward` and have been ignored: content, label_1, Column1, label_2, preprocessed, game_id. If content, label_1, Column1, label_2, preprocessed, game_id are not expected by `DistilBertForSequenceClassification.forward`,  you can safely ignore this message.\n",
      "***** Running Evaluation *****\n",
      "  Num examples = 60000\n",
      "  Batch size = 32\n",
      "D:\\Software\\Anaconda3\\envs\\pytorch\\lib\\site-packages\\sklearn\\metrics\\_classification.py:1248: UndefinedMetricWarning: Precision and F-score are ill-defined and being set to 0.0 in labels with no predicted samples. Use `zero_division` parameter to control this behavior.\n",
      "  _warn_prf(average, modifier, msg_start, len(result))\n",
      "The following columns in the evaluation set don't have a corresponding argument in `DistilBertForSequenceClassification.forward` and have been ignored: content, label_1, Column1, label_2, preprocessed, game_id. If content, label_1, Column1, label_2, preprocessed, game_id are not expected by `DistilBertForSequenceClassification.forward`,  you can safely ignore this message.\n",
      "***** Running Evaluation *****\n",
      "  Num examples = 60000\n",
      "  Batch size = 32\n",
      "D:\\Software\\Anaconda3\\envs\\pytorch\\lib\\site-packages\\sklearn\\metrics\\_classification.py:1248: UndefinedMetricWarning: Precision and F-score are ill-defined and being set to 0.0 in labels with no predicted samples. Use `zero_division` parameter to control this behavior.\n",
      "  _warn_prf(average, modifier, msg_start, len(result))\n",
      "The following columns in the evaluation set don't have a corresponding argument in `DistilBertForSequenceClassification.forward` and have been ignored: content, label_1, Column1, label_2, preprocessed, game_id. If content, label_1, Column1, label_2, preprocessed, game_id are not expected by `DistilBertForSequenceClassification.forward`,  you can safely ignore this message.\n",
      "***** Running Evaluation *****\n",
      "  Num examples = 60000\n",
      "  Batch size = 32\n",
      "D:\\Software\\Anaconda3\\envs\\pytorch\\lib\\site-packages\\sklearn\\metrics\\_classification.py:1248: UndefinedMetricWarning: Precision and F-score are ill-defined and being set to 0.0 in labels with no predicted samples. Use `zero_division` parameter to control this behavior.\n",
      "  _warn_prf(average, modifier, msg_start, len(result))\n",
      "The following columns in the evaluation set don't have a corresponding argument in `DistilBertForSequenceClassification.forward` and have been ignored: content, label_1, Column1, label_2, preprocessed, game_id. If content, label_1, Column1, label_2, preprocessed, game_id are not expected by `DistilBertForSequenceClassification.forward`,  you can safely ignore this message.\n",
      "***** Running Evaluation *****\n",
      "  Num examples = 60000\n",
      "  Batch size = 32\n",
      "D:\\Software\\Anaconda3\\envs\\pytorch\\lib\\site-packages\\sklearn\\metrics\\_classification.py:1248: UndefinedMetricWarning: Precision and F-score are ill-defined and being set to 0.0 in labels with no predicted samples. Use `zero_division` parameter to control this behavior.\n",
      "  _warn_prf(average, modifier, msg_start, len(result))\n",
      "Saving model checkpoint to ./sentimentbinaryresults\\checkpoint-2000\n",
      "Configuration saved in ./sentimentbinaryresults\\checkpoint-2000\\config.json\n",
      "Model weights saved in ./sentimentbinaryresults\\checkpoint-2000\\pytorch_model.bin\n",
      "The following columns in the evaluation set don't have a corresponding argument in `DistilBertForSequenceClassification.forward` and have been ignored: content, label_1, Column1, label_2, preprocessed, game_id. If content, label_1, Column1, label_2, preprocessed, game_id are not expected by `DistilBertForSequenceClassification.forward`,  you can safely ignore this message.\n",
      "***** Running Evaluation *****\n",
      "  Num examples = 60000\n",
      "  Batch size = 32\n",
      "D:\\Software\\Anaconda3\\envs\\pytorch\\lib\\site-packages\\sklearn\\metrics\\_classification.py:1248: UndefinedMetricWarning: Precision and F-score are ill-defined and being set to 0.0 in labels with no predicted samples. Use `zero_division` parameter to control this behavior.\n",
      "  _warn_prf(average, modifier, msg_start, len(result))\n",
      "The following columns in the evaluation set don't have a corresponding argument in `DistilBertForSequenceClassification.forward` and have been ignored: content, label_1, Column1, label_2, preprocessed, game_id. If content, label_1, Column1, label_2, preprocessed, game_id are not expected by `DistilBertForSequenceClassification.forward`,  you can safely ignore this message.\n",
      "***** Running Evaluation *****\n",
      "  Num examples = 60000\n",
      "  Batch size = 32\n",
      "D:\\Software\\Anaconda3\\envs\\pytorch\\lib\\site-packages\\sklearn\\metrics\\_classification.py:1248: UndefinedMetricWarning: Precision and F-score are ill-defined and being set to 0.0 in labels with no predicted samples. Use `zero_division` parameter to control this behavior.\n",
      "  _warn_prf(average, modifier, msg_start, len(result))\n",
      "The following columns in the evaluation set don't have a corresponding argument in `DistilBertForSequenceClassification.forward` and have been ignored: content, label_1, Column1, label_2, preprocessed, game_id. If content, label_1, Column1, label_2, preprocessed, game_id are not expected by `DistilBertForSequenceClassification.forward`,  you can safely ignore this message.\n",
      "***** Running Evaluation *****\n",
      "  Num examples = 60000\n",
      "  Batch size = 32\n",
      "D:\\Software\\Anaconda3\\envs\\pytorch\\lib\\site-packages\\sklearn\\metrics\\_classification.py:1248: UndefinedMetricWarning: Precision and F-score are ill-defined and being set to 0.0 in labels with no predicted samples. Use `zero_division` parameter to control this behavior.\n",
      "  _warn_prf(average, modifier, msg_start, len(result))\n",
      "The following columns in the evaluation set don't have a corresponding argument in `DistilBertForSequenceClassification.forward` and have been ignored: content, label_1, Column1, label_2, preprocessed, game_id. If content, label_1, Column1, label_2, preprocessed, game_id are not expected by `DistilBertForSequenceClassification.forward`,  you can safely ignore this message.\n",
      "***** Running Evaluation *****\n",
      "  Num examples = 60000\n",
      "  Batch size = 32\n",
      "D:\\Software\\Anaconda3\\envs\\pytorch\\lib\\site-packages\\sklearn\\metrics\\_classification.py:1248: UndefinedMetricWarning: Precision and F-score are ill-defined and being set to 0.0 in labels with no predicted samples. Use `zero_division` parameter to control this behavior.\n",
      "  _warn_prf(average, modifier, msg_start, len(result))\n",
      "The following columns in the evaluation set don't have a corresponding argument in `DistilBertForSequenceClassification.forward` and have been ignored: content, label_1, Column1, label_2, preprocessed, game_id. If content, label_1, Column1, label_2, preprocessed, game_id are not expected by `DistilBertForSequenceClassification.forward`,  you can safely ignore this message.\n",
      "***** Running Evaluation *****\n",
      "  Num examples = 60000\n",
      "  Batch size = 32\n",
      "D:\\Software\\Anaconda3\\envs\\pytorch\\lib\\site-packages\\sklearn\\metrics\\_classification.py:1248: UndefinedMetricWarning: Precision and F-score are ill-defined and being set to 0.0 in labels with no predicted samples. Use `zero_division` parameter to control this behavior.\n",
      "  _warn_prf(average, modifier, msg_start, len(result))\n",
      "Saving model checkpoint to ./sentimentbinaryresults\\checkpoint-2500\n",
      "Configuration saved in ./sentimentbinaryresults\\checkpoint-2500\\config.json\n",
      "Model weights saved in ./sentimentbinaryresults\\checkpoint-2500\\pytorch_model.bin\n",
      "The following columns in the evaluation set don't have a corresponding argument in `DistilBertForSequenceClassification.forward` and have been ignored: content, label_1, Column1, label_2, preprocessed, game_id. If content, label_1, Column1, label_2, preprocessed, game_id are not expected by `DistilBertForSequenceClassification.forward`,  you can safely ignore this message.\n",
      "***** Running Evaluation *****\n",
      "  Num examples = 60000\n",
      "  Batch size = 32\n",
      "D:\\Software\\Anaconda3\\envs\\pytorch\\lib\\site-packages\\sklearn\\metrics\\_classification.py:1248: UndefinedMetricWarning: Precision and F-score are ill-defined and being set to 0.0 in labels with no predicted samples. Use `zero_division` parameter to control this behavior.\n",
      "  _warn_prf(average, modifier, msg_start, len(result))\n",
      "The following columns in the evaluation set don't have a corresponding argument in `DistilBertForSequenceClassification.forward` and have been ignored: content, label_1, Column1, label_2, preprocessed, game_id. If content, label_1, Column1, label_2, preprocessed, game_id are not expected by `DistilBertForSequenceClassification.forward`,  you can safely ignore this message.\n"
     ]
    },
    {
     "name": "stderr",
     "output_type": "stream",
     "text": [
      "***** Running Evaluation *****\n",
      "  Num examples = 60000\n",
      "  Batch size = 32\n",
      "D:\\Software\\Anaconda3\\envs\\pytorch\\lib\\site-packages\\sklearn\\metrics\\_classification.py:1248: UndefinedMetricWarning: Precision and F-score are ill-defined and being set to 0.0 in labels with no predicted samples. Use `zero_division` parameter to control this behavior.\n",
      "  _warn_prf(average, modifier, msg_start, len(result))\n",
      "The following columns in the evaluation set don't have a corresponding argument in `DistilBertForSequenceClassification.forward` and have been ignored: content, label_1, Column1, label_2, preprocessed, game_id. If content, label_1, Column1, label_2, preprocessed, game_id are not expected by `DistilBertForSequenceClassification.forward`,  you can safely ignore this message.\n",
      "***** Running Evaluation *****\n",
      "  Num examples = 60000\n",
      "  Batch size = 32\n",
      "D:\\Software\\Anaconda3\\envs\\pytorch\\lib\\site-packages\\sklearn\\metrics\\_classification.py:1248: UndefinedMetricWarning: Precision and F-score are ill-defined and being set to 0.0 in labels with no predicted samples. Use `zero_division` parameter to control this behavior.\n",
      "  _warn_prf(average, modifier, msg_start, len(result))\n",
      "The following columns in the evaluation set don't have a corresponding argument in `DistilBertForSequenceClassification.forward` and have been ignored: content, label_1, Column1, label_2, preprocessed, game_id. If content, label_1, Column1, label_2, preprocessed, game_id are not expected by `DistilBertForSequenceClassification.forward`,  you can safely ignore this message.\n",
      "***** Running Evaluation *****\n",
      "  Num examples = 60000\n",
      "  Batch size = 32\n",
      "D:\\Software\\Anaconda3\\envs\\pytorch\\lib\\site-packages\\sklearn\\metrics\\_classification.py:1248: UndefinedMetricWarning: Precision and F-score are ill-defined and being set to 0.0 in labels with no predicted samples. Use `zero_division` parameter to control this behavior.\n",
      "  _warn_prf(average, modifier, msg_start, len(result))\n",
      "The following columns in the evaluation set don't have a corresponding argument in `DistilBertForSequenceClassification.forward` and have been ignored: content, label_1, Column1, label_2, preprocessed, game_id. If content, label_1, Column1, label_2, preprocessed, game_id are not expected by `DistilBertForSequenceClassification.forward`,  you can safely ignore this message.\n",
      "***** Running Evaluation *****\n",
      "  Num examples = 60000\n",
      "  Batch size = 32\n",
      "D:\\Software\\Anaconda3\\envs\\pytorch\\lib\\site-packages\\sklearn\\metrics\\_classification.py:1248: UndefinedMetricWarning: Precision and F-score are ill-defined and being set to 0.0 in labels with no predicted samples. Use `zero_division` parameter to control this behavior.\n",
      "  _warn_prf(average, modifier, msg_start, len(result))\n",
      "Saving model checkpoint to ./sentimentbinaryresults\\checkpoint-3000\n",
      "Configuration saved in ./sentimentbinaryresults\\checkpoint-3000\\config.json\n",
      "Model weights saved in ./sentimentbinaryresults\\checkpoint-3000\\pytorch_model.bin\n",
      "The following columns in the evaluation set don't have a corresponding argument in `DistilBertForSequenceClassification.forward` and have been ignored: content, label_1, Column1, label_2, preprocessed, game_id. If content, label_1, Column1, label_2, preprocessed, game_id are not expected by `DistilBertForSequenceClassification.forward`,  you can safely ignore this message.\n",
      "***** Running Evaluation *****\n",
      "  Num examples = 60000\n",
      "  Batch size = 32\n",
      "D:\\Software\\Anaconda3\\envs\\pytorch\\lib\\site-packages\\sklearn\\metrics\\_classification.py:1248: UndefinedMetricWarning: Precision and F-score are ill-defined and being set to 0.0 in labels with no predicted samples. Use `zero_division` parameter to control this behavior.\n",
      "  _warn_prf(average, modifier, msg_start, len(result))\n",
      "The following columns in the evaluation set don't have a corresponding argument in `DistilBertForSequenceClassification.forward` and have been ignored: content, label_1, Column1, label_2, preprocessed, game_id. If content, label_1, Column1, label_2, preprocessed, game_id are not expected by `DistilBertForSequenceClassification.forward`,  you can safely ignore this message.\n",
      "***** Running Evaluation *****\n",
      "  Num examples = 60000\n",
      "  Batch size = 32\n",
      "D:\\Software\\Anaconda3\\envs\\pytorch\\lib\\site-packages\\sklearn\\metrics\\_classification.py:1248: UndefinedMetricWarning: Precision and F-score are ill-defined and being set to 0.0 in labels with no predicted samples. Use `zero_division` parameter to control this behavior.\n",
      "  _warn_prf(average, modifier, msg_start, len(result))\n",
      "The following columns in the evaluation set don't have a corresponding argument in `DistilBertForSequenceClassification.forward` and have been ignored: content, label_1, Column1, label_2, preprocessed, game_id. If content, label_1, Column1, label_2, preprocessed, game_id are not expected by `DistilBertForSequenceClassification.forward`,  you can safely ignore this message.\n",
      "***** Running Evaluation *****\n",
      "  Num examples = 60000\n",
      "  Batch size = 32\n",
      "D:\\Software\\Anaconda3\\envs\\pytorch\\lib\\site-packages\\sklearn\\metrics\\_classification.py:1248: UndefinedMetricWarning: Precision and F-score are ill-defined and being set to 0.0 in labels with no predicted samples. Use `zero_division` parameter to control this behavior.\n",
      "  _warn_prf(average, modifier, msg_start, len(result))\n",
      "The following columns in the evaluation set don't have a corresponding argument in `DistilBertForSequenceClassification.forward` and have been ignored: content, label_1, Column1, label_2, preprocessed, game_id. If content, label_1, Column1, label_2, preprocessed, game_id are not expected by `DistilBertForSequenceClassification.forward`,  you can safely ignore this message.\n",
      "***** Running Evaluation *****\n",
      "  Num examples = 60000\n",
      "  Batch size = 32\n",
      "D:\\Software\\Anaconda3\\envs\\pytorch\\lib\\site-packages\\sklearn\\metrics\\_classification.py:1248: UndefinedMetricWarning: Precision and F-score are ill-defined and being set to 0.0 in labels with no predicted samples. Use `zero_division` parameter to control this behavior.\n",
      "  _warn_prf(average, modifier, msg_start, len(result))\n",
      "The following columns in the evaluation set don't have a corresponding argument in `DistilBertForSequenceClassification.forward` and have been ignored: content, label_1, Column1, label_2, preprocessed, game_id. If content, label_1, Column1, label_2, preprocessed, game_id are not expected by `DistilBertForSequenceClassification.forward`,  you can safely ignore this message.\n",
      "***** Running Evaluation *****\n",
      "  Num examples = 60000\n",
      "  Batch size = 32\n",
      "D:\\Software\\Anaconda3\\envs\\pytorch\\lib\\site-packages\\sklearn\\metrics\\_classification.py:1248: UndefinedMetricWarning: Precision and F-score are ill-defined and being set to 0.0 in labels with no predicted samples. Use `zero_division` parameter to control this behavior.\n",
      "  _warn_prf(average, modifier, msg_start, len(result))\n",
      "Saving model checkpoint to ./sentimentbinaryresults\\checkpoint-3500\n",
      "Configuration saved in ./sentimentbinaryresults\\checkpoint-3500\\config.json\n",
      "Model weights saved in ./sentimentbinaryresults\\checkpoint-3500\\pytorch_model.bin\n",
      "The following columns in the evaluation set don't have a corresponding argument in `DistilBertForSequenceClassification.forward` and have been ignored: content, label_1, Column1, label_2, preprocessed, game_id. If content, label_1, Column1, label_2, preprocessed, game_id are not expected by `DistilBertForSequenceClassification.forward`,  you can safely ignore this message.\n",
      "***** Running Evaluation *****\n",
      "  Num examples = 60000\n",
      "  Batch size = 32\n",
      "D:\\Software\\Anaconda3\\envs\\pytorch\\lib\\site-packages\\sklearn\\metrics\\_classification.py:1248: UndefinedMetricWarning: Precision and F-score are ill-defined and being set to 0.0 in labels with no predicted samples. Use `zero_division` parameter to control this behavior.\n",
      "  _warn_prf(average, modifier, msg_start, len(result))\n",
      "The following columns in the evaluation set don't have a corresponding argument in `DistilBertForSequenceClassification.forward` and have been ignored: content, label_1, Column1, label_2, preprocessed, game_id. If content, label_1, Column1, label_2, preprocessed, game_id are not expected by `DistilBertForSequenceClassification.forward`,  you can safely ignore this message.\n",
      "***** Running Evaluation *****\n"
     ]
    },
    {
     "name": "stderr",
     "output_type": "stream",
     "text": [
      "  Num examples = 60000\n",
      "  Batch size = 32\n",
      "D:\\Software\\Anaconda3\\envs\\pytorch\\lib\\site-packages\\sklearn\\metrics\\_classification.py:1248: UndefinedMetricWarning: Precision and F-score are ill-defined and being set to 0.0 in labels with no predicted samples. Use `zero_division` parameter to control this behavior.\n",
      "  _warn_prf(average, modifier, msg_start, len(result))\n",
      "The following columns in the evaluation set don't have a corresponding argument in `DistilBertForSequenceClassification.forward` and have been ignored: content, label_1, Column1, label_2, preprocessed, game_id. If content, label_1, Column1, label_2, preprocessed, game_id are not expected by `DistilBertForSequenceClassification.forward`,  you can safely ignore this message.\n",
      "***** Running Evaluation *****\n",
      "  Num examples = 60000\n",
      "  Batch size = 32\n",
      "D:\\Software\\Anaconda3\\envs\\pytorch\\lib\\site-packages\\sklearn\\metrics\\_classification.py:1248: UndefinedMetricWarning: Precision and F-score are ill-defined and being set to 0.0 in labels with no predicted samples. Use `zero_division` parameter to control this behavior.\n",
      "  _warn_prf(average, modifier, msg_start, len(result))\n",
      "The following columns in the evaluation set don't have a corresponding argument in `DistilBertForSequenceClassification.forward` and have been ignored: content, label_1, Column1, label_2, preprocessed, game_id. If content, label_1, Column1, label_2, preprocessed, game_id are not expected by `DistilBertForSequenceClassification.forward`,  you can safely ignore this message.\n",
      "***** Running Evaluation *****\n",
      "  Num examples = 60000\n",
      "  Batch size = 32\n",
      "D:\\Software\\Anaconda3\\envs\\pytorch\\lib\\site-packages\\sklearn\\metrics\\_classification.py:1248: UndefinedMetricWarning: Precision and F-score are ill-defined and being set to 0.0 in labels with no predicted samples. Use `zero_division` parameter to control this behavior.\n",
      "  _warn_prf(average, modifier, msg_start, len(result))\n",
      "The following columns in the evaluation set don't have a corresponding argument in `DistilBertForSequenceClassification.forward` and have been ignored: content, label_1, Column1, label_2, preprocessed, game_id. If content, label_1, Column1, label_2, preprocessed, game_id are not expected by `DistilBertForSequenceClassification.forward`,  you can safely ignore this message.\n",
      "***** Running Evaluation *****\n",
      "  Num examples = 60000\n",
      "  Batch size = 32\n",
      "D:\\Software\\Anaconda3\\envs\\pytorch\\lib\\site-packages\\sklearn\\metrics\\_classification.py:1248: UndefinedMetricWarning: Precision and F-score are ill-defined and being set to 0.0 in labels with no predicted samples. Use `zero_division` parameter to control this behavior.\n",
      "  _warn_prf(average, modifier, msg_start, len(result))\n",
      "Saving model checkpoint to ./sentimentbinaryresults\\checkpoint-4000\n",
      "Configuration saved in ./sentimentbinaryresults\\checkpoint-4000\\config.json\n",
      "Model weights saved in ./sentimentbinaryresults\\checkpoint-4000\\pytorch_model.bin\n",
      "The following columns in the evaluation set don't have a corresponding argument in `DistilBertForSequenceClassification.forward` and have been ignored: content, label_1, Column1, label_2, preprocessed, game_id. If content, label_1, Column1, label_2, preprocessed, game_id are not expected by `DistilBertForSequenceClassification.forward`,  you can safely ignore this message.\n",
      "***** Running Evaluation *****\n",
      "  Num examples = 60000\n",
      "  Batch size = 32\n",
      "D:\\Software\\Anaconda3\\envs\\pytorch\\lib\\site-packages\\sklearn\\metrics\\_classification.py:1248: UndefinedMetricWarning: Precision and F-score are ill-defined and being set to 0.0 in labels with no predicted samples. Use `zero_division` parameter to control this behavior.\n",
      "  _warn_prf(average, modifier, msg_start, len(result))\n",
      "The following columns in the evaluation set don't have a corresponding argument in `DistilBertForSequenceClassification.forward` and have been ignored: content, label_1, Column1, label_2, preprocessed, game_id. If content, label_1, Column1, label_2, preprocessed, game_id are not expected by `DistilBertForSequenceClassification.forward`,  you can safely ignore this message.\n",
      "***** Running Evaluation *****\n",
      "  Num examples = 60000\n",
      "  Batch size = 32\n",
      "D:\\Software\\Anaconda3\\envs\\pytorch\\lib\\site-packages\\sklearn\\metrics\\_classification.py:1248: UndefinedMetricWarning: Precision and F-score are ill-defined and being set to 0.0 in labels with no predicted samples. Use `zero_division` parameter to control this behavior.\n",
      "  _warn_prf(average, modifier, msg_start, len(result))\n",
      "The following columns in the evaluation set don't have a corresponding argument in `DistilBertForSequenceClassification.forward` and have been ignored: content, label_1, Column1, label_2, preprocessed, game_id. If content, label_1, Column1, label_2, preprocessed, game_id are not expected by `DistilBertForSequenceClassification.forward`,  you can safely ignore this message.\n",
      "***** Running Evaluation *****\n",
      "  Num examples = 60000\n",
      "  Batch size = 32\n",
      "D:\\Software\\Anaconda3\\envs\\pytorch\\lib\\site-packages\\sklearn\\metrics\\_classification.py:1248: UndefinedMetricWarning: Precision and F-score are ill-defined and being set to 0.0 in labels with no predicted samples. Use `zero_division` parameter to control this behavior.\n",
      "  _warn_prf(average, modifier, msg_start, len(result))\n",
      "The following columns in the evaluation set don't have a corresponding argument in `DistilBertForSequenceClassification.forward` and have been ignored: content, label_1, Column1, label_2, preprocessed, game_id. If content, label_1, Column1, label_2, preprocessed, game_id are not expected by `DistilBertForSequenceClassification.forward`,  you can safely ignore this message.\n",
      "***** Running Evaluation *****\n",
      "  Num examples = 60000\n",
      "  Batch size = 32\n",
      "D:\\Software\\Anaconda3\\envs\\pytorch\\lib\\site-packages\\sklearn\\metrics\\_classification.py:1248: UndefinedMetricWarning: Precision and F-score are ill-defined and being set to 0.0 in labels with no predicted samples. Use `zero_division` parameter to control this behavior.\n",
      "  _warn_prf(average, modifier, msg_start, len(result))\n",
      "The following columns in the evaluation set don't have a corresponding argument in `DistilBertForSequenceClassification.forward` and have been ignored: content, label_1, Column1, label_2, preprocessed, game_id. If content, label_1, Column1, label_2, preprocessed, game_id are not expected by `DistilBertForSequenceClassification.forward`,  you can safely ignore this message.\n",
      "***** Running Evaluation *****\n",
      "  Num examples = 60000\n",
      "  Batch size = 32\n",
      "D:\\Software\\Anaconda3\\envs\\pytorch\\lib\\site-packages\\sklearn\\metrics\\_classification.py:1248: UndefinedMetricWarning: Precision and F-score are ill-defined and being set to 0.0 in labels with no predicted samples. Use `zero_division` parameter to control this behavior.\n",
      "  _warn_prf(average, modifier, msg_start, len(result))\n",
      "Saving model checkpoint to ./sentimentbinaryresults\\checkpoint-4500\n",
      "Configuration saved in ./sentimentbinaryresults\\checkpoint-4500\\config.json\n",
      "Model weights saved in ./sentimentbinaryresults\\checkpoint-4500\\pytorch_model.bin\n",
      "The following columns in the evaluation set don't have a corresponding argument in `DistilBertForSequenceClassification.forward` and have been ignored: content, label_1, Column1, label_2, preprocessed, game_id. If content, label_1, Column1, label_2, preprocessed, game_id are not expected by `DistilBertForSequenceClassification.forward`,  you can safely ignore this message.\n",
      "***** Running Evaluation *****\n",
      "  Num examples = 60000\n",
      "  Batch size = 32\n",
      "D:\\Software\\Anaconda3\\envs\\pytorch\\lib\\site-packages\\sklearn\\metrics\\_classification.py:1248: UndefinedMetricWarning: Precision and F-score are ill-defined and being set to 0.0 in labels with no predicted samples. Use `zero_division` parameter to control this behavior.\n",
      "  _warn_prf(average, modifier, msg_start, len(result))\n",
      "The following columns in the evaluation set don't have a corresponding argument in `DistilBertForSequenceClassification.forward` and have been ignored: content, label_1, Column1, label_2, preprocessed, game_id. If content, label_1, Column1, label_2, preprocessed, game_id are not expected by `DistilBertForSequenceClassification.forward`,  you can safely ignore this message.\n",
      "***** Running Evaluation *****\n",
      "  Num examples = 60000\n"
     ]
    },
    {
     "name": "stderr",
     "output_type": "stream",
     "text": [
      "  Batch size = 32\n",
      "D:\\Software\\Anaconda3\\envs\\pytorch\\lib\\site-packages\\sklearn\\metrics\\_classification.py:1248: UndefinedMetricWarning: Precision and F-score are ill-defined and being set to 0.0 in labels with no predicted samples. Use `zero_division` parameter to control this behavior.\n",
      "  _warn_prf(average, modifier, msg_start, len(result))\n",
      "The following columns in the evaluation set don't have a corresponding argument in `DistilBertForSequenceClassification.forward` and have been ignored: content, label_1, Column1, label_2, preprocessed, game_id. If content, label_1, Column1, label_2, preprocessed, game_id are not expected by `DistilBertForSequenceClassification.forward`,  you can safely ignore this message.\n",
      "***** Running Evaluation *****\n",
      "  Num examples = 60000\n",
      "  Batch size = 32\n",
      "D:\\Software\\Anaconda3\\envs\\pytorch\\lib\\site-packages\\sklearn\\metrics\\_classification.py:1248: UndefinedMetricWarning: Precision and F-score are ill-defined and being set to 0.0 in labels with no predicted samples. Use `zero_division` parameter to control this behavior.\n",
      "  _warn_prf(average, modifier, msg_start, len(result))\n",
      "The following columns in the evaluation set don't have a corresponding argument in `DistilBertForSequenceClassification.forward` and have been ignored: content, label_1, Column1, label_2, preprocessed, game_id. If content, label_1, Column1, label_2, preprocessed, game_id are not expected by `DistilBertForSequenceClassification.forward`,  you can safely ignore this message.\n",
      "***** Running Evaluation *****\n",
      "  Num examples = 60000\n",
      "  Batch size = 32\n",
      "D:\\Software\\Anaconda3\\envs\\pytorch\\lib\\site-packages\\sklearn\\metrics\\_classification.py:1248: UndefinedMetricWarning: Precision and F-score are ill-defined and being set to 0.0 in labels with no predicted samples. Use `zero_division` parameter to control this behavior.\n",
      "  _warn_prf(average, modifier, msg_start, len(result))\n",
      "The following columns in the evaluation set don't have a corresponding argument in `DistilBertForSequenceClassification.forward` and have been ignored: content, label_1, Column1, label_2, preprocessed, game_id. If content, label_1, Column1, label_2, preprocessed, game_id are not expected by `DistilBertForSequenceClassification.forward`,  you can safely ignore this message.\n",
      "***** Running Evaluation *****\n",
      "  Num examples = 60000\n",
      "  Batch size = 32\n",
      "D:\\Software\\Anaconda3\\envs\\pytorch\\lib\\site-packages\\sklearn\\metrics\\_classification.py:1248: UndefinedMetricWarning: Precision and F-score are ill-defined and being set to 0.0 in labels with no predicted samples. Use `zero_division` parameter to control this behavior.\n",
      "  _warn_prf(average, modifier, msg_start, len(result))\n",
      "Saving model checkpoint to ./sentimentbinaryresults\\checkpoint-5000\n",
      "Configuration saved in ./sentimentbinaryresults\\checkpoint-5000\\config.json\n",
      "Model weights saved in ./sentimentbinaryresults\\checkpoint-5000\\pytorch_model.bin\n",
      "The following columns in the evaluation set don't have a corresponding argument in `DistilBertForSequenceClassification.forward` and have been ignored: content, label_1, Column1, label_2, preprocessed, game_id. If content, label_1, Column1, label_2, preprocessed, game_id are not expected by `DistilBertForSequenceClassification.forward`,  you can safely ignore this message.\n",
      "***** Running Evaluation *****\n",
      "  Num examples = 60000\n",
      "  Batch size = 32\n",
      "D:\\Software\\Anaconda3\\envs\\pytorch\\lib\\site-packages\\sklearn\\metrics\\_classification.py:1248: UndefinedMetricWarning: Precision and F-score are ill-defined and being set to 0.0 in labels with no predicted samples. Use `zero_division` parameter to control this behavior.\n",
      "  _warn_prf(average, modifier, msg_start, len(result))\n",
      "The following columns in the evaluation set don't have a corresponding argument in `DistilBertForSequenceClassification.forward` and have been ignored: content, label_1, Column1, label_2, preprocessed, game_id. If content, label_1, Column1, label_2, preprocessed, game_id are not expected by `DistilBertForSequenceClassification.forward`,  you can safely ignore this message.\n",
      "***** Running Evaluation *****\n",
      "  Num examples = 60000\n",
      "  Batch size = 32\n",
      "D:\\Software\\Anaconda3\\envs\\pytorch\\lib\\site-packages\\sklearn\\metrics\\_classification.py:1248: UndefinedMetricWarning: Precision and F-score are ill-defined and being set to 0.0 in labels with no predicted samples. Use `zero_division` parameter to control this behavior.\n",
      "  _warn_prf(average, modifier, msg_start, len(result))\n",
      "The following columns in the evaluation set don't have a corresponding argument in `DistilBertForSequenceClassification.forward` and have been ignored: content, label_1, Column1, label_2, preprocessed, game_id. If content, label_1, Column1, label_2, preprocessed, game_id are not expected by `DistilBertForSequenceClassification.forward`,  you can safely ignore this message.\n",
      "***** Running Evaluation *****\n",
      "  Num examples = 60000\n",
      "  Batch size = 32\n",
      "D:\\Software\\Anaconda3\\envs\\pytorch\\lib\\site-packages\\sklearn\\metrics\\_classification.py:1248: UndefinedMetricWarning: Precision and F-score are ill-defined and being set to 0.0 in labels with no predicted samples. Use `zero_division` parameter to control this behavior.\n",
      "  _warn_prf(average, modifier, msg_start, len(result))\n",
      "The following columns in the evaluation set don't have a corresponding argument in `DistilBertForSequenceClassification.forward` and have been ignored: content, label_1, Column1, label_2, preprocessed, game_id. If content, label_1, Column1, label_2, preprocessed, game_id are not expected by `DistilBertForSequenceClassification.forward`,  you can safely ignore this message.\n",
      "***** Running Evaluation *****\n",
      "  Num examples = 60000\n",
      "  Batch size = 32\n",
      "D:\\Software\\Anaconda3\\envs\\pytorch\\lib\\site-packages\\sklearn\\metrics\\_classification.py:1248: UndefinedMetricWarning: Precision and F-score are ill-defined and being set to 0.0 in labels with no predicted samples. Use `zero_division` parameter to control this behavior.\n",
      "  _warn_prf(average, modifier, msg_start, len(result))\n",
      "The following columns in the evaluation set don't have a corresponding argument in `DistilBertForSequenceClassification.forward` and have been ignored: content, label_1, Column1, label_2, preprocessed, game_id. If content, label_1, Column1, label_2, preprocessed, game_id are not expected by `DistilBertForSequenceClassification.forward`,  you can safely ignore this message.\n",
      "***** Running Evaluation *****\n",
      "  Num examples = 60000\n",
      "  Batch size = 32\n",
      "D:\\Software\\Anaconda3\\envs\\pytorch\\lib\\site-packages\\sklearn\\metrics\\_classification.py:1248: UndefinedMetricWarning: Precision and F-score are ill-defined and being set to 0.0 in labels with no predicted samples. Use `zero_division` parameter to control this behavior.\n",
      "  _warn_prf(average, modifier, msg_start, len(result))\n",
      "Saving model checkpoint to ./sentimentbinaryresults\\checkpoint-5500\n",
      "Configuration saved in ./sentimentbinaryresults\\checkpoint-5500\\config.json\n",
      "Model weights saved in ./sentimentbinaryresults\\checkpoint-5500\\pytorch_model.bin\n",
      "The following columns in the evaluation set don't have a corresponding argument in `DistilBertForSequenceClassification.forward` and have been ignored: content, label_1, Column1, label_2, preprocessed, game_id. If content, label_1, Column1, label_2, preprocessed, game_id are not expected by `DistilBertForSequenceClassification.forward`,  you can safely ignore this message.\n",
      "***** Running Evaluation *****\n",
      "  Num examples = 60000\n",
      "  Batch size = 32\n",
      "D:\\Software\\Anaconda3\\envs\\pytorch\\lib\\site-packages\\sklearn\\metrics\\_classification.py:1248: UndefinedMetricWarning: Precision and F-score are ill-defined and being set to 0.0 in labels with no predicted samples. Use `zero_division` parameter to control this behavior.\n",
      "  _warn_prf(average, modifier, msg_start, len(result))\n",
      "The following columns in the evaluation set don't have a corresponding argument in `DistilBertForSequenceClassification.forward` and have been ignored: content, label_1, Column1, label_2, preprocessed, game_id. If content, label_1, Column1, label_2, preprocessed, game_id are not expected by `DistilBertForSequenceClassification.forward`,  you can safely ignore this message.\n",
      "***** Running Evaluation *****\n",
      "  Num examples = 60000\n",
      "  Batch size = 32\n"
     ]
    },
    {
     "name": "stderr",
     "output_type": "stream",
     "text": [
      "D:\\Software\\Anaconda3\\envs\\pytorch\\lib\\site-packages\\sklearn\\metrics\\_classification.py:1248: UndefinedMetricWarning: Precision and F-score are ill-defined and being set to 0.0 in labels with no predicted samples. Use `zero_division` parameter to control this behavior.\n",
      "  _warn_prf(average, modifier, msg_start, len(result))\n",
      "The following columns in the evaluation set don't have a corresponding argument in `DistilBertForSequenceClassification.forward` and have been ignored: content, label_1, Column1, label_2, preprocessed, game_id. If content, label_1, Column1, label_2, preprocessed, game_id are not expected by `DistilBertForSequenceClassification.forward`,  you can safely ignore this message.\n",
      "***** Running Evaluation *****\n",
      "  Num examples = 60000\n",
      "  Batch size = 32\n",
      "D:\\Software\\Anaconda3\\envs\\pytorch\\lib\\site-packages\\sklearn\\metrics\\_classification.py:1248: UndefinedMetricWarning: Precision and F-score are ill-defined and being set to 0.0 in labels with no predicted samples. Use `zero_division` parameter to control this behavior.\n",
      "  _warn_prf(average, modifier, msg_start, len(result))\n",
      "The following columns in the evaluation set don't have a corresponding argument in `DistilBertForSequenceClassification.forward` and have been ignored: content, label_1, Column1, label_2, preprocessed, game_id. If content, label_1, Column1, label_2, preprocessed, game_id are not expected by `DistilBertForSequenceClassification.forward`,  you can safely ignore this message.\n",
      "***** Running Evaluation *****\n",
      "  Num examples = 60000\n",
      "  Batch size = 32\n",
      "D:\\Software\\Anaconda3\\envs\\pytorch\\lib\\site-packages\\sklearn\\metrics\\_classification.py:1248: UndefinedMetricWarning: Precision and F-score are ill-defined and being set to 0.0 in labels with no predicted samples. Use `zero_division` parameter to control this behavior.\n",
      "  _warn_prf(average, modifier, msg_start, len(result))\n",
      "The following columns in the evaluation set don't have a corresponding argument in `DistilBertForSequenceClassification.forward` and have been ignored: content, label_1, Column1, label_2, preprocessed, game_id. If content, label_1, Column1, label_2, preprocessed, game_id are not expected by `DistilBertForSequenceClassification.forward`,  you can safely ignore this message.\n",
      "***** Running Evaluation *****\n",
      "  Num examples = 60000\n",
      "  Batch size = 32\n",
      "D:\\Software\\Anaconda3\\envs\\pytorch\\lib\\site-packages\\sklearn\\metrics\\_classification.py:1248: UndefinedMetricWarning: Precision and F-score are ill-defined and being set to 0.0 in labels with no predicted samples. Use `zero_division` parameter to control this behavior.\n",
      "  _warn_prf(average, modifier, msg_start, len(result))\n",
      "Saving model checkpoint to ./sentimentbinaryresults\\checkpoint-6000\n",
      "Configuration saved in ./sentimentbinaryresults\\checkpoint-6000\\config.json\n",
      "Model weights saved in ./sentimentbinaryresults\\checkpoint-6000\\pytorch_model.bin\n",
      "The following columns in the evaluation set don't have a corresponding argument in `DistilBertForSequenceClassification.forward` and have been ignored: content, label_1, Column1, label_2, preprocessed, game_id. If content, label_1, Column1, label_2, preprocessed, game_id are not expected by `DistilBertForSequenceClassification.forward`,  you can safely ignore this message.\n",
      "***** Running Evaluation *****\n",
      "  Num examples = 60000\n",
      "  Batch size = 32\n",
      "D:\\Software\\Anaconda3\\envs\\pytorch\\lib\\site-packages\\sklearn\\metrics\\_classification.py:1248: UndefinedMetricWarning: Precision and F-score are ill-defined and being set to 0.0 in labels with no predicted samples. Use `zero_division` parameter to control this behavior.\n",
      "  _warn_prf(average, modifier, msg_start, len(result))\n",
      "The following columns in the evaluation set don't have a corresponding argument in `DistilBertForSequenceClassification.forward` and have been ignored: content, label_1, Column1, label_2, preprocessed, game_id. If content, label_1, Column1, label_2, preprocessed, game_id are not expected by `DistilBertForSequenceClassification.forward`,  you can safely ignore this message.\n",
      "***** Running Evaluation *****\n",
      "  Num examples = 60000\n",
      "  Batch size = 32\n",
      "D:\\Software\\Anaconda3\\envs\\pytorch\\lib\\site-packages\\sklearn\\metrics\\_classification.py:1248: UndefinedMetricWarning: Precision and F-score are ill-defined and being set to 0.0 in labels with no predicted samples. Use `zero_division` parameter to control this behavior.\n",
      "  _warn_prf(average, modifier, msg_start, len(result))\n",
      "The following columns in the evaluation set don't have a corresponding argument in `DistilBertForSequenceClassification.forward` and have been ignored: content, label_1, Column1, label_2, preprocessed, game_id. If content, label_1, Column1, label_2, preprocessed, game_id are not expected by `DistilBertForSequenceClassification.forward`,  you can safely ignore this message.\n",
      "***** Running Evaluation *****\n",
      "  Num examples = 60000\n",
      "  Batch size = 32\n",
      "D:\\Software\\Anaconda3\\envs\\pytorch\\lib\\site-packages\\sklearn\\metrics\\_classification.py:1248: UndefinedMetricWarning: Precision and F-score are ill-defined and being set to 0.0 in labels with no predicted samples. Use `zero_division` parameter to control this behavior.\n",
      "  _warn_prf(average, modifier, msg_start, len(result))\n",
      "The following columns in the evaluation set don't have a corresponding argument in `DistilBertForSequenceClassification.forward` and have been ignored: content, label_1, Column1, label_2, preprocessed, game_id. If content, label_1, Column1, label_2, preprocessed, game_id are not expected by `DistilBertForSequenceClassification.forward`,  you can safely ignore this message.\n",
      "***** Running Evaluation *****\n",
      "  Num examples = 60000\n",
      "  Batch size = 32\n",
      "D:\\Software\\Anaconda3\\envs\\pytorch\\lib\\site-packages\\sklearn\\metrics\\_classification.py:1248: UndefinedMetricWarning: Precision and F-score are ill-defined and being set to 0.0 in labels with no predicted samples. Use `zero_division` parameter to control this behavior.\n",
      "  _warn_prf(average, modifier, msg_start, len(result))\n",
      "The following columns in the evaluation set don't have a corresponding argument in `DistilBertForSequenceClassification.forward` and have been ignored: content, label_1, Column1, label_2, preprocessed, game_id. If content, label_1, Column1, label_2, preprocessed, game_id are not expected by `DistilBertForSequenceClassification.forward`,  you can safely ignore this message.\n",
      "***** Running Evaluation *****\n",
      "  Num examples = 60000\n",
      "  Batch size = 32\n",
      "D:\\Software\\Anaconda3\\envs\\pytorch\\lib\\site-packages\\sklearn\\metrics\\_classification.py:1248: UndefinedMetricWarning: Precision and F-score are ill-defined and being set to 0.0 in labels with no predicted samples. Use `zero_division` parameter to control this behavior.\n",
      "  _warn_prf(average, modifier, msg_start, len(result))\n",
      "Saving model checkpoint to ./sentimentbinaryresults\\checkpoint-6500\n",
      "Configuration saved in ./sentimentbinaryresults\\checkpoint-6500\\config.json\n",
      "Model weights saved in ./sentimentbinaryresults\\checkpoint-6500\\pytorch_model.bin\n",
      "The following columns in the evaluation set don't have a corresponding argument in `DistilBertForSequenceClassification.forward` and have been ignored: content, label_1, Column1, label_2, preprocessed, game_id. If content, label_1, Column1, label_2, preprocessed, game_id are not expected by `DistilBertForSequenceClassification.forward`,  you can safely ignore this message.\n",
      "***** Running Evaluation *****\n",
      "  Num examples = 60000\n",
      "  Batch size = 32\n",
      "D:\\Software\\Anaconda3\\envs\\pytorch\\lib\\site-packages\\sklearn\\metrics\\_classification.py:1248: UndefinedMetricWarning: Precision and F-score are ill-defined and being set to 0.0 in labels with no predicted samples. Use `zero_division` parameter to control this behavior.\n",
      "  _warn_prf(average, modifier, msg_start, len(result))\n",
      "The following columns in the evaluation set don't have a corresponding argument in `DistilBertForSequenceClassification.forward` and have been ignored: content, label_1, Column1, label_2, preprocessed, game_id. If content, label_1, Column1, label_2, preprocessed, game_id are not expected by `DistilBertForSequenceClassification.forward`,  you can safely ignore this message.\n",
      "***** Running Evaluation *****\n",
      "  Num examples = 60000\n",
      "  Batch size = 32\n",
      "D:\\Software\\Anaconda3\\envs\\pytorch\\lib\\site-packages\\sklearn\\metrics\\_classification.py:1248: UndefinedMetricWarning: Precision and F-score are ill-defined and being set to 0.0 in labels with no predicted samples. Use `zero_division` parameter to control this behavior.\n",
      "  _warn_prf(average, modifier, msg_start, len(result))\n"
     ]
    },
    {
     "name": "stderr",
     "output_type": "stream",
     "text": [
      "The following columns in the evaluation set don't have a corresponding argument in `DistilBertForSequenceClassification.forward` and have been ignored: content, label_1, Column1, label_2, preprocessed, game_id. If content, label_1, Column1, label_2, preprocessed, game_id are not expected by `DistilBertForSequenceClassification.forward`,  you can safely ignore this message.\n",
      "***** Running Evaluation *****\n",
      "  Num examples = 60000\n",
      "  Batch size = 32\n",
      "D:\\Software\\Anaconda3\\envs\\pytorch\\lib\\site-packages\\sklearn\\metrics\\_classification.py:1248: UndefinedMetricWarning: Precision and F-score are ill-defined and being set to 0.0 in labels with no predicted samples. Use `zero_division` parameter to control this behavior.\n",
      "  _warn_prf(average, modifier, msg_start, len(result))\n",
      "The following columns in the evaluation set don't have a corresponding argument in `DistilBertForSequenceClassification.forward` and have been ignored: content, label_1, Column1, label_2, preprocessed, game_id. If content, label_1, Column1, label_2, preprocessed, game_id are not expected by `DistilBertForSequenceClassification.forward`,  you can safely ignore this message.\n",
      "***** Running Evaluation *****\n",
      "  Num examples = 60000\n",
      "  Batch size = 32\n",
      "D:\\Software\\Anaconda3\\envs\\pytorch\\lib\\site-packages\\sklearn\\metrics\\_classification.py:1248: UndefinedMetricWarning: Precision and F-score are ill-defined and being set to 0.0 in labels with no predicted samples. Use `zero_division` parameter to control this behavior.\n",
      "  _warn_prf(average, modifier, msg_start, len(result))\n",
      "The following columns in the evaluation set don't have a corresponding argument in `DistilBertForSequenceClassification.forward` and have been ignored: content, label_1, Column1, label_2, preprocessed, game_id. If content, label_1, Column1, label_2, preprocessed, game_id are not expected by `DistilBertForSequenceClassification.forward`,  you can safely ignore this message.\n",
      "***** Running Evaluation *****\n",
      "  Num examples = 60000\n",
      "  Batch size = 32\n",
      "D:\\Software\\Anaconda3\\envs\\pytorch\\lib\\site-packages\\sklearn\\metrics\\_classification.py:1248: UndefinedMetricWarning: Precision and F-score are ill-defined and being set to 0.0 in labels with no predicted samples. Use `zero_division` parameter to control this behavior.\n",
      "  _warn_prf(average, modifier, msg_start, len(result))\n",
      "Saving model checkpoint to ./sentimentbinaryresults\\checkpoint-7000\n",
      "Configuration saved in ./sentimentbinaryresults\\checkpoint-7000\\config.json\n",
      "Model weights saved in ./sentimentbinaryresults\\checkpoint-7000\\pytorch_model.bin\n",
      "The following columns in the evaluation set don't have a corresponding argument in `DistilBertForSequenceClassification.forward` and have been ignored: content, label_1, Column1, label_2, preprocessed, game_id. If content, label_1, Column1, label_2, preprocessed, game_id are not expected by `DistilBertForSequenceClassification.forward`,  you can safely ignore this message.\n",
      "***** Running Evaluation *****\n",
      "  Num examples = 60000\n",
      "  Batch size = 32\n",
      "D:\\Software\\Anaconda3\\envs\\pytorch\\lib\\site-packages\\sklearn\\metrics\\_classification.py:1248: UndefinedMetricWarning: Precision and F-score are ill-defined and being set to 0.0 in labels with no predicted samples. Use `zero_division` parameter to control this behavior.\n",
      "  _warn_prf(average, modifier, msg_start, len(result))\n",
      "The following columns in the evaluation set don't have a corresponding argument in `DistilBertForSequenceClassification.forward` and have been ignored: content, label_1, Column1, label_2, preprocessed, game_id. If content, label_1, Column1, label_2, preprocessed, game_id are not expected by `DistilBertForSequenceClassification.forward`,  you can safely ignore this message.\n",
      "***** Running Evaluation *****\n",
      "  Num examples = 60000\n",
      "  Batch size = 32\n",
      "D:\\Software\\Anaconda3\\envs\\pytorch\\lib\\site-packages\\sklearn\\metrics\\_classification.py:1248: UndefinedMetricWarning: Precision and F-score are ill-defined and being set to 0.0 in labels with no predicted samples. Use `zero_division` parameter to control this behavior.\n",
      "  _warn_prf(average, modifier, msg_start, len(result))\n",
      "The following columns in the evaluation set don't have a corresponding argument in `DistilBertForSequenceClassification.forward` and have been ignored: content, label_1, Column1, label_2, preprocessed, game_id. If content, label_1, Column1, label_2, preprocessed, game_id are not expected by `DistilBertForSequenceClassification.forward`,  you can safely ignore this message.\n",
      "***** Running Evaluation *****\n",
      "  Num examples = 60000\n",
      "  Batch size = 32\n",
      "D:\\Software\\Anaconda3\\envs\\pytorch\\lib\\site-packages\\sklearn\\metrics\\_classification.py:1248: UndefinedMetricWarning: Precision and F-score are ill-defined and being set to 0.0 in labels with no predicted samples. Use `zero_division` parameter to control this behavior.\n",
      "  _warn_prf(average, modifier, msg_start, len(result))\n",
      "The following columns in the evaluation set don't have a corresponding argument in `DistilBertForSequenceClassification.forward` and have been ignored: content, label_1, Column1, label_2, preprocessed, game_id. If content, label_1, Column1, label_2, preprocessed, game_id are not expected by `DistilBertForSequenceClassification.forward`,  you can safely ignore this message.\n",
      "***** Running Evaluation *****\n",
      "  Num examples = 60000\n",
      "  Batch size = 32\n",
      "D:\\Software\\Anaconda3\\envs\\pytorch\\lib\\site-packages\\sklearn\\metrics\\_classification.py:1248: UndefinedMetricWarning: Precision and F-score are ill-defined and being set to 0.0 in labels with no predicted samples. Use `zero_division` parameter to control this behavior.\n",
      "  _warn_prf(average, modifier, msg_start, len(result))\n",
      "The following columns in the evaluation set don't have a corresponding argument in `DistilBertForSequenceClassification.forward` and have been ignored: content, label_1, Column1, label_2, preprocessed, game_id. If content, label_1, Column1, label_2, preprocessed, game_id are not expected by `DistilBertForSequenceClassification.forward`,  you can safely ignore this message.\n",
      "***** Running Evaluation *****\n",
      "  Num examples = 60000\n",
      "  Batch size = 32\n",
      "D:\\Software\\Anaconda3\\envs\\pytorch\\lib\\site-packages\\sklearn\\metrics\\_classification.py:1248: UndefinedMetricWarning: Precision and F-score are ill-defined and being set to 0.0 in labels with no predicted samples. Use `zero_division` parameter to control this behavior.\n",
      "  _warn_prf(average, modifier, msg_start, len(result))\n",
      "Saving model checkpoint to ./sentimentbinaryresults\\checkpoint-7500\n",
      "Configuration saved in ./sentimentbinaryresults\\checkpoint-7500\\config.json\n",
      "Model weights saved in ./sentimentbinaryresults\\checkpoint-7500\\pytorch_model.bin\n",
      "\n",
      "\n",
      "Training completed. Do not forget to share your model on huggingface.co/models =)\n",
      "\n",
      "\n",
      "Loading best model from ./sentimentbinaryresults\\checkpoint-500 (score: 0.49152570962905884).\n"
     ]
    }
   ],
   "source": [
    "training_args = TrainingArguments(\n",
    "    output_dir='./sentimentbinaryresults',          # output directory\n",
    "    learning_rate=3e-4,\n",
    "    num_train_epochs=1,              # total number of training epochs\n",
    "    per_device_train_batch_size=32,  # batch size per device during training\n",
    "    per_device_eval_batch_size=32,   # batch size for evaluation\n",
    "    logging_dir='./logs',            # directory for storing logs\n",
    "    logging_steps=100,\n",
    "    do_train=True,\n",
    "    do_eval=True,\n",
    "    no_cuda=False,\n",
    "    load_best_model_at_end=True,\n",
    "    eval_steps=100,\n",
    "    evaluation_strategy=\"steps\"\n",
    ")\n",
    "\n",
    "trainer = Trainer(\n",
    "    model=model,                         # the instantiated 🤗 Transformers model to be trained\n",
    "    args=training_args,                  # training arguments, defined above\n",
    "    train_dataset=training_dataset,         # training dataset\n",
    "    eval_dataset=validation_dataset,            # evaluation dataset\n",
    "    compute_metrics=compute_metrics\n",
    ")\n",
    "\n",
    "train_out = trainer.train()"
   ]
  },
  {
   "cell_type": "markdown",
   "id": "adf18515",
   "metadata": {},
   "source": [
    "# Confussion matrix"
   ]
  },
  {
   "cell_type": "code",
   "execution_count": 35,
   "id": "c23cc908",
   "metadata": {},
   "outputs": [],
   "source": [
    "from sklearn.metrics import ConfusionMatrixDisplay, confusion_matrix"
   ]
  },
  {
   "cell_type": "markdown",
   "id": "2359feb1",
   "metadata": {},
   "source": [
    "## Validation_dataset"
   ]
  },
  {
   "cell_type": "code",
   "execution_count": 36,
   "id": "3e4fd9ab",
   "metadata": {},
   "outputs": [
    {
     "name": "stderr",
     "output_type": "stream",
     "text": [
      "The following columns in the test set don't have a corresponding argument in `DistilBertForSequenceClassification.forward` and have been ignored: content, label_1, Column1, label_2, preprocessed, game_id. If content, label_1, Column1, label_2, preprocessed, game_id are not expected by `DistilBertForSequenceClassification.forward`,  you can safely ignore this message.\n",
      "***** Running Prediction *****\n",
      "  Num examples = 60000\n",
      "  Batch size = 32\n"
     ]
    },
    {
     "data": {
      "text/html": [],
      "text/plain": [
       "<IPython.core.display.HTML object>"
      ]
     },
     "metadata": {},
     "output_type": "display_data"
    }
   ],
   "source": [
    "y_valid = np.array(validation_dataset[\"label_1\"])\n",
    "preds_output = trainer.predict(validation_dataset)"
   ]
  },
  {
   "cell_type": "code",
   "execution_count": 37,
   "id": "b5ae7403",
   "metadata": {},
   "outputs": [
    {
     "data": {
      "text/plain": [
       "{'test_loss': 0.49152570962905884,\n",
       " 'test_accuracy': 0.8085,\n",
       " 'test_f1': 0.804268520064082,\n",
       " 'test_precision': 0.8362325716862715,\n",
       " 'test_recall': 0.8079341685281807,\n",
       " 'test_runtime': 76.6779,\n",
       " 'test_samples_per_second': 782.494,\n",
       " 'test_steps_per_second': 24.453}"
      ]
     },
     "execution_count": 37,
     "metadata": {},
     "output_type": "execute_result"
    }
   ],
   "source": [
    "preds_output.metrics"
   ]
  },
  {
   "cell_type": "code",
   "execution_count": 38,
   "id": "46155385",
   "metadata": {},
   "outputs": [],
   "source": [
    "y_preds = np.argmax(preds_output.predictions, axis=1)"
   ]
  },
  {
   "cell_type": "code",
   "execution_count": 39,
   "id": "90c85776",
   "metadata": {},
   "outputs": [],
   "source": [
    "def plot_confusion_matrix(y_preds, y_true, labels):\n",
    "    cm = confusion_matrix(y_true, y_preds, normalize=\"true\")\n",
    "    fig, ax = plt.subplots(figsize=(4, 4))\n",
    "    disp = ConfusionMatrixDisplay(confusion_matrix=cm, display_labels=labels)\n",
    "    disp.plot(cmap=\"Blues\", values_format=\".2f\", ax=ax, colorbar=False)\n",
    "    plt.title(\"Normalized confusion matrix\")\n",
    "    plt.show()"
   ]
  },
  {
   "cell_type": "code",
   "execution_count": 40,
   "id": "70fc2ec0",
   "metadata": {},
   "outputs": [
    {
     "data": {
      "image/png": "[encoded data removed]",
      "text/plain": [
       "<Figure size 400x400 with 1 Axes>"
      ]
     },
     "metadata": {},
     "output_type": "display_data"
    }
   ],
   "source": [
    "labels = validation_dataset.features[\"label_1\"].names\n",
    "plot_confusion_matrix(y_preds, y_valid, labels)"
   ]
  },
  {
   "cell_type": "markdown",
   "id": "48cd630e",
   "metadata": {},
   "source": [
    "## Test_dataset_one"
   ]
  },
  {
   "cell_type": "markdown",
   "id": "9f8b50fe",
   "metadata": {},
   "source": [
    "### DistilBERT-base-uncased.1"
   ]
  },
  {
   "cell_type": "code",
   "execution_count": 41,
   "id": "bec559fc",
   "metadata": {},
   "outputs": [
    {
     "name": "stderr",
     "output_type": "stream",
     "text": [
      "The following columns in the test set don't have a corresponding argument in `DistilBertForSequenceClassification.forward` and have been ignored: replace_name, Column1, recommend_labels, hrs_on_second, found_funny, item_count, DistilBERT-base-uncased.1, _id, binarylabel_RoBERTa-large.1, Column2, found_helpful, review_length, recommend, binarylabel_RoBERTa-large, DistilBERT-base-uncased, content, reviwer_num, hrs_at_reviwer_time, reply_count, time. If replace_name, Column1, recommend_labels, hrs_on_second, found_funny, item_count, DistilBERT-base-uncased.1, _id, binarylabel_RoBERTa-large.1, Column2, found_helpful, review_length, recommend, binarylabel_RoBERTa-large, DistilBERT-base-uncased, content, reviwer_num, hrs_at_reviwer_time, reply_count, time are not expected by `DistilBertForSequenceClassification.forward`,  you can safely ignore this message.\n",
      "***** Running Prediction *****\n",
      "  Num examples = 1000\n",
      "  Batch size = 32\n"
     ]
    },
    {
     "data": {
      "text/html": [],
      "text/plain": [
       "<IPython.core.display.HTML object>"
      ]
     },
     "metadata": {},
     "output_type": "display_data"
    }
   ],
   "source": [
    "y_valid = np.array(test_dataset_one[\"DistilBERT-base-uncased.1\"])\n",
    "preds_output = trainer.predict(test_dataset_one)"
   ]
  },
  {
   "cell_type": "code",
   "execution_count": 42,
   "id": "bb14a301",
   "metadata": {},
   "outputs": [
    {
     "data": {
      "text/plain": [
       "{'test_loss': 0.6967101097106934,\n",
       " 'test_accuracy': 0.701,\n",
       " 'test_f1': 0.648968330838543,\n",
       " 'test_precision': 0.7423952858735468,\n",
       " 'test_recall': 0.6561986863711002,\n",
       " 'test_runtime': 1.3647,\n",
       " 'test_samples_per_second': 732.75,\n",
       " 'test_steps_per_second': 23.448}"
      ]
     },
     "execution_count": 42,
     "metadata": {},
     "output_type": "execute_result"
    }
   ],
   "source": [
    "preds_output.metrics"
   ]
  },
  {
   "cell_type": "code",
   "execution_count": 43,
   "id": "228f652b",
   "metadata": {},
   "outputs": [],
   "source": [
    "y_preds = np.argmax(preds_output.predictions, axis=1)"
   ]
  },
  {
   "cell_type": "code",
   "execution_count": 44,
   "id": "e76673d5",
   "metadata": {},
   "outputs": [],
   "source": [
    "def plot_confusion_matrix(y_preds, y_true, labels):\n",
    "    cm = confusion_matrix(y_true, y_preds, normalize=\"true\")\n",
    "    fig, ax = plt.subplots(figsize=(4, 4))\n",
    "    disp = ConfusionMatrixDisplay(confusion_matrix=cm, display_labels=labels)\n",
    "    disp.plot(cmap=\"Blues\", values_format=\".2f\", ax=ax, colorbar=False)\n",
    "    plt.title(\"Normalized confusion matrix\")\n",
    "    plt.show()"
   ]
  },
  {
   "cell_type": "code",
   "execution_count": 45,
   "id": "0da94d20",
   "metadata": {},
   "outputs": [
    {
     "data": {
      "image/png": "[encoded data removed]",
      "text/plain": [
       "<Figure size 400x400 with 1 Axes>"
      ]
     },
     "metadata": {},
     "output_type": "display_data"
    }
   ],
   "source": [
    "labels = validation_dataset.features[\"label_1\"].names\n",
    "plot_confusion_matrix(y_preds, y_valid, labels)"
   ]
  },
  {
   "cell_type": "markdown",
   "id": "9cfd5d99",
   "metadata": {},
   "source": [
    "### binarylabel_RoBERTa-large.1"
   ]
  },
  {
   "cell_type": "code",
   "execution_count": 46,
   "id": "7d0f1088",
   "metadata": {},
   "outputs": [
    {
     "name": "stderr",
     "output_type": "stream",
     "text": [
      "The following columns in the test set don't have a corresponding argument in `DistilBertForSequenceClassification.forward` and have been ignored: replace_name, Column1, recommend_labels, hrs_on_second, found_funny, item_count, DistilBERT-base-uncased.1, _id, binarylabel_RoBERTa-large.1, Column2, found_helpful, review_length, recommend, binarylabel_RoBERTa-large, DistilBERT-base-uncased, content, reviwer_num, hrs_at_reviwer_time, reply_count, time. If replace_name, Column1, recommend_labels, hrs_on_second, found_funny, item_count, DistilBERT-base-uncased.1, _id, binarylabel_RoBERTa-large.1, Column2, found_helpful, review_length, recommend, binarylabel_RoBERTa-large, DistilBERT-base-uncased, content, reviwer_num, hrs_at_reviwer_time, reply_count, time are not expected by `DistilBertForSequenceClassification.forward`,  you can safely ignore this message.\n",
      "***** Running Prediction *****\n",
      "  Num examples = 1000\n",
      "  Batch size = 32\n"
     ]
    },
    {
     "data": {
      "text/html": [],
      "text/plain": [
       "<IPython.core.display.HTML object>"
      ]
     },
     "metadata": {},
     "output_type": "display_data"
    }
   ],
   "source": [
    "y_valid = np.array(test_dataset_one[\"binarylabel_RoBERTa-large.1\"])\n",
    "preds_output = trainer.predict(test_dataset_one)"
   ]
  },
  {
   "cell_type": "code",
   "execution_count": 47,
   "id": "40ae1da0",
   "metadata": {},
   "outputs": [
    {
     "data": {
      "text/plain": [
       "{'test_loss': 0.6967101097106934,\n",
       " 'test_accuracy': 0.701,\n",
       " 'test_f1': 0.648968330838543,\n",
       " 'test_precision': 0.7423952858735468,\n",
       " 'test_recall': 0.6561986863711002,\n",
       " 'test_runtime': 1.3056,\n",
       " 'test_samples_per_second': 765.914,\n",
       " 'test_steps_per_second': 24.509}"
      ]
     },
     "execution_count": 47,
     "metadata": {},
     "output_type": "execute_result"
    }
   ],
   "source": [
    "preds_output.metrics"
   ]
  },
  {
   "cell_type": "code",
   "execution_count": 48,
   "id": "9c912c48",
   "metadata": {},
   "outputs": [],
   "source": [
    "y_preds = np.argmax(preds_output.predictions, axis=1)"
   ]
  },
  {
   "cell_type": "code",
   "execution_count": 49,
   "id": "7ae4a4fa",
   "metadata": {},
   "outputs": [],
   "source": [
    "def plot_confusion_matrix(y_preds, y_true, labels):\n",
    "    cm = confusion_matrix(y_true, y_preds, normalize=\"true\")\n",
    "    fig, ax = plt.subplots(figsize=(4, 4))\n",
    "    disp = ConfusionMatrixDisplay(confusion_matrix=cm, display_labels=labels)\n",
    "    disp.plot(cmap=\"Blues\", values_format=\".2f\", ax=ax, colorbar=False)\n",
    "    plt.title(\"Normalized confusion matrix\")\n",
    "    plt.show()"
   ]
  },
  {
   "cell_type": "code",
   "execution_count": 50,
   "id": "d3b70b2f",
   "metadata": {},
   "outputs": [
    {
     "data": {
      "image/png": "[encoded data removed]",
      "text/plain": [
       "<Figure size 400x400 with 1 Axes>"
      ]
     },
     "metadata": {},
     "output_type": "display_data"
    }
   ],
   "source": [
    "labels = validation_dataset.features[\"label_1\"].names\n",
    "plot_confusion_matrix(y_preds, y_valid, labels)"
   ]
  },
  {
   "cell_type": "markdown",
   "id": "d1f07cd5",
   "metadata": {},
   "source": [
    "### Recommendation"
   ]
  },
  {
   "cell_type": "code",
   "execution_count": 51,
   "id": "1ad2a433",
   "metadata": {},
   "outputs": [
    {
     "name": "stderr",
     "output_type": "stream",
     "text": [
      "The following columns in the test set don't have a corresponding argument in `DistilBertForSequenceClassification.forward` and have been ignored: replace_name, Column1, recommend_labels, hrs_on_second, found_funny, item_count, DistilBERT-base-uncased.1, _id, binarylabel_RoBERTa-large.1, Column2, found_helpful, review_length, recommend, binarylabel_RoBERTa-large, DistilBERT-base-uncased, content, reviwer_num, hrs_at_reviwer_time, reply_count, time. If replace_name, Column1, recommend_labels, hrs_on_second, found_funny, item_count, DistilBERT-base-uncased.1, _id, binarylabel_RoBERTa-large.1, Column2, found_helpful, review_length, recommend, binarylabel_RoBERTa-large, DistilBERT-base-uncased, content, reviwer_num, hrs_at_reviwer_time, reply_count, time are not expected by `DistilBertForSequenceClassification.forward`,  you can safely ignore this message.\n",
      "***** Running Prediction *****\n",
      "  Num examples = 1000\n",
      "  Batch size = 32\n"
     ]
    },
    {
     "data": {
      "text/html": [],
      "text/plain": [
       "<IPython.core.display.HTML object>"
      ]
     },
     "metadata": {},
     "output_type": "display_data"
    }
   ],
   "source": [
    "y_valid = np.array(test_dataset_one[\"recommend_labels\"])\n",
    "preds_output = trainer.predict(test_dataset_one)"
   ]
  },
  {
   "cell_type": "code",
   "execution_count": 52,
   "id": "d486c469",
   "metadata": {},
   "outputs": [
    {
     "name": "stderr",
     "output_type": "stream",
     "text": [
      "The following columns in the test set don't have a corresponding argument in `DistilBertForSequenceClassification.forward` and have been ignored: replace_name, Column1, recommend_labels, hrs_on_second, found_funny, item_count, DistilBERT-base-uncased.1, _id, binarylabel_RoBERTa-large.1, Column2, found_helpful, review_length, recommend, binarylabel_RoBERTa-large, DistilBERT-base-uncased, content, reviwer_num, hrs_at_reviwer_time, reply_count, time. If replace_name, Column1, recommend_labels, hrs_on_second, found_funny, item_count, DistilBERT-base-uncased.1, _id, binarylabel_RoBERTa-large.1, Column2, found_helpful, review_length, recommend, binarylabel_RoBERTa-large, DistilBERT-base-uncased, content, reviwer_num, hrs_at_reviwer_time, reply_count, time are not expected by `DistilBertForSequenceClassification.forward`,  you can safely ignore this message.\n",
      "***** Running Prediction *****\n",
      "  Num examples = 1000\n",
      "  Batch size = 32\n"
     ]
    },
    {
     "data": {
      "text/html": [],
      "text/plain": [
       "<IPython.core.display.HTML object>"
      ]
     },
     "metadata": {},
     "output_type": "display_data"
    }
   ],
   "source": [
    "preds_output = trainer.predict(test_dataset_one)"
   ]
  },
  {
   "cell_type": "code",
   "execution_count": 53,
   "id": "934683ef",
   "metadata": {},
   "outputs": [],
   "source": [
    "y_preds = np.argmax(preds_output.predictions, axis=1)"
   ]
  },
  {
   "cell_type": "code",
   "execution_count": 54,
   "id": "b3b361dc",
   "metadata": {},
   "outputs": [],
   "source": [
    "def plot_confusion_matrix(y_preds, y_true, labels):\n",
    "    cm = confusion_matrix(y_true, y_preds, normalize=\"true\")\n",
    "    fig, ax = plt.subplots(figsize=(4, 4))\n",
    "    disp = ConfusionMatrixDisplay(confusion_matrix=cm, display_labels=labels)\n",
    "    disp.plot(cmap=\"Blues\", values_format=\".2f\", ax=ax, colorbar=False)\n",
    "    plt.title(\"Normalized confusion matrix\")\n",
    "    plt.show()"
   ]
  },
  {
   "cell_type": "code",
   "execution_count": 55,
   "id": "5eb7b39b",
   "metadata": {},
   "outputs": [
    {
     "data": {
      "image/png": "[encoded data removed]",
      "text/plain": [
       "<Figure size 400x400 with 1 Axes>"
      ]
     },
     "metadata": {},
     "output_type": "display_data"
    }
   ],
   "source": [
    "labels = validation_dataset.features[\"label_1\"].names\n",
    "plot_confusion_matrix(y_preds, y_valid, labels)"
   ]
  },
  {
   "cell_type": "markdown",
   "id": "de661bb2",
   "metadata": {},
   "source": [
    "## Test_dataset_two"
   ]
  },
  {
   "cell_type": "markdown",
   "id": "462cd516",
   "metadata": {},
   "source": [
    "### DistilBERT-base-uncased.1"
   ]
  },
  {
   "cell_type": "code",
   "execution_count": 56,
   "id": "477a11d5",
   "metadata": {},
   "outputs": [
    {
     "name": "stderr",
     "output_type": "stream",
     "text": [
      "The following columns in the test set don't have a corresponding argument in `DistilBertForSequenceClassification.forward` and have been ignored: replace_name, Column1, recommend_labels, hrs_on_second, found_funny, item_count, DistilBERT-base-uncased.1, _id, binarylabel_RoBERTa-large.1, Column2, found_helpful, review_length, recommend, binarylabel_RoBERTa-large, DistilBERT-base-uncased, content, reviwer_num, hrs_at_reviwer_time, reply_count, time. If replace_name, Column1, recommend_labels, hrs_on_second, found_funny, item_count, DistilBERT-base-uncased.1, _id, binarylabel_RoBERTa-large.1, Column2, found_helpful, review_length, recommend, binarylabel_RoBERTa-large, DistilBERT-base-uncased, content, reviwer_num, hrs_at_reviwer_time, reply_count, time are not expected by `DistilBertForSequenceClassification.forward`,  you can safely ignore this message.\n",
      "***** Running Prediction *****\n",
      "  Num examples = 1000\n",
      "  Batch size = 32\n"
     ]
    },
    {
     "data": {
      "text/html": [],
      "text/plain": [
       "<IPython.core.display.HTML object>"
      ]
     },
     "metadata": {},
     "output_type": "display_data"
    }
   ],
   "source": [
    "y_valid = np.array(test_dataset_two[\"DistilBERT-base-uncased.1\"])\n",
    "preds_output = trainer.predict(test_dataset_two)"
   ]
  },
  {
   "cell_type": "code",
   "execution_count": 57,
   "id": "63d0f674",
   "metadata": {},
   "outputs": [
    {
     "data": {
      "text/plain": [
       "{'test_loss': 0.6326614618301392,\n",
       " 'test_accuracy': 0.733,\n",
       " 'test_f1': 0.702751717527295,\n",
       " 'test_precision': 0.7566941257181161,\n",
       " 'test_recall': 0.7007009958071279,\n",
       " 'test_runtime': 1.2975,\n",
       " 'test_samples_per_second': 770.708,\n",
       " 'test_steps_per_second': 24.663}"
      ]
     },
     "execution_count": 57,
     "metadata": {},
     "output_type": "execute_result"
    }
   ],
   "source": [
    "preds_output.metrics"
   ]
  },
  {
   "cell_type": "code",
   "execution_count": 58,
   "id": "2393e5ac",
   "metadata": {},
   "outputs": [],
   "source": [
    "y_preds = np.argmax(preds_output.predictions, axis=1)"
   ]
  },
  {
   "cell_type": "code",
   "execution_count": 59,
   "id": "dc0e04f0",
   "metadata": {},
   "outputs": [],
   "source": [
    "def plot_confusion_matrix(y_preds, y_true, labels):\n",
    "    cm = confusion_matrix(y_true, y_preds, normalize=\"true\")\n",
    "    fig, ax = plt.subplots(figsize=(4, 4))\n",
    "    disp = ConfusionMatrixDisplay(confusion_matrix=cm, display_labels=labels)\n",
    "    disp.plot(cmap=\"Blues\", values_format=\".2f\", ax=ax, colorbar=False)\n",
    "    plt.title(\"Normalized confusion matrix\")\n",
    "    plt.show()"
   ]
  },
  {
   "cell_type": "code",
   "execution_count": 60,
   "id": "38b99933",
   "metadata": {},
   "outputs": [
    {
     "data": {
      "image/png": "[encoded data removed]",
      "text/plain": [
       "<Figure size 400x400 with 1 Axes>"
      ]
     },
     "metadata": {},
     "output_type": "display_data"
    }
   ],
   "source": [
    "labels = validation_dataset.features[\"label_1\"].names\n",
    "plot_confusion_matrix(y_preds, y_valid, labels)"
   ]
  },
  {
   "cell_type": "markdown",
   "id": "941b0a6b",
   "metadata": {},
   "source": [
    "### binarylabel_RoBERTa-large.1"
   ]
  },
  {
   "cell_type": "code",
   "execution_count": 61,
   "id": "e79e3005",
   "metadata": {},
   "outputs": [
    {
     "name": "stderr",
     "output_type": "stream",
     "text": [
      "The following columns in the test set don't have a corresponding argument in `DistilBertForSequenceClassification.forward` and have been ignored: replace_name, Column1, recommend_labels, hrs_on_second, found_funny, item_count, DistilBERT-base-uncased.1, _id, binarylabel_RoBERTa-large.1, Column2, found_helpful, review_length, recommend, binarylabel_RoBERTa-large, DistilBERT-base-uncased, content, reviwer_num, hrs_at_reviwer_time, reply_count, time. If replace_name, Column1, recommend_labels, hrs_on_second, found_funny, item_count, DistilBERT-base-uncased.1, _id, binarylabel_RoBERTa-large.1, Column2, found_helpful, review_length, recommend, binarylabel_RoBERTa-large, DistilBERT-base-uncased, content, reviwer_num, hrs_at_reviwer_time, reply_count, time are not expected by `DistilBertForSequenceClassification.forward`,  you can safely ignore this message.\n",
      "***** Running Prediction *****\n",
      "  Num examples = 1000\n",
      "  Batch size = 32\n"
     ]
    },
    {
     "data": {
      "text/html": [],
      "text/plain": [
       "<IPython.core.display.HTML object>"
      ]
     },
     "metadata": {},
     "output_type": "display_data"
    }
   ],
   "source": [
    "y_valid = np.array(test_dataset_two[\"binarylabel_RoBERTa-large.1\"])\n",
    "preds_output = trainer.predict(test_dataset_two)"
   ]
  },
  {
   "cell_type": "code",
   "execution_count": 62,
   "id": "3b2074f1",
   "metadata": {},
   "outputs": [
    {
     "data": {
      "text/plain": [
       "{'test_loss': 0.6326614618301392,\n",
       " 'test_accuracy': 0.733,\n",
       " 'test_f1': 0.702751717527295,\n",
       " 'test_precision': 0.7566941257181161,\n",
       " 'test_recall': 0.7007009958071279,\n",
       " 'test_runtime': 1.3038,\n",
       " 'test_samples_per_second': 766.973,\n",
       " 'test_steps_per_second': 24.543}"
      ]
     },
     "execution_count": 62,
     "metadata": {},
     "output_type": "execute_result"
    }
   ],
   "source": [
    "preds_output.metrics"
   ]
  },
  {
   "cell_type": "code",
   "execution_count": 63,
   "id": "c8dd103f",
   "metadata": {},
   "outputs": [],
   "source": [
    "y_preds = np.argmax(preds_output.predictions, axis=1)"
   ]
  },
  {
   "cell_type": "code",
   "execution_count": 64,
   "id": "051d73de",
   "metadata": {},
   "outputs": [],
   "source": [
    "def plot_confusion_matrix(y_preds, y_true, labels):\n",
    "    cm = confusion_matrix(y_true, y_preds, normalize=\"true\")\n",
    "    fig, ax = plt.subplots(figsize=(4, 4))\n",
    "    disp = ConfusionMatrixDisplay(confusion_matrix=cm, display_labels=labels)\n",
    "    disp.plot(cmap=\"Blues\", values_format=\".2f\", ax=ax, colorbar=False)\n",
    "    plt.title(\"Normalized confusion matrix\")\n",
    "    plt.show()"
   ]
  },
  {
   "cell_type": "code",
   "execution_count": 65,
   "id": "d61ae07a",
   "metadata": {},
   "outputs": [
    {
     "data": {
      "image/png": "[encoded data removed]",
      "text/plain": [
       "<Figure size 400x400 with 1 Axes>"
      ]
     },
     "metadata": {},
     "output_type": "display_data"
    }
   ],
   "source": [
    "labels = validation_dataset.features[\"label_1\"].names\n",
    "plot_confusion_matrix(y_preds, y_valid, labels)"
   ]
  },
  {
   "cell_type": "markdown",
   "id": "6c9426de",
   "metadata": {},
   "source": [
    "### Recommendation"
   ]
  },
  {
   "cell_type": "code",
   "execution_count": 66,
   "id": "4dcb80bf",
   "metadata": {},
   "outputs": [
    {
     "name": "stderr",
     "output_type": "stream",
     "text": [
      "The following columns in the test set don't have a corresponding argument in `DistilBertForSequenceClassification.forward` and have been ignored: replace_name, Column1, recommend_labels, hrs_on_second, found_funny, item_count, DistilBERT-base-uncased.1, _id, binarylabel_RoBERTa-large.1, Column2, found_helpful, review_length, recommend, binarylabel_RoBERTa-large, DistilBERT-base-uncased, content, reviwer_num, hrs_at_reviwer_time, reply_count, time. If replace_name, Column1, recommend_labels, hrs_on_second, found_funny, item_count, DistilBERT-base-uncased.1, _id, binarylabel_RoBERTa-large.1, Column2, found_helpful, review_length, recommend, binarylabel_RoBERTa-large, DistilBERT-base-uncased, content, reviwer_num, hrs_at_reviwer_time, reply_count, time are not expected by `DistilBertForSequenceClassification.forward`,  you can safely ignore this message.\n",
      "***** Running Prediction *****\n",
      "  Num examples = 1000\n",
      "  Batch size = 32\n"
     ]
    },
    {
     "data": {
      "text/html": [],
      "text/plain": [
       "<IPython.core.display.HTML object>"
      ]
     },
     "metadata": {},
     "output_type": "display_data"
    }
   ],
   "source": [
    "y_valid = np.array(test_dataset_two[\"recommend_labels\"])\n",
    "preds_output = trainer.predict(test_dataset_one)"
   ]
  },
  {
   "cell_type": "code",
   "execution_count": 67,
   "id": "4e6bf4db",
   "metadata": {},
   "outputs": [
    {
     "data": {
      "text/plain": [
       "{'test_loss': 0.6967101097106934,\n",
       " 'test_accuracy': 0.701,\n",
       " 'test_f1': 0.648968330838543,\n",
       " 'test_precision': 0.7423952858735468,\n",
       " 'test_recall': 0.6561986863711002,\n",
       " 'test_runtime': 1.3024,\n",
       " 'test_samples_per_second': 767.827,\n",
       " 'test_steps_per_second': 24.57}"
      ]
     },
     "execution_count": 67,
     "metadata": {},
     "output_type": "execute_result"
    }
   ],
   "source": [
    "preds_output.metrics"
   ]
  },
  {
   "cell_type": "code",
   "execution_count": 68,
   "id": "3c522667",
   "metadata": {},
   "outputs": [],
   "source": [
    "y_preds = np.argmax(preds_output.predictions, axis=1)"
   ]
  },
  {
   "cell_type": "code",
   "execution_count": 69,
   "id": "ebcdac5e",
   "metadata": {},
   "outputs": [],
   "source": [
    "def plot_confusion_matrix(y_preds, y_true, labels):\n",
    "    cm = confusion_matrix(y_true, y_preds, normalize=\"true\")\n",
    "    fig, ax = plt.subplots(figsize=(4, 4))\n",
    "    disp = ConfusionMatrixDisplay(confusion_matrix=cm, display_labels=labels)\n",
    "    disp.plot(cmap=\"Blues\", values_format=\".2f\", ax=ax, colorbar=False)\n",
    "    plt.title(\"Normalized confusion matrix\")\n",
    "    plt.show()"
   ]
  },
  {
   "cell_type": "code",
   "execution_count": 70,
   "id": "1c1b6344",
   "metadata": {},
   "outputs": [
    {
     "data": {
      "image/png": "[encoded data removed]",
      "text/plain": [
       "<Figure size 400x400 with 1 Axes>"
      ]
     },
     "metadata": {},
     "output_type": "display_data"
    }
   ],
   "source": [
    "labels = validation_dataset.features[\"label_1\"].names\n",
    "plot_confusion_matrix(y_preds, y_valid, labels)"
   ]
  },
  {
   "cell_type": "markdown",
   "id": "230a44b8",
   "metadata": {},
   "source": [
    "## Test_dataset_three"
   ]
  },
  {
   "cell_type": "markdown",
   "id": "e8c626ff",
   "metadata": {},
   "source": [
    "### DistilBERT-base-uncased.1"
   ]
  },
  {
   "cell_type": "code",
   "execution_count": 71,
   "id": "97c928da",
   "metadata": {},
   "outputs": [
    {
     "name": "stderr",
     "output_type": "stream",
     "text": [
      "The following columns in the test set don't have a corresponding argument in `DistilBertForSequenceClassification.forward` and have been ignored: replace_name, Column1, recommend_labels, hrs_on_second, found_funny, item_count, DistilBERT-base-uncased.1, _id, binarylabel_RoBERTa-large.1, Column2, found_helpful, review_length, recommend, binarylabel_RoBERTa-large, DistilBERT-base-uncased, content, reviwer_num, hrs_at_reviwer_time, reply_count, time. If replace_name, Column1, recommend_labels, hrs_on_second, found_funny, item_count, DistilBERT-base-uncased.1, _id, binarylabel_RoBERTa-large.1, Column2, found_helpful, review_length, recommend, binarylabel_RoBERTa-large, DistilBERT-base-uncased, content, reviwer_num, hrs_at_reviwer_time, reply_count, time are not expected by `DistilBertForSequenceClassification.forward`,  you can safely ignore this message.\n",
      "***** Running Prediction *****\n",
      "  Num examples = 1000\n",
      "  Batch size = 32\n"
     ]
    },
    {
     "data": {
      "text/html": [],
      "text/plain": [
       "<IPython.core.display.HTML object>"
      ]
     },
     "metadata": {},
     "output_type": "display_data"
    }
   ],
   "source": [
    "y_valid = np.array(test_dataset_three[\"DistilBERT-base-uncased.1\"])\n",
    "preds_output = trainer.predict(test_dataset_three)"
   ]
  },
  {
   "cell_type": "code",
   "execution_count": 72,
   "id": "4db99199",
   "metadata": {},
   "outputs": [
    {
     "data": {
      "text/plain": [
       "{'test_loss': 0.709813117980957,\n",
       " 'test_accuracy': 0.698,\n",
       " 'test_f1': 0.6874171966083731,\n",
       " 'test_precision': 0.6961786625960465,\n",
       " 'test_recall': 0.6859384561764694,\n",
       " 'test_runtime': 1.3066,\n",
       " 'test_samples_per_second': 765.354,\n",
       " 'test_steps_per_second': 24.491}"
      ]
     },
     "execution_count": 72,
     "metadata": {},
     "output_type": "execute_result"
    }
   ],
   "source": [
    "preds_output.metrics"
   ]
  },
  {
   "cell_type": "code",
   "execution_count": 73,
   "id": "f8f94a9a",
   "metadata": {},
   "outputs": [],
   "source": [
    "y_preds = np.argmax(preds_output.predictions, axis=1)"
   ]
  },
  {
   "cell_type": "code",
   "execution_count": 74,
   "id": "620df5bb",
   "metadata": {},
   "outputs": [],
   "source": [
    "def plot_confusion_matrix(y_preds, y_true, labels):\n",
    "    cm = confusion_matrix(y_true, y_preds, normalize=\"true\")\n",
    "    fig, ax = plt.subplots(figsize=(4, 4))\n",
    "    disp = ConfusionMatrixDisplay(confusion_matrix=cm, display_labels=labels)\n",
    "    disp.plot(cmap=\"Blues\", values_format=\".2f\", ax=ax, colorbar=False)\n",
    "    plt.title(\"Normalized confusion matrix\")\n",
    "    plt.show()"
   ]
  },
  {
   "cell_type": "code",
   "execution_count": 75,
   "id": "8e51bd32",
   "metadata": {},
   "outputs": [
    {
     "data": {
      "image/png": "[encoded data removed]",
      "text/plain": [
       "<Figure size 400x400 with 1 Axes>"
      ]
     },
     "metadata": {},
     "output_type": "display_data"
    }
   ],
   "source": [
    "labels = validation_dataset.features[\"label_1\"].names\n",
    "plot_confusion_matrix(y_preds, y_valid, labels)"
   ]
  },
  {
   "cell_type": "markdown",
   "id": "1b92f121",
   "metadata": {},
   "source": [
    "### binarylabel_RoBERTa"
   ]
  },
  {
   "cell_type": "code",
   "execution_count": 76,
   "id": "a17386b7",
   "metadata": {},
   "outputs": [
    {
     "name": "stderr",
     "output_type": "stream",
     "text": [
      "The following columns in the test set don't have a corresponding argument in `DistilBertForSequenceClassification.forward` and have been ignored: replace_name, Column1, recommend_labels, hrs_on_second, found_funny, item_count, DistilBERT-base-uncased.1, _id, binarylabel_RoBERTa-large.1, Column2, found_helpful, review_length, recommend, binarylabel_RoBERTa-large, DistilBERT-base-uncased, content, reviwer_num, hrs_at_reviwer_time, reply_count, time. If replace_name, Column1, recommend_labels, hrs_on_second, found_funny, item_count, DistilBERT-base-uncased.1, _id, binarylabel_RoBERTa-large.1, Column2, found_helpful, review_length, recommend, binarylabel_RoBERTa-large, DistilBERT-base-uncased, content, reviwer_num, hrs_at_reviwer_time, reply_count, time are not expected by `DistilBertForSequenceClassification.forward`,  you can safely ignore this message.\n",
      "***** Running Prediction *****\n",
      "  Num examples = 1000\n",
      "  Batch size = 32\n"
     ]
    },
    {
     "data": {
      "text/html": [],
      "text/plain": [
       "<IPython.core.display.HTML object>"
      ]
     },
     "metadata": {},
     "output_type": "display_data"
    }
   ],
   "source": [
    "y_valid = np.array(test_dataset_three[\"binarylabel_RoBERTa-large.1\"])\n",
    "preds_output = trainer.predict(test_dataset_three)"
   ]
  },
  {
   "cell_type": "code",
   "execution_count": 77,
   "id": "7d86e50c",
   "metadata": {},
   "outputs": [
    {
     "data": {
      "text/plain": [
       "{'test_loss': 0.709813117980957,\n",
       " 'test_accuracy': 0.698,\n",
       " 'test_f1': 0.6874171966083731,\n",
       " 'test_precision': 0.6961786625960465,\n",
       " 'test_recall': 0.6859384561764694,\n",
       " 'test_runtime': 1.302,\n",
       " 'test_samples_per_second': 768.069,\n",
       " 'test_steps_per_second': 24.578}"
      ]
     },
     "execution_count": 77,
     "metadata": {},
     "output_type": "execute_result"
    }
   ],
   "source": [
    "preds_output.metrics"
   ]
  },
  {
   "cell_type": "code",
   "execution_count": 78,
   "id": "f021b04a",
   "metadata": {},
   "outputs": [],
   "source": [
    "y_preds = np.argmax(preds_output.predictions, axis=1)"
   ]
  },
  {
   "cell_type": "code",
   "execution_count": 79,
   "id": "2a504148",
   "metadata": {},
   "outputs": [],
   "source": [
    "def plot_confusion_matrix(y_preds, y_true, labels):\n",
    "    cm = confusion_matrix(y_true, y_preds, normalize=\"true\")\n",
    "    fig, ax = plt.subplots(figsize=(4, 4))\n",
    "    disp = ConfusionMatrixDisplay(confusion_matrix=cm, display_labels=labels)\n",
    "    disp.plot(cmap=\"Blues\", values_format=\".2f\", ax=ax, colorbar=False)\n",
    "    plt.title(\"Normalized confusion matrix\")\n",
    "    plt.show()"
   ]
  },
  {
   "cell_type": "code",
   "execution_count": 80,
   "id": "96d68728",
   "metadata": {},
   "outputs": [
    {
     "data": {
      "image/png": "[encoded data removed]",
      "text/plain": [
       "<Figure size 400x400 with 1 Axes>"
      ]
     },
     "metadata": {},
     "output_type": "display_data"
    }
   ],
   "source": [
    "labels = validation_dataset.features[\"label_1\"].names\n",
    "plot_confusion_matrix(y_preds, y_valid, labels)"
   ]
  },
  {
   "cell_type": "markdown",
   "id": "6c94ab6e",
   "metadata": {},
   "source": [
    "### Recommendation"
   ]
  },
  {
   "cell_type": "code",
   "execution_count": 81,
   "id": "bfc1d434",
   "metadata": {},
   "outputs": [
    {
     "name": "stderr",
     "output_type": "stream",
     "text": [
      "The following columns in the test set don't have a corresponding argument in `DistilBertForSequenceClassification.forward` and have been ignored: replace_name, Column1, recommend_labels, hrs_on_second, found_funny, item_count, DistilBERT-base-uncased.1, _id, binarylabel_RoBERTa-large.1, Column2, found_helpful, review_length, recommend, binarylabel_RoBERTa-large, DistilBERT-base-uncased, content, reviwer_num, hrs_at_reviwer_time, reply_count, time. If replace_name, Column1, recommend_labels, hrs_on_second, found_funny, item_count, DistilBERT-base-uncased.1, _id, binarylabel_RoBERTa-large.1, Column2, found_helpful, review_length, recommend, binarylabel_RoBERTa-large, DistilBERT-base-uncased, content, reviwer_num, hrs_at_reviwer_time, reply_count, time are not expected by `DistilBertForSequenceClassification.forward`,  you can safely ignore this message.\n",
      "***** Running Prediction *****\n",
      "  Num examples = 1000\n",
      "  Batch size = 32\n"
     ]
    },
    {
     "data": {
      "text/html": [],
      "text/plain": [
       "<IPython.core.display.HTML object>"
      ]
     },
     "metadata": {},
     "output_type": "display_data"
    }
   ],
   "source": [
    "y_valid = np.array(test_dataset_three[\"recommend_labels\"])\n",
    "preds_output = trainer.predict(test_dataset_three)"
   ]
  },
  {
   "cell_type": "code",
   "execution_count": 82,
   "id": "c0a13c35",
   "metadata": {},
   "outputs": [
    {
     "data": {
      "text/plain": [
       "{'test_loss': 0.709813117980957,\n",
       " 'test_accuracy': 0.698,\n",
       " 'test_f1': 0.6874171966083731,\n",
       " 'test_precision': 0.6961786625960465,\n",
       " 'test_recall': 0.6859384561764694,\n",
       " 'test_runtime': 1.2969,\n",
       " 'test_samples_per_second': 771.047,\n",
       " 'test_steps_per_second': 24.674}"
      ]
     },
     "execution_count": 82,
     "metadata": {},
     "output_type": "execute_result"
    }
   ],
   "source": [
    "preds_output.metrics"
   ]
  },
  {
   "cell_type": "code",
   "execution_count": 83,
   "id": "6fc4c4d2",
   "metadata": {},
   "outputs": [],
   "source": [
    "y_preds = np.argmax(preds_output.predictions, axis=1)"
   ]
  },
  {
   "cell_type": "code",
   "execution_count": 84,
   "id": "66932fe5",
   "metadata": {},
   "outputs": [],
   "source": [
    "def plot_confusion_matrix(y_preds, y_true, labels):\n",
    "    cm = confusion_matrix(y_true, y_preds, normalize=\"true\")\n",
    "    fig, ax = plt.subplots(figsize=(4, 4))\n",
    "    disp = ConfusionMatrixDisplay(confusion_matrix=cm, display_labels=labels)\n",
    "    disp.plot(cmap=\"Blues\", values_format=\".2f\", ax=ax, colorbar=False)\n",
    "    plt.title(\"Normalized confusion matrix\")\n",
    "    plt.show()"
   ]
  },
  {
   "cell_type": "code",
   "execution_count": 85,
   "id": "fb30f02b",
   "metadata": {},
   "outputs": [
    {
     "data": {
      "image/png": "[encoded data removed]",
      "text/plain": [
       "<Figure size 400x400 with 1 Axes>"
      ]
     },
     "metadata": {},
     "output_type": "display_data"
    }
   ],
   "source": [
    "labels = validation_dataset.features[\"label_1\"].names\n",
    "plot_confusion_matrix(y_preds, y_valid, labels)"
   ]
  },
  {
   "cell_type": "markdown",
   "id": "2e0f19a1",
   "metadata": {},
   "source": [
    "## Test_dataset_four"
   ]
  },
  {
   "cell_type": "markdown",
   "id": "3f32bdda",
   "metadata": {},
   "source": [
    "### DistilBERT-base-uncased.1"
   ]
  },
  {
   "cell_type": "code",
   "execution_count": 86,
   "id": "6ea7fbda",
   "metadata": {},
   "outputs": [
    {
     "name": "stderr",
     "output_type": "stream",
     "text": [
      "The following columns in the test set don't have a corresponding argument in `DistilBertForSequenceClassification.forward` and have been ignored: replace_name, Column1, recommend_labels, hrs_on_second, found_funny, item_count, DistilBERT-base-uncased.1, _id, binarylabel_RoBERTa-large.1, Column2, found_helpful, review_length, recommend, binarylabel_RoBERTa-large, DistilBERT-base-uncased, content, reviwer_num, hrs_at_reviwer_time, reply_count, time. If replace_name, Column1, recommend_labels, hrs_on_second, found_funny, item_count, DistilBERT-base-uncased.1, _id, binarylabel_RoBERTa-large.1, Column2, found_helpful, review_length, recommend, binarylabel_RoBERTa-large, DistilBERT-base-uncased, content, reviwer_num, hrs_at_reviwer_time, reply_count, time are not expected by `DistilBertForSequenceClassification.forward`,  you can safely ignore this message.\n",
      "***** Running Prediction *****\n",
      "  Num examples = 1000\n",
      "  Batch size = 32\n"
     ]
    },
    {
     "data": {
      "text/html": [],
      "text/plain": [
       "<IPython.core.display.HTML object>"
      ]
     },
     "metadata": {},
     "output_type": "display_data"
    }
   ],
   "source": [
    "y_valid = np.array(test_dataset_four[\"DistilBERT-base-uncased.1\"])\n",
    "preds_output = trainer.predict(test_dataset_four)"
   ]
  },
  {
   "cell_type": "code",
   "execution_count": 87,
   "id": "75481635",
   "metadata": {},
   "outputs": [
    {
     "data": {
      "text/plain": [
       "{'test_loss': 0.7802667021751404,\n",
       " 'test_accuracy': 0.677,\n",
       " 'test_f1': 0.6767979987492183,\n",
       " 'test_precision': 0.6772433435739887,\n",
       " 'test_recall': 0.6778302208629831,\n",
       " 'test_runtime': 1.3085,\n",
       " 'test_samples_per_second': 764.221,\n",
       " 'test_steps_per_second': 24.455}"
      ]
     },
     "execution_count": 87,
     "metadata": {},
     "output_type": "execute_result"
    }
   ],
   "source": [
    "preds_output.metrics"
   ]
  },
  {
   "cell_type": "code",
   "execution_count": 88,
   "id": "e8bc3a4c",
   "metadata": {},
   "outputs": [],
   "source": [
    "y_preds = np.argmax(preds_output.predictions, axis=1)"
   ]
  },
  {
   "cell_type": "code",
   "execution_count": 89,
   "id": "755bbdf5",
   "metadata": {},
   "outputs": [],
   "source": [
    "def plot_confusion_matrix(y_preds, y_true, labels):\n",
    "    cm = confusion_matrix(y_true, y_preds, normalize=\"true\")\n",
    "    fig, ax = plt.subplots(figsize=(4, 4))\n",
    "    disp = ConfusionMatrixDisplay(confusion_matrix=cm, display_labels=labels)\n",
    "    disp.plot(cmap=\"Blues\", values_format=\".2f\", ax=ax, colorbar=False)\n",
    "    plt.title(\"Normalized confusion matrix\")\n",
    "    plt.show()"
   ]
  },
  {
   "cell_type": "code",
   "execution_count": 90,
   "id": "5217c7a6",
   "metadata": {},
   "outputs": [
    {
     "data": {
      "image/png": "[encoded data removed]",
      "text/plain": [
       "<Figure size 400x400 with 1 Axes>"
      ]
     },
     "metadata": {},
     "output_type": "display_data"
    }
   ],
   "source": [
    "labels = validation_dataset.features[\"label_1\"].names\n",
    "plot_confusion_matrix(y_preds, y_valid, labels)"
   ]
  },
  {
   "cell_type": "markdown",
   "id": "3e501e1f",
   "metadata": {},
   "source": [
    "### binarylabel_RoBERTa"
   ]
  },
  {
   "cell_type": "code",
   "execution_count": 91,
   "id": "bc88aa93",
   "metadata": {},
   "outputs": [
    {
     "name": "stderr",
     "output_type": "stream",
     "text": [
      "The following columns in the test set don't have a corresponding argument in `DistilBertForSequenceClassification.forward` and have been ignored: replace_name, Column1, recommend_labels, hrs_on_second, found_funny, item_count, DistilBERT-base-uncased.1, _id, binarylabel_RoBERTa-large.1, Column2, found_helpful, review_length, recommend, binarylabel_RoBERTa-large, DistilBERT-base-uncased, content, reviwer_num, hrs_at_reviwer_time, reply_count, time. If replace_name, Column1, recommend_labels, hrs_on_second, found_funny, item_count, DistilBERT-base-uncased.1, _id, binarylabel_RoBERTa-large.1, Column2, found_helpful, review_length, recommend, binarylabel_RoBERTa-large, DistilBERT-base-uncased, content, reviwer_num, hrs_at_reviwer_time, reply_count, time are not expected by `DistilBertForSequenceClassification.forward`,  you can safely ignore this message.\n",
      "***** Running Prediction *****\n",
      "  Num examples = 1000\n",
      "  Batch size = 32\n"
     ]
    },
    {
     "data": {
      "text/html": [],
      "text/plain": [
       "<IPython.core.display.HTML object>"
      ]
     },
     "metadata": {},
     "output_type": "display_data"
    }
   ],
   "source": [
    "y_valid = np.array(test_dataset_four[\"binarylabel_RoBERTa-large.1\"])\n",
    "preds_output = trainer.predict(test_dataset_four)"
   ]
  },
  {
   "cell_type": "code",
   "execution_count": 92,
   "id": "8728169e",
   "metadata": {},
   "outputs": [
    {
     "data": {
      "text/plain": [
       "{'test_loss': 0.7802667021751404,\n",
       " 'test_accuracy': 0.677,\n",
       " 'test_f1': 0.6767979987492183,\n",
       " 'test_precision': 0.6772433435739887,\n",
       " 'test_recall': 0.6778302208629831,\n",
       " 'test_runtime': 1.3051,\n",
       " 'test_samples_per_second': 766.236,\n",
       " 'test_steps_per_second': 24.52}"
      ]
     },
     "execution_count": 92,
     "metadata": {},
     "output_type": "execute_result"
    }
   ],
   "source": [
    "preds_output.metrics"
   ]
  },
  {
   "cell_type": "code",
   "execution_count": 93,
   "id": "7ae0b3cb",
   "metadata": {},
   "outputs": [],
   "source": [
    "y_preds = np.argmax(preds_output.predictions, axis=1)"
   ]
  },
  {
   "cell_type": "code",
   "execution_count": 94,
   "id": "efdb9402",
   "metadata": {},
   "outputs": [],
   "source": [
    "def plot_confusion_matrix(y_preds, y_true, labels):\n",
    "    cm = confusion_matrix(y_true, y_preds, normalize=\"true\")\n",
    "    fig, ax = plt.subplots(figsize=(4, 4))\n",
    "    disp = ConfusionMatrixDisplay(confusion_matrix=cm, display_labels=labels)\n",
    "    disp.plot(cmap=\"Blues\", values_format=\".2f\", ax=ax, colorbar=False)\n",
    "    plt.title(\"Normalized confusion matrix\")\n",
    "    plt.show()"
   ]
  },
  {
   "cell_type": "code",
   "execution_count": 95,
   "id": "2be9b988",
   "metadata": {},
   "outputs": [
    {
     "data": {
      "image/png": "[encoded data removed]",
      "text/plain": [
       "<Figure size 400x400 with 1 Axes>"
      ]
     },
     "metadata": {},
     "output_type": "display_data"
    }
   ],
   "source": [
    "labels = validation_dataset.features[\"label_1\"].names\n",
    "plot_confusion_matrix(y_preds, y_valid, labels)"
   ]
  },
  {
   "cell_type": "markdown",
   "id": "d0bc6fb2",
   "metadata": {},
   "source": [
    "### Recommendation"
   ]
  },
  {
   "cell_type": "code",
   "execution_count": 96,
   "id": "40c6dac8",
   "metadata": {},
   "outputs": [
    {
     "name": "stderr",
     "output_type": "stream",
     "text": [
      "The following columns in the test set don't have a corresponding argument in `DistilBertForSequenceClassification.forward` and have been ignored: replace_name, Column1, recommend_labels, hrs_on_second, found_funny, item_count, DistilBERT-base-uncased.1, _id, binarylabel_RoBERTa-large.1, Column2, found_helpful, review_length, recommend, binarylabel_RoBERTa-large, DistilBERT-base-uncased, content, reviwer_num, hrs_at_reviwer_time, reply_count, time. If replace_name, Column1, recommend_labels, hrs_on_second, found_funny, item_count, DistilBERT-base-uncased.1, _id, binarylabel_RoBERTa-large.1, Column2, found_helpful, review_length, recommend, binarylabel_RoBERTa-large, DistilBERT-base-uncased, content, reviwer_num, hrs_at_reviwer_time, reply_count, time are not expected by `DistilBertForSequenceClassification.forward`,  you can safely ignore this message.\n",
      "***** Running Prediction *****\n",
      "  Num examples = 1000\n",
      "  Batch size = 32\n"
     ]
    },
    {
     "data": {
      "text/html": [],
      "text/plain": [
       "<IPython.core.display.HTML object>"
      ]
     },
     "metadata": {},
     "output_type": "display_data"
    }
   ],
   "source": [
    "y_valid = np.array(test_dataset_four[\"recommend_labels\"])\n",
    "preds_output = trainer.predict(test_dataset_four)"
   ]
  },
  {
   "cell_type": "code",
   "execution_count": 97,
   "id": "dcf2fdfe",
   "metadata": {},
   "outputs": [
    {
     "data": {
      "text/plain": [
       "{'test_loss': 0.7802667021751404,\n",
       " 'test_accuracy': 0.677,\n",
       " 'test_f1': 0.6767979987492183,\n",
       " 'test_precision': 0.6772433435739887,\n",
       " 'test_recall': 0.6778302208629831,\n",
       " 'test_runtime': 1.312,\n",
       " 'test_samples_per_second': 762.21,\n",
       " 'test_steps_per_second': 24.391}"
      ]
     },
     "execution_count": 97,
     "metadata": {},
     "output_type": "execute_result"
    }
   ],
   "source": [
    "preds_output.metrics"
   ]
  },
  {
   "cell_type": "code",
   "execution_count": 98,
   "id": "c7c5dfb2",
   "metadata": {},
   "outputs": [],
   "source": [
    "y_preds = np.argmax(preds_output.predictions, axis=1)"
   ]
  },
  {
   "cell_type": "code",
   "execution_count": 99,
   "id": "bf8057f9",
   "metadata": {},
   "outputs": [],
   "source": [
    "def plot_confusion_matrix(y_preds, y_true, labels):\n",
    "    cm = confusion_matrix(y_true, y_preds, normalize=\"true\")\n",
    "    fig, ax = plt.subplots(figsize=(4, 4))\n",
    "    disp = ConfusionMatrixDisplay(confusion_matrix=cm, display_labels=labels)\n",
    "    disp.plot(cmap=\"Blues\", values_format=\".2f\", ax=ax, colorbar=False)\n",
    "    plt.title(\"Normalized confusion matrix\")\n",
    "    plt.show()"
   ]
  },
  {
   "cell_type": "code",
   "execution_count": 100,
   "id": "aadc75e9",
   "metadata": {},
   "outputs": [
    {
     "data": {
      "image/png": "[encoded data removed]",
      "text/plain": [
       "<Figure size 400x400 with 1 Axes>"
      ]
     },
     "metadata": {},
     "output_type": "display_data"
    }
   ],
   "source": [
    "labels = validation_dataset.features[\"label_1\"].names\n",
    "plot_confusion_matrix(y_preds, y_valid, labels)"
   ]
  },
  {
   "cell_type": "markdown",
   "id": "03595646",
   "metadata": {},
   "source": [
    "## Test_dataset_five"
   ]
  },
  {
   "cell_type": "markdown",
   "id": "f35c67ce",
   "metadata": {},
   "source": [
    "### DistilBERT-base-uncased.1"
   ]
  },
  {
   "cell_type": "code",
   "execution_count": 101,
   "id": "69f577cd",
   "metadata": {},
   "outputs": [
    {
     "name": "stderr",
     "output_type": "stream",
     "text": [
      "The following columns in the test set don't have a corresponding argument in `DistilBertForSequenceClassification.forward` and have been ignored: replace_name, Column1, recommend_labels, hrs_on_second, found_funny, item_count, DistilBERT-base-uncased.1, _id, binarylabel_RoBERTa-large.1, Column2, found_helpful, review_length, recommend, binarylabel_RoBERTa-large, DistilBERT-base-uncased, content, reviwer_num, hrs_at_reviwer_time, reply_count, time. If replace_name, Column1, recommend_labels, hrs_on_second, found_funny, item_count, DistilBERT-base-uncased.1, _id, binarylabel_RoBERTa-large.1, Column2, found_helpful, review_length, recommend, binarylabel_RoBERTa-large, DistilBERT-base-uncased, content, reviwer_num, hrs_at_reviwer_time, reply_count, time are not expected by `DistilBertForSequenceClassification.forward`,  you can safely ignore this message.\n",
      "***** Running Prediction *****\n",
      "  Num examples = 1000\n",
      "  Batch size = 32\n"
     ]
    },
    {
     "data": {
      "text/html": [],
      "text/plain": [
       "<IPython.core.display.HTML object>"
      ]
     },
     "metadata": {},
     "output_type": "display_data"
    }
   ],
   "source": [
    "y_valid = np.array(test_dataset_five[\"DistilBERT-base-uncased.1\"])\n",
    "preds_output = trainer.predict(test_dataset_five)"
   ]
  },
  {
   "cell_type": "code",
   "execution_count": 102,
   "id": "0c5cdd38",
   "metadata": {},
   "outputs": [
    {
     "data": {
      "text/plain": [
       "{'test_loss': 0.9547708034515381,\n",
       " 'test_accuracy': 0.597,\n",
       " 'test_f1': 0.5923326161219805,\n",
       " 'test_precision': 0.5925021580459653,\n",
       " 'test_recall': 0.5922222222222222,\n",
       " 'test_runtime': 1.3064,\n",
       " 'test_samples_per_second': 765.482,\n",
       " 'test_steps_per_second': 24.495}"
      ]
     },
     "execution_count": 102,
     "metadata": {},
     "output_type": "execute_result"
    }
   ],
   "source": [
    "preds_output.metrics"
   ]
  },
  {
   "cell_type": "code",
   "execution_count": 103,
   "id": "1775cacf",
   "metadata": {},
   "outputs": [],
   "source": [
    "y_preds = np.argmax(preds_output.predictions, axis=1)"
   ]
  },
  {
   "cell_type": "code",
   "execution_count": 104,
   "id": "e81f76f1",
   "metadata": {},
   "outputs": [],
   "source": [
    "def plot_confusion_matrix(y_preds, y_true, labels):\n",
    "    cm = confusion_matrix(y_true, y_preds, normalize=\"true\")\n",
    "    fig, ax = plt.subplots(figsize=(4, 4))\n",
    "    disp = ConfusionMatrixDisplay(confusion_matrix=cm, display_labels=labels)\n",
    "    disp.plot(cmap=\"Blues\", values_format=\".2f\", ax=ax, colorbar=False)\n",
    "    plt.title(\"Normalized confusion matrix\")\n",
    "    plt.show()"
   ]
  },
  {
   "cell_type": "code",
   "execution_count": 105,
   "id": "d216619c",
   "metadata": {},
   "outputs": [
    {
     "data": {
      "image/png": "[encoded data removed]",
      "text/plain": [
       "<Figure size 400x400 with 1 Axes>"
      ]
     },
     "metadata": {},
     "output_type": "display_data"
    }
   ],
   "source": [
    "labels = validation_dataset.features[\"label_1\"].names\n",
    "plot_confusion_matrix(y_preds, y_valid, labels)"
   ]
  },
  {
   "cell_type": "markdown",
   "id": "ee9cc1bf",
   "metadata": {},
   "source": [
    "### binarylabel_RoBERTa"
   ]
  },
  {
   "cell_type": "code",
   "execution_count": 106,
   "id": "a367d2eb",
   "metadata": {},
   "outputs": [
    {
     "name": "stderr",
     "output_type": "stream",
     "text": [
      "The following columns in the test set don't have a corresponding argument in `DistilBertForSequenceClassification.forward` and have been ignored: replace_name, Column1, recommend_labels, hrs_on_second, found_funny, item_count, DistilBERT-base-uncased.1, _id, binarylabel_RoBERTa-large.1, Column2, found_helpful, review_length, recommend, binarylabel_RoBERTa-large, DistilBERT-base-uncased, content, reviwer_num, hrs_at_reviwer_time, reply_count, time. If replace_name, Column1, recommend_labels, hrs_on_second, found_funny, item_count, DistilBERT-base-uncased.1, _id, binarylabel_RoBERTa-large.1, Column2, found_helpful, review_length, recommend, binarylabel_RoBERTa-large, DistilBERT-base-uncased, content, reviwer_num, hrs_at_reviwer_time, reply_count, time are not expected by `DistilBertForSequenceClassification.forward`,  you can safely ignore this message.\n",
      "***** Running Prediction *****\n",
      "  Num examples = 1000\n",
      "  Batch size = 32\n"
     ]
    },
    {
     "data": {
      "text/html": [],
      "text/plain": [
       "<IPython.core.display.HTML object>"
      ]
     },
     "metadata": {},
     "output_type": "display_data"
    }
   ],
   "source": [
    "y_valid = np.array(test_dataset_five[\"binarylabel_RoBERTa-large.1\"])\n",
    "preds_output = trainer.predict(test_dataset_five)"
   ]
  },
  {
   "cell_type": "code",
   "execution_count": 107,
   "id": "7f48eafc",
   "metadata": {},
   "outputs": [
    {
     "data": {
      "text/plain": [
       "{'test_loss': 0.9547708034515381,\n",
       " 'test_accuracy': 0.597,\n",
       " 'test_f1': 0.5923326161219805,\n",
       " 'test_precision': 0.5925021580459653,\n",
       " 'test_recall': 0.5922222222222222,\n",
       " 'test_runtime': 1.3072,\n",
       " 'test_samples_per_second': 765.016,\n",
       " 'test_steps_per_second': 24.48}"
      ]
     },
     "execution_count": 107,
     "metadata": {},
     "output_type": "execute_result"
    }
   ],
   "source": [
    "preds_output.metrics"
   ]
  },
  {
   "cell_type": "code",
   "execution_count": 108,
   "id": "b34b38ff",
   "metadata": {},
   "outputs": [],
   "source": [
    "y_preds = np.argmax(preds_output.predictions, axis=1)"
   ]
  },
  {
   "cell_type": "code",
   "execution_count": 109,
   "id": "eb28af59",
   "metadata": {},
   "outputs": [],
   "source": [
    "def plot_confusion_matrix(y_preds, y_true, labels):\n",
    "    cm = confusion_matrix(y_true, y_preds, normalize=\"true\")\n",
    "    fig, ax = plt.subplots(figsize=(4, 4))\n",
    "    disp = ConfusionMatrixDisplay(confusion_matrix=cm, display_labels=labels)\n",
    "    disp.plot(cmap=\"Blues\", values_format=\".2f\", ax=ax, colorbar=False)\n",
    "    plt.title(\"Normalized confusion matrix\")\n",
    "    plt.show()"
   ]
  },
  {
   "cell_type": "code",
   "execution_count": 110,
   "id": "ae3eae2b",
   "metadata": {},
   "outputs": [
    {
     "data": {
      "image/png": "[encoded data removed]",
      "text/plain": [
       "<Figure size 400x400 with 1 Axes>"
      ]
     },
     "metadata": {},
     "output_type": "display_data"
    }
   ],
   "source": [
    "labels = validation_dataset.features[\"label_1\"].names\n",
    "plot_confusion_matrix(y_preds, y_valid, labels)"
   ]
  },
  {
   "cell_type": "markdown",
   "id": "4545f781",
   "metadata": {},
   "source": [
    "### Recommendation"
   ]
  },
  {
   "cell_type": "code",
   "execution_count": 111,
   "id": "7e1c4536",
   "metadata": {},
   "outputs": [
    {
     "name": "stderr",
     "output_type": "stream",
     "text": [
      "The following columns in the test set don't have a corresponding argument in `DistilBertForSequenceClassification.forward` and have been ignored: replace_name, Column1, recommend_labels, hrs_on_second, found_funny, item_count, DistilBERT-base-uncased.1, _id, binarylabel_RoBERTa-large.1, Column2, found_helpful, review_length, recommend, binarylabel_RoBERTa-large, DistilBERT-base-uncased, content, reviwer_num, hrs_at_reviwer_time, reply_count, time. If replace_name, Column1, recommend_labels, hrs_on_second, found_funny, item_count, DistilBERT-base-uncased.1, _id, binarylabel_RoBERTa-large.1, Column2, found_helpful, review_length, recommend, binarylabel_RoBERTa-large, DistilBERT-base-uncased, content, reviwer_num, hrs_at_reviwer_time, reply_count, time are not expected by `DistilBertForSequenceClassification.forward`,  you can safely ignore this message.\n",
      "***** Running Prediction *****\n",
      "  Num examples = 1000\n",
      "  Batch size = 32\n"
     ]
    },
    {
     "data": {
      "text/html": [],
      "text/plain": [
       "<IPython.core.display.HTML object>"
      ]
     },
     "metadata": {},
     "output_type": "display_data"
    }
   ],
   "source": [
    "y_valid = np.array(test_dataset_five[\"recommend_labels\"])\n",
    "preds_output = trainer.predict(test_dataset_five)"
   ]
  },
  {
   "cell_type": "code",
   "execution_count": 112,
   "id": "3b6faa7f",
   "metadata": {},
   "outputs": [
    {
     "data": {
      "text/plain": [
       "{'test_loss': 0.9547708034515381,\n",
       " 'test_accuracy': 0.597,\n",
       " 'test_f1': 0.5923326161219805,\n",
       " 'test_precision': 0.5925021580459653,\n",
       " 'test_recall': 0.5922222222222222,\n",
       " 'test_runtime': 1.3105,\n",
       " 'test_samples_per_second': 763.077,\n",
       " 'test_steps_per_second': 24.418}"
      ]
     },
     "execution_count": 112,
     "metadata": {},
     "output_type": "execute_result"
    }
   ],
   "source": [
    "preds_output.metrics"
   ]
  },
  {
   "cell_type": "code",
   "execution_count": 113,
   "id": "cb24f024",
   "metadata": {},
   "outputs": [],
   "source": [
    "y_preds = np.argmax(preds_output.predictions, axis=1)"
   ]
  },
  {
   "cell_type": "code",
   "execution_count": 114,
   "id": "2c92850f",
   "metadata": {},
   "outputs": [],
   "source": [
    "def plot_confusion_matrix(y_preds, y_true, labels):\n",
    "    cm = confusion_matrix(y_true, y_preds, normalize=\"true\")\n",
    "    fig, ax = plt.subplots(figsize=(4, 4))\n",
    "    disp = ConfusionMatrixDisplay(confusion_matrix=cm, display_labels=labels)\n",
    "    disp.plot(cmap=\"Blues\", values_format=\".2f\", ax=ax, colorbar=False)\n",
    "    plt.title(\"Normalized confusion matrix\")\n",
    "    plt.show()"
   ]
  },
  {
   "cell_type": "code",
   "execution_count": 115,
   "id": "9cad7e93",
   "metadata": {},
   "outputs": [
    {
     "data": {
      "image/png": "[encoded data removed]",
      "text/plain": [
       "<Figure size 400x400 with 1 Axes>"
      ]
     },
     "metadata": {},
     "output_type": "display_data"
    }
   ],
   "source": [
    "labels = validation_dataset.features[\"label_1\"].names\n",
    "plot_confusion_matrix(y_preds, y_valid, labels)"
   ]
  }
 ],
 "metadata": {
  "kernelspec": {
   "display_name": "Python 3 (ipykernel)",
   "language": "python",
   "name": "python3"
  },
  "language_info": {
   "codemirror_mode": {
    "name": "ipython",
    "version": 3
   },
   "file_extension": ".py",
   "mimetype": "text/x-python",
   "name": "python",
   "nbconvert_exporter": "python",
   "pygments_lexer": "ipython3",
   "version": "3.10.4"
  },
  "toc": {
   "base_numbering": 1,
   "nav_menu": {},
   "number_sections": true,
   "sideBar": true,
   "skip_h1_title": false,
   "title_cell": "Table of Contents",
   "title_sidebar": "Contents",
   "toc_cell": false,
   "toc_position": {
    "height": "calc(100% - 180px)",
    "left": "10px",
    "top": "150px",
    "width": "311.594px"
   },
   "toc_section_display": true,
   "toc_window_display": true
  }
 },
 "nbformat": 4,
 "nbformat_minor": 5
}
